{
 "cells": [
  {
   "cell_type": "code",
   "execution_count": 2,
   "metadata": {},
   "outputs": [],
   "source": [
    "import os\n",
    "import pandas as pd\n",
    "import numpy as np"
   ]
  },
  {
   "cell_type": "code",
   "execution_count": 3,
   "metadata": {},
   "outputs": [],
   "source": [
    "base_dir = '/Users/jinseok/jupyter/투빅스/W02/로지스틱회귀분석/assignment1'\n",
    "excel_file = 'sampled_data.csv'\n",
    "\n",
    "excel_dir = os.path.join(base_dir, excel_file)"
   ]
  },
  {
   "cell_type": "code",
   "execution_count": 4,
   "metadata": {},
   "outputs": [],
   "source": [
    "df = pd.read_csv( excel_dir, encoding = 'cp949')"
   ]
  },
  {
   "cell_type": "code",
   "execution_count": 5,
   "metadata": {},
   "outputs": [
    {
     "data": {
      "text/html": [
       "<div>\n",
       "<style scoped>\n",
       "    .dataframe tbody tr th:only-of-type {\n",
       "        vertical-align: middle;\n",
       "    }\n",
       "\n",
       "    .dataframe tbody tr th {\n",
       "        vertical-align: top;\n",
       "    }\n",
       "\n",
       "    .dataframe thead th {\n",
       "        text-align: right;\n",
       "    }\n",
       "</style>\n",
       "<table border=\"1\" class=\"dataframe\">\n",
       "  <thead>\n",
       "    <tr style=\"text-align: right;\">\n",
       "      <th></th>\n",
       "      <th>Time</th>\n",
       "      <th>V1</th>\n",
       "      <th>V2</th>\n",
       "      <th>V3</th>\n",
       "      <th>V4</th>\n",
       "      <th>V5</th>\n",
       "      <th>V6</th>\n",
       "      <th>V7</th>\n",
       "      <th>V8</th>\n",
       "      <th>V9</th>\n",
       "      <th>...</th>\n",
       "      <th>V21</th>\n",
       "      <th>V22</th>\n",
       "      <th>V23</th>\n",
       "      <th>V24</th>\n",
       "      <th>V25</th>\n",
       "      <th>V26</th>\n",
       "      <th>V27</th>\n",
       "      <th>V28</th>\n",
       "      <th>Amount</th>\n",
       "      <th>Class</th>\n",
       "    </tr>\n",
       "  </thead>\n",
       "  <tbody>\n",
       "    <tr>\n",
       "      <th>0</th>\n",
       "      <td>136330</td>\n",
       "      <td>2.108286</td>\n",
       "      <td>-0.020359</td>\n",
       "      <td>-2.234273</td>\n",
       "      <td>-0.124080</td>\n",
       "      <td>0.559843</td>\n",
       "      <td>-1.315913</td>\n",
       "      <td>0.631887</td>\n",
       "      <td>-0.385490</td>\n",
       "      <td>0.150628</td>\n",
       "      <td>...</td>\n",
       "      <td>0.162940</td>\n",
       "      <td>0.519705</td>\n",
       "      <td>-0.091751</td>\n",
       "      <td>-0.379542</td>\n",
       "      <td>0.418822</td>\n",
       "      <td>0.248646</td>\n",
       "      <td>-0.098857</td>\n",
       "      <td>-0.094773</td>\n",
       "      <td>7.70</td>\n",
       "      <td>0</td>\n",
       "    </tr>\n",
       "    <tr>\n",
       "      <th>1</th>\n",
       "      <td>116819</td>\n",
       "      <td>2.080143</td>\n",
       "      <td>-0.075408</td>\n",
       "      <td>-1.359381</td>\n",
       "      <td>0.261263</td>\n",
       "      <td>0.232201</td>\n",
       "      <td>-0.797886</td>\n",
       "      <td>0.233487</td>\n",
       "      <td>-0.330165</td>\n",
       "      <td>0.493154</td>\n",
       "      <td>...</td>\n",
       "      <td>-0.317765</td>\n",
       "      <td>-0.784150</td>\n",
       "      <td>0.233078</td>\n",
       "      <td>-0.636937</td>\n",
       "      <td>-0.191137</td>\n",
       "      <td>0.234986</td>\n",
       "      <td>-0.070648</td>\n",
       "      <td>-0.062794</td>\n",
       "      <td>17.99</td>\n",
       "      <td>0</td>\n",
       "    </tr>\n",
       "    <tr>\n",
       "      <th>2</th>\n",
       "      <td>27917</td>\n",
       "      <td>1.152650</td>\n",
       "      <td>0.204938</td>\n",
       "      <td>0.441832</td>\n",
       "      <td>1.211595</td>\n",
       "      <td>-0.254895</td>\n",
       "      <td>-0.383380</td>\n",
       "      <td>-0.004286</td>\n",
       "      <td>-0.019590</td>\n",
       "      <td>0.085094</td>\n",
       "      <td>...</td>\n",
       "      <td>0.066674</td>\n",
       "      <td>0.209828</td>\n",
       "      <td>-0.054351</td>\n",
       "      <td>0.058103</td>\n",
       "      <td>0.515330</td>\n",
       "      <td>-0.299402</td>\n",
       "      <td>0.032551</td>\n",
       "      <td>0.022865</td>\n",
       "      <td>21.00</td>\n",
       "      <td>0</td>\n",
       "    </tr>\n",
       "    <tr>\n",
       "      <th>3</th>\n",
       "      <td>97443</td>\n",
       "      <td>-0.389692</td>\n",
       "      <td>0.410148</td>\n",
       "      <td>0.616187</td>\n",
       "      <td>-0.686644</td>\n",
       "      <td>1.040312</td>\n",
       "      <td>-0.322199</td>\n",
       "      <td>0.523625</td>\n",
       "      <td>-0.037453</td>\n",
       "      <td>1.319237</td>\n",
       "      <td>...</td>\n",
       "      <td>0.116692</td>\n",
       "      <td>0.685267</td>\n",
       "      <td>-0.182303</td>\n",
       "      <td>0.767857</td>\n",
       "      <td>-0.242738</td>\n",
       "      <td>0.009678</td>\n",
       "      <td>0.115370</td>\n",
       "      <td>0.176041</td>\n",
       "      <td>6.60</td>\n",
       "      <td>0</td>\n",
       "    </tr>\n",
       "    <tr>\n",
       "      <th>4</th>\n",
       "      <td>17920</td>\n",
       "      <td>-1.306986</td>\n",
       "      <td>0.183306</td>\n",
       "      <td>3.164803</td>\n",
       "      <td>0.810135</td>\n",
       "      <td>1.529576</td>\n",
       "      <td>2.388322</td>\n",
       "      <td>0.551279</td>\n",
       "      <td>-0.054401</td>\n",
       "      <td>1.675481</td>\n",
       "      <td>...</td>\n",
       "      <td>-0.203993</td>\n",
       "      <td>0.556523</td>\n",
       "      <td>0.146513</td>\n",
       "      <td>-1.128693</td>\n",
       "      <td>-0.633623</td>\n",
       "      <td>-0.454903</td>\n",
       "      <td>-0.826329</td>\n",
       "      <td>-0.826186</td>\n",
       "      <td>4.95</td>\n",
       "      <td>0</td>\n",
       "    </tr>\n",
       "  </tbody>\n",
       "</table>\n",
       "<p>5 rows × 31 columns</p>\n",
       "</div>"
      ],
      "text/plain": [
       "     Time        V1        V2        V3        V4        V5        V6  \\\n",
       "0  136330  2.108286 -0.020359 -2.234273 -0.124080  0.559843 -1.315913   \n",
       "1  116819  2.080143 -0.075408 -1.359381  0.261263  0.232201 -0.797886   \n",
       "2   27917  1.152650  0.204938  0.441832  1.211595 -0.254895 -0.383380   \n",
       "3   97443 -0.389692  0.410148  0.616187 -0.686644  1.040312 -0.322199   \n",
       "4   17920 -1.306986  0.183306  3.164803  0.810135  1.529576  2.388322   \n",
       "\n",
       "         V7        V8        V9  ...       V21       V22       V23       V24  \\\n",
       "0  0.631887 -0.385490  0.150628  ...  0.162940  0.519705 -0.091751 -0.379542   \n",
       "1  0.233487 -0.330165  0.493154  ... -0.317765 -0.784150  0.233078 -0.636937   \n",
       "2 -0.004286 -0.019590  0.085094  ...  0.066674  0.209828 -0.054351  0.058103   \n",
       "3  0.523625 -0.037453  1.319237  ...  0.116692  0.685267 -0.182303  0.767857   \n",
       "4  0.551279 -0.054401  1.675481  ... -0.203993  0.556523  0.146513 -1.128693   \n",
       "\n",
       "        V25       V26       V27       V28  Amount  Class  \n",
       "0  0.418822  0.248646 -0.098857 -0.094773    7.70      0  \n",
       "1 -0.191137  0.234986 -0.070648 -0.062794   17.99      0  \n",
       "2  0.515330 -0.299402  0.032551  0.022865   21.00      0  \n",
       "3 -0.242738  0.009678  0.115370  0.176041    6.60      0  \n",
       "4 -0.633623 -0.454903 -0.826329 -0.826186    4.95      0  \n",
       "\n",
       "[5 rows x 31 columns]"
      ]
     },
     "execution_count": 5,
     "metadata": {},
     "output_type": "execute_result"
    }
   ],
   "source": [
    "df.head()"
   ]
  },
  {
   "cell_type": "code",
   "execution_count": 6,
   "metadata": {},
   "outputs": [
    {
     "data": {
      "text/plain": [
       "0    28428\n",
       "1       52\n",
       "Name: Class, dtype: int64"
      ]
     },
     "execution_count": 6,
     "metadata": {},
     "output_type": "execute_result"
    }
   ],
   "source": [
    "df['Class'].value_counts()"
   ]
  },
  {
   "cell_type": "code",
   "execution_count": 7,
   "metadata": {},
   "outputs": [],
   "source": [
    "from sklearn.linear_model import LogisticRegression\n",
    "from sklearn.model_selection import train_test_split\n",
    "from sklearn.preprocessing import StandardScaler\n",
    "from sklearn.metrics import * # matirx\n",
    "from sklearn.datasets import make_classification\n",
    "from sklearn.metrics import classification_report\n",
    "from sklearn.metrics import roc_curve"
   ]
  },
  {
   "cell_type": "markdown",
   "metadata": {},
   "source": [
    "## 1. 데이터 분할"
   ]
  },
  {
   "cell_type": "code",
   "execution_count": 8,
   "metadata": {},
   "outputs": [],
   "source": [
    "# train, test 데이터 분할\n",
    "# train 과 test = 8 : 2\n",
    "train, test = train_test_split(df, test_size=0.2, random_state=0)"
   ]
  },
  {
   "cell_type": "code",
   "execution_count": 9,
   "metadata": {},
   "outputs": [],
   "source": [
    "# train, test 로 분할한 뒤 스케일링 진행\n",
    "# 먼저 train\n",
    "scaler = StandardScaler()\n",
    "x_train_raw = scaler.fit_transform(train.drop('Class', axis=1))\n",
    "x_train = pd.DataFrame(x_train_raw, columns = train.columns[:-1])\n",
    "y_train = train.Class"
   ]
  },
  {
   "cell_type": "code",
   "execution_count": 10,
   "metadata": {},
   "outputs": [],
   "source": [
    "# 다음 test\n",
    "# 여기서는 x.train 으로 fit_transform 한 것으로 transform 해줘야함\n",
    "x_test_raw = scaler.transform(test.drop('Class', axis=1))\n",
    "x_test = pd.DataFrame(x_test_raw, columns = test.columns[:-1])\n",
    "y_test = test.Class"
   ]
  },
  {
   "cell_type": "code",
   "execution_count": 11,
   "metadata": {},
   "outputs": [
    {
     "data": {
      "text/plain": [
       "((22784, 30), (5696, 30), (22784,), (5696,))"
      ]
     },
     "execution_count": 11,
     "metadata": {},
     "output_type": "execute_result"
    }
   ],
   "source": [
    "x_train.shape, x_test.shape, y_train.shape, y_test.shape"
   ]
  },
  {
   "cell_type": "markdown",
   "metadata": {},
   "source": [
    "## 2. 로지스틱 회귀분석"
   ]
  },
  {
   "cell_type": "code",
   "execution_count": 1,
   "metadata": {},
   "outputs": [
    {
     "ename": "NameError",
     "evalue": "name 'LogisticRegression' is not defined",
     "output_type": "error",
     "traceback": [
      "\u001b[0;31m---------------------------------------------------------------------------\u001b[0m",
      "\u001b[0;31mNameError\u001b[0m                                 Traceback (most recent call last)",
      "\u001b[0;32m<ipython-input-1-dca3f4255861>\u001b[0m in \u001b[0;36m<module>\u001b[0;34m\u001b[0m\n\u001b[1;32m      1\u001b[0m \u001b[0;31m# 로지스틱 회귀분석 생성\u001b[0m\u001b[0;34m\u001b[0m\u001b[0;34m\u001b[0m\u001b[0;34m\u001b[0m\u001b[0m\n\u001b[1;32m      2\u001b[0m \u001b[0;31m# train 데이터 적용\u001b[0m\u001b[0;34m\u001b[0m\u001b[0;34m\u001b[0m\u001b[0;34m\u001b[0m\u001b[0m\n\u001b[0;32m----> 3\u001b[0;31m \u001b[0mLR\u001b[0m \u001b[0;34m=\u001b[0m \u001b[0mLogisticRegression\u001b[0m\u001b[0;34m(\u001b[0m\u001b[0;34m)\u001b[0m\u001b[0;34m\u001b[0m\u001b[0;34m\u001b[0m\u001b[0m\n\u001b[0m\u001b[1;32m      4\u001b[0m \u001b[0mLR\u001b[0m\u001b[0;34m.\u001b[0m\u001b[0mfit\u001b[0m\u001b[0;34m(\u001b[0m\u001b[0mx_train\u001b[0m\u001b[0;34m,\u001b[0m \u001b[0my_train\u001b[0m\u001b[0;34m)\u001b[0m\u001b[0;34m\u001b[0m\u001b[0;34m\u001b[0m\u001b[0m\n\u001b[1;32m      5\u001b[0m \u001b[0mprint\u001b[0m\u001b[0;34m(\u001b[0m\u001b[0;34m'학습용 데이터셋 정확도 : '\u001b[0m\u001b[0;34m,\u001b[0m \u001b[0mLR\u001b[0m\u001b[0;34m.\u001b[0m\u001b[0mscore\u001b[0m\u001b[0;34m(\u001b[0m\u001b[0mx_train\u001b[0m\u001b[0;34m,\u001b[0m \u001b[0my_train\u001b[0m\u001b[0;34m)\u001b[0m\u001b[0;34m)\u001b[0m\u001b[0;34m\u001b[0m\u001b[0;34m\u001b[0m\u001b[0m\n",
      "\u001b[0;31mNameError\u001b[0m: name 'LogisticRegression' is not defined"
     ]
    }
   ],
   "source": [
    "# 로지스틱 회귀분석 생성\n",
    "# train 데이터 적용\n",
    "LR = LogisticRegression()\n",
    "LR.fit(x_train, y_train)\n",
    "print('학습용 데이터셋 정확도 : ', LR.score(x_train, y_train))"
   ]
  },
  {
   "cell_type": "code",
   "execution_count": 13,
   "metadata": {},
   "outputs": [
    {
     "data": {
      "text/plain": [
       "array([0, 0, 0, ..., 0, 0, 0])"
      ]
     },
     "execution_count": 13,
     "metadata": {},
     "output_type": "execute_result"
    }
   ],
   "source": [
    "# train 데이터 fit 된 LR 모델에 x_test 데이터로 y 값 예측\n",
    "y_pred = LR.predict(x_test)\n",
    "y_pred"
   ]
  },
  {
   "cell_type": "code",
   "execution_count": 14,
   "metadata": {},
   "outputs": [
    {
     "data": {
      "text/plain": [
       "array([[9.99843835e-01, 1.56165482e-04],\n",
       "       [9.99468971e-01, 5.31028903e-04],\n",
       "       [9.99965177e-01, 3.48231373e-05],\n",
       "       ...,\n",
       "       [9.99747261e-01, 2.52738812e-04],\n",
       "       [9.99997762e-01, 2.23839306e-06],\n",
       "       [9.99927406e-01, 7.25944502e-05]])"
      ]
     },
     "execution_count": 14,
     "metadata": {},
     "output_type": "execute_result"
    }
   ],
   "source": [
    "# 클래스(0,1) 를 구분한 각 확률값\n",
    "LR.predict_proba(x_test)"
   ]
  },
  {
   "cell_type": "code",
   "execution_count": 15,
   "metadata": {},
   "outputs": [
    {
     "name": "stdout",
     "output_type": "stream",
     "text": [
      "테스트용 데이터셋 정확도 :  0.9998244382022472\n"
     ]
    }
   ],
   "source": [
    "print('테스트용 데이터셋 정확도 : ', LR.score(x_test, y_test))"
   ]
  },
  {
   "cell_type": "markdown",
   "metadata": {},
   "source": [
    "## 3. 분류 성능평가"
   ]
  },
  {
   "cell_type": "code",
   "execution_count": 16,
   "metadata": {},
   "outputs": [
    {
     "data": {
      "text/plain": [
       "array([[5687,    0],\n",
       "       [   1,    8]])"
      ]
     },
     "execution_count": 16,
     "metadata": {},
     "output_type": "execute_result"
    }
   ],
   "source": [
    "# 실제 양성(1)을 양성이라고 예측 -> 5687\n",
    "# 실제 음성(0)을 양성이라고 예측 -> 1\n",
    "# 실제 음성을 음성이라고 예측 -> 8\n",
    "confusion_matrix(y_test, y_pred)"
   ]
  },
  {
   "cell_type": "code",
   "execution_count": null,
   "metadata": {},
   "outputs": [],
   "source": []
  },
  {
   "cell_type": "markdown",
   "metadata": {},
   "source": [
    "   - 정확도(accuracy) : 전체 샘플 중 맞게 예측한 샘플 수의 비율\n",
    "   - 정밀도(precision) : 양성 클래스에 속한다고 출력한 샘플 중 실제로 양성 클래스에 속하는 샘플 수의 비율\n",
    "   - 재현율(recall) : 실제 양성 클래스에 속한 표본 중에 양성 클래스에 속한다고 출력한 표본의 수의 비율\n",
    "   - F-score : 정밀도와 재현율의 가중조화평균(weight harmonic average)\n",
    "    \n",
    "   ###### 출처 : https://datascienceschool.net/view-notebook/731e0d2ef52c41c686ba53dcaf346f32/"
   ]
  },
  {
   "cell_type": "code",
   "execution_count": 17,
   "metadata": {},
   "outputs": [
    {
     "name": "stdout",
     "output_type": "stream",
     "text": [
      "              precision    recall  f1-score   support\n",
      "\n",
      "     class 0       1.00      1.00      1.00      5687\n",
      "     class 1       1.00      0.89      0.94         9\n",
      "\n",
      "    accuracy                           1.00      5696\n",
      "   macro avg       1.00      0.94      0.97      5696\n",
      "weighted avg       1.00      1.00      1.00      5696\n",
      "\n"
     ]
    }
   ],
   "source": [
    "# 실제 1인 데이터 중 89%가 1로 판별됨\n",
    "print(classification_report(y_test, y_pred, target_names=['class 0', 'class 1']))"
   ]
  },
  {
   "cell_type": "code",
   "execution_count": 18,
   "metadata": {},
   "outputs": [
    {
     "data": {
      "text/plain": [
       "(array([0.        , 0.        , 0.        , 0.00105504, 0.00105504,\n",
       "        0.43678565, 0.43713733, 1.        ]),\n",
       " array([0.        , 0.11111111, 0.88888889, 0.88888889, 1.        ,\n",
       "        1.        , 1.        , 1.        ]),\n",
       " array([ 17.79265038,  16.79265038,   1.49357734,  -2.87887415,\n",
       "         -2.99183232,  -8.79703693,  -8.79712401, -20.26126929]))"
      ]
     },
     "execution_count": 18,
     "metadata": {},
     "output_type": "execute_result"
    }
   ],
   "source": [
    "# y 벡터, y_test 와 판별함수, x_test 를 대입\n",
    "\n",
    "fpr, tpr, thresholds = roc_curve(y_test, LR.decision_function(x_test))\n",
    "fpr, tpr, thresholds"
   ]
  },
  {
   "cell_type": "code",
   "execution_count": 19,
   "metadata": {},
   "outputs": [],
   "source": [
    "import matplotlib.pyplot as plt"
   ]
  },
  {
   "cell_type": "code",
   "execution_count": 20,
   "metadata": {},
   "outputs": [],
   "source": [
    "# 그래프에서 한글을 사용하기 위해 한글폰트를 적용\n",
    "# 맥북이기에 애플고딕을 사용\n",
    "plt.style.use('seaborn') # seaborn 스타일로 변환\n",
    "plt.rc('font', family='AppleGothic')\n",
    "plt.rc('axes', unicode_minus=False)"
   ]
  },
  {
   "cell_type": "markdown",
   "metadata": {},
   "source": [
    "### feedback \n",
    "3) recall 계산 잘못하신 듯 합니다. confusion matrix에서 혼동이 있으셨던 것 같습니다. confusion matrix에서 (0,0)은 TN, (0,1)은 FP, (1,0)은 FN, (1,1)은 TP입니다. 이에 맞춰서 score를 다시 계산하셔야 할 것 같습니다."
   ]
  },
  {
   "cell_type": "markdown",
   "metadata": {},
   "source": [
    "A. 어떤 부분이 오류가 있는지 잘 모르겠습니다 ㅠㅠ 제가 참고한 사이트에서는 다음과 같이 나와있어서 참고하였습니다..\n",
    "###### 출처 : https://datascienceschool.net/view-notebook/731e0d2ef52c41c686ba53dcaf346f32/"
   ]
  },
  {
   "attachments": {
    "image.png": {
     "image/png": "[encoded data removed]"
    }
   },
   "cell_type": "markdown",
   "metadata": {},
   "source": [
    "![image.png](attachment:image.png)"
   ]
  },
  {
   "attachments": {
    "image.png": {
     "image/png": "[encoded data removed]"
    }
   },
   "cell_type": "markdown",
   "metadata": {},
   "source": [
    "![image.png](attachment:image.png)"
   ]
  },
  {
   "cell_type": "code",
   "execution_count": 21,
   "metadata": {},
   "outputs": [
    {
     "data": {
      "text/plain": [
       "array([[5687,    0],\n",
       "       [   1,    8]])"
      ]
     },
     "execution_count": 21,
     "metadata": {},
     "output_type": "execute_result"
    }
   ],
   "source": [
    "confusion_matrix(y_test, y_pred)"
   ]
  },
  {
   "cell_type": "code",
   "execution_count": 22,
   "metadata": {},
   "outputs": [],
   "source": [
    "# 위양성율, fall-out : 실제 음성 데이터를 양성으로 분류한 비율\n",
    "# 재현율, recall : 실제 양성 데이터를 양성으로 분류한 비율\n",
    "fallout = 1 / (1+8) # 1 - fallout == 특이도(specificity)\n",
    "recall = 5687 / (5687+0) # == 민감도(sensitivity)"
   ]
  },
  {
   "cell_type": "code",
   "execution_count": 23,
   "metadata": {},
   "outputs": [
    {
     "data": {
      "image/png": "[encoded data removed]",
      "text/plain": [
       "<Figure size 576x396 with 1 Axes>"
      ]
     },
     "metadata": {},
     "output_type": "display_data"
    }
   ],
   "source": [
    "# curve 가 왼쪽 위 모서리에 가깝기 때문에 모델의 성능이 좋다고 평가할 수 있음\n",
    "# fall-out 이 작고 y=x 그래프보다 상단에 위치해 있기 때문에 성능이 좋다고 평가할 수 있음\n",
    "plt.plot(fpr, tpr, 'o-', label=\"Logistic Regression\")\n",
    "plt.plot([0, 1], [0, 1], 'k--', label=\"random guess\")\n",
    "plt.plot([fallout], [recall], 'ro', ms=10)\n",
    "plt.xlabel('위양성률(Fall-Out)')\n",
    "plt.ylabel('재현률(Recall)')\n",
    "plt.title('Receiver operating characteristic example')\n",
    "plt.show()"
   ]
  },
  {
   "cell_type": "code",
   "execution_count": 24,
   "metadata": {},
   "outputs": [
    {
     "data": {
      "text/plain": [
       "0.9998827735771643"
      ]
     },
     "execution_count": 24,
     "metadata": {},
     "output_type": "execute_result"
    }
   ],
   "source": [
    "# 1에 매우 가까움\n",
    "roc_auc_score(y_test, LR.decision_function(x_test)) # auc_score 계산"
   ]
  },
  {
   "cell_type": "code",
   "execution_count": 25,
   "metadata": {},
   "outputs": [
    {
     "data": {
      "text/plain": [
       "[[0.0, 0.0, 17.79265037640294],\n",
       " [0.0, 0.1111111111111111, 16.79265037640294],\n",
       " [0.0, 0.8888888888888888, 1.4935773423076206],\n",
       " [0.0010550378055213644, 0.8888888888888888, -2.878874145009492],\n",
       " [0.0010550378055213644, 1.0, -2.991832321933015],\n",
       " [0.4367856514858449, 1.0, -8.797036934004886],\n",
       " [0.437137330754352, 1.0, -8.797124008099265],\n",
       " [1.0, 1.0, -20.26126929408801]]"
      ]
     },
     "execution_count": 25,
     "metadata": {},
     "output_type": "execute_result"
    }
   ],
   "source": [
    "# decision_function 으로 했기에 thresholds 값이 음수를 리턴하기도함\n",
    "# 정확하게 이해하지는 못하겠음..\n",
    "res = [[fpr_i, tpr_i, thres_i] for fpr_i, tpr_i, thres_i in zip(fpr, tpr, thresholds)]\n",
    "res"
   ]
  },
  {
   "cell_type": "code",
   "execution_count": 26,
   "metadata": {},
   "outputs": [],
   "source": [
    "fpr, tpr, thresholds = roc_curve(y_test, LR.predict_proba(x_test)[:, 1])"
   ]
  },
  {
   "cell_type": "code",
   "execution_count": 27,
   "metadata": {},
   "outputs": [
    {
     "data": {
      "text/plain": [
       "[[0.0, 0.0, 1.9999999490616842],\n",
       " [0.0, 0.1111111111111111, 0.9999999490616841],\n",
       " [0.0, 0.8888888888888888, 0.8166146050631454],\n",
       " [0.0010550378055213644, 0.8888888888888888, 0.05320782479433907],\n",
       " [0.0010550378055213644, 1.0, 0.04779622854261025],\n",
       " [0.4367856514858449, 1.0, 0.00015115751744944713],\n",
       " [0.437137330754352, 1.0, 0.00015114435810778133],\n",
       " [1.0, 1.0, 1.5872398133839863e-09]]"
      ]
     },
     "execution_count": 27,
     "metadata": {},
     "output_type": "execute_result"
    }
   ],
   "source": [
    "res = [[fpr_i, tpr_i, thres_i] for fpr_i, tpr_i, thres_i in zip(fpr, tpr, thresholds)]\n",
    "res"
   ]
  },
  {
   "cell_type": "code",
   "execution_count": 28,
   "metadata": {},
   "outputs": [
    {
     "name": "stdout",
     "output_type": "stream",
     "text": [
      "0.9989449621944786\n"
     ]
    }
   ],
   "source": [
    "# fpr 과 tpr 의 차가 가장 클 때의 threshold 는 0.9989...\n",
    "# 이 threshold 를 사용하기에는 무리가 있어보임\n",
    "temp = []\n",
    "for i in range(len(res)):\n",
    "    value = abs(res[i][0] - res[i][1])\n",
    "    temp.append(value)\n",
    "print(max(temp))"
   ]
  },
  {
   "cell_type": "code",
   "execution_count": null,
   "metadata": {},
   "outputs": [],
   "source": []
  },
  {
   "cell_type": "code",
   "execution_count": 29,
   "metadata": {},
   "outputs": [],
   "source": [
    "# Class 의 비율이 너무 차이가 크기 때문에 데이터 비대칭 문제가 발생하는 것으로 보임"
   ]
  },
  {
   "cell_type": "code",
   "execution_count": 30,
   "metadata": {},
   "outputs": [
    {
     "data": {
      "text/plain": [
       "0    28428\n",
       "1       52\n",
       "Name: Class, dtype: int64"
      ]
     },
     "execution_count": 30,
     "metadata": {},
     "output_type": "execute_result"
    }
   ],
   "source": [
    "df['Class'].value_counts()"
   ]
  },
  {
   "cell_type": "code",
   "execution_count": 31,
   "metadata": {},
   "outputs": [],
   "source": [
    "# RandomOverSampler 를 사용하여 오버샘플링 하여 해결하고자함\n",
    "# 언더샘플링 하게 되면 test 개수가 너무 적게 부여됨\n",
    "from imblearn.over_sampling import RandomOverSampler"
   ]
  },
  {
   "cell_type": "code",
   "execution_count": 37,
   "metadata": {},
   "outputs": [
    {
     "data": {
      "text/plain": [
       "Index(['Time', 'V1', 'V2', 'V3', 'V4', 'V5', 'V6', 'V7', 'V8', 'V9', 'V10',\n",
       "       'V11', 'V12', 'V13', 'V14', 'V15', 'V16', 'V17', 'V18', 'V19', 'V20',\n",
       "       'V21', 'V22', 'V23', 'V24', 'V25', 'V26', 'V27', 'V28', 'Amount',\n",
       "       'Class'],\n",
       "      dtype='object')"
      ]
     },
     "execution_count": 37,
     "metadata": {},
     "output_type": "execute_result"
    }
   ],
   "source": [
    "df.columns[:31]"
   ]
  },
  {
   "cell_type": "code",
   "execution_count": 38,
   "metadata": {},
   "outputs": [],
   "source": [
    "X = df[df.columns[:30]]\n",
    "y = df['Class']"
   ]
  },
  {
   "cell_type": "code",
   "execution_count": 39,
   "metadata": {},
   "outputs": [],
   "source": [
    "X_samp, y_samp = RandomOverSampler(random_state=0).fit_sample(X, y)"
   ]
  },
  {
   "cell_type": "code",
   "execution_count": 40,
   "metadata": {},
   "outputs": [
    {
     "data": {
      "text/html": [
       "<div>\n",
       "<style scoped>\n",
       "    .dataframe tbody tr th:only-of-type {\n",
       "        vertical-align: middle;\n",
       "    }\n",
       "\n",
       "    .dataframe tbody tr th {\n",
       "        vertical-align: top;\n",
       "    }\n",
       "\n",
       "    .dataframe thead th {\n",
       "        text-align: right;\n",
       "    }\n",
       "</style>\n",
       "<table border=\"1\" class=\"dataframe\">\n",
       "  <thead>\n",
       "    <tr style=\"text-align: right;\">\n",
       "      <th></th>\n",
       "      <th>Time</th>\n",
       "      <th>V1</th>\n",
       "      <th>V2</th>\n",
       "      <th>V3</th>\n",
       "      <th>V4</th>\n",
       "      <th>V5</th>\n",
       "      <th>V6</th>\n",
       "      <th>V7</th>\n",
       "      <th>V8</th>\n",
       "      <th>V9</th>\n",
       "      <th>...</th>\n",
       "      <th>V21</th>\n",
       "      <th>V22</th>\n",
       "      <th>V23</th>\n",
       "      <th>V24</th>\n",
       "      <th>V25</th>\n",
       "      <th>V26</th>\n",
       "      <th>V27</th>\n",
       "      <th>V28</th>\n",
       "      <th>Amount</th>\n",
       "      <th>Class</th>\n",
       "    </tr>\n",
       "  </thead>\n",
       "  <tbody>\n",
       "    <tr>\n",
       "      <th>0</th>\n",
       "      <td>136330</td>\n",
       "      <td>2.108286</td>\n",
       "      <td>-0.020359</td>\n",
       "      <td>-2.234273</td>\n",
       "      <td>-0.124080</td>\n",
       "      <td>0.559843</td>\n",
       "      <td>-1.315913</td>\n",
       "      <td>0.631887</td>\n",
       "      <td>-0.385490</td>\n",
       "      <td>0.150628</td>\n",
       "      <td>...</td>\n",
       "      <td>0.162940</td>\n",
       "      <td>0.519705</td>\n",
       "      <td>-0.091751</td>\n",
       "      <td>-0.379542</td>\n",
       "      <td>0.418822</td>\n",
       "      <td>0.248646</td>\n",
       "      <td>-0.098857</td>\n",
       "      <td>-0.094773</td>\n",
       "      <td>7.70</td>\n",
       "      <td>0</td>\n",
       "    </tr>\n",
       "    <tr>\n",
       "      <th>1</th>\n",
       "      <td>116819</td>\n",
       "      <td>2.080143</td>\n",
       "      <td>-0.075408</td>\n",
       "      <td>-1.359381</td>\n",
       "      <td>0.261263</td>\n",
       "      <td>0.232201</td>\n",
       "      <td>-0.797886</td>\n",
       "      <td>0.233487</td>\n",
       "      <td>-0.330165</td>\n",
       "      <td>0.493154</td>\n",
       "      <td>...</td>\n",
       "      <td>-0.317765</td>\n",
       "      <td>-0.784150</td>\n",
       "      <td>0.233078</td>\n",
       "      <td>-0.636937</td>\n",
       "      <td>-0.191137</td>\n",
       "      <td>0.234986</td>\n",
       "      <td>-0.070648</td>\n",
       "      <td>-0.062794</td>\n",
       "      <td>17.99</td>\n",
       "      <td>0</td>\n",
       "    </tr>\n",
       "    <tr>\n",
       "      <th>2</th>\n",
       "      <td>27917</td>\n",
       "      <td>1.152650</td>\n",
       "      <td>0.204938</td>\n",
       "      <td>0.441832</td>\n",
       "      <td>1.211595</td>\n",
       "      <td>-0.254895</td>\n",
       "      <td>-0.383380</td>\n",
       "      <td>-0.004286</td>\n",
       "      <td>-0.019590</td>\n",
       "      <td>0.085094</td>\n",
       "      <td>...</td>\n",
       "      <td>0.066674</td>\n",
       "      <td>0.209828</td>\n",
       "      <td>-0.054351</td>\n",
       "      <td>0.058103</td>\n",
       "      <td>0.515330</td>\n",
       "      <td>-0.299402</td>\n",
       "      <td>0.032551</td>\n",
       "      <td>0.022865</td>\n",
       "      <td>21.00</td>\n",
       "      <td>0</td>\n",
       "    </tr>\n",
       "    <tr>\n",
       "      <th>3</th>\n",
       "      <td>97443</td>\n",
       "      <td>-0.389692</td>\n",
       "      <td>0.410148</td>\n",
       "      <td>0.616187</td>\n",
       "      <td>-0.686644</td>\n",
       "      <td>1.040312</td>\n",
       "      <td>-0.322199</td>\n",
       "      <td>0.523625</td>\n",
       "      <td>-0.037453</td>\n",
       "      <td>1.319237</td>\n",
       "      <td>...</td>\n",
       "      <td>0.116692</td>\n",
       "      <td>0.685267</td>\n",
       "      <td>-0.182303</td>\n",
       "      <td>0.767857</td>\n",
       "      <td>-0.242738</td>\n",
       "      <td>0.009678</td>\n",
       "      <td>0.115370</td>\n",
       "      <td>0.176041</td>\n",
       "      <td>6.60</td>\n",
       "      <td>0</td>\n",
       "    </tr>\n",
       "    <tr>\n",
       "      <th>4</th>\n",
       "      <td>17920</td>\n",
       "      <td>-1.306986</td>\n",
       "      <td>0.183306</td>\n",
       "      <td>3.164803</td>\n",
       "      <td>0.810135</td>\n",
       "      <td>1.529576</td>\n",
       "      <td>2.388322</td>\n",
       "      <td>0.551279</td>\n",
       "      <td>-0.054401</td>\n",
       "      <td>1.675481</td>\n",
       "      <td>...</td>\n",
       "      <td>-0.203993</td>\n",
       "      <td>0.556523</td>\n",
       "      <td>0.146513</td>\n",
       "      <td>-1.128693</td>\n",
       "      <td>-0.633623</td>\n",
       "      <td>-0.454903</td>\n",
       "      <td>-0.826329</td>\n",
       "      <td>-0.826186</td>\n",
       "      <td>4.95</td>\n",
       "      <td>0</td>\n",
       "    </tr>\n",
       "    <tr>\n",
       "      <th>...</th>\n",
       "      <td>...</td>\n",
       "      <td>...</td>\n",
       "      <td>...</td>\n",
       "      <td>...</td>\n",
       "      <td>...</td>\n",
       "      <td>...</td>\n",
       "      <td>...</td>\n",
       "      <td>...</td>\n",
       "      <td>...</td>\n",
       "      <td>...</td>\n",
       "      <td>...</td>\n",
       "      <td>...</td>\n",
       "      <td>...</td>\n",
       "      <td>...</td>\n",
       "      <td>...</td>\n",
       "      <td>...</td>\n",
       "      <td>...</td>\n",
       "      <td>...</td>\n",
       "      <td>...</td>\n",
       "      <td>...</td>\n",
       "      <td>...</td>\n",
       "    </tr>\n",
       "    <tr>\n",
       "      <th>56851</th>\n",
       "      <td>139107</td>\n",
       "      <td>-4.666500</td>\n",
       "      <td>-3.952320</td>\n",
       "      <td>0.206094</td>\n",
       "      <td>5.153525</td>\n",
       "      <td>5.229469</td>\n",
       "      <td>0.939040</td>\n",
       "      <td>-0.635033</td>\n",
       "      <td>-0.704506</td>\n",
       "      <td>-0.234786</td>\n",
       "      <td>...</td>\n",
       "      <td>-0.664263</td>\n",
       "      <td>1.821422</td>\n",
       "      <td>0.113563</td>\n",
       "      <td>-0.759673</td>\n",
       "      <td>-0.502304</td>\n",
       "      <td>0.630639</td>\n",
       "      <td>-0.513880</td>\n",
       "      <td>0.729526</td>\n",
       "      <td>22.47</td>\n",
       "      <td>1</td>\n",
       "    </tr>\n",
       "    <tr>\n",
       "      <th>56852</th>\n",
       "      <td>131024</td>\n",
       "      <td>0.469750</td>\n",
       "      <td>-1.237555</td>\n",
       "      <td>-1.767341</td>\n",
       "      <td>4.833490</td>\n",
       "      <td>-0.268715</td>\n",
       "      <td>-0.512760</td>\n",
       "      <td>1.140149</td>\n",
       "      <td>-0.341273</td>\n",
       "      <td>-1.046351</td>\n",
       "      <td>...</td>\n",
       "      <td>0.303905</td>\n",
       "      <td>-0.647075</td>\n",
       "      <td>-0.373014</td>\n",
       "      <td>0.260801</td>\n",
       "      <td>-0.496566</td>\n",
       "      <td>-0.245973</td>\n",
       "      <td>-0.117858</td>\n",
       "      <td>0.144774</td>\n",
       "      <td>723.21</td>\n",
       "      <td>1</td>\n",
       "    </tr>\n",
       "    <tr>\n",
       "      <th>56853</th>\n",
       "      <td>93888</td>\n",
       "      <td>-10.040631</td>\n",
       "      <td>6.139183</td>\n",
       "      <td>-12.972972</td>\n",
       "      <td>7.740555</td>\n",
       "      <td>-8.684705</td>\n",
       "      <td>-3.837429</td>\n",
       "      <td>-11.907702</td>\n",
       "      <td>5.833273</td>\n",
       "      <td>-5.731054</td>\n",
       "      <td>...</td>\n",
       "      <td>2.823431</td>\n",
       "      <td>1.153005</td>\n",
       "      <td>-0.567343</td>\n",
       "      <td>0.843012</td>\n",
       "      <td>0.549938</td>\n",
       "      <td>0.113892</td>\n",
       "      <td>-0.307375</td>\n",
       "      <td>0.061631</td>\n",
       "      <td>1.00</td>\n",
       "      <td>1</td>\n",
       "    </tr>\n",
       "    <tr>\n",
       "      <th>56854</th>\n",
       "      <td>41204</td>\n",
       "      <td>-8.440284</td>\n",
       "      <td>6.147653</td>\n",
       "      <td>-11.683706</td>\n",
       "      <td>6.702780</td>\n",
       "      <td>-8.155839</td>\n",
       "      <td>-3.716264</td>\n",
       "      <td>-12.407313</td>\n",
       "      <td>5.626571</td>\n",
       "      <td>-6.232161</td>\n",
       "      <td>...</td>\n",
       "      <td>2.192855</td>\n",
       "      <td>-0.282597</td>\n",
       "      <td>0.008068</td>\n",
       "      <td>0.403858</td>\n",
       "      <td>-0.018788</td>\n",
       "      <td>0.522722</td>\n",
       "      <td>0.792691</td>\n",
       "      <td>0.067790</td>\n",
       "      <td>30.26</td>\n",
       "      <td>1</td>\n",
       "    </tr>\n",
       "    <tr>\n",
       "      <th>56855</th>\n",
       "      <td>157207</td>\n",
       "      <td>1.170756</td>\n",
       "      <td>2.501038</td>\n",
       "      <td>-4.986159</td>\n",
       "      <td>5.374160</td>\n",
       "      <td>0.997798</td>\n",
       "      <td>-1.259004</td>\n",
       "      <td>-1.237689</td>\n",
       "      <td>0.358426</td>\n",
       "      <td>-2.612489</td>\n",
       "      <td>...</td>\n",
       "      <td>0.123145</td>\n",
       "      <td>-0.713201</td>\n",
       "      <td>-0.080868</td>\n",
       "      <td>-0.964310</td>\n",
       "      <td>0.338568</td>\n",
       "      <td>0.068630</td>\n",
       "      <td>0.481588</td>\n",
       "      <td>0.268226</td>\n",
       "      <td>4.97</td>\n",
       "      <td>1</td>\n",
       "    </tr>\n",
       "  </tbody>\n",
       "</table>\n",
       "<p>56856 rows × 31 columns</p>\n",
       "</div>"
      ],
      "text/plain": [
       "         Time         V1        V2         V3        V4        V5        V6  \\\n",
       "0      136330   2.108286 -0.020359  -2.234273 -0.124080  0.559843 -1.315913   \n",
       "1      116819   2.080143 -0.075408  -1.359381  0.261263  0.232201 -0.797886   \n",
       "2       27917   1.152650  0.204938   0.441832  1.211595 -0.254895 -0.383380   \n",
       "3       97443  -0.389692  0.410148   0.616187 -0.686644  1.040312 -0.322199   \n",
       "4       17920  -1.306986  0.183306   3.164803  0.810135  1.529576  2.388322   \n",
       "...       ...        ...       ...        ...       ...       ...       ...   \n",
       "56851  139107  -4.666500 -3.952320   0.206094  5.153525  5.229469  0.939040   \n",
       "56852  131024   0.469750 -1.237555  -1.767341  4.833490 -0.268715 -0.512760   \n",
       "56853   93888 -10.040631  6.139183 -12.972972  7.740555 -8.684705 -3.837429   \n",
       "56854   41204  -8.440284  6.147653 -11.683706  6.702780 -8.155839 -3.716264   \n",
       "56855  157207   1.170756  2.501038  -4.986159  5.374160  0.997798 -1.259004   \n",
       "\n",
       "              V7        V8        V9  ...       V21       V22       V23  \\\n",
       "0       0.631887 -0.385490  0.150628  ...  0.162940  0.519705 -0.091751   \n",
       "1       0.233487 -0.330165  0.493154  ... -0.317765 -0.784150  0.233078   \n",
       "2      -0.004286 -0.019590  0.085094  ...  0.066674  0.209828 -0.054351   \n",
       "3       0.523625 -0.037453  1.319237  ...  0.116692  0.685267 -0.182303   \n",
       "4       0.551279 -0.054401  1.675481  ... -0.203993  0.556523  0.146513   \n",
       "...          ...       ...       ...  ...       ...       ...       ...   \n",
       "56851  -0.635033 -0.704506 -0.234786  ... -0.664263  1.821422  0.113563   \n",
       "56852   1.140149 -0.341273 -1.046351  ...  0.303905 -0.647075 -0.373014   \n",
       "56853 -11.907702  5.833273 -5.731054  ...  2.823431  1.153005 -0.567343   \n",
       "56854 -12.407313  5.626571 -6.232161  ...  2.192855 -0.282597  0.008068   \n",
       "56855  -1.237689  0.358426 -2.612489  ...  0.123145 -0.713201 -0.080868   \n",
       "\n",
       "            V24       V25       V26       V27       V28  Amount  Class  \n",
       "0     -0.379542  0.418822  0.248646 -0.098857 -0.094773    7.70      0  \n",
       "1     -0.636937 -0.191137  0.234986 -0.070648 -0.062794   17.99      0  \n",
       "2      0.058103  0.515330 -0.299402  0.032551  0.022865   21.00      0  \n",
       "3      0.767857 -0.242738  0.009678  0.115370  0.176041    6.60      0  \n",
       "4     -1.128693 -0.633623 -0.454903 -0.826329 -0.826186    4.95      0  \n",
       "...         ...       ...       ...       ...       ...     ...    ...  \n",
       "56851 -0.759673 -0.502304  0.630639 -0.513880  0.729526   22.47      1  \n",
       "56852  0.260801 -0.496566 -0.245973 -0.117858  0.144774  723.21      1  \n",
       "56853  0.843012  0.549938  0.113892 -0.307375  0.061631    1.00      1  \n",
       "56854  0.403858 -0.018788  0.522722  0.792691  0.067790   30.26      1  \n",
       "56855 -0.964310  0.338568  0.068630  0.481588  0.268226    4.97      1  \n",
       "\n",
       "[56856 rows x 31 columns]"
      ]
     },
     "execution_count": 40,
     "metadata": {},
     "output_type": "execute_result"
    }
   ],
   "source": [
    "df_samp = pd.concat((X_samp, y_samp), axis = 1)\n",
    "df_samp"
   ]
  },
  {
   "cell_type": "code",
   "execution_count": 41,
   "metadata": {},
   "outputs": [],
   "source": [
    "# train, test 데이터 분할 (비율 8 : 2)\n",
    "train, test = train_test_split(df_samp, test_size=0.2, random_state=0)"
   ]
  },
  {
   "cell_type": "code",
   "execution_count": 42,
   "metadata": {},
   "outputs": [],
   "source": [
    "# train, test 로 분할한 뒤 스케일링 진행\n",
    "# 먼저 train\n",
    "scaler = StandardScaler()\n",
    "x_train_raw = scaler.fit_transform(train.drop('Class', axis=1))\n",
    "x_train = pd.DataFrame(x_train_raw, columns = train.columns[:-1])\n",
    "y_train = train.Class"
   ]
  },
  {
   "cell_type": "code",
   "execution_count": 43,
   "metadata": {},
   "outputs": [],
   "source": [
    "# 다음 test\n",
    "# 여기서는 x.train 으로 fit_transform 한 것으로 transform 해줘야함\n",
    "x_test_raw = scaler.transform(test.drop('Class', axis=1))\n",
    "x_test = pd.DataFrame(x_test_raw, columns = test.columns[:-1])\n",
    "y_test = test.Class"
   ]
  },
  {
   "cell_type": "code",
   "execution_count": 45,
   "metadata": {},
   "outputs": [
    {
     "data": {
      "text/plain": [
       "((45484, 30), (11372, 30), (45484,), (11372,))"
      ]
     },
     "execution_count": 45,
     "metadata": {},
     "output_type": "execute_result"
    }
   ],
   "source": [
    "x_train.shape, x_test.shape, y_train.shape, y_test.shape"
   ]
  },
  {
   "cell_type": "code",
   "execution_count": 46,
   "metadata": {},
   "outputs": [
    {
     "name": "stdout",
     "output_type": "stream",
     "text": [
      "학습용 데이터셋 정확도 :  0.9824773546741712\n",
      "테스트용 데이터셋 정확도 :  0.9796869504045023\n"
     ]
    },
    {
     "name": "stderr",
     "output_type": "stream",
     "text": [
      "/Library/Frameworks/Python.framework/Versions/3.7/lib/python3.7/site-packages/sklearn/linear_model/_logistic.py:940: ConvergenceWarning: lbfgs failed to converge (status=1):\n",
      "STOP: TOTAL NO. of ITERATIONS REACHED LIMIT.\n",
      "\n",
      "Increase the number of iterations (max_iter) or scale the data as shown in:\n",
      "    https://scikit-learn.org/stable/modules/preprocessing.html\n",
      "Please also refer to the documentation for alternative solver options:\n",
      "    https://scikit-learn.org/stable/modules/linear_model.html#logistic-regression\n",
      "  extra_warning_msg=_LOGISTIC_SOLVER_CONVERGENCE_MSG)\n"
     ]
    }
   ],
   "source": [
    "# 로지스틱 회귀분석 생성\n",
    "# train 데이터 적용\n",
    "LR = LogisticRegression()\n",
    "LR.fit(x_train, y_train)\n",
    "y_pred = LR.predict(x_test)\n",
    "print('학습용 데이터셋 정확도 : ', LR.score(x_train, y_train))\n",
    "print('테스트용 데이터셋 정확도 : ', LR.score(x_test, y_test))"
   ]
  },
  {
   "cell_type": "code",
   "execution_count": 47,
   "metadata": {},
   "outputs": [
    {
     "data": {
      "text/plain": [
       "array([[5498,  105],\n",
       "       [ 126, 5643]])"
      ]
     },
     "execution_count": 47,
     "metadata": {},
     "output_type": "execute_result"
    }
   ],
   "source": [
    "confusion_matrix(y_test, y_pred)"
   ]
  },
  {
   "cell_type": "code",
   "execution_count": 53,
   "metadata": {},
   "outputs": [
    {
     "name": "stdout",
     "output_type": "stream",
     "text": [
      "              precision    recall  f1-score   support\n",
      "\n",
      "     class 0       0.98      0.98      0.98      5603\n",
      "     class 1       0.98      0.98      0.98      5769\n",
      "\n",
      "    accuracy                           0.98     11372\n",
      "   macro avg       0.98      0.98      0.98     11372\n",
      "weighted avg       0.98      0.98      0.98     11372\n",
      "\n"
     ]
    }
   ],
   "source": [
    "# 실제 1인 데이터 중 89%가 1로 판별됨\n",
    "print(classification_report(y_test, y_pred, target_names=['class 0', 'class 1']))"
   ]
  },
  {
   "cell_type": "code",
   "execution_count": 48,
   "metadata": {},
   "outputs": [],
   "source": [
    "fallout = 126 / (126+5643) # 1 - fallout == 특이도(specificity)\n",
    "recall = 5498 / (5498+105) # == 민감도(sensitivity)"
   ]
  },
  {
   "cell_type": "code",
   "execution_count": 50,
   "metadata": {},
   "outputs": [
    {
     "data": {
      "text/plain": [
       "(array([0.00000000e+00, 1.78475817e-04, 1.78475817e-04, 1.78475817e-04,\n",
       "        1.78475817e-04, 1.78475817e-04, 1.78475817e-04, 1.78475817e-04,\n",
       "        1.78475817e-04, 1.78475817e-04, 1.78475817e-04, 1.78475817e-04,\n",
       "        1.78475817e-04, 1.78475817e-04, 1.78475817e-04, 1.78475817e-04,\n",
       "        1.78475817e-04, 1.78475817e-04, 1.78475817e-04, 1.78475817e-04,\n",
       "        1.78475817e-04, 3.56951633e-04, 3.56951633e-04, 5.35427450e-04,\n",
       "        5.35427450e-04, 5.35427450e-04, 5.35427450e-04, 7.13903266e-04,\n",
       "        7.13903266e-04, 7.13903266e-04, 7.13903266e-04, 7.13903266e-04,\n",
       "        1.24933072e-03, 1.24933072e-03, 2.67713725e-03, 2.67713725e-03,\n",
       "        2.85561306e-03, 2.85561306e-03, 4.10494378e-03, 4.10494378e-03,\n",
       "        4.46189541e-03, 4.46189541e-03, 4.46189541e-03, 5.53275031e-03,\n",
       "        5.53275031e-03, 5.53275031e-03, 9.63769409e-03, 9.63769409e-03,\n",
       "        1.10655006e-02, 1.10655006e-02, 2.05247189e-02, 2.05247189e-02,\n",
       "        6.92843120e-01, 6.93200071e-01, 7.15152597e-01, 7.15509548e-01,\n",
       "        1.00000000e+00]),\n",
       " array([0.        , 0.25290345, 0.26867741, 0.28861154, 0.30698561,\n",
       "        0.32795979, 0.36470792, 0.38065523, 0.39781591, 0.41913677,\n",
       "        0.43837754, 0.45571156, 0.47529901, 0.49141966, 0.50823366,\n",
       "        0.52591437, 0.54255504, 0.56352921, 0.58467672, 0.60339747,\n",
       "        0.62263824, 0.62263824, 0.64222569, 0.64222569, 0.66007974,\n",
       "        0.68122725, 0.69856128, 0.69856128, 0.72005547, 0.73842954,\n",
       "        0.75940371, 0.77708442, 0.77708442, 0.79528514, 0.79528514,\n",
       "        0.81296585, 0.81296585, 0.83463339, 0.83463339, 0.85387415,\n",
       "        0.85387415, 0.87588837, 0.8966892 , 0.8966892 , 0.91801005,\n",
       "        0.94054429, 0.94054429, 0.95735829, 0.95735829, 0.97815913,\n",
       "        0.97815913, 1.        , 1.        , 1.        , 1.        ,\n",
       "        1.        , 1.        ]),\n",
       " array([2.00000000e+00, 1.00000000e+00, 1.00000000e+00, 1.00000000e+00,\n",
       "        1.00000000e+00, 1.00000000e+00, 1.00000000e+00, 1.00000000e+00,\n",
       "        1.00000000e+00, 1.00000000e+00, 9.99999999e-01, 9.99999997e-01,\n",
       "        9.99999995e-01, 9.99999982e-01, 9.99999974e-01, 9.99999959e-01,\n",
       "        9.99999957e-01, 9.99999954e-01, 9.99999867e-01, 9.99999656e-01,\n",
       "        9.99999479e-01, 9.99999263e-01, 9.99999065e-01, 9.99999060e-01,\n",
       "        9.99999034e-01, 9.99996804e-01, 9.99991937e-01, 9.99990631e-01,\n",
       "        9.99923617e-01, 9.99897115e-01, 9.99894032e-01, 9.99853859e-01,\n",
       "        9.92383251e-01, 9.92248236e-01, 9.86045824e-01, 9.86029306e-01,\n",
       "        9.83218093e-01, 9.83033771e-01, 9.58049778e-01, 9.54796888e-01,\n",
       "        9.52584501e-01, 9.49936385e-01, 9.42605493e-01, 9.16902771e-01,\n",
       "        9.16594407e-01, 9.14620621e-01, 8.00767904e-01, 7.91651977e-01,\n",
       "        7.49085256e-01, 7.45057747e-01, 4.69630878e-01, 4.67750956e-01,\n",
       "        3.92255677e-06, 3.92045480e-06, 2.92682724e-06, 2.92630205e-06,\n",
       "        1.75443902e-20]))"
      ]
     },
     "execution_count": 50,
     "metadata": {},
     "output_type": "execute_result"
    }
   ],
   "source": [
    "fpr, tpr, thresholds = roc_curve(y_test, LR.predict_proba(x_test)[:, 1])\n",
    "fpr, tpr, thresholds"
   ]
  },
  {
   "cell_type": "code",
   "execution_count": 55,
   "metadata": {},
   "outputs": [
    {
     "data": {
      "image/png": "[encoded data removed]",
      "text/plain": [
       "<Figure size 576x396 with 1 Axes>"
      ]
     },
     "metadata": {},
     "output_type": "display_data"
    }
   ],
   "source": [
    "# curve 가 왼쪽 위 모서리에 가깝기 때문에 모델의 성능이 좋다고 평가할 수 있음\n",
    "# fall-out 이 작고 y=x 그래프보다 상단에 위치해 있기 때문에 성능이 좋다고 평가할 수 있음\n",
    "plt.plot(fpr, tpr, 'o-', label=\"Logistic Regression\")\n",
    "plt.plot([0, 1], [0, 1], 'k--', label=\"random guess\")\n",
    "plt.plot([fallout], [recall], 'ro', ms=10)\n",
    "plt.xlabel('위양성률(Fall-Out)')\n",
    "plt.ylabel('재현률(Recall)')\n",
    "plt.title('Receiver operating characteristic example')\n",
    "plt.show()"
   ]
  },
  {
   "cell_type": "code",
   "execution_count": 58,
   "metadata": {},
   "outputs": [],
   "source": [
    "res = [[fpr_i, tpr_i, thres_i] for fpr_i, tpr_i, thres_i in zip(fpr, tpr, thresholds)]"
   ]
  },
  {
   "cell_type": "code",
   "execution_count": 62,
   "metadata": {},
   "outputs": [
    {
     "name": "stdout",
     "output_type": "stream",
     "text": [
      "0.9794752810994111\n"
     ]
    }
   ],
   "source": [
    "# 그럼에도 threshold 값이 높게 나오긴함 (맞게 계산한 건지 잘 모르겠음)\n",
    "# optimal cut-off 는 0.9794.. 로 나옴\n",
    "temp = []\n",
    "for i in range(len(res)):\n",
    "    value = abs(res[i][0] - res[i][1])\n",
    "    temp.append(value)\n",
    "\n",
    "standard = max(temp) # 새로운 기준 저장\n",
    "print(max(temp))\n"
   ]
  },
  {
   "cell_type": "code",
   "execution_count": 61,
   "metadata": {},
   "outputs": [],
   "source": [
    "# 각 test 데이터의 y 값에 대한 확률을 저장 \n",
    "probs = LR.predict_proba(x_test)"
   ]
  },
  {
   "cell_type": "code",
   "execution_count": null,
   "metadata": {},
   "outputs": [],
   "source": []
  },
  {
   "cell_type": "code",
   "execution_count": 70,
   "metadata": {},
   "outputs": [],
   "source": [
    "# optimal cut-off 에 해당하는 새로운 기준으로 y 값 예측\n",
    "y_temp = []\n",
    "for prob in probs:\n",
    "    if prob[1] > standard:\n",
    "        value = 1\n",
    "    else:\n",
    "        value = 0\n",
    "    y_temp.append(value)"
   ]
  },
  {
   "cell_type": "code",
   "execution_count": 88,
   "metadata": {},
   "outputs": [],
   "source": [
    "score = 0\n",
    "for i in range(len(y_temp)):\n",
    "    if y_temp[i] == y_pred[i]:\n",
    "        score += 1\n",
    "    else:\n",
    "        score += 0"
   ]
  },
  {
   "cell_type": "code",
   "execution_count": 93,
   "metadata": {},
   "outputs": [
    {
     "name": "stdout",
     "output_type": "stream",
     "text": [
      "optimal cut-off 의 정확도 : 0.9194512838550827\n"
     ]
    }
   ],
   "source": [
    "print('optimal cut-off 의 정확도 :',score / len(y_pred))"
   ]
  },
  {
   "cell_type": "code",
   "execution_count": null,
   "metadata": {},
   "outputs": [],
   "source": []
  },
  {
   "cell_type": "code",
   "execution_count": null,
   "metadata": {},
   "outputs": [],
   "source": []
  }
 ],
 "metadata": {
  "kernelspec": {
   "display_name": "Python 3",
   "language": "python",
   "name": "python3"
  },
  "language_info": {
   "codemirror_mode": {
    "name": "ipython",
    "version": 3
   },
   "file_extension": ".py",
   "mimetype": "text/x-python",
   "name": "python",
   "nbconvert_exporter": "python",
   "pygments_lexer": "ipython3",
   "version": "3.7.6"
  }
 },
 "nbformat": 4,
 "nbformat_minor": 4
}
