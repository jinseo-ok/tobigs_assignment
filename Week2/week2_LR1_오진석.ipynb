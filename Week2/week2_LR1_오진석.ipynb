{
 "cells": [
  {
   "cell_type": "code",
   "execution_count": 5,
   "metadata": {},
   "outputs": [],
   "source": [
    "import os\n",
    "import pandas as pd\n",
    "import numpy as np"
   ]
  },
  {
   "cell_type": "code",
   "execution_count": 6,
   "metadata": {},
   "outputs": [],
   "source": [
    "base_dir = '/Users/jinseok/jupyter/투빅스/W02/로지스틱회귀분석/assignment1'\n",
    "excel_file = 'sampled_data.csv'\n",
    "\n",
    "excel_dir = os.path.join(base_dir, excel_file)"
   ]
  },
  {
   "cell_type": "code",
   "execution_count": 7,
   "metadata": {},
   "outputs": [],
   "source": [
    "df = pd.read_csv( excel_dir, encoding = 'cp949')"
   ]
  },
  {
   "cell_type": "code",
   "execution_count": 8,
   "metadata": {},
   "outputs": [
    {
     "data": {
      "text/html": [
       "<div>\n",
       "<style scoped>\n",
       "    .dataframe tbody tr th:only-of-type {\n",
       "        vertical-align: middle;\n",
       "    }\n",
       "\n",
       "    .dataframe tbody tr th {\n",
       "        vertical-align: top;\n",
       "    }\n",
       "\n",
       "    .dataframe thead th {\n",
       "        text-align: right;\n",
       "    }\n",
       "</style>\n",
       "<table border=\"1\" class=\"dataframe\">\n",
       "  <thead>\n",
       "    <tr style=\"text-align: right;\">\n",
       "      <th></th>\n",
       "      <th>Time</th>\n",
       "      <th>V1</th>\n",
       "      <th>V2</th>\n",
       "      <th>V3</th>\n",
       "      <th>V4</th>\n",
       "      <th>V5</th>\n",
       "      <th>V6</th>\n",
       "      <th>V7</th>\n",
       "      <th>V8</th>\n",
       "      <th>V9</th>\n",
       "      <th>...</th>\n",
       "      <th>V21</th>\n",
       "      <th>V22</th>\n",
       "      <th>V23</th>\n",
       "      <th>V24</th>\n",
       "      <th>V25</th>\n",
       "      <th>V26</th>\n",
       "      <th>V27</th>\n",
       "      <th>V28</th>\n",
       "      <th>Amount</th>\n",
       "      <th>Class</th>\n",
       "    </tr>\n",
       "  </thead>\n",
       "  <tbody>\n",
       "    <tr>\n",
       "      <th>0</th>\n",
       "      <td>136330</td>\n",
       "      <td>2.108286</td>\n",
       "      <td>-0.020359</td>\n",
       "      <td>-2.234273</td>\n",
       "      <td>-0.124080</td>\n",
       "      <td>0.559843</td>\n",
       "      <td>-1.315913</td>\n",
       "      <td>0.631887</td>\n",
       "      <td>-0.385490</td>\n",
       "      <td>0.150628</td>\n",
       "      <td>...</td>\n",
       "      <td>0.162940</td>\n",
       "      <td>0.519705</td>\n",
       "      <td>-0.091751</td>\n",
       "      <td>-0.379542</td>\n",
       "      <td>0.418822</td>\n",
       "      <td>0.248646</td>\n",
       "      <td>-0.098857</td>\n",
       "      <td>-0.094773</td>\n",
       "      <td>7.70</td>\n",
       "      <td>0</td>\n",
       "    </tr>\n",
       "    <tr>\n",
       "      <th>1</th>\n",
       "      <td>116819</td>\n",
       "      <td>2.080143</td>\n",
       "      <td>-0.075408</td>\n",
       "      <td>-1.359381</td>\n",
       "      <td>0.261263</td>\n",
       "      <td>0.232201</td>\n",
       "      <td>-0.797886</td>\n",
       "      <td>0.233487</td>\n",
       "      <td>-0.330165</td>\n",
       "      <td>0.493154</td>\n",
       "      <td>...</td>\n",
       "      <td>-0.317765</td>\n",
       "      <td>-0.784150</td>\n",
       "      <td>0.233078</td>\n",
       "      <td>-0.636937</td>\n",
       "      <td>-0.191137</td>\n",
       "      <td>0.234986</td>\n",
       "      <td>-0.070648</td>\n",
       "      <td>-0.062794</td>\n",
       "      <td>17.99</td>\n",
       "      <td>0</td>\n",
       "    </tr>\n",
       "    <tr>\n",
       "      <th>2</th>\n",
       "      <td>27917</td>\n",
       "      <td>1.152650</td>\n",
       "      <td>0.204938</td>\n",
       "      <td>0.441832</td>\n",
       "      <td>1.211595</td>\n",
       "      <td>-0.254895</td>\n",
       "      <td>-0.383380</td>\n",
       "      <td>-0.004286</td>\n",
       "      <td>-0.019590</td>\n",
       "      <td>0.085094</td>\n",
       "      <td>...</td>\n",
       "      <td>0.066674</td>\n",
       "      <td>0.209828</td>\n",
       "      <td>-0.054351</td>\n",
       "      <td>0.058103</td>\n",
       "      <td>0.515330</td>\n",
       "      <td>-0.299402</td>\n",
       "      <td>0.032551</td>\n",
       "      <td>0.022865</td>\n",
       "      <td>21.00</td>\n",
       "      <td>0</td>\n",
       "    </tr>\n",
       "    <tr>\n",
       "      <th>3</th>\n",
       "      <td>97443</td>\n",
       "      <td>-0.389692</td>\n",
       "      <td>0.410148</td>\n",
       "      <td>0.616187</td>\n",
       "      <td>-0.686644</td>\n",
       "      <td>1.040312</td>\n",
       "      <td>-0.322199</td>\n",
       "      <td>0.523625</td>\n",
       "      <td>-0.037453</td>\n",
       "      <td>1.319237</td>\n",
       "      <td>...</td>\n",
       "      <td>0.116692</td>\n",
       "      <td>0.685267</td>\n",
       "      <td>-0.182303</td>\n",
       "      <td>0.767857</td>\n",
       "      <td>-0.242738</td>\n",
       "      <td>0.009678</td>\n",
       "      <td>0.115370</td>\n",
       "      <td>0.176041</td>\n",
       "      <td>6.60</td>\n",
       "      <td>0</td>\n",
       "    </tr>\n",
       "    <tr>\n",
       "      <th>4</th>\n",
       "      <td>17920</td>\n",
       "      <td>-1.306986</td>\n",
       "      <td>0.183306</td>\n",
       "      <td>3.164803</td>\n",
       "      <td>0.810135</td>\n",
       "      <td>1.529576</td>\n",
       "      <td>2.388322</td>\n",
       "      <td>0.551279</td>\n",
       "      <td>-0.054401</td>\n",
       "      <td>1.675481</td>\n",
       "      <td>...</td>\n",
       "      <td>-0.203993</td>\n",
       "      <td>0.556523</td>\n",
       "      <td>0.146513</td>\n",
       "      <td>-1.128693</td>\n",
       "      <td>-0.633623</td>\n",
       "      <td>-0.454903</td>\n",
       "      <td>-0.826329</td>\n",
       "      <td>-0.826186</td>\n",
       "      <td>4.95</td>\n",
       "      <td>0</td>\n",
       "    </tr>\n",
       "  </tbody>\n",
       "</table>\n",
       "<p>5 rows × 31 columns</p>\n",
       "</div>"
      ],
      "text/plain": [
       "     Time        V1        V2        V3        V4        V5        V6  \\\n",
       "0  136330  2.108286 -0.020359 -2.234273 -0.124080  0.559843 -1.315913   \n",
       "1  116819  2.080143 -0.075408 -1.359381  0.261263  0.232201 -0.797886   \n",
       "2   27917  1.152650  0.204938  0.441832  1.211595 -0.254895 -0.383380   \n",
       "3   97443 -0.389692  0.410148  0.616187 -0.686644  1.040312 -0.322199   \n",
       "4   17920 -1.306986  0.183306  3.164803  0.810135  1.529576  2.388322   \n",
       "\n",
       "         V7        V8        V9  ...       V21       V22       V23       V24  \\\n",
       "0  0.631887 -0.385490  0.150628  ...  0.162940  0.519705 -0.091751 -0.379542   \n",
       "1  0.233487 -0.330165  0.493154  ... -0.317765 -0.784150  0.233078 -0.636937   \n",
       "2 -0.004286 -0.019590  0.085094  ...  0.066674  0.209828 -0.054351  0.058103   \n",
       "3  0.523625 -0.037453  1.319237  ...  0.116692  0.685267 -0.182303  0.767857   \n",
       "4  0.551279 -0.054401  1.675481  ... -0.203993  0.556523  0.146513 -1.128693   \n",
       "\n",
       "        V25       V26       V27       V28  Amount  Class  \n",
       "0  0.418822  0.248646 -0.098857 -0.094773    7.70      0  \n",
       "1 -0.191137  0.234986 -0.070648 -0.062794   17.99      0  \n",
       "2  0.515330 -0.299402  0.032551  0.022865   21.00      0  \n",
       "3 -0.242738  0.009678  0.115370  0.176041    6.60      0  \n",
       "4 -0.633623 -0.454903 -0.826329 -0.826186    4.95      0  \n",
       "\n",
       "[5 rows x 31 columns]"
      ]
     },
     "execution_count": 8,
     "metadata": {},
     "output_type": "execute_result"
    }
   ],
   "source": [
    "df.head()"
   ]
  },
  {
   "cell_type": "code",
   "execution_count": 15,
   "metadata": {},
   "outputs": [
    {
     "data": {
      "text/plain": [
       "0    28428\n",
       "1       52\n",
       "Name: Class, dtype: int64"
      ]
     },
     "execution_count": 15,
     "metadata": {},
     "output_type": "execute_result"
    }
   ],
   "source": [
    "df['Class'].value_counts()"
   ]
  },
  {
   "cell_type": "code",
   "execution_count": 75,
   "metadata": {},
   "outputs": [],
   "source": [
    "from sklearn.linear_model import LogisticRegression\n",
    "from sklearn.model_selection import train_test_split\n",
    "from sklearn.preprocessing import StandardScaler\n",
    "from sklearn.metrics import * # matirx\n",
    "from sklearn.datasets import make_classification\n",
    "from sklearn.metrics import classification_report\n",
    "from sklearn.metrics import roc_curve"
   ]
  },
  {
   "cell_type": "markdown",
   "metadata": {},
   "source": [
    "## 1. 데이터 분할"
   ]
  },
  {
   "cell_type": "code",
   "execution_count": 22,
   "metadata": {},
   "outputs": [],
   "source": [
    "# train, test 데이터 분할\n",
    "# train 과 test = 8 : 2\n",
    "train, test = train_test_split(df, test_size=0.2, random_state=0)"
   ]
  },
  {
   "cell_type": "code",
   "execution_count": null,
   "metadata": {},
   "outputs": [],
   "source": [
    "# train, test 로 분할한 뒤 정규화 진행\n",
    "# 먼저 train\n",
    "scaler = StandardScaler()\n",
    "x_train_raw = scaler.fit_transform(train.drop('Class', axis=1))\n",
    "x_train = pd.DataFrame(x_train_raw, columns = train.columns[:-1])\n",
    "y_train = train.Class"
   ]
  },
  {
   "cell_type": "code",
   "execution_count": 45,
   "metadata": {},
   "outputs": [],
   "source": [
    "# 다음 test\n",
    "x_test_raw = scaler.fit_transform(test.drop('Class', axis=1))\n",
    "x_test = pd.DataFrame(x_test_raw, columns = test.columns[:-1])\n",
    "y_test = test.Class"
   ]
  },
  {
   "cell_type": "code",
   "execution_count": 49,
   "metadata": {},
   "outputs": [
    {
     "data": {
      "text/plain": [
       "((22784, 30), (5696, 30), (22784,), (5696,))"
      ]
     },
     "execution_count": 49,
     "metadata": {},
     "output_type": "execute_result"
    }
   ],
   "source": [
    "x_train.shape, x_test.shape, y_train.shape, y_test.shape"
   ]
  },
  {
   "cell_type": "markdown",
   "metadata": {},
   "source": [
    "## 2. 로지스틱 회귀분석"
   ]
  },
  {
   "cell_type": "code",
   "execution_count": 63,
   "metadata": {},
   "outputs": [
    {
     "name": "stdout",
     "output_type": "stream",
     "text": [
      "학습용 데이터셋 정확도 :  0.9989027387640449\n"
     ]
    }
   ],
   "source": [
    "# 로지스틱 회귀분석 생성\n",
    "# train 데이터 적용\n",
    "LR = LogisticRegression()\n",
    "LR.fit(x_train, y_train)\n",
    "print('학습용 데이터셋 정확도 : ', LR.score(x_train, y_train))"
   ]
  },
  {
   "cell_type": "code",
   "execution_count": 64,
   "metadata": {},
   "outputs": [
    {
     "data": {
      "text/plain": [
       "array([0, 0, 0, ..., 0, 0, 0])"
      ]
     },
     "execution_count": 64,
     "metadata": {},
     "output_type": "execute_result"
    }
   ],
   "source": [
    "# train 데이터 fit 된 LR 모델에 x_test 데이터로 y 값 예측\n",
    "y_pred = classifier.predict(x_test)\n",
    "y_pred"
   ]
  },
  {
   "cell_type": "code",
   "execution_count": 65,
   "metadata": {},
   "outputs": [
    {
     "data": {
      "text/plain": [
       "array([[9.99822788e-01, 1.77212285e-04],\n",
       "       [9.99435923e-01, 5.64076604e-04],\n",
       "       [9.99964423e-01, 3.55774260e-05],\n",
       "       ...,\n",
       "       [9.99733034e-01, 2.66965720e-04],\n",
       "       [9.99997142e-01, 2.85783363e-06],\n",
       "       [9.99926387e-01, 7.36132951e-05]])"
      ]
     },
     "execution_count": 65,
     "metadata": {},
     "output_type": "execute_result"
    }
   ],
   "source": [
    "# 클래스(0,1) 를 구분한 각 확률값\n",
    "LR.predict_proba(x_test)"
   ]
  },
  {
   "cell_type": "code",
   "execution_count": 66,
   "metadata": {},
   "outputs": [
    {
     "name": "stdout",
     "output_type": "stream",
     "text": [
      "학습용 데이터셋 정확도 :  0.9998244382022472\n"
     ]
    }
   ],
   "source": [
    "print('학습용 데이터셋 정확도 : ', LR.score(x_test, y_test))"
   ]
  },
  {
   "cell_type": "markdown",
   "metadata": {},
   "source": [
    "## 3. 분류 성능평가"
   ]
  },
  {
   "cell_type": "code",
   "execution_count": 74,
   "metadata": {},
   "outputs": [
    {
     "data": {
      "text/plain": [
       "array([[5687,    0],\n",
       "       [   1,    8]])"
      ]
     },
     "execution_count": 74,
     "metadata": {},
     "output_type": "execute_result"
    }
   ],
   "source": [
    "# 실제 양성(1)을 양성이라고 예측 -> 5687\n",
    "# 실제 음성(0)을 양성이라고 예측 -> 1\n",
    "# 실제 음성을 음성이라고 예측 -> 8\n",
    "confusion_matrix(y_test, y_pred)"
   ]
  },
  {
   "cell_type": "code",
   "execution_count": null,
   "metadata": {},
   "outputs": [],
   "source": []
  },
  {
   "cell_type": "markdown",
   "metadata": {},
   "source": [
    "   - 정확도(accuracy) : 전체 샘플 중 맞게 예측한 샘플 수의 비율\n",
    "   - 정밀도(precision) : 양성 클래스에 속한다고 출력한 샘플 중 실제로 양성 클래스에 속하는 샘플 수의 비율\n",
    "   - 재현율(recall) : 실제 양성 클래스에 속한 표본 중에 양성 클래스에 속한다고 출력한 표본의 수의 비율\n",
    "   - F-score : 정밀도와 재현율의 가중조화평균(weight harmonic average)\n",
    "    \n",
    "   ###### 출처 : https://datascienceschool.net/view-notebook/731e0d2ef52c41c686ba53dcaf346f32/"
   ]
  },
  {
   "cell_type": "code",
   "execution_count": 73,
   "metadata": {},
   "outputs": [
    {
     "name": "stdout",
     "output_type": "stream",
     "text": [
      "              precision    recall  f1-score   support\n",
      "\n",
      "     class 0       1.00      1.00      1.00      5687\n",
      "     class 1       1.00      0.89      0.94         9\n",
      "\n",
      "    accuracy                           1.00      5696\n",
      "   macro avg       1.00      0.94      0.97      5696\n",
      "weighted avg       1.00      1.00      1.00      5696\n",
      "\n"
     ]
    }
   ],
   "source": [
    "# 실제 1인 데이터 중 89%가 1로 판별됨\n",
    "print(classification_report(y_test, y_pred, target_names=['class 0', 'class 1']))"
   ]
  },
  {
   "cell_type": "code",
   "execution_count": 93,
   "metadata": {},
   "outputs": [
    {
     "data": {
      "text/plain": [
       "(array([0.00000000e+00, 0.00000000e+00, 0.00000000e+00, 8.79198171e-04,\n",
       "        8.79198171e-04, 4.28169509e-01, 4.28521189e-01, 1.00000000e+00]),\n",
       " array([0.        , 0.11111111, 0.88888889, 0.88888889, 1.        ,\n",
       "        1.        , 1.        , 1.        ]),\n",
       " array([ 17.67207036,  16.67207036,   1.63569306,  -2.89202008,\n",
       "         -3.04716816,  -8.68266881,  -8.68271791, -20.15510101]))"
      ]
     },
     "execution_count": 93,
     "metadata": {},
     "output_type": "execute_result"
    }
   ],
   "source": [
    "# y 벡터, y_test 와 판별함수, x_test 를 대입\n",
    "\n",
    "fpr, tpr, thresholds = roc_curve(y_test, LR.decision_function(x_test))\n",
    "fpr, tpr, thresholds"
   ]
  },
  {
   "cell_type": "code",
   "execution_count": 95,
   "metadata": {},
   "outputs": [],
   "source": [
    "import matplotlib.pyplot as plt"
   ]
  },
  {
   "cell_type": "code",
   "execution_count": 106,
   "metadata": {},
   "outputs": [],
   "source": [
    "# 그래프에서 한글을 사용하기 위해 한글폰트를 적용\n",
    "# 맥북이기에 애플고딕을 사용\n",
    "plt.style.use('seaborn') # seaborn 스타일로 변환\n",
    "plt.rc('font', family='AppleGothic')\n",
    "plt.rc('axes', unicode_minus=False)"
   ]
  },
  {
   "cell_type": "code",
   "execution_count": 111,
   "metadata": {},
   "outputs": [],
   "source": [
    "# 위양성율, fall-out : 실제 음성 데이터를 양성으로 분류한 비율\n",
    "# 재현율, recall : 실제 양성 데이터를 양성으로 분류한 비율\n",
    "fallout = 1 / (1+8)\n",
    "recall = 5687 / (5687+0)"
   ]
  },
  {
   "cell_type": "code",
   "execution_count": 114,
   "metadata": {},
   "outputs": [
    {
     "data": {
      "image/png": "[encoded data removed]",
      "text/plain": [
       "<Figure size 576x396 with 1 Axes>"
      ]
     },
     "metadata": {},
     "output_type": "display_data"
    }
   ],
   "source": [
    "# curve 가 왼쪽 위 모서리에 가깝기 때문에 모델의 성능이 좋다고 평가할 수 있음\n",
    "# fall-out 이 작고 y=x 그래프보다 상단에 위치해 있기 때문에 성능이 좋다고 평가할 수 있음\n",
    "plt.plot(fpr, tpr, 'o-', label=\"Logistic Regression\")\n",
    "plt.plot([0, 1], [0, 1], 'k--', label=\"random guess\")\n",
    "plt.plot([fallout], [recall], 'ro', ms=10)\n",
    "plt.xlabel('위양성률(Fall-Out)')\n",
    "plt.ylabel('재현률(Recall)')\n",
    "plt.title('Receiver operating characteristic example')\n",
    "plt.show()"
   ]
  },
  {
   "cell_type": "code",
   "execution_count": null,
   "metadata": {},
   "outputs": [],
   "source": []
  },
  {
   "cell_type": "code",
   "execution_count": null,
   "metadata": {},
   "outputs": [],
   "source": []
  },
  {
   "cell_type": "code",
   "execution_count": null,
   "metadata": {},
   "outputs": [],
   "source": []
  }
 ],
 "metadata": {
  "kernelspec": {
   "display_name": "Python 3",
   "language": "python",
   "name": "python3"
  },
  "language_info": {
   "codemirror_mode": {
    "name": "ipython",
    "version": 3
   },
   "file_extension": ".py",
   "mimetype": "text/x-python",
   "name": "python",
   "nbconvert_exporter": "python",
   "pygments_lexer": "ipython3",
   "version": "3.7.6"
  }
 },
 "nbformat": 4,
 "nbformat_minor": 4
}
