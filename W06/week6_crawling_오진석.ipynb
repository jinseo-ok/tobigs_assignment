{
 "cells": [
  {
   "cell_type": "code",
   "execution_count": 1,
   "metadata": {
    "Collapsed": "false"
   },
   "outputs": [],
   "source": [
    "import pandas as pd\n",
    "import numpy as np\n",
    "import requests\n",
    "import json\n",
    "from bs4 import BeautifulSoup"
   ]
  },
  {
   "cell_type": "markdown",
   "metadata": {
    "Collapsed": "false"
   },
   "source": [
    "## 코드 짜보기"
   ]
  },
  {
   "cell_type": "code",
   "execution_count": 2,
   "metadata": {
    "Collapsed": "false"
   },
   "outputs": [],
   "source": [
    "url  = 'https://movie.naver.com/movie/running/current.nhn#'"
   ]
  },
  {
   "cell_type": "code",
   "execution_count": 3,
   "metadata": {
    "Collapsed": "false"
   },
   "outputs": [
    {
     "data": {
      "text/plain": [
       "96"
      ]
     },
     "execution_count": 3,
     "metadata": {},
     "output_type": "execute_result"
    }
   ],
   "source": [
    "# 위 url 에서 노출되는 영화는 89건\n",
    "response  = requests.get(url)\n",
    "soup = BeautifulSoup(response.text, 'html.parser')\n",
    "found_items = soup.select('div.lst_wrap > ul.lst_detail_t1 > li')\n",
    "len(found_items)"
   ]
  },
  {
   "cell_type": "markdown",
   "metadata": {
    "Collapsed": "false"
   },
   "source": [
    "영화의 상세 페이지에도 크롤링할 정보가 모두 노출되어 있기에 다음과 같이 진행\n",
    "1. 크롤링 할 영화의 상세 페이지 url 저장\n",
    "2. 각 영화의 상세 페이지 진입 후 각 정보 크롤링"
   ]
  },
  {
   "cell_type": "code",
   "execution_count": 4,
   "metadata": {
    "Collapsed": "false"
   },
   "outputs": [
    {
     "name": "stdout",
     "output_type": "stream",
     "text": [
      "['인비저블맨'] 크롤링 완료\n",
      "['1917'] 크롤링 완료\n",
      "['지푸라기라도 잡고 싶은 짐승들'] 크롤링 완료\n",
      "['작은 아씨들'] 크롤링 완료\n"
     ]
    },
    {
     "ename": "TypeError",
     "evalue": "'NoneType' object is not subscriptable",
     "output_type": "error",
     "traceback": [
      "\u001b[0;31m---------------------------------------------------------------------------\u001b[0m",
      "\u001b[0;31mTypeError\u001b[0m                                 Traceback (most recent call last)",
      "\u001b[0;32m<ipython-input-4-b43afe9e8204>\u001b[0m in \u001b[0;36m<module>\u001b[0;34m\u001b[0m\n\u001b[1;32m     31\u001b[0m     \u001b[0ma_score\u001b[0m \u001b[0;34m=\u001b[0m \u001b[0ma_score\u001b[0m\u001b[0;34m.\u001b[0m\u001b[0msplit\u001b[0m\u001b[0;34m(\u001b[0m\u001b[0;34m'점'\u001b[0m\u001b[0;34m)\u001b[0m\u001b[0;34m[\u001b[0m\u001b[0;36m1\u001b[0m\u001b[0;34m]\u001b[0m\u001b[0;34m\u001b[0m\u001b[0;34m\u001b[0m\u001b[0m\n\u001b[1;32m     32\u001b[0m \u001b[0;34m\u001b[0m\u001b[0m\n\u001b[0;32m---> 33\u001b[0;31m     \u001b[0mr_score\u001b[0m \u001b[0;34m=\u001b[0m \u001b[0msoup\u001b[0m\u001b[0;34m.\u001b[0m\u001b[0mselect_one\u001b[0m\u001b[0;34m(\u001b[0m\u001b[0;34m'div.mv_info_area > div.mv_info > div.main_score > div.score:nth-child(2) > div.spc_score_area > a > div > span > span'\u001b[0m\u001b[0;34m)\u001b[0m\u001b[0;34m[\u001b[0m\u001b[0;34m'style'\u001b[0m\u001b[0;34m]\u001b[0m \u001b[0;31m# 평점이 별점 css의 넓이로도 표현됨\u001b[0m\u001b[0;34m\u001b[0m\u001b[0;34m\u001b[0m\u001b[0m\n\u001b[0m\u001b[1;32m     34\u001b[0m     \u001b[0mr_score\u001b[0m \u001b[0;34m=\u001b[0m \u001b[0mint\u001b[0m\u001b[0;34m(\u001b[0m\u001b[0mr_score\u001b[0m\u001b[0;34m.\u001b[0m\u001b[0msplit\u001b[0m\u001b[0;34m(\u001b[0m\u001b[0;34m':'\u001b[0m\u001b[0;34m)\u001b[0m\u001b[0;34m[\u001b[0m\u001b[0;36m1\u001b[0m\u001b[0;34m]\u001b[0m\u001b[0;34m.\u001b[0m\u001b[0msplit\u001b[0m\u001b[0;34m(\u001b[0m\u001b[0;34m'%'\u001b[0m\u001b[0;34m)\u001b[0m\u001b[0;34m[\u001b[0m\u001b[0;36m0\u001b[0m\u001b[0;34m]\u001b[0m\u001b[0;34m.\u001b[0m\u001b[0mreplace\u001b[0m\u001b[0;34m(\u001b[0m\u001b[0;34m'.'\u001b[0m\u001b[0;34m,\u001b[0m \u001b[0;34m''\u001b[0m\u001b[0;34m)\u001b[0m\u001b[0;34m)\u001b[0m \u001b[0;34m/\u001b[0m \u001b[0;36m100\u001b[0m \u001b[0;31m# 넓이를 int로 변환 후 평점으로 변경\u001b[0m\u001b[0;34m\u001b[0m\u001b[0;34m\u001b[0m\u001b[0m\n\u001b[1;32m     35\u001b[0m \u001b[0;34m\u001b[0m\u001b[0m\n",
      "\u001b[0;31mTypeError\u001b[0m: 'NoneType' object is not subscriptable"
     ]
    }
   ],
   "source": [
    "url  = 'https://movie.naver.com/movie/running/current.nhn#'\n",
    "\n",
    "# 위 url 에서 노출되는 영화는 89건\n",
    "response  = requests.get(url)\n",
    "soup = BeautifulSoup(response.text, 'html.parser')\n",
    "found_items = soup.select('div.lst_wrap > ul.lst_detail_t1 > li')\n",
    "found_items = found_items[:5] # 5개로 제한\n",
    "data = []\n",
    "for item in found_items:\n",
    "    \n",
    "    # 영화 상세 페이지 url\n",
    "    movie_url = 'https://movie.naver.com' + item.select_one('dl.lst_dsc > dt.tit > a')['href']\n",
    "    movie_url = movie_url.replace('basic', 'point') # 영화 상세 메인 페이지 -> 영화 상세 평점 페이지 (리뷰 개수 때문에))\n",
    "    code = movie_url.split('code=')[1] # 영화 코드 추출\n",
    "\n",
    "    # 상세 페이지로 이동\n",
    "    response  = requests.get(movie_url)\n",
    "    soup = BeautifulSoup(response.text, 'html.parser')\n",
    "    \n",
    "    # 영화 제목\n",
    "    title = soup.select_one('div.mv_info_area > div.mv_info > h3.h_movie > a').text\n",
    "    \n",
    "    # 주연 배우 3인\n",
    "    actors = soup.select('div.mv_info_area > div.mv_info > dl.info_spec > dd:nth-child(6) > p > a')\n",
    "    actors_list = []\n",
    "    for actor in actors:\n",
    "        actors_list.append(actor.text)\n",
    "        \n",
    "    # 평점들\n",
    "    a_score = soup.select_one('div.mv_info_area > div.mv_info > div.main_score > div.score > a > div > span').text\n",
    "    a_score = a_score.split('점')[1]\n",
    "    \n",
    "    r_score = soup.select_one('div.mv_info_area > div.mv_info > div.main_score > div.score:nth-child(2) > div.spc_score_area > a > div > span > span')['style'] # 평점이 별점 css의 넓이로도 표현됨\n",
    "    r_score = int(r_score.split(':')[1].split('%')[0].replace('.', '')) / 100 # 넓이를 int로 변환 후 평점으로 변경\n",
    "    \n",
    "    n_score = soup.select_one('div.mv_info_area > div.mv_info > div.main_score > div.score_left > div.star_score > a > span > span')['style']\n",
    "    n_score = int(n_score.split(':')[1].split('%')[0].replace('.', '')) / 100\n",
    "    \n",
    "    # 관람객 리뷰\n",
    "    review_list = []\n",
    "    for i in range(1,3): # 리뷰 20개 이므로 2페이지까지\n",
    "        reviews_url = f'https://movie.naver.com/movie/bi/mi/pointWriteFormList.nhn?code={code}&type=after&isActualPointWriteExecute=false&isMileageSubscriptionAlready=false&isMileageSubscriptionReject=false&page={i}'\n",
    "        response = requests.get(reviews_url)\n",
    "        soup = BeautifulSoup(response.text, 'html.parser')\n",
    "        reviews = soup.select('div.score_result > ul > li')\n",
    "        for review in reviews:\n",
    "            score = review.select_one('div.star_score > em').text\n",
    "            try:\n",
    "                nick = review.select_one('div.score_reple > dl > dt > em > a > span').text\n",
    "            except:\n",
    "                nicl = 'none'\n",
    "            content = review.select_one('div.score_reple > p > span').text.strip()\n",
    "            \n",
    "            value = [score, nick, content]\n",
    "            review_list.append(value)\n",
    "    print([title], '크롤링 완료')\n",
    "    value = [title, actors_list, a_score, r_score, n_score, review_list]\n",
    "    data.append(value)"
   ]
  },
  {
   "cell_type": "markdown",
   "metadata": {
    "Collapsed": "false"
   },
   "source": [
    "## 함수로 만들기"
   ]
  },
  {
   "cell_type": "code",
   "execution_count": 213,
   "metadata": {
    "Collapsed": "false"
   },
   "outputs": [],
   "source": [
    "def getMovie(url, each, page): # each 는 크롤링할 영화의 개수를 의미 여기서는 5개로 주어짐, page 는 크롤링할 리뷰 페이지를 의미 (페이지당 10개))\n",
    "\n",
    "    # 위 url 에서 노출되는 영화는 89건\n",
    "    response  = requests.get(url)\n",
    "    soup = BeautifulSoup(response.text, 'html.parser')\n",
    "    found_items = soup.select('div.lst_wrap > ul.lst_detail_t1 > li')\n",
    "    found_items = found_items[: each]\n",
    "    data = []\n",
    "    for item in found_items:\n",
    "\n",
    "        # 영화 상세 페이지 url\n",
    "        movie_url = 'https://movie.naver.com' + item.select_one('dl.lst_dsc > dt.tit > a')['href']\n",
    "        movie_url = movie_url.replace('basic', 'point') # 영화 상세 메인 페이지 -> 영화 상세 평점 페이지 (리뷰 개수 때문에))\n",
    "        code = movie_url.split('code=')[1] # 영화 코드 추출\n",
    "\n",
    "        # 상세 페이지로 이동\n",
    "        response  = requests.get(movie_url)\n",
    "        soup = BeautifulSoup(response.text, 'html.parser')\n",
    "\n",
    "        # 영화 제목\n",
    "        title = soup.select_one('div.mv_info_area > div.mv_info > h3.h_movie > a').text\n",
    "\n",
    "        # 주연 배우 3인\n",
    "        actors = soup.select('div.mv_info_area > div.mv_info > dl.info_spec > dd:nth-child(6) > p > a')\n",
    "        actors_list = []\n",
    "        for actor in actors:\n",
    "            actors_list.append(actor.text)\n",
    "\n",
    "        # 평점들 (관람객평점, 기자/평론가평점, 네티즌평점)\n",
    "        try:\n",
    "            a_score = soup.select_one('div.mv_info_area > div.mv_info > div.main_score > div.score > a > div > span').text\n",
    "            a_score = a_score.split('점')[1]\n",
    "            if a_score == ' 없음':\n",
    "                a_score = 'none'\n",
    "        except:\n",
    "            a_score = 'none'\n",
    "\n",
    "        try:\n",
    "            r_score = soup.select_one('div.mv_info_area > div.mv_info > div.main_score > div.score:nth-child(2) > div.spc_score_area > a > div > span > span')['style'] # 평점이 별점 css의 넓이로도 표현됨\n",
    "            r_score = int(r_score.split(':')[1].split('%')[0].replace('.', '')) / 100 # 넓이를 int로 변환 후 평점으로 변경\n",
    "        except:\n",
    "            r_score = 'none'\n",
    "            \n",
    "        try:\n",
    "            n_score = soup.select_one('div.mv_info_area > div.mv_info > div.main_score > div.score_left > div.star_score > a > span > span')['style']\n",
    "            n_score = int(n_score.split(':')[1].split('%')[0].replace('.', '')) / 100\n",
    "        except:\n",
    "            r_score = 'none'\n",
    "            \n",
    "        # 관람객 리뷰\n",
    "        review_list = []\n",
    "        for i in range(1,page): # page는 크롤링할 리뷰페이지를 의미, 여기서는 리뷰 20개 이므로 2페이지까지( 1page x 10 )\n",
    "            # {code} 는 위에서 크롤링한 영화 고유의 code를 의미함\n",
    "            #reviews_url 은 리뷰데이터를 따로 보관하고 있는 페이지임\n",
    "            reviews_url = f'https://movie.naver.com/movie/bi/mi/pointWriteFormList.nhn?code={code}&type=after&isActualPointWriteExecute=false&isMileageSubscriptionAlready=false&isMileageSubscriptionReject=false&page={i}'\n",
    "            response = requests.get(reviews_url)\n",
    "            soup = BeautifulSoup(response.text, 'html.parser')\n",
    "            reviews = soup.select('div.score_result > ul > li')\n",
    "            for review in reviews:\n",
    "                score = review.select_one('div.star_score > em').text\n",
    "                try:\n",
    "                    nick = review.select_one('div.score_reple > dl > dt > em > a > span').text\n",
    "                except:\n",
    "                    nicl = 'none'\n",
    "                content = review.select_one('div.score_reple > p > span').text.strip()\n",
    "\n",
    "                value = [score, nick, content]\n",
    "                review_list.append(value)\n",
    "        print([title], '크롤링 완료')\n",
    "        value = [title, actors_list, a_score, r_score, n_score, review_list]\n",
    "        data.append(value)\n",
    "    return data"
   ]
  },
  {
   "cell_type": "code",
   "execution_count": 201,
   "metadata": {
    "Collapsed": "false"
   },
   "outputs": [
    {
     "name": "stdout",
     "output_type": "stream",
     "text": [
      "['지푸라기라도 잡고 싶은 짐승들'] 크롤링 완료\n",
      "['정직한 후보'] 크롤링 완료\n",
      "['1917'] 크롤링 완료\n",
      "['작은 아씨들'] 크롤링 완료\n",
      "['클로젯'] 크롤링 완료\n"
     ]
    }
   ],
   "source": [
    "url = 'https://movie.naver.com/movie/running/current.nhn'\n",
    "data = getMovie(url, 5, 2) # 영화 5개 정보 및 각 영화당 2페이지 리뷰(2*10)크롤링"
   ]
  },
  {
   "cell_type": "code",
   "execution_count": 196,
   "metadata": {
    "Collapsed": "false"
   },
   "outputs": [],
   "source": [
    "df = pd.DataFrame(data, columns = ['영화제목', '주연배우', '관람객평점', '기자/평론가평점', '네티즌평점', '리뷰'])"
   ]
  },
  {
   "cell_type": "code",
   "execution_count": 197,
   "metadata": {
    "Collapsed": "false"
   },
   "outputs": [
    {
     "data": {
      "text/html": [
       "<div>\n",
       "<style scoped>\n",
       "    .dataframe tbody tr th:only-of-type {\n",
       "        vertical-align: middle;\n",
       "    }\n",
       "\n",
       "    .dataframe tbody tr th {\n",
       "        vertical-align: top;\n",
       "    }\n",
       "\n",
       "    .dataframe thead th {\n",
       "        text-align: right;\n",
       "    }\n",
       "</style>\n",
       "<table border=\"1\" class=\"dataframe\">\n",
       "  <thead>\n",
       "    <tr style=\"text-align: right;\">\n",
       "      <th></th>\n",
       "      <th>영화제목</th>\n",
       "      <th>주연배우</th>\n",
       "      <th>관람객평점</th>\n",
       "      <th>기자/평론가평점</th>\n",
       "      <th>네티즌평점</th>\n",
       "      <th>리뷰</th>\n",
       "    </tr>\n",
       "  </thead>\n",
       "  <tbody>\n",
       "    <tr>\n",
       "      <th>0</th>\n",
       "      <td>지푸라기라도 잡고 싶은 짐승들</td>\n",
       "      <td>[전도연, 정우성, 배성우]</td>\n",
       "      <td>9.13</td>\n",
       "      <td>6.80</td>\n",
       "      <td>7.68</td>\n",
       "      <td>[[10, bohemian(mabu****), 난 전도연의 화류계 캐릭터가 좋다. ...</td>\n",
       "    </tr>\n",
       "    <tr>\n",
       "      <th>1</th>\n",
       "      <td>정직한 후보</td>\n",
       "      <td>[라미란, 김무열, 나문희]</td>\n",
       "      <td>8.74</td>\n",
       "      <td>5.38</td>\n",
       "      <td>7.77</td>\n",
       "      <td>[[6, lililli(wken****), 관람객], [10, 김다솜(kmjd***...</td>\n",
       "    </tr>\n",
       "    <tr>\n",
       "      <th>2</th>\n",
       "      <td>1917</td>\n",
       "      <td>[조지 맥케이, 딘-찰스 채프먼]</td>\n",
       "      <td>9.67</td>\n",
       "      <td>7.33</td>\n",
       "      <td>9.13</td>\n",
       "      <td>[[8, hose(jsd9****), 충무로: 이거 어케하는거냐?], [10, 6월...</td>\n",
       "    </tr>\n",
       "    <tr>\n",
       "      <th>3</th>\n",
       "      <td>작은 아씨들</td>\n",
       "      <td>[시얼샤 로넌, 엠마 왓슨, 플로렌스 퓨]</td>\n",
       "      <td>9.27</td>\n",
       "      <td>8.00</td>\n",
       "      <td>8.93</td>\n",
       "      <td>[[10, 문덕현(mdh0****), 재밌다고 느끼면 추천을 아니다 비추천], [1...</td>\n",
       "    </tr>\n",
       "    <tr>\n",
       "      <th>4</th>\n",
       "      <td>클로젯</td>\n",
       "      <td>[하정우, 김남길, 허율]</td>\n",
       "      <td>8.47</td>\n",
       "      <td>5.50</td>\n",
       "      <td>6.88</td>\n",
       "      <td>[[10, 깜땀(qw13****), 김남길 미치게 섹시하다 진심], [10, gil...</td>\n",
       "    </tr>\n",
       "  </tbody>\n",
       "</table>\n",
       "</div>"
      ],
      "text/plain": [
       "               영화제목                     주연배우  관람객평점  기자/평론가평점  네티즌평점  \\\n",
       "0  지푸라기라도 잡고 싶은 짐승들          [전도연, 정우성, 배성우]   9.13      6.80   7.68   \n",
       "1            정직한 후보          [라미란, 김무열, 나문희]   8.74      5.38   7.77   \n",
       "2              1917       [조지 맥케이, 딘-찰스 채프먼]   9.67      7.33   9.13   \n",
       "3            작은 아씨들  [시얼샤 로넌, 엠마 왓슨, 플로렌스 퓨]   9.27      8.00   8.93   \n",
       "4               클로젯           [하정우, 김남길, 허율]   8.47      5.50   6.88   \n",
       "\n",
       "                                                  리뷰  \n",
       "0  [[10, bohemian(mabu****), 난 전도연의 화류계 캐릭터가 좋다. ...  \n",
       "1  [[6, lililli(wken****), 관람객], [10, 김다솜(kmjd***...  \n",
       "2  [[8, hose(jsd9****), 충무로: 이거 어케하는거냐?], [10, 6월...  \n",
       "3  [[10, 문덕현(mdh0****), 재밌다고 느끼면 추천을 아니다 비추천], [1...  \n",
       "4  [[10, 깜땀(qw13****), 김남길 미치게 섹시하다 진심], [10, gil...  "
      ]
     },
     "execution_count": 197,
     "metadata": {},
     "output_type": "execute_result"
    }
   ],
   "source": [
    "df.head()"
   ]
  },
  {
   "cell_type": "code",
   "execution_count": 214,
   "metadata": {
    "Collapsed": "false"
   },
   "outputs": [
    {
     "name": "stdout",
     "output_type": "stream",
     "text": [
      "['지푸라기라도 잡고 싶은 짐승들'] 크롤링 완료\n",
      "['정직한 후보'] 크롤링 완료\n",
      "['1917'] 크롤링 완료\n",
      "['작은 아씨들'] 크롤링 완료\n",
      "['클로젯'] 크롤링 완료\n",
      "['기생충'] 크롤링 완료\n",
      "['수퍼 소닉'] 크롤링 완료\n",
      "['하이, 젝시'] 크롤링 완료\n",
      "['숀더쉽 더 무비: 꼬마 외계인 룰라!'] 크롤링 완료\n",
      "['조조 래빗'] 크롤링 완료\n",
      "['남산의 부장들'] 크롤링 완료\n",
      "['버즈 오브 프레이(할리 퀸의 황홀한 해방)'] 크롤링 완료\n",
      "['극장판 미니특공대: 공룡왕 디노'] 크롤링 완료\n",
      "['타오르는 여인의 초상'] 크롤링 완료\n",
      "['극장판 원피스 스탬피드'] 크롤링 완료\n",
      "['이 멋진 세계에 축복을! 붉은 전설'] 크롤링 완료\n",
      "['작가 미상'] 크롤링 완료\n",
      "['페인 앤 글로리'] 크롤링 완료\n",
      "['사마에게'] 크롤링 완료\n",
      "['인셉션'] 크롤링 완료\n"
     ]
    }
   ],
   "source": [
    "# 30개 영화와 각 영화당 50개 리뷰씩 크롤링\n",
    "data2 = getMovie(url, 20, 5)"
   ]
  },
  {
   "cell_type": "code",
   "execution_count": 215,
   "metadata": {
    "Collapsed": "false"
   },
   "outputs": [],
   "source": [
    "df = pd.DataFrame(data2, columns = ['영화제목', '주연배우', '관람객평점', '기자/평론가평점', '네티즌평점', '리뷰'])"
   ]
  },
  {
   "cell_type": "code",
   "execution_count": 216,
   "metadata": {
    "Collapsed": "false"
   },
   "outputs": [
    {
     "data": {
      "text/html": [
       "<div>\n",
       "<style scoped>\n",
       "    .dataframe tbody tr th:only-of-type {\n",
       "        vertical-align: middle;\n",
       "    }\n",
       "\n",
       "    .dataframe tbody tr th {\n",
       "        vertical-align: top;\n",
       "    }\n",
       "\n",
       "    .dataframe thead th {\n",
       "        text-align: right;\n",
       "    }\n",
       "</style>\n",
       "<table border=\"1\" class=\"dataframe\">\n",
       "  <thead>\n",
       "    <tr style=\"text-align: right;\">\n",
       "      <th></th>\n",
       "      <th>영화제목</th>\n",
       "      <th>주연배우</th>\n",
       "      <th>관람객평점</th>\n",
       "      <th>기자/평론가평점</th>\n",
       "      <th>네티즌평점</th>\n",
       "      <th>리뷰</th>\n",
       "    </tr>\n",
       "  </thead>\n",
       "  <tbody>\n",
       "    <tr>\n",
       "      <th>0</th>\n",
       "      <td>지푸라기라도 잡고 싶은 짐승들</td>\n",
       "      <td>[전도연, 정우성, 배성우]</td>\n",
       "      <td>9.13</td>\n",
       "      <td>6.83</td>\n",
       "      <td>7.68</td>\n",
       "      <td>[[10, bohemian(mabu****), 난 전도연의 화류계 캐릭터가 좋다. ...</td>\n",
       "    </tr>\n",
       "    <tr>\n",
       "      <th>1</th>\n",
       "      <td>정직한 후보</td>\n",
       "      <td>[라미란, 김무열, 나문희]</td>\n",
       "      <td>8.74</td>\n",
       "      <td>5.38</td>\n",
       "      <td>7.77</td>\n",
       "      <td>[[6, lililli(wken****), 관람객], [10, 김다솜(kmjd***...</td>\n",
       "    </tr>\n",
       "    <tr>\n",
       "      <th>2</th>\n",
       "      <td>1917</td>\n",
       "      <td>[조지 맥케이, 딘-찰스 채프먼]</td>\n",
       "      <td>9.67</td>\n",
       "      <td>7.67</td>\n",
       "      <td>9.12</td>\n",
       "      <td>[[8, hose(jsd9****), 충무로: 이거 어케하는거냐?], [10, 6월...</td>\n",
       "    </tr>\n",
       "    <tr>\n",
       "      <th>3</th>\n",
       "      <td>작은 아씨들</td>\n",
       "      <td>[시얼샤 로넌, 엠마 왓슨, 플로렌스 퓨]</td>\n",
       "      <td>9.27</td>\n",
       "      <td>8</td>\n",
       "      <td>8.93</td>\n",
       "      <td>[[10, 문덕현(mdh0****), 재밌다고 느끼면 추천을 아니다 비추천], [1...</td>\n",
       "    </tr>\n",
       "    <tr>\n",
       "      <th>4</th>\n",
       "      <td>클로젯</td>\n",
       "      <td>[하정우, 김남길, 허율]</td>\n",
       "      <td>8.47</td>\n",
       "      <td>5.5</td>\n",
       "      <td>6.88</td>\n",
       "      <td>[[10, 깜땀(qw13****), 김남길 미치게 섹시하다 진심], [10, gil...</td>\n",
       "    </tr>\n",
       "    <tr>\n",
       "      <th>5</th>\n",
       "      <td>기생충</td>\n",
       "      <td>[송강호, 이선균, 조여정]</td>\n",
       "      <td>9.07</td>\n",
       "      <td>9.06</td>\n",
       "      <td>8.49</td>\n",
       "      <td>[[10, brilliant_AKA_밝음(bril****), 비에 젖지 않는 고급 ...</td>\n",
       "    </tr>\n",
       "    <tr>\n",
       "      <th>6</th>\n",
       "      <td>수퍼 소닉</td>\n",
       "      <td>[짐 캐리, 제임스 마스던, 벤 슈와츠]</td>\n",
       "      <td>8.66</td>\n",
       "      <td>5</td>\n",
       "      <td>8.44</td>\n",
       "      <td>[[9, STARK(lshc****), 소닉 성형이 신의 한수... 제작진이 성형시...</td>\n",
       "    </tr>\n",
       "    <tr>\n",
       "      <th>7</th>\n",
       "      <td>하이, 젝시</td>\n",
       "      <td>[아담 드바인, 로즈 번]</td>\n",
       "      <td>9.33</td>\n",
       "      <td>5.5</td>\n",
       "      <td>6.80</td>\n",
       "      <td>[[6, napa****, 그냥저냥 킬링타임용. 이럴거면 아예 청불 등급에 더 쎈 ...</td>\n",
       "    </tr>\n",
       "    <tr>\n",
       "      <th>8</th>\n",
       "      <td>숀더쉽 더 무비: 꼬마 외계인 룰라!</td>\n",
       "      <td>[저스틴 플레쳐, 아멜리아 비테일]</td>\n",
       "      <td>10.00</td>\n",
       "      <td>6.75</td>\n",
       "      <td>9.57</td>\n",
       "      <td>[[10, JINs(sjho****), 자녀들과 같이 보기에 아주 건전하고 재미있는...</td>\n",
       "    </tr>\n",
       "    <tr>\n",
       "      <th>9</th>\n",
       "      <td>조조 래빗</td>\n",
       "      <td>[스칼렛 요한슨, 로만 그리핀 데이비스, 타이카 와이티티]</td>\n",
       "      <td>9.08</td>\n",
       "      <td>7.17</td>\n",
       "      <td>9.27</td>\n",
       "      <td>[[10, 2023032(yjpa****), 연기, 연출, 스토리, 영상미 뭐 하나...</td>\n",
       "    </tr>\n",
       "    <tr>\n",
       "      <th>10</th>\n",
       "      <td>남산의 부장들</td>\n",
       "      <td>[이병헌, 이성민, 곽도원]</td>\n",
       "      <td>8.48</td>\n",
       "      <td>6.9</td>\n",
       "      <td>7.44</td>\n",
       "      <td>[[10, 빛그림(namj****), 관람객], [10, erlo****, 관람객]...</td>\n",
       "    </tr>\n",
       "    <tr>\n",
       "      <th>11</th>\n",
       "      <td>버즈 오브 프레이(할리 퀸의 황홀한 해방)</td>\n",
       "      <td>[마고 로비]</td>\n",
       "      <td>8.35</td>\n",
       "      <td>6.4</td>\n",
       "      <td>6.71</td>\n",
       "      <td>[[5, 안태현(agc0****), 이거 왜 남자는 6점대고 여자는 10점이냐ㅋㅋㅋ...</td>\n",
       "    </tr>\n",
       "    <tr>\n",
       "      <th>12</th>\n",
       "      <td>극장판 미니특공대: 공룡왕 디노</td>\n",
       "      <td>[신용우, 엄상현, 이소영]</td>\n",
       "      <td>6.00</td>\n",
       "      <td>5</td>\n",
       "      <td>9.34</td>\n",
       "      <td>[[6, sagw****, 미니특공대가 조연이에요. 개인적으로 미니특공대가 하는게 ...</td>\n",
       "    </tr>\n",
       "    <tr>\n",
       "      <th>13</th>\n",
       "      <td>타오르는 여인의 초상</td>\n",
       "      <td>[아델 하에넬, 노에미 메를랑, 루아나 바야미]</td>\n",
       "      <td>9.13</td>\n",
       "      <td>9.22</td>\n",
       "      <td>9.02</td>\n",
       "      <td>[[10, 감녕(ybae****), 2020년 최고의 영화], [10, 세현(jus...</td>\n",
       "    </tr>\n",
       "    <tr>\n",
       "      <th>14</th>\n",
       "      <td>극장판 원피스 스탬피드</td>\n",
       "      <td>[타나카 마유미, 나카이 카즈야, 오카무라 아케미]</td>\n",
       "      <td>8.93</td>\n",
       "      <td>5</td>\n",
       "      <td>8.93</td>\n",
       "      <td>[[10, actorDH(gosu****), 저 원피스 캐릭터들을 한자리에서 볼수있...</td>\n",
       "    </tr>\n",
       "    <tr>\n",
       "      <th>15</th>\n",
       "      <td>이 멋진 세계에 축복을! 붉은 전설</td>\n",
       "      <td>[후쿠시마 준, 아마미야 소라, 타카하시 리에]</td>\n",
       "      <td>9.14</td>\n",
       "      <td>none</td>\n",
       "      <td>8.29</td>\n",
       "      <td>[[10, 문승현(msh0****), 씹덕들아 이좋을걸 지들끼리만 보내], [2, ...</td>\n",
       "    </tr>\n",
       "    <tr>\n",
       "      <th>16</th>\n",
       "      <td>작가 미상</td>\n",
       "      <td>[톰 쉴링, 폴라 비어, 세바스티안 코치]</td>\n",
       "      <td>none</td>\n",
       "      <td>6.5</td>\n",
       "      <td>8.89</td>\n",
       "      <td>[[10, Mini(seun****), 눈길 돌리지 마, 쿠르트. 진실한 건 모두 ...</td>\n",
       "    </tr>\n",
       "    <tr>\n",
       "      <th>17</th>\n",
       "      <td>페인 앤 글로리</td>\n",
       "      <td>[페넬로페 크루즈, 안토니오 반데라스]</td>\n",
       "      <td>8.68</td>\n",
       "      <td>8</td>\n",
       "      <td>8.13</td>\n",
       "      <td>[[10, ddon****, 내가 밟아온 모든 경험이 나를 살게 하는, 살고싶게 하...</td>\n",
       "    </tr>\n",
       "    <tr>\n",
       "      <th>18</th>\n",
       "      <td>사마에게</td>\n",
       "      <td>[와드 알-카팁, 사마 알-카팁, 함자 알-카팁]</td>\n",
       "      <td>9.14</td>\n",
       "      <td>7.33</td>\n",
       "      <td>9.18</td>\n",
       "      <td>[[10, 조아라(wdf1****), 영화보는 내내 오열하면서도 내 자신이 우는것마...</td>\n",
       "    </tr>\n",
       "    <tr>\n",
       "      <th>19</th>\n",
       "      <td>인셉션</td>\n",
       "      <td>[레오나르도 디카프리오, 와타나베 켄, 조셉 고든 레빗]</td>\n",
       "      <td>9.64</td>\n",
       "      <td>7.93</td>\n",
       "      <td>9.22</td>\n",
       "      <td>[[10, 외국인(rudw****), 집에 가기 가장 어려운 영화.], [9, 벚꽃...</td>\n",
       "    </tr>\n",
       "  </tbody>\n",
       "</table>\n",
       "</div>"
      ],
      "text/plain": [
       "                       영화제목                              주연배우   관람객평점  \\\n",
       "0          지푸라기라도 잡고 싶은 짐승들                   [전도연, 정우성, 배성우]    9.13   \n",
       "1                    정직한 후보                   [라미란, 김무열, 나문희]    8.74   \n",
       "2                      1917                [조지 맥케이, 딘-찰스 채프먼]    9.67   \n",
       "3                    작은 아씨들           [시얼샤 로넌, 엠마 왓슨, 플로렌스 퓨]    9.27   \n",
       "4                       클로젯                    [하정우, 김남길, 허율]    8.47   \n",
       "5                       기생충                   [송강호, 이선균, 조여정]    9.07   \n",
       "6                     수퍼 소닉            [짐 캐리, 제임스 마스던, 벤 슈와츠]    8.66   \n",
       "7                    하이, 젝시                    [아담 드바인, 로즈 번]    9.33   \n",
       "8      숀더쉽 더 무비: 꼬마 외계인 룰라!               [저스틴 플레쳐, 아멜리아 비테일]   10.00   \n",
       "9                     조조 래빗  [스칼렛 요한슨, 로만 그리핀 데이비스, 타이카 와이티티]    9.08   \n",
       "10                  남산의 부장들                   [이병헌, 이성민, 곽도원]    8.48   \n",
       "11  버즈 오브 프레이(할리 퀸의 황홀한 해방)                           [마고 로비]    8.35   \n",
       "12        극장판 미니특공대: 공룡왕 디노                   [신용우, 엄상현, 이소영]    6.00   \n",
       "13              타오르는 여인의 초상        [아델 하에넬, 노에미 메를랑, 루아나 바야미]    9.13   \n",
       "14             극장판 원피스 스탬피드      [타나카 마유미, 나카이 카즈야, 오카무라 아케미]    8.93   \n",
       "15      이 멋진 세계에 축복을! 붉은 전설        [후쿠시마 준, 아마미야 소라, 타카하시 리에]    9.14   \n",
       "16                    작가 미상           [톰 쉴링, 폴라 비어, 세바스티안 코치]    none   \n",
       "17                 페인 앤 글로리             [페넬로페 크루즈, 안토니오 반데라스]    8.68   \n",
       "18                     사마에게       [와드 알-카팁, 사마 알-카팁, 함자 알-카팁]    9.14   \n",
       "19                      인셉션   [레오나르도 디카프리오, 와타나베 켄, 조셉 고든 레빗]    9.64   \n",
       "\n",
       "   기자/평론가평점  네티즌평점                                                 리뷰  \n",
       "0      6.83   7.68  [[10, bohemian(mabu****), 난 전도연의 화류계 캐릭터가 좋다. ...  \n",
       "1      5.38   7.77  [[6, lililli(wken****), 관람객], [10, 김다솜(kmjd***...  \n",
       "2      7.67   9.12  [[8, hose(jsd9****), 충무로: 이거 어케하는거냐?], [10, 6월...  \n",
       "3         8   8.93  [[10, 문덕현(mdh0****), 재밌다고 느끼면 추천을 아니다 비추천], [1...  \n",
       "4       5.5   6.88  [[10, 깜땀(qw13****), 김남길 미치게 섹시하다 진심], [10, gil...  \n",
       "5      9.06   8.49  [[10, brilliant_AKA_밝음(bril****), 비에 젖지 않는 고급 ...  \n",
       "6         5   8.44  [[9, STARK(lshc****), 소닉 성형이 신의 한수... 제작진이 성형시...  \n",
       "7       5.5   6.80  [[6, napa****, 그냥저냥 킬링타임용. 이럴거면 아예 청불 등급에 더 쎈 ...  \n",
       "8      6.75   9.57  [[10, JINs(sjho****), 자녀들과 같이 보기에 아주 건전하고 재미있는...  \n",
       "9      7.17   9.27  [[10, 2023032(yjpa****), 연기, 연출, 스토리, 영상미 뭐 하나...  \n",
       "10      6.9   7.44  [[10, 빛그림(namj****), 관람객], [10, erlo****, 관람객]...  \n",
       "11      6.4   6.71  [[5, 안태현(agc0****), 이거 왜 남자는 6점대고 여자는 10점이냐ㅋㅋㅋ...  \n",
       "12        5   9.34  [[6, sagw****, 미니특공대가 조연이에요. 개인적으로 미니특공대가 하는게 ...  \n",
       "13     9.22   9.02  [[10, 감녕(ybae****), 2020년 최고의 영화], [10, 세현(jus...  \n",
       "14        5   8.93  [[10, actorDH(gosu****), 저 원피스 캐릭터들을 한자리에서 볼수있...  \n",
       "15     none   8.29  [[10, 문승현(msh0****), 씹덕들아 이좋을걸 지들끼리만 보내], [2, ...  \n",
       "16      6.5   8.89  [[10, Mini(seun****), 눈길 돌리지 마, 쿠르트. 진실한 건 모두 ...  \n",
       "17        8   8.13  [[10, ddon****, 내가 밟아온 모든 경험이 나를 살게 하는, 살고싶게 하...  \n",
       "18     7.33   9.18  [[10, 조아라(wdf1****), 영화보는 내내 오열하면서도 내 자신이 우는것마...  \n",
       "19     7.93   9.22  [[10, 외국인(rudw****), 집에 가기 가장 어려운 영화.], [9, 벚꽃...  "
      ]
     },
     "execution_count": 216,
     "metadata": {},
     "output_type": "execute_result"
    }
   ],
   "source": [
    "df"
   ]
  },
  {
   "cell_type": "code",
   "execution_count": null,
   "metadata": {
    "Collapsed": "false"
   },
   "outputs": [],
   "source": []
  }
 ],
 "metadata": {
  "kernelspec": {
   "display_name": "Python 3",
   "language": "python",
   "name": "python3"
  },
  "language_info": {
   "codemirror_mode": {
    "name": "ipython",
    "version": 3
   },
   "file_extension": ".py",
   "mimetype": "text/x-python",
   "name": "python",
   "nbconvert_exporter": "python",
   "pygments_lexer": "ipython3",
   "version": "3.7.6"
  }
 },
 "nbformat": 4,
 "nbformat_minor": 4
}
