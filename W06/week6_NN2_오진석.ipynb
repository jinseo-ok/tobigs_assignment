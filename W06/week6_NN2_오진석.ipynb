{
 "cells": [
  {
   "cell_type": "markdown",
   "metadata": {
    "Collapsed": "false"
   },
   "source": [
    " "
   ]
  },
  {
   "cell_type": "markdown",
   "metadata": {
    "Collapsed": "false"
   },
   "source": [
    "![python image](assign2_1.png)"
   ]
  },
  {
   "cell_type": "markdown",
   "metadata": {
    "Collapsed": "false"
   },
   "source": [
    "처음에 과제 자체를 이해하지 못해서 난항을 겪고 늦게 제출한 점 다시 한번 죄송하다는 말씀드립니다.\n",
    "\n",
    "assign2 과제는 '오차역전파법의 계산그래프'를 통해 가중치 매개변수의 기울기를 효율적으로 계산으로 이해하게 되었습니다.\n",
    "\n",
    "다음 그래프를 통해서 과제를 작성하는데 많은 도움이 되었습니다.\n",
    "그런게 중간에 노란색 박스로 표시된 부분은 수업자료pdf와 인터넷에서 찾을 수 없어서 표시하게 되었습니다..ㅠ\n",
    "특히 우측 노란색 박스는 'copy gate'라고 생각을 하기도 했었는데 그렇게 되면 Zj의 값이 나눠진 3곳의 그래디언트의 합으로 알고있어서 아닌듯 싶었습니다.\n",
    "\n",
    "과제가 많이 부족하고 늦은 점 죄송합니다."
   ]
  },
  {
   "cell_type": "markdown",
   "metadata": {
    "Collapsed": "false"
   },
   "source": [
    "![python image](assign2_2.PNG)"
   ]
  },
  {
   "cell_type": "code",
   "execution_count": null,
   "metadata": {
    "Collapsed": "false"
   },
   "outputs": [],
   "source": []
  }
 ],
 "metadata": {
  "kernelspec": {
   "display_name": "Python 3",
   "language": "python",
   "name": "python3"
  },
  "language_info": {
   "codemirror_mode": {
    "name": "ipython",
    "version": 3
   },
   "file_extension": ".py",
   "mimetype": "text/x-python",
   "name": "python",
   "nbconvert_exporter": "python",
   "pygments_lexer": "ipython3",
   "version": "3.7.6"
  }
 },
 "nbformat": 4,
 "nbformat_minor": 4
}
