{
 "cells": [
  {
   "cell_type": "markdown",
   "metadata": {},
   "source": [
    "# 앙상블 기법 가이드"
   ]
  },
  {
   "cell_type": "markdown",
   "metadata": {},
   "source": [
    "## 1. 앙상블을 들어가며.."
   ]
  },
  {
   "cell_type": "markdown",
   "metadata": {},
   "source": [
    "   - 앙상블(Ensemble) : 앙상블(ensemble)이란 프랑스어이며 뜻은 조화 또는 통일을 의미한다. 머신러닝에서 여러개의 모델을 학습시켜 그 모델들의 예측결과들을 이용해 하나의 모델보다 더 나은 값을 예측하는 방법을 말한다"
   ]
  },
  {
   "cell_type": "markdown",
   "metadata": {},
   "source": [
    "#### 1-1. Errors"
   ]
  },
  {
   "cell_type": "markdown",
   "metadata": {},
   "source": [
    "   : 앙상블 모델을 이해하기 위해서는 모델에서 무엇이 error를 발생시키는지 알아야한다."
   ]
  },
  {
   "cell_type": "markdown",
   "metadata": {},
   "source": [
    "   - Bias error (편향오류)\n",
    "   - Variance (분산)"
   ]
  },
  {
   "cell_type": "markdown",
   "metadata": {},
   "source": [
    ": 높은 편향오류는 underfitting 을 의미하며, 학습 부족으로 인해 편향 반응이 보이고 데이터 해석 능력이 낮다\n",
    "\n",
    ": 높은 분산은 overfitting 을 의미하며, 특정 데이터의 과학습으로 학습 데이터에만 정상 반응을 보인다."
   ]
  },
  {
   "cell_type": "markdown",
   "metadata": {},
   "source": [
    "-> 그렇기 때문에, 이 2가지 에러는 trade-off 관계를 보여주며, 앙상블 모델은 trade-off 관계의 최적의 모델을 찾는 것이다."
   ]
  },
  {
   "cell_type": "markdown",
   "metadata": {},
   "source": [
    "-> 앙상블은 여러 개의 예측 모델을 활용해서 더 정확도 높은 예측을 하는 기법을 말한다"
   ]
  },
  {
   "cell_type": "markdown",
   "metadata": {},
   "source": [
    " "
   ]
  },
  {
   "cell_type": "markdown",
   "metadata": {},
   "source": [
    "## 2. 앙상블 기법의 종류"
   ]
  },
  {
   "cell_type": "markdown",
   "metadata": {},
   "source": [
    "#### 2-1. 기본 앙상블 기법\n",
    "   - Max Voting\n",
    "   - Averaging\n",
    "   - Weighted Average\n",
    "   \n",
    "#### 2-2. 심화 앙상블 기법\n",
    "   - Stacking\n",
    "   - Blending\n",
    "   - Bagging\n",
    "   - Boosting\n",
    "   \n",
    "#### 2-3. Boosting, Bagging 기반 알고리즘\n",
    "   - Bagging meta-estimator\n",
    "   - Random Forest\n",
    "   - AdaBoost\n",
    "   - GBM\n",
    "   - XGB\n",
    "   - Light GBM\n",
    "   - CatBoost"
   ]
  },
  {
   "cell_type": "markdown",
   "metadata": {},
   "source": [
    "  "
   ]
  },
  {
   "cell_type": "markdown",
   "metadata": {},
   "source": [
    "### 2-1. 기본 앙상블 기법"
   ]
  },
  {
   "cell_type": "markdown",
   "metadata": {},
   "source": [
    "   - Max Voting"
   ]
  },
  {
   "cell_type": "markdown",
   "metadata": {},
   "source": [
    ": max voting 은 일반적으로 classification 문제에서 사용되며, 여러 모델에 있어 대다수가 예측한 결과값을 선택하는 '투표'와 비슷한 시스템을 보여준다"
   ]
  },
  {
   "cell_type": "markdown",
   "metadata": {},
   "source": [
    "-Hard voting : 간단하게 말해서, 예측된 class가 더 많은 class 를 선택하게 된다. (투표 수가 더 많은 class 선택)\n",
    "\n",
    "-Soft voting : class 분류에 대한 확률을 예측하여, 특정 가중치를 부여하여 더 높은 확률이 나온 class를 선택하게 된다. (대체적으로 hard voting 보다 높은 정확도를 보임)"
   ]
  },
  {
   "cell_type": "markdown",
   "metadata": {},
   "source": [
    "   - Averaging"
   ]
  },
  {
   "cell_type": "markdown",
   "metadata": {},
   "source": [
    ": 예측값들의 평균을 사용하는 방법으로, 회귀 문제일때 혹은 분류 문제의 확률을 계산할 때 사용할 수 있다."
   ]
  },
  {
   "cell_type": "markdown",
   "metadata": {},
   "source": [
    "   - Weighted Average"
   ]
  },
  {
   "cell_type": "markdown",
   "metadata": {},
   "source": [
    ": averaging 기법의 연장선으로, 각 모델 예측값의 중요도에 따라 가중치를 다르게 부여하여 예측값을 계산하는 방법이다."
   ]
  },
  {
   "cell_type": "markdown",
   "metadata": {},
   "source": [
    " "
   ]
  },
  {
   "cell_type": "markdown",
   "metadata": {},
   "source": [
    "### 2-2. 심화 앙상블 기법"
   ]
  },
  {
   "cell_type": "markdown",
   "metadata": {},
   "source": [
    "   #### Bagging"
   ]
  },
  {
   "cell_type": "markdown",
   "metadata": {},
   "source": [
    ": Bagging 은 bootsrapping 모델을 기반으로 하며, 데이터를 분할하여 여러 개의 모델을 각자 학습하고 최종적으로 종합(ensmbling)하는 방법이다.\n",
    "\n",
    "그렇기 때문에 Bagging 을 하기 위해서는 데이터가 어느정도 variance 를 가져야 보다 효율적인 결과를 얻을 수 있다.\n",
    "\n",
    "Bagging 알고리즘에 기반한 모델로는 다음이 있다.\n",
    "\n",
    "-Bagging meta-estimator\n",
    "\n",
    "-Random forest"
   ]
  },
  {
   "cell_type": "markdown",
   "metadata": {},
   "source": [
    "   - Bagging meta-estimator"
   ]
  },
  {
   "cell_type": "markdown",
   "metadata": {},
   "source": [
    ": Bagging meta-estimator 는 classification 와 regression 에서 모두 사용될 수 있는 기법으로, bagging 의 기본적인 흐름을 따른다."
   ]
  },
  {
   "cell_type": "markdown",
   "metadata": {},
   "source": [
    "   - Random forest"
   ]
  },
  {
   "cell_type": "markdown",
   "metadata": {},
   "source": [
    ": Random forest 는 decision tree(의사결정나무)를 활용한 bagging 알고리즘을 기반 ensemble 모델로, bagging meta-estimator 과는 달리 모든 변수를 선택하지 않고 랜덤하게 변수를 선택하여 데이터를 분할, 예측하는 기법이다.\n",
    "\n",
    "랜덤하게 선택된 변수를 사용하여 결정트리를 형성하기 때문에 오버피팅을 방지할 수 있다."
   ]
  },
  {
   "cell_type": "markdown",
   "metadata": {},
   "source": [
    " "
   ]
  },
  {
   "cell_type": "markdown",
   "metadata": {},
   "source": [
    "#### Boosting"
   ]
  },
  {
   "cell_type": "markdown",
   "metadata": {},
   "source": [
    ": Boosting 은 모델을 순차적으로 학습해 나가는 과정에서, 약하게(?) 학습된 부분을 파악하고 다음 모델에 적용하여 개선해 나가는 방법이다.\n",
    "\n",
    "그렇기 때문에 bagging 에서처럼 모델 간 독립적인 관계라기 보다는 전 모델이 후 모델에 영향을 미치는 상호 관계이기에, 모델 간 teamwork 가 있가도 표현하기도 한다."
   ]
  },
  {
   "cell_type": "markdown",
   "metadata": {},
   "source": [
    "   - AdaBoost"
   ]
  },
  {
   "cell_type": "markdown",
   "metadata": {},
   "source": [
    ": AdaBoost 는 boosting 알고리즘의 가장 간단한 기법 중 하나로, decision tree(의사결정나무)를 활용한다.\n",
    "\n",
    "여러 모델들을 생성한 뒤에 발견된 오류들을 순차적으로 수정해나가면서 값을 예측해 나간다."
   ]
  },
  {
   "cell_type": "markdown",
   "metadata": {},
   "source": [
    "#### Stacking"
   ]
  },
  {
   "cell_type": "markdown",
   "metadata": {},
   "source": [
    ": stacking 은 데이터에 여러 모델을 적용한다는 것에서 boosting 과 유사하다.\n",
    "\n",
    "하지만 추정 가중치를 부여하는 것과 전혀 다른 모델을 사용하는 면에서 다른 점을 보인다. stacking 에는 여러 모델들로 subset을 생성한 뒤에 subset의 예측값을 보고 가중치를 부여하여 최종 결과를 얻을 수 있다."
   ]
  },
  {
   "cell_type": "markdown",
   "metadata": {},
   "source": []
  },
  {
   "cell_type": "markdown",
   "metadata": {},
   "source": []
  },
  {
   "cell_type": "markdown",
   "metadata": {},
   "source": []
  },
  {
   "cell_type": "markdown",
   "metadata": {},
   "source": []
  },
  {
   "cell_type": "markdown",
   "metadata": {},
   "source": []
  },
  {
   "cell_type": "markdown",
   "metadata": {},
   "source": []
  },
  {
   "cell_type": "markdown",
   "metadata": {},
   "source": []
  }
 ],
 "metadata": {
  "kernelspec": {
   "display_name": "Python 3",
   "language": "python",
   "name": "python3"
  },
  "language_info": {
   "codemirror_mode": {
    "name": "ipython",
    "version": 3
   },
   "file_extension": ".py",
   "mimetype": "text/x-python",
   "name": "python",
   "nbconvert_exporter": "python",
   "pygments_lexer": "ipython3",
   "version": "3.7.6"
  }
 },
 "nbformat": 4,
 "nbformat_minor": 4
}
