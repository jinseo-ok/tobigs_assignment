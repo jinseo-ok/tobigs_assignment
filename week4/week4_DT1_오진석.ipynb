{
 "cells": [
  {
   "cell_type": "markdown",
   "metadata": {
    "Collapsed": "false"
   },
   "source": [
    "# DT Assignment1"
   ]
  },
  {
   "cell_type": "markdown",
   "metadata": {
    "Collapsed": "false"
   },
   "source": [
    "# Data Loading"
   ]
  },
  {
   "cell_type": "code",
   "execution_count": 22,
   "metadata": {
    "Collapsed": "false"
   },
   "outputs": [],
   "source": [
    "import pandas as pd \n",
    "import numpy as np"
   ]
  },
  {
   "cell_type": "code",
   "execution_count": 23,
   "metadata": {
    "Collapsed": "false",
    "scrolled": true
   },
   "outputs": [],
   "source": [
    "pd_data = pd.read_csv('https://raw.githubusercontent.com/AugustLONG/ML01/master/01decisiontree/AllElectronics.csv')\n",
    "pd_data.drop(\"RID\",axis=1, inplace = True) #RID는 그냥 순서라서 삭제"
   ]
  },
  {
   "cell_type": "markdown",
   "metadata": {
    "Collapsed": "false"
   },
   "source": [
    "# 1. Gini 계수를 구하는 함수 만들기"
   ]
  },
  {
   "cell_type": "markdown",
   "metadata": {
    "Collapsed": "false"
   },
   "source": [
    "- Input: df(데이터), label(타겟변수명)\n",
    "- 해당 결과는 아래와 같이 나와야 합니다."
   ]
  },
  {
   "cell_type": "code",
   "execution_count": 24,
   "metadata": {
    "Collapsed": "false"
   },
   "outputs": [
    {
     "data": {
      "text/html": [
       "<div>\n",
       "<style scoped>\n",
       "    .dataframe tbody tr th:only-of-type {\n",
       "        vertical-align: middle;\n",
       "    }\n",
       "\n",
       "    .dataframe tbody tr th {\n",
       "        vertical-align: top;\n",
       "    }\n",
       "\n",
       "    .dataframe thead th {\n",
       "        text-align: right;\n",
       "    }\n",
       "</style>\n",
       "<table border=\"1\" class=\"dataframe\">\n",
       "  <thead>\n",
       "    <tr style=\"text-align: right;\">\n",
       "      <th></th>\n",
       "      <th>age</th>\n",
       "      <th>income</th>\n",
       "      <th>student</th>\n",
       "      <th>credit_rating</th>\n",
       "      <th>class_buys_computer</th>\n",
       "    </tr>\n",
       "  </thead>\n",
       "  <tbody>\n",
       "    <tr>\n",
       "      <th>0</th>\n",
       "      <td>youth</td>\n",
       "      <td>high</td>\n",
       "      <td>no</td>\n",
       "      <td>fair</td>\n",
       "      <td>no</td>\n",
       "    </tr>\n",
       "    <tr>\n",
       "      <th>1</th>\n",
       "      <td>youth</td>\n",
       "      <td>high</td>\n",
       "      <td>no</td>\n",
       "      <td>excellent</td>\n",
       "      <td>no</td>\n",
       "    </tr>\n",
       "    <tr>\n",
       "      <th>2</th>\n",
       "      <td>middle_aged</td>\n",
       "      <td>high</td>\n",
       "      <td>no</td>\n",
       "      <td>fair</td>\n",
       "      <td>yes</td>\n",
       "    </tr>\n",
       "    <tr>\n",
       "      <th>3</th>\n",
       "      <td>senior</td>\n",
       "      <td>medium</td>\n",
       "      <td>no</td>\n",
       "      <td>fair</td>\n",
       "      <td>yes</td>\n",
       "    </tr>\n",
       "    <tr>\n",
       "      <th>4</th>\n",
       "      <td>senior</td>\n",
       "      <td>low</td>\n",
       "      <td>yes</td>\n",
       "      <td>fair</td>\n",
       "      <td>yes</td>\n",
       "    </tr>\n",
       "    <tr>\n",
       "      <th>5</th>\n",
       "      <td>senior</td>\n",
       "      <td>low</td>\n",
       "      <td>yes</td>\n",
       "      <td>excellent</td>\n",
       "      <td>no</td>\n",
       "    </tr>\n",
       "    <tr>\n",
       "      <th>6</th>\n",
       "      <td>middle_aged</td>\n",
       "      <td>low</td>\n",
       "      <td>yes</td>\n",
       "      <td>excellent</td>\n",
       "      <td>yes</td>\n",
       "    </tr>\n",
       "    <tr>\n",
       "      <th>7</th>\n",
       "      <td>youth</td>\n",
       "      <td>medium</td>\n",
       "      <td>no</td>\n",
       "      <td>fair</td>\n",
       "      <td>no</td>\n",
       "    </tr>\n",
       "    <tr>\n",
       "      <th>8</th>\n",
       "      <td>youth</td>\n",
       "      <td>low</td>\n",
       "      <td>yes</td>\n",
       "      <td>fair</td>\n",
       "      <td>yes</td>\n",
       "    </tr>\n",
       "    <tr>\n",
       "      <th>9</th>\n",
       "      <td>senior</td>\n",
       "      <td>medium</td>\n",
       "      <td>yes</td>\n",
       "      <td>fair</td>\n",
       "      <td>yes</td>\n",
       "    </tr>\n",
       "    <tr>\n",
       "      <th>10</th>\n",
       "      <td>youth</td>\n",
       "      <td>medium</td>\n",
       "      <td>yes</td>\n",
       "      <td>excellent</td>\n",
       "      <td>yes</td>\n",
       "    </tr>\n",
       "    <tr>\n",
       "      <th>11</th>\n",
       "      <td>middle_aged</td>\n",
       "      <td>medium</td>\n",
       "      <td>no</td>\n",
       "      <td>excellent</td>\n",
       "      <td>yes</td>\n",
       "    </tr>\n",
       "    <tr>\n",
       "      <th>12</th>\n",
       "      <td>middle_aged</td>\n",
       "      <td>high</td>\n",
       "      <td>yes</td>\n",
       "      <td>fair</td>\n",
       "      <td>yes</td>\n",
       "    </tr>\n",
       "    <tr>\n",
       "      <th>13</th>\n",
       "      <td>senior</td>\n",
       "      <td>medium</td>\n",
       "      <td>no</td>\n",
       "      <td>excellent</td>\n",
       "      <td>no</td>\n",
       "    </tr>\n",
       "  </tbody>\n",
       "</table>\n",
       "</div>"
      ],
      "text/plain": [
       "            age  income student credit_rating class_buys_computer\n",
       "0         youth    high      no          fair                  no\n",
       "1         youth    high      no     excellent                  no\n",
       "2   middle_aged    high      no          fair                 yes\n",
       "3        senior  medium      no          fair                 yes\n",
       "4        senior     low     yes          fair                 yes\n",
       "5        senior     low     yes     excellent                  no\n",
       "6   middle_aged     low     yes     excellent                 yes\n",
       "7         youth  medium      no          fair                  no\n",
       "8         youth     low     yes          fair                 yes\n",
       "9        senior  medium     yes          fair                 yes\n",
       "10        youth  medium     yes     excellent                 yes\n",
       "11  middle_aged  medium      no     excellent                 yes\n",
       "12  middle_aged    high     yes          fair                 yes\n",
       "13       senior  medium      no     excellent                  no"
      ]
     },
     "execution_count": 24,
     "metadata": {},
     "output_type": "execute_result"
    }
   ],
   "source": [
    "pd_data"
   ]
  },
  {
   "cell_type": "code",
   "execution_count": 25,
   "metadata": {
    "Collapsed": "false"
   },
   "outputs": [],
   "source": [
    "## 처음에 gini 계수를 잘못이해하고 데이터와 targeta 변수에 대한 모든 변수의 지니계수를 구하고 그걸 이용하는 것으로 착각함..ㅠ\n",
    "\n",
    "def get_gini(df, label):\n",
    "    \n",
    "    gini_list2 = []\n",
    "\n",
    "    for i in range(len(df.columns)-1):\n",
    "        gini_list1 = []\n",
    "        gini_value = 0\n",
    "        print(f'\\n[{df.columns[i]} 변수진입]')\n",
    "        n = len(df) # 전체 데이터 개수\n",
    "#         print('전체데이터 : ', n)\n",
    "        cn = len(np.unique(df.values[:,i])) # 변수의 class 개수\n",
    "        ln = len(df[label].unique()) # label 변수의 class 개수\n",
    "#         print('변수 개수 :', cn)\n",
    "        \n",
    "        for q in range(cn):\n",
    "            print(np.unique(df.values[:,i])[q], '진입')\n",
    "            value = 0\n",
    "            value2 = 0\n",
    "            raw_gini = 0\n",
    "            raw_gini2 = 0\n",
    "            \n",
    "            cln = sum(df.values[:,i] == np.unique(df.values[:,i])[q]) # 한 변수가 가지고 있는 첫번째 class 진입\n",
    "#             print('분자값:',cln)\n",
    "            \n",
    "            for z in range(ln):\n",
    "                lln = sum(df.loc[df.values[:,i] == np.unique(df.values[:,i])[q], label ] == df[label].unique()[z])\n",
    "#                 print(lln)\n",
    "                if lln == 0:\n",
    "                    value += 0\n",
    "                else:\n",
    "                    value += (lln / cln)**2\n",
    "#             print('value:',value)\n",
    "            raw_gini = (cln / n) * (1 - value)\n",
    "            \n",
    "#             print('분자값:', n-cln)\n",
    "            for t in range(ln):\n",
    "                lln2 = sum(df.loc[df.values[:,i] != np.unique(df.values[:,i])[q], label ] == df[label].unique()[t])\n",
    "#                 print(lln2)\n",
    "                if lln2 == 0:\n",
    "                    value2 += 0\n",
    "                else:\n",
    "                    value2 += (lln2 / (n - cln))**2\n",
    "#             print('value2:', value2)\n",
    "            raw_gini2 = ((n - cln) / n) * (1 - value2)\n",
    "            gini_value = raw_gini + raw_gini2\n",
    "            print(gini_value)\n",
    "        \n",
    "            gini_list1.append(gini_value)\n",
    "        gini_raw = min(gini_list1)\n",
    "        \n",
    "        gini_list2.append(gini_raw)\n",
    "        \n",
    "    p = 0\n",
    "    for row in gini_list2:\n",
    "        print(df.columns[p],\":\",row)\n",
    "        p += 1\n",
    "    \n",
    "    gini = min(gini_list2)    \n",
    "    \n",
    "    return gini"
   ]
  },
  {
   "cell_type": "code",
   "execution_count": 26,
   "metadata": {
    "Collapsed": "false"
   },
   "outputs": [
    {
     "name": "stdout",
     "output_type": "stream",
     "text": [
      "\n",
      "[age 변수진입]\n",
      "middle_aged 진입\n",
      "0.35714285714285715\n",
      "senior 진입\n",
      "0.45714285714285713\n",
      "youth 진입\n",
      "0.3936507936507937\n",
      "\n",
      "[income 변수진입]\n",
      "high 진입\n",
      "0.4428571428571429\n",
      "low 진입\n",
      "0.45\n",
      "medium 진입\n",
      "0.4583333333333333\n",
      "\n",
      "[student 변수진입]\n",
      "no 진입\n",
      "0.3673469387755103\n",
      "yes 진입\n",
      "0.3673469387755103\n",
      "\n",
      "[credit_rating 변수진입]\n",
      "excellent 진입\n",
      "0.42857142857142855\n",
      "fair 진입\n",
      "0.42857142857142855\n",
      "age : 0.35714285714285715\n",
      "income : 0.4428571428571429\n",
      "student : 0.3673469387755103\n",
      "credit_rating : 0.42857142857142855\n"
     ]
    },
    {
     "data": {
      "text/plain": [
       "0.35714285714285715"
      ]
     },
     "execution_count": 26,
     "metadata": {},
     "output_type": "execute_result"
    }
   ],
   "source": [
    "get_gini(pd_data,'class_buys_computer')"
   ]
  },
  {
   "cell_type": "code",
   "execution_count": 27,
   "metadata": {
    "Collapsed": "false"
   },
   "outputs": [],
   "source": [
    "def get_gini(df, label):\n",
    "    n = len(df) # 전체 데이터 개수\n",
    "    cn = len(df[label].unique()) # 타켓 변수의 class 개수 (yes/no 일때는 2개 )\n",
    "    value = 0 \n",
    "    for i in range(cn):\n",
    "        ln = sum(df[label] == df[label].unique()[i]) # 각 클래스와 일치하는 개수\n",
    "        if ln == 0: # 분모가 0 일때는 0 으로 수렴\n",
    "            value += 0\n",
    "        else:\n",
    "            value += (ln / n)**2 # 빼줄 값들\n",
    "    \n",
    "    gini = (1 - value) # 공식\n",
    "        \n",
    "    return gini"
   ]
  },
  {
   "cell_type": "code",
   "execution_count": 64,
   "metadata": {
    "Collapsed": "false"
   },
   "outputs": [],
   "source": [
    "def get_gini(df, label):\n",
    "    D_len = df[label].count() # 데이터 전체 길이\n",
    "    # 각 클래스별 Count를 담은 Generator 생성\n",
    "    count_arr = (value for key, value in df[label].value_counts().items())\n",
    "    # reduce를 이용해 초기값 1에서 각 클래스 (count / D_len)^2 빼기\n",
    "    return reduce(lambda x, y: x - (y/D_len)**2 ,count_arr,1)\n"
   ]
  },
  {
   "cell_type": "code",
   "execution_count": 28,
   "metadata": {
    "Collapsed": "false"
   },
   "outputs": [
    {
     "data": {
      "text/plain": [
       "0.653061224489796"
      ]
     },
     "execution_count": 28,
     "metadata": {},
     "output_type": "execute_result"
    }
   ],
   "source": [
    "get_gini(pd_data, 'income')"
   ]
  },
  {
   "cell_type": "code",
   "execution_count": 29,
   "metadata": {
    "Collapsed": "false"
   },
   "outputs": [
    {
     "data": {
      "text/plain": [
       "0.4591836734693877"
      ]
     },
     "execution_count": 29,
     "metadata": {},
     "output_type": "execute_result"
    }
   ],
   "source": [
    "get_gini(pd_data,'class_buys_computer')"
   ]
  },
  {
   "cell_type": "code",
   "execution_count": 30,
   "metadata": {
    "Collapsed": "false"
   },
   "outputs": [
    {
     "data": {
      "text/plain": [
       "0.5"
      ]
     },
     "execution_count": 30,
     "metadata": {},
     "output_type": "execute_result"
    }
   ],
   "source": [
    "get_gini(pd_data, 'student')"
   ]
  },
  {
   "cell_type": "markdown",
   "metadata": {
    "Collapsed": "false"
   },
   "source": [
    "# 2. Feature의 Class를 이진 분류로 만들기\n",
    " ## ex) {A,B,C} -> ({A}, {B,C}), ({B}, {A,C}), ({C}, {A,B})"
   ]
  },
  {
   "cell_type": "markdown",
   "metadata": {
    "Collapsed": "false"
   },
   "source": [
    "- Input: df(데이터), attribute(Gini index를 구하고자 하는 변수명)\n",
    "- 해당 결과는 아래와 같이 나와야 합니다."
   ]
  },
  {
   "cell_type": "code",
   "execution_count": 31,
   "metadata": {
    "Collapsed": "false"
   },
   "outputs": [],
   "source": [
    "from itertools import combinations # 변수의 모든 클래시 조합을 얻기 위해 itertools 불러오기"
   ]
  },
  {
   "cell_type": "code",
   "execution_count": 32,
   "metadata": {
    "Collapsed": "false"
   },
   "outputs": [],
   "source": [
    "def get_binary_split(df, attribute):\n",
    "    \n",
    "    lev = df[attribute].unique() # 특정 칼럼의 class 개수\n",
    "    data = []\n",
    "    if len(lev) == 1:\n",
    "        re = lev\n",
    "    else:\n",
    "        for i in range(len(lev)-1): \n",
    "            elem = combinations(lev,i+1) # 모든 조합 생성 (0번째 조합 생성 X)\n",
    "            temp = list(elem)\n",
    "            for q in range(len(temp)): # 생성된 조합을 각각 택함\n",
    "                temp2 = list(temp[q])\n",
    "                data.append(temp2)\n",
    "                re = data\n",
    "    return re"
   ]
  },
  {
   "cell_type": "code",
   "execution_count": 33,
   "metadata": {
    "Collapsed": "false"
   },
   "outputs": [
    {
     "data": {
      "text/plain": [
       "[['youth'],\n",
       " ['middle_aged'],\n",
       " ['senior'],\n",
       " ['youth', 'middle_aged'],\n",
       " ['youth', 'senior'],\n",
       " ['middle_aged', 'senior']]"
      ]
     },
     "execution_count": 33,
     "metadata": {},
     "output_type": "execute_result"
    }
   ],
   "source": [
    "get_binary_split(pd_data,\"age\")"
   ]
  },
  {
   "cell_type": "code",
   "execution_count": 34,
   "metadata": {
    "Collapsed": "false"
   },
   "outputs": [],
   "source": [
    "def get_binary_split(df, attribute):\n",
    "    \n",
    "    lev = df[attribute].unique() # 특정 칼럼의 class 개수\n",
    "    data = []\n",
    "    for i in range(len(lev)-1): \n",
    "        elem = combinations(lev,i+1) # 모든 조합 생성 (0번째 조합 생성 X)\n",
    "        temp = list(elem)\n",
    "        for q in range(len(temp)): # 생성된 조합을 각각 택함\n",
    "            temp2 = temp[q]\n",
    "            data.append(temp2)\n",
    "            re= data\n",
    "    return re"
   ]
  },
  {
   "cell_type": "code",
   "execution_count": 35,
   "metadata": {
    "Collapsed": "false"
   },
   "outputs": [
    {
     "data": {
      "text/plain": [
       "[('youth',),\n",
       " ('middle_aged',),\n",
       " ('senior',),\n",
       " ('youth', 'middle_aged'),\n",
       " ('youth', 'senior'),\n",
       " ('middle_aged', 'senior')]"
      ]
     },
     "execution_count": 35,
     "metadata": {},
     "output_type": "execute_result"
    }
   ],
   "source": [
    "get_binary_split(pd_data,\"age\")"
   ]
  },
  {
   "cell_type": "markdown",
   "metadata": {
    "Collapsed": "false"
   },
   "source": [
    "# 3. 다음은 모든 이진분류의 경우의 Gini index를 구하는 함수 만들기\n",
    "- 위에서 완성한 두 함수를 사용하여 만들어주세요!\n",
    "- 해당 결과는 아래와 같이 나와야 합니다.\n",
    "- 결과로 나온 Dictionary의 Key 값은 해당 class 들로 이루어진 tuple 형태로 들어가 있습니다."
   ]
  },
  {
   "cell_type": "code",
   "execution_count": 36,
   "metadata": {
    "Collapsed": "false"
   },
   "outputs": [
    {
     "data": {
      "text/plain": [
       "14"
      ]
     },
     "execution_count": 36,
     "metadata": {},
     "output_type": "execute_result"
    }
   ],
   "source": [
    "len(pd_data['age'])"
   ]
  },
  {
   "cell_type": "code",
   "execution_count": 37,
   "metadata": {
    "Collapsed": "false"
   },
   "outputs": [],
   "source": [
    "def get_attribute_gini_index(df, attribute, label):\n",
    "    index_list = []\n",
    "    c_class = get_binary_split(df, attribute) # 변수의 이진분류 집합\n",
    "    for c in c_class: \n",
    "        n = len(df) # 총 데이터 개수\n",
    "        temp = pd.DataFrame()\n",
    "        for i in range(len(c)): \n",
    "            if len(c) == 1: # 집합의 원소가 1개일 경우\n",
    "                temp = df.loc[df[attribute] == c[i]]\n",
    "                temp2 = df.loc[df[attribute] != c[i]]\n",
    "\n",
    "            else: # 집합의 원소가 1개 이상일 경우\n",
    "\n",
    "                temp_df = df.loc[df[attribute] == c[i]]\n",
    "                temp_df2 = df.loc[df[attribute] != c[i]]\n",
    "                \n",
    "                temp = pd.concat((temp, temp_df), axis = 0) # 원소에 해당되는 데이터프레임 계속해서 이어붙이기\n",
    "\n",
    "                if i == 0:\n",
    "                    temp2 = temp_df2.copy()\n",
    "                if i > 0:\n",
    "                    temp2 = pd.merge(temp2, temp_df2) # 원소에 해당되지 않는 데이터프레임 합치기 (2번째부터)\n",
    "\n",
    "        gini = get_gini(temp, label)\n",
    "        gini2 = get_gini(temp2, label)\n",
    "        value = (len(temp) / n ) * gini\n",
    "        value2 = (len(temp2) / n) * gini2\n",
    "        index = value + value2 # 한 집합의 gini_index 값\n",
    "        \n",
    "        index_list.append(index)\n",
    "        \n",
    "    c_df = pd.DataFrame(c_class) # 리스트 값을 딕셔너리 값 하나에 넣기 위해서 원소를 합치는 과정 (매우 비효율적인것같음..ㅠ, 효율적인 방법을 찾지 못함)\n",
    "    c_df = c_df.fillna('')\n",
    "    c_list = []\n",
    "    for i in range(len(c_df)):\n",
    "        value = ', '.join(c_df.loc[i])\n",
    "        c_list.append(value)\n",
    "        \n",
    "    result = dict(zip(c_list, index_list)) # 두 개의 리스트를 딕셔너리 값으로 변환\n",
    "    return result"
   ]
  },
  {
   "cell_type": "code",
   "execution_count": 38,
   "metadata": {
    "Collapsed": "false"
   },
   "outputs": [],
   "source": [
    "def get_gini(df, label):\n",
    "    D_len = df[label].count() # 데이터 전체 길이\n",
    "    # 각 클래스별 Count를 담은 Generator 생성\n",
    "    count_arr = (value for key, value in df[label].value_counts().items())\n",
    "    # reduce를 이용해 초기값 1에서 각 클래스 (count / D_len)^2 빼기\n",
    "    return reduce(lambda x, y: x - (y/D_len)**2 ,count_arr,1)"
   ]
  },
  {
   "cell_type": "code",
   "execution_count": 39,
   "metadata": {
    "Collapsed": "false"
   },
   "outputs": [],
   "source": [
    "def get_binary_split(df, attribute):\n",
    "    attr_unique = df[attribute].unique()\n",
    "    # 이중 For loop List Comprehension\n",
    "    result = [\n",
    "            list(item) \n",
    "            for i in range(1, len(attr_unique)) # 1부터 변수의 클래스 갯수-1 까지 Iteration\n",
    "            for item in itertools.combinations(attr_unique, i) # i를 길이로 하는 조합 생성\n",
    "        ]\n",
    "    return result"
   ]
  },
  {
   "cell_type": "code",
   "execution_count": 7,
   "metadata": {
    "Collapsed": "false"
   },
   "outputs": [
    {
     "data": {
      "text/plain": [
       "0.4591836734693877"
      ]
     },
     "execution_count": 7,
     "metadata": {},
     "output_type": "execute_result"
    }
   ],
   "source": [
    "get_gini(pd_data, 'class_buys_computer')"
   ]
  },
  {
   "cell_type": "code",
   "execution_count": 17,
   "metadata": {
    "Collapsed": "false"
   },
   "outputs": [
    {
     "data": {
      "text/plain": [
       "{'youth, ': 0.3936507936507937,\n",
       " 'middle_aged, ': 0.35714285714285715,\n",
       " 'senior, ': 0.45714285714285713,\n",
       " 'youth, middle_aged': 0.45714285714285713,\n",
       " 'youth, senior': 0.35714285714285715,\n",
       " 'middle_aged, senior': 0.3936507936507937}"
      ]
     },
     "execution_count": 17,
     "metadata": {},
     "output_type": "execute_result"
    }
   ],
   "source": [
    "get_attribute_gini_index(pd_data, \"age\", \"class_buys_computer\")"
   ]
  },
  {
   "cell_type": "code",
   "execution_count": 245,
   "metadata": {
    "Collapsed": "false"
   },
   "outputs": [
    {
     "data": {
      "text/plain": [
       "{'youth, ': 0.3936507936507937,\n",
       " 'middle_aged, ': 0.35714285714285715,\n",
       " 'senior, ': 0.45714285714285713,\n",
       " 'youth, middle_aged': 0.45714285714285713,\n",
       " 'youth, senior': 0.35714285714285715,\n",
       " 'middle_aged, senior': 0.3936507936507937}"
      ]
     },
     "execution_count": 245,
     "metadata": {},
     "output_type": "execute_result"
    }
   ],
   "source": [
    "get_attribute_gini_index(pd_data, \"age\", \"class_buys_computer\")"
   ]
  },
  {
   "cell_type": "code",
   "execution_count": 44,
   "metadata": {
    "Collapsed": "false"
   },
   "outputs": [
    {
     "data": {
      "text/plain": [
       "{'no': 0.3673469387755103, 'yes': 0.3673469387755103}"
      ]
     },
     "execution_count": 44,
     "metadata": {},
     "output_type": "execute_result"
    }
   ],
   "source": [
    "get_attribute_gini_index(pd_data, \"student\", \"class_buys_computer\")"
   ]
  },
  {
   "cell_type": "markdown",
   "metadata": {
    "Collapsed": "false"
   },
   "source": [
    "여기서 가장 작은 Gini index값을 가지는 class를 기준으로 split해야겠죠?\n",
    "\n",
    "결과를 확인해보도록 하겠습니다."
   ]
  },
  {
   "cell_type": "code",
   "execution_count": null,
   "metadata": {
    "Collapsed": "false"
   },
   "outputs": [],
   "source": []
  },
  {
   "cell_type": "code",
   "execution_count": 18,
   "metadata": {
    "Collapsed": "false"
   },
   "outputs": [
    {
     "name": "stdout",
     "output_type": "stream",
     "text": [
      "Min - middle_aged,  : 0.35714285714285715\n"
     ]
    }
   ],
   "source": [
    "my_dict = get_attribute_gini_index(pd_data, \"age\", \"class_buys_computer\")\n",
    "key_min = min(my_dict.keys(), key=(lambda k: my_dict[k]))\n",
    "print('Min -',key_min, \":\", my_dict[key_min])"
   ]
  },
  {
   "cell_type": "markdown",
   "metadata": {
    "Collapsed": "false"
   },
   "source": [
    "# 다음의 문제를 위에서 작성한 함수를 통해 구한 값으로 보여주세요!\n",
    "## 문제1) 변수 ‘income’의 이진분류 결과를 보여주세요.\n",
    "\n",
    "## 문제2) 분류를 하는 데 가장 중요한 변수를 선정하고, 해당 변수의 Gini index를 제시해주세요.\n",
    "\n",
    "## 문제3) 문제 2에서 제시한 feature로 DataFrame을 split한 후 나눠진 2개의 DataFrame에서 각각   다음으로 중요한 변수를 선정하고 해당 변수의 Gini index를 제시해주세요."
   ]
  },
  {
   "cell_type": "code",
   "execution_count": 248,
   "metadata": {
    "Collapsed": "false"
   },
   "outputs": [
    {
     "data": {
      "text/plain": [
       "[['high'],\n",
       " ['medium'],\n",
       " ['low'],\n",
       " ['high', 'medium'],\n",
       " ['high', 'low'],\n",
       " ['medium', 'low']]"
      ]
     },
     "execution_count": 248,
     "metadata": {},
     "output_type": "execute_result"
    }
   ],
   "source": [
    "##문제1 답안\n",
    "get_binary_split(pd_data, \"income\")"
   ]
  },
  {
   "cell_type": "code",
   "execution_count": 83,
   "metadata": {
    "Collapsed": "false"
   },
   "outputs": [],
   "source": [
    "##문제2 답안\n",
    "\n",
    "def get_gini_index(df, label):\n",
    "    attributes = df.columns[:df.shape[1]-1]\n",
    "    for attribute in attributes:\n",
    "        print(attribute,'변수')\n",
    "        index_list = []\n",
    "        c_class = get_binary_split(df, attribute) # 변수의 이진분류 집합\n",
    "        for c in c_class: \n",
    "            n = len(df) # 총 데이터 개수\n",
    "            temp = pd.DataFrame()\n",
    "            for i in range(len(c)): \n",
    "                if len(c) == 1: # 집합의 원소가 1개일 경우\n",
    "                    temp = df.loc[df[attribute] == c[i]]\n",
    "                    temp2 = df.loc[df[attribute] != c[i]]\n",
    "\n",
    "                else: # 집합의 원소가 1개 이상일 경우\n",
    "\n",
    "                    temp_df = df.loc[df[attribute] == c[i]]\n",
    "                    temp_df2 = df.loc[df[attribute] != c[i]]\n",
    "\n",
    "                    temp = pd.concat((temp, temp_df), axis = 0) # 원소에 해당되는 데이터프레임 계속해서 이어붙이기\n",
    "\n",
    "                    if i == 0:\n",
    "                        temp2 = temp_df2.copy()\n",
    "                    if i > 0:\n",
    "                        temp2 = pd.merge(temp2, temp_df2) # 원소에 해당되지 않는 데이터프레임 합치기 (2번째부터)\n",
    "\n",
    "            gini = get_gini(temp, label)\n",
    "            gini2 = get_gini(temp2, label)\n",
    "            value = (len(temp) / n ) * gini\n",
    "            value2 = (len(temp2) / n) * gini2\n",
    "            index = value + value2 # 한 집합의 gini_index 값\n",
    "\n",
    "            index_list.append(index)\n",
    "\n",
    "        c_df = pd.DataFrame(c_class)\n",
    "        c_df = c_df.fillna('')\n",
    "        c_list = []\n",
    "        for i in range(len(c_df)):\n",
    "            value = ', '.join(c_df.loc[i])\n",
    "            c_list.append(value)\n",
    "\n",
    "        result = dict(zip(c_list, index_list))\n",
    "        \n",
    "        km = min(result.keys(), key = (lambda k: result[k])) # 한 변수의 여러 index 값에서 가장 작은 값을 가지는 원소와 그 수치를 가져옴\n",
    "        print(km, result[km],'\\n') # 모든 변수의 가장 작은 값을 가지는 원소와 수치 출력\n",
    "        \n",
    "    return \n"
   ]
  },
  {
   "cell_type": "code",
   "execution_count": 94,
   "metadata": {
    "Collapsed": "false"
   },
   "outputs": [
    {
     "name": "stdout",
     "output_type": "stream",
     "text": [
      "age 변수\n",
      "middle_aged,  0.35714285714285715 \n",
      "\n",
      "income 변수\n",
      "high,  0.4428571428571429 \n",
      "\n",
      "student 변수\n",
      "no 0.3673469387755103 \n",
      "\n",
      "credit_rating 변수\n",
      "fair 0.42857142857142855 \n",
      "\n"
     ]
    }
   ],
   "source": [
    "# gini index 가 가장 작은 경우는 age 변수의 middle_age 경우임\n",
    "# 즉, 최초 split 되는 변수는 'age' 이며 기준은 'middle_aged' 라고 볼 수 있음\n",
    "get_gini_index(pd_data, 'class_buys_computer')"
   ]
  },
  {
   "cell_type": "code",
   "execution_count": 63,
   "metadata": {
    "Collapsed": "false",
    "scrolled": true
   },
   "outputs": [],
   "source": [
    "##문제3 답안\n",
    "# age 변수에서 middle_aged 로 분류된 첫번째 데이터프레임은 모두 gini index 값이 0 값을 가짐\n",
    "# 두번째 데이터프레임에서는 student 변수에서 no 가 0.31999.. 로 가장 작은 값을 가지므로 그 다음 split 기준으로 선정할 수 있음\n",
    "\n",
    "Fst_split1 = pd_data.loc[pd_data['age'] == 'middle_aged']\n",
    "Fst_split2 = pd_data.loc[pd_data['age'] != 'middle_aged']"
   ]
  },
  {
   "cell_type": "code",
   "execution_count": 96,
   "metadata": {
    "Collapsed": "false"
   },
   "outputs": [
    {
     "name": "stdout",
     "output_type": "stream",
     "text": [
      "age 변수\n",
      "middle_aged 0.0 \n",
      "\n",
      "income 변수\n",
      "high,  0.0 \n",
      "\n",
      "student 변수\n",
      "no 0.0 \n",
      "\n",
      "credit_rating 변수\n",
      "fair 0.0 \n",
      "\n"
     ]
    }
   ],
   "source": [
    "get_gini_index(Fst_split1, 'class_buys_computer')"
   ]
  },
  {
   "cell_type": "code",
   "execution_count": 75,
   "metadata": {
    "Collapsed": "false"
   },
   "outputs": [
    {
     "name": "stdout",
     "output_type": "stream",
     "text": [
      "age 변수\n",
      "youth 0.48 \n",
      "\n",
      "income 변수\n",
      "high,  0.375 \n",
      "\n",
      "student 변수\n",
      "no 0.31999999999999984 \n",
      "\n",
      "credit_rating 변수\n",
      "fair 0.4166666666666667 \n",
      "\n"
     ]
    }
   ],
   "source": [
    "get_gini_index(Fst_split2, 'class_buys_computer')"
   ]
  }
 ],
 "metadata": {
  "kernelspec": {
   "display_name": "Python 3",
   "language": "python",
   "name": "python3"
  },
  "language_info": {
   "codemirror_mode": {
    "name": "ipython",
    "version": 3
   },
   "file_extension": ".py",
   "mimetype": "text/x-python",
   "name": "python",
   "nbconvert_exporter": "python",
   "pygments_lexer": "ipython3",
   "version": "3.7.6"
  }
 },
 "nbformat": 4,
 "nbformat_minor": 4
}
