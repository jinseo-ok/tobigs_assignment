{
 "cells": [
  {
   "cell_type": "code",
   "execution_count": 167,
   "metadata": {
    "Collapsed": "false"
   },
   "outputs": [],
   "source": [
    "import random\n",
    "class MyDataLoader:\n",
    "    def __init__(self, data1, data2):\n",
    "        # data1과 data2 크기는 같다고 가정합시다\n",
    "        self.size = len(data1) \n",
    "        self.data1 = data1\n",
    "        self.data2 = data2\n",
    "        ###### BLANK ####\n",
    "    # __iter__에서는 나를 반환해주고 __next__에서는 for loop가\n",
    "    # 돌떄마다 인쇄하고 싶은 값을 리턴합니다.\n",
    "    def __iter__(self): \n",
    "        self.index = 0\n",
    "        return self\n",
    "    \n",
    "    def __next__(self):\n",
    "        if self.index >= self.size:\n",
    "            raise StopIteration\n",
    "       \n",
    "        n = self.data1[self.index] + self.data2[self.index]\n",
    "        self.index += 1\n",
    "        return n\n",
    "        \n",
    "    def shuffle(self):\n",
    "        random.shuffle(self.data1)\n",
    "        random.shuffle(self.data2)\n",
    "        print(self.data1[:5])\n",
    "        print(self.data2[:5])\n",
    "        \n",
    "    def make_square(self):\n",
    "        self.data1 = [x ** 2 for x in self.data1]\n",
    "        self.data2 = [x ** 2 for x in self.data2]\n",
    "        print(self.data1[:5])\n",
    "        print(self.data2[:5])\n",
    "    "
   ]
  },
  {
   "cell_type": "code",
   "execution_count": 163,
   "metadata": {
    "Collapsed": "false"
   },
   "outputs": [
    {
     "name": "stdout",
     "output_type": "stream",
     "text": [
      "[0, 1, 4, 9, 16]\n",
      "[0, 1, 4, 9, 16]\n",
      "[88804, 7225, 7921, 63504, 2916]\n",
      "[10816, 51984, 34596, 88209, 169]\n"
     ]
    }
   ],
   "source": [
    "# data1과 data2 크기는 같다고 가정합시다\n",
    "loader = MyDataLoader([i for i in range(300)], [i for i in range(300)])\n",
    "loader.make_square() ## data1과 data2를 제곱할 수 있는 method를 완성해주세요!\n",
    "loader.shuffle()"
   ]
  },
  {
   "cell_type": "code",
   "execution_count": 171,
   "metadata": {
    "Collapsed": "false",
    "collapsed": true,
    "jupyter": {
     "outputs_hidden": true
    }
   },
   "outputs": [
    {
     "name": "stdout",
     "output_type": "stream",
     "text": [
      "0 : 72722\n",
      "1 : 19764\n",
      "2 : 10469\n",
      "3 : 82114\n",
      "4 : 41845\n",
      "5 : 84829\n",
      "6 : 59425\n",
      "7 : 25649\n",
      "8 : 90340\n",
      "9 : 13730\n",
      "10 : 99625\n",
      "11 : 82829\n",
      "12 : 80665\n",
      "13 : 28660\n",
      "14 : 69885\n",
      "15 : 68561\n",
      "16 : 42737\n",
      "17 : 20992\n",
      "18 : 106228\n",
      "19 : 66105\n",
      "20 : 8885\n",
      "21 : 75661\n",
      "22 : 55072\n",
      "23 : 110420\n",
      "24 : 71065\n",
      "25 : 22930\n",
      "26 : 61828\n",
      "27 : 40329\n",
      "28 : 34285\n",
      "29 : 73882\n",
      "30 : 46925\n",
      "31 : 81322\n",
      "32 : 63082\n",
      "33 : 124461\n",
      "34 : 19610\n",
      "35 : 91061\n",
      "36 : 118117\n",
      "37 : 79565\n",
      "38 : 55250\n",
      "39 : 14004\n",
      "40 : 69017\n",
      "41 : 45853\n",
      "42 : 34457\n",
      "43 : 1025\n",
      "44 : 82909\n",
      "45 : 90837\n",
      "46 : 25538\n",
      "47 : 120730\n",
      "48 : 36306\n",
      "49 : 40100\n",
      "50 : 103517\n",
      "51 : 141109\n",
      "52 : 49010\n",
      "53 : 22834\n",
      "54 : 1945\n",
      "55 : 70445\n",
      "56 : 6970\n",
      "57 : 83450\n",
      "58 : 16180\n",
      "59 : 27757\n",
      "60 : 13042\n",
      "61 : 16218\n",
      "62 : 69858\n",
      "63 : 50593\n",
      "64 : 8324\n",
      "65 : 55952\n",
      "66 : 137201\n",
      "67 : 41953\n",
      "68 : 35570\n",
      "69 : 135781\n",
      "70 : 20164\n",
      "71 : 88450\n",
      "72 : 119444\n",
      "73 : 35009\n",
      "74 : 49205\n",
      "75 : 60916\n",
      "76 : 68042\n",
      "77 : 58385\n",
      "78 : 62024\n",
      "79 : 62740\n",
      "80 : 92962\n",
      "81 : 27976\n",
      "82 : 43165\n",
      "83 : 101645\n",
      "84 : 152165\n",
      "85 : 34340\n",
      "86 : 48953\n",
      "87 : 42865\n",
      "88 : 21625\n",
      "89 : 103685\n",
      "90 : 46889\n",
      "91 : 49025\n",
      "92 : 3026\n",
      "93 : 69269\n",
      "94 : 53794\n",
      "95 : 22736\n",
      "96 : 3908\n",
      "97 : 44573\n",
      "98 : 77705\n",
      "99 : 70381\n",
      "100 : 118093\n",
      "101 : 29320\n",
      "102 : 66980\n",
      "103 : 43297\n",
      "104 : 109001\n",
      "105 : 64114\n",
      "106 : 105445\n",
      "107 : 131920\n",
      "108 : 8212\n",
      "109 : 39752\n",
      "110 : 27850\n",
      "111 : 34225\n",
      "112 : 78377\n",
      "113 : 65925\n",
      "114 : 36173\n",
      "115 : 66868\n",
      "116 : 5108\n",
      "117 : 98953\n",
      "118 : 105841\n",
      "119 : 36821\n",
      "120 : 50297\n",
      "121 : 41530\n",
      "122 : 114829\n",
      "123 : 89413\n",
      "124 : 3177\n",
      "125 : 56066\n",
      "126 : 62105\n",
      "127 : 47297\n",
      "128 : 35137\n",
      "129 : 42961\n",
      "130 : 33300\n",
      "131 : 98449\n",
      "132 : 39794\n",
      "133 : 113357\n",
      "134 : 76453\n",
      "135 : 22313\n",
      "136 : 86432\n",
      "137 : 76249\n",
      "138 : 107593\n",
      "139 : 20605\n",
      "140 : 108545\n",
      "141 : 56869\n",
      "142 : 75925\n",
      "143 : 105269\n",
      "144 : 84794\n",
      "145 : 61729\n",
      "146 : 104917\n",
      "147 : 64324\n",
      "148 : 96980\n",
      "149 : 101186\n",
      "150 : 30122\n",
      "151 : 857\n",
      "152 : 11273\n",
      "153 : 27677\n",
      "154 : 85810\n",
      "155 : 81469\n",
      "156 : 156245\n",
      "157 : 50425\n",
      "158 : 12725\n",
      "159 : 58545\n",
      "160 : 102484\n",
      "161 : 46661\n",
      "162 : 70065\n",
      "163 : 65561\n",
      "164 : 77090\n",
      "165 : 86453\n",
      "166 : 45652\n",
      "167 : 84685\n",
      "168 : 226\n",
      "169 : 6385\n",
      "170 : 25065\n",
      "171 : 101025\n",
      "172 : 27586\n",
      "173 : 114725\n",
      "174 : 72148\n",
      "175 : 102170\n",
      "176 : 60505\n",
      "177 : 61394\n",
      "178 : 14578\n",
      "179 : 99074\n",
      "180 : 90593\n",
      "181 : 3994\n",
      "182 : 82369\n",
      "183 : 84197\n",
      "184 : 51505\n",
      "185 : 23060\n",
      "186 : 59245\n",
      "187 : 63562\n",
      "188 : 40898\n",
      "189 : 78625\n",
      "190 : 85410\n",
      "191 : 48586\n",
      "192 : 51922\n",
      "193 : 53450\n",
      "194 : 110032\n",
      "195 : 27293\n",
      "196 : 5450\n",
      "197 : 97121\n",
      "198 : 45845\n",
      "199 : 79973\n",
      "200 : 37876\n",
      "201 : 24466\n",
      "202 : 62530\n",
      "203 : 18721\n",
      "204 : 6025\n",
      "205 : 67769\n",
      "206 : 40930\n",
      "207 : 83540\n",
      "208 : 39013\n",
      "209 : 63445\n",
      "210 : 139442\n",
      "211 : 100132\n",
      "212 : 28530\n",
      "213 : 110084\n",
      "214 : 96912\n",
      "215 : 13364\n",
      "216 : 58181\n",
      "217 : 54202\n",
      "218 : 25092\n",
      "219 : 96237\n",
      "220 : 42292\n",
      "221 : 89480\n",
      "222 : 43720\n",
      "223 : 53285\n",
      "224 : 59348\n",
      "225 : 70628\n",
      "226 : 71293\n",
      "227 : 81185\n",
      "228 : 84529\n",
      "229 : 80665\n",
      "230 : 76309\n",
      "231 : 9873\n",
      "232 : 94580\n",
      "233 : 67730\n",
      "234 : 99037\n",
      "235 : 14984\n",
      "236 : 38321\n",
      "237 : 159440\n",
      "238 : 4212\n",
      "239 : 47965\n",
      "240 : 61706\n",
      "241 : 34501\n",
      "242 : 3524\n",
      "243 : 22525\n",
      "244 : 3445\n",
      "245 : 105274\n",
      "246 : 65546\n",
      "247 : 12674\n",
      "248 : 65105\n",
      "249 : 133156\n",
      "250 : 110305\n",
      "251 : 124970\n",
      "252 : 12850\n",
      "253 : 360\n",
      "254 : 88740\n",
      "255 : 13568\n",
      "256 : 89693\n",
      "257 : 40777\n",
      "258 : 26210\n",
      "259 : 25477\n",
      "260 : 55673\n",
      "261 : 122653\n",
      "262 : 33218\n",
      "263 : 103428\n",
      "264 : 70489\n",
      "265 : 114170\n",
      "266 : 129285\n",
      "267 : 93109\n",
      "268 : 27009\n",
      "269 : 63029\n",
      "270 : 27101\n",
      "271 : 60224\n",
      "272 : 12717\n",
      "273 : 67048\n",
      "274 : 30605\n",
      "275 : 31642\n",
      "276 : 34901\n",
      "277 : 56372\n",
      "278 : 65413\n",
      "279 : 12116\n",
      "280 : 793\n",
      "281 : 2644\n",
      "282 : 34340\n",
      "283 : 57037\n",
      "284 : 3114\n",
      "285 : 1769\n",
      "286 : 36721\n",
      "287 : 95625\n",
      "288 : 133209\n",
      "289 : 51994\n",
      "290 : 61892\n",
      "291 : 3505\n",
      "292 : 114634\n",
      "293 : 83732\n",
      "294 : 36308\n",
      "295 : 40730\n",
      "296 : 104488\n",
      "297 : 56993\n",
      "298 : 141905\n",
      "299 : 46237\n"
     ]
    }
   ],
   "source": [
    "for i, x in enumerate(loader): # for loop 가 도니까 __iter__\n",
    "    print(\"{} : {}\".format(i,x)) # i번째 data1과 data2를 더한 값을 리턴하도록 만들어주세요!"
   ]
  },
  {
   "cell_type": "code",
   "execution_count": 14,
   "metadata": {
    "Collapsed": "false"
   },
   "outputs": [],
   "source": [
    "class Person:\n",
    "    def __init__(self, name, age):\n",
    "        self.name = name\n",
    "        self.age = age\n",
    "    \n",
    "    def sleep(self):\n",
    "        print(self.name, '은(는) 잠을 잡니다')\n",
    "        \n",
    "a = Person('joe', 50)"
   ]
  },
  {
   "cell_type": "code",
   "execution_count": 15,
   "metadata": {
    "Collapsed": "false"
   },
   "outputs": [
    {
     "name": "stdout",
     "output_type": "stream",
     "text": [
      "<__main__.Person object at 0x7fc9dcab4450>\n"
     ]
    },
    {
     "data": {
      "text/plain": [
       "('joe', 50)"
      ]
     },
     "execution_count": 15,
     "metadata": {},
     "output_type": "execute_result"
    }
   ],
   "source": [
    "print(a)\n",
    "a.name, a.age"
   ]
  },
  {
   "cell_type": "code",
   "execution_count": 20,
   "metadata": {
    "Collapsed": "false"
   },
   "outputs": [
    {
     "name": "stdout",
     "output_type": "stream",
     "text": [
      "joe 은(는) 잠을 잡니다\n"
     ]
    }
   ],
   "source": [
    "a.sleep()"
   ]
  },
  {
   "cell_type": "code",
   "execution_count": 40,
   "metadata": {
    "Collapsed": "false"
   },
   "outputs": [],
   "source": [
    "class Counter:\n",
    "    def __init__(self, num):\n",
    "        self.num = num\n",
    "    \n",
    "    def increment(self):\n",
    "        self.num += 1\n",
    "\n",
    "    def reset(self):\n",
    "        self.num = 0\n",
    "    \n",
    "    def current_value(self):\n",
    "        print(self.num)"
   ]
  },
  {
   "cell_type": "code",
   "execution_count": 41,
   "metadata": {
    "Collapsed": "false"
   },
   "outputs": [
    {
     "data": {
      "text/plain": [
       "50"
      ]
     },
     "execution_count": 41,
     "metadata": {},
     "output_type": "execute_result"
    }
   ],
   "source": [
    "c1 = Counter(50)\n",
    "c1.num"
   ]
  },
  {
   "cell_type": "code",
   "execution_count": 50,
   "metadata": {
    "Collapsed": "false"
   },
   "outputs": [],
   "source": [
    "c1.increment()"
   ]
  },
  {
   "cell_type": "code",
   "execution_count": 51,
   "metadata": {
    "Collapsed": "false"
   },
   "outputs": [
    {
     "name": "stdout",
     "output_type": "stream",
     "text": [
      "54\n"
     ]
    }
   ],
   "source": [
    "c1.current_value()"
   ]
  },
  {
   "cell_type": "code",
   "execution_count": 52,
   "metadata": {
    "Collapsed": "false"
   },
   "outputs": [],
   "source": [
    "c1.reset()"
   ]
  },
  {
   "cell_type": "code",
   "execution_count": 53,
   "metadata": {
    "Collapsed": "false"
   },
   "outputs": [
    {
     "name": "stdout",
     "output_type": "stream",
     "text": [
      "0\n"
     ]
    }
   ],
   "source": [
    "c1.current_value()"
   ]
  },
  {
   "cell_type": "code",
   "execution_count": null,
   "metadata": {
    "Collapsed": "false"
   },
   "outputs": [],
   "source": []
  },
  {
   "cell_type": "code",
   "execution_count": 68,
   "metadata": {
    "Collapsed": "false"
   },
   "outputs": [
    {
     "name": "stdout",
     "output_type": "stream",
     "text": [
      "-2 - 0j\n",
      "3 + 6j\n",
      "-1 + 8j\n"
     ]
    }
   ],
   "source": [
    "class ComplexNum:\n",
    "    def __init__(self, real, img):\n",
    "        self.real = real\n",
    "        self.img = img\n",
    "    \n",
    "    def __str__(self):\n",
    "        if self.img > 0:\n",
    "            return '{} + {}j'.format(self.real, self.img)\n",
    "        else:\n",
    "            return '{} - {}j'.format(self.real, abs(self.img))\n",
    "\n",
    "    def __add__(self, cn):\n",
    "        return ComplexNum(self.real + cn.real, self.img + cn.img)\n",
    "    \n",
    "    def __sub__(self, cn):\n",
    "        return ComplexNum(self.real - cn.real, self.img - cn.img)\n",
    "    \n",
    "    def __mul__(self, x):\n",
    "        if type(x) == int:\n",
    "            return ComplexNum(self.real * x, self.img *x)\n",
    "        elif type(x) == ComplexNum:\n",
    "            return ComplexNum(self.real * x.real - self.img * x.img, self.real * x.img + self.img * x.real)\n",
    "        \n",
    "    def __eq__(self, cn):\n",
    "        return self.real == cn.real and self.img == cn.img\n",
    "    \n",
    "    def __ne__(self, cn):\n",
    "        return not (self.real == cn.real and self.img == cn.img)\n",
    "    \n",
    "a = ComplexNum(1, 2)\n",
    "b = ComplexNum(3, 2)\n",
    "print(a - b)\n",
    "print(a * 3)\n",
    "print(a * b)"
   ]
  },
  {
   "cell_type": "code",
   "execution_count": 69,
   "metadata": {
    "Collapsed": "false"
   },
   "outputs": [
    {
     "data": {
      "text/plain": [
       "False"
      ]
     },
     "execution_count": 69,
     "metadata": {},
     "output_type": "execute_result"
    }
   ],
   "source": [
    "a == b"
   ]
  },
  {
   "cell_type": "code",
   "execution_count": 70,
   "metadata": {
    "Collapsed": "false"
   },
   "outputs": [
    {
     "data": {
      "text/plain": [
       "True"
      ]
     },
     "execution_count": 70,
     "metadata": {},
     "output_type": "execute_result"
    }
   ],
   "source": [
    "a != b"
   ]
  },
  {
   "cell_type": "code",
   "execution_count": 73,
   "metadata": {
    "Collapsed": "false"
   },
   "outputs": [],
   "source": [
    "logs = [\"dig1 8 1 5 1\",\"let1 art can\",\"dig2 3 6\",\"let2 own kit dig\",\"let3 art zero\"]"
   ]
  },
  {
   "cell_type": "code",
   "execution_count": 77,
   "metadata": {
    "Collapsed": "false"
   },
   "outputs": [],
   "source": [
    "l_log = []; d_log = []\n",
    "for args in map(lambda x : x.split(), logs):\n",
    "    if (''.join(args[1:])).isnumeric():\n",
    "        d_log.append(args)\n",
    "    else:\n",
    "        l_log.append(args)"
   ]
  },
  {
   "cell_type": "code",
   "execution_count": 80,
   "metadata": {
    "Collapsed": "false"
   },
   "outputs": [
    {
     "data": {
      "text/plain": [
       "['dig1 8 1 5 1',\n",
       " 'let1 art can',\n",
       " 'dig2 3 6',\n",
       " 'let2 own kit dig',\n",
       " 'let3 art zero']"
      ]
     },
     "execution_count": 80,
     "metadata": {},
     "output_type": "execute_result"
    }
   ],
   "source": [
    "logs"
   ]
  },
  {
   "cell_type": "code",
   "execution_count": 78,
   "metadata": {
    "Collapsed": "false"
   },
   "outputs": [
    {
     "data": {
      "text/plain": [
       "[['dig1', '8', '1', '5', '1'], ['dig2', '3', '6']]"
      ]
     },
     "execution_count": 78,
     "metadata": {},
     "output_type": "execute_result"
    }
   ],
   "source": [
    "d_log"
   ]
  },
  {
   "cell_type": "code",
   "execution_count": 79,
   "metadata": {
    "Collapsed": "false"
   },
   "outputs": [
    {
     "data": {
      "text/plain": [
       "[['let1', 'art', 'can'],\n",
       " ['let2', 'own', 'kit', 'dig'],\n",
       " ['let3', 'art', 'zero']]"
      ]
     },
     "execution_count": 79,
     "metadata": {},
     "output_type": "execute_result"
    }
   ],
   "source": [
    "l_log"
   ]
  },
  {
   "cell_type": "code",
   "execution_count": 83,
   "metadata": {
    "Collapsed": "false"
   },
   "outputs": [],
   "source": [
    "l_log = []; d_log = []\n",
    "for args in logs:\n",
    "    if args.split()[1].isnumeric():\n",
    "        d_log.append(args)\n",
    "    else:\n",
    "        l_log.append(args)"
   ]
  },
  {
   "cell_type": "code",
   "execution_count": 84,
   "metadata": {
    "Collapsed": "false"
   },
   "outputs": [
    {
     "data": {
      "text/plain": [
       "['dig1 8 1 5 1', 'dig2 3 6']"
      ]
     },
     "execution_count": 84,
     "metadata": {},
     "output_type": "execute_result"
    }
   ],
   "source": [
    "d_log"
   ]
  },
  {
   "cell_type": "code",
   "execution_count": 122,
   "metadata": {
    "Collapsed": "false"
   },
   "outputs": [],
   "source": [
    "nums = [5, 3, 2, 3,5]\n",
    "target = 10"
   ]
  },
  {
   "cell_type": "code",
   "execution_count": 125,
   "metadata": {
    "Collapsed": "false"
   },
   "outputs": [],
   "source": [
    "dic = {i : n for i, n in enumerate(nums)}"
   ]
  },
  {
   "cell_type": "code",
   "execution_count": 126,
   "metadata": {
    "Collapsed": "false"
   },
   "outputs": [
    {
     "data": {
      "text/plain": [
       "{0: 5, 1: 3, 2: 2, 3: 3, 4: 5}"
      ]
     },
     "execution_count": 126,
     "metadata": {},
     "output_type": "execute_result"
    }
   ],
   "source": [
    "dic"
   ]
  },
  {
   "cell_type": "code",
   "execution_count": 134,
   "metadata": {
    "Collapsed": "false"
   },
   "outputs": [
    {
     "data": {
      "text/plain": [
       "dict_values([5, 3, 2, 3, 5])"
      ]
     },
     "execution_count": 134,
     "metadata": {},
     "output_type": "execute_result"
    }
   ],
   "source": [
    "dic.values()"
   ]
  },
  {
   "cell_type": "code",
   "execution_count": 128,
   "metadata": {
    "Collapsed": "false"
   },
   "outputs": [
    {
     "data": {
      "text/plain": [
       "[5, 3, 2, 3, 5]"
      ]
     },
     "execution_count": 128,
     "metadata": {},
     "output_type": "execute_result"
    }
   ],
   "source": [
    "nums"
   ]
  },
  {
   "cell_type": "code",
   "execution_count": 131,
   "metadata": {
    "Collapsed": "false"
   },
   "outputs": [
    {
     "name": "stdout",
     "output_type": "stream",
     "text": [
      "5\n",
      "7\n",
      "8\n",
      "7\n",
      "5\n"
     ]
    }
   ],
   "source": [
    "for n in map(lambda x : target - x, nums):\n",
    "    if n in dic.keys() & "
   ]
  },
  {
   "cell_type": "code",
   "execution_count": null,
   "metadata": {
    "Collapsed": "false"
   },
   "outputs": [],
   "source": []
  },
  {
   "cell_type": "code",
   "execution_count": 127,
   "metadata": {
    "Collapsed": "false"
   },
   "outputs": [],
   "source": [
    "for i in range(len(nums)):\n",
    "    if (target - nums[i] in nums) & (dic[i] != target - nums[i]):\n",
    "        print(i)"
   ]
  },
  {
   "cell_type": "code",
   "execution_count": 115,
   "metadata": {
    "Collapsed": "false"
   },
   "outputs": [
    {
     "data": {
      "text/plain": [
       "[3, 3, 2, 3]"
      ]
     },
     "execution_count": 115,
     "metadata": {},
     "output_type": "execute_result"
    }
   ],
   "source": [
    "nums"
   ]
  },
  {
   "cell_type": "code",
   "execution_count": 119,
   "metadata": {
    "Collapsed": "false"
   },
   "outputs": [
    {
     "name": "stdout",
     "output_type": "stream",
     "text": [
      "0 4\n"
     ]
    }
   ],
   "source": [
    "nums_map = {}\n",
    "# 키와 값을 바꿔서 사전 형태로 저장\n",
    "for i, num in enumerate(nums):\n",
    "    nums_map[num] = i\n",
    "\n",
    "# 타겟에서 첫 번째 수를 뺀 결과를 키로 조회\n",
    "for i, num in enumerate(nums):\n",
    "    if target - num in nums_map and i != nums_map[target-num]:\n",
    "        print(i, nums_map[target-num])"
   ]
  },
  {
   "cell_type": "code",
   "execution_count": 120,
   "metadata": {
    "Collapsed": "false"
   },
   "outputs": [
    {
     "data": {
      "text/plain": [
       "{5: 4, 3: 3, 2: 2}"
      ]
     },
     "execution_count": 120,
     "metadata": {},
     "output_type": "execute_result"
    }
   ],
   "source": [
    "nums_map"
   ]
  },
  {
   "cell_type": "code",
   "execution_count": 136,
   "metadata": {
    "Collapsed": "false"
   },
   "outputs": [],
   "source": [
    "q = ['a', 'b', 'c', 'd', 'c', 'd', None]"
   ]
  },
  {
   "cell_type": "code",
   "execution_count": 142,
   "metadata": {
    "Collapsed": "false"
   },
   "outputs": [],
   "source": [
    "import numpy as np"
   ]
  },
  {
   "cell_type": "code",
   "execution_count": 145,
   "metadata": {
    "Collapsed": "false"
   },
   "outputs": [
    {
     "data": {
      "text/plain": [
       "array(['a', 'b', 'c', 'd', None], dtype=object)"
      ]
     },
     "execution_count": 145,
     "metadata": {},
     "output_type": "execute_result"
    }
   ],
   "source": [
    "import pandas as pd\n",
    "pd.Series(q).unique()"
   ]
  },
  {
   "cell_type": "code",
   "execution_count": 146,
   "metadata": {
    "Collapsed": "false"
   },
   "outputs": [
    {
     "data": {
      "text/plain": [
       "4"
      ]
     },
     "execution_count": 146,
     "metadata": {},
     "output_type": "execute_result"
    }
   ],
   "source": [
    "pd.Series(q).nunique()"
   ]
  },
  {
   "cell_type": "code",
   "execution_count": 150,
   "metadata": {
    "Collapsed": "false"
   },
   "outputs": [
    {
     "name": "stdin",
     "output_type": "stream",
     "text": [
      " Sugar Jewel Meo Harley Gia Peanutbutter Bj Tux Ariel Kia Sammy Faith Shadow Elijah Queens Puppy Happy Fuzzo Simba Baby Bear Stitch *Morado Girly Girl Honey Goofy Hugo Diablo Minnie Miller Cookie Woody Stormy Sniket Emily Katie Greg Ceballo Sailor April Ella Rosie Dash Mama Dog Dora Lucy Frijolito Lyla Zoe Mercedes Disciple Pickle Scooby Laika Ruby Pepper Cherokee Maxwell 2 Princess Oreo Finney Jj Jedi Clyde Giovanni Tiko Punch Goldie Dakota Spider Blaze Holly Rome Nellie Penny Skips Chip Snickerdoodl Rogan Raven Charlie Lucy Jack Reggie Lucy Anna Kaila Sabrina Jake Lizzie Stanley Chewy Raven Mitty Jimminee *Sam Jackie Benji Shelly Rocky\n"
     ]
    }
   ],
   "source": [
    "name = input().split(' ')"
   ]
  },
  {
   "cell_type": "code",
   "execution_count": 155,
   "metadata": {
    "Collapsed": "false"
   },
   "outputs": [
    {
     "data": {
      "text/plain": [
       "100"
      ]
     },
     "execution_count": 155,
     "metadata": {},
     "output_type": "execute_result"
    }
   ],
   "source": [
    "pd.Series(name).nunique()"
   ]
  },
  {
   "cell_type": "code",
   "execution_count": 158,
   "metadata": {
    "Collapsed": "false"
   },
   "outputs": [],
   "source": [
    "from itertools import permutations"
   ]
  },
  {
   "cell_type": "code",
   "execution_count": 218,
   "metadata": {
    "Collapsed": "false"
   },
   "outputs": [],
   "source": [
    "numbers = '17'\n",
    "numbers = list(numbers)"
   ]
  },
  {
   "cell_type": "code",
   "execution_count": 219,
   "metadata": {
    "Collapsed": "false"
   },
   "outputs": [],
   "source": [
    "nums = []"
   ]
  },
  {
   "cell_type": "code",
   "execution_count": 220,
   "metadata": {
    "Collapsed": "false"
   },
   "outputs": [
    {
     "data": {
      "text/plain": [
       "[None, None]"
      ]
     },
     "execution_count": 220,
     "metadata": {},
     "output_type": "execute_result"
    }
   ],
   "source": [
    "[nums.extend(list(permutations(numbers, i+1))) for i in range(len(numbers))]"
   ]
  },
  {
   "cell_type": "code",
   "execution_count": 221,
   "metadata": {
    "Collapsed": "false"
   },
   "outputs": [
    {
     "data": {
      "text/plain": [
       "[('1',), ('7',), ('1', '7'), ('7', '1')]"
      ]
     },
     "execution_count": 221,
     "metadata": {},
     "output_type": "execute_result"
    }
   ],
   "source": [
    "nums"
   ]
  },
  {
   "cell_type": "code",
   "execution_count": 211,
   "metadata": {
    "Collapsed": "false"
   },
   "outputs": [
    {
     "name": "stdout",
     "output_type": "stream",
     "text": [
      "1\n",
      "7\n",
      "17\n",
      "71\n"
     ]
    }
   ],
   "source": [
    "answer = 0\n",
    "for n in map(lambda x : int(''.join(x)), possible):\n",
    "    print(n)\n",
    "    if n == 2 or n == 3:\n",
    "        answer += 1\n",
    "    for i in range(2, n+1):\n",
    "        if n % i == 0:\n",
    "            if n == i:\n",
    "                answer += 1\n",
    "        else:\n",
    "            if n == i:\n",
    "                answer += 1"
   ]
  },
  {
   "cell_type": "code",
   "execution_count": 215,
   "metadata": {
    "Collapsed": "false"
   },
   "outputs": [
    {
     "data": {
      "text/plain": [
       "[[('1',), ('7',)], [('1', '7'), ('7', '1')]]"
      ]
     },
     "execution_count": 215,
     "metadata": {},
     "output_type": "execute_result"
    }
   ],
   "source": [
    "nums"
   ]
  },
  {
   "cell_type": "code",
   "execution_count": 214,
   "metadata": {
    "Collapsed": "false"
   },
   "outputs": [
    {
     "ename": "TypeError",
     "evalue": "sequence item 0: expected str instance, tuple found",
     "output_type": "error",
     "traceback": [
      "\u001b[0;31m---------------------------------------------------------------------------\u001b[0m",
      "\u001b[0;31mTypeError\u001b[0m                                 Traceback (most recent call last)",
      "\u001b[0;32m<ipython-input-214-2ddd0e7aaa14>\u001b[0m in \u001b[0;36m<module>\u001b[0;34m\u001b[0m\n\u001b[0;32m----> 1\u001b[0;31m \u001b[0mlist\u001b[0m\u001b[0;34m(\u001b[0m\u001b[0mmap\u001b[0m\u001b[0;34m(\u001b[0m\u001b[0;32mlambda\u001b[0m \u001b[0mx\u001b[0m \u001b[0;34m:\u001b[0m \u001b[0mint\u001b[0m\u001b[0;34m(\u001b[0m\u001b[0;34m''\u001b[0m\u001b[0;34m.\u001b[0m\u001b[0mjoin\u001b[0m\u001b[0;34m(\u001b[0m\u001b[0mx\u001b[0m\u001b[0;34m)\u001b[0m\u001b[0;34m)\u001b[0m\u001b[0;34m,\u001b[0m \u001b[0mnums\u001b[0m\u001b[0;34m)\u001b[0m\u001b[0;34m)\u001b[0m\u001b[0;34m\u001b[0m\u001b[0;34m\u001b[0m\u001b[0m\n\u001b[0m",
      "\u001b[0;32m<ipython-input-214-2ddd0e7aaa14>\u001b[0m in \u001b[0;36m<lambda>\u001b[0;34m(x)\u001b[0m\n\u001b[0;32m----> 1\u001b[0;31m \u001b[0mlist\u001b[0m\u001b[0;34m(\u001b[0m\u001b[0mmap\u001b[0m\u001b[0;34m(\u001b[0m\u001b[0;32mlambda\u001b[0m \u001b[0mx\u001b[0m \u001b[0;34m:\u001b[0m \u001b[0mint\u001b[0m\u001b[0;34m(\u001b[0m\u001b[0;34m''\u001b[0m\u001b[0;34m.\u001b[0m\u001b[0mjoin\u001b[0m\u001b[0;34m(\u001b[0m\u001b[0mx\u001b[0m\u001b[0;34m)\u001b[0m\u001b[0;34m)\u001b[0m\u001b[0;34m,\u001b[0m \u001b[0mnums\u001b[0m\u001b[0;34m)\u001b[0m\u001b[0;34m)\u001b[0m\u001b[0;34m\u001b[0m\u001b[0;34m\u001b[0m\u001b[0m\n\u001b[0m",
      "\u001b[0;31mTypeError\u001b[0m: sequence item 0: expected str instance, tuple found"
     ]
    }
   ],
   "source": [
    "list(map(lambda x : int(''.join(x)), nums))"
   ]
  },
  {
   "cell_type": "code",
   "execution_count": 213,
   "metadata": {
    "Collapsed": "false"
   },
   "outputs": [
    {
     "ename": "TypeError",
     "evalue": "sequence item 0: expected str instance, tuple found",
     "output_type": "error",
     "traceback": [
      "\u001b[0;31m---------------------------------------------------------------------------\u001b[0m",
      "\u001b[0;31mTypeError\u001b[0m                                 Traceback (most recent call last)",
      "\u001b[0;32m<ipython-input-213-a148aaab2757>\u001b[0m in \u001b[0;36m<module>\u001b[0;34m\u001b[0m\n\u001b[0;32m----> 1\u001b[0;31m \u001b[0;32mfor\u001b[0m \u001b[0mn\u001b[0m \u001b[0;32min\u001b[0m \u001b[0mlist\u001b[0m\u001b[0;34m(\u001b[0m\u001b[0mmap\u001b[0m\u001b[0;34m(\u001b[0m\u001b[0;32mlambda\u001b[0m \u001b[0mx\u001b[0m \u001b[0;34m:\u001b[0m \u001b[0mint\u001b[0m\u001b[0;34m(\u001b[0m\u001b[0;34m''\u001b[0m\u001b[0;34m.\u001b[0m\u001b[0mjoin\u001b[0m\u001b[0;34m(\u001b[0m\u001b[0mx\u001b[0m\u001b[0;34m)\u001b[0m\u001b[0;34m)\u001b[0m\u001b[0;34m,\u001b[0m \u001b[0mnums\u001b[0m\u001b[0;34m)\u001b[0m\u001b[0;34m)\u001b[0m\u001b[0;34m:\u001b[0m\u001b[0;34m\u001b[0m\u001b[0;34m\u001b[0m\u001b[0m\n\u001b[0m\u001b[1;32m      2\u001b[0m     \u001b[0mprint\u001b[0m\u001b[0;34m(\u001b[0m\u001b[0mn\u001b[0m\u001b[0;34m)\u001b[0m\u001b[0;34m\u001b[0m\u001b[0;34m\u001b[0m\u001b[0m\n",
      "\u001b[0;32m<ipython-input-213-a148aaab2757>\u001b[0m in \u001b[0;36m<lambda>\u001b[0;34m(x)\u001b[0m\n\u001b[0;32m----> 1\u001b[0;31m \u001b[0;32mfor\u001b[0m \u001b[0mn\u001b[0m \u001b[0;32min\u001b[0m \u001b[0mlist\u001b[0m\u001b[0;34m(\u001b[0m\u001b[0mmap\u001b[0m\u001b[0;34m(\u001b[0m\u001b[0;32mlambda\u001b[0m \u001b[0mx\u001b[0m \u001b[0;34m:\u001b[0m \u001b[0mint\u001b[0m\u001b[0;34m(\u001b[0m\u001b[0;34m''\u001b[0m\u001b[0;34m.\u001b[0m\u001b[0mjoin\u001b[0m\u001b[0;34m(\u001b[0m\u001b[0mx\u001b[0m\u001b[0;34m)\u001b[0m\u001b[0;34m)\u001b[0m\u001b[0;34m,\u001b[0m \u001b[0mnums\u001b[0m\u001b[0;34m)\u001b[0m\u001b[0;34m)\u001b[0m\u001b[0;34m:\u001b[0m\u001b[0;34m\u001b[0m\u001b[0;34m\u001b[0m\u001b[0m\n\u001b[0m\u001b[1;32m      2\u001b[0m     \u001b[0mprint\u001b[0m\u001b[0;34m(\u001b[0m\u001b[0mn\u001b[0m\u001b[0;34m)\u001b[0m\u001b[0;34m\u001b[0m\u001b[0;34m\u001b[0m\u001b[0m\n",
      "\u001b[0;31mTypeError\u001b[0m: sequence item 0: expected str instance, tuple found"
     ]
    }
   ],
   "source": [
    "for n in list(map(lambda x : int(''.join(x)), nums)):\n",
    "    print(n)"
   ]
  },
  {
   "cell_type": "code",
   "execution_count": 245,
   "metadata": {
    "Collapsed": "false"
   },
   "outputs": [
    {
     "name": "stdout",
     "output_type": "stream",
     "text": [
      "71 2\n",
      "71 3\n",
      "71 4\n",
      "71 5\n",
      "71 6\n",
      "71 7\n",
      "71 8\n",
      "71 9\n",
      "71 10\n",
      "71 11\n",
      "71 12\n",
      "71 13\n",
      "71 14\n",
      "71 15\n",
      "71 16\n",
      "71 17\n",
      "71 18\n",
      "71 19\n",
      "71 20\n",
      "71 21\n",
      "71 22\n",
      "71 23\n",
      "71 24\n",
      "71 25\n",
      "71 26\n",
      "71 27\n",
      "71 28\n",
      "71 29\n",
      "71 30\n",
      "71 31\n",
      "71 32\n",
      "71 33\n",
      "71 34\n",
      "71 35\n",
      "17 2\n",
      "17 3\n",
      "17 4\n",
      "17 5\n",
      "17 6\n",
      "17 7\n",
      "17 8\n",
      "7 2\n",
      "7 3\n"
     ]
    }
   ],
   "source": [
    "answer = 0\n",
    "numbers = '17'\n",
    "nums = []\n",
    "numbers = list(numbers)\n",
    "[nums.extend(list(permutations(numbers, i+1))) for i in range(len(numbers))]\n",
    "\n",
    "for n in set(list(map(lambda x : int(''.join(x)), nums))):\n",
    "    if n == 2 or n == 3:\n",
    "        answer += 1\n",
    "    for i in range(2, int(n / 2) + 1):\n",
    "        print(n,i)\n",
    "        if n % i == 0:\n",
    "            break\n",
    "        else:\n",
    "            if int(n / 2) == i:\n",
    "                answer += 1"
   ]
  },
  {
   "cell_type": "code",
   "execution_count": 246,
   "metadata": {
    "Collapsed": "false"
   },
   "outputs": [
    {
     "data": {
      "text/plain": [
       "3"
      ]
     },
     "execution_count": 246,
     "metadata": {},
     "output_type": "execute_result"
    }
   ],
   "source": [
    "answer"
   ]
  },
  {
   "cell_type": "code",
   "execution_count": null,
   "metadata": {
    "Collapsed": "false"
   },
   "outputs": [],
   "source": []
  }
 ],
 "metadata": {
  "kernel_info": {
   "name": "Untitled"
  },
  "kernelspec": {
   "display_name": "Python 3",
   "language": "python",
   "name": "python3"
  },
  "language_info": {
   "codemirror_mode": {
    "name": "ipython",
    "version": 3
   },
   "file_extension": ".py",
   "mimetype": "text/x-python",
   "name": "python",
   "nbconvert_exporter": "python",
   "pygments_lexer": "ipython3",
   "version": "3.7.6"
  }
 },
 "nbformat": 4,
 "nbformat_minor": 4
}
