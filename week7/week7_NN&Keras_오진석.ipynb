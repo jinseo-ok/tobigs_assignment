{
 "cells": [
  {
   "cell_type": "code",
   "execution_count": 185,
   "metadata": {
    "Collapsed": "false",
    "colab": {
     "base_uri": "https://localhost:8080/",
     "height": 34
    },
    "colab_type": "code",
    "executionInfo": {
     "elapsed": 629,
     "status": "ok",
     "timestamp": 1584447064783,
     "user": {
      "displayName": "오진석",
      "photoUrl": "",
      "userId": "12229120938967938448"
     },
     "user_tz": -540
    },
    "id": "Y3Vwc-YVODr2",
    "outputId": "7e58f528-2423-4ac0-d6ad-048130dd576e"
   },
   "outputs": [
    {
     "name": "stdout",
     "output_type": "stream",
     "text": [
      "/content/drive/My Drive/Colab Notebooks\n"
     ]
    }
   ],
   "source": [
    "cd /content/drive/My Drive/Colab Notebooks"
   ]
  },
  {
   "cell_type": "code",
   "execution_count": 186,
   "metadata": {
    "Collapsed": "false",
    "colab": {
     "base_uri": "https://localhost:8080/",
     "height": 102
    },
    "colab_type": "code",
    "executionInfo": {
     "elapsed": 2619,
     "status": "ok",
     "timestamp": 1584447066784,
     "user": {
      "displayName": "오진석",
      "photoUrl": "",
      "userId": "12229120938967938448"
     },
     "user_tz": -540
    },
    "id": "mliFHOmFOSqO",
    "outputId": "2a62b85d-0586-4899-bd8f-f3bcb73f3c4c"
   },
   "outputs": [
    {
     "name": "stdout",
     "output_type": "stream",
     "text": [
      "4_autoML_telescope_TPOT.ipynb  keras_sub6.csv         Sunkeras.ipynb\n",
      "keras_sub2.csv                 keras_sub7.csv         test_df.csv\n",
      "keras_sub3.csv                 keras_sub.csv          torch_sub.csv\n",
      "keras_sub4.csv                 Pytorch.ipynb          train_df.csv\n",
      "keras_sub5.csv                 sample_submission.csv\n"
     ]
    }
   ],
   "source": [
    "ls"
   ]
  },
  {
   "cell_type": "code",
   "execution_count": null,
   "metadata": {
    "Collapsed": "false",
    "colab": {},
    "colab_type": "code",
    "id": "vUxH6QNVOVch"
   },
   "outputs": [],
   "source": [
    "from __future__ import absolute_import, division, print_function, unicode_literals\n",
    "\n",
    "# !pip install -q tensorflow-gpu==2.0.0-rc1\n",
    "import tensorflow as tf"
   ]
  },
  {
   "cell_type": "code",
   "execution_count": null,
   "metadata": {
    "Collapsed": "false",
    "colab": {},
    "colab_type": "code",
    "id": "gIXRFXgGOfsB"
   },
   "outputs": [],
   "source": [
    "import numpy as np\n",
    "import pandas as pd\n",
    "import matplotlib.pyplot as plt\n",
    "from tensorflow.keras import Sequential\n",
    "from tensorflow.keras.layers import Conv2D, MaxPool2D, Dense, Flatten, Dropout, BatchNormalization"
   ]
  },
  {
   "cell_type": "code",
   "execution_count": null,
   "metadata": {
    "Collapsed": "false",
    "colab": {},
    "colab_type": "code",
    "id": "Sk16IeyUO0DX"
   },
   "outputs": [],
   "source": [
    "train = pd.read_csv(\"train_df.csv\")\n",
    "test = pd.read_csv(\"test_df.csv\")\n",
    "sample_submission = pd.read_csv(\"sample_submission.csv\")"
   ]
  },
  {
   "cell_type": "code",
   "execution_count": 190,
   "metadata": {
    "Collapsed": "false",
    "colab": {
     "base_uri": "https://localhost:8080/",
     "height": 270
    },
    "colab_type": "code",
    "executionInfo": {
     "elapsed": 5675,
     "status": "ok",
     "timestamp": 1584447069866,
     "user": {
      "displayName": "오진석",
      "photoUrl": "",
      "userId": "12229120938967938448"
     },
     "user_tz": -540
    },
    "id": "DhwVuwIHO0OS",
    "outputId": "d11a1289-d487-4233-ee74-58dbd0fe9a0b"
   },
   "outputs": [
    {
     "name": "stdout",
     "output_type": "stream",
     "text": [
      "(42000, 785)\n"
     ]
    },
    {
     "data": {
      "text/html": [
       "<div>\n",
       "<style scoped>\n",
       "    .dataframe tbody tr th:only-of-type {\n",
       "        vertical-align: middle;\n",
       "    }\n",
       "\n",
       "    .dataframe tbody tr th {\n",
       "        vertical-align: top;\n",
       "    }\n",
       "\n",
       "    .dataframe thead th {\n",
       "        text-align: right;\n",
       "    }\n",
       "</style>\n",
       "<table border=\"1\" class=\"dataframe\">\n",
       "  <thead>\n",
       "    <tr style=\"text-align: right;\">\n",
       "      <th></th>\n",
       "      <th>label</th>\n",
       "      <th>pixel0</th>\n",
       "      <th>pixel1</th>\n",
       "      <th>pixel2</th>\n",
       "      <th>pixel3</th>\n",
       "      <th>pixel4</th>\n",
       "      <th>pixel5</th>\n",
       "      <th>pixel6</th>\n",
       "      <th>pixel7</th>\n",
       "      <th>pixel8</th>\n",
       "      <th>pixel9</th>\n",
       "      <th>pixel10</th>\n",
       "      <th>pixel11</th>\n",
       "      <th>pixel12</th>\n",
       "      <th>pixel13</th>\n",
       "      <th>pixel14</th>\n",
       "      <th>pixel15</th>\n",
       "      <th>pixel16</th>\n",
       "      <th>pixel17</th>\n",
       "      <th>pixel18</th>\n",
       "      <th>pixel19</th>\n",
       "      <th>pixel20</th>\n",
       "      <th>pixel21</th>\n",
       "      <th>pixel22</th>\n",
       "      <th>pixel23</th>\n",
       "      <th>pixel24</th>\n",
       "      <th>pixel25</th>\n",
       "      <th>pixel26</th>\n",
       "      <th>pixel27</th>\n",
       "      <th>pixel28</th>\n",
       "      <th>pixel29</th>\n",
       "      <th>pixel30</th>\n",
       "      <th>pixel31</th>\n",
       "      <th>pixel32</th>\n",
       "      <th>pixel33</th>\n",
       "      <th>pixel34</th>\n",
       "      <th>pixel35</th>\n",
       "      <th>pixel36</th>\n",
       "      <th>pixel37</th>\n",
       "      <th>pixel38</th>\n",
       "      <th>...</th>\n",
       "      <th>pixel744</th>\n",
       "      <th>pixel745</th>\n",
       "      <th>pixel746</th>\n",
       "      <th>pixel747</th>\n",
       "      <th>pixel748</th>\n",
       "      <th>pixel749</th>\n",
       "      <th>pixel750</th>\n",
       "      <th>pixel751</th>\n",
       "      <th>pixel752</th>\n",
       "      <th>pixel753</th>\n",
       "      <th>pixel754</th>\n",
       "      <th>pixel755</th>\n",
       "      <th>pixel756</th>\n",
       "      <th>pixel757</th>\n",
       "      <th>pixel758</th>\n",
       "      <th>pixel759</th>\n",
       "      <th>pixel760</th>\n",
       "      <th>pixel761</th>\n",
       "      <th>pixel762</th>\n",
       "      <th>pixel763</th>\n",
       "      <th>pixel764</th>\n",
       "      <th>pixel765</th>\n",
       "      <th>pixel766</th>\n",
       "      <th>pixel767</th>\n",
       "      <th>pixel768</th>\n",
       "      <th>pixel769</th>\n",
       "      <th>pixel770</th>\n",
       "      <th>pixel771</th>\n",
       "      <th>pixel772</th>\n",
       "      <th>pixel773</th>\n",
       "      <th>pixel774</th>\n",
       "      <th>pixel775</th>\n",
       "      <th>pixel776</th>\n",
       "      <th>pixel777</th>\n",
       "      <th>pixel778</th>\n",
       "      <th>pixel779</th>\n",
       "      <th>pixel780</th>\n",
       "      <th>pixel781</th>\n",
       "      <th>pixel782</th>\n",
       "      <th>pixel783</th>\n",
       "    </tr>\n",
       "  </thead>\n",
       "  <tbody>\n",
       "    <tr>\n",
       "      <th>0</th>\n",
       "      <td>7</td>\n",
       "      <td>0</td>\n",
       "      <td>0</td>\n",
       "      <td>0</td>\n",
       "      <td>0</td>\n",
       "      <td>0</td>\n",
       "      <td>0</td>\n",
       "      <td>0</td>\n",
       "      <td>0</td>\n",
       "      <td>0</td>\n",
       "      <td>0</td>\n",
       "      <td>0</td>\n",
       "      <td>0</td>\n",
       "      <td>0</td>\n",
       "      <td>0</td>\n",
       "      <td>0</td>\n",
       "      <td>0</td>\n",
       "      <td>0</td>\n",
       "      <td>0</td>\n",
       "      <td>0</td>\n",
       "      <td>0</td>\n",
       "      <td>0</td>\n",
       "      <td>0</td>\n",
       "      <td>0</td>\n",
       "      <td>0</td>\n",
       "      <td>0</td>\n",
       "      <td>0</td>\n",
       "      <td>0</td>\n",
       "      <td>0</td>\n",
       "      <td>0</td>\n",
       "      <td>0</td>\n",
       "      <td>0</td>\n",
       "      <td>0</td>\n",
       "      <td>0</td>\n",
       "      <td>0</td>\n",
       "      <td>0</td>\n",
       "      <td>0</td>\n",
       "      <td>0</td>\n",
       "      <td>0</td>\n",
       "      <td>0</td>\n",
       "      <td>...</td>\n",
       "      <td>0</td>\n",
       "      <td>0</td>\n",
       "      <td>0</td>\n",
       "      <td>0</td>\n",
       "      <td>0</td>\n",
       "      <td>0</td>\n",
       "      <td>0</td>\n",
       "      <td>0</td>\n",
       "      <td>0</td>\n",
       "      <td>0</td>\n",
       "      <td>0</td>\n",
       "      <td>0</td>\n",
       "      <td>0</td>\n",
       "      <td>0</td>\n",
       "      <td>0</td>\n",
       "      <td>0</td>\n",
       "      <td>0</td>\n",
       "      <td>0</td>\n",
       "      <td>0</td>\n",
       "      <td>0</td>\n",
       "      <td>0</td>\n",
       "      <td>0</td>\n",
       "      <td>0</td>\n",
       "      <td>0</td>\n",
       "      <td>0</td>\n",
       "      <td>0</td>\n",
       "      <td>0</td>\n",
       "      <td>0</td>\n",
       "      <td>0</td>\n",
       "      <td>0</td>\n",
       "      <td>0</td>\n",
       "      <td>0</td>\n",
       "      <td>0</td>\n",
       "      <td>0</td>\n",
       "      <td>0</td>\n",
       "      <td>0</td>\n",
       "      <td>0</td>\n",
       "      <td>0</td>\n",
       "      <td>0</td>\n",
       "      <td>0</td>\n",
       "    </tr>\n",
       "    <tr>\n",
       "      <th>1</th>\n",
       "      <td>8</td>\n",
       "      <td>0</td>\n",
       "      <td>0</td>\n",
       "      <td>0</td>\n",
       "      <td>0</td>\n",
       "      <td>0</td>\n",
       "      <td>0</td>\n",
       "      <td>0</td>\n",
       "      <td>0</td>\n",
       "      <td>0</td>\n",
       "      <td>0</td>\n",
       "      <td>0</td>\n",
       "      <td>0</td>\n",
       "      <td>0</td>\n",
       "      <td>0</td>\n",
       "      <td>0</td>\n",
       "      <td>0</td>\n",
       "      <td>0</td>\n",
       "      <td>0</td>\n",
       "      <td>0</td>\n",
       "      <td>0</td>\n",
       "      <td>0</td>\n",
       "      <td>0</td>\n",
       "      <td>0</td>\n",
       "      <td>0</td>\n",
       "      <td>0</td>\n",
       "      <td>0</td>\n",
       "      <td>0</td>\n",
       "      <td>0</td>\n",
       "      <td>0</td>\n",
       "      <td>0</td>\n",
       "      <td>0</td>\n",
       "      <td>0</td>\n",
       "      <td>0</td>\n",
       "      <td>0</td>\n",
       "      <td>0</td>\n",
       "      <td>0</td>\n",
       "      <td>0</td>\n",
       "      <td>0</td>\n",
       "      <td>0</td>\n",
       "      <td>...</td>\n",
       "      <td>0</td>\n",
       "      <td>0</td>\n",
       "      <td>0</td>\n",
       "      <td>0</td>\n",
       "      <td>0</td>\n",
       "      <td>0</td>\n",
       "      <td>0</td>\n",
       "      <td>0</td>\n",
       "      <td>0</td>\n",
       "      <td>0</td>\n",
       "      <td>0</td>\n",
       "      <td>0</td>\n",
       "      <td>0</td>\n",
       "      <td>0</td>\n",
       "      <td>0</td>\n",
       "      <td>0</td>\n",
       "      <td>0</td>\n",
       "      <td>0</td>\n",
       "      <td>0</td>\n",
       "      <td>0</td>\n",
       "      <td>0</td>\n",
       "      <td>0</td>\n",
       "      <td>0</td>\n",
       "      <td>0</td>\n",
       "      <td>0</td>\n",
       "      <td>0</td>\n",
       "      <td>0</td>\n",
       "      <td>0</td>\n",
       "      <td>0</td>\n",
       "      <td>0</td>\n",
       "      <td>0</td>\n",
       "      <td>0</td>\n",
       "      <td>0</td>\n",
       "      <td>0</td>\n",
       "      <td>0</td>\n",
       "      <td>0</td>\n",
       "      <td>0</td>\n",
       "      <td>0</td>\n",
       "      <td>0</td>\n",
       "      <td>0</td>\n",
       "    </tr>\n",
       "    <tr>\n",
       "      <th>2</th>\n",
       "      <td>7</td>\n",
       "      <td>0</td>\n",
       "      <td>0</td>\n",
       "      <td>0</td>\n",
       "      <td>0</td>\n",
       "      <td>0</td>\n",
       "      <td>0</td>\n",
       "      <td>0</td>\n",
       "      <td>0</td>\n",
       "      <td>0</td>\n",
       "      <td>0</td>\n",
       "      <td>0</td>\n",
       "      <td>0</td>\n",
       "      <td>0</td>\n",
       "      <td>0</td>\n",
       "      <td>0</td>\n",
       "      <td>0</td>\n",
       "      <td>0</td>\n",
       "      <td>0</td>\n",
       "      <td>0</td>\n",
       "      <td>0</td>\n",
       "      <td>0</td>\n",
       "      <td>0</td>\n",
       "      <td>0</td>\n",
       "      <td>0</td>\n",
       "      <td>0</td>\n",
       "      <td>0</td>\n",
       "      <td>0</td>\n",
       "      <td>0</td>\n",
       "      <td>0</td>\n",
       "      <td>0</td>\n",
       "      <td>0</td>\n",
       "      <td>0</td>\n",
       "      <td>0</td>\n",
       "      <td>0</td>\n",
       "      <td>0</td>\n",
       "      <td>0</td>\n",
       "      <td>0</td>\n",
       "      <td>0</td>\n",
       "      <td>0</td>\n",
       "      <td>...</td>\n",
       "      <td>0</td>\n",
       "      <td>0</td>\n",
       "      <td>0</td>\n",
       "      <td>0</td>\n",
       "      <td>0</td>\n",
       "      <td>0</td>\n",
       "      <td>0</td>\n",
       "      <td>0</td>\n",
       "      <td>0</td>\n",
       "      <td>0</td>\n",
       "      <td>0</td>\n",
       "      <td>0</td>\n",
       "      <td>0</td>\n",
       "      <td>0</td>\n",
       "      <td>0</td>\n",
       "      <td>0</td>\n",
       "      <td>0</td>\n",
       "      <td>0</td>\n",
       "      <td>0</td>\n",
       "      <td>0</td>\n",
       "      <td>0</td>\n",
       "      <td>0</td>\n",
       "      <td>0</td>\n",
       "      <td>0</td>\n",
       "      <td>0</td>\n",
       "      <td>0</td>\n",
       "      <td>0</td>\n",
       "      <td>0</td>\n",
       "      <td>0</td>\n",
       "      <td>0</td>\n",
       "      <td>0</td>\n",
       "      <td>0</td>\n",
       "      <td>0</td>\n",
       "      <td>0</td>\n",
       "      <td>0</td>\n",
       "      <td>0</td>\n",
       "      <td>0</td>\n",
       "      <td>0</td>\n",
       "      <td>0</td>\n",
       "      <td>0</td>\n",
       "    </tr>\n",
       "    <tr>\n",
       "      <th>3</th>\n",
       "      <td>6</td>\n",
       "      <td>0</td>\n",
       "      <td>0</td>\n",
       "      <td>0</td>\n",
       "      <td>0</td>\n",
       "      <td>0</td>\n",
       "      <td>0</td>\n",
       "      <td>0</td>\n",
       "      <td>0</td>\n",
       "      <td>0</td>\n",
       "      <td>0</td>\n",
       "      <td>0</td>\n",
       "      <td>0</td>\n",
       "      <td>0</td>\n",
       "      <td>0</td>\n",
       "      <td>0</td>\n",
       "      <td>0</td>\n",
       "      <td>0</td>\n",
       "      <td>0</td>\n",
       "      <td>0</td>\n",
       "      <td>0</td>\n",
       "      <td>0</td>\n",
       "      <td>0</td>\n",
       "      <td>0</td>\n",
       "      <td>0</td>\n",
       "      <td>0</td>\n",
       "      <td>0</td>\n",
       "      <td>0</td>\n",
       "      <td>0</td>\n",
       "      <td>0</td>\n",
       "      <td>0</td>\n",
       "      <td>0</td>\n",
       "      <td>0</td>\n",
       "      <td>0</td>\n",
       "      <td>0</td>\n",
       "      <td>0</td>\n",
       "      <td>0</td>\n",
       "      <td>0</td>\n",
       "      <td>0</td>\n",
       "      <td>0</td>\n",
       "      <td>...</td>\n",
       "      <td>0</td>\n",
       "      <td>0</td>\n",
       "      <td>0</td>\n",
       "      <td>0</td>\n",
       "      <td>0</td>\n",
       "      <td>0</td>\n",
       "      <td>0</td>\n",
       "      <td>0</td>\n",
       "      <td>0</td>\n",
       "      <td>0</td>\n",
       "      <td>0</td>\n",
       "      <td>0</td>\n",
       "      <td>0</td>\n",
       "      <td>0</td>\n",
       "      <td>0</td>\n",
       "      <td>0</td>\n",
       "      <td>0</td>\n",
       "      <td>0</td>\n",
       "      <td>0</td>\n",
       "      <td>0</td>\n",
       "      <td>0</td>\n",
       "      <td>0</td>\n",
       "      <td>0</td>\n",
       "      <td>0</td>\n",
       "      <td>0</td>\n",
       "      <td>0</td>\n",
       "      <td>0</td>\n",
       "      <td>0</td>\n",
       "      <td>0</td>\n",
       "      <td>0</td>\n",
       "      <td>0</td>\n",
       "      <td>0</td>\n",
       "      <td>0</td>\n",
       "      <td>0</td>\n",
       "      <td>0</td>\n",
       "      <td>0</td>\n",
       "      <td>0</td>\n",
       "      <td>0</td>\n",
       "      <td>0</td>\n",
       "      <td>0</td>\n",
       "    </tr>\n",
       "    <tr>\n",
       "      <th>4</th>\n",
       "      <td>5</td>\n",
       "      <td>0</td>\n",
       "      <td>0</td>\n",
       "      <td>0</td>\n",
       "      <td>0</td>\n",
       "      <td>0</td>\n",
       "      <td>0</td>\n",
       "      <td>0</td>\n",
       "      <td>0</td>\n",
       "      <td>0</td>\n",
       "      <td>0</td>\n",
       "      <td>0</td>\n",
       "      <td>0</td>\n",
       "      <td>0</td>\n",
       "      <td>0</td>\n",
       "      <td>0</td>\n",
       "      <td>0</td>\n",
       "      <td>0</td>\n",
       "      <td>0</td>\n",
       "      <td>0</td>\n",
       "      <td>0</td>\n",
       "      <td>0</td>\n",
       "      <td>0</td>\n",
       "      <td>0</td>\n",
       "      <td>0</td>\n",
       "      <td>0</td>\n",
       "      <td>0</td>\n",
       "      <td>0</td>\n",
       "      <td>0</td>\n",
       "      <td>0</td>\n",
       "      <td>0</td>\n",
       "      <td>0</td>\n",
       "      <td>0</td>\n",
       "      <td>0</td>\n",
       "      <td>0</td>\n",
       "      <td>0</td>\n",
       "      <td>0</td>\n",
       "      <td>0</td>\n",
       "      <td>0</td>\n",
       "      <td>0</td>\n",
       "      <td>...</td>\n",
       "      <td>0</td>\n",
       "      <td>0</td>\n",
       "      <td>0</td>\n",
       "      <td>0</td>\n",
       "      <td>0</td>\n",
       "      <td>0</td>\n",
       "      <td>0</td>\n",
       "      <td>0</td>\n",
       "      <td>0</td>\n",
       "      <td>0</td>\n",
       "      <td>0</td>\n",
       "      <td>0</td>\n",
       "      <td>0</td>\n",
       "      <td>0</td>\n",
       "      <td>0</td>\n",
       "      <td>0</td>\n",
       "      <td>0</td>\n",
       "      <td>0</td>\n",
       "      <td>0</td>\n",
       "      <td>0</td>\n",
       "      <td>0</td>\n",
       "      <td>0</td>\n",
       "      <td>0</td>\n",
       "      <td>0</td>\n",
       "      <td>0</td>\n",
       "      <td>0</td>\n",
       "      <td>0</td>\n",
       "      <td>0</td>\n",
       "      <td>0</td>\n",
       "      <td>0</td>\n",
       "      <td>0</td>\n",
       "      <td>0</td>\n",
       "      <td>0</td>\n",
       "      <td>0</td>\n",
       "      <td>0</td>\n",
       "      <td>0</td>\n",
       "      <td>0</td>\n",
       "      <td>0</td>\n",
       "      <td>0</td>\n",
       "      <td>0</td>\n",
       "    </tr>\n",
       "  </tbody>\n",
       "</table>\n",
       "<p>5 rows × 785 columns</p>\n",
       "</div>"
      ],
      "text/plain": [
       "   label  pixel0  pixel1  pixel2  ...  pixel780  pixel781  pixel782  pixel783\n",
       "0      7       0       0       0  ...         0         0         0         0\n",
       "1      8       0       0       0  ...         0         0         0         0\n",
       "2      7       0       0       0  ...         0         0         0         0\n",
       "3      6       0       0       0  ...         0         0         0         0\n",
       "4      5       0       0       0  ...         0         0         0         0\n",
       "\n",
       "[5 rows x 785 columns]"
      ]
     },
     "execution_count": 190,
     "metadata": {
      "tags": []
     },
     "output_type": "execute_result"
    }
   ],
   "source": [
    "print(train.shape)\n",
    "train.head()"
   ]
  },
  {
   "cell_type": "code",
   "execution_count": 191,
   "metadata": {
    "Collapsed": "false",
    "colab": {
     "base_uri": "https://localhost:8080/",
     "height": 287
    },
    "colab_type": "code",
    "executionInfo": {
     "elapsed": 5663,
     "status": "ok",
     "timestamp": 1584447069867,
     "user": {
      "displayName": "오진석",
      "photoUrl": "",
      "userId": "12229120938967938448"
     },
     "user_tz": -540
    },
    "id": "ddfb14vXO0Qr",
    "outputId": "8c94e7c2-f61b-4e5d-8853-cbd7ac5ee75e"
   },
   "outputs": [
    {
     "name": "stdout",
     "output_type": "stream",
     "text": [
      "(18000, 785)\n"
     ]
    },
    {
     "data": {
      "text/html": [
       "<div>\n",
       "<style scoped>\n",
       "    .dataframe tbody tr th:only-of-type {\n",
       "        vertical-align: middle;\n",
       "    }\n",
       "\n",
       "    .dataframe tbody tr th {\n",
       "        vertical-align: top;\n",
       "    }\n",
       "\n",
       "    .dataframe thead th {\n",
       "        text-align: right;\n",
       "    }\n",
       "</style>\n",
       "<table border=\"1\" class=\"dataframe\">\n",
       "  <thead>\n",
       "    <tr style=\"text-align: right;\">\n",
       "      <th></th>\n",
       "      <th>Unnamed: 0</th>\n",
       "      <th>pixel0</th>\n",
       "      <th>pixel1</th>\n",
       "      <th>pixel2</th>\n",
       "      <th>pixel3</th>\n",
       "      <th>pixel4</th>\n",
       "      <th>pixel5</th>\n",
       "      <th>pixel6</th>\n",
       "      <th>pixel7</th>\n",
       "      <th>pixel8</th>\n",
       "      <th>pixel9</th>\n",
       "      <th>pixel10</th>\n",
       "      <th>pixel11</th>\n",
       "      <th>pixel12</th>\n",
       "      <th>pixel13</th>\n",
       "      <th>pixel14</th>\n",
       "      <th>pixel15</th>\n",
       "      <th>pixel16</th>\n",
       "      <th>pixel17</th>\n",
       "      <th>pixel18</th>\n",
       "      <th>pixel19</th>\n",
       "      <th>pixel20</th>\n",
       "      <th>pixel21</th>\n",
       "      <th>pixel22</th>\n",
       "      <th>pixel23</th>\n",
       "      <th>pixel24</th>\n",
       "      <th>pixel25</th>\n",
       "      <th>pixel26</th>\n",
       "      <th>pixel27</th>\n",
       "      <th>pixel28</th>\n",
       "      <th>pixel29</th>\n",
       "      <th>pixel30</th>\n",
       "      <th>pixel31</th>\n",
       "      <th>pixel32</th>\n",
       "      <th>pixel33</th>\n",
       "      <th>pixel34</th>\n",
       "      <th>pixel35</th>\n",
       "      <th>pixel36</th>\n",
       "      <th>pixel37</th>\n",
       "      <th>pixel38</th>\n",
       "      <th>...</th>\n",
       "      <th>pixel744</th>\n",
       "      <th>pixel745</th>\n",
       "      <th>pixel746</th>\n",
       "      <th>pixel747</th>\n",
       "      <th>pixel748</th>\n",
       "      <th>pixel749</th>\n",
       "      <th>pixel750</th>\n",
       "      <th>pixel751</th>\n",
       "      <th>pixel752</th>\n",
       "      <th>pixel753</th>\n",
       "      <th>pixel754</th>\n",
       "      <th>pixel755</th>\n",
       "      <th>pixel756</th>\n",
       "      <th>pixel757</th>\n",
       "      <th>pixel758</th>\n",
       "      <th>pixel759</th>\n",
       "      <th>pixel760</th>\n",
       "      <th>pixel761</th>\n",
       "      <th>pixel762</th>\n",
       "      <th>pixel763</th>\n",
       "      <th>pixel764</th>\n",
       "      <th>pixel765</th>\n",
       "      <th>pixel766</th>\n",
       "      <th>pixel767</th>\n",
       "      <th>pixel768</th>\n",
       "      <th>pixel769</th>\n",
       "      <th>pixel770</th>\n",
       "      <th>pixel771</th>\n",
       "      <th>pixel772</th>\n",
       "      <th>pixel773</th>\n",
       "      <th>pixel774</th>\n",
       "      <th>pixel775</th>\n",
       "      <th>pixel776</th>\n",
       "      <th>pixel777</th>\n",
       "      <th>pixel778</th>\n",
       "      <th>pixel779</th>\n",
       "      <th>pixel780</th>\n",
       "      <th>pixel781</th>\n",
       "      <th>pixel782</th>\n",
       "      <th>pixel783</th>\n",
       "    </tr>\n",
       "  </thead>\n",
       "  <tbody>\n",
       "    <tr>\n",
       "      <th>0</th>\n",
       "      <td>57808</td>\n",
       "      <td>0</td>\n",
       "      <td>0</td>\n",
       "      <td>0</td>\n",
       "      <td>0</td>\n",
       "      <td>0</td>\n",
       "      <td>0</td>\n",
       "      <td>0</td>\n",
       "      <td>0</td>\n",
       "      <td>0</td>\n",
       "      <td>0</td>\n",
       "      <td>0</td>\n",
       "      <td>0</td>\n",
       "      <td>0</td>\n",
       "      <td>0</td>\n",
       "      <td>0</td>\n",
       "      <td>0</td>\n",
       "      <td>0</td>\n",
       "      <td>0</td>\n",
       "      <td>0</td>\n",
       "      <td>0</td>\n",
       "      <td>0</td>\n",
       "      <td>0</td>\n",
       "      <td>0</td>\n",
       "      <td>0</td>\n",
       "      <td>0</td>\n",
       "      <td>0</td>\n",
       "      <td>0</td>\n",
       "      <td>0</td>\n",
       "      <td>0</td>\n",
       "      <td>0</td>\n",
       "      <td>0</td>\n",
       "      <td>0</td>\n",
       "      <td>0</td>\n",
       "      <td>0</td>\n",
       "      <td>0</td>\n",
       "      <td>0</td>\n",
       "      <td>0</td>\n",
       "      <td>0</td>\n",
       "      <td>0</td>\n",
       "      <td>...</td>\n",
       "      <td>0</td>\n",
       "      <td>0</td>\n",
       "      <td>0</td>\n",
       "      <td>0</td>\n",
       "      <td>0</td>\n",
       "      <td>0</td>\n",
       "      <td>0</td>\n",
       "      <td>0</td>\n",
       "      <td>0</td>\n",
       "      <td>0</td>\n",
       "      <td>0</td>\n",
       "      <td>0</td>\n",
       "      <td>0</td>\n",
       "      <td>0</td>\n",
       "      <td>0</td>\n",
       "      <td>0</td>\n",
       "      <td>0</td>\n",
       "      <td>0</td>\n",
       "      <td>0</td>\n",
       "      <td>0</td>\n",
       "      <td>0</td>\n",
       "      <td>0</td>\n",
       "      <td>0</td>\n",
       "      <td>0</td>\n",
       "      <td>0</td>\n",
       "      <td>0</td>\n",
       "      <td>0</td>\n",
       "      <td>0</td>\n",
       "      <td>0</td>\n",
       "      <td>0</td>\n",
       "      <td>0</td>\n",
       "      <td>0</td>\n",
       "      <td>0</td>\n",
       "      <td>0</td>\n",
       "      <td>0</td>\n",
       "      <td>0</td>\n",
       "      <td>0</td>\n",
       "      <td>0</td>\n",
       "      <td>0</td>\n",
       "      <td>0</td>\n",
       "    </tr>\n",
       "    <tr>\n",
       "      <th>1</th>\n",
       "      <td>4960</td>\n",
       "      <td>0</td>\n",
       "      <td>0</td>\n",
       "      <td>0</td>\n",
       "      <td>0</td>\n",
       "      <td>0</td>\n",
       "      <td>0</td>\n",
       "      <td>0</td>\n",
       "      <td>0</td>\n",
       "      <td>0</td>\n",
       "      <td>0</td>\n",
       "      <td>0</td>\n",
       "      <td>0</td>\n",
       "      <td>0</td>\n",
       "      <td>0</td>\n",
       "      <td>0</td>\n",
       "      <td>0</td>\n",
       "      <td>0</td>\n",
       "      <td>0</td>\n",
       "      <td>0</td>\n",
       "      <td>0</td>\n",
       "      <td>0</td>\n",
       "      <td>0</td>\n",
       "      <td>0</td>\n",
       "      <td>0</td>\n",
       "      <td>0</td>\n",
       "      <td>0</td>\n",
       "      <td>0</td>\n",
       "      <td>0</td>\n",
       "      <td>0</td>\n",
       "      <td>0</td>\n",
       "      <td>0</td>\n",
       "      <td>0</td>\n",
       "      <td>0</td>\n",
       "      <td>0</td>\n",
       "      <td>0</td>\n",
       "      <td>0</td>\n",
       "      <td>0</td>\n",
       "      <td>0</td>\n",
       "      <td>0</td>\n",
       "      <td>...</td>\n",
       "      <td>0</td>\n",
       "      <td>0</td>\n",
       "      <td>0</td>\n",
       "      <td>0</td>\n",
       "      <td>0</td>\n",
       "      <td>0</td>\n",
       "      <td>0</td>\n",
       "      <td>0</td>\n",
       "      <td>0</td>\n",
       "      <td>0</td>\n",
       "      <td>0</td>\n",
       "      <td>0</td>\n",
       "      <td>0</td>\n",
       "      <td>0</td>\n",
       "      <td>0</td>\n",
       "      <td>0</td>\n",
       "      <td>0</td>\n",
       "      <td>0</td>\n",
       "      <td>0</td>\n",
       "      <td>0</td>\n",
       "      <td>0</td>\n",
       "      <td>0</td>\n",
       "      <td>0</td>\n",
       "      <td>0</td>\n",
       "      <td>0</td>\n",
       "      <td>0</td>\n",
       "      <td>0</td>\n",
       "      <td>0</td>\n",
       "      <td>0</td>\n",
       "      <td>0</td>\n",
       "      <td>0</td>\n",
       "      <td>0</td>\n",
       "      <td>0</td>\n",
       "      <td>0</td>\n",
       "      <td>0</td>\n",
       "      <td>0</td>\n",
       "      <td>0</td>\n",
       "      <td>0</td>\n",
       "      <td>0</td>\n",
       "      <td>0</td>\n",
       "    </tr>\n",
       "    <tr>\n",
       "      <th>2</th>\n",
       "      <td>35755</td>\n",
       "      <td>0</td>\n",
       "      <td>0</td>\n",
       "      <td>0</td>\n",
       "      <td>0</td>\n",
       "      <td>0</td>\n",
       "      <td>0</td>\n",
       "      <td>0</td>\n",
       "      <td>0</td>\n",
       "      <td>0</td>\n",
       "      <td>0</td>\n",
       "      <td>0</td>\n",
       "      <td>0</td>\n",
       "      <td>0</td>\n",
       "      <td>0</td>\n",
       "      <td>0</td>\n",
       "      <td>0</td>\n",
       "      <td>0</td>\n",
       "      <td>0</td>\n",
       "      <td>0</td>\n",
       "      <td>0</td>\n",
       "      <td>0</td>\n",
       "      <td>0</td>\n",
       "      <td>0</td>\n",
       "      <td>0</td>\n",
       "      <td>0</td>\n",
       "      <td>0</td>\n",
       "      <td>0</td>\n",
       "      <td>0</td>\n",
       "      <td>0</td>\n",
       "      <td>0</td>\n",
       "      <td>0</td>\n",
       "      <td>0</td>\n",
       "      <td>0</td>\n",
       "      <td>0</td>\n",
       "      <td>0</td>\n",
       "      <td>0</td>\n",
       "      <td>0</td>\n",
       "      <td>0</td>\n",
       "      <td>0</td>\n",
       "      <td>...</td>\n",
       "      <td>0</td>\n",
       "      <td>0</td>\n",
       "      <td>0</td>\n",
       "      <td>0</td>\n",
       "      <td>0</td>\n",
       "      <td>0</td>\n",
       "      <td>0</td>\n",
       "      <td>0</td>\n",
       "      <td>0</td>\n",
       "      <td>0</td>\n",
       "      <td>0</td>\n",
       "      <td>0</td>\n",
       "      <td>0</td>\n",
       "      <td>0</td>\n",
       "      <td>0</td>\n",
       "      <td>0</td>\n",
       "      <td>0</td>\n",
       "      <td>0</td>\n",
       "      <td>0</td>\n",
       "      <td>0</td>\n",
       "      <td>0</td>\n",
       "      <td>0</td>\n",
       "      <td>0</td>\n",
       "      <td>0</td>\n",
       "      <td>0</td>\n",
       "      <td>0</td>\n",
       "      <td>0</td>\n",
       "      <td>0</td>\n",
       "      <td>0</td>\n",
       "      <td>0</td>\n",
       "      <td>0</td>\n",
       "      <td>0</td>\n",
       "      <td>0</td>\n",
       "      <td>0</td>\n",
       "      <td>0</td>\n",
       "      <td>0</td>\n",
       "      <td>0</td>\n",
       "      <td>0</td>\n",
       "      <td>0</td>\n",
       "      <td>0</td>\n",
       "    </tr>\n",
       "    <tr>\n",
       "      <th>3</th>\n",
       "      <td>15543</td>\n",
       "      <td>0</td>\n",
       "      <td>0</td>\n",
       "      <td>0</td>\n",
       "      <td>0</td>\n",
       "      <td>0</td>\n",
       "      <td>0</td>\n",
       "      <td>0</td>\n",
       "      <td>0</td>\n",
       "      <td>0</td>\n",
       "      <td>0</td>\n",
       "      <td>0</td>\n",
       "      <td>0</td>\n",
       "      <td>0</td>\n",
       "      <td>0</td>\n",
       "      <td>0</td>\n",
       "      <td>0</td>\n",
       "      <td>0</td>\n",
       "      <td>0</td>\n",
       "      <td>0</td>\n",
       "      <td>0</td>\n",
       "      <td>0</td>\n",
       "      <td>0</td>\n",
       "      <td>0</td>\n",
       "      <td>0</td>\n",
       "      <td>0</td>\n",
       "      <td>0</td>\n",
       "      <td>0</td>\n",
       "      <td>0</td>\n",
       "      <td>0</td>\n",
       "      <td>0</td>\n",
       "      <td>0</td>\n",
       "      <td>0</td>\n",
       "      <td>0</td>\n",
       "      <td>0</td>\n",
       "      <td>0</td>\n",
       "      <td>0</td>\n",
       "      <td>0</td>\n",
       "      <td>0</td>\n",
       "      <td>0</td>\n",
       "      <td>...</td>\n",
       "      <td>0</td>\n",
       "      <td>0</td>\n",
       "      <td>0</td>\n",
       "      <td>0</td>\n",
       "      <td>0</td>\n",
       "      <td>0</td>\n",
       "      <td>0</td>\n",
       "      <td>0</td>\n",
       "      <td>0</td>\n",
       "      <td>0</td>\n",
       "      <td>0</td>\n",
       "      <td>0</td>\n",
       "      <td>0</td>\n",
       "      <td>0</td>\n",
       "      <td>0</td>\n",
       "      <td>0</td>\n",
       "      <td>0</td>\n",
       "      <td>0</td>\n",
       "      <td>0</td>\n",
       "      <td>0</td>\n",
       "      <td>0</td>\n",
       "      <td>0</td>\n",
       "      <td>0</td>\n",
       "      <td>0</td>\n",
       "      <td>0</td>\n",
       "      <td>0</td>\n",
       "      <td>0</td>\n",
       "      <td>0</td>\n",
       "      <td>0</td>\n",
       "      <td>0</td>\n",
       "      <td>0</td>\n",
       "      <td>0</td>\n",
       "      <td>0</td>\n",
       "      <td>0</td>\n",
       "      <td>0</td>\n",
       "      <td>0</td>\n",
       "      <td>0</td>\n",
       "      <td>0</td>\n",
       "      <td>0</td>\n",
       "      <td>0</td>\n",
       "    </tr>\n",
       "    <tr>\n",
       "      <th>4</th>\n",
       "      <td>48968</td>\n",
       "      <td>0</td>\n",
       "      <td>0</td>\n",
       "      <td>0</td>\n",
       "      <td>0</td>\n",
       "      <td>0</td>\n",
       "      <td>0</td>\n",
       "      <td>0</td>\n",
       "      <td>0</td>\n",
       "      <td>0</td>\n",
       "      <td>0</td>\n",
       "      <td>0</td>\n",
       "      <td>0</td>\n",
       "      <td>0</td>\n",
       "      <td>0</td>\n",
       "      <td>0</td>\n",
       "      <td>0</td>\n",
       "      <td>0</td>\n",
       "      <td>0</td>\n",
       "      <td>0</td>\n",
       "      <td>0</td>\n",
       "      <td>0</td>\n",
       "      <td>0</td>\n",
       "      <td>0</td>\n",
       "      <td>0</td>\n",
       "      <td>0</td>\n",
       "      <td>0</td>\n",
       "      <td>0</td>\n",
       "      <td>0</td>\n",
       "      <td>0</td>\n",
       "      <td>0</td>\n",
       "      <td>0</td>\n",
       "      <td>0</td>\n",
       "      <td>0</td>\n",
       "      <td>0</td>\n",
       "      <td>0</td>\n",
       "      <td>0</td>\n",
       "      <td>0</td>\n",
       "      <td>0</td>\n",
       "      <td>0</td>\n",
       "      <td>...</td>\n",
       "      <td>0</td>\n",
       "      <td>0</td>\n",
       "      <td>0</td>\n",
       "      <td>0</td>\n",
       "      <td>0</td>\n",
       "      <td>0</td>\n",
       "      <td>0</td>\n",
       "      <td>0</td>\n",
       "      <td>0</td>\n",
       "      <td>0</td>\n",
       "      <td>0</td>\n",
       "      <td>0</td>\n",
       "      <td>0</td>\n",
       "      <td>0</td>\n",
       "      <td>0</td>\n",
       "      <td>0</td>\n",
       "      <td>0</td>\n",
       "      <td>0</td>\n",
       "      <td>0</td>\n",
       "      <td>0</td>\n",
       "      <td>0</td>\n",
       "      <td>0</td>\n",
       "      <td>0</td>\n",
       "      <td>0</td>\n",
       "      <td>0</td>\n",
       "      <td>0</td>\n",
       "      <td>0</td>\n",
       "      <td>0</td>\n",
       "      <td>0</td>\n",
       "      <td>0</td>\n",
       "      <td>0</td>\n",
       "      <td>0</td>\n",
       "      <td>0</td>\n",
       "      <td>0</td>\n",
       "      <td>0</td>\n",
       "      <td>0</td>\n",
       "      <td>0</td>\n",
       "      <td>0</td>\n",
       "      <td>0</td>\n",
       "      <td>0</td>\n",
       "    </tr>\n",
       "  </tbody>\n",
       "</table>\n",
       "<p>5 rows × 785 columns</p>\n",
       "</div>"
      ],
      "text/plain": [
       "   Unnamed: 0  pixel0  pixel1  pixel2  ...  pixel780  pixel781  pixel782  pixel783\n",
       "0       57808       0       0       0  ...         0         0         0         0\n",
       "1        4960       0       0       0  ...         0         0         0         0\n",
       "2       35755       0       0       0  ...         0         0         0         0\n",
       "3       15543       0       0       0  ...         0         0         0         0\n",
       "4       48968       0       0       0  ...         0         0         0         0\n",
       "\n",
       "[5 rows x 785 columns]"
      ]
     },
     "execution_count": 191,
     "metadata": {
      "tags": []
     },
     "output_type": "execute_result"
    }
   ],
   "source": [
    "print(test.shape)\n",
    "test.head()"
   ]
  },
  {
   "cell_type": "code",
   "execution_count": null,
   "metadata": {
    "Collapsed": "false",
    "colab": {},
    "colab_type": "code",
    "id": "AVoa9oCX-HLE"
   },
   "outputs": [],
   "source": [
    "X = train.drop(labels = ['label'], axis = 1)\n",
    "y = train['label']"
   ]
  },
  {
   "cell_type": "code",
   "execution_count": null,
   "metadata": {
    "Collapsed": "false",
    "colab": {},
    "colab_type": "code",
    "id": "dxChIwCZE-DP"
   },
   "outputs": [],
   "source": [
    "test_temp = test.iloc[:, 1:] # 1행 제외"
   ]
  },
  {
   "cell_type": "code",
   "execution_count": null,
   "metadata": {
    "Collapsed": "false",
    "colab": {},
    "colab_type": "code",
    "id": "CHl5EodGJoew"
   },
   "outputs": [],
   "source": [
    "# 정규화\n",
    "X_train = X / 255 # X(max) == 255\n",
    "X_test = test_temp / 255"
   ]
  },
  {
   "cell_type": "code",
   "execution_count": 196,
   "metadata": {
    "Collapsed": "false",
    "colab": {
     "base_uri": "https://localhost:8080/",
     "height": 353
    },
    "colab_type": "code",
    "executionInfo": {
     "elapsed": 1513,
     "status": "ok",
     "timestamp": 1584447074682,
     "user": {
      "displayName": "오진석",
      "photoUrl": "",
      "userId": "12229120938967938448"
     },
     "user_tz": -540
    },
    "id": "0_dxSCxBO_Yj",
    "outputId": "3d7fd370-3146-46d0-dd05-3f94f832d96f"
   },
   "outputs": [
    {
     "data": {
      "image/png": "[encoded data removed]",
      "text/plain": [
       "<Figure size 936x432 with 10 Axes>"
      ]
     },
     "metadata": {
      "tags": []
     },
     "output_type": "display_data"
    }
   ],
   "source": [
    "import matplotlib.pyplot as plt\n",
    "plt.figure(figsize = (13,6))\n",
    "for i in range(10):\n",
    "  plt.subplot(2,5,i+1)\n",
    "  plt.imshow(X_train.values[i].reshape(28,28), cmap='gray', interpolation='nearest')"
   ]
  },
  {
   "cell_type": "code",
   "execution_count": 197,
   "metadata": {
    "Collapsed": "false",
    "colab": {
     "base_uri": "https://localhost:8080/",
     "height": 34
    },
    "colab_type": "code",
    "executionInfo": {
     "elapsed": 942,
     "status": "ok",
     "timestamp": 1584447081627,
     "user": {
      "displayName": "오진석",
      "photoUrl": "",
      "userId": "12229120938967938448"
     },
     "user_tz": -540
    },
    "id": "AJnjRQ5mU0M1",
    "outputId": "7f49f508-5efc-4346-d445-ad1efd7c9262"
   },
   "outputs": [
    {
     "name": "stdout",
     "output_type": "stream",
     "text": [
      "(33600, 784) (8400, 784) (33600,) (8400,)\n"
     ]
    }
   ],
   "source": [
    "from sklearn.model_selection import train_test_split\n",
    "X_train, X_val, y_train, y_val = train_test_split(X_train, y, test_size=0.2, random_state=2020)\n",
    "print(X_train.shape, X_val.shape, y_train.shape, y_val.shape)"
   ]
  },
  {
   "cell_type": "markdown",
   "metadata": {
    "Collapsed": "false",
    "colab_type": "text",
    "id": "ULD4qcmVU-8R"
   },
   "source": [
    "# 1. Base Neural Network"
   ]
  },
  {
   "cell_type": "code",
   "execution_count": 198,
   "metadata": {
    "Collapsed": "false",
    "colab": {
     "base_uri": "https://localhost:8080/",
     "height": 34
    },
    "colab_type": "code",
    "executionInfo": {
     "elapsed": 546,
     "status": "ok",
     "timestamp": 1584447083988,
     "user": {
      "displayName": "오진석",
      "photoUrl": "",
      "userId": "12229120938967938448"
     },
     "user_tz": -540
    },
    "id": "f8rIpcobVCvl",
    "outputId": "14d9eda8-c740-4756-f1bc-f488516e6164"
   },
   "outputs": [
    {
     "data": {
      "text/plain": [
       "<tensorflow.python.keras.engine.sequential.Sequential at 0x7fa1eb08def0>"
      ]
     },
     "execution_count": 198,
     "metadata": {
      "tags": []
     },
     "output_type": "execute_result"
    }
   ],
   "source": [
    "num_classes = 10\n",
    "model = Sequential()\n",
    "model"
   ]
  },
  {
   "cell_type": "code",
   "execution_count": null,
   "metadata": {
    "Collapsed": "false",
    "colab": {},
    "colab_type": "code",
    "id": "WCvCyY14VC3F"
   },
   "outputs": [],
   "source": [
    "model.add(Dense(256, input_dim = 784))\n",
    "model.add(BatchNormalization())\n",
    "model.add(Dense(128, activation  = 'relu'))\n",
    "model.add(BatchNormalization())\n",
    "model.add(Dense(64))\n",
    "model.add(Dense(num_classes, activation = 'softmax'))"
   ]
  },
  {
   "cell_type": "code",
   "execution_count": 200,
   "metadata": {
    "Collapsed": "false",
    "colab": {
     "base_uri": "https://localhost:8080/",
     "height": 357
    },
    "colab_type": "code",
    "executionInfo": {
     "elapsed": 616,
     "status": "ok",
     "timestamp": 1584447086362,
     "user": {
      "displayName": "오진석",
      "photoUrl": "",
      "userId": "12229120938967938448"
     },
     "user_tz": -540
    },
    "id": "WPcMyM5kVC5p",
    "outputId": "8be08864-7748-4b35-f5b0-d2e3c60dabc6"
   },
   "outputs": [
    {
     "name": "stdout",
     "output_type": "stream",
     "text": [
      "Model: \"sequential_14\"\n",
      "_________________________________________________________________\n",
      "Layer (type)                 Output Shape              Param #   \n",
      "=================================================================\n",
      "dense_42 (Dense)             (None, 256)               200960    \n",
      "_________________________________________________________________\n",
      "batch_normalization_26 (Batc (None, 256)               1024      \n",
      "_________________________________________________________________\n",
      "dense_43 (Dense)             (None, 128)               32896     \n",
      "_________________________________________________________________\n",
      "batch_normalization_27 (Batc (None, 128)               512       \n",
      "_________________________________________________________________\n",
      "dense_44 (Dense)             (None, 64)                8256      \n",
      "_________________________________________________________________\n",
      "dense_45 (Dense)             (None, 10)                650       \n",
      "=================================================================\n",
      "Total params: 244,298\n",
      "Trainable params: 243,530\n",
      "Non-trainable params: 768\n",
      "_________________________________________________________________\n"
     ]
    }
   ],
   "source": [
    "model.compile(optimizer = RAdamOptimizer(learning_rate=1e-3), loss=\"sparse_categorical_crossentropy\", metrics=[\"acc\"])\n",
    "model.summary()"
   ]
  },
  {
   "cell_type": "code",
   "execution_count": 201,
   "metadata": {
    "Collapsed": "false",
    "colab": {
     "base_uri": "https://localhost:8080/",
     "height": 714
    },
    "colab_type": "code",
    "executionInfo": {
     "elapsed": 27417,
     "status": "ok",
     "timestamp": 1584447114397,
     "user": {
      "displayName": "오진석",
      "photoUrl": "",
      "userId": "12229120938967938448"
     },
     "user_tz": -540
    },
    "id": "2bmhjr4iVC75",
    "outputId": "127a22c0-1ae5-4522-9bbb-54b0d436c1a1"
   },
   "outputs": [
    {
     "name": "stdout",
     "output_type": "stream",
     "text": [
      "Train on 33600 samples, validate on 8400 samples\n",
      "Epoch 1/20\n",
      "33600/33600 [==============================] - 2s 64us/sample - loss: 1.4275 - acc: 0.5593 - val_loss: 1.0947 - val_acc: 0.8677\n",
      "Epoch 2/20\n",
      "33600/33600 [==============================] - 1s 35us/sample - loss: 0.2843 - acc: 0.9224 - val_loss: 0.5199 - val_acc: 0.9383\n",
      "Epoch 3/20\n",
      "33600/33600 [==============================] - 1s 35us/sample - loss: 0.1679 - acc: 0.9558 - val_loss: 0.2662 - val_acc: 0.9563\n",
      "Epoch 4/20\n",
      "33600/33600 [==============================] - 1s 36us/sample - loss: 0.1218 - acc: 0.9675 - val_loss: 0.1615 - val_acc: 0.9668\n",
      "Epoch 5/20\n",
      "33600/33600 [==============================] - 1s 36us/sample - loss: 0.0947 - acc: 0.9743 - val_loss: 0.1189 - val_acc: 0.9711\n",
      "Epoch 6/20\n",
      "33600/33600 [==============================] - 1s 35us/sample - loss: 0.0758 - acc: 0.9797 - val_loss: 0.0975 - val_acc: 0.9746\n",
      "Epoch 7/20\n",
      "33600/33600 [==============================] - 1s 36us/sample - loss: 0.0611 - acc: 0.9839 - val_loss: 0.0851 - val_acc: 0.9750\n",
      "Epoch 8/20\n",
      "33600/33600 [==============================] - 1s 36us/sample - loss: 0.0502 - acc: 0.9875 - val_loss: 0.0787 - val_acc: 0.9765\n",
      "Epoch 9/20\n",
      "33600/33600 [==============================] - 1s 37us/sample - loss: 0.0409 - acc: 0.9907 - val_loss: 0.0738 - val_acc: 0.9779\n",
      "Epoch 10/20\n",
      "33600/33600 [==============================] - 1s 35us/sample - loss: 0.0334 - acc: 0.9931 - val_loss: 0.0692 - val_acc: 0.9789\n",
      "Epoch 11/20\n",
      "33600/33600 [==============================] - 1s 36us/sample - loss: 0.0269 - acc: 0.9950 - val_loss: 0.0648 - val_acc: 0.9799\n",
      "Epoch 12/20\n",
      "33600/33600 [==============================] - 1s 36us/sample - loss: 0.0226 - acc: 0.9961 - val_loss: 0.0631 - val_acc: 0.9806\n",
      "Epoch 13/20\n",
      "33600/33600 [==============================] - 1s 36us/sample - loss: 0.0178 - acc: 0.9971 - val_loss: 0.0632 - val_acc: 0.9811\n",
      "Epoch 14/20\n",
      "33600/33600 [==============================] - 1s 36us/sample - loss: 0.0147 - acc: 0.9979 - val_loss: 0.0621 - val_acc: 0.9817\n",
      "Epoch 15/20\n",
      "33600/33600 [==============================] - 1s 36us/sample - loss: 0.0116 - acc: 0.9986 - val_loss: 0.0599 - val_acc: 0.9821\n",
      "Epoch 16/20\n",
      "33600/33600 [==============================] - 1s 35us/sample - loss: 0.0090 - acc: 0.9994 - val_loss: 0.0598 - val_acc: 0.9823\n",
      "Epoch 17/20\n",
      "33600/33600 [==============================] - 1s 35us/sample - loss: 0.0079 - acc: 0.9992 - val_loss: 0.0587 - val_acc: 0.9825\n",
      "Epoch 18/20\n",
      "33600/33600 [==============================] - 1s 35us/sample - loss: 0.0064 - acc: 0.9996 - val_loss: 0.0603 - val_acc: 0.9829\n",
      "Epoch 19/20\n",
      "33600/33600 [==============================] - 1s 36us/sample - loss: 0.0053 - acc: 0.9997 - val_loss: 0.0597 - val_acc: 0.9820\n",
      "Epoch 20/20\n",
      "33600/33600 [==============================] - 1s 36us/sample - loss: 0.0042 - acc: 0.9997 - val_loss: 0.0605 - val_acc: 0.9825\n"
     ]
    }
   ],
   "source": [
    "history = model.fit(X_train, y_train, batch_size=512, epochs=20, validation_data=[X_val, y_val])"
   ]
  },
  {
   "cell_type": "code",
   "execution_count": null,
   "metadata": {
    "Collapsed": "false",
    "colab": {},
    "colab_type": "code",
    "id": "m-LJp2V2VC-Z"
   },
   "outputs": [],
   "source": [
    "def makePlot(history):\n",
    "  fig, loss_ax = plt.subplots()\n",
    "  acc_ax = loss_ax.twinx()\n",
    "\n",
    "  loss_ax.plot(history.history['loss'], 'y', label='train loss')\n",
    "  loss_ax.plot(history.history['val_loss'], 'r', label='val loss')\n",
    "  loss_ax.set_xlabel('epoch')\n",
    "  loss_ax.set_ylabel('loss')\n",
    "  loss_ax.legend(loc='upper left')\n",
    "\n",
    "  acc_ax.plot(history.history['acc'], 'b', label='train acc')\n",
    "  acc_ax.plot(history.history['val_acc'], 'g', label='val acc')\n",
    "  acc_ax.set_ylabel('accuracy')\n",
    "  acc_ax.legend(loc='upper left')\n",
    "\n",
    "  plt.show()"
   ]
  },
  {
   "cell_type": "code",
   "execution_count": 206,
   "metadata": {
    "Collapsed": "false",
    "colab": {
     "base_uri": "https://localhost:8080/",
     "height": 279
    },
    "colab_type": "code",
    "executionInfo": {
     "elapsed": 719,
     "status": "ok",
     "timestamp": 1584447234656,
     "user": {
      "displayName": "오진석",
      "photoUrl": "",
      "userId": "12229120938967938448"
     },
     "user_tz": -540
    },
    "id": "FKz5jfiXVDA8",
    "outputId": "b7961267-acaf-4464-c1a3-4062b755ebd2"
   },
   "outputs": [
    {
     "data": {
      "image/png": "[encoded data removed]",
      "text/plain": [
       "<Figure size 432x288 with 2 Axes>"
      ]
     },
     "metadata": {
      "tags": []
     },
     "output_type": "display_data"
    }
   ],
   "source": [
    "makePlot(history)"
   ]
  },
  {
   "cell_type": "code",
   "execution_count": null,
   "metadata": {
    "Collapsed": "false",
    "colab": {},
    "colab_type": "code",
    "id": "gZlfHM6BaqLi"
   },
   "outputs": [],
   "source": [
    "def makeSub(X_test, sample, i):\n",
    "  prediction = model.predict_classes(X_test)\n",
    "  sample['Category'] = pd.Series(prediction)\n",
    "  sample.to_csv('keras_sub{}.csv'.format(i), index = False)"
   ]
  },
  {
   "cell_type": "code",
   "execution_count": null,
   "metadata": {
    "Collapsed": "false",
    "colab": {},
    "colab_type": "code",
    "id": "uUllpo5QaqRY"
   },
   "outputs": [],
   "source": [
    "makeSub(X_test, sample_submission, 1)"
   ]
  },
  {
   "cell_type": "code",
   "execution_count": null,
   "metadata": {
    "Collapsed": "false",
    "colab": {},
    "colab_type": "code",
    "id": "cIjjaa3baqUe"
   },
   "outputs": [],
   "source": []
  },
  {
   "cell_type": "markdown",
   "metadata": {
    "Collapsed": "false",
    "colab_type": "text",
    "id": "ezsv5RFmcue4"
   },
   "source": [
    "# 2. CNN - Convolutional Neural Network"
   ]
  },
  {
   "cell_type": "markdown",
   "metadata": {
    "Collapsed": "false",
    "colab_type": "text",
    "id": "Cy8Kj-4-dBRR"
   },
   "source": [
    "   - CNN은 사람의 시신경 구조를 모방한 구조\n",
    "   - 데이터를 feature(특징, 차원)로 추출하여 이 feature들의 패턴을 파악하는 구조\n",
    "   - Convolution 과정과 Pooling 과정을 통해 진행\n",
    "   - Convolution Layer 와 Pooling Layer를 복합적으로 구성하여 알고리즘을 구현\n",
    "   - CNN은 보통 정보추출(Information Extraction), 문장분류(Sentence Classification), 얼굴인식(Face Recognition)에 사용"
   ]
  },
  {
   "cell_type": "markdown",
   "metadata": {
    "Collapsed": "false",
    "colab_type": "text",
    "id": "Lm-hJjNyIZnR"
   },
   "source": [
    "Conv2D(32, (5,5), padding = 'valid', input_shape = (28,28,1), activation = 'relu')\n",
    "\n",
    "   - 첫번째 인자 : 컨볼루션 필터의 수\n",
    "   - 두번째 인자 : 컨볼루션 커널의 (행, 열)\n",
    "   - padding : 경계 처리 방법\n",
    "      - 'valid' : 유효한 영역만 출력\n",
    "      - 'same' : 출력 이미지 사이즈가 입력 이미지 사이즈와 동일\n",
    "   - input_shape : 샘플 수를 제외한 입력 형태를 정의\n",
    "      - (행, 열, 채널 수) 로 정의 흑백은 1, 컬러는 3\n",
    "   - activation : 활성화 함수 설정\n"
   ]
  },
  {
   "cell_type": "markdown",
   "metadata": {
    "Collapsed": "false",
    "colab_type": "text",
    "id": "myyhfuTOIZvB"
   },
   "source": [
    "MaxPool2D(pool_size = (2,2))\n",
    "   - pool_size : 수직, 수평 축소 비율을 지정"
   ]
  },
  {
   "cell_type": "markdown",
   "metadata": {
    "Collapsed": "false",
    "colab_type": "text",
    "id": "p4qMBeHyIZ16"
   },
   "source": [
    "Flatten()\n",
    "   - 컨볼루션 레이어, 맥스풀링 레이어를 반복적으로 거치면 주요 특징만 추출되어 학습됨\n",
    "   - 컨볼루션 레이어나 맥스풀링 레이어는 주로 2차원 자료를 다루지만 전결합층에 전달하기 위해선 1차원 자료로 변환해줘야 함"
   ]
  },
  {
   "cell_type": "markdown",
   "metadata": {
    "Collapsed": "false",
    "colab_type": "text",
    "id": "pOlEjVJ9IpR-"
   },
   "source": [
    "Dense(8, input_dim = 4, init = 'uniform', activation = 'relu')\n",
    "   - 첫번째 인자 : 출력 뉴런의 수\n",
    "   - input_dim : 입력 뉴런의 수\n",
    "   - init : 가중치 초기화 방법\n",
    "      - 'uniform' : 균일 분포\n",
    "      - 'normal' : 가우시안 분포\n",
    "   - activation : 활성화 함수 설정\n"
   ]
  },
  {
   "cell_type": "code",
   "execution_count": null,
   "metadata": {
    "Collapsed": "false",
    "colab": {},
    "colab_type": "code",
    "id": "xUlQq-5sdlHA"
   },
   "outputs": [],
   "source": [
    "X_train = X / 255 # X(max) == 255\n",
    "X_test = test_temp / 255"
   ]
  },
  {
   "cell_type": "code",
   "execution_count": null,
   "metadata": {
    "Collapsed": "false",
    "colab": {},
    "colab_type": "code",
    "id": "_XLpDtbQeCNw"
   },
   "outputs": [],
   "source": [
    "# 컨볼루션을 위한 매트릭스로 변형\n",
    "# # must reshape the date to make it Keras friendly.\n",
    "X_train = X_train.values.reshape(X_train.shape[0], 28, 28, 1)\n",
    "X_test = X_test.values.reshape(X_test.shape[0],28, 28, 1)"
   ]
  },
  {
   "cell_type": "code",
   "execution_count": 240,
   "metadata": {
    "Collapsed": "false",
    "colab": {
     "base_uri": "https://localhost:8080/",
     "height": 34
    },
    "colab_type": "code",
    "executionInfo": {
     "elapsed": 1239,
     "status": "ok",
     "timestamp": 1584448527758,
     "user": {
      "displayName": "오진석",
      "photoUrl": "",
      "userId": "12229120938967938448"
     },
     "user_tz": -540
    },
    "id": "Zo7IrlyMeRzk",
    "outputId": "0f595f81-5da0-42b8-c174-5b97cfc3af24"
   },
   "outputs": [
    {
     "name": "stdout",
     "output_type": "stream",
     "text": [
      "(33600, 28, 28, 1) (8400, 28, 28, 1) (33600,) (8400,)\n"
     ]
    }
   ],
   "source": [
    "X_train, X_val, y_train, y_val = train_test_split(X_train, y, test_size=0.2, random_state=2020)\n",
    "print(X_train.shape, X_val.shape, y_train.shape, y_val.shape)"
   ]
  },
  {
   "cell_type": "code",
   "execution_count": 241,
   "metadata": {
    "Collapsed": "false",
    "colab": {
     "base_uri": "https://localhost:8080/",
     "height": 34
    },
    "colab_type": "code",
    "executionInfo": {
     "elapsed": 2028,
     "status": "ok",
     "timestamp": 1584448544306,
     "user": {
      "displayName": "오진석",
      "photoUrl": "",
      "userId": "12229120938967938448"
     },
     "user_tz": -540
    },
    "id": "X6Fl91yRU9_G",
    "outputId": "007bbb68-502c-4268-d9d4-46fe73c81fdf"
   },
   "outputs": [
    {
     "data": {
      "text/plain": [
       "<tensorflow.python.keras.engine.sequential.Sequential at 0x7fa1e9d19978>"
      ]
     },
     "execution_count": 241,
     "metadata": {
      "tags": []
     },
     "output_type": "execute_result"
    }
   ],
   "source": [
    "model = Sequential() # Sequential 모델, 층을 차례대로 쌓음\n",
    "model"
   ]
  },
  {
   "cell_type": "code",
   "execution_count": null,
   "metadata": {
    "Collapsed": "false",
    "colab": {},
    "colab_type": "code",
    "id": "mFH0YmNVY73T"
   },
   "outputs": [],
   "source": [
    "input_shape = X_train[0].shape\n",
    "model.add(Conv2D(filters=32, kernel_size=(3,3), activation='relu', input_shape=input_shape)) #\n",
    "model.add(Conv2D(64, (3,3), activation='relu')) # \n",
    "model.add(MaxPool2D(2,2))\n",
    "model.add(Dropout(0.25)) # Dropout 은 랜덤하게 선택한 뉴런을 비활성화 시키는 기멉, 동조현상이 발생한 뉴런을 삭제하는 효과로 overfitting을 방지할 수도 있음, 비율을 말함 25%\n",
    "model.add(Flatten())\n",
    "model.add(Dense(256, activation='relu'))\n",
    "model.add(Dropout(0.5))\n",
    "model.add(Dense(128, activation='softmax'))"
   ]
  },
  {
   "cell_type": "code",
   "execution_count": 44,
   "metadata": {
    "Collapsed": "false",
    "colab": {
     "base_uri": "https://localhost:8080/",
     "height": 326
    },
    "colab_type": "code",
    "executionInfo": {
     "elapsed": 4866,
     "status": "ok",
     "timestamp": 1584436710822,
     "user": {
      "displayName": "오진석",
      "photoUrl": "",
      "userId": "12229120938967938448"
     },
     "user_tz": -540
    },
    "id": "4F7lvGYrO0an",
    "outputId": "2284bfa1-60a5-4ce8-bae8-3cae5232875d"
   },
   "outputs": [
    {
     "name": "stdout",
     "output_type": "stream",
     "text": [
      "Collecting keras-rectified-adam\n",
      "  Downloading https://files.pythonhosted.org/packages/21/79/9521f66b92186702cb58a214c1b923b416266381cd824e15a1733f6a5b06/keras-rectified-adam-0.17.0.tar.gz\n",
      "Requirement already satisfied: numpy in /usr/local/lib/python3.6/dist-packages (from keras-rectified-adam) (1.18.1)\n",
      "Requirement already satisfied: Keras in /usr/local/lib/python3.6/dist-packages (from keras-rectified-adam) (2.2.5)\n",
      "Requirement already satisfied: h5py in /usr/local/lib/python3.6/dist-packages (from Keras->keras-rectified-adam) (2.8.0)\n",
      "Requirement already satisfied: pyyaml in /usr/local/lib/python3.6/dist-packages (from Keras->keras-rectified-adam) (3.13)\n",
      "Requirement already satisfied: keras-applications>=1.0.8 in /usr/local/lib/python3.6/dist-packages (from Keras->keras-rectified-adam) (1.0.8)\n",
      "Requirement already satisfied: scipy>=0.14 in /usr/local/lib/python3.6/dist-packages (from Keras->keras-rectified-adam) (1.4.1)\n",
      "Requirement already satisfied: six>=1.9.0 in /usr/local/lib/python3.6/dist-packages (from Keras->keras-rectified-adam) (1.12.0)\n",
      "Requirement already satisfied: keras-preprocessing>=1.1.0 in /usr/local/lib/python3.6/dist-packages (from Keras->keras-rectified-adam) (1.1.0)\n",
      "Building wheels for collected packages: keras-rectified-adam\n",
      "  Building wheel for keras-rectified-adam (setup.py) ... \u001b[?25l\u001b[?25hdone\n",
      "  Created wheel for keras-rectified-adam: filename=keras_rectified_adam-0.17.0-cp36-none-any.whl size=14781 sha256=41faf0f12a4656740cf5f82ed91402eafad8e4342572a16a64cc6c47381deaa8\n",
      "  Stored in directory: /root/.cache/pip/wheels/7b/01/27/3a934e1a5644f5b93c720422a6ef97034ea78a21ba71cfb549\n",
      "Successfully built keras-rectified-adam\n",
      "Installing collected packages: keras-rectified-adam\n",
      "Successfully installed keras-rectified-adam-0.17.0\n"
     ]
    }
   ],
   "source": [
    "!pip install keras-rectified-adam"
   ]
  },
  {
   "cell_type": "code",
   "execution_count": null,
   "metadata": {
    "Collapsed": "false",
    "colab": {},
    "colab_type": "code",
    "id": "Rq3vOSLjPIkw"
   },
   "outputs": [],
   "source": [
    "from keras_radam.training import RAdamOptimizer"
   ]
  },
  {
   "cell_type": "code",
   "execution_count": 244,
   "metadata": {
    "Collapsed": "false",
    "colab": {
     "base_uri": "https://localhost:8080/",
     "height": 425
    },
    "colab_type": "code",
    "executionInfo": {
     "elapsed": 568,
     "status": "ok",
     "timestamp": 1584449059927,
     "user": {
      "displayName": "오진석",
      "photoUrl": "",
      "userId": "12229120938967938448"
     },
     "user_tz": -540
    },
    "id": "0xUV2gpGPOW8",
    "outputId": "cfd97f1b-8a36-4e38-ca74-c740b33a134d"
   },
   "outputs": [
    {
     "name": "stdout",
     "output_type": "stream",
     "text": [
      "Model: \"sequential_18\"\n",
      "_________________________________________________________________\n",
      "Layer (type)                 Output Shape              Param #   \n",
      "=================================================================\n",
      "conv2d_10 (Conv2D)           (None, 26, 26, 32)        320       \n",
      "_________________________________________________________________\n",
      "conv2d_11 (Conv2D)           (None, 24, 24, 64)        18496     \n",
      "_________________________________________________________________\n",
      "max_pooling2d_4 (MaxPooling2 (None, 12, 12, 64)        0         \n",
      "_________________________________________________________________\n",
      "dropout_5 (Dropout)          (None, 12, 12, 64)        0         \n",
      "_________________________________________________________________\n",
      "flatten_2 (Flatten)          (None, 9216)              0         \n",
      "_________________________________________________________________\n",
      "dense_46 (Dense)             (None, 256)               2359552   \n",
      "_________________________________________________________________\n",
      "dropout_6 (Dropout)          (None, 256)               0         \n",
      "_________________________________________________________________\n",
      "dense_47 (Dense)             (None, 128)               32896     \n",
      "=================================================================\n",
      "Total params: 2,411,264\n",
      "Trainable params: 2,411,264\n",
      "Non-trainable params: 0\n",
      "_________________________________________________________________\n"
     ]
    }
   ],
   "source": [
    "model.compile(optimizer = RAdamOptimizer(learning_rate=1e-3), loss=\"sparse_categorical_crossentropy\", metrics=[\"acc\"])\n",
    "model.summary()"
   ]
  },
  {
   "cell_type": "code",
   "execution_count": 245,
   "metadata": {
    "Collapsed": "false",
    "colab": {
     "base_uri": "https://localhost:8080/",
     "height": 1000
    },
    "colab_type": "code",
    "executionInfo": {
     "elapsed": 66738,
     "status": "ok",
     "timestamp": 1584449130963,
     "user": {
      "displayName": "오진석",
      "photoUrl": "",
      "userId": "12229120938967938448"
     },
     "user_tz": -540
    },
    "id": "Mdd27S_3PP4k",
    "outputId": "f78d7ef7-560a-4b4f-db8a-4e7f2c57a3b5"
   },
   "outputs": [
    {
     "name": "stdout",
     "output_type": "stream",
     "text": [
      "Train on 33600 samples, validate on 8400 samples\n",
      "Epoch 1/50\n",
      "33600/33600 [==============================] - 2s 63us/sample - loss: 3.1688 - acc: 0.4258 - val_loss: 0.4058 - val_acc: 0.9088\n",
      "Epoch 2/50\n",
      "33600/33600 [==============================] - 1s 38us/sample - loss: 0.3570 - acc: 0.8933 - val_loss: 0.1610 - val_acc: 0.9571\n",
      "Epoch 3/50\n",
      "33600/33600 [==============================] - 1s 38us/sample - loss: 0.1962 - acc: 0.9433 - val_loss: 0.1250 - val_acc: 0.9658\n",
      "Epoch 4/50\n",
      "33600/33600 [==============================] - 1s 38us/sample - loss: 0.1535 - acc: 0.9556 - val_loss: 0.1021 - val_acc: 0.9711\n",
      "Epoch 5/50\n",
      "33600/33600 [==============================] - 1s 38us/sample - loss: 0.1254 - acc: 0.9636 - val_loss: 0.0901 - val_acc: 0.9746\n",
      "Epoch 6/50\n",
      "33600/33600 [==============================] - 1s 37us/sample - loss: 0.1041 - acc: 0.9694 - val_loss: 0.0745 - val_acc: 0.9779\n",
      "Epoch 7/50\n",
      "33600/33600 [==============================] - 1s 38us/sample - loss: 0.0855 - acc: 0.9745 - val_loss: 0.0620 - val_acc: 0.9817\n",
      "Epoch 8/50\n",
      "33600/33600 [==============================] - 1s 37us/sample - loss: 0.0723 - acc: 0.9780 - val_loss: 0.0561 - val_acc: 0.9832\n",
      "Epoch 9/50\n",
      "33600/33600 [==============================] - 1s 38us/sample - loss: 0.0655 - acc: 0.9801 - val_loss: 0.0499 - val_acc: 0.9848\n",
      "Epoch 10/50\n",
      "33600/33600 [==============================] - 1s 38us/sample - loss: 0.0539 - acc: 0.9844 - val_loss: 0.0431 - val_acc: 0.9876\n",
      "Epoch 11/50\n",
      "33600/33600 [==============================] - 1s 38us/sample - loss: 0.0483 - acc: 0.9847 - val_loss: 0.0393 - val_acc: 0.9881\n",
      "Epoch 12/50\n",
      "33600/33600 [==============================] - 1s 38us/sample - loss: 0.0399 - acc: 0.9874 - val_loss: 0.0382 - val_acc: 0.9893\n",
      "Epoch 13/50\n",
      "33600/33600 [==============================] - 1s 38us/sample - loss: 0.0374 - acc: 0.9880 - val_loss: 0.0340 - val_acc: 0.9896\n",
      "Epoch 14/50\n",
      "33600/33600 [==============================] - 1s 38us/sample - loss: 0.0325 - acc: 0.9901 - val_loss: 0.0304 - val_acc: 0.9912\n",
      "Epoch 15/50\n",
      "33600/33600 [==============================] - 1s 37us/sample - loss: 0.0286 - acc: 0.9913 - val_loss: 0.0303 - val_acc: 0.9914\n",
      "Epoch 16/50\n",
      "33600/33600 [==============================] - 1s 37us/sample - loss: 0.0254 - acc: 0.9920 - val_loss: 0.0287 - val_acc: 0.9914\n",
      "Epoch 17/50\n",
      "33600/33600 [==============================] - 1s 37us/sample - loss: 0.0243 - acc: 0.9922 - val_loss: 0.0288 - val_acc: 0.9918\n",
      "Epoch 18/50\n",
      "33600/33600 [==============================] - 1s 38us/sample - loss: 0.0221 - acc: 0.9932 - val_loss: 0.0277 - val_acc: 0.9915\n",
      "Epoch 19/50\n",
      "33600/33600 [==============================] - 1s 38us/sample - loss: 0.0197 - acc: 0.9937 - val_loss: 0.0295 - val_acc: 0.9917\n",
      "Epoch 20/50\n",
      "33600/33600 [==============================] - 1s 38us/sample - loss: 0.0174 - acc: 0.9942 - val_loss: 0.0271 - val_acc: 0.9923\n",
      "Epoch 21/50\n",
      "33600/33600 [==============================] - 1s 38us/sample - loss: 0.0159 - acc: 0.9952 - val_loss: 0.0252 - val_acc: 0.9932\n",
      "Epoch 22/50\n",
      "33600/33600 [==============================] - 1s 38us/sample - loss: 0.0157 - acc: 0.9949 - val_loss: 0.0269 - val_acc: 0.9932\n",
      "Epoch 23/50\n",
      "33600/33600 [==============================] - 1s 38us/sample - loss: 0.0136 - acc: 0.9952 - val_loss: 0.0258 - val_acc: 0.9937\n",
      "Epoch 24/50\n",
      "33600/33600 [==============================] - 1s 38us/sample - loss: 0.0125 - acc: 0.9958 - val_loss: 0.0266 - val_acc: 0.9926\n",
      "Epoch 25/50\n",
      "33600/33600 [==============================] - 1s 38us/sample - loss: 0.0123 - acc: 0.9960 - val_loss: 0.0295 - val_acc: 0.9925\n",
      "Epoch 26/50\n",
      "33600/33600 [==============================] - 1s 38us/sample - loss: 0.0107 - acc: 0.9963 - val_loss: 0.0236 - val_acc: 0.9935\n",
      "Epoch 27/50\n",
      "33600/33600 [==============================] - 1s 38us/sample - loss: 0.0104 - acc: 0.9966 - val_loss: 0.0243 - val_acc: 0.9933\n",
      "Epoch 28/50\n",
      "33600/33600 [==============================] - 1s 37us/sample - loss: 0.0107 - acc: 0.9966 - val_loss: 0.0257 - val_acc: 0.9927\n",
      "Epoch 29/50\n",
      "33600/33600 [==============================] - 1s 38us/sample - loss: 0.0094 - acc: 0.9970 - val_loss: 0.0254 - val_acc: 0.9933\n",
      "Epoch 30/50\n",
      "33600/33600 [==============================] - 1s 38us/sample - loss: 0.0094 - acc: 0.9967 - val_loss: 0.0271 - val_acc: 0.9935\n",
      "Epoch 31/50\n",
      "33600/33600 [==============================] - 1s 38us/sample - loss: 0.0087 - acc: 0.9973 - val_loss: 0.0284 - val_acc: 0.9924\n",
      "Epoch 32/50\n",
      "33600/33600 [==============================] - 1s 38us/sample - loss: 0.0094 - acc: 0.9969 - val_loss: 0.0264 - val_acc: 0.9936\n",
      "Epoch 33/50\n",
      "33600/33600 [==============================] - 1s 38us/sample - loss: 0.0076 - acc: 0.9976 - val_loss: 0.0240 - val_acc: 0.9936\n",
      "Epoch 34/50\n",
      "33600/33600 [==============================] - 1s 38us/sample - loss: 0.0083 - acc: 0.9972 - val_loss: 0.0246 - val_acc: 0.9935\n",
      "Epoch 35/50\n",
      "33600/33600 [==============================] - 1s 37us/sample - loss: 0.0071 - acc: 0.9978 - val_loss: 0.0282 - val_acc: 0.9921\n",
      "Epoch 36/50\n",
      "33600/33600 [==============================] - 1s 38us/sample - loss: 0.0081 - acc: 0.9971 - val_loss: 0.0274 - val_acc: 0.9939\n",
      "Epoch 37/50\n",
      "33600/33600 [==============================] - 1s 38us/sample - loss: 0.0066 - acc: 0.9981 - val_loss: 0.0278 - val_acc: 0.9930\n",
      "Epoch 38/50\n",
      "33600/33600 [==============================] - 1s 38us/sample - loss: 0.0074 - acc: 0.9973 - val_loss: 0.0262 - val_acc: 0.9932\n",
      "Epoch 39/50\n",
      "33600/33600 [==============================] - 1s 38us/sample - loss: 0.0070 - acc: 0.9975 - val_loss: 0.0240 - val_acc: 0.9942\n",
      "Epoch 40/50\n",
      "33600/33600 [==============================] - 1s 38us/sample - loss: 0.0060 - acc: 0.9983 - val_loss: 0.0235 - val_acc: 0.9943\n",
      "Epoch 41/50\n",
      "33600/33600 [==============================] - 1s 37us/sample - loss: 0.0060 - acc: 0.9981 - val_loss: 0.0247 - val_acc: 0.9943\n",
      "Epoch 42/50\n",
      "33600/33600 [==============================] - 1s 38us/sample - loss: 0.0055 - acc: 0.9981 - val_loss: 0.0278 - val_acc: 0.9932\n",
      "Epoch 43/50\n",
      "33600/33600 [==============================] - 1s 38us/sample - loss: 0.0048 - acc: 0.9984 - val_loss: 0.0272 - val_acc: 0.9937\n",
      "Epoch 44/50\n",
      "33600/33600 [==============================] - 1s 38us/sample - loss: 0.0065 - acc: 0.9978 - val_loss: 0.0267 - val_acc: 0.9944\n",
      "Epoch 45/50\n",
      "33600/33600 [==============================] - 1s 38us/sample - loss: 0.0053 - acc: 0.9982 - val_loss: 0.0259 - val_acc: 0.9946\n",
      "Epoch 46/50\n",
      "33600/33600 [==============================] - 1s 38us/sample - loss: 0.0065 - acc: 0.9977 - val_loss: 0.0253 - val_acc: 0.9943\n",
      "Epoch 47/50\n",
      "33600/33600 [==============================] - 1s 38us/sample - loss: 0.0037 - acc: 0.9989 - val_loss: 0.0290 - val_acc: 0.9936\n",
      "Epoch 48/50\n",
      "33600/33600 [==============================] - 1s 38us/sample - loss: 0.0051 - acc: 0.9983 - val_loss: 0.0309 - val_acc: 0.9942\n",
      "Epoch 49/50\n",
      "33600/33600 [==============================] - 1s 38us/sample - loss: 0.0048 - acc: 0.9982 - val_loss: 0.0294 - val_acc: 0.9942\n",
      "Epoch 50/50\n",
      "33600/33600 [==============================] - 1s 37us/sample - loss: 0.0051 - acc: 0.9984 - val_loss: 0.0273 - val_acc: 0.9942\n"
     ]
    }
   ],
   "source": [
    "history = model.fit(X_train, y_train, batch_size=512, epochs=50, validation_data=[X_val, y_val])"
   ]
  },
  {
   "cell_type": "code",
   "execution_count": 246,
   "metadata": {
    "Collapsed": "false",
    "colab": {
     "base_uri": "https://localhost:8080/",
     "height": 279
    },
    "colab_type": "code",
    "executionInfo": {
     "elapsed": 735,
     "status": "ok",
     "timestamp": 1584449240628,
     "user": {
      "displayName": "오진석",
      "photoUrl": "",
      "userId": "12229120938967938448"
     },
     "user_tz": -540
    },
    "id": "PDr8SPDUTykS",
    "outputId": "d7cebd63-4cf2-40df-a813-ad2918932b13"
   },
   "outputs": [
    {
     "data": {
      "image/png": "[encoded data removed]",
      "text/plain": [
       "<Figure size 432x288 with 2 Axes>"
      ]
     },
     "metadata": {
      "tags": []
     },
     "output_type": "display_data"
    }
   ],
   "source": [
    "makePlot(history)"
   ]
  },
  {
   "cell_type": "code",
   "execution_count": null,
   "metadata": {
    "Collapsed": "false",
    "colab": {},
    "colab_type": "code",
    "id": "1clPwGOoT824"
   },
   "outputs": [],
   "source": [
    "makeSub(X_test, sample_submission, 2)"
   ]
  },
  {
   "cell_type": "markdown",
   "metadata": {
    "Collapsed": "false",
    "colab_type": "text",
    "id": "HAZhm2VRlEpP"
   },
   "source": [
    "# 3. Augmentation"
   ]
  },
  {
   "cell_type": "code",
   "execution_count": null,
   "metadata": {
    "Collapsed": "false",
    "colab": {},
    "colab_type": "code",
    "id": "7VrQlrKGl76k"
   },
   "outputs": [],
   "source": [
    "from keras.preprocessing.image import ImageDataGenerator"
   ]
  },
  {
   "cell_type": "code",
   "execution_count": null,
   "metadata": {
    "Collapsed": "false",
    "colab": {},
    "colab_type": "code",
    "id": "3WvgH0d5lGH_"
   },
   "outputs": [],
   "source": [
    "# 데이터 증식을 위해 ImageDataGenerator 사용\n",
    "gen = ImageDataGenerator(rotation_range=15, # 이미지를 최대 15도 회전\n",
    "                        width_shift_range=0.15, # 이미지를 좌우 이동 15% (픽셀기준) \n",
    "                        height_shift_range=0.15, # 이미지를 상하 이동 15% (픽셀기준) \n",
    "                        shear_range=0.15, # 0.15 라디안 내외로 시계 반대방향으로 변형 (밀림 강도 범위내에서 임의로 원본이미지를 변형)\n",
    "                        zoom_range=0.5) # 1 - 0.4 ~ 1+ 0.4 범위로 확대/축소"
   ]
  },
  {
   "cell_type": "code",
   "execution_count": null,
   "metadata": {
    "Collapsed": "false",
    "colab": {},
    "colab_type": "code",
    "id": "7muj3xQWnXxj"
   },
   "outputs": [],
   "source": [
    "batches = gen.flow(X_train, y_train, batch_size=64)\n",
    "val_batches = gen.flow(X_val, y_val, batch_size=64)"
   ]
  },
  {
   "cell_type": "code",
   "execution_count": null,
   "metadata": {
    "Collapsed": "false",
    "colab": {},
    "colab_type": "code",
    "id": "WfQbuolHt_eP"
   },
   "outputs": [],
   "source": [
    "input_shape = X_train[0].shape\n",
    "model = Sequential() # Sequential 모델, 층을 차례대로 쌓음\n",
    "model.add(Conv2D(filters=32, kernel_size=(3,3), activation='relu', input_shape=input_shape)) #\n",
    "model.add(Conv2D(64, (3,3), activation='relu')) # \n",
    "model.add(MaxPool2D(2,2))\n",
    "model.add(Dropout(0.25)) # Dropout 은 랜덤하게 선택한 뉴런을 비활성화 시키는 기멉, 동조현상이 발생한 뉴런을 삭제하는 효과로 overfitting을 방지할 수도 있음, 비율을 말함 25%\n",
    "model.add(Flatten())\n",
    "model.add(Dense(256, activation='relu'))\n",
    "model.add(Dropout(0.5))\n",
    "model.add(Dense(128, activation='softmax'))"
   ]
  },
  {
   "cell_type": "code",
   "execution_count": 267,
   "metadata": {
    "Collapsed": "false",
    "colab": {
     "base_uri": "https://localhost:8080/",
     "height": 425
    },
    "colab_type": "code",
    "executionInfo": {
     "elapsed": 1031,
     "status": "ok",
     "timestamp": 1584453289122,
     "user": {
      "displayName": "오진석",
      "photoUrl": "",
      "userId": "12229120938967938448"
     },
     "user_tz": -540
    },
    "id": "gdmx8IAfniQn",
    "outputId": "ae027526-8006-4491-c6ca-014bca1affa9"
   },
   "outputs": [
    {
     "name": "stdout",
     "output_type": "stream",
     "text": [
      "Model: \"sequential_20\"\n",
      "_________________________________________________________________\n",
      "Layer (type)                 Output Shape              Param #   \n",
      "=================================================================\n",
      "conv2d_14 (Conv2D)           (None, 26, 26, 32)        320       \n",
      "_________________________________________________________________\n",
      "conv2d_15 (Conv2D)           (None, 24, 24, 64)        18496     \n",
      "_________________________________________________________________\n",
      "max_pooling2d_6 (MaxPooling2 (None, 12, 12, 64)        0         \n",
      "_________________________________________________________________\n",
      "dropout_9 (Dropout)          (None, 12, 12, 64)        0         \n",
      "_________________________________________________________________\n",
      "flatten_4 (Flatten)          (None, 9216)              0         \n",
      "_________________________________________________________________\n",
      "dense_50 (Dense)             (None, 256)               2359552   \n",
      "_________________________________________________________________\n",
      "dropout_10 (Dropout)         (None, 256)               0         \n",
      "_________________________________________________________________\n",
      "dense_51 (Dense)             (None, 128)               32896     \n",
      "=================================================================\n",
      "Total params: 2,411,264\n",
      "Trainable params: 2,411,264\n",
      "Non-trainable params: 0\n",
      "_________________________________________________________________\n"
     ]
    }
   ],
   "source": [
    "model.compile(optimizer = RAdamOptimizer(learning_rate=1e-3), loss=\"sparse_categorical_crossentropy\", metrics=[\"acc\"])\n",
    "model.summary()"
   ]
  },
  {
   "cell_type": "code",
   "execution_count": 268,
   "metadata": {
    "Collapsed": "false",
    "colab": {
     "base_uri": "https://localhost:8080/",
     "height": 1000
    },
    "colab_type": "code",
    "executionInfo": {
     "elapsed": 329453,
     "status": "ok",
     "timestamp": 1584453619782,
     "user": {
      "displayName": "오진석",
      "photoUrl": "",
      "userId": "12229120938967938448"
     },
     "user_tz": -540
    },
    "id": "pROsQN6Zt-7x",
    "outputId": "a200e664-f5eb-430b-dd17-542db3b8cdab"
   },
   "outputs": [
    {
     "name": "stdout",
     "output_type": "stream",
     "text": [
      "Epoch 1/30\n",
      "509/512 [============================>.] - ETA: 0s - loss: 1.5908 - acc: 0.5151Epoch 1/30\n",
      "512/512 [==============================] - 13s 25ms/step - loss: 1.5858 - acc: 0.5166 - val_loss: 0.5659 - val_acc: 0.8222\n",
      "Epoch 2/30\n",
      "510/512 [============================>.] - ETA: 0s - loss: 0.5630 - acc: 0.8167Epoch 1/30\n",
      "512/512 [==============================] - 11s 21ms/step - loss: 0.5628 - acc: 0.8167 - val_loss: 0.3202 - val_acc: 0.9041\n",
      "Epoch 3/30\n",
      "511/512 [============================>.] - ETA: 0s - loss: 0.4088 - acc: 0.8690Epoch 1/30\n",
      "512/512 [==============================] - 11s 21ms/step - loss: 0.4085 - acc: 0.8691 - val_loss: 0.2370 - val_acc: 0.9206\n",
      "Epoch 4/30\n",
      "511/512 [============================>.] - ETA: 0s - loss: 0.3458 - acc: 0.8874Epoch 1/30\n",
      "512/512 [==============================] - 11s 21ms/step - loss: 0.3456 - acc: 0.8874 - val_loss: 0.1885 - val_acc: 0.9419\n",
      "Epoch 5/30\n",
      "510/512 [============================>.] - ETA: 0s - loss: 0.2958 - acc: 0.9044Epoch 1/30\n",
      "512/512 [==============================] - 11s 21ms/step - loss: 0.2957 - acc: 0.9044 - val_loss: 0.1706 - val_acc: 0.9466\n",
      "Epoch 6/30\n",
      "509/512 [============================>.] - ETA: 0s - loss: 0.2643 - acc: 0.9129Epoch 1/30\n",
      "512/512 [==============================] - 11s 21ms/step - loss: 0.2641 - acc: 0.9129 - val_loss: 0.1397 - val_acc: 0.9544\n",
      "Epoch 7/30\n",
      "511/512 [============================>.] - ETA: 0s - loss: 0.2405 - acc: 0.9227Epoch 1/30\n",
      "512/512 [==============================] - 11s 21ms/step - loss: 0.2404 - acc: 0.9227 - val_loss: 0.1502 - val_acc: 0.9522\n",
      "Epoch 8/30\n",
      "511/512 [============================>.] - ETA: 0s - loss: 0.2215 - acc: 0.9296Epoch 1/30\n",
      "512/512 [==============================] - 11s 21ms/step - loss: 0.2213 - acc: 0.9297 - val_loss: 0.1343 - val_acc: 0.9584\n",
      "Epoch 9/30\n",
      "511/512 [============================>.] - ETA: 0s - loss: 0.2043 - acc: 0.9327Epoch 1/30\n",
      "512/512 [==============================] - 11s 21ms/step - loss: 0.2042 - acc: 0.9328 - val_loss: 0.1240 - val_acc: 0.9613\n",
      "Epoch 10/30\n",
      "511/512 [============================>.] - ETA: 0s - loss: 0.1934 - acc: 0.9361Epoch 1/30\n",
      "512/512 [==============================] - 11s 21ms/step - loss: 0.1934 - acc: 0.9362 - val_loss: 0.1190 - val_acc: 0.9634\n",
      "Epoch 11/30\n",
      "511/512 [============================>.] - ETA: 0s - loss: 0.1889 - acc: 0.9392Epoch 1/30\n",
      "512/512 [==============================] - 11s 21ms/step - loss: 0.1887 - acc: 0.9392 - val_loss: 0.1122 - val_acc: 0.9650\n",
      "Epoch 12/30\n",
      "510/512 [============================>.] - ETA: 0s - loss: 0.1778 - acc: 0.9419Epoch 1/30\n",
      "512/512 [==============================] - 11s 21ms/step - loss: 0.1781 - acc: 0.9419 - val_loss: 0.1137 - val_acc: 0.9638\n",
      "Epoch 13/30\n",
      "511/512 [============================>.] - ETA: 0s - loss: 0.1745 - acc: 0.9431Epoch 1/30\n",
      "512/512 [==============================] - 11s 21ms/step - loss: 0.1745 - acc: 0.9431 - val_loss: 0.0909 - val_acc: 0.9722\n",
      "Epoch 14/30\n",
      "509/512 [============================>.] - ETA: 0s - loss: 0.1653 - acc: 0.9455Epoch 1/30\n",
      "512/512 [==============================] - 11s 21ms/step - loss: 0.1652 - acc: 0.9455 - val_loss: 0.1084 - val_acc: 0.9647\n",
      "Epoch 15/30\n",
      "511/512 [============================>.] - ETA: 0s - loss: 0.1582 - acc: 0.9484Epoch 1/30\n",
      "512/512 [==============================] - 11s 21ms/step - loss: 0.1584 - acc: 0.9483 - val_loss: 0.0924 - val_acc: 0.9700\n",
      "Epoch 16/30\n",
      "511/512 [============================>.] - ETA: 0s - loss: 0.1513 - acc: 0.9500Epoch 1/30\n",
      "512/512 [==============================] - 11s 21ms/step - loss: 0.1513 - acc: 0.9500 - val_loss: 0.0922 - val_acc: 0.9694\n",
      "Epoch 17/30\n",
      "509/512 [============================>.] - ETA: 0s - loss: 0.1505 - acc: 0.9525Epoch 1/30\n",
      "512/512 [==============================] - 11s 21ms/step - loss: 0.1510 - acc: 0.9524 - val_loss: 0.0948 - val_acc: 0.9709\n",
      "Epoch 18/30\n",
      "509/512 [============================>.] - ETA: 0s - loss: 0.1399 - acc: 0.9549Epoch 1/30\n",
      "512/512 [==============================] - 11s 22ms/step - loss: 0.1400 - acc: 0.9549 - val_loss: 0.0861 - val_acc: 0.9725\n",
      "Epoch 19/30\n",
      "510/512 [============================>.] - ETA: 0s - loss: 0.1425 - acc: 0.9552Epoch 1/30\n",
      "512/512 [==============================] - 11s 22ms/step - loss: 0.1424 - acc: 0.9551 - val_loss: 0.0860 - val_acc: 0.9706\n",
      "Epoch 20/30\n",
      "511/512 [============================>.] - ETA: 0s - loss: 0.1380 - acc: 0.9556Epoch 1/30\n",
      "512/512 [==============================] - 11s 21ms/step - loss: 0.1379 - acc: 0.9556 - val_loss: 0.0800 - val_acc: 0.9787\n",
      "Epoch 21/30\n",
      "509/512 [============================>.] - ETA: 0s - loss: 0.1351 - acc: 0.9558Epoch 1/30\n",
      "512/512 [==============================] - 11s 21ms/step - loss: 0.1353 - acc: 0.9558 - val_loss: 0.0764 - val_acc: 0.9750\n",
      "Epoch 22/30\n",
      "511/512 [============================>.] - ETA: 0s - loss: 0.1274 - acc: 0.9589Epoch 1/30\n",
      "512/512 [==============================] - 11s 21ms/step - loss: 0.1274 - acc: 0.9589 - val_loss: 0.0808 - val_acc: 0.9741\n",
      "Epoch 23/30\n",
      "511/512 [============================>.] - ETA: 0s - loss: 0.1298 - acc: 0.9584Epoch 1/30\n",
      "512/512 [==============================] - 11s 21ms/step - loss: 0.1299 - acc: 0.9585 - val_loss: 0.0983 - val_acc: 0.9700\n",
      "Epoch 24/30\n",
      "511/512 [============================>.] - ETA: 0s - loss: 0.1308 - acc: 0.9588Epoch 1/30\n",
      "512/512 [==============================] - 11s 21ms/step - loss: 0.1308 - acc: 0.9588 - val_loss: 0.0761 - val_acc: 0.9756\n",
      "Epoch 25/30\n",
      "509/512 [============================>.] - ETA: 0s - loss: 0.1273 - acc: 0.9586Epoch 1/30\n",
      "512/512 [==============================] - 11s 21ms/step - loss: 0.1272 - acc: 0.9586 - val_loss: 0.0629 - val_acc: 0.9800\n",
      "Epoch 26/30\n",
      "511/512 [============================>.] - ETA: 0s - loss: 0.1239 - acc: 0.9602Epoch 1/30\n",
      "512/512 [==============================] - 11s 21ms/step - loss: 0.1239 - acc: 0.9602 - val_loss: 0.0800 - val_acc: 0.9762\n",
      "Epoch 27/30\n",
      "510/512 [============================>.] - ETA: 0s - loss: 0.1188 - acc: 0.9625Epoch 1/30\n",
      "512/512 [==============================] - 11s 21ms/step - loss: 0.1187 - acc: 0.9626 - val_loss: 0.0671 - val_acc: 0.9784\n",
      "Epoch 28/30\n",
      "511/512 [============================>.] - ETA: 0s - loss: 0.1164 - acc: 0.9625Epoch 1/30\n",
      "512/512 [==============================] - 11s 21ms/step - loss: 0.1164 - acc: 0.9626 - val_loss: 0.0787 - val_acc: 0.9769\n",
      "Epoch 29/30\n",
      "509/512 [============================>.] - ETA: 0s - loss: 0.1191 - acc: 0.9625Epoch 1/30\n",
      "512/512 [==============================] - 11s 21ms/step - loss: 0.1189 - acc: 0.9626 - val_loss: 0.0630 - val_acc: 0.9794\n",
      "Epoch 30/30\n",
      "510/512 [============================>.] - ETA: 0s - loss: 0.1130 - acc: 0.9619Epoch 1/30\n",
      "512/512 [==============================] - 11s 22ms/step - loss: 0.1134 - acc: 0.9618 - val_loss: 0.0724 - val_acc: 0.9772\n"
     ]
    }
   ],
   "source": [
    "history = model.fit_generator(generator=batches,\n",
    "                            steps_per_epoch=512,\n",
    "                            epochs=30,\n",
    "                            validation_data=val_batches,\n",
    "                            validation_steps=50)"
   ]
  },
  {
   "cell_type": "code",
   "execution_count": 269,
   "metadata": {
    "Collapsed": "false",
    "colab": {
     "base_uri": "https://localhost:8080/",
     "height": 282
    },
    "colab_type": "code",
    "executionInfo": {
     "elapsed": 666,
     "status": "ok",
     "timestamp": 1584453630760,
     "user": {
      "displayName": "오진석",
      "photoUrl": "",
      "userId": "12229120938967938448"
     },
     "user_tz": -540
    },
    "id": "sdRaL7BEniTj",
    "outputId": "5776e908-5cc1-4a4b-e5c3-b5544cef90e4"
   },
   "outputs": [
    {
     "data": {
      "image/png": "[encoded data removed]",
      "text/plain": [
       "<Figure size 432x288 with 2 Axes>"
      ]
     },
     "metadata": {
      "tags": []
     },
     "output_type": "display_data"
    }
   ],
   "source": [
    "# 실패..\n",
    "# 데이터 증식 후에 모델에 어떻게 적용하는지 다시 한번 알아봐야 할 듯\n",
    "makePlot(history)"
   ]
  },
  {
   "cell_type": "code",
   "execution_count": null,
   "metadata": {
    "Collapsed": "false",
    "colab": {},
    "colab_type": "code",
    "id": "9o5Sc-NrniWi"
   },
   "outputs": [],
   "source": [
    "makeSub(X_test, sample_submission, 300)"
   ]
  },
  {
   "cell_type": "markdown",
   "metadata": {
    "Collapsed": "false",
    "colab_type": "text",
    "id": "wOu7LtL_0ene"
   },
   "source": [
    "# 4. Adding Batch Normalization\n",
    "\n",
    "###### 출처 : https://www.kaggle.com/poonaml/deep-neural-network-keras-way"
   ]
  },
  {
   "cell_type": "code",
   "execution_count": 273,
   "metadata": {
    "Collapsed": "false",
    "colab": {
     "base_uri": "https://localhost:8080/",
     "height": 629
    },
    "colab_type": "code",
    "executionInfo": {
     "elapsed": 865,
     "status": "ok",
     "timestamp": 1584453949242,
     "user": {
      "displayName": "오진석",
      "photoUrl": "",
      "userId": "12229120938967938448"
     },
     "user_tz": -540
    },
    "id": "_RcfbZPaniZZ",
    "outputId": "1c87da3a-8178-4734-c4a7-b09b29312f67"
   },
   "outputs": [
    {
     "name": "stdout",
     "output_type": "stream",
     "text": [
      "Model: \"sequential_21\"\n",
      "_________________________________________________________________\n",
      "Layer (type)                 Output Shape              Param #   \n",
      "=================================================================\n",
      "conv2d_16 (Conv2D)           (None, 26, 26, 32)        320       \n",
      "_________________________________________________________________\n",
      "batch_normalization_28 (Batc (None, 26, 26, 32)        104       \n",
      "_________________________________________________________________\n",
      "conv2d_17 (Conv2D)           (None, 24, 24, 32)        9248      \n",
      "_________________________________________________________________\n",
      "max_pooling2d_7 (MaxPooling2 (None, 12, 12, 32)        0         \n",
      "_________________________________________________________________\n",
      "batch_normalization_29 (Batc (None, 12, 12, 32)        48        \n",
      "_________________________________________________________________\n",
      "conv2d_18 (Conv2D)           (None, 10, 10, 64)        18496     \n",
      "_________________________________________________________________\n",
      "batch_normalization_30 (Batc (None, 10, 10, 64)        40        \n",
      "_________________________________________________________________\n",
      "conv2d_19 (Conv2D)           (None, 8, 8, 64)          36928     \n",
      "_________________________________________________________________\n",
      "max_pooling2d_8 (MaxPooling2 (None, 4, 4, 64)          0         \n",
      "_________________________________________________________________\n",
      "flatten_5 (Flatten)          (None, 1024)              0         \n",
      "_________________________________________________________________\n",
      "batch_normalization_31 (Batc (None, 1024)              4096      \n",
      "_________________________________________________________________\n",
      "dense_52 (Dense)             (None, 512)               524800    \n",
      "_________________________________________________________________\n",
      "batch_normalization_32 (Batc (None, 512)               2048      \n",
      "_________________________________________________________________\n",
      "dense_53 (Dense)             (None, 10)                5130      \n",
      "=================================================================\n",
      "Total params: 601,258\n",
      "Trainable params: 598,090\n",
      "Non-trainable params: 3,168\n",
      "_________________________________________________________________\n"
     ]
    }
   ],
   "source": [
    "model = Sequential([\n",
    "        Conv2D(32,(3,3), activation='relu', input_shape=input_shape),\n",
    "        BatchNormalization(axis=1),\n",
    "        Conv2D(32,(3,3), activation='relu'),\n",
    "        MaxPool2D(),\n",
    "        BatchNormalization(axis=1),\n",
    "        Conv2D(64,(3,3), activation='relu'),\n",
    "        BatchNormalization(axis=1),\n",
    "        Conv2D(64,(3,3), activation='relu'),\n",
    "        MaxPool2D(),\n",
    "        Flatten(),\n",
    "        BatchNormalization(),\n",
    "        Dense(512, activation='relu'),\n",
    "        BatchNormalization(),\n",
    "        Dense(10, activation='softmax')\n",
    "        ])\n",
    "model.compile(optimizer = RAdamOptimizer(learning_rate=1e-3), loss=\"sparse_categorical_crossentropy\", metrics=[\"acc\"])\n",
    "model.summary()"
   ]
  },
  {
   "cell_type": "code",
   "execution_count": 274,
   "metadata": {
    "Collapsed": "false",
    "colab": {
     "base_uri": "https://localhost:8080/",
     "height": 1000
    },
    "colab_type": "code",
    "executionInfo": {
     "elapsed": 90025,
     "status": "ok",
     "timestamp": 1584454058592,
     "user": {
      "displayName": "오진석",
      "photoUrl": "",
      "userId": "12229120938967938448"
     },
     "user_tz": -540
    },
    "id": "lugZnm9_utvT",
    "outputId": "abf87e30-5347-4dc3-a65c-040c2d252e04"
   },
   "outputs": [
    {
     "name": "stdout",
     "output_type": "stream",
     "text": [
      "Train on 33600 samples, validate on 8400 samples\n",
      "Epoch 1/50\n",
      "33600/33600 [==============================] - 4s 112us/sample - loss: 0.6856 - acc: 0.7864 - val_loss: 2.3858 - val_acc: 0.1045\n",
      "Epoch 2/50\n",
      "33600/33600 [==============================] - 2s 51us/sample - loss: 0.0804 - acc: 0.9782 - val_loss: 2.6529 - val_acc: 0.1045\n",
      "Epoch 3/50\n",
      "33600/33600 [==============================] - 2s 51us/sample - loss: 0.0428 - acc: 0.9890 - val_loss: 2.2595 - val_acc: 0.1729\n",
      "Epoch 4/50\n",
      "33600/33600 [==============================] - 2s 51us/sample - loss: 0.0255 - acc: 0.9946 - val_loss: 2.0486 - val_acc: 0.1880\n",
      "Epoch 5/50\n",
      "33600/33600 [==============================] - 2s 51us/sample - loss: 0.0160 - acc: 0.9970 - val_loss: 1.2343 - val_acc: 0.5046\n",
      "Epoch 6/50\n",
      "33600/33600 [==============================] - 2s 50us/sample - loss: 0.0104 - acc: 0.9987 - val_loss: 0.3822 - val_acc: 0.9086\n",
      "Epoch 7/50\n",
      "33600/33600 [==============================] - 2s 51us/sample - loss: 0.0072 - acc: 0.9992 - val_loss: 0.1215 - val_acc: 0.9739\n",
      "Epoch 8/50\n",
      "33600/33600 [==============================] - 2s 51us/sample - loss: 0.0048 - acc: 0.9996 - val_loss: 0.0447 - val_acc: 0.9892\n",
      "Epoch 9/50\n",
      "33600/33600 [==============================] - 2s 51us/sample - loss: 0.0034 - acc: 0.9999 - val_loss: 0.0286 - val_acc: 0.9918\n",
      "Epoch 10/50\n",
      "33600/33600 [==============================] - 2s 51us/sample - loss: 0.0025 - acc: 1.0000 - val_loss: 0.0243 - val_acc: 0.9935\n",
      "Epoch 11/50\n",
      "33600/33600 [==============================] - 2s 51us/sample - loss: 0.0019 - acc: 1.0000 - val_loss: 0.0225 - val_acc: 0.9935\n",
      "Epoch 12/50\n",
      "33600/33600 [==============================] - 2s 51us/sample - loss: 0.0016 - acc: 1.0000 - val_loss: 0.0223 - val_acc: 0.9936\n",
      "Epoch 13/50\n",
      "33600/33600 [==============================] - 2s 51us/sample - loss: 0.0013 - acc: 1.0000 - val_loss: 0.0215 - val_acc: 0.9938\n",
      "Epoch 14/50\n",
      "33600/33600 [==============================] - 2s 50us/sample - loss: 0.0010 - acc: 1.0000 - val_loss: 0.0216 - val_acc: 0.9937\n",
      "Epoch 15/50\n",
      "33600/33600 [==============================] - 2s 51us/sample - loss: 8.3990e-04 - acc: 1.0000 - val_loss: 0.0219 - val_acc: 0.9937\n",
      "Epoch 16/50\n",
      "33600/33600 [==============================] - 2s 51us/sample - loss: 7.2054e-04 - acc: 1.0000 - val_loss: 0.0223 - val_acc: 0.9940\n",
      "Epoch 17/50\n",
      "33600/33600 [==============================] - 2s 51us/sample - loss: 6.1990e-04 - acc: 1.0000 - val_loss: 0.0219 - val_acc: 0.9944\n",
      "Epoch 18/50\n",
      "33600/33600 [==============================] - 2s 51us/sample - loss: 5.3439e-04 - acc: 1.0000 - val_loss: 0.0214 - val_acc: 0.9943\n",
      "Epoch 19/50\n",
      "33600/33600 [==============================] - 2s 51us/sample - loss: 4.6851e-04 - acc: 1.0000 - val_loss: 0.0221 - val_acc: 0.9944\n",
      "Epoch 20/50\n",
      "33600/33600 [==============================] - 2s 50us/sample - loss: 4.1532e-04 - acc: 1.0000 - val_loss: 0.0216 - val_acc: 0.9943\n",
      "Epoch 21/50\n",
      "33600/33600 [==============================] - 2s 51us/sample - loss: 3.6843e-04 - acc: 1.0000 - val_loss: 0.0211 - val_acc: 0.9946\n",
      "Epoch 22/50\n",
      "33600/33600 [==============================] - 2s 51us/sample - loss: 3.2195e-04 - acc: 1.0000 - val_loss: 0.0222 - val_acc: 0.9943\n",
      "Epoch 23/50\n",
      "33600/33600 [==============================] - 2s 51us/sample - loss: 2.8638e-04 - acc: 1.0000 - val_loss: 0.0222 - val_acc: 0.9943\n",
      "Epoch 24/50\n",
      "33600/33600 [==============================] - 2s 51us/sample - loss: 2.6340e-04 - acc: 1.0000 - val_loss: 0.0221 - val_acc: 0.9943\n",
      "Epoch 25/50\n",
      "33600/33600 [==============================] - 2s 50us/sample - loss: 2.4344e-04 - acc: 1.0000 - val_loss: 0.0217 - val_acc: 0.9945\n",
      "Epoch 26/50\n",
      "33600/33600 [==============================] - 2s 49us/sample - loss: 2.1717e-04 - acc: 1.0000 - val_loss: 0.0220 - val_acc: 0.9949\n",
      "Epoch 27/50\n",
      "33600/33600 [==============================] - 2s 49us/sample - loss: 2.0102e-04 - acc: 1.0000 - val_loss: 0.0219 - val_acc: 0.9948\n",
      "Epoch 28/50\n",
      "33600/33600 [==============================] - 2s 49us/sample - loss: 1.8861e-04 - acc: 1.0000 - val_loss: 0.0222 - val_acc: 0.9944\n",
      "Epoch 29/50\n",
      "33600/33600 [==============================] - 2s 48us/sample - loss: 1.6840e-04 - acc: 1.0000 - val_loss: 0.0221 - val_acc: 0.9948\n",
      "Epoch 30/50\n",
      "33600/33600 [==============================] - 2s 48us/sample - loss: 1.4986e-04 - acc: 1.0000 - val_loss: 0.0219 - val_acc: 0.9948\n",
      "Epoch 31/50\n",
      "33600/33600 [==============================] - 2s 49us/sample - loss: 1.3644e-04 - acc: 1.0000 - val_loss: 0.0221 - val_acc: 0.9948\n",
      "Epoch 32/50\n",
      "33600/33600 [==============================] - 2s 49us/sample - loss: 1.3088e-04 - acc: 1.0000 - val_loss: 0.0225 - val_acc: 0.9949\n",
      "Epoch 33/50\n",
      "33600/33600 [==============================] - 2s 49us/sample - loss: 1.2093e-04 - acc: 1.0000 - val_loss: 0.0227 - val_acc: 0.9949\n",
      "Epoch 34/50\n",
      "33600/33600 [==============================] - 2s 49us/sample - loss: 1.0925e-04 - acc: 1.0000 - val_loss: 0.0224 - val_acc: 0.9949\n",
      "Epoch 35/50\n",
      "33600/33600 [==============================] - 2s 49us/sample - loss: 1.0078e-04 - acc: 1.0000 - val_loss: 0.0224 - val_acc: 0.9945\n",
      "Epoch 36/50\n",
      "33600/33600 [==============================] - 2s 49us/sample - loss: 9.2520e-05 - acc: 1.0000 - val_loss: 0.0222 - val_acc: 0.9949\n",
      "Epoch 37/50\n",
      "33600/33600 [==============================] - 2s 49us/sample - loss: 9.0292e-05 - acc: 1.0000 - val_loss: 0.0224 - val_acc: 0.9949\n",
      "Epoch 38/50\n",
      "33600/33600 [==============================] - 2s 49us/sample - loss: 8.5641e-05 - acc: 1.0000 - val_loss: 0.0230 - val_acc: 0.9949\n",
      "Epoch 39/50\n",
      "33600/33600 [==============================] - 2s 49us/sample - loss: 7.9150e-05 - acc: 1.0000 - val_loss: 0.0224 - val_acc: 0.9949\n",
      "Epoch 40/50\n",
      "33600/33600 [==============================] - 2s 49us/sample - loss: 7.4217e-05 - acc: 1.0000 - val_loss: 0.0225 - val_acc: 0.9949\n",
      "Epoch 41/50\n",
      "33600/33600 [==============================] - 2s 49us/sample - loss: 6.9853e-05 - acc: 1.0000 - val_loss: 0.0225 - val_acc: 0.9945\n",
      "Epoch 42/50\n",
      "33600/33600 [==============================] - 2s 49us/sample - loss: 6.2012e-05 - acc: 1.0000 - val_loss: 0.0226 - val_acc: 0.9948\n",
      "Epoch 43/50\n",
      "33600/33600 [==============================] - 2s 49us/sample - loss: 6.0437e-05 - acc: 1.0000 - val_loss: 0.0229 - val_acc: 0.9949\n",
      "Epoch 44/50\n",
      "33600/33600 [==============================] - 2s 49us/sample - loss: 5.6763e-05 - acc: 1.0000 - val_loss: 0.0228 - val_acc: 0.9948\n",
      "Epoch 45/50\n",
      "33600/33600 [==============================] - 2s 50us/sample - loss: 5.5246e-05 - acc: 1.0000 - val_loss: 0.0226 - val_acc: 0.9948\n",
      "Epoch 46/50\n",
      "33600/33600 [==============================] - 2s 49us/sample - loss: 5.0187e-05 - acc: 1.0000 - val_loss: 0.0230 - val_acc: 0.9949\n",
      "Epoch 47/50\n",
      "33600/33600 [==============================] - 2s 49us/sample - loss: 4.6600e-05 - acc: 1.0000 - val_loss: 0.0231 - val_acc: 0.9948\n",
      "Epoch 48/50\n",
      "33600/33600 [==============================] - 2s 49us/sample - loss: 4.4639e-05 - acc: 1.0000 - val_loss: 0.0231 - val_acc: 0.9949\n",
      "Epoch 49/50\n",
      "33600/33600 [==============================] - 2s 50us/sample - loss: 4.0956e-05 - acc: 1.0000 - val_loss: 0.0230 - val_acc: 0.9949\n",
      "Epoch 50/50\n",
      "33600/33600 [==============================] - 2s 48us/sample - loss: 3.9810e-05 - acc: 1.0000 - val_loss: 0.0229 - val_acc: 0.9950\n"
     ]
    }
   ],
   "source": [
    "history = model.fit(X_train, y_train, batch_size=512, epochs=50, validation_data=[X_val, y_val])"
   ]
  },
  {
   "cell_type": "code",
   "execution_count": 275,
   "metadata": {
    "Collapsed": "false",
    "colab": {
     "base_uri": "https://localhost:8080/",
     "height": 279
    },
    "colab_type": "code",
    "executionInfo": {
     "elapsed": 742,
     "status": "ok",
     "timestamp": 1584454071917,
     "user": {
      "displayName": "오진석",
      "photoUrl": "",
      "userId": "12229120938967938448"
     },
     "user_tz": -540
    },
    "id": "H3oed4zAnicI",
    "outputId": "99dbf830-cad5-41e4-ddae-acf7e791abf3"
   },
   "outputs": [
    {
     "data": {
      "image/png": "[encoded data removed]",
      "text/plain": [
       "<Figure size 432x288 with 2 Axes>"
      ]
     },
     "metadata": {
      "tags": []
     },
     "output_type": "display_data"
    }
   ],
   "source": [
    "makePlot(history)"
   ]
  },
  {
   "cell_type": "code",
   "execution_count": null,
   "metadata": {
    "Collapsed": "false",
    "colab": {},
    "colab_type": "code",
    "id": "23wI1xvCxH_X"
   },
   "outputs": [],
   "source": [
    "makeSub(X_test, sample_submission, 1000)"
   ]
  },
  {
   "cell_type": "code",
   "execution_count": null,
   "metadata": {
    "Collapsed": "false",
    "colab": {},
    "colab_type": "code",
    "id": "ipkXE46V8Gw2"
   },
   "outputs": [],
   "source": []
  },
  {
   "cell_type": "code",
   "execution_count": null,
   "metadata": {
    "Collapsed": "false",
    "colab": {},
    "colab_type": "code",
    "id": "_0__g07SEltX"
   },
   "outputs": [],
   "source": []
  }
 ],
 "metadata": {
  "accelerator": "GPU",
  "colab": {
   "authorship_tag": "ABX9TyM44onob9UjSCxmnxjoKE0k",
   "mount_file_id": "1kE-ju-ZVEP0PcITqNvDG2q2tSrB2IES9",
   "name": "Sunkeras.ipynb",
   "provenance": [],
   "toc_visible": true
  },
  "kernelspec": {
   "display_name": "Python 3",
   "language": "python",
   "name": "python3"
  },
  "language_info": {
   "codemirror_mode": {
    "name": "ipython",
    "version": 3
   },
   "file_extension": ".py",
   "mimetype": "text/x-python",
   "name": "python",
   "nbconvert_exporter": "python",
   "pygments_lexer": "ipython3",
   "version": "3.7.6"
  }
 },
 "nbformat": 4,
 "nbformat_minor": 4
}
