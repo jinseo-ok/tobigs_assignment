{
 "cells": [
  {
   "cell_type": "code",
   "execution_count": 74,
   "metadata": {
    "Collapsed": "false"
   },
   "outputs": [],
   "source": [
    "import numpy as np\n",
    "import pandas as pd"
   ]
  },
  {
   "cell_type": "markdown",
   "metadata": {
    "Collapsed": "false"
   },
   "source": [
    "# 1번"
   ]
  },
  {
   "cell_type": "code",
   "execution_count": 233,
   "metadata": {
    "Collapsed": "false"
   },
   "outputs": [],
   "source": [
    "def changeB(x,array):\n",
    "    width, height = array.shape\n",
    "    for w in range(width):\n",
    "        for h in range(height):\n",
    "            if array[w][h] == x:\n",
    "                array[w][h] = 0            \n",
    "    return array"
   ]
  },
  {
   "cell_type": "code",
   "execution_count": 234,
   "metadata": {
    "Collapsed": "false"
   },
   "outputs": [],
   "source": [
    "def findN(w,h,array):\n",
    "    df = pd.DataFrame(array)\n",
    "    try:\n",
    "        l = df[w-1][h]\n",
    "    except:\n",
    "        l = 0\n",
    "    try:\n",
    "        r = df[w+1][h]\n",
    "    except:\n",
    "        r = 0\n",
    "    try:\n",
    "        u = df[w][h-1]\n",
    "    except:\n",
    "        u = 0\n",
    "    try:\n",
    "        d = df[w][h+1]\n",
    "    except:\n",
    "        d = 0\n",
    "    value = [l,r,u,d]\n",
    "    return value"
   ]
  },
  {
   "cell_type": "code",
   "execution_count": 235,
   "metadata": {
    "Collapsed": "false"
   },
   "outputs": [],
   "source": [
    "def loc(x):\n",
    "    if x == 0:\n",
    "        p,q = -1, 0\n",
    "    elif x == 1:\n",
    "        p,q = 1, 0\n",
    "    elif x == 2:\n",
    "        p,q = 0, -1\n",
    "    elif x == 3:\n",
    "        p,q = 0, 1\n",
    "    value = p,q\n",
    "    return value"
   ]
  },
  {
   "cell_type": "code",
   "execution_count": 236,
   "metadata": {
    "Collapsed": "false"
   },
   "outputs": [],
   "source": [
    "def lenN(neighbor):\n",
    "    data = []\n",
    "    \n",
    "    for i in range(4):\n",
    "        try:\n",
    "            neighbor[i] = int(neighbor[i])\n",
    "        except:\n",
    "            neighbor[i] = neighbor[i]\n",
    "        if neighbor[i] != 0:\n",
    "            p = loc(i)[0]\n",
    "            q = loc(i)[1]\n",
    "            value = [p,q,neighbor[i]]\n",
    "            data.append(value)\n",
    "    \n",
    "    return data"
   ]
  },
  {
   "cell_type": "code",
   "execution_count": 237,
   "metadata": {
    "Collapsed": "false"
   },
   "outputs": [],
   "source": [
    "def process(x, array, a, b):\n",
    "    array = changeB(x, array)\n",
    "    neighbor = findN(a,b,array)\n",
    "    data = lenN(neighbor)\n",
    "    if len(data) == 1:\n",
    "        return data\n",
    "    else:\n",
    "        \n",
    "        return process(x, array, )"
   ]
  },
  {
   "cell_type": "code",
   "execution_count": null,
   "metadata": {
    "Collapsed": "false"
   },
   "outputs": [],
   "source": [
    "def form(a,b,data):\n",
    "    for i in data:\n",
    "        p = i[0]\n",
    "        q = i[1]\n",
    "        r = i[2]\n",
    "    "
   ]
  },
  {
   "cell_type": "code",
   "execution_count": 222,
   "metadata": {
    "Collapsed": "false"
   },
   "outputs": [
    {
     "name": "stdin",
     "output_type": "stream",
     "text": [
      " 2 4\n",
      " CAABADCB\n"
     ]
    }
   ],
   "source": [
    "rc = input().split()\n",
    "r = int(rc[0])\n",
    "c = int(rc[1])\n",
    "\n",
    "board = input()\n",
    "board = list(board)\n",
    "board = np.array(board).reshape(r,c)"
   ]
  },
  {
   "cell_type": "code",
   "execution_count": 223,
   "metadata": {
    "Collapsed": "false"
   },
   "outputs": [
    {
     "data": {
      "text/plain": [
       "array([['C', 'A', 'A', 'B'],\n",
       "       ['A', 'D', 'C', 'B']], dtype='<U1')"
      ]
     },
     "execution_count": 223,
     "metadata": {},
     "output_type": "execute_result"
    }
   ],
   "source": [
    "board"
   ]
  },
  {
   "cell_type": "code",
   "execution_count": null,
   "metadata": {
    "Collapsed": "false"
   },
   "outputs": [],
   "source": []
  },
  {
   "cell_type": "code",
   "execution_count": null,
   "metadata": {
    "Collapsed": "false"
   },
   "outputs": [],
   "source": [
    "def getRoute(array):\n",
    "    \n",
    "    \n",
    "    \n",
    "    \n",
    "    \n",
    "    if len(data) == 0:\n",
    "        return "
   ]
  },
  {
   "cell_type": "code",
   "execution_count": null,
   "metadata": {
    "Collapsed": "false"
   },
   "outputs": [],
   "source": [
    "a = 0\n",
    "b = 0\n",
    "x = board[a][b]\n",
    "data = process(x, board, a, b)\n",
    "\n",
    "if len(data) == 0:\n",
    "    print(len(route))\n",
    "else:\n",
    "    for i in data:\n",
    "        x = data[2]\n",
    "        p = data[0]\n",
    "        q = data[1]\n",
    "\n",
    "        a = a+p\n",
    "        b = b+q\n",
    "\n",
    "        x = board[a][b]\n",
    "        data = process(x, board, a, b)\n",
    "\n",
    "        if len(data) == 0:\n",
    "            print(len(route))\n",
    "        else:\n",
    "            for i in data:\n",
    "                x = data[2]\n",
    "                p = data[0]\n",
    "                q = data[1]"
   ]
  },
  {
   "cell_type": "code",
   "execution_count": 224,
   "metadata": {
    "Collapsed": "false"
   },
   "outputs": [
    {
     "name": "stdout",
     "output_type": "stream",
     "text": [
      "[['0' 'A' 'A' 'B']\n",
      " ['A' 'D' '0' 'B']]\n",
      "A\n",
      "A\n"
     ]
    }
   ],
   "source": [
    "a = 0\n",
    "b = 0\n",
    "x = board[a][b]\n",
    "data = process(x, board, a, b)"
   ]
  },
  {
   "cell_type": "code",
   "execution_count": 225,
   "metadata": {
    "Collapsed": "false"
   },
   "outputs": [
    {
     "data": {
      "text/plain": [
       "[[1, 0, 'A'], [0, 1, 'A']]"
      ]
     },
     "execution_count": 225,
     "metadata": {},
     "output_type": "execute_result"
    }
   ],
   "source": [
    "data"
   ]
  },
  {
   "cell_type": "code",
   "execution_count": 226,
   "metadata": {
    "Collapsed": "false"
   },
   "outputs": [],
   "source": [
    "x = board[1][0]"
   ]
  },
  {
   "cell_type": "code",
   "execution_count": 227,
   "metadata": {
    "Collapsed": "false"
   },
   "outputs": [
    {
     "data": {
      "text/plain": [
       "'A'"
      ]
     },
     "execution_count": 227,
     "metadata": {},
     "output_type": "execute_result"
    }
   ],
   "source": [
    "x"
   ]
  },
  {
   "cell_type": "code",
   "execution_count": 228,
   "metadata": {
    "Collapsed": "false"
   },
   "outputs": [
    {
     "data": {
      "text/plain": [
       "array([['0', 'A', 'A', 'B'],\n",
       "       ['A', 'D', '0', 'B']], dtype='<U1')"
      ]
     },
     "execution_count": 228,
     "metadata": {},
     "output_type": "execute_result"
    }
   ],
   "source": [
    "board"
   ]
  },
  {
   "cell_type": "code",
   "execution_count": 229,
   "metadata": {
    "Collapsed": "false"
   },
   "outputs": [
    {
     "name": "stdout",
     "output_type": "stream",
     "text": [
      "[['0' '0' '0' 'B']\n",
      " ['0' 'D' '0' 'B']]\n",
      "D\n"
     ]
    }
   ],
   "source": [
    "data = process(x, board, 1, 0)"
   ]
  },
  {
   "cell_type": "code",
   "execution_count": 230,
   "metadata": {
    "Collapsed": "false"
   },
   "outputs": [
    {
     "data": {
      "text/plain": [
       "[[0, 1, 'D']]"
      ]
     },
     "execution_count": 230,
     "metadata": {},
     "output_type": "execute_result"
    }
   ],
   "source": [
    "data"
   ]
  },
  {
   "cell_type": "code",
   "execution_count": 232,
   "metadata": {
    "Collapsed": "false"
   },
   "outputs": [
    {
     "name": "stdout",
     "output_type": "stream",
     "text": [
      "[['0' '0' '0' 'B']\n",
      " ['0' '0' '0' 'B']]\n"
     ]
    },
    {
     "data": {
      "text/plain": [
       "[]"
      ]
     },
     "execution_count": 232,
     "metadata": {},
     "output_type": "execute_result"
    }
   ],
   "source": [
    "x = board[1][1]\n",
    "data = process(x, board, 1,1)\n",
    "data"
   ]
  },
  {
   "cell_type": "code",
   "execution_count": 264,
   "metadata": {
    "Collapsed": "false"
   },
   "outputs": [
    {
     "name": "stdin",
     "output_type": "stream",
     "text": [
      " 2 4\n",
      " CAABABCD\n"
     ]
    }
   ],
   "source": [
    "rc = input().split()\n",
    "r = int(rc[0])\n",
    "c = int(rc[1])\n",
    "\n",
    "board = input()\n",
    "board = list(board)\n",
    "board = np.array(board).reshape(r,c)"
   ]
  },
  {
   "cell_type": "code",
   "execution_count": 265,
   "metadata": {
    "Collapsed": "false"
   },
   "outputs": [],
   "source": [
    "routine[ord(board[0][0]) - 65] = True"
   ]
  },
  {
   "cell_type": "code",
   "execution_count": 4,
   "metadata": {
    "Collapsed": "false"
   },
   "outputs": [
    {
     "name": "stdin",
     "output_type": "stream",
     "text": [
      " 2 4\n",
      " ACCB\n",
      " BAAC\n"
     ]
    },
    {
     "name": "stdout",
     "output_type": "stream",
     "text": [
      "2\n"
     ]
    }
   ],
   "source": [
    "inputs = list(map(int, input().split()))\n",
    "num_row = inputs[0]\n",
    "num_column = inputs[1]\n",
    "\n",
    "board = []\n",
    "for _ in range(num_row):\n",
    "    board.append(list(input()))\n",
    "answer = 0\n",
    "\n",
    "dx = [-1, 1, 0, 0]\n",
    "dy = [0, 0, 1, -1]\n",
    "\n",
    "routine = [0] * 26\n",
    "\n",
    "def forward(row, column, routine): \n",
    "    ret = 0\n",
    "    for i in range(4):\n",
    "        next_row = row + dx[i]\n",
    "        next_col = column + dy[i]\n",
    "        if (0 <= next_col < num_column) and (0 <= next_row < num_row):\n",
    "            alphabet = board[next_row][next_col]\n",
    "            if routine[ord(alphabet)-65] == False:\n",
    "                routine[ord(alphabet)-65] = True\n",
    "                ret = max(ret, forward(next_row, next_col, routine)+1)\n",
    "                routine[ord(alphabet)-65] = False\n",
    "    return ret\n",
    "routine[ord(board[0][0])-65] = True\n",
    "answer = forward(0, 0, routine) + 1\n",
    "print(answer)"
   ]
  },
  {
   "cell_type": "markdown",
   "metadata": {
    "Collapsed": "false"
   },
   "source": [
    "# 2번"
   ]
  },
  {
   "cell_type": "code",
   "execution_count": 238,
   "metadata": {
    "Collapsed": "false"
   },
   "outputs": [
    {
     "name": "stdin",
     "output_type": "stream",
     "text": [
      " \n"
     ]
    },
    {
     "ename": "ValueError",
     "evalue": "invalid literal for int() with base 10: ''",
     "output_type": "error",
     "traceback": [
      "\u001b[0;31m---------------------------------------------------------------------------\u001b[0m",
      "\u001b[0;31mValueError\u001b[0m                                Traceback (most recent call last)",
      "\u001b[0;32m<ipython-input-238-e1cf68d554b6>\u001b[0m in \u001b[0;36m<module>\u001b[0;34m\u001b[0m\n\u001b[1;32m      2\u001b[0m \u001b[0;32mfrom\u001b[0m \u001b[0mitertools\u001b[0m \u001b[0;32mimport\u001b[0m \u001b[0mcombinations\u001b[0m\u001b[0;34m\u001b[0m\u001b[0;34m\u001b[0m\u001b[0m\n\u001b[1;32m      3\u001b[0m \u001b[0;32mfrom\u001b[0m \u001b[0mitertools\u001b[0m \u001b[0;32mimport\u001b[0m \u001b[0mpermutations\u001b[0m\u001b[0;34m\u001b[0m\u001b[0;34m\u001b[0m\u001b[0m\n\u001b[0;32m----> 4\u001b[0;31m \u001b[0mn\u001b[0m \u001b[0;34m=\u001b[0m \u001b[0mint\u001b[0m\u001b[0;34m(\u001b[0m\u001b[0minput\u001b[0m\u001b[0;34m(\u001b[0m\u001b[0;34m)\u001b[0m\u001b[0;34m)\u001b[0m\u001b[0;34m\u001b[0m\u001b[0;34m\u001b[0m\u001b[0m\n\u001b[0m\u001b[1;32m      5\u001b[0m \u001b[0ms\u001b[0m \u001b[0;34m=\u001b[0m \u001b[0;34m[\u001b[0m\u001b[0;34m]\u001b[0m\u001b[0;34m\u001b[0m\u001b[0;34m\u001b[0m\u001b[0m\n\u001b[1;32m      6\u001b[0m \u001b[0;32mfor\u001b[0m \u001b[0mi\u001b[0m \u001b[0;32min\u001b[0m \u001b[0mrange\u001b[0m\u001b[0;34m(\u001b[0m\u001b[0mn\u001b[0m\u001b[0;34m)\u001b[0m\u001b[0;34m:\u001b[0m\u001b[0;34m\u001b[0m\u001b[0;34m\u001b[0m\u001b[0m\n",
      "\u001b[0;31mValueError\u001b[0m: invalid literal for int() with base 10: ''"
     ]
    }
   ],
   "source": [
    "import numpy as np\n",
    "from itertools import permutations\n",
    "n = int(input())\n",
    "s = []\n",
    "for i in range(n):\n",
    "    i = input().split(' ')\n",
    "    s.extend(i)\n",
    "\n",
    "s = list(map(int, s))\n",
    "s = np.array(s).reshape(n,n)\n",
    "p = np.arange(0,n)\n",
    "result = []\n",
    "for i in range(1,len(p)):\n",
    "    c=combinations(p,i)\n",
    "    result.extend(c)\n",
    "\n",
    "alls = []\n",
    "k = len(result)\n",
    "for i in range(int(k/2)):\n",
    "    value = [result[i], result[k-i-1]]\n",
    "    alls.append(value)\n",
    "    \n",
    "def getScore(array,x):\n",
    "    locs = list(permutations(x,2))\n",
    "    va = 0\n",
    "    for loc in locs:\n",
    "        v = array[loc[0]][loc[1]]\n",
    "        va += v\n",
    "    return va\n",
    "    \n",
    "h = []\n",
    "for i in alls:\n",
    "    try:\n",
    "        s1 = getScore(s,i[0])\n",
    "    except:\n",
    "        s1 = 0\n",
    "    s2 = getScore(s,i[1])\n",
    "    \n",
    "    if len(i[0]) == 0:\n",
    "        s1 = 0\n",
    "        \n",
    "    value = abs(s1 - s2)\n",
    "    h.append(value)\n",
    "    \n",
    "print(min(h))"
   ]
  },
  {
   "cell_type": "code",
   "execution_count": 153,
   "metadata": {
    "Collapsed": "false"
   },
   "outputs": [],
   "source": [
    "import numpy as np"
   ]
  },
  {
   "cell_type": "code",
   "execution_count": 154,
   "metadata": {
    "Collapsed": "false"
   },
   "outputs": [
    {
     "name": "stdin",
     "output_type": "stream",
     "text": [
      " 4\n",
      " 0 1 2 3\n",
      " 4 0 5 6\n",
      " 7 1 0 2\n",
      " 3 4 5 0\n"
     ]
    }
   ],
   "source": [
    "n = int(input()) \n",
    "s = []\n",
    "for i in range(n):\n",
    "    i = input().split(' ')\n",
    "    s.extend(i)"
   ]
  },
  {
   "cell_type": "code",
   "execution_count": 155,
   "metadata": {
    "Collapsed": "false"
   },
   "outputs": [],
   "source": [
    "s = list(map(int, s))"
   ]
  },
  {
   "cell_type": "code",
   "execution_count": 156,
   "metadata": {
    "Collapsed": "false"
   },
   "outputs": [],
   "source": [
    "s = np.array(s).reshape(n,n)"
   ]
  },
  {
   "cell_type": "code",
   "execution_count": 158,
   "metadata": {
    "Collapsed": "false"
   },
   "outputs": [],
   "source": [
    "p = np.arange(0,n)"
   ]
  },
  {
   "cell_type": "code",
   "execution_count": 160,
   "metadata": {
    "Collapsed": "false"
   },
   "outputs": [],
   "source": [
    "from itertools import combinations"
   ]
  },
  {
   "cell_type": "code",
   "execution_count": 168,
   "metadata": {
    "Collapsed": "false"
   },
   "outputs": [],
   "source": [
    "result = []\n",
    "for i in range(1,len(p)):\n",
    "    c=combinations(p,i)\n",
    "    result.extend(c)"
   ]
  },
  {
   "cell_type": "code",
   "execution_count": 170,
   "metadata": {
    "Collapsed": "false"
   },
   "outputs": [
    {
     "name": "stdout",
     "output_type": "stream",
     "text": [
      "0\n",
      "1\n",
      "2\n",
      "3\n",
      "4\n",
      "5\n",
      "6\n"
     ]
    }
   ],
   "source": [
    "alls = []\n",
    "k = len(result)\n",
    "for i in range(int(k/2)):\n",
    "    value = [result[i], result[k-i-1]]\n",
    "    alls.append(value)"
   ]
  },
  {
   "cell_type": "code",
   "execution_count": 172,
   "metadata": {
    "Collapsed": "false"
   },
   "outputs": [],
   "source": [
    "from itertools import permutations"
   ]
  },
  {
   "cell_type": "code",
   "execution_count": 207,
   "metadata": {
    "Collapsed": "false"
   },
   "outputs": [
    {
     "name": "stdout",
     "output_type": "stream",
     "text": [
      "[(0,), (1, 2, 3)]\n",
      "[(1,), (0, 2, 3)]\n",
      "[(2,), (0, 1, 3)]\n",
      "[(3,), (0, 1, 2)]\n",
      "[(0, 1), (2, 3)]\n",
      "[(0, 2), (1, 3)]\n",
      "[(0, 3), (1, 2)]\n"
     ]
    }
   ],
   "source": [
    "h = []\n",
    "for i in alls:\n",
    "    print(i)\n",
    "    try:\n",
    "        s1 = getScore(s,i[0])\n",
    "    except:\n",
    "        s1 = 0\n",
    "    s2 = getScore(s,i[1])\n",
    "    \n",
    "    if len(i[0]) == 0:\n",
    "        s1 = 0\n",
    "        \n",
    "    value = abs(s1 - s2)\n",
    "\n",
    "    h.append(value)"
   ]
  },
  {
   "cell_type": "code",
   "execution_count": 206,
   "metadata": {
    "Collapsed": "false"
   },
   "outputs": [],
   "source": [
    "def getScore(array,x):\n",
    "    locs = list(permutations(x,2))\n",
    "    va = 0\n",
    "    for loc in locs:\n",
    "        v = array[loc[0]][loc[1]]\n",
    "        va += v\n",
    "    return va"
   ]
  },
  {
   "cell_type": "code",
   "execution_count": 210,
   "metadata": {
    "Collapsed": "false"
   },
   "outputs": [
    {
     "name": "stdout",
     "output_type": "stream",
     "text": [
      "0\n"
     ]
    }
   ],
   "source": [
    "print(min(h))"
   ]
  },
  {
   "cell_type": "markdown",
   "metadata": {
    "Collapsed": "false"
   },
   "source": [
    "# 3번"
   ]
  },
  {
   "cell_type": "code",
   "execution_count": 258,
   "metadata": {
    "Collapsed": "false"
   },
   "outputs": [
    {
     "name": "stdin",
     "output_type": "stream",
     "text": [
      " 15\n"
     ]
    },
    {
     "name": "stdout",
     "output_type": "stream",
     "text": [
      "2490\n"
     ]
    }
   ],
   "source": [
    "n = int(input())\n",
    "nexta = [1,3]\n",
    "\n",
    "for i in range(2, n+1):\n",
    "    value = nexta[i-2] + nexta[i-1]*2\n",
    "    nexta.append(value % 9901)\n",
    "\n",
    "print(nexta[n])"
   ]
  },
  {
   "cell_type": "code",
   "execution_count": 259,
   "metadata": {
    "Collapsed": "false"
   },
   "outputs": [
    {
     "name": "stdin",
     "output_type": "stream",
     "text": [
      " 15\n"
     ]
    },
    {
     "name": "stdout",
     "output_type": "stream",
     "text": [
      "2490\n"
     ]
    }
   ],
   "source": [
    "n = int(input())\n",
    "fst = 3\n",
    "snd = 7\n",
    "\n",
    "if n == 1:\n",
    "    nexta = fst\n",
    "elif n == 2:\n",
    "    nexta = snd\n",
    "else:\n",
    "    for i in range(n - 2):\n",
    "        nexta = snd * 2 + fst\n",
    "        fst = snd\n",
    "        snd = nexta\n",
    "\n",
    "print(nexta % 9901)"
   ]
  },
  {
   "cell_type": "code",
   "execution_count": 247,
   "metadata": {
    "Collapsed": "false"
   },
   "outputs": [
    {
     "ename": "SyntaxError",
     "evalue": "invalid syntax (<ipython-input-247-7b9b5503d613>, line 2)",
     "output_type": "error",
     "traceback": [
      "\u001b[0;36m  File \u001b[0;32m\"<ipython-input-247-7b9b5503d613>\"\u001b[0;36m, line \u001b[0;32m2\u001b[0m\n\u001b[0;31m    for (int i = 2; i <= n; i++){\u001b[0m\n\u001b[0m             ^\u001b[0m\n\u001b[0;31mSyntaxError\u001b[0m\u001b[0;31m:\u001b[0m invalid syntax\n"
     ]
    }
   ],
   "source": [
    "i = 4\n",
    "for (int i = 2; i <= n; i++){\n",
    "    dp[i][0] = (dp[i - 1][0] + dp[i - 1][1] + dp[i - 1][2]) % 9901;\n",
    "    dp[i][1] = dp[i - 1][0] + dp[i - 1][2] % 9901;\n",
    "    dp[i][2] = dp[i - 1][0] + dp[i - 1][1] % 9901;\n",
    "}\n"
   ]
  },
  {
   "cell_type": "code",
   "execution_count": null,
   "metadata": {
    "Collapsed": "false"
   },
   "outputs": [],
   "source": []
  },
  {
   "cell_type": "markdown",
   "metadata": {
    "Collapsed": "false"
   },
   "source": [
    "# 4번"
   ]
  },
  {
   "cell_type": "code",
   "execution_count": 73,
   "metadata": {
    "Collapsed": "false"
   },
   "outputs": [
    {
     "name": "stdin",
     "output_type": "stream",
     "text": [
      " 10\n",
      " A\n",
      " B\n",
      " C\n",
      " D\n",
      " E\n",
      " F\n",
      " G\n",
      " H\n",
      " I\n",
      " J\n"
     ]
    },
    {
     "name": "stdout",
     "output_type": "stream",
     "text": [
      "45\n"
     ]
    }
   ],
   "source": [
    "n = int(input())\n",
    "words = []\n",
    "for i in range(n):\n",
    "    i = input()\n",
    "    words.append(i)\n",
    "    \n",
    "uniques = set(''.join(words))\n",
    "uniques\n",
    "\n",
    "def gets(z):\n",
    "    w = 0\n",
    "    for k in z:\n",
    "        for q in range(len(k)):\n",
    "            if k[q] == 1:\n",
    "                w += 10 ** (len(k) - q-1)\n",
    "    return w\n",
    "\n",
    "t = []\n",
    "weights = {}\n",
    "for unique in uniques:\n",
    "    b = []\n",
    "    for word in words:\n",
    "        a = []\n",
    "        for q in list(word):\n",
    "            if unique == q:\n",
    "                v = 1\n",
    "            else:\n",
    "                v = 0\n",
    "            a.append(v)\n",
    "        b.append(a)\n",
    "    w = gets(b)\n",
    "    weights[unique] = w\n",
    "    t.append(b)\n",
    "\n",
    "weights = sorted(weights.items(), reverse = True, key=lambda item : item[1])\n",
    "s = 0\n",
    "max = 9\n",
    "if len(weights) == 1:\n",
    "    s = 9* weights[0][1]\n",
    "else:\n",
    "    for i in weights:\n",
    "        s += i[1] * max\n",
    "        max -= 1\n",
    "    \n",
    "print(s)"
   ]
  },
  {
   "cell_type": "code",
   "execution_count": 68,
   "metadata": {
    "Collapsed": "false"
   },
   "outputs": [
    {
     "data": {
      "text/plain": [
       "222"
      ]
     },
     "execution_count": 68,
     "metadata": {},
     "output_type": "execute_result"
    }
   ],
   "source": [
    "weights[0][1]"
   ]
  },
  {
   "cell_type": "code",
   "execution_count": 1,
   "metadata": {
    "Collapsed": "false"
   },
   "outputs": [
    {
     "name": "stdin",
     "output_type": "stream",
     "text": [
      " 2\n",
      " ABC\n",
      " CCC\n"
     ]
    }
   ],
   "source": [
    "n = int(input())\n",
    "words = []\n",
    "for i in range(n):\n",
    "    i = input()\n",
    "    words.append(i)"
   ]
  },
  {
   "cell_type": "code",
   "execution_count": 2,
   "metadata": {
    "Collapsed": "false"
   },
   "outputs": [
    {
     "data": {
      "text/plain": [
       "['ABC', 'CCC']"
      ]
     },
     "execution_count": 2,
     "metadata": {},
     "output_type": "execute_result"
    }
   ],
   "source": [
    "words"
   ]
  },
  {
   "cell_type": "code",
   "execution_count": 3,
   "metadata": {
    "Collapsed": "false"
   },
   "outputs": [
    {
     "data": {
      "text/plain": [
       "(3, 3)"
      ]
     },
     "execution_count": 3,
     "metadata": {},
     "output_type": "execute_result"
    }
   ],
   "source": [
    "len(words[0]), len(words[1])"
   ]
  },
  {
   "cell_type": "code",
   "execution_count": 4,
   "metadata": {
    "Collapsed": "false"
   },
   "outputs": [
    {
     "data": {
      "text/plain": [
       "999"
      ]
     },
     "execution_count": 4,
     "metadata": {},
     "output_type": "execute_result"
    }
   ],
   "source": [
    "(10 ** 3 -1)"
   ]
  },
  {
   "cell_type": "code",
   "execution_count": 5,
   "metadata": {
    "Collapsed": "false"
   },
   "outputs": [
    {
     "data": {
      "text/plain": [
       "'C'"
      ]
     },
     "execution_count": 5,
     "metadata": {},
     "output_type": "execute_result"
    }
   ],
   "source": [
    "words[1][0]"
   ]
  },
  {
   "cell_type": "code",
   "execution_count": 6,
   "metadata": {
    "Collapsed": "false"
   },
   "outputs": [
    {
     "data": {
      "text/plain": [
       "{'A', 'B', 'C'}"
      ]
     },
     "execution_count": 6,
     "metadata": {},
     "output_type": "execute_result"
    }
   ],
   "source": [
    "uniques = set(''.join(words))\n",
    "uniques"
   ]
  },
  {
   "cell_type": "code",
   "execution_count": 7,
   "metadata": {
    "Collapsed": "false"
   },
   "outputs": [],
   "source": [
    "t = []\n",
    "weight = {}\n",
    "for unique in uniques:\n",
    "    b = []\n",
    "    for word in words:\n",
    "        a = []\n",
    "        for q in list(word):\n",
    "            if unique == q:\n",
    "                v = 1\n",
    "            else:\n",
    "                v = 0\n",
    "            a.append(v)\n",
    "        b.append(a)\n",
    "    t.append(b)"
   ]
  },
  {
   "cell_type": "code",
   "execution_count": 8,
   "metadata": {
    "Collapsed": "false"
   },
   "outputs": [
    {
     "data": {
      "text/plain": [
       "[[[1, 0, 0], [0, 0, 0]], [[0, 1, 0], [0, 0, 0]], [[0, 0, 1], [1, 1, 1]]]"
      ]
     },
     "execution_count": 8,
     "metadata": {},
     "output_type": "execute_result"
    }
   ],
   "source": [
    "t"
   ]
  },
  {
   "cell_type": "code",
   "execution_count": 15,
   "metadata": {
    "Collapsed": "false"
   },
   "outputs": [],
   "source": [
    "weights = {}"
   ]
  },
  {
   "cell_type": "code",
   "execution_count": 16,
   "metadata": {
    "Collapsed": "false"
   },
   "outputs": [],
   "source": [
    "for unique in uniques:\n",
    "    weights[unique] = 0"
   ]
  },
  {
   "cell_type": "code",
   "execution_count": 17,
   "metadata": {
    "Collapsed": "false"
   },
   "outputs": [
    {
     "data": {
      "text/plain": [
       "{'A': 0, 'B': 0, 'C': 0}"
      ]
     },
     "execution_count": 17,
     "metadata": {},
     "output_type": "execute_result"
    }
   ],
   "source": [
    "weights"
   ]
  },
  {
   "cell_type": "code",
   "execution_count": 10,
   "metadata": {
    "Collapsed": "false"
   },
   "outputs": [
    {
     "data": {
      "text/plain": [
       "{'A', 'B', 'C'}"
      ]
     },
     "execution_count": 10,
     "metadata": {},
     "output_type": "execute_result"
    }
   ],
   "source": [
    "uniques"
   ]
  },
  {
   "cell_type": "code",
   "execution_count": 11,
   "metadata": {
    "Collapsed": "false"
   },
   "outputs": [
    {
     "name": "stdout",
     "output_type": "stream",
     "text": [
      "100\n",
      "10\n",
      "112\n"
     ]
    }
   ],
   "source": [
    "for z in t:\n",
    "    w = 0\n",
    "    for k in z:\n",
    "        for q in range(len(k)):\n",
    "            if k[q] == 1:\n",
    "                w += 10 ** (len(k) - q-1)\n",
    "    print(w)"
   ]
  },
  {
   "cell_type": "code",
   "execution_count": 18,
   "metadata": {
    "Collapsed": "false"
   },
   "outputs": [],
   "source": [
    "def gets(z):\n",
    "    w = 0\n",
    "    for k in z:\n",
    "        for q in range(len(k)):\n",
    "            if k[q] == 1:\n",
    "                w += 10 ** (len(k) - q-1)\n",
    "    return w"
   ]
  },
  {
   "cell_type": "code",
   "execution_count": 38,
   "metadata": {
    "Collapsed": "false"
   },
   "outputs": [],
   "source": [
    "t = []\n",
    "weights = {}\n",
    "for unique in uniques:\n",
    "    b = []\n",
    "    for word in words:\n",
    "        a = []\n",
    "        for q in list(word):\n",
    "            if unique == q:\n",
    "                v = 1\n",
    "            else:\n",
    "                v = 0\n",
    "            a.append(v)\n",
    "        b.append(a)\n",
    "    w = gets(b)\n",
    "    weights[unique] = w\n",
    "    t.append(b)"
   ]
  },
  {
   "cell_type": "code",
   "execution_count": 41,
   "metadata": {
    "Collapsed": "false"
   },
   "outputs": [
    {
     "data": {
      "text/plain": [
       "{'A': 100, 'B': 10, 'C': 112}"
      ]
     },
     "execution_count": 41,
     "metadata": {},
     "output_type": "execute_result"
    }
   ],
   "source": [
    "weights"
   ]
  },
  {
   "cell_type": "code",
   "execution_count": 42,
   "metadata": {
    "Collapsed": "false"
   },
   "outputs": [],
   "source": [
    "weights = sorted(weights.items(), reverse = True, key=lambda item : item[1])\n"
   ]
  },
  {
   "cell_type": "code",
   "execution_count": 50,
   "metadata": {
    "Collapsed": "false"
   },
   "outputs": [
    {
     "name": "stdout",
     "output_type": "stream",
     "text": [
      "('C', 112)\n",
      "('A', 100)\n",
      "('B', 10)\n"
     ]
    }
   ],
   "source": [
    "max = 9\n",
    "for i in weights:\n",
    "    print(i)"
   ]
  },
  {
   "cell_type": "code",
   "execution_count": 57,
   "metadata": {
    "Collapsed": "false"
   },
   "outputs": [],
   "source": [
    "s = 0"
   ]
  },
  {
   "cell_type": "code",
   "execution_count": 58,
   "metadata": {
    "Collapsed": "false"
   },
   "outputs": [],
   "source": [
    "s = 0\n",
    "for i in weights:\n",
    "    s += i[1] * max\n",
    "    max -= 1"
   ]
  },
  {
   "cell_type": "code",
   "execution_count": 59,
   "metadata": {
    "Collapsed": "false"
   },
   "outputs": [
    {
     "data": {
      "text/plain": [
       "1878"
      ]
     },
     "execution_count": 59,
     "metadata": {},
     "output_type": "execute_result"
    }
   ],
   "source": [
    "s"
   ]
  },
  {
   "cell_type": "code",
   "execution_count": 49,
   "metadata": {
    "Collapsed": "false"
   },
   "outputs": [
    {
     "ename": "TypeError",
     "evalue": "list indices must be integers or slices, not str",
     "output_type": "error",
     "traceback": [
      "\u001b[0;31m---------------------------------------------------------------------------\u001b[0m",
      "\u001b[0;31mTypeError\u001b[0m                                 Traceback (most recent call last)",
      "\u001b[0;32m<ipython-input-49-308138e81bf5>\u001b[0m in \u001b[0;36m<module>\u001b[0;34m\u001b[0m\n\u001b[0;32m----> 1\u001b[0;31m \u001b[0mweights\u001b[0m\u001b[0;34m[\u001b[0m\u001b[0;34m'C'\u001b[0m\u001b[0;34m]\u001b[0m\u001b[0;34m\u001b[0m\u001b[0;34m\u001b[0m\u001b[0m\n\u001b[0m",
      "\u001b[0;31mTypeError\u001b[0m: list indices must be integers or slices, not str"
     ]
    }
   ],
   "source": [
    "weights['C']"
   ]
  },
  {
   "cell_type": "code",
   "execution_count": 55,
   "metadata": {
    "Collapsed": "false"
   },
   "outputs": [
    {
     "data": {
      "text/plain": [
       "100"
      ]
     },
     "execution_count": 55,
     "metadata": {},
     "output_type": "execute_result"
    }
   ],
   "source": [
    "weights[1][1]"
   ]
  },
  {
   "cell_type": "code",
   "execution_count": null,
   "metadata": {
    "Collapsed": "false"
   },
   "outputs": [],
   "source": []
  }
 ],
 "metadata": {
  "kernelspec": {
   "display_name": "Python 3",
   "language": "python",
   "name": "python3"
  },
  "language_info": {
   "codemirror_mode": {
    "name": "ipython",
    "version": 3
   },
   "file_extension": ".py",
   "mimetype": "text/x-python",
   "name": "python",
   "nbconvert_exporter": "python",
   "pygments_lexer": "ipython3",
   "version": "3.7.6"
  }
 },
 "nbformat": 4,
 "nbformat_minor": 4
}
