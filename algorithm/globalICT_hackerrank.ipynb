{
 "cells": [
  {
   "cell_type": "code",
   "execution_count": 1,
   "metadata": {
    "Collapsed": "false"
   },
   "outputs": [],
   "source": [
    "import numpy as np\n",
    "from itertools import combinations\n",
    "def maxXor(lo, hi, k):\n",
    "    xor = lo ^ hi\n",
    "    n = 0\n",
    "    while xor:\n",
    "        xor >>= 1\n",
    "        n += 1\n",
    "    if 2**n -1 < k:\n",
    "        value = 2**n - 1\n",
    "    else:\n",
    "        xor = np.arange(lo, hi+1)\n",
    "        value = max(list(map(lambda x : 0 if x[0]^x[1] > k else x[0]^x[1],list(combinations(xor,2)))))\n",
    "    return value"
   ]
  },
  {
   "cell_type": "code",
   "execution_count": 2,
   "metadata": {
    "Collapsed": "false"
   },
   "outputs": [],
   "source": [
    "def commonSubstring(a, b):\n",
    "    a = list(map(lambda x: ''.join(set(x)), a))\n",
    "    b = list(map(lambda x: ''.join(set(x)), b))\n",
    "    words = list(zip(a,b))\n",
    "    t1 = [len(''.join(i)) for i in words]\n",
    "    t2 = [len(set(''.join(i))) for i in words]\n",
    "    res = ['NO' if e1 == e2 else 'YES' for e1, e2 in list(zip(t1,t2)) ]\n",
    "    [print(elem) for elem in res]\n",
    "    # Write your code here"
   ]
  },
  {
   "cell_type": "code",
   "execution_count": 3,
   "metadata": {
    "Collapsed": "false"
   },
   "outputs": [],
   "source": [
    "def stockPairs(stocksProfit, target):\n",
    "    count = 0\n",
    "    stocksProfit = [elem for elem in stocksProfit if elem < target]\n",
    "    arr = sorted(list(set(stocksProfit)), reverse = False)\n",
    "    n = len(arr)\n",
    "    for i in range(n): \n",
    "        for j in range(1, n):\n",
    "            if arr[i] + arr[n-j] < target:\n",
    "                break\n",
    "            else:\n",
    "                if arr[i] + arr[n-j] == target or arr[n-j] + arr[i] == target:\n",
    "                    if n-j <= i:\n",
    "                        break\n",
    "                    count += 1\n",
    "    if stocksProfit.count(int(target/2)) == 2:\n",
    "        count += 1\n",
    "    return count"
   ]
  },
  {
   "cell_type": "code",
   "execution_count": 4,
   "metadata": {
    "Collapsed": "false"
   },
   "outputs": [],
   "source": [
    "import numpy as np\n",
    "def countGroups(related):\n",
    "    n = len(related[0])\n",
    "    mtx = np.array(list(map(int,''.join(related)))).reshape(len(related),n)\n",
    "\n",
    "    n = mtx.shape[1]\n",
    "    q = 2\n",
    "\n",
    "    for i in range(n):\n",
    "        if len(np.where(mtx[:,i] >= 1)[0]) > 1:\n",
    "            row_index = np.where(mtx[:,i] >= 1)[0]\n",
    "            if max([max(mtx[index]) for index in row_index]) == 1:\n",
    "                mtx[:,i] = np.where(mtx[:,i] >= 1, q, mtx[:,i])\n",
    "                q += 1\n",
    "            else:\n",
    "                mtx[:,i] = np.where(mtx[:,i] >= 1, max([max(mtx[index]) for index in row_index]), mtx[:,i])\n",
    "        else:\n",
    "            index = np.where(mtx[:,i] == 1)[0]\n",
    "            mtx[index,i] = q\n",
    "            q += 1\n",
    "    res = len(np.unique(mtx))-1\n",
    "    return res"
   ]
  },
  {
   "cell_type": "code",
   "execution_count": 5,
   "metadata": {
    "Collapsed": "false"
   },
   "outputs": [],
   "source": [
    "def factorial(a, b):  \n",
    "    res = 1\n",
    "    for i in range(1, a + b + 1):  \n",
    "        res = res * i  \n",
    "    for i in range(1, a + 1):  \n",
    "        res = res // i  \n",
    "    for i in range(1, b + 1):  \n",
    "        res = res // i  \n",
    "    return res  \n",
    "  \n",
    "def getPath(path, x, y, k):\n",
    "    if x == 0 and y == 0:  \n",
    "        pass\n",
    "    elif x == 0: \n",
    "        y -= 1\n",
    "        path.append(\"V\")  \n",
    "        getPath(path, x, y, k)  \n",
    "    elif y == 0:  \n",
    "        x -= 1 \n",
    "        path.append(\"H\")    \n",
    "        getPath(path, x, y, k)  \n",
    "    else:  \n",
    "        if factorial(x - 1, y) > k:  \n",
    "            path.append(\"H\")  \n",
    "            getPath(path, x - 1, y, k)  \n",
    "        else: \n",
    "            path.append(\"V\")  \n",
    "            getPath(path, x, y - 1, k - factorial(x - 1, y))\n",
    "    return path\n",
    "\n",
    "def getSafePaths(journeys):\n",
    "    res = []\n",
    "    for data in journeys:\n",
    "        path = []\n",
    "        data = list(map(int, data.split(' ')))\n",
    "        x = data[0]; y = data[1]; k = data[2]\n",
    "        value = getPath(path, x, y, k)\n",
    "        value = ''.join(value)\n",
    "        res.append(value)\n",
    "    return res"
   ]
  },
  {
   "cell_type": "code",
   "execution_count": null,
   "metadata": {
    "Collapsed": "false"
   },
   "outputs": [],
   "source": []
  }
 ],
 "metadata": {
  "kernelspec": {
   "display_name": "Python 3",
   "language": "python",
   "name": "python3"
  },
  "language_info": {
   "codemirror_mode": {
    "name": "ipython",
    "version": 3
   },
   "file_extension": ".py",
   "mimetype": "text/x-python",
   "name": "python",
   "nbconvert_exporter": "python",
   "pygments_lexer": "ipython3",
   "version": "3.7.6"
  }
 },
 "nbformat": 4,
 "nbformat_minor": 4
}
