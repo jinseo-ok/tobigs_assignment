{
 "cells": [
  {
   "cell_type": "markdown",
   "metadata": {},
   "source": [
    "# 1번"
   ]
  },
  {
   "cell_type": "code",
   "execution_count": 19,
   "metadata": {},
   "outputs": [
    {
     "name": "stdin",
     "output_type": "stream",
     "text": [
      " eva jqw tyn jan\n"
     ]
    },
    {
     "data": {
      "text/plain": [
       "9"
      ]
     },
     "execution_count": 19,
     "metadata": {},
     "output_type": "execute_result"
    }
   ],
   "source": [
    "from itertools import combinations\n",
    "\n",
    "elem = input().split()\n",
    "\n",
    "combis = []\n",
    "for i in range(2, len(elem)):\n",
    "    combis.extend(list(map(''.join, combinations(elem, i+1))))\n",
    "\n",
    "word_list = []\n",
    "for combi in combis:\n",
    "    if len(list(combi)) == len(set(list(combi))):\n",
    "        word_list.append(len(combi))\n",
    "    else:\n",
    "        word_list.append(0)\n",
    "\n",
    "max(word_list)"
   ]
  },
  {
   "cell_type": "code",
   "execution_count": 18,
   "metadata": {},
   "outputs": [
    {
     "data": {
      "text/plain": [
       "[('a', 'b', 'c', 'd', 'e', 'f', 'g', 'h')]"
      ]
     },
     "execution_count": 18,
     "metadata": {},
     "output_type": "execute_result"
    }
   ],
   "source": [
    "list(combinations(elem, 8))"
   ]
  },
  {
   "cell_type": "code",
   "execution_count": 5,
   "metadata": {},
   "outputs": [
    {
     "name": "stdin",
     "output_type": "stream",
     "text": [
      " abc yyy def csv\n"
     ]
    },
    {
     "data": {
      "text/plain": [
       "6"
      ]
     },
     "execution_count": 5,
     "metadata": {},
     "output_type": "execute_result"
    }
   ],
   "source": [
    "from itertools import combinations\n",
    "\n",
    "elem = input().split()\n",
    "\n",
    "combis = []\n",
    "for i in range(2, len(elem)):\n",
    "    combis.extend(list(map(''.join, combinations(elem, i))))\n",
    "\n",
    "word_list = []\n",
    "for combi in combis:\n",
    "    if len(list(combi)) == len(set(list(combi))):\n",
    "        word_list.append(len(combi))\n",
    "    else:\n",
    "        word_list.append(0)\n",
    "\n",
    "max(word_list)"
   ]
  },
  {
   "cell_type": "markdown",
   "metadata": {},
   "source": [
    "# 2번"
   ]
  },
  {
   "cell_type": "code",
   "execution_count": null,
   "metadata": {},
   "outputs": [],
   "source": [
    "def getValue(fst, snd, thd):\n",
    "    fst = list(fst)\n",
    "    snd = list(snd)\n",
    "    n = int(length/2)\n",
    "    for i in range(n):\n",
    "        if fst[i] == '?' and snd[n-i-1] == '?':\n",
    "            fst[i] = 'a'\n",
    "            snd[n-i-1] = 'a'\n",
    "        elif fst[i] == '?':\n",
    "            fst[i] = snd[n-i-1]\n",
    "        elif snd[n-i-1] == '?':\n",
    "            snd[n-i-1] = fst[i]\n",
    "        elif fst[i] == snd[n-i-1]:\n",
    "            pass\n",
    "        else:\n",
    "            value = 'NO'\n",
    "            break\n",
    "    if thd == '?':\n",
    "        thd = 'a'\n",
    "\n",
    "    value = ''.join(fst)+thd+''.join(snd)\n",
    "    return value"
   ]
  },
  {
   "cell_type": "code",
   "execution_count": 11,
   "metadata": {},
   "outputs": [
    {
     "name": "stdin",
     "output_type": "stream",
     "text": [
      " z??z\n"
     ]
    },
    {
     "name": "stdout",
     "output_type": "stream",
     "text": [
      "zaaz\n"
     ]
    }
   ],
   "source": [
    "raw = input()\n",
    "\n",
    "length = len(list(raw))\n",
    "\n",
    "if length % 2 == 0:\n",
    "    fst = raw[:int(length/2)]\n",
    "    snd = raw[int(length/2):]\n",
    "    thd = ''\n",
    "    value = getValue(fst, snd, thd)\n",
    "    if '?' in list(value):\n",
    "        value = 'No'\n",
    "else:\n",
    "    fst = raw[:int(length/2)]\n",
    "    snd = raw[int(length/2)+1:]\n",
    "    thd = raw[int(length/2)]\n",
    "    value = getValue(fst, snd, thd)\n",
    "    if '?' in list(value):\n",
    "        value = 'No'\n",
    "print(value)"
   ]
  },
  {
   "cell_type": "code",
   "execution_count": 68,
   "metadata": {},
   "outputs": [
    {
     "data": {
      "text/plain": [
       "'?ab'"
      ]
     },
     "execution_count": 68,
     "metadata": {},
     "output_type": "execute_result"
    }
   ],
   "source": [
    "raw[:3]"
   ]
  },
  {
   "cell_type": "code",
   "execution_count": 76,
   "metadata": {},
   "outputs": [
    {
     "data": {
      "text/plain": [
       "4"
      ]
     },
     "execution_count": 76,
     "metadata": {},
     "output_type": "execute_result"
    }
   ],
   "source": [
    "int(9/2)"
   ]
  },
  {
   "cell_type": "markdown",
   "metadata": {},
   "source": [
    "# 3번"
   ]
  },
  {
   "cell_type": "code",
   "execution_count": 101,
   "metadata": {},
   "outputs": [
    {
     "name": "stdin",
     "output_type": "stream",
     "text": [
      " one(two(one(b,a)))\n"
     ]
    }
   ],
   "source": [
    "code = input()"
   ]
  },
  {
   "cell_type": "code",
   "execution_count": 21,
   "metadata": {},
   "outputs": [
    {
     "data": {
      "text/plain": [
       "True"
      ]
     },
     "execution_count": 21,
     "metadata": {},
     "output_type": "execute_result"
    }
   ],
   "source": [
    "len(code.split('(')) == len(code.split(')'))"
   ]
  },
  {
   "cell_type": "code",
   "execution_count": 107,
   "metadata": {},
   "outputs": [
    {
     "data": {
      "text/plain": [
       "['', '(two(', '(b,a)))']"
      ]
     },
     "execution_count": 107,
     "metadata": {},
     "output_type": "execute_result"
    }
   ],
   "source": [
    "code.split('one')"
   ]
  },
  {
   "cell_type": "code",
   "execution_count": 98,
   "metadata": {},
   "outputs": [
    {
     "data": {
      "text/plain": [
       "['one(two(one(a', 'one(a))', 'one(b)))']"
      ]
     },
     "execution_count": 98,
     "metadata": {},
     "output_type": "execute_result"
    }
   ],
   "source": [
    "code.split(',')"
   ]
  },
  {
   "cell_type": "code",
   "execution_count": 93,
   "metadata": {},
   "outputs": [],
   "source": [
    "def one(x):\n",
    "    print('No error')"
   ]
  },
  {
   "cell_type": "code",
   "execution_count": 94,
   "metadata": {},
   "outputs": [
    {
     "name": "stdout",
     "output_type": "stream",
     "text": [
      "No error\n",
      "No error\n"
     ]
    }
   ],
   "source": [
    "a = 1\n",
    "b = 2\n",
    "\n",
    "\n",
    "try:\n",
    "    one(one(a))\n",
    "except:\n",
    "    print('Syntax Error')"
   ]
  },
  {
   "cell_type": "code",
   "execution_count": 108,
   "metadata": {},
   "outputs": [
    {
     "name": "stdout",
     "output_type": "stream",
     "text": [
      "Syntax Error\n"
     ]
    }
   ],
   "source": [
    "for i in code.split('one'):\n",
    "    if ',' in i:\n",
    "        print('Syntax Error')\n",
    "        break\n",
    "    else:\n",
    "        pass"
   ]
  },
  {
   "cell_type": "code",
   "execution_count": 103,
   "metadata": {},
   "outputs": [],
   "source": [
    "if ',' in code.split('one'):\n",
    "    print('Syntax Error')"
   ]
  },
  {
   "cell_type": "code",
   "execution_count": 40,
   "metadata": {},
   "outputs": [
    {
     "data": {
      "text/plain": [
       "'b,two'"
      ]
     },
     "execution_count": 40,
     "metadata": {},
     "output_type": "execute_result"
    }
   ],
   "source": [
    "code.split('(')[1]"
   ]
  },
  {
   "cell_type": "code",
   "execution_count": null,
   "metadata": {},
   "outputs": [],
   "source": [
    "if code.split('(')[0] == 'two':\n",
    "    "
   ]
  },
  {
   "cell_type": "code",
   "execution_count": 47,
   "metadata": {},
   "outputs": [
    {
     "data": {
      "text/plain": [
       "['two',\n",
       " 'b,two',\n",
       " 'one',\n",
       " 'one',\n",
       " 'b)),two',\n",
       " 'a,two',\n",
       " 'two',\n",
       " 'a,one',\n",
       " 'two',\n",
       " 'a,b))),a))))']"
      ]
     },
     "execution_count": 47,
     "metadata": {},
     "output_type": "execute_result"
    }
   ],
   "source": [
    "code.split('(')"
   ]
  },
  {
   "cell_type": "code",
   "execution_count": 50,
   "metadata": {},
   "outputs": [
    {
     "data": {
      "text/plain": [
       "True"
      ]
     },
     "execution_count": 50,
     "metadata": {},
     "output_type": "execute_result"
    }
   ],
   "source": [
    "len(code.split('two')) == len(code.split('two'))"
   ]
  },
  {
   "cell_type": "code",
   "execution_count": 27,
   "metadata": {},
   "outputs": [
    {
     "data": {
      "text/plain": [
       "'b,two'"
      ]
     },
     "execution_count": 27,
     "metadata": {},
     "output_type": "execute_result"
    }
   ],
   "source": [
    "code.split('(')[1]"
   ]
  },
  {
   "cell_type": "code",
   "execution_count": 15,
   "metadata": {},
   "outputs": [
    {
     "data": {
      "text/plain": [
       "'two'"
      ]
     },
     "execution_count": 15,
     "metadata": {},
     "output_type": "execute_result"
    }
   ],
   "source": [
    "code.split('(')[1]"
   ]
  },
  {
   "cell_type": "code",
   "execution_count": 17,
   "metadata": {},
   "outputs": [
    {
     "data": {
      "text/plain": [
       "['one(two(b,b', '', '', '']"
      ]
     },
     "execution_count": 17,
     "metadata": {},
     "output_type": "execute_result"
    }
   ],
   "source": [
    "code.split(')')"
   ]
  },
  {
   "cell_type": "code",
   "execution_count": 119,
   "metadata": {},
   "outputs": [
    {
     "name": "stdin",
     "output_type": "stream",
     "text": [
      " one(two(one(b,a)))\n"
     ]
    },
    {
     "name": "stdout",
     "output_type": "stream",
     "text": [
      "Syntax Error\n"
     ]
    }
   ],
   "source": [
    "code = input()\n",
    "\n",
    "if len(code.split('(')) == len(code.split(')')):\n",
    "    if len(code.split('two')) == len(code.split(',')):\n",
    "        if ',' in ''.join(code.split('one')):\n",
    "            print('Syntax Error')\n",
    "        else:\n",
    "            print('No Error')\n",
    "    else:\n",
    "        print('Syntax Error')\n",
    "else:\n",
    "    print('Syntax Error')"
   ]
  },
  {
   "cell_type": "code",
   "execution_count": 115,
   "metadata": {},
   "outputs": [
    {
     "data": {
      "text/plain": [
       "'two(b,two(((b)),two(a,two(two(a,(two(a,b))),a))))'"
      ]
     },
     "execution_count": 115,
     "metadata": {},
     "output_type": "execute_result"
    }
   ],
   "source": [
    "''.join(code.split('one'))"
   ]
  },
  {
   "cell_type": "code",
   "execution_count": 120,
   "metadata": {},
   "outputs": [
    {
     "data": {
      "text/plain": [
       "['', '(two(', '(b,a)))']"
      ]
     },
     "execution_count": 120,
     "metadata": {},
     "output_type": "execute_result"
    }
   ],
   "source": [
    "code.split('one')"
   ]
  },
  {
   "cell_type": "code",
   "execution_count": 125,
   "metadata": {},
   "outputs": [
    {
     "name": "stdout",
     "output_type": "stream",
     "text": [
      "\n",
      "(b,a)))(b,a)))\n"
     ]
    }
   ],
   "source": [
    "for a in code.split('one'):\n",
    "    if 'two' not in a:\n",
    "        a += a"
   ]
  },
  {
   "cell_type": "code",
   "execution_count": 184,
   "metadata": {},
   "outputs": [
    {
     "name": "stdin",
     "output_type": "stream",
     "text": [
      " two(two(a,one(b,two(b,a))))\n"
     ]
    },
    {
     "name": "stdout",
     "output_type": "stream",
     "text": [
      "No Error\n"
     ]
    }
   ],
   "source": [
    "code = input()\n",
    "if (len(code.split('one')) - 1) + (len(code.split('two')) - 1) == (len(code.split('('))-1):\n",
    "    if len(code.split('(')) == len(code.split(')')):\n",
    "        if len(code.split('two')) == len(code.split(',')):\n",
    "            value = ''\n",
    "            for a in code.split('one'):\n",
    "                if 'two' not in a:\n",
    "                    value += a\n",
    "            if ',' in value:\n",
    "                print('Syntax Error')\n",
    "            else:\n",
    "                print('No Error')\n",
    "        else:\n",
    "            print('Syntax Error')\n",
    "    else:\n",
    "        print('Syntax Error')\n",
    "else:\n",
    "    print('Syntax Error')"
   ]
  },
  {
   "cell_type": "code",
   "execution_count": 196,
   "metadata": {},
   "outputs": [
    {
     "data": {
      "text/plain": [
       "['two(two(a,', '(b,two(b,a))))']"
      ]
     },
     "execution_count": 196,
     "metadata": {},
     "output_type": "execute_result"
    }
   ],
   "source": [
    "code.split('one')"
   ]
  },
  {
   "cell_type": "code",
   "execution_count": 195,
   "metadata": {},
   "outputs": [
    {
     "data": {
      "text/plain": [
       "['', '(', '(a,one(b,', '(b,a))))']"
      ]
     },
     "execution_count": 195,
     "metadata": {},
     "output_type": "execute_result"
    }
   ],
   "source": [
    "code.split('two')"
   ]
  },
  {
   "cell_type": "code",
   "execution_count": 187,
   "metadata": {},
   "outputs": [],
   "source": [
    "value = ''\n",
    "value2 = ''\n",
    "for a in code.split('one'):\n",
    "    if 'two' not in a:\n",
    "        value += a\n",
    "    else:\n",
    "        value2 += a"
   ]
  },
  {
   "cell_type": "code",
   "execution_count": 188,
   "metadata": {},
   "outputs": [
    {
     "data": {
      "text/plain": [
       "''"
      ]
     },
     "execution_count": 188,
     "metadata": {},
     "output_type": "execute_result"
    }
   ],
   "source": [
    "value"
   ]
  },
  {
   "cell_type": "code",
   "execution_count": 191,
   "metadata": {},
   "outputs": [
    {
     "data": {
      "text/plain": [
       "'two(two(a,(b,two(b,a))))'"
      ]
     },
     "execution_count": 191,
     "metadata": {},
     "output_type": "execute_result"
    }
   ],
   "source": [
    "value2"
   ]
  },
  {
   "cell_type": "code",
   "execution_count": 190,
   "metadata": {},
   "outputs": [
    {
     "data": {
      "text/plain": [
       "['', '(', '(a,(b,', '(b,a))))']"
      ]
     },
     "execution_count": 190,
     "metadata": {},
     "output_type": "execute_result"
    }
   ],
   "source": [
    "value2.split('two')"
   ]
  },
  {
   "cell_type": "code",
   "execution_count": 170,
   "metadata": {},
   "outputs": [
    {
     "data": {
      "text/plain": [
       "4"
      ]
     },
     "execution_count": 170,
     "metadata": {},
     "output_type": "execute_result"
    }
   ],
   "source": [
    "(len(code.split('one')) - 1) + (len(code.split('two')) - 1)"
   ]
  },
  {
   "cell_type": "code",
   "execution_count": 175,
   "metadata": {},
   "outputs": [
    {
     "data": {
      "text/plain": [
       "2"
      ]
     },
     "execution_count": 175,
     "metadata": {},
     "output_type": "execute_result"
    }
   ],
   "source": [
    "len(code.split(','))"
   ]
  },
  {
   "cell_type": "code",
   "execution_count": 150,
   "metadata": {},
   "outputs": [
    {
     "data": {
      "text/plain": [
       "'one((two(a,a)))'"
      ]
     },
     "execution_count": 150,
     "metadata": {},
     "output_type": "execute_result"
    }
   ],
   "source": [
    "code"
   ]
  },
  {
   "cell_type": "markdown",
   "metadata": {},
   "source": [
    "## 3번 답안코드"
   ]
  },
  {
   "cell_type": "code",
   "execution_count": 4,
   "metadata": {},
   "outputs": [],
   "source": [
    "import re"
   ]
  },
  {
   "cell_type": "code",
   "execution_count": 13,
   "metadata": {},
   "outputs": [
    {
     "name": "stdin",
     "output_type": "stream",
     "text": [
      " two(b,two(one(one(b)),two(a,two(two(a,one(two(a,b))),a))))\n"
     ]
    },
    {
     "name": "stdout",
     "output_type": "stream",
     "text": [
      "No Error\n"
     ]
    }
   ],
   "source": [
    "code = input()\n",
    "\n",
    "def solution(code):\n",
    "    code_test = code\n",
    "    # code에서 조건 {one(a) 혹은 one(b), two(a,a) two(a,b) two(b,a) two(b,b)} 인 부분을 a 로 변환\n",
    "    code = re.sub(\"one\\([ab]\\)|two\\([ab],[ab]\\)\", \"a\", code)\n",
    "    if code_test == code: # 변화가 없을때만 성립\n",
    "        if code == \"a\": # 남아있는게 a라면 True, 조건에 맞는 집합들로만 이루어져있기 때문\n",
    "            return True\n",
    "        return False # 남아있는게 a 가 아니면 불필요한 문자이기에 false\n",
    "    if code != \"\": # 변화가 있으면 계속해서 solution 실행\n",
    "        return solution(code)\n",
    "    \n",
    "    \n",
    "if solution(code):\n",
    "    print(\"No Error\")\n",
    "else:\n",
    "    print(\"Syntax Error\")"
   ]
  },
  {
   "cell_type": "code",
   "execution_count": null,
   "metadata": {},
   "outputs": [],
   "source": []
  },
  {
   "cell_type": "code",
   "execution_count": null,
   "metadata": {},
   "outputs": [],
   "source": []
  },
  {
   "cell_type": "code",
   "execution_count": null,
   "metadata": {},
   "outputs": [],
   "source": []
  }
 ],
 "metadata": {
  "kernelspec": {
   "display_name": "Python 3",
   "language": "python",
   "name": "python3"
  },
  "language_info": {
   "codemirror_mode": {
    "name": "ipython",
    "version": 3
   },
   "file_extension": ".py",
   "mimetype": "text/x-python",
   "name": "python",
   "nbconvert_exporter": "python",
   "pygments_lexer": "ipython3",
   "version": "3.7.6"
  }
 },
 "nbformat": 4,
 "nbformat_minor": 4
}
