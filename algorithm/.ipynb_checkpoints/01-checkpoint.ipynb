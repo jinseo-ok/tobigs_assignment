{
 "cells": [
  {
   "cell_type": "markdown",
   "metadata": {},
   "source": [
    "## 1. X를 정수로 입력받은 후 1를 더한 값을 출력하시오."
   ]
  },
  {
   "cell_type": "code",
   "execution_count": 1,
   "metadata": {},
   "outputs": [
    {
     "name": "stdin",
     "output_type": "stream",
     "text": [
      " 5\n"
     ]
    },
    {
     "name": "stdout",
     "output_type": "stream",
     "text": [
      "6\n"
     ]
    }
   ],
   "source": [
    "X = int(input())\n",
    "\n",
    "print(X+1)"
   ]
  },
  {
   "cell_type": "markdown",
   "metadata": {},
   "source": [
    "## 2. 승현이는 갓빅스 광고판 제작자이다. 승현이는 성격이 각지기 때문에 자기가 세워놓은 사각형 광고판을 가리는 걸 싫어한다. 그러던 어느날 광고판 경쟁업체 바이아즈와 베이타민에서 광고판을 가렸다는 사실을 알게 되었다. 승현이를 도와 각 광고판이 가리지 않은 부분의 넓이를 구해주자. \n",
    "\n",
    "입력\n",
    "\n",
    "첫번째 줄에는 갓빅스의 광고판의 왼쪽 아래 좌표와 오른쪽 위 좌표가 주어진다. 좌표의 범위는 -100~100 까지이다.\n",
    "\n",
    "a, b, c, d (a, b), (c, d)\n",
    "\n",
    "그리고 두, 세번째 줄에는 각각 바이아즈와 베이타민 광고판의 왼쪽 아래 좌표와 오른쪽 위 좌표가 주어진다. \n",
    "\n",
    "출력 \n",
    "\n",
    "좌표가 주어졌을 때 각 갓빅스 사각형의 가리지 않은 부분의 넓이를 구해주자.\n",
    "\n",
    "예제 입력 1\n",
    "\n",
    "1 2 3 5\n",
    "\n",
    "6 0 10 4\n",
    "\n",
    "2 1 8 3\n",
    "\n",
    "예제 출력 1\n",
    "\n",
    "5"
   ]
  },
  {
   "cell_type": "code",
   "execution_count": 158,
   "metadata": {},
   "outputs": [],
   "source": [
    "import random"
   ]
  },
  {
   "cell_type": "code",
   "execution_count": null,
   "metadata": {},
   "outputs": [],
   "source": [
    "# a : 깃빅스 광고판 좌표\n",
    "# b : 바이아즈 광고판 좌표\n",
    "# c : 베이타민 광고판 좌표"
   ]
  },
  {
   "cell_type": "code",
   "execution_count": 241,
   "metadata": {},
   "outputs": [],
   "source": [
    "# 좌표 랜덤 부여\n",
    "a = random.sample(range(-100,100),4)\n",
    "b = random.sample(range(-100,100),4)\n",
    "c = random.sample(range(-100,100),4)"
   ]
  },
  {
   "cell_type": "code",
   "execution_count": 285,
   "metadata": {},
   "outputs": [],
   "source": [
    "a = [1,2,3,5]\n",
    "b = [6,0,10,4]\n",
    "c = [2,1,8,3]"
   ]
  },
  {
   "cell_type": "code",
   "execution_count": 286,
   "metadata": {},
   "outputs": [],
   "source": [
    "# 재정렬 함수 (x1,y1,x2,y2)\n",
    "# 왼쪽 하단, 오른쪽 상단 기준\n",
    "def sortList(x):\n",
    "    if x[0] > x[2]:\n",
    "        temp = x[2]\n",
    "        x[2] = x[0]\n",
    "        x[0] = temp\n",
    "    if x[1] > x[3]:\n",
    "        temp2 = x[3]\n",
    "        x[3] = x[1]\n",
    "        x[1] = temp2\n",
    "    return x"
   ]
  },
  {
   "cell_type": "code",
   "execution_count": 287,
   "metadata": {},
   "outputs": [],
   "source": [
    "# 갓빅스 광고판 넓이 구하기\n",
    "def getArea(x):\n",
    "    area = abs(x[2] - x[0]) * abs(x[3] - x[1])\n",
    "    return area"
   ]
  },
  {
   "cell_type": "code",
   "execution_count": 293,
   "metadata": {},
   "outputs": [],
   "source": [
    "# 갓빅스와 두 광고판이 각각 겹치는 부분\n",
    "# 아예 겹치는 않을 때 고려해야함\n",
    "def getInter(x,y):\n",
    "    if x[0] > y[2] or x[3] < y[1] or x[2] < y[0] or x[1] > y[3]:\n",
    "        inter = 0\n",
    "    else:\n",
    "        inter = abs(min(x[2],y[2]) - max(x[0], y[0])) * abs(min(x[3], y[3]) - max(x[1], y[1]))\n",
    "    return inter"
   ]
  },
  {
   "cell_type": "code",
   "execution_count": 289,
   "metadata": {},
   "outputs": [],
   "source": [
    "# 바이아즈와 베이타민이 겹치는 부분\n",
    "def getDuple(x,y,z):\n",
    "    if getInter(a,b) == 0 or getInter(a,c) == 0:\n",
    "        duple = 0\n",
    "    else:\n",
    "        duple = abs(min(x[2], y[2], c[2]) - max(x[0], y[0], z[0])) * abs(min(x[3], y[3], z[3]) - max(x[1], y[1], z[1]))\n",
    "    return duple"
   ]
  },
  {
   "cell_type": "code",
   "execution_count": 295,
   "metadata": {},
   "outputs": [
    {
     "data": {
      "text/plain": [
       "1"
      ]
     },
     "execution_count": 295,
     "metadata": {},
     "output_type": "execute_result"
    }
   ],
   "source": [
    "getInter(a,c)"
   ]
  },
  {
   "cell_type": "code",
   "execution_count": 296,
   "metadata": {},
   "outputs": [
    {
     "name": "stdout",
     "output_type": "stream",
     "text": [
      "a의 좌표는 : [1, 2, 3, 5]\n",
      "b의 좌표는 : [6, 0, 10, 4]\n",
      "c의 좌표는 : [2, 1, 8, 3]\n",
      "a의 넓이는 :  6\n",
      "가리지 않은 a의 넓이는 :  5\n"
     ]
    }
   ],
   "source": [
    "sortList(a)\n",
    "sortList(b)\n",
    "sortList(c)\n",
    "\n",
    "print('a의 좌표는 :', a)\n",
    "print('b의 좌표는 :', b)\n",
    "print('c의 좌표는 :', c)\n",
    "print('a의 넓이는 : ', getArea(a))\n",
    "(print('가리지 않은 a의 넓이는 : ', getArea(a) - (getInter(a,b) + getInter(a,c) - getDuple(a,b,c))))"
   ]
  },
  {
   "cell_type": "markdown",
   "metadata": {},
   "source": [
    "## 수아는 투빅스 천재 해커이다. 그래서 비밀번호에 특수문자가 들어가는 걸 매우 싫어한다. 수아가 만든 비밀번호에 숫자 혹은 영어 알파벳이 아닌 특수문자를 제거하는 프로그램을 만들어 보자."
   ]
  },
  {
   "cell_type": "code",
   "execution_count": 251,
   "metadata": {},
   "outputs": [],
   "source": [
    "import re"
   ]
  },
  {
   "cell_type": "code",
   "execution_count": 252,
   "metadata": {},
   "outputs": [],
   "source": [
    "# 텍스트에 포함되어 있는 특수 문자 제거\n",
    "def cleanText(readData):\n",
    "    text = re.sub('[-=+,#/\\?:^$.@*\\\"※~&%ㆍ!』\\\\‘|\\(\\)\\[\\]\\<\\>`\\'…》]', '', readData)\n",
    "    return text"
   ]
  },
  {
   "cell_type": "code",
   "execution_count": 254,
   "metadata": {},
   "outputs": [
    {
     "name": "stdout",
     "output_type": "stream",
     "text": [
      "Overwatch1\n",
      "Overwatch1\n"
     ]
    }
   ],
   "source": [
    "data = cleanText('Overwatch1!')\n",
    "print(data)\n",
    "\n",
    "data = cleanText('Overwatch1')\n",
    "print(data)"
   ]
  },
  {
   "cell_type": "code",
   "execution_count": null,
   "metadata": {},
   "outputs": [],
   "source": []
  },
  {
   "cell_type": "code",
   "execution_count": 282,
   "metadata": {},
   "outputs": [
    {
     "name": "stdin",
     "output_type": "stream",
     "text": [
      " 1 2 3 4\n"
     ]
    }
   ],
   "source": [
    "a = input().split()"
   ]
  },
  {
   "cell_type": "code",
   "execution_count": 279,
   "metadata": {},
   "outputs": [],
   "source": [
    "i = 0\n",
    "for x in a:\n",
    "    a[i] = int(x)\n",
    "    i += 1"
   ]
  },
  {
   "cell_type": "code",
   "execution_count": 283,
   "metadata": {},
   "outputs": [],
   "source": [
    "def changeInt(x):\n",
    "    i = 0\n",
    "    for y in x:\n",
    "        x[i] = int(y)\n",
    "        i += 1\n",
    "    return x"
   ]
  },
  {
   "cell_type": "code",
   "execution_count": 284,
   "metadata": {},
   "outputs": [
    {
     "data": {
      "text/plain": [
       "[1, 2, 3, 4]"
      ]
     },
     "execution_count": 284,
     "metadata": {},
     "output_type": "execute_result"
    }
   ],
   "source": [
    "changeInt(a)"
   ]
  }
 ],
 "metadata": {
  "kernelspec": {
   "display_name": "Python 3",
   "language": "python",
   "name": "python3"
  },
  "language_info": {
   "codemirror_mode": {
    "name": "ipython",
    "version": 3
   },
   "file_extension": ".py",
   "mimetype": "text/x-python",
   "name": "python",
   "nbconvert_exporter": "python",
   "pygments_lexer": "ipython3",
   "version": "3.7.6"
  }
 },
 "nbformat": 4,
 "nbformat_minor": 4
}
