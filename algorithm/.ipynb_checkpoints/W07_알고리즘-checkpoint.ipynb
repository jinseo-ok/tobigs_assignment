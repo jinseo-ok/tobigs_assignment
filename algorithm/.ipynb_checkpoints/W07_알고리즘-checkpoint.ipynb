{
 "cells": [
  {
   "cell_type": "code",
   "execution_count": 1,
   "metadata": {
    "Collapsed": "false"
   },
   "outputs": [],
   "source": [
    "import numpy as np\n",
    "import pandas as pd"
   ]
  },
  {
   "cell_type": "code",
   "execution_count": 2,
   "metadata": {
    "Collapsed": "false"
   },
   "outputs": [],
   "source": [
    "def changeB(x,array):\n",
    "    width, height = array.shape\n",
    "    for w in range(width):\n",
    "        for h in range(height):\n",
    "            if array[w][h] == x:\n",
    "                array[w][h] = 0\n",
    "    return array"
   ]
  },
  {
   "cell_type": "code",
   "execution_count": 3,
   "metadata": {
    "Collapsed": "false"
   },
   "outputs": [],
   "source": [
    "def findN(w,h,array):\n",
    "    df = pd.DataFrame(array)\n",
    "    try:\n",
    "        l = df[w-1][h]\n",
    "    except:\n",
    "        l = 0\n",
    "    try:\n",
    "        r = df[w+1][h]\n",
    "    except:\n",
    "        r = 0\n",
    "    try:\n",
    "        u = df[w][h-1]\n",
    "    except:\n",
    "        u = 0\n",
    "    try:\n",
    "        d = df[w][h+1]\n",
    "    except:\n",
    "        d = 0\n",
    "    value = [l,r,u,d]\n",
    "    return value"
   ]
  },
  {
   "cell_type": "code",
   "execution_count": 4,
   "metadata": {
    "Collapsed": "false"
   },
   "outputs": [],
   "source": [
    "def loc(x):\n",
    "    if x == 0:\n",
    "        p,q = -1, 0\n",
    "    elif x == 1:\n",
    "        p,q = 1, 0\n",
    "    elif x == 2:\n",
    "        p,q = 0, -1\n",
    "    elif x == 3:\n",
    "        p,q = 0, 1\n",
    "    value = p,q\n",
    "    return value"
   ]
  },
  {
   "cell_type": "code",
   "execution_count": 5,
   "metadata": {
    "Collapsed": "false"
   },
   "outputs": [
    {
     "name": "stdout",
     "output_type": "stream",
     "text": [
      "2 4\n"
     ]
    }
   ],
   "source": [
    "rc = input().split()\n",
    "r = int(rc[0])\n",
    "c = int(rc[1])"
   ]
  },
  {
   "cell_type": "code",
   "execution_count": 6,
   "metadata": {
    "Collapsed": "false"
   },
   "outputs": [
    {
     "name": "stdout",
     "output_type": "stream",
     "text": [
      "ASQSZCDA\n"
     ]
    }
   ],
   "source": [
    "board = input()\n",
    "board = list(board)\n",
    "board = np.array(board).reshape(r,c)"
   ]
  },
  {
   "cell_type": "code",
   "execution_count": 7,
   "metadata": {
    "Collapsed": "false"
   },
   "outputs": [
    {
     "data": {
      "text/plain": [
       "array([['A', 'S', 'Q', 'S'],\n",
       "       ['Z', 'C', 'D', 'A']], dtype='<U1')"
      ]
     },
     "execution_count": 7,
     "metadata": {},
     "output_type": "execute_result"
    }
   ],
   "source": [
    "board"
   ]
  },
  {
   "cell_type": "code",
   "execution_count": 8,
   "metadata": {
    "Collapsed": "false"
   },
   "outputs": [
    {
     "data": {
      "text/plain": [
       "array([['0', 'S', 'Q', 'S'],\n",
       "       ['Z', 'C', 'D', '0']], dtype='<U1')"
      ]
     },
     "execution_count": 8,
     "metadata": {},
     "output_type": "execute_result"
    }
   ],
   "source": [
    "a = 0\n",
    "b = 0\n",
    "x = board[a][b]\n",
    "changeB(x, board)"
   ]
  },
  {
   "cell_type": "code",
   "execution_count": 9,
   "metadata": {
    "Collapsed": "false"
   },
   "outputs": [
    {
     "data": {
      "text/plain": [
       "array([['0', 'S', 'Q', 'S'],\n",
       "       ['Z', 'C', 'D', '0']], dtype='<U1')"
      ]
     },
     "execution_count": 9,
     "metadata": {},
     "output_type": "execute_result"
    }
   ],
   "source": [
    "board"
   ]
  },
  {
   "cell_type": "code",
   "execution_count": 10,
   "metadata": {
    "Collapsed": "false"
   },
   "outputs": [],
   "source": [
    "neighbor = findN(a,b,board)"
   ]
  },
  {
   "cell_type": "code",
   "execution_count": 11,
   "metadata": {
    "Collapsed": "false"
   },
   "outputs": [
    {
     "data": {
      "text/plain": [
       "[0, 'S', 0, 'Z']"
      ]
     },
     "execution_count": 11,
     "metadata": {},
     "output_type": "execute_result"
    }
   ],
   "source": [
    "# 왼쪽 오른쪽 위쪽 아래쪽\n",
    "neighbor"
   ]
  },
  {
   "cell_type": "code",
   "execution_count": 12,
   "metadata": {
    "Collapsed": "false"
   },
   "outputs": [],
   "source": [
    "data = []\n",
    "for i in range(4):\n",
    "    if neighbor[i] != 0:\n",
    "        p = loc(i)[0]\n",
    "        q = loc(i)[1]\n",
    "        value = [p,q,neighbor[i]]\n",
    "        data.append(value)"
   ]
  },
  {
   "cell_type": "code",
   "execution_count": 13,
   "metadata": {
    "Collapsed": "false"
   },
   "outputs": [
    {
     "data": {
      "text/plain": [
       "[[1, 0, 'S'], [0, 1, 'Z']]"
      ]
     },
     "execution_count": 13,
     "metadata": {},
     "output_type": "execute_result"
    }
   ],
   "source": [
    "data"
   ]
  },
  {
   "cell_type": "code",
   "execution_count": null,
   "metadata": {
    "Collapsed": "false"
   },
   "outputs": [],
   "source": [
    "for raw in data:\n",
    "    p = "
   ]
  },
  {
   "cell_type": "code",
   "execution_count": null,
   "metadata": {
    "Collapsed": "false"
   },
   "outputs": [],
   "source": [
    "a = 0\n",
    "b = 0\n",
    "x = board[a][b]\n",
    "changeB(x, board)\n",
    "neighbor = findN(a,b,board)\n",
    "data = []\n",
    "for i in range(4):\n",
    "    if neighbor[i] != 0:\n",
    "        p = loc(i)[0]\n",
    "        q = loc(i)[1]\n",
    "        value = [p,q,neighbor[i]]\n",
    "        data.append(value)\n",
    "\n",
    "p = data[0][0]\n",
    "q = data[0][1]\n",
    "a = a+p\n",
    "b = a+q\n",
    "x = board[a][b]\n",
    "changeB(x, board)\n",
    "neighbor = findN(a,b,board)\n",
    "data = []\n",
    "for i in range(4):\n",
    "    if neighbor[i] != 0:\n",
    "        p = loc(i)[0]\n",
    "        q = loc(i)[1]\n",
    "        value = [p,q,neighbor[i]]\n",
    "        data.append(value)"
   ]
  },
  {
   "cell_type": "code",
   "execution_count": null,
   "metadata": {
    "Collapsed": "false"
   },
   "outputs": [],
   "source": [
    "def getRoute(array):\n",
    "    route = []\n",
    "    p = 0\n",
    "    q = 0\n",
    "    a += p\n",
    "    b += q\n",
    "    x = board[a][b]\n",
    "    route.append(x)\n",
    "    data = process(x, board, a, b)\n",
    "    if len(data) = 0:\n",
    "        return \n",
    "    else:\n",
    "        for raw in data:\n",
    "            p = raw[0]\n",
    "            q = raw[1]\n",
    "            x = raw[2]\n",
    "            route.append(x)\n",
    "        \n"
   ]
  },
  {
   "cell_type": "code",
   "execution_count": 5,
   "metadata": {
    "Collapsed": "false"
   },
   "outputs": [],
   "source": [
    "def lenN(neighbor):\n",
    "    data = []\n",
    "    for i in range(4):\n",
    "        if neighbor[i] != 0:\n",
    "            p = loc(i)[0]\n",
    "            q = loc(i)[1]\n",
    "            value = [p,q,neighbor[i]]\n",
    "            data.append(value)\n",
    "    return data"
   ]
  },
  {
   "cell_type": "code",
   "execution_count": 6,
   "metadata": {
    "Collapsed": "false"
   },
   "outputs": [],
   "source": [
    "def process(x, array, a, b):\n",
    "    chageB(x, array)\n",
    "    neighbor = findN(a,b,array)\n",
    "    data = lenN(neighbor)\n",
    "    return data"
   ]
  },
  {
   "cell_type": "code",
   "execution_count": null,
   "metadata": {
    "Collapsed": "false"
   },
   "outputs": [],
   "source": []
  }
 ],
 "metadata": {
  "kernelspec": {
   "display_name": "Python 3",
   "language": "python",
   "name": "python3"
  },
  "language_info": {
   "codemirror_mode": {
    "name": "ipython",
    "version": 3
   },
   "file_extension": ".py",
   "mimetype": "text/x-python",
   "name": "python",
   "nbconvert_exporter": "python",
   "pygments_lexer": "ipython3",
   "version": "3.7.6"
  }
 },
 "nbformat": 4,
 "nbformat_minor": 4
}
