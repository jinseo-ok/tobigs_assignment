{
 "cells": [
  {
   "cell_type": "code",
   "execution_count": 11,
   "metadata": {
    "Collapsed": "false"
   },
   "outputs": [
    {
     "name": "stdin",
     "output_type": "stream",
     "text": [
      " 10\n"
     ]
    }
   ],
   "source": [
    "n = int(input())\n",
    "\n",
    "number = {\n",
    "    '0' : '6',\n",
    "    '1' : '2',\n",
    "    '2' : '5',\n",
    "    '3' : '5',\n",
    "    '4' : '4',\n",
    "    '5' : '5',\n",
    "    '6' : '6',\n",
    "    '7' : '3',\n",
    "    '8' : '7',\n",
    "    '9' : '6'\n",
    "}    "
   ]
  },
  {
   "cell_type": "code",
   "execution_count": null,
   "metadata": {
    "Collapsed": "false"
   },
   "outputs": [],
   "source": [
    "length = int(n / 2)\n",
    "\n",
    "for l in range(1,length+1):\n",
    "    "
   ]
  },
  {
   "cell_type": "code",
   "execution_count": 13,
   "metadata": {
    "Collapsed": "false"
   },
   "outputs": [],
   "source": [
    "def getValue(x):\n",
    "    value = list(combinations(number.keys(),1))\n",
    "    return value"
   ]
  },
  {
   "cell_type": "code",
   "execution_count": null,
   "metadata": {
    "Collapsed": "false"
   },
   "outputs": [],
   "source": [
    "def getValue(n,x):\n",
    "    if n - 2 * x >= 4:\n",
    "        value = 9\n",
    "    else:\n",
    "        "
   ]
  },
  {
   "cell_type": "code",
   "execution_count": 19,
   "metadata": {
    "Collapsed": "false"
   },
   "outputs": [
    {
     "data": {
      "text/plain": [
       "[('0',),\n",
       " ('1',),\n",
       " ('2',),\n",
       " ('3',),\n",
       " ('4',),\n",
       " ('5',),\n",
       " ('6',),\n",
       " ('7',),\n",
       " ('8',),\n",
       " ('9',)]"
      ]
     },
     "execution_count": 19,
     "metadata": {},
     "output_type": "execute_result"
    }
   ],
   "source": [
    "value = list(combinations(number.keys(),1))\n",
    "value"
   ]
  },
  {
   "cell_type": "code",
   "execution_count": 15,
   "metadata": {
    "Collapsed": "false"
   },
   "outputs": [
    {
     "data": {
      "text/plain": [
       "'2'"
      ]
     },
     "execution_count": 15,
     "metadata": {},
     "output_type": "execute_result"
    }
   ],
   "source": [
    "if number[] < n:\n",
    "    "
   ]
  },
  {
   "cell_type": "code",
   "execution_count": 8,
   "metadata": {
    "Collapsed": "false"
   },
   "outputs": [],
   "source": [
    "from itertools import combinations\n",
    "from itertools import permutations"
   ]
  },
  {
   "cell_type": "code",
   "execution_count": null,
   "metadata": {
    "Collapsed": "false"
   },
   "outputs": [],
   "source": []
  },
  {
   "cell_type": "code",
   "execution_count": null,
   "metadata": {
    "Collapsed": "false"
   },
   "outputs": [],
   "source": []
  },
  {
   "cell_type": "code",
   "execution_count": 10,
   "metadata": {
    "Collapsed": "false"
   },
   "outputs": [
    {
     "data": {
      "text/plain": [
       "3.5"
      ]
     },
     "execution_count": 10,
     "metadata": {},
     "output_type": "execute_result"
    }
   ],
   "source": [
    "7 / 2"
   ]
  },
  {
   "cell_type": "code",
   "execution_count": 3,
   "metadata": {
    "Collapsed": "false"
   },
   "outputs": [],
   "source": [
    "from sys import stdin \n",
    "input = sys.stdin.readline \n",
    "print = sys.stdout.write"
   ]
  },
  {
   "cell_type": "code",
   "execution_count": 6,
   "metadata": {
    "Collapsed": "false"
   },
   "outputs": [
    {
     "ename": "TypeError",
     "evalue": "write() missing 1 required positional argument: 'string'",
     "output_type": "error",
     "traceback": [
      "\u001b[0;31m---------------------------------------------------------------------------\u001b[0m",
      "\u001b[0;31mTypeError\u001b[0m                                 Traceback (most recent call last)",
      "\u001b[0;32m<ipython-input-6-68d0a8ad6c69>\u001b[0m in \u001b[0;36m<module>\u001b[0;34m\u001b[0m\n\u001b[0;32m----> 1\u001b[0;31m \u001b[0mprint\u001b[0m\u001b[0;34m(\u001b[0m\u001b[0;34m)\u001b[0m\u001b[0;34m\u001b[0m\u001b[0;34m\u001b[0m\u001b[0m\n\u001b[0m",
      "\u001b[0;31mTypeError\u001b[0m: write() missing 1 required positional argument: 'string'"
     ]
    }
   ],
   "source": [
    "print()"
   ]
  },
  {
   "cell_type": "code",
   "execution_count": 7,
   "metadata": {
    "Collapsed": "false"
   },
   "outputs": [],
   "source": [
    "import numpy as np"
   ]
  },
  {
   "cell_type": "code",
   "execution_count": 28,
   "metadata": {
    "Collapsed": "false"
   },
   "outputs": [],
   "source": [
    "arr = np.arange(1,6)"
   ]
  },
  {
   "cell_type": "code",
   "execution_count": 33,
   "metadata": {
    "Collapsed": "false"
   },
   "outputs": [],
   "source": [
    "arr = [1,2,3,4,5]"
   ]
  },
  {
   "cell_type": "code",
   "execution_count": 91,
   "metadata": {
    "Collapsed": "false"
   },
   "outputs": [],
   "source": [
    "l,r = 5,9"
   ]
  },
  {
   "cell_type": "code",
   "execution_count": 92,
   "metadata": {
    "Collapsed": "false"
   },
   "outputs": [],
   "source": [
    "arr = np.arange(l+1,r+1)"
   ]
  },
  {
   "cell_type": "code",
   "execution_count": 93,
   "metadata": {
    "Collapsed": "false"
   },
   "outputs": [
    {
     "data": {
      "text/plain": [
       "array([6, 7, 8, 9])"
      ]
     },
     "execution_count": 93,
     "metadata": {},
     "output_type": "execute_result"
    }
   ],
   "source": [
    "arr"
   ]
  },
  {
   "cell_type": "code",
   "execution_count": 95,
   "metadata": {
    "Collapsed": "false"
   },
   "outputs": [],
   "source": [
    "if l % 2 == 0:\n",
    "    value = arr[0::2]\n",
    "else:\n",
    "    value = arr[1::2]"
   ]
  },
  {
   "cell_type": "code",
   "execution_count": 96,
   "metadata": {
    "Collapsed": "false"
   },
   "outputs": [
    {
     "data": {
      "text/plain": [
       "array([7, 9])"
      ]
     },
     "execution_count": 96,
     "metadata": {},
     "output_type": "execute_result"
    }
   ],
   "source": [
    "value"
   ]
  },
  {
   "cell_type": "code",
   "execution_count": 45,
   "metadata": {
    "Collapsed": "false"
   },
   "outputs": [
    {
     "data": {
      "text/plain": [
       "array([2, 4])"
      ]
     },
     "execution_count": 45,
     "metadata": {},
     "output_type": "execute_result"
    }
   ],
   "source": [
    "arr = np.arange(l,r+1)[::2]"
   ]
  },
  {
   "cell_type": "code",
   "execution_count": 35,
   "metadata": {
    "Collapsed": "false"
   },
   "outputs": [
    {
     "data": {
      "text/plain": [
       "1"
      ]
     },
     "execution_count": 35,
     "metadata": {},
     "output_type": "execute_result"
    }
   ],
   "source": [
    "arr.count(5)"
   ]
  },
  {
   "cell_type": "code",
   "execution_count": 36,
   "metadata": {
    "Collapsed": "false"
   },
   "outputs": [
    {
     "data": {
      "text/plain": [
       "0"
      ]
     },
     "execution_count": 36,
     "metadata": {},
     "output_type": "execute_result"
    }
   ],
   "source": [
    "arr.count(6)"
   ]
  },
  {
   "cell_type": "code",
   "execution_count": 30,
   "metadata": {
    "Collapsed": "false"
   },
   "outputs": [],
   "source": [
    "k = 5\n",
    "try:\n",
    "    np.where(arr == k)[0][0]\n",
    "    value = 'YES'\n",
    "except:\n",
    "    value = 'NO'"
   ]
  },
  {
   "cell_type": "code",
   "execution_count": 31,
   "metadata": {
    "Collapsed": "false"
   },
   "outputs": [
    {
     "data": {
      "text/plain": [
       "'YES'"
      ]
     },
     "execution_count": 31,
     "metadata": {},
     "output_type": "execute_result"
    }
   ],
   "source": [
    "value"
   ]
  },
  {
   "cell_type": "code",
   "execution_count": 3,
   "metadata": {
    "Collapsed": "false"
   },
   "outputs": [],
   "source": [
    "a = 3\n",
    "b = 5"
   ]
  },
  {
   "cell_type": "code",
   "execution_count": 4,
   "metadata": {
    "Collapsed": "false"
   },
   "outputs": [
    {
     "ename": "AttributeError",
     "evalue": "'int' object has no attribute 'mod'",
     "output_type": "error",
     "traceback": [
      "\u001b[0;31m---------------------------------------------------------------------------\u001b[0m",
      "\u001b[0;31mAttributeError\u001b[0m                            Traceback (most recent call last)",
      "\u001b[0;32m<ipython-input-4-5122b8e0200a>\u001b[0m in \u001b[0;36m<module>\u001b[0;34m\u001b[0m\n\u001b[0;32m----> 1\u001b[0;31m \u001b[0;34m(\u001b[0m\u001b[0ma\u001b[0m\u001b[0;34m+\u001b[0m\u001b[0mb\u001b[0m\u001b[0;34m)\u001b[0m\u001b[0;34m.\u001b[0m\u001b[0mmod\u001b[0m\u001b[0;34m(\u001b[0m\u001b[0;34m)\u001b[0m\u001b[0;34m\u001b[0m\u001b[0;34m\u001b[0m\u001b[0m\n\u001b[0m",
      "\u001b[0;31mAttributeError\u001b[0m: 'int' object has no attribute 'mod'"
     ]
    }
   ],
   "source": [
    "(a+b).mod()"
   ]
  },
  {
   "cell_type": "code",
   "execution_count": 110,
   "metadata": {
    "Collapsed": "false"
   },
   "outputs": [
    {
     "data": {
      "text/plain": [
       "(1, 7, 6)"
      ]
     },
     "execution_count": 110,
     "metadata": {},
     "output_type": "execute_result"
    }
   ],
   "source": [
    "a & b, a | b, a ^ b"
   ]
  },
  {
   "cell_type": "code",
   "execution_count": 100,
   "metadata": {
    "Collapsed": "false"
   },
   "outputs": [],
   "source": [
    "import numpy as np\n",
    "from itertools import combinations"
   ]
  },
  {
   "cell_type": "code",
   "execution_count": 13,
   "metadata": {
    "Collapsed": "false"
   },
   "outputs": [],
   "source": [
    "a = 4\n",
    "b = 1000\n",
    "k = 80\n",
    "arr = np.arange(a,b+1)\n",
    "\n",
    "com = list(combinations(arr, 2))"
   ]
  },
  {
   "cell_type": "code",
   "execution_count": 14,
   "metadata": {
    "Collapsed": "false"
   },
   "outputs": [],
   "source": [
    "res = list(map(lambda x : x[0]^x[1], com))"
   ]
  },
  {
   "cell_type": "code",
   "execution_count": 19,
   "metadata": {
    "Collapsed": "false"
   },
   "outputs": [
    {
     "data": {
      "text/plain": [
       "496506"
      ]
     },
     "execution_count": 19,
     "metadata": {},
     "output_type": "execute_result"
    }
   ],
   "source": [
    "len(res)"
   ]
  },
  {
   "cell_type": "code",
   "execution_count": 20,
   "metadata": {
    "Collapsed": "false"
   },
   "outputs": [
    {
     "data": {
      "text/plain": [
       "1000005"
      ]
     },
     "execution_count": 20,
     "metadata": {},
     "output_type": "execute_result"
    }
   ],
   "source": [
    "5 ^ 1000000"
   ]
  },
  {
   "cell_type": "code",
   "execution_count": 22,
   "metadata": {
    "Collapsed": "false"
   },
   "outputs": [
    {
     "data": {
      "text/plain": [
       "127"
      ]
     },
     "execution_count": 22,
     "metadata": {},
     "output_type": "execute_result"
    }
   ],
   "source": [
    "999999 ^ 1000000"
   ]
  },
  {
   "cell_type": "code",
   "execution_count": 25,
   "metadata": {
    "Collapsed": "false"
   },
   "outputs": [
    {
     "data": {
      "text/plain": [
       "('0b11110100001000111111', '0b11110100001001000000')"
      ]
     },
     "execution_count": 25,
     "metadata": {},
     "output_type": "execute_result"
    }
   ],
   "source": [
    "bin(999999), bin(1000000)"
   ]
  },
  {
   "cell_type": "code",
   "execution_count": null,
   "metadata": {
    "Collapsed": "false"
   },
   "outputs": [],
   "source": []
  },
  {
   "cell_type": "code",
   "execution_count": 18,
   "metadata": {
    "Collapsed": "false"
   },
   "outputs": [],
   "source": [
    "c = []\n",
    "for elem in com:\n",
    "    if elem[0]^elem[1] >= k:\n",
    "        break\n",
    "    else:\n",
    "        c.append(elem[0]^elem[1])"
   ]
  },
  {
   "cell_type": "code",
   "execution_count": null,
   "metadata": {
    "Collapsed": "false"
   },
   "outputs": [],
   "source": [
    "100 101\n",
    "100 1000\n",
    "100 111\n",
    "100 1001\n",
    "100 "
   ]
  },
  {
   "cell_type": "code",
   "execution_count": 40,
   "metadata": {
    "Collapsed": "false"
   },
   "outputs": [
    {
     "data": {
      "text/plain": [
       "72"
      ]
     },
     "execution_count": 40,
     "metadata": {},
     "output_type": "execute_result"
    }
   ],
   "source": [
    "4 ^ 76"
   ]
  },
  {
   "cell_type": "code",
   "execution_count": 27,
   "metadata": {
    "Collapsed": "false"
   },
   "outputs": [
    {
     "name": "stdin",
     "output_type": "stream",
     "text": [
      " 2\n",
      " 4\n",
      " 8\n"
     ]
    },
    {
     "name": "stdout",
     "output_type": "stream",
     "text": [
      "7\n"
     ]
    }
   ],
   "source": [
    "def maximizing_xor(l, r, k):\n",
    "    xor = l ^ r\n",
    "    n = 0\n",
    "    while xor:\n",
    "        n += 1\n",
    "        xor >>= 1\n",
    "        \n",
    "    value = 2**n - 1 if 2**n - 1 <= k else k-1\n",
    "    return value\n",
    "\n",
    "\n",
    "l = int(input())\n",
    "r = int(input())\n",
    "k = int(input())\n",
    "result = maximizing_xor(l, r, k)\n",
    "print(result)"
   ]
  },
  {
   "cell_type": "code",
   "execution_count": 6,
   "metadata": {
    "Collapsed": "false"
   },
   "outputs": [
    {
     "data": {
      "text/plain": [
       "5"
      ]
     },
     "execution_count": 6,
     "metadata": {},
     "output_type": "execute_result"
    }
   ],
   "source": [
    "2 ** (3) - 3"
   ]
  },
  {
   "cell_type": "code",
   "execution_count": 81,
   "metadata": {
    "Collapsed": "false"
   },
   "outputs": [],
   "source": [
    "a = ['bcfgijhgacaadcehhdajcfhghajjjfjefjjidhgbfedaeidgabdifeagfhdbgbecfcehjhbbahgaieghggfdheehhjbiffdfhidggaefefibbbihbgcejbgdhcbjgahaejadeahidjfjehdcfdjhggcidbfaffacjgbgaiafibjcjgcachhchiddehcieadjjieihdejbiceeghcgd','qtnpprsuqnssurpuqnspllnnrquqquqnmtunurtrturpmonrrrorulnlqqpooppottsutotmsnqtqmqtlnspulspmoltrmqlspsuporrqrnpmuppnuqpsqmm']"
   ]
  },
  {
   "cell_type": "code",
   "execution_count": 79,
   "metadata": {
    "Collapsed": "false"
   },
   "outputs": [],
   "source": [
    "b = 'bcfgijhgacaadcehhdajcfhghajjjfjefjjidhgbfedaeidgabdifeagfhdbgbecfcehjhbbahgaieghggfdheehhjbiffdfhidggaefefibbbihbgcejbgdhcbjgahaejadeahidjfjehdcfdjhggcidbfaffacjgbgaiafibjcjgcachhchiddehcieadjjieihdejbiceeghcgd'"
   ]
  },
  {
   "cell_type": "code",
   "execution_count": 85,
   "metadata": {
    "Collapsed": "false"
   },
   "outputs": [
    {
     "data": {
      "text/plain": [
       "'bcfgijhgacaadcehhdajcfhghajjjfjefjjidhgbfedaeidgabdifeagfhdbgbecfcehjhbbahgaieghggfdheehhjbiffdfhidggaefefibbbihbgcejbgdhcbjgahaejadeahidjfjehdcfdjhggcidbfaffacjgbgaiafibjcjgcachhchiddehcieadjjieihdejbiceeghcgdqtnpprsuqnssurpuqnspllnnrquqquqnmtunurtrturpmonrrrorulnlqqpooppottsutotmsnqtqmqtlnspulspmoltrmqlspsuporrqrnpmuppnuqpsqmm'"
      ]
     },
     "execution_count": 85,
     "metadata": {},
     "output_type": "execute_result"
    }
   ],
   "source": [
    "''.join(a)"
   ]
  },
  {
   "cell_type": "code",
   "execution_count": 83,
   "metadata": {
    "Collapsed": "false"
   },
   "outputs": [
    {
     "data": {
      "text/plain": [
       "330"
      ]
     },
     "execution_count": 83,
     "metadata": {},
     "output_type": "execute_result"
    }
   ],
   "source": [
    "len(''.join(a))"
   ]
  },
  {
   "cell_type": "code",
   "execution_count": 84,
   "metadata": {
    "Collapsed": "false"
   },
   "outputs": [
    {
     "data": {
      "text/plain": [
       "20"
      ]
     },
     "execution_count": 84,
     "metadata": {},
     "output_type": "execute_result"
    }
   ],
   "source": [
    "len(set(''.join(a)))"
   ]
  },
  {
   "cell_type": "code",
   "execution_count": 91,
   "metadata": {
    "Collapsed": "false"
   },
   "outputs": [
    {
     "data": {
      "text/plain": [
       "['bcfgijhgacaadcehhdajcfhghajjjfjefjjidhgbfedaeidgabdifeagfhdbgbecfcehjhbbahgaieghggfdheehhjbiffdfhidggaefefibbbihbgcejbgdhcbjgahaejadeahidjfjehdcfdjhggcidbfaffacjgbgaiafibjcjgcachhchiddehcieadjjieihdejbiceeghcgd',\n",
       " 'qtnpprsuqnssurpuqnspllnnrquqquqnmtunurtrturpmonrrrorulnlqqpooppottsutotmsnqtqmqtlnspulspmoltrmqlspsuporrqrnpmuppnuqpsqmm']"
      ]
     },
     "execution_count": 91,
     "metadata": {},
     "output_type": "execute_result"
    }
   ],
   "source": [
    "a"
   ]
  },
  {
   "cell_type": "code",
   "execution_count": 92,
   "metadata": {
    "Collapsed": "false"
   },
   "outputs": [
    {
     "data": {
      "text/plain": [
       "['djcahfebig', 'pnulqstrmo']"
      ]
     },
     "execution_count": 92,
     "metadata": {},
     "output_type": "execute_result"
    }
   ],
   "source": [
    "list(map(lambda x: ''.join(set(x)), a))"
   ]
  },
  {
   "cell_type": "code",
   "execution_count": 88,
   "metadata": {
    "Collapsed": "false"
   },
   "outputs": [
    {
     "data": {
      "text/plain": [
       "[{'hello', 'world'},\n",
       " {'bcfgijhgacaadcehhdajcfhghajjjfjefjjidhgbfedaeidgabdifeagfhdbgbecfcehjhbbahgaieghggfdheehhjbiffdfhidggaefefibbbihbgcejbgdhcbjgahaejadeahidjfjehdcfdjhggcidbfaffacjgbgaiafibjcjgcachhchiddehcieadjjieihdejbiceeghcgd',\n",
       "  'bpmmmptqusptpssumnqpmquurltrsuutsluomtqrpurntrqmmmtmrsrntqqsqlrtrsrpoommululporstrrrlsltuopqtnpprsuqnssurpuqnspllnnrquqquqnmtunurtrturpmonrrrorulnlqqpooppottsutotmsnqtqmqtlnspulspmoltrmqlspsuporrqrnpmuppnuqpsqmmye'}]"
      ]
     },
     "execution_count": 88,
     "metadata": {},
     "output_type": "execute_result"
    }
   ],
   "source": [
    "list(map(lambda x : set(x), c))"
   ]
  },
  {
   "cell_type": "code",
   "execution_count": 68,
   "metadata": {
    "Collapsed": "false"
   },
   "outputs": [],
   "source": [
    "a = ['world', 'bcfgijhgacaadcehhdajcfhghajjjfjefjjidhgbfedaeidgabdifeagfhdbgbecfcehjhbbahgaieghggfdheehhjbiffdfhidggaefefibbbihbgcejbgdhcbjgahaejadeahidjfjehdcfdjhggcidbfaffacjgbgaiafibjcjgcachhchiddehcieadjjieihdejbiceeghcgd']\n",
    "b = ['hello', 'bpmmmptqusptpssumnqpmquurltrsuutsluomtqrpurntrqmmmtmrsrntqqsqlrtrsrpoommululporstrrrlsltuopqtnpprsuqnssurpuqnspllnnrquqquqnmtunurtrturpmonrrrorulnlqqpooppottsutotmsnqtqmqtlnspulspmoltrmqlspsuporrqrnpmuppnuqpsqmmye']"
   ]
  },
  {
   "cell_type": "code",
   "execution_count": 69,
   "metadata": {
    "Collapsed": "false"
   },
   "outputs": [],
   "source": [
    "c = list(zip(a,b))"
   ]
  },
  {
   "cell_type": "code",
   "execution_count": 70,
   "metadata": {
    "Collapsed": "false"
   },
   "outputs": [],
   "source": [
    "t1 = [len(''.join(i)) for i in c]"
   ]
  },
  {
   "cell_type": "code",
   "execution_count": 72,
   "metadata": {
    "Collapsed": "false"
   },
   "outputs": [],
   "source": [
    "t2 = [len(set(''.join(i))) for i in c]"
   ]
  },
  {
   "cell_type": "code",
   "execution_count": 76,
   "metadata": {
    "Collapsed": "false"
   },
   "outputs": [
    {
     "data": {
      "text/plain": [
       "['YES', 'YES']"
      ]
     },
     "execution_count": 76,
     "metadata": {},
     "output_type": "execute_result"
    }
   ],
   "source": [
    "['NO' if e1 == e2 else 'YES' for e1, e2 in list(zip(t1,t2))]"
   ]
  },
  {
   "cell_type": "code",
   "execution_count": 49,
   "metadata": {
    "Collapsed": "false"
   },
   "outputs": [],
   "source": [
    "t2 = [len(set(''.join(i))) for i in c]"
   ]
  },
  {
   "cell_type": "code",
   "execution_count": 54,
   "metadata": {
    "Collapsed": "false"
   },
   "outputs": [],
   "source": [
    "res = ['yes' if (e1 - e2) == 0 else 'no' for e1, e2 in zip(t1,t2) ]"
   ]
  },
  {
   "cell_type": "code",
   "execution_count": 57,
   "metadata": {
    "Collapsed": "false"
   },
   "outputs": [
    {
     "name": "stdout",
     "output_type": "stream",
     "text": [
      "['no', 'yes'] \n",
      "\n"
     ]
    }
   ],
   "source": [
    "print(res, '\\n')"
   ]
  },
  {
   "cell_type": "code",
   "execution_count": 28,
   "metadata": {
    "Collapsed": "false"
   },
   "outputs": [
    {
     "data": {
      "text/plain": [
       "['hello', 'world']"
      ]
     },
     "execution_count": 28,
     "metadata": {},
     "output_type": "execute_result"
    }
   ],
   "source": [
    "a = ['hello', 'world']\n",
    "a"
   ]
  },
  {
   "cell_type": "code",
   "execution_count": 33,
   "metadata": {
    "Collapsed": "false"
   },
   "outputs": [
    {
     "data": {
      "text/plain": [
       "10"
      ]
     },
     "execution_count": 33,
     "metadata": {},
     "output_type": "execute_result"
    }
   ],
   "source": [
    "len(''.join(a))"
   ]
  },
  {
   "cell_type": "code",
   "execution_count": 34,
   "metadata": {
    "Collapsed": "false"
   },
   "outputs": [
    {
     "data": {
      "text/plain": [
       "7"
      ]
     },
     "execution_count": 34,
     "metadata": {},
     "output_type": "execute_result"
    }
   ],
   "source": [
    "len(set(''.join(a)))"
   ]
  },
  {
   "cell_type": "code",
   "execution_count": 47,
   "metadata": {
    "Collapsed": "false"
   },
   "outputs": [
    {
     "data": {
      "text/plain": [
       "297"
      ]
     },
     "execution_count": 47,
     "metadata": {},
     "output_type": "execute_result"
    }
   ],
   "source": [
    "xor = 5 ^ 300\n",
    "n = 0 \n",
    "xor"
   ]
  },
  {
   "cell_type": "code",
   "execution_count": 10,
   "metadata": {
    "Collapsed": "false"
   },
   "outputs": [
    {
     "ename": "NameError",
     "evalue": "name 'res' is not defined",
     "output_type": "error",
     "traceback": [
      "\u001b[0;31m---------------------------------------------------------------------------\u001b[0m",
      "\u001b[0;31mNameError\u001b[0m                                 Traceback (most recent call last)",
      "\u001b[0;32m<ipython-input-10-c08785e04264>\u001b[0m in \u001b[0;36m<module>\u001b[0;34m\u001b[0m\n\u001b[0;32m----> 1\u001b[0;31m \u001b[0mres\u001b[0m\u001b[0;34m\u001b[0m\u001b[0;34m\u001b[0m\u001b[0m\n\u001b[0m",
      "\u001b[0;31mNameError\u001b[0m: name 'res' is not defined"
     ]
    }
   ],
   "source": [
    "res"
   ]
  },
  {
   "cell_type": "code",
   "execution_count": 15,
   "metadata": {
    "Collapsed": "false"
   },
   "outputs": [
    {
     "ename": "SyntaxError",
     "evalue": "invalid syntax (<ipython-input-15-574bc3af3e6d>, line 1)",
     "output_type": "error",
     "traceback": [
      "\u001b[0;36m  File \u001b[0;32m\"<ipython-input-15-574bc3af3e6d>\"\u001b[0;36m, line \u001b[0;32m1\u001b[0m\n\u001b[0;31m    c = [elem[0]^elem[1] if elem[0]^elem[1] >= k break for elem in com]\u001b[0m\n\u001b[0m                                                     ^\u001b[0m\n\u001b[0;31mSyntaxError\u001b[0m\u001b[0;31m:\u001b[0m invalid syntax\n"
     ]
    }
   ],
   "source": [
    "c = [elem[0]^elem[1] if elem[0]^elem[1] >= k  for elem in com]"
   ]
  },
  {
   "cell_type": "code",
   "execution_count": 11,
   "metadata": {
    "Collapsed": "false"
   },
   "outputs": [
    {
     "data": {
      "text/plain": [
       "127"
      ]
     },
     "execution_count": 11,
     "metadata": {},
     "output_type": "execute_result"
    }
   ],
   "source": [
    "max(res)"
   ]
  },
  {
   "cell_type": "code",
   "execution_count": 23,
   "metadata": {
    "Collapsed": "false"
   },
   "outputs": [],
   "source": [
    "index = max(list(map(lambda x : 0 if x > k else x, res)))"
   ]
  },
  {
   "cell_type": "code",
   "execution_count": 24,
   "metadata": {
    "Collapsed": "false"
   },
   "outputs": [
    {
     "data": {
      "text/plain": [
       "79"
      ]
     },
     "execution_count": 24,
     "metadata": {},
     "output_type": "execute_result"
    }
   ],
   "source": [
    "res.index(index)"
   ]
  },
  {
   "cell_type": "code",
   "execution_count": 148,
   "metadata": {
    "Collapsed": "false"
   },
   "outputs": [
    {
     "data": {
      "text/plain": [
       "(3, 5)"
      ]
     },
     "execution_count": 148,
     "metadata": {},
     "output_type": "execute_result"
    }
   ],
   "source": [
    "com[1]"
   ]
  },
  {
   "cell_type": "code",
   "execution_count": 220,
   "metadata": {
    "Collapsed": "false"
   },
   "outputs": [],
   "source": [
    "arr = [6,6,3,9,3,5,1]"
   ]
  },
  {
   "cell_type": "code",
   "execution_count": 97,
   "metadata": {
    "Collapsed": "false"
   },
   "outputs": [],
   "source": [
    "target = np.arange(1,12)"
   ]
  },
  {
   "cell_type": "code",
   "execution_count": 139,
   "metadata": {
    "Collapsed": "false"
   },
   "outputs": [
    {
     "data": {
      "text/plain": [
       "[[1, 11], [2, 10], [3, 9], [4, 8], [5, 7], [6, 6]]"
      ]
     },
     "execution_count": 139,
     "metadata": {},
     "output_type": "execute_result"
    }
   ],
   "source": [
    "[[target[i], target[k-2-i]] for i in range(int((k-2)/2)+1)]"
   ]
  },
  {
   "cell_type": "code",
   "execution_count": 135,
   "metadata": {
    "Collapsed": "false"
   },
   "outputs": [],
   "source": [
    "k = 12\n",
    "target = np.arange(1,k)\n",
    "com = []\n",
    "for i in range(int((k-2)/2)+1):\n",
    "    v = [target[i], target[k-2-i]]\n",
    "    com.append(v)"
   ]
  },
  {
   "cell_type": "code",
   "execution_count": 226,
   "metadata": {
    "Collapsed": "false"
   },
   "outputs": [
    {
     "data": {
      "text/plain": [
       "{1, 3, 5, 6, 9}"
      ]
     },
     "execution_count": 226,
     "metadata": {},
     "output_type": "execute_result"
    }
   ],
   "source": [
    "set(arr)"
   ]
  },
  {
   "cell_type": "code",
   "execution_count": 275,
   "metadata": {
    "Collapsed": "false"
   },
   "outputs": [],
   "source": [
    "e = list(combinations(set(arr),2))"
   ]
  },
  {
   "cell_type": "code",
   "execution_count": 228,
   "metadata": {
    "Collapsed": "false"
   },
   "outputs": [
    {
     "data": {
      "text/plain": [
       "4"
      ]
     },
     "execution_count": 228,
     "metadata": {},
     "output_type": "execute_result"
    }
   ],
   "source": [
    "sum(e[0])"
   ]
  },
  {
   "cell_type": "code",
   "execution_count": 229,
   "metadata": {
    "Collapsed": "false"
   },
   "outputs": [
    {
     "data": {
      "text/plain": [
       "[(1, 3),\n",
       " (1, 5),\n",
       " (1, 6),\n",
       " (1, 9),\n",
       " (3, 5),\n",
       " (3, 6),\n",
       " (3, 9),\n",
       " (5, 6),\n",
       " (5, 9),\n",
       " (6, 9)]"
      ]
     },
     "execution_count": 229,
     "metadata": {},
     "output_type": "execute_result"
    }
   ],
   "source": []
  },
  {
   "cell_type": "code",
   "execution_count": 225,
   "metadata": {
    "Collapsed": "false"
   },
   "outputs": [
    {
     "data": {
      "text/plain": [
       "[6, 6, 3, 9, 3, 5, 1]"
      ]
     },
     "execution_count": 225,
     "metadata": {},
     "output_type": "execute_result"
    }
   ],
   "source": [
    "arr = [6,6,3,9,3,5,1]\n",
    "arr"
   ]
  },
  {
   "cell_type": "code",
   "execution_count": 213,
   "metadata": {
    "Collapsed": "false"
   },
   "outputs": [],
   "source": [
    "k = 5"
   ]
  },
  {
   "cell_type": "code",
   "execution_count": 218,
   "metadata": {
    "Collapsed": "false"
   },
   "outputs": [
    {
     "data": {
      "text/plain": [
       "[None, 3, None, None]"
      ]
     },
     "execution_count": 218,
     "metadata": {},
     "output_type": "execute_result"
    }
   ],
   "source": [
    "list(map(lambda x : x if x < k else arr.remove(x), arr))"
   ]
  },
  {
   "cell_type": "code",
   "execution_count": 219,
   "metadata": {
    "Collapsed": "false"
   },
   "outputs": [
    {
     "data": {
      "text/plain": [
       "[6, 3, 3, 1]"
      ]
     },
     "execution_count": 219,
     "metadata": {},
     "output_type": "execute_result"
    }
   ],
   "source": [
    "arr"
   ]
  },
  {
   "cell_type": "code",
   "execution_count": 231,
   "metadata": {
    "Collapsed": "false"
   },
   "outputs": [],
   "source": [
    "k = 12"
   ]
  },
  {
   "cell_type": "code",
   "execution_count": 234,
   "metadata": {
    "Collapsed": "false"
   },
   "outputs": [
    {
     "data": {
      "text/plain": [
       "6"
      ]
     },
     "execution_count": 234,
     "metadata": {},
     "output_type": "execute_result"
    }
   ],
   "source": [
    "int(k / 2)"
   ]
  },
  {
   "cell_type": "code",
   "execution_count": 235,
   "metadata": {
    "Collapsed": "false"
   },
   "outputs": [
    {
     "data": {
      "text/plain": [
       "2"
      ]
     },
     "execution_count": 235,
     "metadata": {},
     "output_type": "execute_result"
    }
   ],
   "source": [
    "arr.count(int(k/2))"
   ]
  },
  {
   "cell_type": "code",
   "execution_count": 221,
   "metadata": {
    "Collapsed": "false"
   },
   "outputs": [
    {
     "data": {
      "text/plain": [
       "[6, 6, 3, 9, 3, 5, 1]"
      ]
     },
     "execution_count": 221,
     "metadata": {},
     "output_type": "execute_result"
    }
   ],
   "source": [
    "arr"
   ]
  },
  {
   "cell_type": "code",
   "execution_count": 222,
   "metadata": {
    "Collapsed": "false"
   },
   "outputs": [
    {
     "data": {
      "text/plain": [
       "{1, 3, 5, 6, 9}"
      ]
     },
     "execution_count": 222,
     "metadata": {},
     "output_type": "execute_result"
    }
   ],
   "source": [
    "set(arr)"
   ]
  },
  {
   "cell_type": "code",
   "execution_count": 242,
   "metadata": {
    "Collapsed": "false"
   },
   "outputs": [
    {
     "data": {
      "text/plain": [
       "6"
      ]
     },
     "execution_count": 242,
     "metadata": {},
     "output_type": "execute_result"
    }
   ],
   "source": [
    "list(map(sum, com)).count(12)"
   ]
  },
  {
   "cell_type": "code",
   "execution_count": 243,
   "metadata": {
    "Collapsed": "false"
   },
   "outputs": [
    {
     "data": {
      "text/plain": [
       "[6, 6, 3, 9, 3, 5, 1]"
      ]
     },
     "execution_count": 243,
     "metadata": {},
     "output_type": "execute_result"
    }
   ],
   "source": [
    "arr"
   ]
  },
  {
   "cell_type": "code",
   "execution_count": 247,
   "metadata": {
    "Collapsed": "false"
   },
   "outputs": [
    {
     "data": {
      "text/plain": [
       "{-11, -9, -7, -6, -3}"
      ]
     },
     "execution_count": 247,
     "metadata": {},
     "output_type": "execute_result"
    }
   ],
   "source": [
    "set(list(map(lambda x : x-12, set(arr))))"
   ]
  },
  {
   "cell_type": "code",
   "execution_count": 257,
   "metadata": {
    "Collapsed": "false"
   },
   "outputs": [],
   "source": [
    "temp = np.arange(1, 10**5)"
   ]
  },
  {
   "cell_type": "code",
   "execution_count": 260,
   "metadata": {
    "Collapsed": "false"
   },
   "outputs": [],
   "source": [
    "import datetime"
   ]
  },
  {
   "cell_type": "code",
   "execution_count": 261,
   "metadata": {
    "Collapsed": "false"
   },
   "outputs": [
    {
     "name": "stdout",
     "output_type": "stream",
     "text": [
      "0:00:10.083472\n"
     ]
    }
   ],
   "source": [
    "now = datetime.datetime.now()\n",
    "a = list(combinations(temp,2))\n",
    "print(datetime.datetime.now() - now)"
   ]
  },
  {
   "cell_type": "code",
   "execution_count": 276,
   "metadata": {
    "Collapsed": "false"
   },
   "outputs": [
    {
     "data": {
      "text/plain": [
       "[(1, 3),\n",
       " (1, 5),\n",
       " (1, 6),\n",
       " (1, 9),\n",
       " (3, 5),\n",
       " (3, 6),\n",
       " (3, 9),\n",
       " (5, 6),\n",
       " (5, 9),\n",
       " (6, 9)]"
      ]
     },
     "execution_count": 276,
     "metadata": {},
     "output_type": "execute_result"
    }
   ],
   "source": [
    "e"
   ]
  },
  {
   "cell_type": "code",
   "execution_count": 277,
   "metadata": {
    "Collapsed": "false"
   },
   "outputs": [],
   "source": [
    "e = list(map(sum, e))"
   ]
  },
  {
   "cell_type": "code",
   "execution_count": 283,
   "metadata": {
    "Collapsed": "false"
   },
   "outputs": [],
   "source": [
    "e.append(12)\n"
   ]
  },
  {
   "cell_type": "code",
   "execution_count": 284,
   "metadata": {
    "Collapsed": "false"
   },
   "outputs": [
    {
     "data": {
      "text/plain": [
       "[4, 6, 7, 10, 8, 9, 12, 11, 14, 15, 12]"
      ]
     },
     "execution_count": 284,
     "metadata": {},
     "output_type": "execute_result"
    }
   ],
   "source": [
    "e"
   ]
  },
  {
   "cell_type": "code",
   "execution_count": 287,
   "metadata": {
    "Collapsed": "false"
   },
   "outputs": [
    {
     "data": {
      "text/plain": [
       "2"
      ]
     },
     "execution_count": 287,
     "metadata": {},
     "output_type": "execute_result"
    }
   ],
   "source": [
    "len(np.where(np.array(e) == 12)[0])"
   ]
  },
  {
   "cell_type": "code",
   "execution_count": 268,
   "metadata": {
    "Collapsed": "false"
   },
   "outputs": [
    {
     "data": {
      "text/plain": [
       "array([ 4,  6,  7, 10,  8,  9, 12, 11, 14, 15])"
      ]
     },
     "execution_count": 268,
     "metadata": {},
     "output_type": "execute_result"
    }
   ],
   "source": [
    "np.array(e)"
   ]
  },
  {
   "cell_type": "code",
   "execution_count": 250,
   "metadata": {
    "Collapsed": "false"
   },
   "outputs": [
    {
     "data": {
      "text/plain": [
       "10000000"
      ]
     },
     "execution_count": 250,
     "metadata": {},
     "output_type": "execute_result"
    }
   ],
   "source": [
    "10**7"
   ]
  },
  {
   "cell_type": "code",
   "execution_count": 142,
   "metadata": {
    "Collapsed": "false"
   },
   "outputs": [
    {
     "data": {
      "text/plain": [
       "50000000"
      ]
     },
     "execution_count": 142,
     "metadata": {},
     "output_type": "execute_result"
    }
   ],
   "source": [
    "5 * 10**7"
   ]
  },
  {
   "cell_type": "code",
   "execution_count": 136,
   "metadata": {
    "Collapsed": "false"
   },
   "outputs": [
    {
     "data": {
      "text/plain": [
       "[[1, 11], [2, 10], [3, 9], [4, 8], [5, 7], [6, 6]]"
      ]
     },
     "execution_count": 136,
     "metadata": {},
     "output_type": "execute_result"
    }
   ],
   "source": [
    "com"
   ]
  },
  {
   "cell_type": "code",
   "execution_count": 137,
   "metadata": {
    "Collapsed": "false"
   },
   "outputs": [],
   "source": [
    "count = 0\n",
    "for elem in com:\n",
    "    if arr.count(elem[0]) != 0:\n",
    "        if arr.count(elem[1]) != 0:\n",
    "            count += 1"
   ]
  },
  {
   "cell_type": "code",
   "execution_count": 138,
   "metadata": {
    "Collapsed": "false"
   },
   "outputs": [
    {
     "data": {
      "text/plain": [
       "2"
      ]
     },
     "execution_count": 138,
     "metadata": {},
     "output_type": "execute_result"
    }
   ],
   "source": [
    "count"
   ]
  },
  {
   "cell_type": "code",
   "execution_count": 304,
   "metadata": {
    "Collapsed": "false"
   },
   "outputs": [],
   "source": [
    "k = 6000"
   ]
  },
  {
   "cell_type": "code",
   "execution_count": 290,
   "metadata": {
    "Collapsed": "false"
   },
   "outputs": [],
   "source": [
    "arr = np.arange(1,10000)"
   ]
  },
  {
   "cell_type": "code",
   "execution_count": 311,
   "metadata": {
    "Collapsed": "false"
   },
   "outputs": [],
   "source": [
    "temp = list(map(lambda x : abs(x-6000), arr))"
   ]
  },
  {
   "cell_type": "code",
   "execution_count": 315,
   "metadata": {
    "Collapsed": "false"
   },
   "outputs": [
    {
     "data": {
      "text/plain": [
       "6000"
      ]
     },
     "execution_count": 315,
     "metadata": {},
     "output_type": "execute_result"
    }
   ],
   "source": [
    "len(set(temp))"
   ]
  },
  {
   "cell_type": "code",
   "execution_count": 329,
   "metadata": {
    "Collapsed": "false"
   },
   "outputs": [],
   "source": [
    "arr = [6,3,9,3,5,1,7]\n",
    "k = 12"
   ]
  },
  {
   "cell_type": "code",
   "execution_count": 330,
   "metadata": {
    "Collapsed": "false"
   },
   "outputs": [],
   "source": [
    "temp = list(map(lambda x : 12-x, set(arr)))"
   ]
  },
  {
   "cell_type": "code",
   "execution_count": 331,
   "metadata": {
    "Collapsed": "false"
   },
   "outputs": [
    {
     "data": {
      "text/plain": [
       "[11, 9, 7, 6, 5, 3]"
      ]
     },
     "execution_count": 331,
     "metadata": {},
     "output_type": "execute_result"
    }
   ],
   "source": [
    "temp"
   ]
  },
  {
   "cell_type": "code",
   "execution_count": 332,
   "metadata": {
    "Collapsed": "false"
   },
   "outputs": [],
   "source": [
    "count = 0\n",
    "for elem in temp:\n",
    "    if elem in arr:\n",
    "        count += 1"
   ]
  },
  {
   "cell_type": "code",
   "execution_count": 333,
   "metadata": {
    "Collapsed": "false"
   },
   "outputs": [
    {
     "data": {
      "text/plain": [
       "5"
      ]
     },
     "execution_count": 333,
     "metadata": {},
     "output_type": "execute_result"
    }
   ],
   "source": [
    "count"
   ]
  },
  {
   "cell_type": "code",
   "execution_count": 325,
   "metadata": {
    "Collapsed": "false"
   },
   "outputs": [
    {
     "ename": "SyntaxError",
     "evalue": "invalid syntax (<ipython-input-325-7b3cfba2f9ad>, line 1)",
     "output_type": "error",
     "traceback": [
      "\u001b[0;36m  File \u001b[0;32m\"<ipython-input-325-7b3cfba2f9ad>\"\u001b[0;36m, line \u001b[0;32m1\u001b[0m\n\u001b[0;31m    [count += 1 if elem in arr for elem in temp]\u001b[0m\n\u001b[0m            ^\u001b[0m\n\u001b[0;31mSyntaxError\u001b[0m\u001b[0;31m:\u001b[0m invalid syntax\n"
     ]
    }
   ],
   "source": [
    "[count += 1 if elem in arr for elem in temp]"
   ]
  },
  {
   "cell_type": "code",
   "execution_count": 347,
   "metadata": {
    "Collapsed": "false"
   },
   "outputs": [
    {
     "data": {
      "text/plain": [
       "[1, 3, 5, 6, 7, 9]"
      ]
     },
     "execution_count": 347,
     "metadata": {},
     "output_type": "execute_result"
    }
   ],
   "source": [
    "list(set(arr))"
   ]
  },
  {
   "cell_type": "code",
   "execution_count": 336,
   "metadata": {
    "Collapsed": "false"
   },
   "outputs": [
    {
     "data": {
      "text/plain": [
       "12"
      ]
     },
     "execution_count": 336,
     "metadata": {},
     "output_type": "execute_result"
    }
   ],
   "source": [
    "k"
   ]
  },
  {
   "cell_type": "code",
   "execution_count": 341,
   "metadata": {
    "Collapsed": "false"
   },
   "outputs": [],
   "source": [
    "def countPairsWithDiffK(arr, n, k): \n",
    "    count = 0\n",
    "      \n",
    "    # Pick all elements one by one \n",
    "    for i in range(0, n): \n",
    "          \n",
    "        # See if there is a pair of this picked element \n",
    "        for j in range(i+1, n) : \n",
    "              \n",
    "            if arr[i] + arr[j] == k or arr[j] + arr[i] == k: \n",
    "                count += 1\n",
    "    return count"
   ]
  },
  {
   "cell_type": "code",
   "execution_count": 342,
   "metadata": {
    "Collapsed": "false"
   },
   "outputs": [
    {
     "data": {
      "text/plain": [
       "3"
      ]
     },
     "execution_count": 342,
     "metadata": {},
     "output_type": "execute_result"
    }
   ],
   "source": [
    "countPairsWithDiffK(arr, len(arr), k)"
   ]
  },
  {
   "cell_type": "code",
   "execution_count": 343,
   "metadata": {
    "Collapsed": "false"
   },
   "outputs": [],
   "source": [
    "def binarySearch(arr, low, high, x): \n",
    "  \n",
    "    if (high >= low): \n",
    "      \n",
    "        mid = low + (high - low)//2\n",
    "        if x == arr[mid]: \n",
    "            return (mid) \n",
    "        elif(x > arr[mid]): \n",
    "            return binarySearch(arr, (mid + 1), high, x) \n",
    "        else: \n",
    "            return binarySearch(arr, low, (mid -1), x) \n",
    "      \n",
    "    return -1"
   ]
  },
  {
   "cell_type": "code",
   "execution_count": 345,
   "metadata": {
    "Collapsed": "false"
   },
   "outputs": [
    {
     "ename": "IndexError",
     "evalue": "list index out of range",
     "output_type": "error",
     "traceback": [
      "\u001b[0;31m---------------------------------------------------------------------------\u001b[0m",
      "\u001b[0;31mIndexError\u001b[0m                                Traceback (most recent call last)",
      "\u001b[0;32m<ipython-input-345-faaaebfdbb46>\u001b[0m in \u001b[0;36m<module>\u001b[0;34m\u001b[0m\n\u001b[0;32m----> 1\u001b[0;31m \u001b[0mbinarySearch\u001b[0m\u001b[0;34m(\u001b[0m\u001b[0marr\u001b[0m\u001b[0;34m,\u001b[0m \u001b[0mmin\u001b[0m\u001b[0;34m(\u001b[0m\u001b[0marr\u001b[0m\u001b[0;34m)\u001b[0m\u001b[0;34m,\u001b[0m \u001b[0mmax\u001b[0m\u001b[0;34m(\u001b[0m\u001b[0marr\u001b[0m\u001b[0;34m)\u001b[0m\u001b[0;34m,\u001b[0m \u001b[0mk\u001b[0m\u001b[0;34m)\u001b[0m\u001b[0;34m\u001b[0m\u001b[0;34m\u001b[0m\u001b[0m\n\u001b[0m",
      "\u001b[0;32m<ipython-input-343-ac5910ef6221>\u001b[0m in \u001b[0;36mbinarySearch\u001b[0;34m(arr, low, high, x)\u001b[0m\n\u001b[1;32m      7\u001b[0m             \u001b[0;32mreturn\u001b[0m \u001b[0;34m(\u001b[0m\u001b[0mmid\u001b[0m\u001b[0;34m)\u001b[0m\u001b[0;34m\u001b[0m\u001b[0;34m\u001b[0m\u001b[0m\n\u001b[1;32m      8\u001b[0m         \u001b[0;32melif\u001b[0m\u001b[0;34m(\u001b[0m\u001b[0mx\u001b[0m \u001b[0;34m>\u001b[0m \u001b[0marr\u001b[0m\u001b[0;34m[\u001b[0m\u001b[0mmid\u001b[0m\u001b[0;34m]\u001b[0m\u001b[0;34m)\u001b[0m\u001b[0;34m:\u001b[0m\u001b[0;34m\u001b[0m\u001b[0;34m\u001b[0m\u001b[0m\n\u001b[0;32m----> 9\u001b[0;31m             \u001b[0;32mreturn\u001b[0m \u001b[0mbinarySearch\u001b[0m\u001b[0;34m(\u001b[0m\u001b[0marr\u001b[0m\u001b[0;34m,\u001b[0m \u001b[0;34m(\u001b[0m\u001b[0mmid\u001b[0m \u001b[0;34m+\u001b[0m \u001b[0;36m1\u001b[0m\u001b[0;34m)\u001b[0m\u001b[0;34m,\u001b[0m \u001b[0mhigh\u001b[0m\u001b[0;34m,\u001b[0m \u001b[0mx\u001b[0m\u001b[0;34m)\u001b[0m\u001b[0;34m\u001b[0m\u001b[0;34m\u001b[0m\u001b[0m\n\u001b[0m\u001b[1;32m     10\u001b[0m         \u001b[0;32melse\u001b[0m\u001b[0;34m:\u001b[0m\u001b[0;34m\u001b[0m\u001b[0;34m\u001b[0m\u001b[0m\n\u001b[1;32m     11\u001b[0m             \u001b[0;32mreturn\u001b[0m \u001b[0mbinarySearch\u001b[0m\u001b[0;34m(\u001b[0m\u001b[0marr\u001b[0m\u001b[0;34m,\u001b[0m \u001b[0mlow\u001b[0m\u001b[0;34m,\u001b[0m \u001b[0;34m(\u001b[0m\u001b[0mmid\u001b[0m \u001b[0;34m-\u001b[0m\u001b[0;36m1\u001b[0m\u001b[0;34m)\u001b[0m\u001b[0;34m,\u001b[0m \u001b[0mx\u001b[0m\u001b[0;34m)\u001b[0m\u001b[0;34m\u001b[0m\u001b[0;34m\u001b[0m\u001b[0m\n",
      "\u001b[0;32m<ipython-input-343-ac5910ef6221>\u001b[0m in \u001b[0;36mbinarySearch\u001b[0;34m(arr, low, high, x)\u001b[0m\n\u001b[1;32m      4\u001b[0m \u001b[0;34m\u001b[0m\u001b[0m\n\u001b[1;32m      5\u001b[0m         \u001b[0mmid\u001b[0m \u001b[0;34m=\u001b[0m \u001b[0mlow\u001b[0m \u001b[0;34m+\u001b[0m \u001b[0;34m(\u001b[0m\u001b[0mhigh\u001b[0m \u001b[0;34m-\u001b[0m \u001b[0mlow\u001b[0m\u001b[0;34m)\u001b[0m\u001b[0;34m//\u001b[0m\u001b[0;36m2\u001b[0m\u001b[0;34m\u001b[0m\u001b[0;34m\u001b[0m\u001b[0m\n\u001b[0;32m----> 6\u001b[0;31m         \u001b[0;32mif\u001b[0m \u001b[0mx\u001b[0m \u001b[0;34m==\u001b[0m \u001b[0marr\u001b[0m\u001b[0;34m[\u001b[0m\u001b[0mmid\u001b[0m\u001b[0;34m]\u001b[0m\u001b[0;34m:\u001b[0m\u001b[0;34m\u001b[0m\u001b[0;34m\u001b[0m\u001b[0m\n\u001b[0m\u001b[1;32m      7\u001b[0m             \u001b[0;32mreturn\u001b[0m \u001b[0;34m(\u001b[0m\u001b[0mmid\u001b[0m\u001b[0;34m)\u001b[0m\u001b[0;34m\u001b[0m\u001b[0;34m\u001b[0m\u001b[0m\n\u001b[1;32m      8\u001b[0m         \u001b[0;32melif\u001b[0m\u001b[0;34m(\u001b[0m\u001b[0mx\u001b[0m \u001b[0;34m>\u001b[0m \u001b[0marr\u001b[0m\u001b[0;34m[\u001b[0m\u001b[0mmid\u001b[0m\u001b[0;34m]\u001b[0m\u001b[0;34m)\u001b[0m\u001b[0;34m:\u001b[0m\u001b[0;34m\u001b[0m\u001b[0;34m\u001b[0m\u001b[0m\n",
      "\u001b[0;31mIndexError\u001b[0m: list index out of range"
     ]
    }
   ],
   "source": [
    "binarySearch(arr, min(arr), max(arr), k)"
   ]
  },
  {
   "cell_type": "code",
   "execution_count": null,
   "metadata": {
    "Collapsed": "false"
   },
   "outputs": [],
   "source": [
    "arr = np.arange(lo, hi+1)\n",
    "    com = list(combinations(arr, 2))\n",
    "    res = list(map(lambda x : x[0]^x[1], com))\n",
    "    return max(list(map(lambda x : 0 if x > k else x, res)))"
   ]
  },
  {
   "cell_type": "code",
   "execution_count": null,
   "metadata": {
    "Collapsed": "false"
   },
   "outputs": [],
   "source": [
    "def maxXor(lo, hi, k):\n",
    "    xor = lo ^ hi\n",
    "    n = 0\n",
    "    while xor:\n",
    "        xor >>= 1\n",
    "        n += 1\n",
    "    value = 2**n - 1 if 2**n - 1 <= k else k\n",
    "    return value"
   ]
  },
  {
   "cell_type": "code",
   "execution_count": null,
   "metadata": {
    "Collapsed": "false"
   },
   "outputs": [],
   "source": [
    "def commonSubstring(a, b):\n",
    "    a = list(map(lambda x: ''.join(set(x)), a))\n",
    "    b = list(map(lambda x: ''.join(set(x)), b))\n",
    "    words = list(zip(a,b))\n",
    "    t1 = [len(''.join(i)) for i in words]\n",
    "    t2 = [len(set(''.join(i))) for i in words]\n",
    "    res = ['NO' if e1 == e2 else 'YES' for e1, e2 in list(zip(t1,t2)) ]\n",
    "    [print(elem) for elem in res]"
   ]
  },
  {
   "cell_type": "code",
   "execution_count": 348,
   "metadata": {
    "Collapsed": "false"
   },
   "outputs": [],
   "source": [
    "def stockPairs(stocksProfit, target):\n",
    "    if target < 10**5:\n",
    "        arr = np.arange(1,target)\n",
    "        com = [[arr[i], arr[target-2-i]] for i in range(int((target-2)/2)+1)]\n",
    "        count = 0\n",
    "        for elem in com:\n",
    "            if stocksProfit.count(elem[0]) != 0:\n",
    "                stocksProfit.remove(elem[0])\n",
    "                if stocksProfit.count(elem[1]) != 0:\n",
    "                    count += 1\n",
    "    elif len(stocksProfit) < 10**4:\n",
    "        e = list(combinations(set(stocksProfit),2))\n",
    "        # count = list(map(sum, e)).count(target)\n",
    "        count = len(np.where(np.array(list(map(sum,e))) == target)[0])\n",
    "        if stocksProfit.count(int(target/2)) == 2:\n",
    "            count += 1\n",
    "        else:\n",
    "            pass\n",
    "    else:\n",
    "        temp = list(map(lambda x : target-x, set(stocksProfit)))\n",
    "        count = 0\n",
    "        for elem in temp:\n",
    "            if elem in stocksProfit:\n",
    "                count += 1\n",
    "\n",
    "    return count\n"
   ]
  },
  {
   "cell_type": "code",
   "execution_count": 349,
   "metadata": {
    "Collapsed": "false"
   },
   "outputs": [],
   "source": [
    "def stockPairs(stocksProfit,target): \n",
    "    count = 0\n",
    "    arr = list(set(stocksProfit))\n",
    "    n = len(arr)\n",
    "    for i in range(0, n): \n",
    "        for j in range(i+1, n): \n",
    "            if arr[i] + arr[j] == target or arr[j] + arr[i] == target: \n",
    "                count += 1\n",
    "    if stocksProfit.count(int(target/2)) == 2:\n",
    "        count += 1 \n",
    "    return count"
   ]
  },
  {
   "cell_type": "code",
   "execution_count": null,
   "metadata": {
    "Collapsed": "false"
   },
   "outputs": [],
   "source": [
    "def countGroups(related):\n",
    "    n = len(related[0])\n",
    "    mtx = np.array(list(map(int,''.join(related)))).reshape(len(related),n)\n",
    "\n",
    "    n = mtx.shape[1]\n",
    "    q = 2\n",
    "\n",
    "    for i in range(n):\n",
    "        if len(np.where(mtx[:,i] >= 1)[0]) > 1:\n",
    "            row_index = np.where(mtx[:,i] >= 1)[0]\n",
    "            if max([max(mtx[index]) for index in row_index]) == 1:\n",
    "                mtx[:,i] = np.where(mtx[:,i] >= 1, q, mtx[:,i])\n",
    "                q += 1\n",
    "            else:\n",
    "                mtx[:,i] = np.where(mtx[:,i] >= 1, max([max(mtx[index]) for index in row_index]), mtx[:,i])\n",
    "#             for index in row_index:\n",
    "#                 if len([elem for elem in mtx[index] if elem > 1]) > 0:\n",
    "#                     mtx[index,i] = max([elem for elem in mtx[index] if elem > 1])\n",
    "#                 else:\n",
    "#                     mtx[index,i] = q\n",
    "#             q += 1\n",
    "#                         q += 1\n",
    "#                         mtx[index:,i] = np.where(mtx[:,i] >= 1, q, mtx[:,i])\n",
    "        else:\n",
    "            index = np.where(mtx[:,i] == 1)[0]\n",
    "            mtx[index,i] = q\n",
    "            q += 1\n",
    "#             try:\n",
    "#                 row_index = np.where(mtx[:,i] == 1)[0][0]\n",
    "#                 mtx[:,i] = np.where(mtx[:,i] == 1, max([elem for elem in mtx[row_index] if elem > 1]), mtx[:,i])\n",
    "#             except:\n",
    "#                 q += 1\n",
    "#                 mtx[:,i] = np.where(mtx[:,i] == 1, q, mtx[:,i])\n",
    "                \n",
    "    res = len(np.unique(mtx))-1\n",
    "    return res"
   ]
  },
  {
   "cell_type": "code",
   "execution_count": 351,
   "metadata": {
    "Collapsed": "false"
   },
   "outputs": [
    {
     "data": {
      "text/plain": [
       "6"
      ]
     },
     "execution_count": 351,
     "metadata": {},
     "output_type": "execute_result"
    }
   ],
   "source": [
    "len(set(arr))"
   ]
  },
  {
   "cell_type": "code",
   "execution_count": 354,
   "metadata": {
    "Collapsed": "false"
   },
   "outputs": [
    {
     "data": {
      "text/plain": [
       "array({1, 3, 5, 6, 7, 9}, dtype=object)"
      ]
     },
     "execution_count": 354,
     "metadata": {},
     "output_type": "execute_result"
    }
   ],
   "source": [
    "np.array(set(arr))"
   ]
  },
  {
   "cell_type": "code",
   "execution_count": 363,
   "metadata": {
    "Collapsed": "false"
   },
   "outputs": [],
   "source": [
    "a = np.array(list(set(arr)))"
   ]
  },
  {
   "cell_type": "code",
   "execution_count": 365,
   "metadata": {
    "Collapsed": "false"
   },
   "outputs": [
    {
     "data": {
      "text/plain": [
       "1"
      ]
     },
     "execution_count": 365,
     "metadata": {},
     "output_type": "execute_result"
    }
   ],
   "source": [
    "a[0]"
   ]
  },
  {
   "cell_type": "code",
   "execution_count": 357,
   "metadata": {
    "Collapsed": "false"
   },
   "outputs": [
    {
     "ename": "ValueError",
     "evalue": "cannot reshape array of size 1 into shape (3,)",
     "output_type": "error",
     "traceback": [
      "\u001b[0;31m---------------------------------------------------------------------------\u001b[0m",
      "\u001b[0;31mValueError\u001b[0m                                Traceback (most recent call last)",
      "\u001b[0;32m<ipython-input-357-edc6edda8981>\u001b[0m in \u001b[0;36m<module>\u001b[0;34m\u001b[0m\n\u001b[0;32m----> 1\u001b[0;31m \u001b[0mnp\u001b[0m\u001b[0;34m.\u001b[0m\u001b[0marray\u001b[0m\u001b[0;34m(\u001b[0m\u001b[0mset\u001b[0m\u001b[0;34m(\u001b[0m\u001b[0marr\u001b[0m\u001b[0;34m)\u001b[0m\u001b[0;34m)\u001b[0m\u001b[0;34m.\u001b[0m\u001b[0mreshape\u001b[0m\u001b[0;34m(\u001b[0m\u001b[0;36m3\u001b[0m\u001b[0;34m)\u001b[0m\u001b[0;34m\u001b[0m\u001b[0;34m\u001b[0m\u001b[0m\n\u001b[0m",
      "\u001b[0;31mValueError\u001b[0m: cannot reshape array of size 1 into shape (3,)"
     ]
    }
   ],
   "source": [
    "np.array(set(arr)).reshape(3)"
   ]
  },
  {
   "cell_type": "code",
   "execution_count": 444,
   "metadata": {
    "Collapsed": "false"
   },
   "outputs": [],
   "source": [
    "related = ['1000', '1110', '0011', '0001', '0100']"
   ]
  },
  {
   "cell_type": "code",
   "execution_count": 385,
   "metadata": {
    "Collapsed": "false"
   },
   "outputs": [
    {
     "data": {
      "text/plain": [
       "[1, 0, 0, 0, 1, 1, 1, 0, 0, 0, 1, 1, 0, 0, 0, 1]"
      ]
     },
     "execution_count": 385,
     "metadata": {},
     "output_type": "execute_result"
    }
   ],
   "source": [
    "list(map(int,''.join(related)))"
   ]
  },
  {
   "cell_type": "code",
   "execution_count": 449,
   "metadata": {
    "Collapsed": "false"
   },
   "outputs": [],
   "source": [
    "n = len(related[0])"
   ]
  },
  {
   "cell_type": "code",
   "execution_count": null,
   "metadata": {
    "Collapsed": "false"
   },
   "outputs": [],
   "source": [
    "len()"
   ]
  },
  {
   "cell_type": "code",
   "execution_count": 451,
   "metadata": {
    "Collapsed": "false"
   },
   "outputs": [
    {
     "data": {
      "text/plain": [
       "1"
      ]
     },
     "execution_count": 451,
     "metadata": {},
     "output_type": "execute_result"
    }
   ],
   "source": [
    "int(len(related) / n)"
   ]
  },
  {
   "cell_type": "code",
   "execution_count": 455,
   "metadata": {
    "Collapsed": "false"
   },
   "outputs": [],
   "source": [
    "mtx = np.array(list(map(int,''.join(related)))).reshape(n, len(related))"
   ]
  },
  {
   "cell_type": "code",
   "execution_count": 456,
   "metadata": {
    "Collapsed": "false"
   },
   "outputs": [
    {
     "data": {
      "text/plain": [
       "array([[1, 0, 0, 0, 1],\n",
       "       [1, 1, 0, 0, 0],\n",
       "       [1, 1, 0, 0, 0],\n",
       "       [1, 0, 1, 0, 0]])"
      ]
     },
     "execution_count": 456,
     "metadata": {},
     "output_type": "execute_result"
    }
   ],
   "source": [
    "mtx"
   ]
  },
  {
   "cell_type": "code",
   "execution_count": 458,
   "metadata": {
    "Collapsed": "false"
   },
   "outputs": [
    {
     "data": {
      "text/plain": [
       "4"
      ]
     },
     "execution_count": 458,
     "metadata": {},
     "output_type": "execute_result"
    }
   ],
   "source": [
    "len(np.where(mtx[:,0] >= 1)[0]) # 1이 겹치는 행의 개수"
   ]
  },
  {
   "cell_type": "code",
   "execution_count": 460,
   "metadata": {
    "Collapsed": "false"
   },
   "outputs": [
    {
     "data": {
      "text/plain": [
       "(array([0, 1, 2, 3]),)"
      ]
     },
     "execution_count": 460,
     "metadata": {},
     "output_type": "execute_result"
    }
   ],
   "source": [
    "np.where(mtx[:,0] >= 1)"
   ]
  },
  {
   "cell_type": "code",
   "execution_count": 461,
   "metadata": {
    "Collapsed": "false"
   },
   "outputs": [
    {
     "data": {
      "text/plain": [
       "[]"
      ]
     },
     "execution_count": 461,
     "metadata": {},
     "output_type": "execute_result"
    }
   ],
   "source": [
    "[elem for elem in mtx[0] if elem > 1] # 없으면"
   ]
  },
  {
   "cell_type": "code",
   "execution_count": 428,
   "metadata": {
    "Collapsed": "false"
   },
   "outputs": [],
   "source": [
    "q = 2"
   ]
  },
  {
   "cell_type": "code",
   "execution_count": 463,
   "metadata": {
    "Collapsed": "false"
   },
   "outputs": [
    {
     "ename": "ValueError",
     "evalue": "max() arg is an empty sequence",
     "output_type": "error",
     "traceback": [
      "\u001b[0;31m---------------------------------------------------------------------------\u001b[0m",
      "\u001b[0;31mValueError\u001b[0m                                Traceback (most recent call last)",
      "\u001b[0;32m<ipython-input-463-bb6f967aaab9>\u001b[0m in \u001b[0;36m<module>\u001b[0;34m\u001b[0m\n\u001b[0;32m----> 1\u001b[0;31m \u001b[0mmax\u001b[0m\u001b[0;34m(\u001b[0m\u001b[0;34m[\u001b[0m\u001b[0melem\u001b[0m \u001b[0;32mfor\u001b[0m \u001b[0melem\u001b[0m \u001b[0;32min\u001b[0m \u001b[0mmtx\u001b[0m\u001b[0;34m[\u001b[0m\u001b[0;36m0\u001b[0m\u001b[0;34m]\u001b[0m \u001b[0;32mif\u001b[0m \u001b[0melem\u001b[0m \u001b[0;34m>\u001b[0m \u001b[0;36m1\u001b[0m\u001b[0;34m]\u001b[0m\u001b[0;34m)\u001b[0m\u001b[0;34m\u001b[0m\u001b[0;34m\u001b[0m\u001b[0m\n\u001b[0m",
      "\u001b[0;31mValueError\u001b[0m: max() arg is an empty sequence"
     ]
    }
   ],
   "source": [
    "max([elem for elem in mtx[0] if elem > 1])"
   ]
  },
  {
   "cell_type": "code",
   "execution_count": 464,
   "metadata": {
    "Collapsed": "false"
   },
   "outputs": [
    {
     "data": {
      "text/plain": [
       "array([[2, 0, 0, 0, 1],\n",
       "       [2, 1, 0, 0, 0],\n",
       "       [2, 1, 0, 0, 0],\n",
       "       [2, 0, 1, 0, 0]])"
      ]
     },
     "execution_count": 464,
     "metadata": {},
     "output_type": "execute_result"
    }
   ],
   "source": [
    "mtx[:,0] = np.where(mtx[:,0] >= 1, q, mtx[:,0])\n",
    "mtx"
   ]
  },
  {
   "cell_type": "code",
   "execution_count": 465,
   "metadata": {
    "Collapsed": "false"
   },
   "outputs": [
    {
     "data": {
      "text/plain": [
       "2"
      ]
     },
     "execution_count": 465,
     "metadata": {},
     "output_type": "execute_result"
    }
   ],
   "source": [
    "len(np.where(mtx[:,1] >= 1)[0])"
   ]
  },
  {
   "cell_type": "code",
   "execution_count": 467,
   "metadata": {
    "Collapsed": "false"
   },
   "outputs": [
    {
     "data": {
      "text/plain": [
       "array([1, 2])"
      ]
     },
     "execution_count": 467,
     "metadata": {},
     "output_type": "execute_result"
    }
   ],
   "source": [
    "np.where(mtx[:,1] >= 1)[0]"
   ]
  },
  {
   "cell_type": "code",
   "execution_count": 468,
   "metadata": {
    "Collapsed": "false"
   },
   "outputs": [
    {
     "data": {
      "text/plain": [
       "[2]"
      ]
     },
     "execution_count": 468,
     "metadata": {},
     "output_type": "execute_result"
    }
   ],
   "source": [
    "[elem for elem in mtx[1] if elem > 1] # 없으면 q+1"
   ]
  },
  {
   "cell_type": "code",
   "execution_count": 431,
   "metadata": {
    "Collapsed": "false"
   },
   "outputs": [
    {
     "data": {
      "text/plain": [
       "2"
      ]
     },
     "execution_count": 431,
     "metadata": {},
     "output_type": "execute_result"
    }
   ],
   "source": [
    "len(np.where(mtx[:,2] >= 1)[0])"
   ]
  },
  {
   "cell_type": "code",
   "execution_count": 433,
   "metadata": {
    "Collapsed": "false"
   },
   "outputs": [
    {
     "data": {
      "text/plain": [
       "array([1, 2])"
      ]
     },
     "execution_count": 433,
     "metadata": {},
     "output_type": "execute_result"
    }
   ],
   "source": [
    "np.where(mtx[:,2] >= 1)[0]"
   ]
  },
  {
   "cell_type": "code",
   "execution_count": 434,
   "metadata": {
    "Collapsed": "false"
   },
   "outputs": [
    {
     "data": {
      "text/plain": [
       "[2]"
      ]
     },
     "execution_count": 434,
     "metadata": {},
     "output_type": "execute_result"
    }
   ],
   "source": [
    "[elem for elem in mtx[1] if elem > 1] # 없으면 q+1"
   ]
  },
  {
   "cell_type": "code",
   "execution_count": 454,
   "metadata": {
    "Collapsed": "false"
   },
   "outputs": [
    {
     "data": {
      "text/plain": [
       "[]"
      ]
     },
     "execution_count": 454,
     "metadata": {},
     "output_type": "execute_result"
    }
   ],
   "source": [
    "[elem for elem in mtx[1] if elem > 1]"
   ]
  },
  {
   "cell_type": "code",
   "execution_count": 435,
   "metadata": {
    "Collapsed": "false"
   },
   "outputs": [
    {
     "data": {
      "text/plain": [
       "array([[2, 0, 0, 0],\n",
       "       [2, 1, 2, 0],\n",
       "       [0, 0, 2, 1],\n",
       "       [0, 0, 0, 1]])"
      ]
     },
     "execution_count": 435,
     "metadata": {},
     "output_type": "execute_result"
    }
   ],
   "source": [
    "mtx[:,2] = np.where(mtx[:,2] >= 1, q, mtx[:,2])\n",
    "mtx"
   ]
  },
  {
   "cell_type": "code",
   "execution_count": 440,
   "metadata": {
    "Collapsed": "false"
   },
   "outputs": [
    {
     "data": {
      "text/plain": [
       "array([0, 1, 2])"
      ]
     },
     "execution_count": 440,
     "metadata": {},
     "output_type": "execute_result"
    }
   ],
   "source": [
    "np.unique(mtx)"
   ]
  },
  {
   "cell_type": "code",
   "execution_count": 170,
   "metadata": {
    "Collapsed": "false"
   },
   "outputs": [
    {
     "name": "stdin",
     "output_type": "stream",
     "text": [
      " 100\n",
      " 1000000000000000000000000000000000000001000000000000000000000000000000000000000000000000000000000000 0100000000000000000000000000000000000000000000001000000000000000000000000000000000000000000000000000 0010000000000000000000000000000000000000000000000000000000000000000000000000000000000000000000000000 0001000000000000000000000000000000000000000000000000000000000000000000000000000000000000000000000000 0000100000000000000000000000000000000000000000000000000000000000000000000000000000000000000000000000 0000010000000000000000000000000000000000000000000000000000000000000000000000000000000000000000000000 0000001000000000000001000000000000000000000000000000000000000000000000000000000000000000000000000000 0000000100000000000000000000100000000000000000000000000000000000000000000000000000000000000000000000 0000000010000000000000000000000000000000000000000000000000000000000000000000000000000000000000000000 0000000001000000000000000000000000000000000000000100000000000000000000000000000000000000000000000000 0000000000100000000000000000000000000000000000000000000000000000000000000000000000000000000000000000 0000000000010000000000000000000000000000000000000000000000000000000000000000000000000000000000000000 0000000000001000000000001000000000000000000000000000000000000000000000000000000000000000000000000000 0000000000000100000000000000000000000000000000000000000000000000000000000000000000000000000000000000 0000000000000010000000000100000000000000000000000000000000000000000000000000000000100000000000000000 0000000000000001000000000000000000000000000000000000000000000000000000001000000000000000000000000000 0000000000000000100000000000000000000000000000000000000000000000000000000000000000000000000000000000 0000000000000000010000000000000000000000000000000000000000000000000000000000000000000000000100000000 0000000000000000001000000000000000000000000010000000000000000000000000000000000000000000000000000000 0000000000000000000100000000000000000000000000000000000000000000000000000000000000000000000000000000 0000000000000000000010000000000000000000000000000000000000000000000000000000000000000000100000000000 0000001000000000000001000000000000000000000000000000000000000000000000000000000000000000000000000000 0000000000000000000000100000000000000000000000000000000000000000000000000000000000000000000000000000 0000000000000000000000010000000000000000000000000000000100000000000000000000000000000000000000000000 0000000000001000000000001000000000000000000000000000000000000000000000000000000000000000000000000000 0000000000000010000000000100000000000000000000000000000000000010000000000000000000000000000000000000 0000000000000000000000000010000000000000000000000000000000000000000000000000000000000000000000000000 0000000000000000000000000001000000000000000000000000000000000000000000000000000000000000000000000000 0000000100000000000000000000100000000000000000000000000000000000000000000000000000000000000000000000 0000000000000000000000000000010000000000000000000000100000000000000000000000000000000000000000000000 0000000000000000000000000000001000000000000000000000000000000000000000000000000000000000000000000000 0000000000000000000000000000000100000000000000000000000000000000000000000000000000000000000000000000 0000000000000000000000000000000010000000000000000000000000000000000000000000000000000000000000000000 0000000000000000000000000000000001000000000000000000000000000000000000000000000000000000000000000000 0000000000000000000000000000000000100000000000000000000000000000000000000000000000000000000000000000 0000000000000000000000000000000000010000000000000000000000000000000000000000000000000000000000000000 0000000000000000000000000000000000001000000000000000000000000000000000000000000000000000000000000000 0000000000000000000000000000000000000100000000000000000100000000000000000000000000000000000000000000 0000000000000000000000000000000000000010001000000000000000000000000000000000000000000000000000000000 1000000000000000000000000000000000000001000000000000000000000000000000000000000000000000000000000000 0000000000000000000000000000000000000000100000000000000000000000000000000000000000000000000000000000 0000000000000000000000000000000000000000010000010000000000000000000000000000000000000000000000000000 0000000000000000000000000000000000000010001000000000000000000000000000000000000000000000000000000000 0000000000000000000000000000000000000000000100000000000000000000000000000000000000000000000000000000 0000000000000000001000000000000000000000000010000000100000000000000000000000000000000000000000000000 0000000000000000000000000000000000000000000001000000000000000000000000000000000000000000000000000000 0000000000000000000000000000000000000000000000100000000000000000000000000001000000000000000100000000 0000000000000000000000000000000000000000010000010000010000000000000000000000000000000100000000000000 0100000000000000000000000000000000000000000000001000000000000000000000000000000000000000000000000000 0000000001000000000000000000000000000000000000000100000000000000000000000000000000000000000000000000 0000000000000000000000000000000000000000000000000010000000000000000000000000000000000000000000000000 0000000000000000000000000000000000000000000000000001000000000000001000000000000000000000000000000000 0000000000000000000000000000010000000000000010000000100000000000000000000000000000000000000000000010 0000000000000000000000000000000000000000000000010000010000000000000000000000000000000000000000000000 0000000000000000000000000000000000000000000000000000001000000000000000000000000000000000000000000000 0000000000000000000000010000000000000100000000000000000100000000000000000000000000000000000000000000 0000000000000000000000000000000000000000000000000000000010000000000000000000000000000000000000000000 0000000000000000000000000000000000000000000000000000000001010000000000000000000000000000000000000001 0000000000000000000000000000000000000000000000000000000000100000000100000000000000000000000000000000 0000000000000000000000000000000000000000000000000000000001010000000000000000000000000000000000000000 0000000000000000000000000000000000000000000000000000000000001000000000000000000000000000000000000000 0000000000000000000000000000000000000000000000000000000000000100000000000100000000000000000000000000 0000000000000000000000000100000000000000000000000000000000000010000000100000000000000000000000000000 0000000000000000000000000000000000000000000000000000000000000001000000000000000000000000000000000000 0000000000000000000000000000000000000000000000000000000000000000100000000000000000000000000000000000 0000000000000000000000000000000000000000000000000000000000000000010000000000000000000000000000000000 0000000000000000000000000000000000000000000000000001000000000000001000000000000000000000000000000000 0000000000000000000000000000000000000000000000000000000000100000000100000000000000000000000000000000 0000000000000000000000000000000000000000000000000000000000000000000010000000000000000000000000000000 0000000000000000000000000000000000000000000000000000000000000000000001000000000000000000000000000000 0000000000000000000000000000000000000000000000000000000000000010000000100000000000000000000000000000 0000000000000000000000000000000000000000000000000000000000000000000000010000000000000000000000000000 0000000000000001000000000000000000000000000000000000000000000000000000001000000000000000000000000000 0000000000000000000000000000000000000000000000000000000000000100000000000100000000000000000000000000 0000000000000000000000000000000000000000000000000000000000000000000000000010000000000000000000000000 0000000000000000000000000000000000000000000000100000000000000000000000000001000000000000000000000000 0000000000000000000000000000000000000000000000000000000000000000000000000000100000000000000000000000 0000000000000000000000000000000000000000000000000000000000000000000000000000010000000000000000000000 0000000000000000000000000000000000000000000000000000000000000000000000000000001000000000000000000000 0000000000000000000000000000000000000000000000000000000000000000000000000000000100000000000000000000 0000000000000000000000000000000000000000000000000000000000000000000000000000000010000000000000000000 0000000000000000000000000000000000000000000000000000000000000000000000000000000001000000000000000000 0000000000000010000000000000000000000000000000000000000000000000000000000000000000100000000000000000 0000000000000000000000000000000000000000000000000000000000000000000000000000000000010000000000000000 0000000000000000000000000000000000000000000000000000000000000000000000000000000000001000000000000000 0000000000000000000000000000000000000000000000010000000000000000000000000000000000000100000000000000 0000000000000000000000000000000000000000000000000000000000000000000000000000000000000010000000000000 0000000000000000000000000000000000000000000000000000000000000000000000000000000000000001000000000000 0000000000000000000010000000000000000000000000000000000000000000000000000000000000000000100000000000 0000000000000000000000000000000000000000000000000000000000000000000000000000000000000000010000000000 0000000000000000000000000000000000000000000000000000000000000000000000000000000000000000001000000000 0000000000000000010000000000000000000000000000100000000000000000000000000000000000000000000100000000 0000000000000000000000000000000000000000000000000000000000000000000000000000000000000000000010000000 0000000000000000000000000000000000000000000000000000000000000000000000000000000000000000000001000000 0000000000000000000000000000000000000000000000000000000000000000000000000000000000000000000000100000 0000000000000000000000000000000000000000000000000000000000000000000000000000000000000000000000010000 0000000000000000000000000000000000000000000000000000000000000000000000000000000000000000000000001000 0000000000000000000000000000000000000000000000000000000000000000000000000000000000000000000000000100 0000000000000000000000000000000000000000000000000000100000000000000000000000000000000000000000000010 0000000000000000000000000000000000000000000000000000000001000000000000000000000000000000000000000001\n"
     ]
    }
   ],
   "source": [
    "#!/bin/python3\n",
    "\n",
    "import math\n",
    "import os\n",
    "import random\n",
    "import re\n",
    "import sys\n",
    "\n",
    "related_count = int(input().strip())\n",
    "\n",
    "related = input().split(' ')\n",
    "\n",
    "# for _ in range(related_count):\n",
    "#     related_item = input()\n",
    "#     related.append(related_item)\n",
    "\n",
    "# result = countGroups(related)\n"
   ]
  },
  {
   "cell_type": "code",
   "execution_count": 5,
   "metadata": {
    "Collapsed": "false"
   },
   "outputs": [],
   "source": [
    "import numpy as np"
   ]
  },
  {
   "cell_type": "code",
   "execution_count": 175,
   "metadata": {
    "Collapsed": "false"
   },
   "outputs": [],
   "source": [
    "def countGroups(related):\n",
    "    n = len(related[0])\n",
    "    mtx = np.array(list(map(int,''.join(related)))).reshape(len(related),n)\n",
    "\n",
    "    n = mtx.shape[1]\n",
    "    q = 2\n",
    "\n",
    "    for i in range(n):\n",
    "        if len(np.where(mtx[:,i] >= 1)[0]) > 1:\n",
    "            row_index = np.where(mtx[:,i] >= 1)[0]\n",
    "            if max([max(mtx[index]) for index in row_index]) == 1:\n",
    "                mtx[:,i] = np.where(mtx[:,i] >= 1, q, mtx[:,i])\n",
    "                q += 1\n",
    "            else:\n",
    "                mtx[:,i] = np.where(mtx[:,i] >= 1, max([max(mtx[index]) for index in row_index]), mtx[:,i])\n",
    "#             for index in row_index:\n",
    "#                 if len([elem for elem in mtx[index] if elem > 1]) > 0:\n",
    "#                     mtx[index,i] = max([elem for elem in mtx[index] if elem > 1])\n",
    "#                 else:\n",
    "#                     mtx[index,i] = q\n",
    "#             q += 1\n",
    "#                         q += 1\n",
    "#                         mtx[index:,i] = np.where(mtx[:,i] >= 1, q, mtx[:,i])\n",
    "        else:\n",
    "            index = np.where(mtx[:,i] == 1)[0]\n",
    "            mtx[index,i] = q\n",
    "            q += 1\n",
    "#             try:\n",
    "#                 row_index = np.where(mtx[:,i] == 1)[0][0]\n",
    "#                 mtx[:,i] = np.where(mtx[:,i] == 1, max([elem for elem in mtx[row_index] if elem > 1]), mtx[:,i])\n",
    "#             except:\n",
    "#                 q += 1\n",
    "#                 mtx[:,i] = np.where(mtx[:,i] == 1, q, mtx[:,i])\n",
    "                \n",
    "    res = len(np.unique(mtx))-1\n",
    "    return res"
   ]
  },
  {
   "cell_type": "code",
   "execution_count": 166,
   "metadata": {
    "Collapsed": "false"
   },
   "outputs": [
    {
     "data": {
      "text/plain": [
       "3"
      ]
     },
     "execution_count": 166,
     "metadata": {},
     "output_type": "execute_result"
    }
   ],
   "source": [
    "max([max(mtx[index]) for index in row_index])"
   ]
  },
  {
   "cell_type": "code",
   "execution_count": 174,
   "metadata": {
    "Collapsed": "false"
   },
   "outputs": [
    {
     "data": {
      "text/plain": [
       "71"
      ]
     },
     "execution_count": 174,
     "metadata": {},
     "output_type": "execute_result"
    }
   ],
   "source": [
    "mtx"
   ]
  },
  {
   "cell_type": "code",
   "execution_count": 140,
   "metadata": {
    "Collapsed": "false"
   },
   "outputs": [
    {
     "data": {
      "text/plain": [
       "5"
      ]
     },
     "execution_count": 140,
     "metadata": {},
     "output_type": "execute_result"
    }
   ],
   "source": [
    "np.max([mtx[2], mtx[3]])"
   ]
  },
  {
   "cell_type": "code",
   "execution_count": 173,
   "metadata": {
    "Collapsed": "false"
   },
   "outputs": [
    {
     "data": {
      "text/plain": [
       "71"
      ]
     },
     "execution_count": 173,
     "metadata": {},
     "output_type": "execute_result"
    }
   ],
   "source": [
    "mtx = countGroups(related)\n",
    "mtx"
   ]
  },
  {
   "cell_type": "code",
   "execution_count": 78,
   "metadata": {
    "Collapsed": "false"
   },
   "outputs": [
    {
     "data": {
      "text/plain": [
       "array([[1, 0, 0, 0, 1],\n",
       "       [0, 0, 0, 1, 1],\n",
       "       [0, 0, 1, 0, 1],\n",
       "       [0, 1, 1, 0, 0]])"
      ]
     },
     "execution_count": 78,
     "metadata": {},
     "output_type": "execute_result"
    }
   ],
   "source": [
    "mtx = np.array(list(map(int,''.join(related)))).reshape(len(related),n)\n",
    "mtx"
   ]
  },
  {
   "cell_type": "code",
   "execution_count": 44,
   "metadata": {
    "Collapsed": "false"
   },
   "outputs": [
    {
     "data": {
      "text/plain": [
       "2"
      ]
     },
     "execution_count": 44,
     "metadata": {},
     "output_type": "execute_result"
    }
   ],
   "source": [
    "len(np.where(mtx[:,2] >= 1)[0])"
   ]
  },
  {
   "cell_type": "code",
   "execution_count": 71,
   "metadata": {
    "Collapsed": "false"
   },
   "outputs": [],
   "source": [
    "mtx[2,0] = 3"
   ]
  },
  {
   "cell_type": "code",
   "execution_count": 73,
   "metadata": {
    "Collapsed": "false"
   },
   "outputs": [
    {
     "ename": "ValueError",
     "evalue": "The truth value of an array with more than one element is ambiguous. Use a.any() or a.all()",
     "output_type": "error",
     "traceback": [
      "\u001b[0;31m---------------------------------------------------------------------------\u001b[0m",
      "\u001b[0;31mValueError\u001b[0m                                Traceback (most recent call last)",
      "\u001b[0;32m<ipython-input-73-60eb8585b93b>\u001b[0m in \u001b[0;36m<module>\u001b[0;34m\u001b[0m\n\u001b[1;32m      2\u001b[0m \u001b[0;32mfor\u001b[0m \u001b[0mindex\u001b[0m \u001b[0;32min\u001b[0m \u001b[0mrow_index\u001b[0m\u001b[0;34m:\u001b[0m\u001b[0;34m\u001b[0m\u001b[0;34m\u001b[0m\u001b[0m\n\u001b[1;32m      3\u001b[0m     \u001b[0;32mif\u001b[0m \u001b[0mlen\u001b[0m\u001b[0;34m(\u001b[0m\u001b[0;34m[\u001b[0m\u001b[0melem\u001b[0m \u001b[0;32mfor\u001b[0m \u001b[0melem\u001b[0m \u001b[0;32min\u001b[0m \u001b[0mmtx\u001b[0m\u001b[0;34m[\u001b[0m\u001b[0mindex\u001b[0m\u001b[0;34m]\u001b[0m \u001b[0;32mif\u001b[0m \u001b[0melem\u001b[0m \u001b[0;34m>\u001b[0m \u001b[0;36m1\u001b[0m\u001b[0;34m]\u001b[0m\u001b[0;34m)\u001b[0m \u001b[0;34m>\u001b[0m \u001b[0;36m0\u001b[0m\u001b[0;34m:\u001b[0m\u001b[0;34m\u001b[0m\u001b[0;34m\u001b[0m\u001b[0m\n\u001b[0;32m----> 4\u001b[0;31m         \u001b[0mmtx\u001b[0m\u001b[0;34m[\u001b[0m\u001b[0mindex\u001b[0m\u001b[0;34m:\u001b[0m\u001b[0mi\u001b[0m\u001b[0;34m]\u001b[0m \u001b[0;34m=\u001b[0m \u001b[0mmax\u001b[0m\u001b[0;34m(\u001b[0m\u001b[0;34m[\u001b[0m\u001b[0melem\u001b[0m \u001b[0;32mfor\u001b[0m \u001b[0melem\u001b[0m \u001b[0;32min\u001b[0m \u001b[0mmtx\u001b[0m\u001b[0;34m[\u001b[0m\u001b[0mrow_index\u001b[0m\u001b[0;34m]\u001b[0m \u001b[0;32mif\u001b[0m \u001b[0melem\u001b[0m \u001b[0;34m>\u001b[0m \u001b[0;36m1\u001b[0m\u001b[0;34m]\u001b[0m\u001b[0;34m)\u001b[0m\u001b[0;34m\u001b[0m\u001b[0;34m\u001b[0m\u001b[0m\n\u001b[0m",
      "\u001b[0;32m<ipython-input-73-60eb8585b93b>\u001b[0m in \u001b[0;36m<listcomp>\u001b[0;34m(.0)\u001b[0m\n\u001b[1;32m      2\u001b[0m \u001b[0;32mfor\u001b[0m \u001b[0mindex\u001b[0m \u001b[0;32min\u001b[0m \u001b[0mrow_index\u001b[0m\u001b[0;34m:\u001b[0m\u001b[0;34m\u001b[0m\u001b[0;34m\u001b[0m\u001b[0m\n\u001b[1;32m      3\u001b[0m     \u001b[0;32mif\u001b[0m \u001b[0mlen\u001b[0m\u001b[0;34m(\u001b[0m\u001b[0;34m[\u001b[0m\u001b[0melem\u001b[0m \u001b[0;32mfor\u001b[0m \u001b[0melem\u001b[0m \u001b[0;32min\u001b[0m \u001b[0mmtx\u001b[0m\u001b[0;34m[\u001b[0m\u001b[0mindex\u001b[0m\u001b[0;34m]\u001b[0m \u001b[0;32mif\u001b[0m \u001b[0melem\u001b[0m \u001b[0;34m>\u001b[0m \u001b[0;36m1\u001b[0m\u001b[0;34m]\u001b[0m\u001b[0;34m)\u001b[0m \u001b[0;34m>\u001b[0m \u001b[0;36m0\u001b[0m\u001b[0;34m:\u001b[0m\u001b[0;34m\u001b[0m\u001b[0;34m\u001b[0m\u001b[0m\n\u001b[0;32m----> 4\u001b[0;31m         \u001b[0mmtx\u001b[0m\u001b[0;34m[\u001b[0m\u001b[0mindex\u001b[0m\u001b[0;34m:\u001b[0m\u001b[0mi\u001b[0m\u001b[0;34m]\u001b[0m \u001b[0;34m=\u001b[0m \u001b[0mmax\u001b[0m\u001b[0;34m(\u001b[0m\u001b[0;34m[\u001b[0m\u001b[0melem\u001b[0m \u001b[0;32mfor\u001b[0m \u001b[0melem\u001b[0m \u001b[0;32min\u001b[0m \u001b[0mmtx\u001b[0m\u001b[0;34m[\u001b[0m\u001b[0mrow_index\u001b[0m\u001b[0;34m]\u001b[0m \u001b[0;32mif\u001b[0m \u001b[0melem\u001b[0m \u001b[0;34m>\u001b[0m \u001b[0;36m1\u001b[0m\u001b[0;34m]\u001b[0m\u001b[0;34m)\u001b[0m\u001b[0;34m\u001b[0m\u001b[0;34m\u001b[0m\u001b[0m\n\u001b[0m",
      "\u001b[0;31mValueError\u001b[0m: The truth value of an array with more than one element is ambiguous. Use a.any() or a.all()"
     ]
    }
   ],
   "source": [
    "row_index = np.where(mtx[:,2] >= 1)[0]\n",
    "for index in row_index:\n",
    "    if len([elem for elem in mtx[index] if elem > 1]) > 0:\n",
    "        mtx[index:i] = max([elem for elem in mtx[row_index] if elem > 1])"
   ]
  },
  {
   "cell_type": "code",
   "execution_count": 91,
   "metadata": {
    "Collapsed": "false"
   },
   "outputs": [],
   "source": [
    "mtx = countGroups(related)"
   ]
  },
  {
   "cell_type": "code",
   "execution_count": 92,
   "metadata": {
    "Collapsed": "false"
   },
   "outputs": [
    {
     "data": {
      "text/plain": [
       "array([[1, 1, 0, 0],\n",
       "       [1, 1, 1, 0],\n",
       "       [0, 1, 1, 0],\n",
       "       [0, 0, 0, 3]])"
      ]
     },
     "execution_count": 92,
     "metadata": {},
     "output_type": "execute_result"
    }
   ],
   "source": [
    "mtx"
   ]
  },
  {
   "cell_type": "code",
   "execution_count": 9,
   "metadata": {
    "Collapsed": "false"
   },
   "outputs": [
    {
     "data": {
      "text/plain": [
       "73"
      ]
     },
     "execution_count": 9,
     "metadata": {},
     "output_type": "execute_result"
    }
   ],
   "source": [
    "len(np.unique(mtx))-1"
   ]
  },
  {
   "cell_type": "code",
   "execution_count": 501,
   "metadata": {
    "Collapsed": "false"
   },
   "outputs": [
    {
     "data": {
      "text/plain": [
       "array([[ 3,  0,  0, ...,  0,  0,  0],\n",
       "       [ 0,  4,  0, ...,  0,  0,  0],\n",
       "       [ 0,  0,  1, ...,  0,  0,  0],\n",
       "       ...,\n",
       "       [ 0,  0,  0, ...,  1,  0,  0],\n",
       "       [ 0,  0,  0, ...,  0, 15,  0],\n",
       "       [ 0,  0,  0, ...,  0,  0, 21]])"
      ]
     },
     "execution_count": 501,
     "metadata": {},
     "output_type": "execute_result"
    }
   ],
   "source": [
    "mtx"
   ]
  },
  {
   "cell_type": "code",
   "execution_count": null,
   "metadata": {
    "Collapsed": "false"
   },
   "outputs": [],
   "source": [
    "def countGroups(related):\n",
    "    n = len(related[0])\n",
    "    mtx = np.array(list(map(int,''.join(related)))).reshape(len(related),n)\n",
    "\n",
    "    n = len(mtx)\n",
    "    q = 2\n",
    "\n",
    "    for i in range(len(mtx)):\n",
    "        if len(np.where(mtx[:,i] >= 1)[0]) > 1:\n",
    "            row_index = np.where(mtx[:,i] >= 1)[0][0]\n",
    "            if len([elem for elem in mtx[row_index] if elem > 1]) > 0:\n",
    "                if q == 2:\n",
    "                    mtx[:,i] = np.where(mtx[:,i] >= 1, q, mtx[:,i])\n",
    "                else:\n",
    "                    mtx[:,i] = np.where(mtx[:,i] >= 1, max([elem for elem in mtx[row_index] if elem > 1]), mtx[:,i])\n",
    "            else:\n",
    "                q += 1\n",
    "                mtx[:,i] = np.where(mtx[:,i] >= 1, q, mtx[:,i])\n",
    "        else:\n",
    "            try:\n",
    "                row_index = np.where(mtx[:,i] == 1)[0][0]\n",
    "                mtx[:,i] = np.where(mtx[:,i] == 1, max([elem for elem in mtx[row_index] if elem > 1]), mtx[:,i])\n",
    "            except:\n",
    "                q += 1\n",
    "                mtx[:,i] = np.where(mtx[:,i] == 1, q, mtx[:,i])\n",
    "                \n",
    "    res = len(np.unique(mtx))-1\n",
    "    return res"
   ]
  }
 ],
 "metadata": {
  "kernelspec": {
   "display_name": "Python 3",
   "language": "python",
   "name": "python3"
  },
  "language_info": {
   "codemirror_mode": {
    "name": "ipython",
    "version": 3
   },
   "file_extension": ".py",
   "mimetype": "text/x-python",
   "name": "python",
   "nbconvert_exporter": "python",
   "pygments_lexer": "ipython3",
   "version": "3.7.6"
  }
 },
 "nbformat": 4,
 "nbformat_minor": 4
}
