{
 "cells": [
  {
   "cell_type": "code",
   "execution_count": 1,
   "metadata": {
    "Collapsed": "false"
   },
   "outputs": [],
   "source": [
    "import numpy as np\n",
    "import pandas as pd"
   ]
  },
  {
   "cell_type": "code",
   "execution_count": 2,
   "metadata": {
    "Collapsed": "false"
   },
   "outputs": [],
   "source": [
    "def changeB(x,array):\n",
    "    width, height = array.shape\n",
    "    for w in range(width):\n",
    "        for h in range(height):\n",
    "            if array[w][h] == x:\n",
    "                array[w][h] = 0\n",
    "    return array"
   ]
  },
  {
   "cell_type": "code",
   "execution_count": 3,
   "metadata": {
    "Collapsed": "false"
   },
   "outputs": [],
   "source": [
    "def findN(w,h,array):\n",
    "    df = pd.DataFrame(array)\n",
    "    try:\n",
    "        l = df[w-1][h]\n",
    "    except:\n",
    "        l = 0\n",
    "    try:\n",
    "        r = df[w+1][h]\n",
    "    except:\n",
    "        r = 0\n",
    "    try:\n",
    "        u = df[w][h-1]\n",
    "    except:\n",
    "        u = 0\n",
    "    try:\n",
    "        d = df[w][h+1]\n",
    "    except:\n",
    "        d = 0\n",
    "    value = [l,r,u,d]\n",
    "    return value"
   ]
  },
  {
   "cell_type": "code",
   "execution_count": 4,
   "metadata": {
    "Collapsed": "false"
   },
   "outputs": [],
   "source": [
    "def loc(x):\n",
    "    if x == 0:\n",
    "        p,q = -1, 0\n",
    "    elif x == 1:\n",
    "        p,q = 1, 0\n",
    "    elif x == 2:\n",
    "        p,q = 0, -1\n",
    "    elif x == 3:\n",
    "        p,q = 0, 1\n",
    "    value = p,q\n",
    "    return value"
   ]
  },
  {
   "cell_type": "code",
   "execution_count": 5,
   "metadata": {
    "Collapsed": "false"
   },
   "outputs": [
    {
     "name": "stdout",
     "output_type": "stream",
     "text": [
      "2 4\n"
     ]
    }
   ],
   "source": [
    "rc = input().split()\n",
    "r = int(rc[0])\n",
    "c = int(rc[1])"
   ]
  },
  {
   "cell_type": "code",
   "execution_count": 6,
   "metadata": {
    "Collapsed": "false"
   },
   "outputs": [
    {
     "name": "stdout",
     "output_type": "stream",
     "text": [
      "ASQSZCDA\n"
     ]
    }
   ],
   "source": [
    "board = input()\n",
    "board = list(board)\n",
    "board = np.array(board).reshape(r,c)"
   ]
  },
  {
   "cell_type": "code",
   "execution_count": 7,
   "metadata": {
    "Collapsed": "false"
   },
   "outputs": [
    {
     "data": {
      "text/plain": [
       "array([['A', 'S', 'Q', 'S'],\n",
       "       ['Z', 'C', 'D', 'A']], dtype='<U1')"
      ]
     },
     "execution_count": 7,
     "metadata": {},
     "output_type": "execute_result"
    }
   ],
   "source": [
    "board"
   ]
  },
  {
   "cell_type": "code",
   "execution_count": 8,
   "metadata": {
    "Collapsed": "false"
   },
   "outputs": [
    {
     "data": {
      "text/plain": [
       "array([['0', 'S', 'Q', 'S'],\n",
       "       ['Z', 'C', 'D', '0']], dtype='<U1')"
      ]
     },
     "execution_count": 8,
     "metadata": {},
     "output_type": "execute_result"
    }
   ],
   "source": [
    "a = 0\n",
    "b = 0\n",
    "x = board[a][b]\n",
    "changeB(x, board)"
   ]
  },
  {
   "cell_type": "code",
   "execution_count": 9,
   "metadata": {
    "Collapsed": "false"
   },
   "outputs": [
    {
     "data": {
      "text/plain": [
       "array([['0', 'S', 'Q', 'S'],\n",
       "       ['Z', 'C', 'D', '0']], dtype='<U1')"
      ]
     },
     "execution_count": 9,
     "metadata": {},
     "output_type": "execute_result"
    }
   ],
   "source": [
    "board"
   ]
  },
  {
   "cell_type": "code",
   "execution_count": 10,
   "metadata": {
    "Collapsed": "false"
   },
   "outputs": [],
   "source": [
    "neighbor = findN(a,b,board)"
   ]
  },
  {
   "cell_type": "code",
   "execution_count": 11,
   "metadata": {
    "Collapsed": "false"
   },
   "outputs": [
    {
     "data": {
      "text/plain": [
       "[0, 'S', 0, 'Z']"
      ]
     },
     "execution_count": 11,
     "metadata": {},
     "output_type": "execute_result"
    }
   ],
   "source": [
    "# 왼쪽 오른쪽 위쪽 아래쪽\n",
    "neighbor"
   ]
  },
  {
   "cell_type": "code",
   "execution_count": 12,
   "metadata": {
    "Collapsed": "false"
   },
   "outputs": [],
   "source": [
    "data = []\n",
    "for i in range(4):\n",
    "    if neighbor[i] != 0:\n",
    "        p = loc(i)[0]\n",
    "        q = loc(i)[1]\n",
    "        value = [p,q,neighbor[i]]\n",
    "        data.append(value)"
   ]
  },
  {
   "cell_type": "code",
   "execution_count": 13,
   "metadata": {
    "Collapsed": "false"
   },
   "outputs": [
    {
     "data": {
      "text/plain": [
       "[[1, 0, 'S'], [0, 1, 'Z']]"
      ]
     },
     "execution_count": 13,
     "metadata": {},
     "output_type": "execute_result"
    }
   ],
   "source": [
    "data"
   ]
  },
  {
   "cell_type": "code",
   "execution_count": null,
   "metadata": {
    "Collapsed": "false"
   },
   "outputs": [],
   "source": [
    "for raw in data:\n",
    "    p = "
   ]
  },
  {
   "cell_type": "code",
   "execution_count": null,
   "metadata": {
    "Collapsed": "false"
   },
   "outputs": [],
   "source": [
    "a = 0\n",
    "b = 0\n",
    "x = board[a][b]\n",
    "changeB(x, board)\n",
    "neighbor = findN(a,b,board)\n",
    "data = []\n",
    "for i in range(4):\n",
    "    if neighbor[i] != 0:\n",
    "        p = loc(i)[0]\n",
    "        q = loc(i)[1]\n",
    "        value = [p,q,neighbor[i]]\n",
    "        data.append(value)\n",
    "\n",
    "p = data[0][0]\n",
    "q = data[0][1]\n",
    "a = a+p\n",
    "b = a+q\n",
    "x = board[a][b]\n",
    "changeB(x, board)\n",
    "neighbor = findN(a,b,board)\n",
    "data = []\n",
    "for i in range(4):\n",
    "    if neighbor[i] != 0:\n",
    "        p = loc(i)[0]\n",
    "        q = loc(i)[1]\n",
    "        value = [p,q,neighbor[i]]\n",
    "        data.append(value)"
   ]
  },
  {
   "cell_type": "code",
   "execution_count": null,
   "metadata": {
    "Collapsed": "false"
   },
   "outputs": [],
   "source": [
    "def getRoute(array):\n",
    "    route = []\n",
    "    p = 0\n",
    "    q = 0\n",
    "    a += p\n",
    "    b += q\n",
    "    x = board[a][b]\n",
    "    route.append(x)\n",
    "    data = process(x, board, a, b)\n",
    "    if len(data) = 0:\n",
    "        return \n",
    "    else:\n",
    "        for raw in data:\n",
    "            p = raw[0]\n",
    "            q = raw[1]\n",
    "            x = raw[2]\n",
    "            route.append(x)\n",
    "        \n"
   ]
  },
  {
   "cell_type": "code",
   "execution_count": 5,
   "metadata": {
    "Collapsed": "false"
   },
   "outputs": [],
   "source": [
    "def lenN(neighbor):\n",
    "    data = []\n",
    "    for i in range(4):\n",
    "        if neighbor[i] != 0:\n",
    "            p = loc(i)[0]\n",
    "            q = loc(i)[1]\n",
    "            value = [p,q,neighbor[i]]\n",
    "            data.append(value)\n",
    "    return data"
   ]
  },
  {
   "cell_type": "code",
   "execution_count": 6,
   "metadata": {
    "Collapsed": "false"
   },
   "outputs": [],
   "source": [
    "def process(x, array, a, b):\n",
    "    chageB(x, array)\n",
    "    neighbor = findN(a,b,array)\n",
    "    data = lenN(neighbor)\n",
    "    return data"
   ]
  },
  {
   "cell_type": "code",
   "execution_count": null,
   "metadata": {
    "Collapsed": "false"
   },
   "outputs": [],
   "source": []
  },
  {
   "cell_type": "code",
   "execution_count": null,
   "metadata": {
    "Collapsed": "false"
   },
   "outputs": [],
   "source": []
  },
  {
   "cell_type": "code",
   "execution_count": null,
   "metadata": {
    "Collapsed": "false"
   },
   "outputs": [],
   "source": []
  },
  {
   "cell_type": "markdown",
   "metadata": {
    "Collapsed": "false"
   },
   "source": [
    "# 2번"
   ]
  },
  {
   "cell_type": "code",
   "execution_count": 211,
   "metadata": {
    "Collapsed": "false"
   },
   "outputs": [
    {
     "name": "stdin",
     "output_type": "stream",
     "text": [
      " 4\n",
      " 0 1 2 3\n",
      " 4 0 5 6\n",
      " 7 1 0 2\n",
      " 3 4 5 0\n"
     ]
    },
    {
     "name": "stdout",
     "output_type": "stream",
     "text": [
      "0\n"
     ]
    }
   ],
   "source": [
    "import numpy as np\n",
    "from itertools import combinations\n",
    "from itertools import permutations\n",
    "n = int(input())\n",
    "s = []\n",
    "for i in range(n):\n",
    "    i = input().split(' ')\n",
    "    s.extend(i)\n",
    "\n",
    "s = list(map(int, s))\n",
    "s = np.array(s).reshape(n,n)\n",
    "p = np.arange(0,n)\n",
    "result = []\n",
    "for i in range(1,len(p)):\n",
    "    c=combinations(p,i)\n",
    "    result.extend(c)\n",
    "\n",
    "alls = []\n",
    "k = len(result)\n",
    "for i in range(int(k/2)):\n",
    "    value = [result[i], result[k-i-1]]\n",
    "    alls.append(value)\n",
    "    \n",
    "def getScore(array,x):\n",
    "    locs = list(permutations(x,2))\n",
    "    va = 0\n",
    "    for loc in locs:\n",
    "        v = array[loc[0]][loc[1]]\n",
    "        va += v\n",
    "    return va\n",
    "    \n",
    "h = []\n",
    "for i in alls:\n",
    "    try:\n",
    "        s1 = getScore(s,i[0])\n",
    "    except:\n",
    "        s1 = 0\n",
    "    s2 = getScore(s,i[1])\n",
    "    \n",
    "    if len(i[0]) == 0:\n",
    "        s1 = 0\n",
    "        \n",
    "    value = abs(s1 - s2)\n",
    "    h.append(value)\n",
    "    \n",
    "print(min(h))"
   ]
  },
  {
   "cell_type": "code",
   "execution_count": 153,
   "metadata": {
    "Collapsed": "false"
   },
   "outputs": [],
   "source": [
    "import numpy as np"
   ]
  },
  {
   "cell_type": "code",
   "execution_count": 154,
   "metadata": {
    "Collapsed": "false"
   },
   "outputs": [
    {
     "name": "stdin",
     "output_type": "stream",
     "text": [
      " 4\n",
      " 0 1 2 3\n",
      " 4 0 5 6\n",
      " 7 1 0 2\n",
      " 3 4 5 0\n"
     ]
    }
   ],
   "source": [
    "n = int(input()) \n",
    "s = []\n",
    "for i in range(n):\n",
    "    i = input().split(' ')\n",
    "    s.extend(i)"
   ]
  },
  {
   "cell_type": "code",
   "execution_count": 155,
   "metadata": {
    "Collapsed": "false"
   },
   "outputs": [],
   "source": [
    "s = list(map(int, s))"
   ]
  },
  {
   "cell_type": "code",
   "execution_count": 156,
   "metadata": {
    "Collapsed": "false"
   },
   "outputs": [],
   "source": [
    "s = np.array(s).reshape(n,n)"
   ]
  },
  {
   "cell_type": "code",
   "execution_count": 158,
   "metadata": {
    "Collapsed": "false"
   },
   "outputs": [],
   "source": [
    "p = np.arange(0,n)"
   ]
  },
  {
   "cell_type": "code",
   "execution_count": 160,
   "metadata": {
    "Collapsed": "false"
   },
   "outputs": [],
   "source": [
    "from itertools import combinations"
   ]
  },
  {
   "cell_type": "code",
   "execution_count": 168,
   "metadata": {
    "Collapsed": "false"
   },
   "outputs": [],
   "source": [
    "result = []\n",
    "for i in range(1,len(p)):\n",
    "    c=combinations(p,i)\n",
    "    result.extend(c)"
   ]
  },
  {
   "cell_type": "code",
   "execution_count": 170,
   "metadata": {
    "Collapsed": "false"
   },
   "outputs": [
    {
     "name": "stdout",
     "output_type": "stream",
     "text": [
      "0\n",
      "1\n",
      "2\n",
      "3\n",
      "4\n",
      "5\n",
      "6\n"
     ]
    }
   ],
   "source": [
    "alls = []\n",
    "k = len(result)\n",
    "for i in range(int(k/2)):\n",
    "    value = [result[i], result[k-i-1]]\n",
    "    alls.append(value)"
   ]
  },
  {
   "cell_type": "code",
   "execution_count": 172,
   "metadata": {
    "Collapsed": "false"
   },
   "outputs": [],
   "source": [
    "from itertools import permutations"
   ]
  },
  {
   "cell_type": "code",
   "execution_count": 207,
   "metadata": {
    "Collapsed": "false"
   },
   "outputs": [
    {
     "name": "stdout",
     "output_type": "stream",
     "text": [
      "[(0,), (1, 2, 3)]\n",
      "[(1,), (0, 2, 3)]\n",
      "[(2,), (0, 1, 3)]\n",
      "[(3,), (0, 1, 2)]\n",
      "[(0, 1), (2, 3)]\n",
      "[(0, 2), (1, 3)]\n",
      "[(0, 3), (1, 2)]\n"
     ]
    }
   ],
   "source": [
    "h = []\n",
    "for i in alls:\n",
    "    print(i)\n",
    "    try:\n",
    "        s1 = getScore(s,i[0])\n",
    "    except:\n",
    "        s1 = 0\n",
    "    s2 = getScore(s,i[1])\n",
    "    \n",
    "    if len(i[0]) == 0:\n",
    "        s1 = 0\n",
    "        \n",
    "    value = abs(s1 - s2)\n",
    "\n",
    "    h.append(value)"
   ]
  },
  {
   "cell_type": "code",
   "execution_count": 206,
   "metadata": {
    "Collapsed": "false"
   },
   "outputs": [],
   "source": [
    "def getScore(array,x):\n",
    "    locs = list(permutations(x,2))\n",
    "    va = 0\n",
    "    for loc in locs:\n",
    "        v = array[loc[0]][loc[1]]\n",
    "        va += v\n",
    "    return va"
   ]
  },
  {
   "cell_type": "code",
   "execution_count": 210,
   "metadata": {
    "Collapsed": "false"
   },
   "outputs": [
    {
     "name": "stdout",
     "output_type": "stream",
     "text": [
      "0\n"
     ]
    }
   ],
   "source": [
    "print(min(h))"
   ]
  },
  {
   "cell_type": "markdown",
   "metadata": {
    "Collapsed": "false"
   },
   "source": [
    "# 3번"
   ]
  },
  {
   "cell_type": "code",
   "execution_count": null,
   "metadata": {
    "Collapsed": "false"
   },
   "outputs": [],
   "source": []
  },
  {
   "cell_type": "code",
   "execution_count": null,
   "metadata": {
    "Collapsed": "false"
   },
   "outputs": [],
   "source": []
  },
  {
   "cell_type": "code",
   "execution_count": null,
   "metadata": {
    "Collapsed": "false"
   },
   "outputs": [],
   "source": []
  },
  {
   "cell_type": "markdown",
   "metadata": {
    "Collapsed": "false"
   },
   "source": [
    "# 4번"
   ]
  },
  {
   "cell_type": "code",
   "execution_count": 241,
   "metadata": {
    "Collapsed": "false"
   },
   "outputs": [
    {
     "name": "stdin",
     "output_type": "stream",
     "text": [
      " 2\n",
      " ABC\n",
      " CCC\n"
     ]
    }
   ],
   "source": [
    "n = int(input())\n",
    "words = []\n",
    "for i in range(n):\n",
    "    i = input()\n",
    "    words.append(i)\n",
    "\n"
   ]
  },
  {
   "cell_type": "code",
   "execution_count": 242,
   "metadata": {
    "Collapsed": "false"
   },
   "outputs": [
    {
     "data": {
      "text/plain": [
       "['ABC', 'CCC']"
      ]
     },
     "execution_count": 242,
     "metadata": {},
     "output_type": "execute_result"
    }
   ],
   "source": [
    "words"
   ]
  },
  {
   "cell_type": "code",
   "execution_count": 224,
   "metadata": {
    "Collapsed": "false"
   },
   "outputs": [
    {
     "data": {
      "text/plain": [
       "(3, 3)"
      ]
     },
     "execution_count": 224,
     "metadata": {},
     "output_type": "execute_result"
    }
   ],
   "source": [
    "len(words[0]), len(words[1])"
   ]
  },
  {
   "cell_type": "code",
   "execution_count": 225,
   "metadata": {
    "Collapsed": "false"
   },
   "outputs": [
    {
     "data": {
      "text/plain": [
       "999"
      ]
     },
     "execution_count": 225,
     "metadata": {},
     "output_type": "execute_result"
    }
   ],
   "source": [
    "(10 ** 3 -1)"
   ]
  },
  {
   "cell_type": "code",
   "execution_count": 226,
   "metadata": {
    "Collapsed": "false"
   },
   "outputs": [
    {
     "data": {
      "text/plain": [
       "'A'"
      ]
     },
     "execution_count": 226,
     "metadata": {},
     "output_type": "execute_result"
    }
   ],
   "source": [
    "words[1][0]"
   ]
  },
  {
   "cell_type": "code",
   "execution_count": 249,
   "metadata": {
    "Collapsed": "false"
   },
   "outputs": [
    {
     "data": {
      "text/plain": [
       "{'A', 'B', 'C'}"
      ]
     },
     "execution_count": 249,
     "metadata": {},
     "output_type": "execute_result"
    }
   ],
   "source": [
    "uniques = set(''.join(words))\n",
    "uniques"
   ]
  },
  {
   "cell_type": "code",
   "execution_count": 291,
   "metadata": {
    "Collapsed": "false"
   },
   "outputs": [],
   "source": [
    "t = []\n",
    "\n",
    "for unique in uniques:\n",
    "    b = []\n",
    "    for word in words:\n",
    "        a = []\n",
    "        for q in list(word):\n",
    "            if unique == q:\n",
    "                v = 1\n",
    "            else:\n",
    "                v = 0\n",
    "            a.append(v)\n",
    "        b.append(a)\n",
    "    t.append(b)"
   ]
  },
  {
   "cell_type": "code",
   "execution_count": 292,
   "metadata": {
    "Collapsed": "false"
   },
   "outputs": [
    {
     "data": {
      "text/plain": [
       "[[[0, 1, 0], [0, 0, 0]], [[1, 0, 0], [0, 0, 0]], [[0, 0, 1], [1, 1, 1]]]"
      ]
     },
     "execution_count": 292,
     "metadata": {},
     "output_type": "execute_result"
    }
   ],
   "source": [
    "t"
   ]
  },
  {
   "cell_type": "code",
   "execution_count": 293,
   "metadata": {
    "Collapsed": "false"
   },
   "outputs": [
    {
     "data": {
      "text/plain": [
       "{'A', 'B', 'C'}"
      ]
     },
     "execution_count": 293,
     "metadata": {},
     "output_type": "execute_result"
    }
   ],
   "source": [
    "uniques"
   ]
  },
  {
   "cell_type": "code",
   "execution_count": 301,
   "metadata": {
    "Collapsed": "false"
   },
   "outputs": [
    {
     "name": "stdout",
     "output_type": "stream",
     "text": [
      "10\n",
      "100\n",
      "112\n"
     ]
    }
   ],
   "source": [
    "for z in t:\n",
    "    w = 0\n",
    "    for k in z:\n",
    "        for q in range(len(k)):\n",
    "            if k[q] == 1:\n",
    "                w += 10 ** (len(k) - q-1)\n",
    "    print(w)"
   ]
  },
  {
   "cell_type": "code",
   "execution_count": null,
   "metadata": {
    "Collapsed": "false"
   },
   "outputs": [],
   "source": []
  }
 ],
 "metadata": {
  "kernelspec": {
   "display_name": "Python 3",
   "language": "python",
   "name": "python3"
  },
  "language_info": {
   "codemirror_mode": {
    "name": "ipython",
    "version": 3
   },
   "file_extension": ".py",
   "mimetype": "text/x-python",
   "name": "python",
   "nbconvert_exporter": "python",
   "pygments_lexer": "ipython3",
   "version": "3.7.6"
  }
 },
 "nbformat": 4,
 "nbformat_minor": 4
}
