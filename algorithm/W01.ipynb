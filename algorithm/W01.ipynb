{
 "cells": [
  {
   "cell_type": "markdown",
   "metadata": {
    "Collapsed": "false"
   },
   "source": [
    "## 1. X를 정수로 입력받은 후 1를 더한 값을 출력하시오."
   ]
  },
  {
   "cell_type": "code",
   "execution_count": 1,
   "metadata": {
    "Collapsed": "false"
   },
   "outputs": [
    {
     "name": "stdin",
     "output_type": "stream",
     "text": [
      " 5\n"
     ]
    },
    {
     "name": "stdout",
     "output_type": "stream",
     "text": [
      "6\n"
     ]
    }
   ],
   "source": [
    "X = int(input())\n",
    "\n",
    "print(X+1)"
   ]
  },
  {
   "cell_type": "markdown",
   "metadata": {
    "Collapsed": "false"
   },
   "source": [
    "## 2. 승현이는 갓빅스 광고판 제작자이다. 승현이는 성격이 각지기 때문에 자기가 세워놓은 사각형 광고판을 가리는 걸 싫어한다. 그러던 어느날 광고판 경쟁업체 바이아즈와 베이타민에서 광고판을 가렸다는 사실을 알게 되었다. 승현이를 도와 각 광고판이 가리지 않은 부분의 넓이를 구해주자. \n",
    "\n",
    "입력\n",
    "\n",
    "첫번째 줄에는 갓빅스의 광고판의 왼쪽 아래 좌표와 오른쪽 위 좌표가 주어진다. 좌표의 범위는 -100~100 까지이다.\n",
    "\n",
    "a, b, c, d (a, b), (c, d)\n",
    "\n",
    "그리고 두, 세번째 줄에는 각각 바이아즈와 베이타민 광고판의 왼쪽 아래 좌표와 오른쪽 위 좌표가 주어진다. \n",
    "\n",
    "출력 \n",
    "\n",
    "좌표가 주어졌을 때 각 갓빅스 사각형의 가리지 않은 부분의 넓이를 구해주자.\n",
    "\n",
    "예제 입력 1\n",
    "\n",
    "1 2 3 5\n",
    "\n",
    "6 0 10 4\n",
    "\n",
    "2 1 8 3\n",
    "\n",
    "예제 출력 1\n",
    "\n",
    "5"
   ]
  },
  {
   "cell_type": "code",
   "execution_count": 158,
   "metadata": {
    "Collapsed": "false"
   },
   "outputs": [],
   "source": [
    "import random"
   ]
  },
  {
   "cell_type": "code",
   "execution_count": null,
   "metadata": {
    "Collapsed": "false"
   },
   "outputs": [],
   "source": [
    "# a : 깃빅스 광고판 좌표\n",
    "# b : 바이아즈 광고판 좌표\n",
    "# c : 베이타민 광고판 좌표"
   ]
  },
  {
   "cell_type": "code",
   "execution_count": 241,
   "metadata": {
    "Collapsed": "false"
   },
   "outputs": [],
   "source": [
    "# 좌표 랜덤 부여\n",
    "a = random.sample(range(-100,100),4)\n",
    "b = random.sample(range(-100,100),4)\n",
    "c = random.sample(range(-100,100),4)"
   ]
  },
  {
   "cell_type": "code",
   "execution_count": 285,
   "metadata": {
    "Collapsed": "false"
   },
   "outputs": [],
   "source": [
    "a = [1,2,3,5]\n",
    "b = [6,0,10,4]\n",
    "c = [2,1,8,3]"
   ]
  },
  {
   "cell_type": "code",
   "execution_count": 286,
   "metadata": {
    "Collapsed": "false"
   },
   "outputs": [],
   "source": [
    "# 재정렬 함수 (x1,y1,x2,y2)\n",
    "# 왼쪽 하단, 오른쪽 상단 기준\n",
    "def sortList(x):\n",
    "    if x[0] > x[2]:\n",
    "        temp = x[2]\n",
    "        x[2] = x[0]\n",
    "        x[0] = temp\n",
    "    if x[1] > x[3]:\n",
    "        temp2 = x[3]\n",
    "        x[3] = x[1]\n",
    "        x[1] = temp2\n",
    "    return x"
   ]
  },
  {
   "cell_type": "code",
   "execution_count": 287,
   "metadata": {
    "Collapsed": "false"
   },
   "outputs": [],
   "source": [
    "# 갓빅스 광고판 넓이 구하기\n",
    "def getArea(x):\n",
    "    area = abs(x[2] - x[0]) * abs(x[3] - x[1])\n",
    "    return area"
   ]
  },
  {
   "cell_type": "code",
   "execution_count": 293,
   "metadata": {
    "Collapsed": "false"
   },
   "outputs": [],
   "source": [
    "# 갓빅스와 두 광고판이 각각 겹치는 부분\n",
    "# 아예 겹치는 않을 때 고려해야함\n",
    "def getInter(x,y):\n",
    "    if x[0] > y[2] or x[3] < y[1] or x[2] < y[0] or x[1] > y[3]:\n",
    "        inter = 0\n",
    "    else:\n",
    "        inter = abs(min(x[2],y[2]) - max(x[0], y[0])) * abs(min(x[3], y[3]) - max(x[1], y[1]))\n",
    "    return inter"
   ]
  },
  {
   "cell_type": "code",
   "execution_count": 289,
   "metadata": {
    "Collapsed": "false"
   },
   "outputs": [],
   "source": [
    "# 바이아즈와 베이타민이 겹치는 부분\n",
    "def getDuple(x,y,z):\n",
    "    if getInter(a,b) == 0 or getInter(a,c) == 0:\n",
    "        duple = 0\n",
    "    else:\n",
    "        duple = abs(min(x[2], y[2], c[2]) - max(x[0], y[0], z[0])) * abs(min(x[3], y[3], z[3]) - max(x[1], y[1], z[1]))\n",
    "    return duple"
   ]
  },
  {
   "cell_type": "code",
   "execution_count": 295,
   "metadata": {
    "Collapsed": "false"
   },
   "outputs": [
    {
     "data": {
      "text/plain": [
       "1"
      ]
     },
     "execution_count": 295,
     "metadata": {},
     "output_type": "execute_result"
    }
   ],
   "source": [
    "getInter(a,c)"
   ]
  },
  {
   "cell_type": "code",
   "execution_count": 296,
   "metadata": {
    "Collapsed": "false"
   },
   "outputs": [
    {
     "name": "stdout",
     "output_type": "stream",
     "text": [
      "a의 좌표는 : [1, 2, 3, 5]\n",
      "b의 좌표는 : [6, 0, 10, 4]\n",
      "c의 좌표는 : [2, 1, 8, 3]\n",
      "a의 넓이는 :  6\n",
      "가리지 않은 a의 넓이는 :  5\n"
     ]
    }
   ],
   "source": [
    "sortList(a)\n",
    "sortList(b)\n",
    "sortList(c)\n",
    "\n",
    "print('a의 좌표는 :', a)\n",
    "print('b의 좌표는 :', b)\n",
    "print('c의 좌표는 :', c)\n",
    "print('a의 넓이는 : ', getArea(a))\n",
    "(print('가리지 않은 a의 넓이는 : ', getArea(a) - (getInter(a,b) + getInter(a,c) - getDuple(a,b,c))))"
   ]
  },
  {
   "cell_type": "markdown",
   "metadata": {
    "Collapsed": "false"
   },
   "source": [
    "## 수아는 투빅스 천재 해커이다. 그래서 비밀번호에 특수문자가 들어가는 걸 매우 싫어한다. 수아가 만든 비밀번호에 숫자 혹은 영어 알파벳이 아닌 특수문자를 제거하는 프로그램을 만들어 보자."
   ]
  },
  {
   "cell_type": "code",
   "execution_count": 251,
   "metadata": {
    "Collapsed": "false"
   },
   "outputs": [],
   "source": [
    "import re"
   ]
  },
  {
   "cell_type": "code",
   "execution_count": 252,
   "metadata": {
    "Collapsed": "false"
   },
   "outputs": [],
   "source": [
    "# 텍스트에 포함되어 있는 특수 문자 제거\n",
    "def cleanText(readData):\n",
    "    text = re.sub('[-=+,#/\\?:^$.@*\\\"※~&%ㆍ!』\\\\‘|\\(\\)\\[\\]\\<\\>`\\'…》]', '', readData)\n",
    "    return text"
   ]
  },
  {
   "cell_type": "code",
   "execution_count": 254,
   "metadata": {
    "Collapsed": "false"
   },
   "outputs": [
    {
     "name": "stdout",
     "output_type": "stream",
     "text": [
      "Overwatch1\n",
      "Overwatch1\n"
     ]
    }
   ],
   "source": [
    "data = cleanText('Overwatch1!')\n",
    "print(data)\n",
    "\n",
    "data = cleanText('Overwatch1')\n",
    "print(data)"
   ]
  },
  {
   "cell_type": "code",
   "execution_count": null,
   "metadata": {
    "Collapsed": "false"
   },
   "outputs": [],
   "source": []
  },
  {
   "cell_type": "code",
   "execution_count": 282,
   "metadata": {
    "Collapsed": "false"
   },
   "outputs": [
    {
     "name": "stdin",
     "output_type": "stream",
     "text": [
      " 1 2 3 4\n"
     ]
    }
   ],
   "source": [
    "a = input().split()"
   ]
  },
  {
   "cell_type": "code",
   "execution_count": 279,
   "metadata": {
    "Collapsed": "false"
   },
   "outputs": [],
   "source": [
    "i = 0\n",
    "for x in a:\n",
    "    a[i] = int(x)\n",
    "    i += 1"
   ]
  },
  {
   "cell_type": "code",
   "execution_count": 283,
   "metadata": {
    "Collapsed": "false"
   },
   "outputs": [],
   "source": [
    "def changeInt(x):\n",
    "    i = 0\n",
    "    for y in x:\n",
    "        x[i] = int(y)\n",
    "        i += 1\n",
    "    return x"
   ]
  },
  {
   "cell_type": "code",
   "execution_count": 284,
   "metadata": {
    "Collapsed": "false"
   },
   "outputs": [
    {
     "data": {
      "text/plain": [
       "[1, 2, 3, 4]"
      ]
     },
     "execution_count": 284,
     "metadata": {},
     "output_type": "execute_result"
    }
   ],
   "source": [
    "changeInt(a)"
   ]
  },
  {
   "cell_type": "code",
   "execution_count": 2,
   "metadata": {
    "Collapsed": "false"
   },
   "outputs": [],
   "source": [
    "import numpy as np"
   ]
  },
  {
   "cell_type": "code",
   "execution_count": 3,
   "metadata": {
    "Collapsed": "false"
   },
   "outputs": [],
   "source": [
    "a = np.arange(1,5)"
   ]
  },
  {
   "cell_type": "code",
   "execution_count": 4,
   "metadata": {
    "Collapsed": "false"
   },
   "outputs": [
    {
     "data": {
      "text/plain": [
       "10"
      ]
     },
     "execution_count": 4,
     "metadata": {},
     "output_type": "execute_result"
    }
   ],
   "source": [
    "sum(a)"
   ]
  },
  {
   "cell_type": "code",
   "execution_count": null,
   "metadata": {
    "Collapsed": "false"
   },
   "outputs": [],
   "source": []
  },
  {
   "cell_type": "code",
   "execution_count": 13,
   "metadata": {
    "Collapsed": "false"
   },
   "outputs": [],
   "source": [
    "def f(prices):\n",
    "    profit = 0\n",
    "    max_profit = prices[len(prices) - 1]\n",
    "    \n",
    "    for i in range(len(prices)-2, -1, -1):\n",
    "        if prices[i] < max_profit:\n",
    "            profit += max_profit - prices[i]\n",
    "        else:\n",
    "            max_profit = prices[i]\n",
    "    return profit"
   ]
  },
  {
   "cell_type": "code",
   "execution_count": 20,
   "metadata": {
    "Collapsed": "false"
   },
   "outputs": [],
   "source": [
    "a = np.array([5,3,2])"
   ]
  },
  {
   "cell_type": "code",
   "execution_count": 21,
   "metadata": {
    "Collapsed": "false"
   },
   "outputs": [
    {
     "data": {
      "text/plain": [
       "0"
      ]
     },
     "execution_count": 21,
     "metadata": {},
     "output_type": "execute_result"
    }
   ],
   "source": [
    "f(a)"
   ]
  },
  {
   "cell_type": "code",
   "execution_count": 23,
   "metadata": {
    "Collapsed": "false"
   },
   "outputs": [
    {
     "data": {
      "text/plain": [
       "2"
      ]
     },
     "execution_count": 23,
     "metadata": {},
     "output_type": "execute_result"
    }
   ],
   "source": [
    "a[2]"
   ]
  },
  {
   "cell_type": "code",
   "execution_count": 25,
   "metadata": {
    "Collapsed": "false"
   },
   "outputs": [],
   "source": [
    "a = np.arange(1,20)"
   ]
  },
  {
   "cell_type": "code",
   "execution_count": 28,
   "metadata": {
    "Collapsed": "false"
   },
   "outputs": [
    {
     "data": {
      "text/plain": [
       "array([15, 16, 17, 18, 19])"
      ]
     },
     "execution_count": 28,
     "metadata": {},
     "output_type": "execute_result"
    }
   ],
   "source": [
    "a[-5:]"
   ]
  },
  {
   "cell_type": "code",
   "execution_count": 29,
   "metadata": {
    "Collapsed": "false"
   },
   "outputs": [
    {
     "name": "stdin",
     "output_type": "stream",
     "text": [
      " ㄴ\n"
     ]
    }
   ],
   "source": [
    "STDIN = input().split('\\n')"
   ]
  },
  {
   "cell_type": "code",
   "execution_count": 31,
   "metadata": {
    "Collapsed": "false"
   },
   "outputs": [
    {
     "ename": "TypeError",
     "evalue": "slice indices must be integers or None or have an __index__ method",
     "output_type": "error",
     "traceback": [
      "\u001b[0;31m---------------------------------------------------------------------------\u001b[0m",
      "\u001b[0;31mTypeError\u001b[0m                                 Traceback (most recent call last)",
      "\u001b[0;32m<ipython-input-31-ad6996ff8e35>\u001b[0m in \u001b[0;36m<module>\u001b[0;34m\u001b[0m\n\u001b[0;32m----> 1\u001b[0;31m \u001b[0ma\u001b[0m\u001b[0;34m[\u001b[0m\u001b[0;36m5.0\u001b[0m\u001b[0;34m:\u001b[0m\u001b[0;34m]\u001b[0m\u001b[0;34m\u001b[0m\u001b[0;34m\u001b[0m\u001b[0m\n\u001b[0m",
      "\u001b[0;31mTypeError\u001b[0m: slice indices must be integers or None or have an __index__ method"
     ]
    }
   ],
   "source": [
    "a[5.0:]"
   ]
  },
  {
   "cell_type": "code",
   "execution_count": 32,
   "metadata": {
    "Collapsed": "false"
   },
   "outputs": [
    {
     "data": {
      "text/plain": [
       "array([ 1,  2,  3,  4,  5,  6,  7,  8,  9, 10, 11, 12, 13, 14, 15, 16, 17,\n",
       "       18, 19])"
      ]
     },
     "execution_count": 32,
     "metadata": {},
     "output_type": "execute_result"
    }
   ],
   "source": [
    "a"
   ]
  },
  {
   "cell_type": "code",
   "execution_count": 33,
   "metadata": {
    "Collapsed": "false"
   },
   "outputs": [
    {
     "data": {
      "text/plain": [
       "(array([1]),)"
      ]
     },
     "execution_count": 33,
     "metadata": {},
     "output_type": "execute_result"
    }
   ],
   "source": [
    "np.where(a == 2)"
   ]
  },
  {
   "cell_type": "code",
   "execution_count": 38,
   "metadata": {
    "Collapsed": "false"
   },
   "outputs": [
    {
     "data": {
      "text/plain": [
       "2"
      ]
     },
     "execution_count": 38,
     "metadata": {},
     "output_type": "execute_result"
    }
   ],
   "source": [
    "list(a).index(3)"
   ]
  },
  {
   "cell_type": "code",
   "execution_count": 37,
   "metadata": {
    "Collapsed": "false"
   },
   "outputs": [
    {
     "ename": "AttributeError",
     "evalue": "'numpy.ndarray' object has no attribute 'index'",
     "output_type": "error",
     "traceback": [
      "\u001b[0;31m---------------------------------------------------------------------------\u001b[0m",
      "\u001b[0;31mAttributeError\u001b[0m                            Traceback (most recent call last)",
      "\u001b[0;32m<ipython-input-37-75145a0d9b8b>\u001b[0m in \u001b[0;36m<module>\u001b[0;34m\u001b[0m\n\u001b[0;32m----> 1\u001b[0;31m \u001b[0ma\u001b[0m\u001b[0;34m.\u001b[0m\u001b[0mindex\u001b[0m\u001b[0;34m(\u001b[0m\u001b[0;36m3\u001b[0m\u001b[0;34m)\u001b[0m\u001b[0;34m\u001b[0m\u001b[0;34m\u001b[0m\u001b[0m\n\u001b[0m",
      "\u001b[0;31mAttributeError\u001b[0m: 'numpy.ndarray' object has no attribute 'index'"
     ]
    }
   ],
   "source": [
    "a.index(3)"
   ]
  },
  {
   "cell_type": "code",
   "execution_count": 40,
   "metadata": {
    "Collapsed": "false"
   },
   "outputs": [],
   "source": [
    "b = list(a)"
   ]
  },
  {
   "cell_type": "code",
   "execution_count": 62,
   "metadata": {
    "Collapsed": "false"
   },
   "outputs": [
    {
     "data": {
      "text/plain": [
       "[1.5,\n",
       " 0.5,\n",
       " 0.5,\n",
       " 1.5,\n",
       " 2.5,\n",
       " 3.5,\n",
       " 4.5,\n",
       " 5.5,\n",
       " 6.5,\n",
       " 7.5,\n",
       " 8.5,\n",
       " 9.5,\n",
       " 10.5,\n",
       " 11.5,\n",
       " 12.5,\n",
       " 13.5,\n",
       " 14.5,\n",
       " 15.5,\n",
       " 16.5]"
      ]
     },
     "execution_count": 62,
     "metadata": {},
     "output_type": "execute_result"
    }
   ],
   "source": [
    "list(map(lambda x : abs(x-2.5), b))"
   ]
  },
  {
   "cell_type": "code",
   "execution_count": 61,
   "metadata": {
    "Collapsed": "false"
   },
   "outputs": [
    {
     "data": {
      "text/plain": [
       "0.5"
      ]
     },
     "execution_count": 61,
     "metadata": {},
     "output_type": "execute_result"
    }
   ],
   "source": [
    "min(list(map(lambda x : abs(x-2.5), b)))"
   ]
  },
  {
   "cell_type": "code",
   "execution_count": 63,
   "metadata": {
    "Collapsed": "false"
   },
   "outputs": [
    {
     "data": {
      "text/plain": [
       "(3.0, 2.0)"
      ]
     },
     "execution_count": 63,
     "metadata": {},
     "output_type": "execute_result"
    }
   ],
   "source": [
    "0.5 + 2.5, 2.5 - 0.5"
   ]
  },
  {
   "cell_type": "code",
   "execution_count": 68,
   "metadata": {
    "Collapsed": "false"
   },
   "outputs": [],
   "source": [
    "x = 50\n",
    "q = [10, 49, 177, 364, 608, 669, 850, 966, 1025, 1160, 1259, 1399, 1500]\n",
    "\n",
    "a = [i for i in q if x > i]"
   ]
  },
  {
   "cell_type": "code",
   "execution_count": 69,
   "metadata": {
    "Collapsed": "false"
   },
   "outputs": [
    {
     "data": {
      "text/plain": [
       "[10, 49]"
      ]
     },
     "execution_count": 69,
     "metadata": {},
     "output_type": "execute_result"
    }
   ],
   "source": [
    "a"
   ]
  },
  {
   "cell_type": "code",
   "execution_count": 72,
   "metadata": {
    "Collapsed": "false"
   },
   "outputs": [
    {
     "data": {
      "text/plain": [
       "49"
      ]
     },
     "execution_count": 72,
     "metadata": {},
     "output_type": "execute_result"
    }
   ],
   "source": [
    "a[-1]"
   ]
  },
  {
   "cell_type": "code",
   "execution_count": 75,
   "metadata": {
    "Collapsed": "false"
   },
   "outputs": [
    {
     "data": {
      "text/plain": [
       "177"
      ]
     },
     "execution_count": 75,
     "metadata": {},
     "output_type": "execute_result"
    }
   ],
   "source": [
    "q[q.index(a[-1]) + 1]"
   ]
  },
  {
   "cell_type": "code",
   "execution_count": 81,
   "metadata": {
    "Collapsed": "false"
   },
   "outputs": [
    {
     "name": "stdout",
     "output_type": "stream",
     "text": [
      "[10, 25, 50, 100, 500]\n",
      "X\n",
      "100 500\n",
      "[27.32, 23.13, 21.25, 18.0, 15.5]\n"
     ]
    },
    {
     "data": {
      "text/plain": [
       "6.125"
      ]
     },
     "execution_count": 81,
     "metadata": {},
     "output_type": "execute_result"
    }
   ],
   "source": [
    "# Enter your code here. Read input from STDIN. Print output to STDOUT\n",
    "\n",
    "# 만약 새로운 이벤트가 전 이벤트와 똑같은 양이라면, 가격은 똑같을 것이다\n",
    "# 양이 더 많거나 적으면 가장 가깝게 적거나 많은 곳에서 부터 가격을 선형적으로 참고한다\n",
    "# 데이터베이스가 1개의 데이터만 가지고 있으면,\n",
    "# 필요한 양이 너무 작거나 너무 크면 가장 가까운 2점을 참고해 선형적으로 추론한다\n",
    "# \n",
    "# import numpy as np\n",
    "# import sys\n",
    "# stdin = [line.strip() for line in sys.stdin]\n",
    "stdin = [2000\n",
    "            ,5\n",
    "            ,10\n",
    "            ,25\n",
    "            ,50\n",
    "            ,100\n",
    "            ,500\n",
    "            ,5\n",
    "            ,27.32\n",
    "            ,23.13\n",
    "            ,21.25\n",
    "            ,18.0\n",
    "            ,15.5]\n",
    "\n",
    "def interpolate(stdin):\n",
    "    x = int(stdin[0]); n = int(stdin[1])\n",
    "    quantity = list(map(int,stdin[2:2+n])); price = list(map(float, stdin[-n:]))\n",
    "\n",
    "    if n == 1:\n",
    "        res = float(price)\n",
    "    elif quantity.count(x) != 0:\n",
    "        res = price[quantity.index(x)]\n",
    "    elif max(quantity) > x > min(quantity):\n",
    "        a = [i for i in quantity if x > i]\n",
    "        ma, mb = a[-1], quantity[quantity.index(a-1) + 1]\n",
    "        res = ((price[quantity.index(ma)] - price[quantity.index(mb)]) / (ma - mb)) * (x - mb) + price[quantity.index(mb)]\n",
    "    else:\n",
    "        if x > max(quantity):\n",
    "            print(quantity)\n",
    "            print('X')\n",
    "            ma, mb = quantity[-2], quantity[-1]\n",
    "            print(ma, mb)\n",
    "            print(price)\n",
    "            res = ((price[quantity.index(ma)] - price[quantity.index(mb)]) / (ma - mb)) * (x - mb) + price[quantity.index(mb)]\n",
    "        else:\n",
    "            ma, mb = quantity[1], quantity[2]\n",
    "            res = ((price[quantity.index(ma)] - price[quantity.index(mb)]) / (ma - mb)) * (x - mb) + price[quantity.index(mb)]\n",
    "            \n",
    "    return res\n",
    "\n",
    "interpolate(stdin)"
   ]
  },
  {
   "cell_type": "code",
   "execution_count": 99,
   "metadata": {
    "Collapsed": "false"
   },
   "outputs": [],
   "source": [
    "a = [1,2,3,4,5,0,-1]\n",
    "b = [-1,0,2,4,1,-2,3]"
   ]
  },
  {
   "cell_type": "code",
   "execution_count": 103,
   "metadata": {
    "Collapsed": "false"
   },
   "outputs": [],
   "source": [
    "temp = [a for a in list(zip(a,b)) if a[1] > 0]"
   ]
  },
  {
   "cell_type": "code",
   "execution_count": 108,
   "metadata": {
    "Collapsed": "false"
   },
   "outputs": [
    {
     "data": {
      "text/plain": [
       "[(3, 2), (4, 4), (5, 1), (-1, 3)]"
      ]
     },
     "execution_count": 108,
     "metadata": {},
     "output_type": "execute_result"
    }
   ],
   "source": [
    "temp"
   ]
  },
  {
   "cell_type": "code",
   "execution_count": 107,
   "metadata": {
    "Collapsed": "false"
   },
   "outputs": [
    {
     "data": {
      "text/plain": [
       "array([ 3,  4,  5, -1])"
      ]
     },
     "execution_count": 107,
     "metadata": {},
     "output_type": "execute_result"
    }
   ],
   "source": [
    "np.array(temp)[:,0]"
   ]
  },
  {
   "cell_type": "code",
   "execution_count": 109,
   "metadata": {
    "Collapsed": "false"
   },
   "outputs": [
    {
     "data": {
      "text/plain": [
       "True"
      ]
     },
     "execution_count": 109,
     "metadata": {},
     "output_type": "execute_result"
    }
   ],
   "source": [
    "0 > -1.0"
   ]
  },
  {
   "cell_type": "code",
   "execution_count": 96,
   "metadata": {
    "Collapsed": "false"
   },
   "outputs": [],
   "source": [
    "b = list(map(lambda x : x if x > 0 else 0, a))"
   ]
  },
  {
   "cell_type": "code",
   "execution_count": 94,
   "metadata": {
    "Collapsed": "false"
   },
   "outputs": [
    {
     "data": {
      "text/plain": [
       "[1, 2, 3, 4, 5, 0]"
      ]
     },
     "execution_count": 94,
     "metadata": {},
     "output_type": "execute_result"
    }
   ],
   "source": [
    "zip()"
   ]
  },
  {
   "cell_type": "code",
   "execution_count": 111,
   "metadata": {
    "Collapsed": "false"
   },
   "outputs": [
    {
     "data": {
      "text/plain": [
       "25.421333333333333"
      ]
     },
     "execution_count": 111,
     "metadata": {},
     "output_type": "execute_result"
    }
   ],
   "source": [
    "(42.84 - 31.48) / (25 - 10) * (2 - 25) + 42.84"
   ]
  },
  {
   "cell_type": "code",
   "execution_count": 114,
   "metadata": {
    "Collapsed": "false"
   },
   "outputs": [],
   "source": [
    "x = 117\n",
    "quantity = [10, 25, 61, 118, 334, 366, 468, 631, 804, 869, 970, 1000]\n",
    "a = [i for i in quantity if x > i]"
   ]
  },
  {
   "cell_type": "code",
   "execution_count": 117,
   "metadata": {
    "Collapsed": "false"
   },
   "outputs": [
    {
     "ename": "TypeError",
     "evalue": "unsupported operand type(s) for -: 'list' and 'int'",
     "output_type": "error",
     "traceback": [
      "\u001b[0;31m---------------------------------------------------------------------------\u001b[0m",
      "\u001b[0;31mTypeError\u001b[0m                                 Traceback (most recent call last)",
      "\u001b[0;32m<ipython-input-117-7a9fcb0ada8f>\u001b[0m in \u001b[0;36m<module>\u001b[0;34m\u001b[0m\n\u001b[0;32m----> 1\u001b[0;31m \u001b[0ma\u001b[0m\u001b[0;34m[\u001b[0m\u001b[0;34m-\u001b[0m\u001b[0;36m1\u001b[0m\u001b[0;34m]\u001b[0m\u001b[0;34m,\u001b[0m \u001b[0mquantity\u001b[0m\u001b[0;34m[\u001b[0m\u001b[0mquantity\u001b[0m\u001b[0;34m.\u001b[0m\u001b[0mindex\u001b[0m\u001b[0;34m(\u001b[0m\u001b[0ma\u001b[0m\u001b[0;34m-\u001b[0m\u001b[0;36m1\u001b[0m\u001b[0;34m)\u001b[0m \u001b[0;34m+\u001b[0m \u001b[0;36m1\u001b[0m\u001b[0;34m]\u001b[0m\u001b[0;34m\u001b[0m\u001b[0;34m\u001b[0m\u001b[0m\n\u001b[0m",
      "\u001b[0;31mTypeError\u001b[0m: unsupported operand type(s) for -: 'list' and 'int'"
     ]
    }
   ],
   "source": [
    "a[-1], quantity[quantity.index(a-1) + 1]"
   ]
  },
  {
   "cell_type": "code",
   "execution_count": 127,
   "metadata": {
    "Collapsed": "false"
   },
   "outputs": [],
   "source": [
    "import pandas as pd"
   ]
  },
  {
   "cell_type": "code",
   "execution_count": 168,
   "metadata": {
    "Collapsed": "false"
   },
   "outputs": [],
   "source": [
    "scores = np.array([10, 25, 25, 61, 118, 334, 366, 468])\n",
    "\n",
    "a = [ score for score in enumerate( scores)]"
   ]
  },
  {
   "cell_type": "code",
   "execution_count": 134,
   "metadata": {
    "Collapsed": "false"
   },
   "outputs": [],
   "source": [
    "score = pd.Series(scores)"
   ]
  },
  {
   "cell_type": "code",
   "execution_count": 135,
   "metadata": {
    "Collapsed": "false"
   },
   "outputs": [
    {
     "data": {
      "text/plain": [
       "0     10\n",
       "1     25\n",
       "2     25\n",
       "3     61\n",
       "4    118\n",
       "5    334\n",
       "6    366\n",
       "7    468\n",
       "dtype: int64"
      ]
     },
     "execution_count": 135,
     "metadata": {},
     "output_type": "execute_result"
    }
   ],
   "source": [
    "score"
   ]
  },
  {
   "cell_type": "code",
   "execution_count": 158,
   "metadata": {
    "Collapsed": "false"
   },
   "outputs": [],
   "source": [
    "scores = np.sort(scores)[::-1]"
   ]
  },
  {
   "cell_type": "code",
   "execution_count": 171,
   "metadata": {
    "Collapsed": "false"
   },
   "outputs": [],
   "source": [
    "rk = pd.Series(scores).rank(method = 'dense', ascending = False).astype(int).values\n",
    "boards = list(zip(scores, rk))"
   ]
  },
  {
   "cell_type": "code",
   "execution_count": 172,
   "metadata": {
    "Collapsed": "false"
   },
   "outputs": [
    {
     "data": {
      "text/plain": [
       "[(10, 7), (25, 6), (25, 6), (61, 5), (118, 4), (334, 3), (366, 2), (468, 1)]"
      ]
     },
     "execution_count": 172,
     "metadata": {},
     "output_type": "execute_result"
    }
   ],
   "source": [
    "boards"
   ]
  },
  {
   "cell_type": "code",
   "execution_count": 174,
   "metadata": {
    "Collapsed": "false"
   },
   "outputs": [],
   "source": [
    "alice = np.array([5,25,150,240])"
   ]
  },
  {
   "cell_type": "code",
   "execution_count": 180,
   "metadata": {
    "Collapsed": "false"
   },
   "outputs": [
    {
     "data": {
      "text/plain": [
       "7"
      ]
     },
     "execution_count": 180,
     "metadata": {},
     "output_type": "execute_result"
    }
   ],
   "source": [
    "np.array(boards)[:,1].max()"
   ]
  },
  {
   "cell_type": "code",
   "execution_count": null,
   "metadata": {
    "Collapsed": "false"
   },
   "outputs": [],
   "source": [
    "for score in alice:\n",
    "    for x in boards:\n",
    "        if score >= x[0]:\n",
    "            pass"
   ]
  },
  {
   "cell_type": "code",
   "execution_count": null,
   "metadata": {
    "Collapsed": "false"
   },
   "outputs": [],
   "source": [
    "for score in alice:\n",
    "    list(map(lambda x : x - score, boards))"
   ]
  },
  {
   "cell_type": "code",
   "execution_count": 186,
   "metadata": {
    "Collapsed": "false"
   },
   "outputs": [
    {
     "data": {
      "text/plain": [
       "[(10, 7), (25, 6), (25, 6), (61, 5), (118, 4), (334, 3), (366, 2), (468, 1)]"
      ]
     },
     "execution_count": 186,
     "metadata": {},
     "output_type": "execute_result"
    }
   ],
   "source": [
    "boards"
   ]
  },
  {
   "cell_type": "code",
   "execution_count": 194,
   "metadata": {
    "Collapsed": "false"
   },
   "outputs": [],
   "source": [
    "ranking = []\n",
    "for score in alice:\n",
    "    loc = []\n",
    "    for x in boards:\n",
    "        if x[0] > score:\n",
    "            loc.append(x[1]+1)\n",
    "        else:\n",
    "            continue\n",
    "    ranking.append(max(loc))"
   ]
  },
  {
   "cell_type": "code",
   "execution_count": 198,
   "metadata": {
    "Collapsed": "false"
   },
   "outputs": [
    {
     "data": {
      "text/plain": [
       "[8, 6, 4, 4]"
      ]
     },
     "execution_count": 198,
     "metadata": {},
     "output_type": "execute_result"
    }
   ],
   "source": [
    "ranking"
   ]
  },
  {
   "cell_type": "code",
   "execution_count": 196,
   "metadata": {
    "Collapsed": "false"
   },
   "outputs": [
    {
     "data": {
      "text/plain": [
       "'8\\n6\\n4\\n4'"
      ]
     },
     "execution_count": 196,
     "metadata": {},
     "output_type": "execute_result"
    }
   ],
   "source": [
    "'\\n'.join(map(str, ranking))"
   ]
  },
  {
   "cell_type": "code",
   "execution_count": 205,
   "metadata": {
    "Collapsed": "false"
   },
   "outputs": [],
   "source": [
    "scores = [100,100, 50, 40, 40, 20, 10]\n",
    "alice = [5,25,50,120]"
   ]
  },
  {
   "cell_type": "code",
   "execution_count": 241,
   "metadata": {
    "Collapsed": "false"
   },
   "outputs": [],
   "source": [
    "rk = pd.Series(scores).rank(method = 'dense', ascending = False).astype(int).values\n",
    "boards = list(zip(scores, rk))\n",
    "ranking = []\n",
    "for score in alice:\n",
    "    loc = []\n",
    "    for x in boards:\n",
    "        if x[0] > score:\n",
    "            loc.append(x[1] + 1)\n",
    "        elif score > max(np.array(boards)[:,0]):\n",
    "            loc.append(1)\n",
    "        else:\n",
    "            continue\n",
    "    ranking.append(max(loc))"
   ]
  },
  {
   "cell_type": "code",
   "execution_count": 242,
   "metadata": {
    "Collapsed": "false"
   },
   "outputs": [
    {
     "data": {
      "text/plain": [
       "[6, 4, 2, 1]"
      ]
     },
     "execution_count": 242,
     "metadata": {},
     "output_type": "execute_result"
    }
   ],
   "source": [
    "ranking"
   ]
  },
  {
   "cell_type": "code",
   "execution_count": 217,
   "metadata": {
    "Collapsed": "false"
   },
   "outputs": [
    {
     "name": "stdout",
     "output_type": "stream",
     "text": [
      "(100, 1)\n",
      "(100, 1)\n",
      "(50, 2)\n",
      "(40, 3)\n",
      "(40, 3)\n",
      "(20, 4)\n",
      "(10, 5)\n"
     ]
    }
   ],
   "source": [
    "for x in boards:\n",
    "    print(x)"
   ]
  },
  {
   "cell_type": "code",
   "execution_count": 239,
   "metadata": {
    "Collapsed": "false"
   },
   "outputs": [],
   "source": [
    "rk = pd.Series(scores).rank(method = 'dense', ascending = False).astype(int).values\n",
    "boards = list(zip(scores, rk))\n",
    "ranking = []\n",
    "for score in alice:\n",
    "    loc = []\n",
    "    for x in boards:\n",
    "        if score > x[0]:\n",
    "            loc.append(x[1] - 1)\n",
    "        elif score > max(np.array(boards)[:,0]):\n",
    "            loc.append(1)\n",
    "        else:\n",
    "            continue\n",
    "            \n",
    "    if len(loc) == 0:\n",
    "        loc.append(max(np.array(boards)[:,1]) + 1)\n",
    "    ranking.append(max(loc))"
   ]
  },
  {
   "cell_type": "code",
   "execution_count": 240,
   "metadata": {
    "Collapsed": "false"
   },
   "outputs": [
    {
     "data": {
      "text/plain": [
       "[6, 4, 4, 4]"
      ]
     },
     "execution_count": 240,
     "metadata": {},
     "output_type": "execute_result"
    }
   ],
   "source": [
    "ranking"
   ]
  },
  {
   "cell_type": "code",
   "execution_count": 236,
   "metadata": {
    "Collapsed": "false"
   },
   "outputs": [],
   "source": [
    "if len(loc) == 0:\n",
    "    loc.append(max(np.array(boards)[:,1]) + 1)"
   ]
  },
  {
   "cell_type": "code",
   "execution_count": 237,
   "metadata": {
    "Collapsed": "false"
   },
   "outputs": [
    {
     "data": {
      "text/plain": [
       "[6]"
      ]
     },
     "execution_count": 237,
     "metadata": {},
     "output_type": "execute_result"
    }
   ],
   "source": [
    "loc"
   ]
  },
  {
   "cell_type": "code",
   "execution_count": 264,
   "metadata": {
    "Collapsed": "false"
   },
   "outputs": [],
   "source": [
    "score = 35"
   ]
  },
  {
   "cell_type": "code",
   "execution_count": 254,
   "metadata": {
    "Collapsed": "false"
   },
   "outputs": [
    {
     "data": {
      "text/plain": [
       "[(100, 1), (100, 1), (50, 2), (40, 3), (40, 3), (20, 4), (10, 5)]"
      ]
     },
     "execution_count": 254,
     "metadata": {},
     "output_type": "execute_result"
    }
   ],
   "source": [
    "boards"
   ]
  },
  {
   "cell_type": "code",
   "execution_count": 250,
   "metadata": {
    "Collapsed": "false"
   },
   "outputs": [
    {
     "data": {
      "text/plain": [
       "[100, 100, 50, 40, 40, 20, 10]"
      ]
     },
     "execution_count": 250,
     "metadata": {},
     "output_type": "execute_result"
    }
   ],
   "source": [
    "scores"
   ]
  },
  {
   "cell_type": "code",
   "execution_count": 249,
   "metadata": {
    "Collapsed": "false"
   },
   "outputs": [
    {
     "data": {
      "text/plain": [
       "[50, 50, 0, -10, -10, -30, -40]"
      ]
     },
     "execution_count": 249,
     "metadata": {},
     "output_type": "execute_result"
    }
   ],
   "source": [
    "list(map(lambda x : x-score, scores))"
   ]
  },
  {
   "cell_type": "code",
   "execution_count": 265,
   "metadata": {
    "Collapsed": "false"
   },
   "outputs": [
    {
     "data": {
      "text/plain": [
       "3"
      ]
     },
     "execution_count": 265,
     "metadata": {},
     "output_type": "execute_result"
    }
   ],
   "source": [
    "list(map(lambda x : abs(x-score), scores)).index(min(list(map(lambda x : abs(x-score), scores))))"
   ]
  },
  {
   "cell_type": "code",
   "execution_count": 268,
   "metadata": {
    "Collapsed": "false"
   },
   "outputs": [
    {
     "data": {
      "text/plain": [
       "4"
      ]
     },
     "execution_count": 268,
     "metadata": {},
     "output_type": "execute_result"
    }
   ],
   "source": [
    "boards[3][1] + 1"
   ]
  },
  {
   "cell_type": "code",
   "execution_count": 299,
   "metadata": {
    "Collapsed": "false"
   },
   "outputs": [],
   "source": [
    "score = 25\n",
    "t = list(map(lambda x : x-score, scores))"
   ]
  },
  {
   "cell_type": "code",
   "execution_count": 300,
   "metadata": {
    "Collapsed": "false"
   },
   "outputs": [
    {
     "data": {
      "text/plain": [
       "[75, 75, 25, 15, 15, -5, -15]"
      ]
     },
     "execution_count": 300,
     "metadata": {},
     "output_type": "execute_result"
    }
   ],
   "source": [
    "t"
   ]
  },
  {
   "cell_type": "code",
   "execution_count": 308,
   "metadata": {
    "Collapsed": "false"
   },
   "outputs": [
    {
     "data": {
      "text/plain": [
       "-15"
      ]
     },
     "execution_count": 308,
     "metadata": {},
     "output_type": "execute_result"
    }
   ],
   "source": [
    "min(t)"
   ]
  },
  {
   "cell_type": "code",
   "execution_count": 294,
   "metadata": {
    "Collapsed": "false"
   },
   "outputs": [
    {
     "data": {
      "text/plain": [
       "[75, 75, 25, 15, 15, 0, 0]"
      ]
     },
     "execution_count": 294,
     "metadata": {},
     "output_type": "execute_result"
    }
   ],
   "source": [
    "list(map(lambda x : x if x > 0 else 0, t))"
   ]
  },
  {
   "cell_type": "code",
   "execution_count": 306,
   "metadata": {
    "Collapsed": "false"
   },
   "outputs": [
    {
     "data": {
      "text/plain": [
       "array([ True,  True,  True,  True,  True, False, False])"
      ]
     },
     "execution_count": 306,
     "metadata": {},
     "output_type": "execute_result"
    }
   ],
   "source": [
    "np.array(t) > 0"
   ]
  },
  {
   "cell_type": "code",
   "execution_count": 277,
   "metadata": {
    "Collapsed": "false"
   },
   "outputs": [
    {
     "data": {
      "text/plain": [
       "[(100, 1), (100, 1), (50, 2), (40, 3), (40, 3), (20, 4), (10, 5)]"
      ]
     },
     "execution_count": 277,
     "metadata": {},
     "output_type": "execute_result"
    }
   ],
   "source": [
    "boards"
   ]
  },
  {
   "cell_type": "code",
   "execution_count": 284,
   "metadata": {
    "Collapsed": "false"
   },
   "outputs": [
    {
     "data": {
      "text/plain": [
       "5"
      ]
     },
     "execution_count": 284,
     "metadata": {},
     "output_type": "execute_result"
    }
   ],
   "source": [
    "min(t)"
   ]
  },
  {
   "cell_type": "code",
   "execution_count": 285,
   "metadata": {
    "Collapsed": "false"
   },
   "outputs": [
    {
     "data": {
      "text/plain": [
       "5"
      ]
     },
     "execution_count": 285,
     "metadata": {},
     "output_type": "execute_result"
    }
   ],
   "source": [
    "t.index(min(t))"
   ]
  },
  {
   "cell_type": "code",
   "execution_count": 286,
   "metadata": {
    "Collapsed": "false"
   },
   "outputs": [
    {
     "data": {
      "text/plain": [
       "4"
      ]
     },
     "execution_count": 286,
     "metadata": {},
     "output_type": "execute_result"
    }
   ],
   "source": [
    "boards[5][1]"
   ]
  },
  {
   "cell_type": "code",
   "execution_count": null,
   "metadata": {
    "Collapsed": "false"
   },
   "outputs": [],
   "source": []
  },
  {
   "cell_type": "code",
   "execution_count": 278,
   "metadata": {
    "Collapsed": "false"
   },
   "outputs": [],
   "source": [
    "rk = pd.Series(scores).rank(method = 'dense', ascending = False).astype(int).values\n",
    "boards = list(zip(scores, rk))\n",
    "ranking = []\n",
    "for score in alice:\n",
    "    if score >= max(np.array(boards)[:,0]):\n",
    "        loc = 1\n",
    "    elif score < min(np.array(boards)[:,0]):\n",
    "        loc = max(np.array(boards)[:,1])+1\n",
    "    elif score == min(np.array(boards)[:,0]):\n",
    "        loc = max(np.array(boards)[:,1])\n",
    "    else:\n",
    "        t = list(map(lambda x : abs(x-score), scores))\n",
    "        q = t.index(min(t))\n",
    "        if min(t) == 0:\n",
    "            loc = boards[q][1]\n",
    "        else:\n",
    "            loc = boards[q][1]\n",
    "    ranking.append(loc)\n",
    "        "
   ]
  },
  {
   "cell_type": "code",
   "execution_count": 279,
   "metadata": {
    "Collapsed": "false"
   },
   "outputs": [
    {
     "data": {
      "text/plain": [
       "[6, 4, 2, 1]"
      ]
     },
     "execution_count": 279,
     "metadata": {},
     "output_type": "execute_result"
    }
   ],
   "source": [
    "ranking"
   ]
  },
  {
   "cell_type": "code",
   "execution_count": null,
   "metadata": {
    "Collapsed": "false"
   },
   "outputs": [],
   "source": [
    "def climbingLeaderboard(scores, alice):\n",
    "    rk = pd.Series(scores).rank(method = 'dense', ascending = False).astype(int).values\n",
    "    boards = list(zip(scores, rk))\n",
    "    ranking = []\n",
    "    for score in alice:\n",
    "        loc = []\n",
    "        for x in boards:\n",
    "            if score >= max(np.array(boards)[:,0]):\n",
    "                loc.append(1)\n",
    "                break\n",
    "            elif score < min(np.array(boards)[:,0]):\n",
    "                loc.append(max(np.array(boards)[:,1])+1)\n",
    "                break\n",
    "            elif x[0] > score:\n",
    "                loc.append(x[1] + 1)\n",
    "            else:\n",
    "                continue\n",
    "        ranking.append(max(loc))\n",
    "    return ranking"
   ]
  }
 ],
 "metadata": {
  "kernelspec": {
   "display_name": "Python 3",
   "language": "python",
   "name": "python3"
  },
  "language_info": {
   "codemirror_mode": {
    "name": "ipython",
    "version": 3
   },
   "file_extension": ".py",
   "mimetype": "text/x-python",
   "name": "python",
   "nbconvert_exporter": "python",
   "pygments_lexer": "ipython3",
   "version": "3.7.6"
  }
 },
 "nbformat": 4,
 "nbformat_minor": 4
}
