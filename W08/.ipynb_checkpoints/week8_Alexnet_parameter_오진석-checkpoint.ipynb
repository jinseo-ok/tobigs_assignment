{
 "cells": [
  {
   "cell_type": "markdown",
   "metadata": {
    "Collapsed": "false"
   },
   "source": [
    "# AlexNet\n",
    "\n",
    "- [paper](http://www.cs.toronto.edu/~fritz/absps/imagenet.pdf)\n",
    "\n",
    "- [imagenet data(2012)](http://image-net.org/challenges/LSVRC/2012/index#task)\n",
    "\n",
    "- [code](https://pytorch.org/docs/0.4.0/_modules/torchvision/models/alexnet.html)\n",
    "\n",
    "- Model architecture\n",
    "![model_architecture](https://cv-tricks.com/wp-content/uploads/2017/03/xalexnet_small-1.png.pagespeed.ic.u_mv-jhXMI.webp)"
   ]
  },
  {
   "cell_type": "markdown",
   "metadata": {
    "Collapsed": "false"
   },
   "source": [
    "### Naive Version\n",
    "CONV_1 - POOL_1 - CONV_2 - POOL_2 - CONV_3 - CONV_4 - CONV_5 - POOL_3 - FC1 - FC2 - FC3 (->SOFTMAX)"
   ]
  },
  {
   "cell_type": "markdown",
   "metadata": {
    "Collapsed": "false"
   },
   "source": [
    "### detailed\n",
    "CONV_1(ReLU) - POOL_1 - CONV_2(ReLU) - POOL_2 - CONV_3(ReLU) - CONV_4(ReLU) - CONV_5(ReLU) - POOL_3 -(Flatten) FC1(ReLU) - FC2(ReLU) - FC3(->SOFTMAX)"
   ]
  },
  {
   "cell_type": "markdown",
   "metadata": {
    "Collapsed": "false"
   },
   "source": [
    "# Q.1 fill in the '????' & 'TODO'"
   ]
  },
  {
   "cell_type": "markdown",
   "metadata": {
    "Collapsed": "false"
   },
   "source": [
    "### Layer 1 is a Convolution Layer_1\n",
    "\n",
    "- **Input Image size**     224 x 224 x 3 -> 227 x 227 x 3\n",
    "\n",
    "- **Number of filters**   96\n",
    "\n",
    "- **Filter size** 11 x 11 x 3\n",
    "\n",
    "- **Stride** 4\n",
    "\n",
    "- **Layer 1 Output**  55 x 55 x 96 (because of stride 4)\n",
    "\n",
    "\n"
   ]
  },
  {
   "cell_type": "code",
   "execution_count": 1,
   "metadata": {
    "Collapsed": "false"
   },
   "outputs": [
    {
     "data": {
      "text/plain": [
       "55.0"
      ]
     },
     "execution_count": 1,
     "metadata": {},
     "output_type": "execute_result"
    }
   ],
   "source": [
    "(227-11)/4 + 1"
   ]
  },
  {
   "attachments": {
    "image.png": {
     "image/png": "[encoded data removed]"
    }
   },
   "cell_type": "markdown",
   "metadata": {
    "Collapsed": "false"
   },
   "source": [
    "![image.png](attachment:image.png)"
   ]
  },
  {
   "cell_type": "code",
   "execution_count": 4,
   "metadata": {
    "Collapsed": "false"
   },
   "outputs": [
    {
     "name": "stdout",
     "output_type": "stream",
     "text": [
      "55.0\n"
     ]
    },
    {
     "data": {
      "text/plain": [
       "'last 96 for Bias'"
      ]
     },
     "execution_count": 4,
     "metadata": {},
     "output_type": "execute_result"
    }
   ],
   "source": [
    "## TODO ##\n",
    "\n",
    "######################################################\n",
    "#  Calculate the number of parameters in this layer  #\n",
    "######################################################\n",
    "OH_conv1 = (227 + 2*0 - 11) / 4 + 1\n",
    "print(OH_conv1)\n",
    "Conv_1 = (11*11*3) * 96 + 96 \n",
    "\n",
    "'''last 96 for Bias'''"
   ]
  },
  {
   "cell_type": "markdown",
   "metadata": {
    "Collapsed": "false"
   },
   "source": [
    "### Layer 2 is a Max Pooling_1 Followed by Convolution_1\n",
    "\n",
    "- **Input**  55 x 55 x 96\n",
    "\n",
    "- **Max pooling**  \n",
    "\n",
    "- **Pooling size**(overlapping) 3 x 3\n",
    "\n",
    "- **Stride** 2\n",
    "\n",
    "- **Layer 2 Output** 27 x 27 x 96\n"
   ]
  },
  {
   "cell_type": "code",
   "execution_count": 3,
   "metadata": {
    "Collapsed": "false"
   },
   "outputs": [
    {
     "name": "stdout",
     "output_type": "stream",
     "text": [
      "27.0\n"
     ]
    }
   ],
   "source": [
    "## TODO \n",
    "\n",
    "######################################################\n",
    "#  Calculate the number of parameters in this layer  #\n",
    "######################################################\n",
    "OH_pool1 = ((55 - 3) / 2) + 1\n",
    "print(OH_pool1)\n",
    "Max_pool_1 = 0 # 학습되는 파라미터가 없다. "
   ]
  },
  {
   "cell_type": "markdown",
   "metadata": {
    "Collapsed": "false"
   },
   "source": [
    "### Layer 3 is a a Convolution Layer_2\n",
    "\n",
    "- **Input**  27 x 27 x 96\n",
    "\n",
    "- **Number of filters**  256\n",
    "\n",
    "- **Filter size**  5 x 5 x 96 \n",
    "\n",
    "- **Stride** 1\n",
    "\n",
    "- **padding** 2\n",
    "\n",
    "- **Layer 3 Output** 27 * 27 * 256\n"
   ]
  },
  {
   "cell_type": "code",
   "execution_count": 5,
   "metadata": {
    "Collapsed": "false"
   },
   "outputs": [
    {
     "name": "stdout",
     "output_type": "stream",
     "text": [
      "27.0\n"
     ]
    }
   ],
   "source": [
    "## TODO \n",
    "\n",
    "######################################################\n",
    "#  Calculate the number of parameters in this layer  #\n",
    "######################################################\n",
    "OH_conv2 = ((27 + 2*2 - 5) / 1) + 1\n",
    "print(OH_conv2)\n",
    "Conv_2 = (5 * 5 * 96) * 256 + 256"
   ]
  },
  {
   "cell_type": "markdown",
   "metadata": {
    "Collapsed": "false"
   },
   "source": [
    "### Layer 4 is a Max Pooling_2 Followed by Convolution_2\n",
    "\n",
    "- **Input**  27 * 27 * 256\n",
    "\n",
    "- **Max pooling**  \n",
    "\n",
    "- **Pooling size**(overlapping) 3 x 3\n",
    "\n",
    "- **Stride** 2\n",
    "\n",
    "- **Layer 4 Output** 13 * 13 * 256"
   ]
  },
  {
   "cell_type": "code",
   "execution_count": 6,
   "metadata": {
    "Collapsed": "false"
   },
   "outputs": [
    {
     "name": "stdout",
     "output_type": "stream",
     "text": [
      "13.0\n"
     ]
    }
   ],
   "source": [
    "## TODO \n",
    "\n",
    "######################################################\n",
    "#  Calculate the number of parameters in this layer  #\n",
    "######################################################\n",
    "OH_pool2 = ((27 - 3) / 2) + 1\n",
    "print(OH_pool2)\n",
    "Max_pool_2 = 0 # 학습되는 파라미터가 없다."
   ]
  },
  {
   "cell_type": "markdown",
   "metadata": {
    "Collapsed": "false"
   },
   "source": [
    "### Layer 5 is a a Convolution Layer_3\n",
    "\n",
    "- **Input**  13 * 13 * 256\n",
    "\n",
    "- **Number of filters**  384\n",
    "\n",
    "- **Filter size**  3 x 3 x 256\n",
    "\n",
    "- **Stride** 1\n",
    "\n",
    "- **padding** 1 # padding을 알 수 있는 방법이 무엇인가요??\n",
    "\n",
    "- **Layer 5 Output** 13 * 13 * 384\n"
   ]
  },
  {
   "cell_type": "code",
   "execution_count": 8,
   "metadata": {
    "Collapsed": "false"
   },
   "outputs": [
    {
     "name": "stdout",
     "output_type": "stream",
     "text": [
      "13.0\n"
     ]
    }
   ],
   "source": [
    "## TODO \n",
    "\n",
    "######################################################\n",
    "#  Calculate the number of parameters in this layer  #\n",
    "######################################################\n",
    "OH_conv3 = ((13 + 2*1 - 3) / 1) + 1\n",
    "print(OH_conv3)\n",
    "Conv_3 = (3 * 3 * 256) * 384 + 384"
   ]
  },
  {
   "cell_type": "markdown",
   "metadata": {
    "Collapsed": "false"
   },
   "source": [
    "### Layer 6 is  a Convolution Layer_4\n",
    "\n",
    "- **Input**  13 * 13 * 384\n",
    "\n",
    "- **Number of filters**  384\n",
    "\n",
    "- **Filter size**  3 x 3 x 384\n",
    "\n",
    "- **Stride** 1\n",
    "\n",
    "- **padding** 1\n",
    "\n",
    "- **Layer 6 Output** 13 * 13 * 384"
   ]
  },
  {
   "cell_type": "code",
   "execution_count": 9,
   "metadata": {
    "Collapsed": "false"
   },
   "outputs": [
    {
     "name": "stdout",
     "output_type": "stream",
     "text": [
      "13.0\n"
     ]
    }
   ],
   "source": [
    "## TODO \n",
    "\n",
    "######################################################\n",
    "#  Calculate the number of parameters in this layer  #\n",
    "######################################################\n",
    "OH_conv4 = ((13 + 2*1 - 3) / 1) + 1\n",
    "print(OH_conv4)\n",
    "Conv_4 = (3 * 3 * 384) * 384 + 384"
   ]
  },
  {
   "cell_type": "markdown",
   "metadata": {
    "Collapsed": "false"
   },
   "source": [
    "### Layer 7 is a Convolution Layer_5\n",
    "\n",
    "- **Input**  13 * 13 * 384\n",
    "\n",
    "- **Number of filters**  256\n",
    "\n",
    "- **Filter size**  3 x 3 x 256\n",
    "\n",
    "- **Stride** 1\n",
    "\n",
    "- **padding** 1\n",
    "\n",
    "- **Layer 7 Output** 13 * 13 * 256"
   ]
  },
  {
   "cell_type": "code",
   "execution_count": 11,
   "metadata": {
    "Collapsed": "false"
   },
   "outputs": [
    {
     "name": "stdout",
     "output_type": "stream",
     "text": [
      "13.0\n"
     ]
    }
   ],
   "source": [
    "## TODO \n",
    "\n",
    "######################################################\n",
    "#  Calculate the number of parameters in this layer  #\n",
    "######################################################\n",
    "OH_conv5 = ((13 + 2*1 - 3) / 1) + 1\n",
    "print(OH_conv5)\n",
    "Conv_5 = (3 * 3 * 256) * 256 + 256"
   ]
  },
  {
   "cell_type": "markdown",
   "metadata": {
    "Collapsed": "false"
   },
   "source": [
    "### Layer 8 is a Max Pooling_3 Followed by Convolution_5\n",
    "\n",
    "- **Input**  13 x 13 x 256\n",
    "\n",
    "- **Max pooling**  \n",
    "\n",
    "- **Pooling size**(overlapping) 3 x 3\n",
    "\n",
    "- **Stride** 2\n",
    "\n",
    "- **Layer 8 Output** 6 * 6 * 256"
   ]
  },
  {
   "cell_type": "code",
   "execution_count": 12,
   "metadata": {
    "Collapsed": "false"
   },
   "outputs": [
    {
     "name": "stdout",
     "output_type": "stream",
     "text": [
      "6.0\n"
     ]
    }
   ],
   "source": [
    "## TODO \n",
    "\n",
    "######################################################\n",
    "#  Calculate the number of parameters in this layer  #\n",
    "######################################################\n",
    "OH_pool3 = ((13 - 3) / 2) + 1\n",
    "print(OH_pool3)\n",
    "Max_pool_3 = 0"
   ]
  },
  {
   "cell_type": "markdown",
   "metadata": {
    "Collapsed": "false"
   },
   "source": [
    "### Layer 9 is a Fully_Connected layer_1\n",
    "\n",
    "- **input** 6 x 6 x 256\n",
    "\n",
    "- **flatten** 4096\n",
    "\n",
    "- **output size** (N,flatten) x (flatten,4096)\n",
    "\n",
    "- **N** Number of input data"
   ]
  },
  {
   "cell_type": "code",
   "execution_count": null,
   "metadata": {
    "Collapsed": "false"
   },
   "outputs": [],
   "source": [
    "## TODO \n",
    "\n",
    "######################################################\n",
    "#  Calculate the number of parameters in this layer  #\n",
    "######################################################\n",
    "FC1 = (6 * 6 * 256) * 4096 + 4096"
   ]
  },
  {
   "cell_type": "markdown",
   "metadata": {
    "Collapsed": "false"
   },
   "source": [
    "### Layer 10 is a Fully_Connected layer_2\n",
    "\n",
    "- **input** (N,4096)\n",
    "\n",
    "- **output size** (N,4096) x (4096,4096)\n",
    "\n",
    "- **N** Number of input data"
   ]
  },
  {
   "cell_type": "code",
   "execution_count": 1,
   "metadata": {
    "Collapsed": "false"
   },
   "outputs": [],
   "source": [
    "## TODO \n",
    "\n",
    "######################################################\n",
    "#  Calculate the number of parameters in this layer  #\n",
    "######################################################\n",
    "\n",
    "FC2 = 4096 * 4096 + 4096"
   ]
  },
  {
   "cell_type": "markdown",
   "metadata": {
    "Collapsed": "false"
   },
   "source": [
    "### Layer 11 is a Fully_Connected layer_3\n",
    "\n",
    "- **input** (N,4096)\n",
    "\n",
    "- **output size** (N,4096) x (4096,Num_classes)\n",
    "\n",
    "- **N** Number of input data\n",
    "\n",
    "- **Num_classes** Number of labels"
   ]
  },
  {
   "cell_type": "code",
   "execution_count": 2,
   "metadata": {
    "Collapsed": "false"
   },
   "outputs": [],
   "source": [
    "## TODO \n",
    "\n",
    "######################################################\n",
    "#  Calculate the number of parameters in this layer  #\n",
    "######################################################\n",
    "\n",
    "FC3 = 4096 * 1000 + 4096"
   ]
  },
  {
   "cell_type": "code",
   "execution_count": null,
   "metadata": {
    "Collapsed": "false"
   },
   "outputs": [],
   "source": []
  }
 ],
 "metadata": {
  "kernelspec": {
   "display_name": "Python 3",
   "language": "python",
   "name": "python3"
  },
  "language_info": {
   "codemirror_mode": {
    "name": "ipython",
    "version": 3
   },
   "file_extension": ".py",
   "mimetype": "text/x-python",
   "name": "python",
   "nbconvert_exporter": "python",
   "pygments_lexer": "ipython3",
   "version": "3.7.6"
  }
 },
 "nbformat": 4,
 "nbformat_minor": 4
}
