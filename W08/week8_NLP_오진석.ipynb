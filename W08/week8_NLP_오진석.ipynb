{
 "cells": [
  {
   "cell_type": "code",
   "execution_count": 66,
   "metadata": {
    "Collapsed": "false"
   },
   "outputs": [],
   "source": [
    "import numpy as np\n",
    "import pandas as pd\n",
    "import requests\n",
    "import json\n",
    "from tqdm import tqdm\n",
    "from bs4 import BeautifulSoup"
   ]
  },
  {
   "cell_type": "markdown",
   "metadata": {
    "Collapsed": "false"
   },
   "source": [
    "# 0. 개요\n",
    "\n",
    "### 영화 평점에 따른 단어 유사도의 차이가 있는지"
   ]
  },
  {
   "cell_type": "markdown",
   "metadata": {
    "Collapsed": "false"
   },
   "source": [
    "# 1. 데이터 수집 ( 영화 리뷰 데이터)\n",
    "   - 현재 상영영화 예매순 100개\n",
    "   - 리뷰 100개씩"
   ]
  },
  {
   "cell_type": "code",
   "execution_count": 241,
   "metadata": {
    "Collapsed": "false"
   },
   "outputs": [],
   "source": [
    "def getMovie(url, each, page): # each 는 크롤링할 영화의 개수를 의미, page 는 크롤링할 리뷰 페이지를 의미 (페이지당 10개))\n",
    "\n",
    "    # 위 url 에서 노출되는 영화는 89건\n",
    "    response  = requests.get(url)\n",
    "    soup = BeautifulSoup(response.text, 'html.parser')\n",
    "    found_items = soup.select('div.lst_wrap > ul.lst_detail_t1 > li')\n",
    "    found_items = found_items[: each]\n",
    "    data = []\n",
    "    for item in tqdm(found_items):\n",
    "\n",
    "        # 영화 상세 페이지 url\n",
    "        movie_url = 'https://movie.naver.com' + item.select_one('dl.lst_dsc > dt.tit > a')['href']\n",
    "        movie_url = movie_url.replace('basic', 'point') # 영화 상세 메인 페이지 -> 영화 상세 평점 페이지 (리뷰 개수 때문에))\n",
    "        code = movie_url.split('code=')[1] # 영화 코드 추출\n",
    "\n",
    "        # 상세 페이지로 이동\n",
    "        response  = requests.get(movie_url)\n",
    "        soup = BeautifulSoup(response.text, 'html.parser')\n",
    "\n",
    "        # 영화 제목\n",
    "        title = soup.select_one('div.mv_info_area > div.mv_info > h3.h_movie > a').text\n",
    "\n",
    "        # 평점들 (관람객평점, 기자/평론가평점, 네티즌평점)\n",
    "        try:\n",
    "            a_score = soup.select_one('div.mv_info_area > div.mv_info > div.main_score > div.score > a > div > span').text\n",
    "            a_score = a_score.split('점')[1]\n",
    "            if a_score == ' 없음':\n",
    "                a_score = 'none'\n",
    "        except:\n",
    "            a_score = 'none'\n",
    "\n",
    "        try:\n",
    "            r_score = soup.select_one('div.mv_info_area > div.mv_info > div.main_score > div.score:nth-child(2) > div.spc_score_area > a > div > span > span')['style'] # 평점이 별점 css의 넓이로도 표현됨\n",
    "            r_score = int(r_score.split(':')[1].split('%')[0].replace('.', '')) / 100 # 넓이를 int로 변환 후 평점으로 변경\n",
    "        except:\n",
    "            r_score = 'none'\n",
    "            \n",
    "        try:\n",
    "            n_score = soup.select_one('div.mv_info_area > div.mv_info > div.main_score > div.score_left > div.star_score > a > span > span')['style']\n",
    "            n_score = int(n_score.split(':')[1].split('%')[0].replace('.', '')) / 100\n",
    "        except:\n",
    "            r_score = 'none'\n",
    "            \n",
    "        # 관람객 리뷰\n",
    "        review_list = []\n",
    "        for i in range(1,page): # page는 크롤링할 리뷰페이지를 의미,( 1page x 10 )\n",
    "            # {code} 는 위에서 크롤링한 영화 고유의 code를 의미함\n",
    "            #reviews_url 은 리뷰데이터를 따로 보관하고 있는 페이지임\n",
    "            reviews_url = f'https://movie.naver.com/movie/bi/mi/pointWriteFormList.nhn?code={code}&type=after&isActualPointWriteExecute=false&isMileageSubscriptionAlready=false&isMileageSubscriptionReject=false&page={i}'\n",
    "            response = requests.get(reviews_url)\n",
    "            soup = BeautifulSoup(response.text, 'html.parser')\n",
    "            reviews = soup.select('div.score_result > ul > li')\n",
    "            for review in reviews:\n",
    "#                 score = review.select_one('div.star_score > em').text\n",
    "                content = review.select_one('div.score_reple > p').text.strip()\n",
    "                if '관람객' in content[:5]:\n",
    "                    content = content[4:].strip()\n",
    "\n",
    "                value = content\n",
    "                review_list.append(value)\n",
    "#         print([title], '크롤링 완료')\n",
    "        value = [title, a_score, r_score, n_score, review_list]\n",
    "        data.append(value)\n",
    "    return data"
   ]
  },
  {
   "cell_type": "code",
   "execution_count": 242,
   "metadata": {
    "Collapsed": "false"
   },
   "outputs": [
    {
     "name": "stderr",
     "output_type": "stream",
     "text": [
      "100%|██████████| 100/100 [03:09<00:00,  1.89s/it]\n"
     ]
    }
   ],
   "source": [
    "url = 'https://movie.naver.com/movie/running/current.nhn'\n",
    "data = getMovie(url, 100, 20)"
   ]
  },
  {
   "cell_type": "code",
   "execution_count": 243,
   "metadata": {
    "Collapsed": "false"
   },
   "outputs": [],
   "source": [
    "# 저장\n",
    "df = pd.DataFrame(data, columns = ['영화제목', '관람객평점', '기자/평론가평점', '네티즌평점', '리뷰'])\n",
    "df.to_excel('./영화리뷰.xlsx')"
   ]
  },
  {
   "cell_type": "code",
   "execution_count": 246,
   "metadata": {
    "Collapsed": "false"
   },
   "outputs": [],
   "source": [
    "# 불러오기\n",
    "df = pd.read_excel('./영화리뷰.xlsx')\n",
    "df = df.drop('Unnamed: 0', axis = 1)"
   ]
  },
  {
   "cell_type": "markdown",
   "metadata": {
    "Collapsed": "false"
   },
   "source": [
    "# 2. 데이터 전처리"
   ]
  },
  {
   "cell_type": "code",
   "execution_count": 247,
   "metadata": {
    "Collapsed": "false"
   },
   "outputs": [
    {
     "data": {
      "text/html": [
       "<div>\n",
       "<style scoped>\n",
       "    .dataframe tbody tr th:only-of-type {\n",
       "        vertical-align: middle;\n",
       "    }\n",
       "\n",
       "    .dataframe tbody tr th {\n",
       "        vertical-align: top;\n",
       "    }\n",
       "\n",
       "    .dataframe thead th {\n",
       "        text-align: right;\n",
       "    }\n",
       "</style>\n",
       "<table border=\"1\" class=\"dataframe\">\n",
       "  <thead>\n",
       "    <tr style=\"text-align: right;\">\n",
       "      <th></th>\n",
       "      <th>영화제목</th>\n",
       "      <th>관람객평점</th>\n",
       "      <th>기자/평론가평점</th>\n",
       "      <th>네티즌평점</th>\n",
       "      <th>리뷰</th>\n",
       "    </tr>\n",
       "  </thead>\n",
       "  <tbody>\n",
       "    <tr>\n",
       "      <th>0</th>\n",
       "      <td>인비저블맨</td>\n",
       "      <td>9.03</td>\n",
       "      <td>none</td>\n",
       "      <td>7.94</td>\n",
       "      <td>['옆에서 기침을 시작하자 비로소 공포영화임을 느꼈다.', '영화관에 나혼자 있는게...</td>\n",
       "    </tr>\n",
       "    <tr>\n",
       "      <th>1</th>\n",
       "      <td>1917</td>\n",
       "      <td>9.11</td>\n",
       "      <td>none</td>\n",
       "      <td>8.94</td>\n",
       "      <td>['이 영화는 미쳤다. 넷플릭스가 일상화된 시대에 극장이 존재해야하는 이유를 증명해...</td>\n",
       "    </tr>\n",
       "    <tr>\n",
       "      <th>2</th>\n",
       "      <td>다크 워터스</td>\n",
       "      <td>9.08</td>\n",
       "      <td>none</td>\n",
       "      <td>8.56</td>\n",
       "      <td>['영화관에 나 혼자만 있다는 현실이 더  무섭다', '엄기영 앵커 보신분들은 공감...</td>\n",
       "    </tr>\n",
       "  </tbody>\n",
       "</table>\n",
       "</div>"
      ],
      "text/plain": [
       "     영화제목  관람객평점 기자/평론가평점  네티즌평점  \\\n",
       "0   인비저블맨   9.03     none   7.94   \n",
       "1    1917   9.11     none   8.94   \n",
       "2  다크 워터스   9.08     none   8.56   \n",
       "\n",
       "                                                  리뷰  \n",
       "0  ['옆에서 기침을 시작하자 비로소 공포영화임을 느꼈다.', '영화관에 나혼자 있는게...  \n",
       "1  ['이 영화는 미쳤다. 넷플릭스가 일상화된 시대에 극장이 존재해야하는 이유를 증명해...  \n",
       "2  ['영화관에 나 혼자만 있다는 현실이 더  무섭다', '엄기영 앵커 보신분들은 공감...  "
      ]
     },
     "execution_count": 247,
     "metadata": {},
     "output_type": "execute_result"
    }
   ],
   "source": [
    "df.head(3)"
   ]
  },
  {
   "cell_type": "code",
   "execution_count": 248,
   "metadata": {
    "Collapsed": "false"
   },
   "outputs": [],
   "source": [
    "# 인덱스 80 삭제 (평점, 리뷰 없음)\n",
    "df = df.drop(80)"
   ]
  },
  {
   "cell_type": "code",
   "execution_count": 249,
   "metadata": {
    "Collapsed": "false"
   },
   "outputs": [],
   "source": [
    "df = df.reset_index()"
   ]
  },
  {
   "cell_type": "code",
   "execution_count": 250,
   "metadata": {
    "Collapsed": "false"
   },
   "outputs": [],
   "source": [
    "# 관람객평점 네티즌평점 평균\n",
    "scores = []\n",
    "for i in range(len(df)):\n",
    "    ascore = df['관람객평점'].loc[i]\n",
    "    nscore = df['네티즌평점'].loc[i]\n",
    "    try:\n",
    "        score = (ascore * nscore) / 2\n",
    "    except:\n",
    "        score = nscore\n",
    "    scores.append(score)"
   ]
  },
  {
   "cell_type": "code",
   "execution_count": 251,
   "metadata": {
    "Collapsed": "false"
   },
   "outputs": [],
   "source": [
    "df['score'] = scores"
   ]
  },
  {
   "cell_type": "code",
   "execution_count": 252,
   "metadata": {
    "Collapsed": "false"
   },
   "outputs": [
    {
     "data": {
      "text/plain": [
       "<matplotlib.axes._subplots.AxesSubplot at 0x1635bcd90>"
      ]
     },
     "execution_count": 252,
     "metadata": {},
     "output_type": "execute_result"
    },
    {
     "data": {
      "image/png": "[encoded data removed]",
      "text/plain": [
       "<Figure size 576x396 with 1 Axes>"
      ]
     },
     "metadata": {},
     "output_type": "display_data"
    }
   ],
   "source": [
    "# 평균 평점 분포도\n",
    "df['score'].hist()"
   ]
  },
  {
   "cell_type": "code",
   "execution_count": 253,
   "metadata": {
    "Collapsed": "false"
   },
   "outputs": [
    {
     "data": {
      "text/html": [
       "<div>\n",
       "<style scoped>\n",
       "    .dataframe tbody tr th:only-of-type {\n",
       "        vertical-align: middle;\n",
       "    }\n",
       "\n",
       "    .dataframe tbody tr th {\n",
       "        vertical-align: top;\n",
       "    }\n",
       "\n",
       "    .dataframe thead th {\n",
       "        text-align: right;\n",
       "    }\n",
       "</style>\n",
       "<table border=\"1\" class=\"dataframe\">\n",
       "  <thead>\n",
       "    <tr style=\"text-align: right;\">\n",
       "      <th></th>\n",
       "      <th>index</th>\n",
       "      <th>영화제목</th>\n",
       "      <th>관람객평점</th>\n",
       "      <th>기자/평론가평점</th>\n",
       "      <th>네티즌평점</th>\n",
       "      <th>리뷰</th>\n",
       "      <th>score</th>\n",
       "    </tr>\n",
       "  </thead>\n",
       "  <tbody>\n",
       "    <tr>\n",
       "      <th>0</th>\n",
       "      <td>0</td>\n",
       "      <td>인비저블맨</td>\n",
       "      <td>9.03</td>\n",
       "      <td>none</td>\n",
       "      <td>7.94</td>\n",
       "      <td>['옆에서 기침을 시작하자 비로소 공포영화임을 느꼈다.', '영화관에 나혼자 있는게...</td>\n",
       "      <td>7.94</td>\n",
       "    </tr>\n",
       "    <tr>\n",
       "      <th>1</th>\n",
       "      <td>1</td>\n",
       "      <td>1917</td>\n",
       "      <td>9.11</td>\n",
       "      <td>none</td>\n",
       "      <td>8.94</td>\n",
       "      <td>['이 영화는 미쳤다. 넷플릭스가 일상화된 시대에 극장이 존재해야하는 이유를 증명해...</td>\n",
       "      <td>8.94</td>\n",
       "    </tr>\n",
       "    <tr>\n",
       "      <th>2</th>\n",
       "      <td>2</td>\n",
       "      <td>다크 워터스</td>\n",
       "      <td>9.08</td>\n",
       "      <td>none</td>\n",
       "      <td>8.56</td>\n",
       "      <td>['영화관에 나 혼자만 있다는 현실이 더  무섭다', '엄기영 앵커 보신분들은 공감...</td>\n",
       "      <td>8.56</td>\n",
       "    </tr>\n",
       "    <tr>\n",
       "      <th>3</th>\n",
       "      <td>3</td>\n",
       "      <td>지푸라기라도 잡고 싶은 짐승들</td>\n",
       "      <td>8.10</td>\n",
       "      <td>none</td>\n",
       "      <td>6.56</td>\n",
       "      <td>['아니 개봉당일날 9시 땡하고 부터 평점 쏟아지는게 말이 돼냐? 요즘 조조는 꼭두...</td>\n",
       "      <td>6.56</td>\n",
       "    </tr>\n",
       "    <tr>\n",
       "      <th>4</th>\n",
       "      <td>4</td>\n",
       "      <td>작은 아씨들</td>\n",
       "      <td>9.15</td>\n",
       "      <td>none</td>\n",
       "      <td>8.83</td>\n",
       "      <td>['왜 여성은 사랑을 해야하냐며 말하면서도 사랑을 받고 싶다고 외치던 장면이 너무나...</td>\n",
       "      <td>8.83</td>\n",
       "    </tr>\n",
       "  </tbody>\n",
       "</table>\n",
       "</div>"
      ],
      "text/plain": [
       "   index              영화제목  관람객평점 기자/평론가평점  네티즌평점  \\\n",
       "0      0             인비저블맨   9.03     none   7.94   \n",
       "1      1              1917   9.11     none   8.94   \n",
       "2      2            다크 워터스   9.08     none   8.56   \n",
       "3      3  지푸라기라도 잡고 싶은 짐승들   8.10     none   6.56   \n",
       "4      4            작은 아씨들   9.15     none   8.83   \n",
       "\n",
       "                                                  리뷰  score  \n",
       "0  ['옆에서 기침을 시작하자 비로소 공포영화임을 느꼈다.', '영화관에 나혼자 있는게...   7.94  \n",
       "1  ['이 영화는 미쳤다. 넷플릭스가 일상화된 시대에 극장이 존재해야하는 이유를 증명해...   8.94  \n",
       "2  ['영화관에 나 혼자만 있다는 현실이 더  무섭다', '엄기영 앵커 보신분들은 공감...   8.56  \n",
       "3  ['아니 개봉당일날 9시 땡하고 부터 평점 쏟아지는게 말이 돼냐? 요즘 조조는 꼭두...   6.56  \n",
       "4  ['왜 여성은 사랑을 해야하냐며 말하면서도 사랑을 받고 싶다고 외치던 장면이 너무나...   8.83  "
      ]
     },
     "execution_count": 253,
     "metadata": {},
     "output_type": "execute_result"
    }
   ],
   "source": [
    "df.head()"
   ]
  },
  {
   "cell_type": "code",
   "execution_count": 256,
   "metadata": {
    "Collapsed": "false"
   },
   "outputs": [],
   "source": [
    "# 리뷰에 블러 처리 되어있는 곳에서 \\\\n\\\\t\\\\r 표시가 나타남 -> 삭제\n",
    "df['리뷰'] = df['리뷰'].apply(lambda x : x.replace('\\\\n','').replace('\\\\r','').replace('\\\\t',''))"
   ]
  },
  {
   "cell_type": "code",
   "execution_count": 257,
   "metadata": {
    "Collapsed": "false"
   },
   "outputs": [],
   "source": [
    "# 평점 평균 9점을 기준으로 구분\n",
    "high = df.loc[df['score'] >= 9]\n",
    "row = df.loc[df['score'] < 9]"
   ]
  },
  {
   "cell_type": "code",
   "execution_count": 258,
   "metadata": {
    "Collapsed": "false"
   },
   "outputs": [],
   "source": [
    "high = high.reset_index()\n",
    "row = row.reset_index()"
   ]
  },
  {
   "cell_type": "markdown",
   "metadata": {
    "Collapsed": "false"
   },
   "source": [
    "# 3. Tokeninzing"
   ]
  },
  {
   "cell_type": "code",
   "execution_count": 259,
   "metadata": {
    "Collapsed": "false"
   },
   "outputs": [],
   "source": [
    "twitter = Okt()  #twitter class 객체당!\n",
    "komoran = Komoran()\n",
    "kkma = Kkma()\n",
    "# mecab = Mecab()\n",
    "# hannanum = Hannanum()"
   ]
  },
  {
   "cell_type": "code",
   "execution_count": 260,
   "metadata": {
    "Collapsed": "false"
   },
   "outputs": [
    {
     "data": {
      "text/plain": [
       "'[\\'옆에서 기침을 시작하자 비로소 공포영화임을 느꼈다.\\', \\'영화관에 나혼자 있는게 제일 무서웠다\\', \\'우한코로나 때문에 관객이 인비저블...\\', \\'진짜 무섭거나 잔인한 장면 없이 공포감을 불러일으킴.간만에 진짜 재밌게 본 스릴러 영화.\\', \\'재밌으면 추천 재미없음 비추천 이것좀 그만 하면 안되나? 그런 사람들 프로필 드가봐요 다 그런 댓글만 있음 영화를 더럽히는 댓글들임\\', \\'스포일러가 포함된 감상평입니다. 감상평 보기한국이었으면 센서등에 걸릴 놈이 미국이라 운좋았다\\', \\'스포일러가 포함된 감상평입니다. 감상평 보기가장 놀란 부분 : 개밥그릇 발로 찼을 때\\', \\'음향이랑 카메라칵도에 4점 배우 연기 4점 흑인경찰친구 근육5점 스토리 3점 결말 3점\\', \\'세실리아가 부릅니다, ‘Show Yourself’~!\\', \\'환공포증 걸릴뻔했네....\\', \\'지금 봐라 코로나 때문에 극장에서 혼자 봄\\', \\'강아지 죽을까봐 보는내내 불안했음 마지막에 편---안\\', \\'귀신나오고 말도안되는거 싫어하는데 이건 스토킹과 현대과학이 섞여 현실감있었다.. 결론도 사이다에 스토리전개도 빠르고 자극적이고 이시국에 영화관간게 안아까웠다\\', \\'미쳤다 그냥..개꿀잼이에요우리나라 흔해빠진 공포영화라는 차원이다름;보고 배우세요 제발\\', \\'투명인간보다 더 무서운 여주인공\\', \\'이거 보고왔는데 눈치 없는 울집 강아지 허공에 대고 짖길래ㅜㅜ 벌벌 떨면서 담요 던져봄ㅜㅜㅜㅜ 진짜 무서워 죽을뻔\\', \\'여주 표정연기 미쳤다 내가 더 몰입되\\', \\'업그레이드 감독이라 스프라이즈, 음향효과에도 스프라이즈\\', \\'무섭게 재밌다 추천 아니다 비추천\\', \\'별로 기대안했는데 진짜 재밌었어요 처음부터 끝까지 계속 긴장감있고 흥미진진해요 보면서 계속 이 사람이 말하는게 근데 사실인가 아님 저게 사실인가 의심이 드는 영화이기도 하고요 추천합니다!\\', \\'영화 끝나는 순간 내 주위에 누군가 있음을 자각하게 된다.\\', \\'스포일러가 포함된 감상평입니다. 감상평 보기언니는 왜죽여 나쁜놈아결말이 마음에 들어서 추천영화관에서 봐야함BGM이 사람미치게함\\', \\'재밌게 무섭..딱 맛있게 매운 느낌 여주 연기 진짜 미쳤나는 재밌었는데 부모님은 그저 그렇다하심\\', \\'여자친구가 더 무서워요\\', \\'공포영화라기보단 스릴러 영화로 재밌고 무서웠다\\', \\'이 영화가 진짜 무서운 건 익숙한 공간이 낯설어지다는 것 같음\\', \\'와 여주 연기력 미쳤다.. 외국인이 연기 잘한다고 느껴진 건 이번이 처음...영화 존잼!\\', \\'역시 믿고 보는 겟 아웃 제작진이네...진짜 시간 어떻게 가는 줄 모르고 봤다ㅋㅋㅋㅋ존잼bb 여주 연기 미쳣음\\', \\'미국영화 특) 여주가 찌질하다가 막판에 걸크오짐\\', \\'영화 시작하기전 앞좌석 커플이 떠든다영화가 시작해도 계속 떠들까봐 무서웠다\\', \\'스포일러가 포함된 감상평입니다. 감상평 보기흑인 몸 쩔어 진심으로!!!!\\', \\'역시 질질짜는 국산보단 강인한정신의 미쿡여성답답함이 없었음\\', \\'★꼭 보세요 아까봤는데 긴장의 끈을 놓을수 없어요★\\', \\'솔직히 무서운건 겟아웃, 어스 뺨때리게 더 무서움\\', \\'스포일러가 포함된 감상평입니다. 감상평 보기서프라이즈 볼만하네요\\', \\'진짜 오랜만에 공포봤는데 너무 무섭네요 반전에 놀랬고 초반에 여자가 우유로? 사다리쪽에 부었을때 무슨 검은물체보고 진짜 기겁했어요\\', \\'스포일러가 포함된 감상평입니다. 감상평 보기연출과 연기가 쫄리긴 한데 모든걸 통제하며 살아가는 애드리언이 그 소중한 투명인간 수트 1벌 잃어버린걸 왜 놓치고 방심하고 있었는지...\\', \\'와~여주인공 연기 대박. 올해 본 최고의 스릴러 영화!\\', \\'최근 본 영화중에 가장 인상깊었음\\', \\'기대보단 실망이... 장르가 일반 공포영화에서 sf가 되버리는 기적\\', \\'귀신 괴물 이딴것들 안나오는데도 무섭다\\', \\'무섭고 재미잇어여~ 무서워도 볼 수 잇엇던 이유는 나를 스토킹해줄정도로 날 좋아해주는 남자가 이세상에 없어서, 공감이 안되어서, 덜 무서움. 아 다행이다. 쩝.\\', \\'와 소름 끼칩니다....\\', \\'분위기 미쳣다 ㅡㅡost도 잘뽑고.. 연기도 좋음. 볼만함\\', \\'마지막반전은 좋았으나 잔체줄거리가 답답하고 지루하게 느껴졌네요\\', \\'오프닝부터 움츠러든 어깨가 내내 펴지질 않음. 긴장감 최고!\\', \\'처음부터 끝까지 긴장하게하는 영화.그런데 첫장면에서 잘 때 파도소리 무엇 방음실화?;\\', \\'스포일러가 포함된 감상평입니다. 감상평 보기마지막에 여자연기하는거 소름...\\', \\'왜 여주가 그렇게 생긴 사람으로 캐스팅 했는지 보면서 알게 되는 영화\\', \\'첫장면부터 너무 짜증 날 정도로 무서웠고스토리 전개와 장면과 연기 모두 말할 수 없을 정도로 긴장되고 지금까지 본 공포는 공포가 아니었음을...코로나 때문에 관람못할까봐걱정하다 마스크쓰고 나가 봄. 정말 안봄 후회 ...\\', \\'대전 롯데백화점 시네마. 3월 10일. 4시30분 영화. 나까지 관객 총 6명. 맨끝줄 구석에 앉은 여자 두명 겁나 떠드네. 지들은 속닥거린다고 했겠지. 그 속닥거르는게 신경 엄청 쓰임. 그런 에티켓으론 다시 극장오...\\', \\'눈 가린다고 사라지는 무서움이 아님.. 진짜 무서워서 중간에 나왔어요ㅠ 근데 후유증은 오래 안가더라구요. 정말 깔끔한 공포영화!!!! 소름도 돋고,,  추천!\\', \\'영화에나오는집 전망 죽여줌 그냥 저 집에서 살고싶다.\\', \\'코로나의 위협을 뚫고 보러 간 블룸하우스 처돌이 ㅠㅠ 그만큼 재밌었다! 블룸하우스 다음 영화도 기대합니다ㅠㅠ 결말도 좋고 주인공 연기력도 bbb !! 너무 존잼이다.. 진정으로 재밌는 공포영화는 역시 이런 영화ㅠㅠ♡...\\', \\'진짜 소름 끼칠 정도로 연기력이 상당하더라.. 오램만에 신선했던 영화고 겟아웃, 어스를 잇기엔 충분히 호러물인듯\\', \\'공포면 공포 스릴러면 스릴러지 왜 공포.스릴러인가 영화보면 이해됨. 40대 남성인데 극장에서 장화홍련이후 처음으로 소리지름. 페인트 쏟는장면에서~~\\', \\'최근 본 스릴러중에 단연 원톱! 영화 보는 내내 긴장되고  실제로 한번 지렸네요\\', \\'공포/호러영화 매니아로서 상당히 만족스러운 작품이였다..코로나 때문에 사람없는 시간대 골라서 관람했는데 위험을 무릎쓰고 볼만한 수작이라고 생각된다.시작부터 끝까지 깔끔.여자주인공 및 조연들의 자연스러운 연기와 더불어...\\', \\'이전까지 보던 스릴러와는 다른 스릴러라고 할 수 있음. 뻔한 내용일 수 있는데 여주연기+ 연출+ Bgm으로 영화 다 살림\\', \\'스포일러가 포함된 감상평입니다. 감상평 보기적당히 긴장되면서 끝까지 재밌게 보고왔어요!귀신나오는게 아니라서 공포영화 후유증도 없이 깔끔해서 좋네요 ㅎㅎ\\', \\'끝날때까지 끝난게 아니다\\', \\'생각보다 엄청 무섭고 그렇진 않아요~스토리 엄청 탄탄하고 감독보고 믿고 봄^^\\', \\'평점믿고보지말라하는데 어제 오후6시로 cgv에서 실관람한소감으로 몰입감도좋고 귀신안나와도 이렇게 무섭구나생각들었고 재밋게봤어요\\', \\'진짜 볼 만한 영화가 없어서 선택한 영화가 최고의 영화인걸 증명했다.. 보는내내 마치 자이로드롭을 타고 내려가기 직전 아.. 개떨려 괜히 탔다..라고 생각드는 그 공포감을 현장에서 느꼈습니다. 긴장해서 본 탓에 오한...\\', \\'보는 사람도 제발 벗어나고 싶은 마음이 간절해짐 ㅋ 뻔할줄알았는데 신선한 요소가 있음 마지막 결말이 이렇게 마음에 쏙 들수가 !!!\\', \\'코로나아니었음 대박 났을텐데...ㅜㅜ\\', \\'주말 황금 시간대에 20명 남짓한 관람객...예매율 1위임에도 1만명...빨리 코로나가 잡혔으면 좋겠네요.\\', \\'세실리아에 몰입해서 보게되네요\\', \\'코로나 뚫고 가서본 기대안한 영화중에 가장재밌고 신선했음 투명인간이라는 소재로 이렇게 만들기 쉽지않은데 처음부터 긴장을 놓을수가 없게 아주 박진감 넘치게 잘만들었음 팝콘 먹는것도 눈치 보일정도로 ㅎㅎ 전영적인 공포,...\\', \\'여주가 개쎈캐여서 맘에듦... 마지막 Ost까지 깔끔함\\', \\'계속 와 여주인공 연기 진짜 잘한다 하면서 봤음미래엔 가능할 과학기술이라서 말이 될 수 있는 내용이라 더 무서웠던 것 같다꼭보세요 평점 잘 안남기는데 진짜 오랜만에 만족스러운 영화라 평점 남깁니다\\', \\'긴장감이 마지막까지 지속되는건 괜찮았지만 스토리에 대한 기대가 중후반 이후로 꺾여서 아쉬웠다\\', \\'개연성이없다고들 하는데 글쎄..공포영화들 다 개연성없잖아 ㅋㅋ 근데 이거는 그래도 개연성있움 진짜 재밌었움  스토리가 흥미진진했음 여태본 공포영화중 제일 재밌었음\\', \\'도입부는 긴장감이 좋다가 갈수록 루즈하네요\\', \\'카메라가 움직이면 나는 뭐가 튀어 나올까 긴장한다\\', \\'귀신없어도 이렇게 무서울수가\\', \\'결말 충격적.. 끝까지 긴장했다\\', \\'무서운거 잘 못보는데 재밌게봄.영화내내 겁나 긴장됐고 마지막에 너무좋은 결말이였습니다\\', \\'스포일러가 포함된 감상평입니다. 감상평 보기괴물과 싸우려면 괴물이 되어야 한다.세실리아가 겪은 남자친구의 폭행과 집착. 통제하려는 가스라이팅은 너무나도 공포스러웠다. 페미사이드 사례들 중 하나가 될 뻔한 이야기는 세실리아가 시원하게 날려버렸다. 어찌나 멋있던...\\', \\'음향 과 여주 연기력 때문에 더 무서웠던 영화. 몰입감 대박..\\', \\'사람들이 영화관에서 마스크를 벗고 팝콘을 먹는게 더 무서웠다.\\', \\'흑인옵 피지컬.. 10점드릴게요**\\', \\'공포보단 스릴러에 가까움중간에 액션도있어서 볼만함\\', \\'진짜 조올라 재밌어요 다른 신선함없는 공포영화처럼 막 놀래키고 무섭게 cg하고 그런거하고 차원이 다르게 무서워요.. 그냥 가만히 있어도 공포감 조성되고 현실성이 전혀 없는것도아니고 그렇다고 있는거같아보이지도않고 아 ...\\', \\'공포영화는 안보는데 이건 귀신도 안나오고 스릴있고 흥미진진해서 재밌게 볼 수 있었다\\', \\'보고 진짜 와 이런 영화가 있구나 대박 이러면서 감탄함ㅋㅋㅋ 진짜 신선하고 존잼임\\', \\'보고싶은데 갈수없다.. 미안하다ㅠ\\', \\'여주인공을 훔쳐보는 연출과 긴장감을 고조시키는 웅장한 사운드는 공포를 유발시키기에 충분했음.리메이크가 아주잘된 A급 영화\\', \\'이게 그냥 귀신이라고 넘어가면 그냥 그러려니 할 부분이 사람이라고 생각하니 뭔가 이상함. 이해 안 되는 부분도 있고... 별로 무섭지도 않음\\', \\'와 미쳤다 대박 ㅋ 방금 보고 나오는 길인데 재미있어요 ㅋ 강추함\\', \\'겟아웃,어스 그 이상을 보여주는 인비저블맨\\', \\'겟아웃을 보지 않았지만 이영화가 겟아웃만큼 무섭고 재밌었다고 한다면 나는 평생 겟아웃을 보지 않을것이다\\', \\'여주인공 약간 조디포스터 느낌 나네요. 연기가 좋았어요\\', \\'진짜  보면서 힘들었음  긴장감쵝오,  힘들게본만큼 재미있었고  여자주인공 연기력 진짜 대박이였음    전세계 배우들중 손가락안에 들거같다 연기진짜  너무잘하드라 손에땀이났어요^^;\\', \\'닭살이 계속 돋았어요ㅠㅠ 특히 레스토랑씬은..ㄷㄷ지루하지 않고 스릴있게 잘 봤습니다!!귀신 나오지도 않는데 긴장되고 무서운 ㅠㅠ\\', \\'보이지 않을때 느껴지는 공포가 최고\\', \\'스포일러가 포함된 감상평입니다. 감상평 보기진짜 개재밌다 처음부터 끝까지 재밌네ㅋㅋ 아 페인트 붓을때 진짜 ㄹㅇ 팝콘까지 붓을뻔\\', \\'결말에 대한 반전을 너무 생각했나 그냥 예상 할 수있는 결말로 끝나 버리는구나\\', \\'볼만했지만 뭔가 아쉬운 느낌.. 흑인경찰 몸 좋은게 제일 기억에 남는다.\\', \\'리워넬 감독 작품이라 믿고 봤는데 진짜심리적공포가 어마어마 한것 같음진짜 너무 재밌어요 진짜로 진짜 서프라이즈!\\', \\'근데 그냥 파리가서 살면 안되나?ㅋㅋㅋ출국도 못할텐데\\', \\'욕이 절로 나오는 영화!!\\', \\'^^ㅣ바 ㄹㅇ 혼자봤는데, 예고편에서 나오는 손도장 장면도 안나오고 ㅠㅠ 무섭지도않고 말도 안되고 소리만 겁나 거슬리게 나오는게 ㄹㅇ 짜증났음. 돈이 아까운 영화.\\', \\'왜 이게 1위인지 평점이 높은지 애매해요... 그냥 빌런이 투명인간 수트 입은 영화... 공포 부분은 초반에만 그런데 그마저도 음향으로만 시끄럽게 치고 나올뿐 전혀 무섭지 않아요. 겟아웃 기대하고 가면 완전 실망할거...\\', \\'삼류영화 그 자체. 어떻게 별점이 9점대일까? 조작이라는 생각밖에 들지 않는다. 나에게도 변호사 동생이 있었다면 그들을 고소했을텐데.\\', \\'오늘 이영화 보고 왔습니다.. 와 ~ 투명인간이 한 층 좀 더 현실적으로 다가온 영화입니다.다들 연기들도 너무 잘 하시고, 스토리 자체도  좋았습니다. 역시나 훌륭한 과학기술은 좋은 곳에 인류를 위한 일에 ~\\', \\'엥 ㅠㅠㅠ 평점 높아서 본건데 넘 지루했어요 ..\\', \\'Kt 멤버쉽으로 보고 처음 리뷰 쓰는데요  공짜임에도 아쉬웠고 시간이 아까웠습니다\\', \\'너무너무너무너무 실망\\', \\'베댓이 스포질 하고 있네. 짜증남.\\', \\'이걸 영화관에서 본시간이 아깝다내용전개며 연기며 구성이며 딱 3류영화\\', \\'ㄴ흑인경찰친구근육 평점\\', \\'그냥 최고 관객을 가지고 놉니다 ㅋㅋ\\', \\'스포없이 봤어요.개연성없는 투명인간인가했는데 스토리.반전도 있고 여주가 진짜 엄지척이네요 여배우들이 얼굴만 이쁘게 나오는거 중요시여기는데..흑인경찰 팔뚝~~~멋진 근육 감탄!\\', \\'귀신 없이도 조여오는 공포..\\', \\'흑형이 생각보다 너무 무기력함\\', \\'귀신도 안나오고 무서운장면도 딱히 없는데 소름끼치게 무서움.. 나에겐 새로운 장르의 공포였다.. 사람이 어떤거에 무서움을 느끼는지 아주 잘 알고 만든 것 같다.1위 할만한 영화.주인공이 연기를 엄청나게 잘한다..이 ...\\', \\'별거아닌거에도 깜놀하게 만드는 재주가 있다ㅋㅋㅋ 연기도 잘하고 스토리도 괜찮았음. 무엇보다 bgm, 효과음 등이 훌륭하다고 생각한다\\', \\'스릴넘치고 소재가 신선했어요!여자 배우 연기 ㄷㄷㄷ\\', \\'독특하고 긴장감 넘치는 영화였어요 인상 깊게 봤습니다\\', \"안무서울 틈이 없네요.. ;\\';\", \"오우~ 기대이상인데요? 이십여년전 케빈 베이컨의 \\'할로우맨\\'이 돈들인 냄새 풀풀나는 세련된 투명인간 영화였다면, 이 영화는 상대적으로 저예산 영화인듯하면서도, 긴장감과 몰입감을 계속 끌고나가는 힘 자체...\", \\'생각한 것보다 연출이 잘되었네요\\', \\'별 생각없이 봤는데 반전도 나름있고 마지막에 카타르시스를 시원하게 풀어준영화!ㅋㅋㅋ\\', \\'\\', \\'흑형 도대체 운동 어떻게 한거임?..\\', \\'간만에 제대로된 공포영화봐서 기분좋았네 컨저링급 공포는 한국영화에선 찾기힘든데 이건진짜 긴장 오지게되더라 ost부분에서는 너무 크다해야하나 ㅋㅋㅋ 그래도 몰입감오짐\\', \\'대충 스토리느낌이 예상되었지만 최근 본영화중 진짜 재밌게 본 영화였음\\', \\'진짜 감독이 천재인듯함\\', \\'\\', \\'스포일러가 포함된 감상평입니다. 감상평 보기계략 Of 계략이라고 해야 할지...싸이코의 집착으로 인한 벗어나기 위한 추격전인데 되게 여주 연기가 너무 좋아서 끝까지 긴장하며 봄\\', \\'너무 무서워서 깜짝깜짝 놀라고 ㅜ 후하후하\\', \\'오! 업그레이드 감독이었네요 어쩐지 신박하더라\\', \\'스릴러에 가까우며 무섭진 않고 음향효과 타이밍이 미쳐서 사람을 긴장하게 함ㅋㅋㅋ 시간 가는 줄도 모르고 재밌게 봄 ㅋㅋ믿고보는 블룸하우스\\', \\'개연성도 없고, 평점이 왜 높은지 이해가 안감..\\', \\'쓰레기. 보지마세요. 시간아까움.\\', \\'정말로 취존일수도 잇지만 이거 잼잇다고 하는 사람들 최소 댓글알바다. 진짜 처음부터 끝까지 노잼\\', \\'스포일러가 포함된 감상평입니다. 감상평 보기공포라는것도 강약조절이 있어야 되는데 대낮에도 큰 사운드로 사람 놀래키는 부분이 별로였음그리고 스토리가 좀 부실했음 차라리 슈트가 더 나중에 밝혀지고 주인공의 망상인것처럼 꾸며나가는 것이 좋았을것이라고 생각됨\\', \\'와 코로나때도 알바들이 바글바글대는구나 ㅋㅋㅋㅋ 9점이라고? ㅋㅋㅋ 2점줄라고했는데 여주도 못생겨서 1점준다 ㅋㅋ\\', \\'정말 평점좀 제대로 매겼으면 좋겠네요 너무 실망입니다.\\', \\'존나쟈미없어요레알로\\', \\'음 초반에는 조금 지루했는데 뒤로 갈수록 그래도 좀 나아지네요 기대했던 거보다는 조금 못미침\\', \\'스릴감은 진짜 짱인데 마지막이 너무 찝찝... 두번 생각해도 찝찝..\\', \\'재밌게 잘 봤어요새로운 장르의 공포라 신선했음잔인한 장면이 좀 있음\\', \\'영화는 여주인공을 미치게 만드려는게 아니라 관객을 미치게 만드려는거다. 1시간 30분동안 답답함.\\', \\'처음에 와 이거 무서운건가봐 하고 긴장하고 봤다가.. 히어로물인가 헷갈렸다가... 이건 도대체 뭐지 하면서 끝나는 영화\\', \\'찝찝한 영화네요. 그냥저냥 보고왔습니다.\\', \\'무서운 장면은없음 사운드 연기력으로 깜짝깜짝 놀람\\', \\'ㅌㅋ잘 봣다 여주인공 연기 굳\\', \\'간만에 재밌는 영화봤네여~\\', \\'구구절절 설명은 불필요 이 영화의 신선함만으로 충분하다\\', \\'그냥 보러갔다가 간만에 진짜 잼나게봄스릴 공포감 최고\\', \\'꼭보세요 마스크끼고 볼만한 첵오의영화\\', \\'완전 꿀잼 꼭보세요 스릴러인데 공포영화보다 무서움!!\\', \\'귀신안나오는데 개무서움\\', \\'엔딩까지 깔끔한 마무리~~\\', \\'클레멘타임보다노잼임..\\', \\'아니 여주 너무 못생긴거아니냐\\', \\'엄청난 천재가 집착때문에 망했다그런데 왜 그여자가 좋은지 이유라도 알아야되는거아냐?\\', \\'이 영화를 보고 평점 알바가 있다는걸 알게됨 정~~~~말 재미없다\\', \\'스포일러가 포함된 감상평입니다. 감상평 보기중반까지의 몰입도는 최상이었으나 세실리아의 임신사실이 밝혀지고 그녀의 안전이 보장되면서몰입이 와장창 깨진다. 수트가 너무 강해서 연출을 보고 있으면 히어로물인지 헷갈린다. 그리고 호신용 스프레이가 수트에 통하나?\\', \\'반전이 있으면 뭐하나 재미가 없는데... 초반에 몰입감, 심장 졸이기 잘하더니 뒤에 가서는 헛웃음이 나와서 웃어버렸음. 옷빨로 파워업 업그레이드 다 해버림.\\', \\'그냥 영화 제목부터 스포중임그냥 스토리는 뻔함\\', \\'스포일러가 포함된 감상평입니다. 감상평 보기정말 아깝다 ~운이없는 영화라고나 할까 최소한 이나라에서는~~오랜만에 몰입감 짱짱한 영화 한편~\\', \\'간만에 흥미진진한 영화 봤습니다\\', \\'반전 대박 볼만했음 무서운거잘보는 나한텐 별로안무서웠당\\', \\'개노잼.. 도대체 무얼 말하려고 하는건지.. 흑인 남편 잘 생기고 몸짱인거만 기억에 남네요!!!\\', \\'감독이 영화에 반전같은거 넣으려다가 인물들 감정선 다 무시해버리네. 그리고 개연성이 뒤죽박죽임. 설명할건 제대로 짚고 넘어가던가. 최악까진 아니지만 9점영화는 아님,,,\\', \\'진짜 긴장늦출수가 없음..  좀 방심한감이 있긴한데 영화관에서 소리지른거 처음이라 쪽팔렸음...\\', \\'엄청 스릴있어요여주가 연기잘함 언니 불쌍해요 ㅜㅜ대박 잼\\', \\'오동통통 쫄긧쬘긧 !!!!\\', \\'생각보다 너무 재밌네...\\', \\'간만에   좋은영화   잘봤어요  스릴\\', \\'무서워서 입 막고 봤다 열자\\', \\'경찰뻘짓하는 거 빼면 쫄깃하게 잘봄\\', \\'오랜만에 신선한 영화를 봤네요. 초반엔 뭔 내용인지 하겠지만 어느순간 손에 힘 꽊주고 있는 자신을 알게됩니다.ㅋ\\', \\'연기력 사운드 영상 다 너무 무서웠어용 ㅠㅠ\\', \\'영화보다 더 무서운건 극장에 나 혼자 있었다는 사실이다!\\', \\'공포/스릴러영화를 좋아하는저로서 상당히 재미있게봤습니다 조조 + 코로나때문인지 영화관에 저 혼자뿐이였는데 더더욱 영화의 몰입감을 높혔던거같습니다.여주의 연기도 좋았고 스토리도 이정도면 괜찮았던거같습니다\\', \\'스포일러가 포함된 감상평입니다. 감상평 보기서프라이즈할때 소름...\\', \\'스포일러가 포함된 감상평입니다. 감상평 보기공포는 아니고. 음향때문에 깜짝 놀라지만마지막 반전을 위해 감독의 연출에 박수를!\\', \\'스토리가허접하고 짜임세는없고 시나리오를꼴리는데로쓰고 엉망으로만들어서 돈벌려는 제작사나 감독은 지구에서꺼져라.\\', \\'와..그냥 미쳤음내가 컨저링때 공포영화는다수가 그영화를 보고 공포를 느꼈다면 잘만든 공포영화라고 생각한다고 남겼을때 꽤 많은 좋아요를 받았던걸로 기억하는데 그때가 처음이자 마지막으로공포영화에 호평을 남긴거였다근데 이...\\', \\'보이지 않는 제 여친과 보고 왔더니 무서움은 덜했지만 재미 있었습니다.\\', \\'여주숨소리밖에 기억안남.. 무슨 생각으로 만든 영화인지 심히 궁금.\\', \\'이 영화는 끝났다고 생각한 순간부터 진짜가 시작된다\\', \\'잔인한 장면은 없지만 포인트는 있었고 제임스 역할의 배우 피지컬이 자꾸 시선강탈을 했다. 멋있었다.\\', \\'저 주인공분 어스에서 흑인분들 친구 역할로 나왔을 때 연기잘한다고 생각했는데,, 주인공으로 나오시니,, ㄷㄷ 진심 연기 후덜덜하네욥,,,\\', \\'좋은 소재, 여주 연기력 굳굳흑인 경찰 근육 부럽다..\\', \\'재밌게 봤습니다. 소름끼치고 반전에 뒷통수 맞았어요.\\']'"
      ]
     },
     "execution_count": 260,
     "metadata": {},
     "output_type": "execute_result"
    }
   ],
   "source": [
    "df['리뷰'][0]"
   ]
  },
  {
   "cell_type": "code",
   "execution_count": 261,
   "metadata": {
    "Collapsed": "false"
   },
   "outputs": [
    {
     "data": {
      "text/plain": [
       "[(\"['\", 'Punctuation'),\n",
       " ('옆', 'Noun'),\n",
       " ('에서', 'Josa'),\n",
       " ('기침', 'Noun'),\n",
       " ('을', 'Josa'),\n",
       " ('시작', 'Noun'),\n",
       " ('하자', 'Verb'),\n",
       " ('비로소', 'Noun'),\n",
       " ('공포영화', 'Noun'),\n",
       " ('임', 'Noun'),\n",
       " ('을', 'Josa'),\n",
       " ('느꼈다', 'Verb'),\n",
       " (\".',\", 'Punctuation'),\n",
       " (\"'\", 'Punctuation'),\n",
       " ('영화관', 'Noun'),\n",
       " ('에', 'Josa'),\n",
       " ('나', 'Noun'),\n",
       " ('혼자', 'Noun'),\n",
       " ('있는게', 'Adjective'),\n",
       " ('제일', 'Noun'),\n",
       " ('무서웠다', 'Adjective'),\n",
       " (\"',\", 'Punctuation'),\n",
       " (\"'\", 'Punctuation'),\n",
       " ('우한', 'Noun'),\n",
       " ('코로나', 'Noun'),\n",
       " ('때문', 'Noun'),\n",
       " ('에', 'Josa'),\n",
       " ('관객', 'Noun'),\n",
       " ('이', 'Josa'),\n",
       " ('인비저블', 'Noun')]"
      ]
     },
     "execution_count": 261,
     "metadata": {},
     "output_type": "execute_result"
    }
   ],
   "source": [
    "# puctuation(구두점?)은 필요없는 데이터로 생각됨\n",
    "# josa도 필요없을 것으로 예상됨\n",
    "twitter.pos(df['리뷰'][0])[:30]"
   ]
  },
  {
   "cell_type": "code",
   "execution_count": 262,
   "metadata": {
    "Collapsed": "false"
   },
   "outputs": [],
   "source": [
    "def tokenize(df):\n",
    "    corpus = []\n",
    "    for text in df['리뷰']:\n",
    "        corpus.append(['/'.join(p) for p in twitter.pos(text) if p[1] != \"Josa\" and p[1] != \"Punctuation\"])\n",
    "    return corpus"
   ]
  },
  {
   "cell_type": "code",
   "execution_count": 263,
   "metadata": {
    "Collapsed": "false"
   },
   "outputs": [],
   "source": [
    "corpus_high = tokenize(high)"
   ]
  },
  {
   "cell_type": "code",
   "execution_count": 264,
   "metadata": {
    "Collapsed": "false"
   },
   "outputs": [],
   "source": [
    "corpus_row = tokenize(row)"
   ]
  },
  {
   "cell_type": "code",
   "execution_count": 265,
   "metadata": {
    "Collapsed": "false"
   },
   "outputs": [
    {
     "data": {
      "text/plain": [
       "['앨리/Noun',\n",
       " '잭슨/Noun',\n",
       " '사랑/Noun',\n",
       " '잭슨/Noun',\n",
       " '앨리/Noun',\n",
       " '세상/Noun',\n",
       " '선물/Noun',\n",
       " '했다/Verb',\n",
       " '연기/Noun',\n",
       " '연출/Noun',\n",
       " '음악/Noun',\n",
       " '하나/Noun',\n",
       " '빠지는게/Verb',\n",
       " '없다/Adjective',\n",
       " '올해/Noun',\n",
       " '본/Verb',\n",
       " '최고/Noun',\n",
       " '음악/Noun',\n",
       " '영화/Noun',\n",
       " '인생/Noun',\n",
       " '어떤/Adjective',\n",
       " '사람/Noun',\n",
       " '만나는지에/Verb',\n",
       " '따라/Verb',\n",
       " '인생/Noun',\n",
       " '바뀔/Verb',\n",
       " '수/Noun',\n",
       " '있다/Adjective',\n",
       " '형/Noun',\n",
       " '후진/Noun']"
      ]
     },
     "execution_count": 265,
     "metadata": {},
     "output_type": "execute_result"
    }
   ],
   "source": [
    "corpus_high[0][:30]"
   ]
  },
  {
   "cell_type": "markdown",
   "metadata": {
    "Collapsed": "false"
   },
   "source": [
    "###  3-1. 시각화\n",
    "\n",
    "잘 나오는 것 같지는 않다.. 쓸데없는 단어가 너무 많은 듯"
   ]
  },
  {
   "cell_type": "code",
   "execution_count": 283,
   "metadata": {
    "Collapsed": "false"
   },
   "outputs": [],
   "source": [
    "import matplotlib.pyplot as plt\n",
    "import seaborn as sns\n",
    "plt.style.use('seaborn')\n",
    "plt.rc('font', family = 'AppleGothic')\n",
    "plt.rc('axes', unicode_minus = False)"
   ]
  },
  {
   "cell_type": "code",
   "execution_count": 267,
   "metadata": {
    "Collapsed": "false"
   },
   "outputs": [],
   "source": [
    "high_text = []\n",
    "row_text = []\n",
    "for data in corpus_high:\n",
    "    high_text.extend(data)\n",
    "    \n",
    "for data in corpus_row:\n",
    "    row_text.extend(data)"
   ]
  },
  {
   "cell_type": "code",
   "execution_count": 268,
   "metadata": {
    "Collapsed": "false"
   },
   "outputs": [
    {
     "data": {
      "text/plain": [
       "<matplotlib.axes._subplots.AxesSubplot at 0x15ee6d210>"
      ]
     },
     "execution_count": 268,
     "metadata": {},
     "output_type": "execute_result"
    },
    {
     "data": {
      "image/png": "[encoded data removed]",
      "text/plain": [
       "<Figure size 1800x720 with 1 Axes>"
      ]
     },
     "metadata": {},
     "output_type": "display_data"
    }
   ],
   "source": [
    "pd.DataFrame(high_text)[0].value_counts()[0:70].plot(kind='bar', figsize=(25,10))"
   ]
  },
  {
   "cell_type": "code",
   "execution_count": 269,
   "metadata": {
    "Collapsed": "false"
   },
   "outputs": [
    {
     "data": {
      "text/plain": [
       "<matplotlib.axes._subplots.AxesSubplot at 0x1649a89d0>"
      ]
     },
     "execution_count": 269,
     "metadata": {},
     "output_type": "execute_result"
    },
    {
     "data": {
      "image/png": "[encoded data removed]",
      "text/plain": [
       "<Figure size 1800x720 with 1 Axes>"
      ]
     },
     "metadata": {},
     "output_type": "display_data"
    }
   ],
   "source": [
    "pd.DataFrame(row_text)[0].value_counts()[0:70].plot(kind='bar', figsize=(25,10))"
   ]
  },
  {
   "cell_type": "markdown",
   "metadata": {
    "Collapsed": "false"
   },
   "source": [
    "# 4. Embeding"
   ]
  },
  {
   "cell_type": "markdown",
   "metadata": {
    "Collapsed": "false"
   },
   "source": [
    "### 4-1. word2vec"
   ]
  },
  {
   "cell_type": "code",
   "execution_count": 307,
   "metadata": {
    "Collapsed": "false"
   },
   "outputs": [],
   "source": [
    "from gensim.models import Word2Vec, FastText"
   ]
  },
  {
   "cell_type": "code",
   "execution_count": 271,
   "metadata": {
    "Collapsed": "false"
   },
   "outputs": [],
   "source": [
    "Skip_Gram_model = Word2Vec(corpus_high, size=2, window=3, min_count=1, workers=1, iter=1000, sg=1)\n",
    "Skip_Gram_model2 = Word2Vec(corpus_row, size=2, window=3, min_count=1, workers=1, iter=1000, sg=1)"
   ]
  },
  {
   "cell_type": "code",
   "execution_count": 272,
   "metadata": {
    "Collapsed": "false"
   },
   "outputs": [
    {
     "name": "stdout",
     "output_type": "stream",
     "text": [
      "['영화/Noun', '들/Suffix', '너무/Adverb', '적/Suffix', '것/Noun']\n",
      "['영화/Noun', '들/Suffix', '너무/Adverb', '적/Suffix', '진짜/Noun']\n"
     ]
    }
   ],
   "source": [
    "#index2word\n",
    "words = Skip_Gram_model.wv.index2word #one-hot encoding알아서 해줌 \n",
    "words2 = Skip_Gram_model2.wv.index2word\n",
    "print(words[:5])\n",
    "print(words2[:5])"
   ]
  },
  {
   "cell_type": "code",
   "execution_count": 273,
   "metadata": {
    "Collapsed": "false"
   },
   "outputs": [
    {
     "name": "stdout",
     "output_type": "stream",
     "text": [
      "[[-0.57597435 -0.9570121 ]\n",
      " [-1.0242858  -0.34946814]\n",
      " [-0.39971384 -1.2093611 ]\n",
      " [-0.73513603 -0.6166669 ]\n",
      " [-0.98817205 -0.38942692]] \n",
      "\n",
      " [[-0.9235952   0.4289315 ]\n",
      " [-0.90568876  0.41304344]\n",
      " [-1.1410775  -0.22609034]\n",
      " [-0.9674465   0.26251096]\n",
      " [-1.1372007  -0.15212879]]\n"
     ]
    }
   ],
   "source": [
    "# text 토큰 임베딩 벡터\n",
    "vectors = Skip_Gram_model.wv.vectors\n",
    "vectors2 = Skip_Gram_model2.wv.vectors\n",
    "print(vectors[:5],'\\n\\n',vectors2[:5])"
   ]
  },
  {
   "cell_type": "code",
   "execution_count": 274,
   "metadata": {
    "Collapsed": "false"
   },
   "outputs": [],
   "source": [
    "# 토큰과 벡터 zip\n",
    "Skip_Gram_model_result = dict(zip(words, vectors))"
   ]
  },
  {
   "cell_type": "code",
   "execution_count": 291,
   "metadata": {
    "Collapsed": "false"
   },
   "outputs": [
    {
     "name": "stdout",
     "output_type": "stream",
     "text": [
      "[('잔잔하게만/Adjective', 0.9999999403953552), ('한없이/Adverb', 0.9999998807907104), ('였음/Verb', 0.9999998807907104), ('어쨋/Noun', 0.9999998807907104), ('재구/Verb', 0.9999997615814209)]\n",
      "[('브레핏/Noun', 1.0), ('ㄱㅌㅋㄲ/KoreanParticle', 1.0), ('재수없을거/Adjective', 1.0), ('중독/Noun', 1.0), ('이었다니/Verb', 0.9999999403953552)]\n"
     ]
    }
   ],
   "source": [
    "# 유사도 top5\n",
    "print(Skip_Gram_model.most_similar('감동/Noun', topn=5)) \n",
    "print(Skip_Gram_model2.most_similar('감동/Noun', topn=5))"
   ]
  },
  {
   "cell_type": "code",
   "execution_count": 294,
   "metadata": {
    "Collapsed": "false"
   },
   "outputs": [
    {
     "name": "stdout",
     "output_type": "stream",
     "text": [
      "[('쳐다보지도/Verb', 1.0), ('번영/Noun', 1.0), ('긴줄도/Verb', 1.0), ('그런지는/Adjective', 1.0), ('ㅉ/KoreanParticle', 1.0)]\n",
      "[('재미있었지만/Adjective', 1.0000001192092896), ('엽집꼬마존윅/Noun', 1.0), ('맛깔나게/Adjective', 1.0), ('물들의/Verb', 1.0), ('망설인/Verb', 1.0)]\n"
     ]
    }
   ],
   "source": [
    "print(Skip_Gram_model.most_similar('지루/Noun', topn=5)) \n",
    "print(Skip_Gram_model2.most_similar('지루/Noun', topn=5))"
   ]
  },
  {
   "cell_type": "code",
   "execution_count": 293,
   "metadata": {
    "Collapsed": "false"
   },
   "outputs": [
    {
     "name": "stdout",
     "output_type": "stream",
     "text": [
      "[('뺑반/Noun', 1.0), ('깎는다/Verb', 1.0), ('맨/Modifier', 1.0), ('긴장감/Noun', 1.0), ('특별한것은/Adjective', 0.9999999403953552)]\n",
      "[('지독한/Adjective', 1.0), ('탁/Noun', 1.0), ('좋/Noun', 1.0), ('가까이/Noun', 1.0), ('끌어당기는/Verb', 1.0)]\n"
     ]
    }
   ],
   "source": [
    "print(Skip_Gram_model.most_similar('쓰레기/Noun', topn=5)) \n",
    "print(Skip_Gram_model2.most_similar('쓰레기/Noun', topn=5))"
   ]
  },
  {
   "cell_type": "code",
   "execution_count": 278,
   "metadata": {
    "Collapsed": "false"
   },
   "outputs": [
    {
     "data": {
      "text/html": [
       "<div>\n",
       "<style scoped>\n",
       "    .dataframe tbody tr th:only-of-type {\n",
       "        vertical-align: middle;\n",
       "    }\n",
       "\n",
       "    .dataframe tbody tr th {\n",
       "        vertical-align: top;\n",
       "    }\n",
       "\n",
       "    .dataframe thead th {\n",
       "        text-align: right;\n",
       "    }\n",
       "</style>\n",
       "<table border=\"1\" class=\"dataframe\">\n",
       "  <thead>\n",
       "    <tr style=\"text-align: right;\">\n",
       "      <th></th>\n",
       "      <th>word</th>\n",
       "      <th>x1</th>\n",
       "      <th>x2</th>\n",
       "    </tr>\n",
       "  </thead>\n",
       "  <tbody>\n",
       "    <tr>\n",
       "      <th>0</th>\n",
       "      <td>영화/Noun</td>\n",
       "      <td>-0.575974</td>\n",
       "      <td>-0.957012</td>\n",
       "    </tr>\n",
       "    <tr>\n",
       "      <th>1</th>\n",
       "      <td>들/Suffix</td>\n",
       "      <td>-1.024286</td>\n",
       "      <td>-0.349468</td>\n",
       "    </tr>\n",
       "    <tr>\n",
       "      <th>2</th>\n",
       "      <td>너무/Adverb</td>\n",
       "      <td>-0.399714</td>\n",
       "      <td>-1.209361</td>\n",
       "    </tr>\n",
       "    <tr>\n",
       "      <th>3</th>\n",
       "      <td>적/Suffix</td>\n",
       "      <td>-0.735136</td>\n",
       "      <td>-0.616667</td>\n",
       "    </tr>\n",
       "    <tr>\n",
       "      <th>4</th>\n",
       "      <td>것/Noun</td>\n",
       "      <td>-0.988172</td>\n",
       "      <td>-0.389427</td>\n",
       "    </tr>\n",
       "    <tr>\n",
       "      <th>...</th>\n",
       "      <td>...</td>\n",
       "      <td>...</td>\n",
       "      <td>...</td>\n",
       "    </tr>\n",
       "    <tr>\n",
       "      <th>13054</th>\n",
       "      <td>몰랐다며/Verb</td>\n",
       "      <td>-0.583944</td>\n",
       "      <td>-1.176857</td>\n",
       "    </tr>\n",
       "    <tr>\n",
       "      <th>13055</th>\n",
       "      <td>가처분/Noun</td>\n",
       "      <td>-0.034834</td>\n",
       "      <td>-2.673667</td>\n",
       "    </tr>\n",
       "    <tr>\n",
       "      <th>13056</th>\n",
       "      <td>팟캐스트/Noun</td>\n",
       "      <td>-1.247645</td>\n",
       "      <td>-0.130152</td>\n",
       "    </tr>\n",
       "    <tr>\n",
       "      <th>13057</th>\n",
       "      <td>듣/Verb</td>\n",
       "      <td>-1.277281</td>\n",
       "      <td>-0.093318</td>\n",
       "    </tr>\n",
       "    <tr>\n",
       "      <th>13058</th>\n",
       "      <td>들으시면/Verb</td>\n",
       "      <td>-0.524664</td>\n",
       "      <td>-0.962659</td>\n",
       "    </tr>\n",
       "  </tbody>\n",
       "</table>\n",
       "<p>13059 rows × 3 columns</p>\n",
       "</div>"
      ],
      "text/plain": [
       "            word        x1        x2\n",
       "0        영화/Noun -0.575974 -0.957012\n",
       "1       들/Suffix -1.024286 -0.349468\n",
       "2      너무/Adverb -0.399714 -1.209361\n",
       "3       적/Suffix -0.735136 -0.616667\n",
       "4         것/Noun -0.988172 -0.389427\n",
       "...          ...       ...       ...\n",
       "13054  몰랐다며/Verb -0.583944 -1.176857\n",
       "13055   가처분/Noun -0.034834 -2.673667\n",
       "13056  팟캐스트/Noun -1.247645 -0.130152\n",
       "13057     듣/Verb -1.277281 -0.093318\n",
       "13058  들으시면/Verb -0.524664 -0.962659\n",
       "\n",
       "[13059 rows x 3 columns]"
      ]
     },
     "execution_count": 278,
     "metadata": {},
     "output_type": "execute_result"
    }
   ],
   "source": [
    "w2v_df = pd.DataFrame(vectors, columns = ['x1', 'x2'])\n",
    "w2v_df['word'] = words\n",
    "w2v_df = w2v_df[['word', 'x1', 'x2']]\n",
    "w2v_df"
   ]
  },
  {
   "cell_type": "code",
   "execution_count": 284,
   "metadata": {
    "Collapsed": "false"
   },
   "outputs": [
    {
     "data": {
      "image/png": "[encoded data removed]",
      "text/plain": [
       "<Figure size 576x396 with 1 Axes>"
      ]
     },
     "metadata": {},
     "output_type": "display_data"
    }
   ],
   "source": [
    "import matplotlib.pyplot as plt\n",
    "import numpy as np\n",
    "warnings.filterwarnings(\"ignore\", category=DeprecationWarning) \n",
    "\n",
    "fig, ax = plt.subplots()\n",
    "\n",
    "for word, x1, x2 in zip(w2v_df['word'], w2v_df['x1'], w2v_df['x2']):\n",
    "    ax.annotate(word, (x1,x2 ))\n",
    "    \n",
    "PADDING = 1.0\n",
    "x_axis_min = np.amin(vectors, axis=0)[0] - PADDING\n",
    "y_axis_min = np.amin(vectors, axis=0)[1] - PADDING\n",
    "x_axis_max = np.amax(vectors, axis=0)[0] + PADDING\n",
    "y_axis_max = np.amax(vectors, axis=0)[1] + PADDING\n",
    " \n",
    "plt.xlim(x_axis_min,x_axis_max)\n",
    "plt.ylim(y_axis_min,y_axis_max)\n",
    "plt.rcParams[\"figure.figsize\"] = (10,10)\n",
    "\n",
    "plt.show()"
   ]
  },
  {
   "cell_type": "markdown",
   "metadata": {
    "Collapsed": "false"
   },
   "source": [
    "### 4-2. FastText"
   ]
  },
  {
   "cell_type": "code",
   "execution_count": 308,
   "metadata": {
    "Collapsed": "false"
   },
   "outputs": [],
   "source": [
    "Skip_Gram_model3 = FastText(corpus_high, size=10, window=3, min_count=3, workers=1, iter=1000, sg=1)"
   ]
  },
  {
   "cell_type": "code",
   "execution_count": 317,
   "metadata": {
    "Collapsed": "false"
   },
   "outputs": [],
   "source": [
    "Skip_Gram_model4 = FastText(corpus_row, size=10, window=3, min_count=3, workers=1, iter=1000, sg=1)"
   ]
  },
  {
   "cell_type": "code",
   "execution_count": 318,
   "metadata": {
    "Collapsed": "false"
   },
   "outputs": [
    {
     "name": "stdout",
     "output_type": "stream",
     "text": [
      "['영화/Noun', '들/Suffix', '너무/Adverb', '적/Suffix', '것/Noun']\n",
      "['영화/Noun', '들/Suffix', '너무/Adverb', '적/Suffix', '진짜/Noun']\n"
     ]
    }
   ],
   "source": [
    "#index2word\n",
    "words = Skip_Gram_model3.wv.index2word\n",
    "words2 = Skip_Gram_model4.wv.index2word\n",
    "print(words[:5])\n",
    "print(words2[:5])"
   ]
  },
  {
   "cell_type": "code",
   "execution_count": 319,
   "metadata": {
    "Collapsed": "false"
   },
   "outputs": [
    {
     "name": "stdout",
     "output_type": "stream",
     "text": [
      "[[-0.28140795 -0.22632611  0.24951929  0.5556262  -0.08301441  0.30546194\n",
      "  -0.21991087  0.10664916 -0.42990428  0.05914424]\n",
      " [ 0.15130994 -0.0622793   0.34591767  0.18203405 -0.43823898  0.26520965\n",
      "  -0.800092   -0.0634257  -0.26475665 -0.23431912]\n",
      " [-0.09329364 -0.49825498 -0.17583998  0.4199265  -0.2099813   0.0845623\n",
      "  -0.2522218  -0.4114281  -0.5770619   0.105877  ]\n",
      " [ 0.07313786 -0.4889976   0.41710487  0.11549505 -0.41401058 -0.02049782\n",
      "  -0.3625828  -0.01536921 -0.8676769  -0.6227588 ]\n",
      " [-0.36244518  0.22340581  0.36476335  0.22195423 -0.50668967  0.27726954\n",
      "  -0.49072045  0.18943527 -0.24955197 -0.24525575]] \n",
      "\n",
      " [[-0.12285627 -0.39373854 -0.40903357  0.67555577  0.20049407 -0.09224203\n",
      "  -0.03599266  0.09492757 -0.34273246  0.11149801]\n",
      " [ 0.00328706 -0.18932141 -0.3016353   0.5632625   0.03740828 -0.54176486\n",
      "   0.19134998 -0.24217653 -0.17384788  0.04188104]\n",
      " [ 0.14616644 -0.3727458   0.07815107  0.9521812  -0.22170453 -0.0926572\n",
      "  -0.29925144  0.02930958  0.05198776 -0.00280699]\n",
      " [ 0.485309    0.11684018 -0.28068006  0.97067845  0.11088795 -0.2931049\n",
      "  -0.2747586  -0.6210738  -0.34513834 -0.5362422 ]\n",
      " [-0.17217919 -0.9307859  -0.1843676   0.510997   -0.15775621 -0.1558614\n",
      "  -0.22153215  0.19941705 -0.15115383  0.01448119]]\n"
     ]
    }
   ],
   "source": [
    "vectors = Skip_Gram_model3.wv.vectors\n",
    "vectors2 = Skip_Gram_model4.wv.vectors\n",
    "print(vectors[:5],'\\n\\n',vectors2[:5])"
   ]
  },
  {
   "cell_type": "code",
   "execution_count": 320,
   "metadata": {
    "Collapsed": "false"
   },
   "outputs": [
    {
     "name": "stdout",
     "output_type": "stream",
     "text": [
      "[('좋습니다/Adjective', 0.9561736583709717), ('울림/Noun', 0.9277921915054321), ('보는내내/Verb', 0.9232908487319946), ('웃음/Noun', 0.9101909399032593), ('봐야겠어요/Verb', 0.9034826755523682)]\n",
      "[('조연/Noun', 0.9739319086074829), ('듣기/Noun', 0.9473122954368591), ('호흡/Noun', 0.9460064172744751), ('였던것/Verb', 0.9444116353988647), ('듦/Verb', 0.9434994459152222)]\n"
     ]
    }
   ],
   "source": [
    "# 유사도 top5\n",
    "print(Skip_Gram_model3.most_similar('감동/Noun', topn=5)) \n",
    "print(Skip_Gram_model4.most_similar('감동/Noun', topn=5))"
   ]
  },
  {
   "cell_type": "code",
   "execution_count": 321,
   "metadata": {
    "Collapsed": "false"
   },
   "outputs": [
    {
     "name": "stdout",
     "output_type": "stream",
     "text": [
      "[('정석/Noun', 0.9309725165367126), ('러브액츄얼리/Noun', 0.8981155157089233), ('높네요/Adjective', 0.8848985433578491), ('개인/Noun', 0.8846042156219482), ('고/Modifier', 0.8809015154838562)]\n",
      "[('반전/Noun', 0.9776228070259094), ('심플/Noun', 0.9718899130821228), ('초반/Noun', 0.9675329327583313), ('조금/Noun', 0.9636390209197998), ('약간/Noun', 0.9508594870567322)]\n"
     ]
    }
   ],
   "source": [
    "print(Skip_Gram_model3.most_similar('재미/Noun', topn=5)) \n",
    "print(Skip_Gram_model4.most_similar('재미/Noun', topn=5))"
   ]
  },
  {
   "cell_type": "code",
   "execution_count": 325,
   "metadata": {
    "Collapsed": "false"
   },
   "outputs": [
    {
     "name": "stdout",
     "output_type": "stream",
     "text": [
      "[('걸작/Noun', 0.9357905387878418), ('좋았는데/Adjective', 0.9334442019462585), ('지리/Noun', 0.9270041584968567), ('만/Modifier', 0.9242832064628601), ('이후/Noun', 0.9161233901977539)]\n",
      "[('첫/Modifier', 0.9319682121276855), ('그런데/Conjunction', 0.9147347211837769), ('드는데/Verb', 0.9107687473297119), ('이런게/Adjective', 0.9078778624534607), ('좋았을텐데/Adjective', 0.9028246998786926)]\n"
     ]
    }
   ],
   "source": [
    "print(Skip_Gram_model3.most_similar('미쳤다/Verb', topn=5)) \n",
    "print(Skip_Gram_model4.most_similar('미쳤다/Verb', topn=5))"
   ]
  },
  {
   "cell_type": "code",
   "execution_count": 358,
   "metadata": {
    "Collapsed": "false"
   },
   "outputs": [
    {
     "name": "stdout",
     "output_type": "stream",
     "text": [
      "[('배우/Noun', 0.9814444184303284), ('외모/Noun', 0.9607532024383545), ('연기력/Noun', 0.9584969878196716), ('코믹/Noun', 0.9564279913902283), ('일품/Noun', 0.954630434513092)]\n",
      "[('나름/Noun', 0.9700016975402832), ('작화/Noun', 0.9675467610359192), ('굿/Noun', 0.9541835188865662), ('미도/Noun', 0.9503493905067444), ('강해서/Adjective', 0.9478863477706909)]\n"
     ]
    }
   ],
   "source": [
    "print(Skip_Gram_model3.most_similar('연기/Noun', topn=5)) \n",
    "print(Skip_Gram_model4.most_similar('연기/Noun', topn=5))"
   ]
  },
  {
   "cell_type": "markdown",
   "metadata": {
    "Collapsed": "false"
   },
   "source": [
    "# 5. 후기 "
   ]
  },
  {
   "cell_type": "markdown",
   "metadata": {
    "Collapsed": "false"
   },
   "source": [
    "#### (1) 주의사항 2번에서 요구된 결과가 가장 좋은 모델은 선택하는 것에 대한 이해가 부족했던 것 같다. step4 임베딩 이후에 어떤 모델이 더 성능이 좋은지 어떻게 판단해야하는지 모르겠다.. 단순 단어 유사도로 보게된다면 word2vec보다는 fasttext가 보다 유사한 단어를 잘 찾은 것 같았다.\n",
    "\n",
    "#### (2) 아쉬웠던 부분은 tockenizing을 하기 전에 텍스트 전처리를 더욱 해야할 것 같은 생각이 들었다. 의미없는 단어가 너무 많은 것 같다고 느꼈다.\n",
    "\n",
    "#### (3) 또한 평점에 따른 단어 분포도 및 유사도를 알고 싶었는데 단순 평점 9점을 기준으로 영화를 구분하는 것보다 9점 이상대와 5점 이하 영화만을 따로 진행했으면 좋았을 듯 싶다. 간단히 빠르게 해봐야겠다.\n",
    "\n",
    "#### (4) 단어 임베딩을 통한 단어의 벡터화에 대한 이해도가 부족하다보니 어떤식으로 활용해야할지 감이 잡히지 않았다..주르규ㅠ"
   ]
  },
  {
   "cell_type": "markdown",
   "metadata": {
    "Collapsed": "false"
   },
   "source": [
    "# 6. 이 외"
   ]
  },
  {
   "cell_type": "code",
   "execution_count": 329,
   "metadata": {
    "Collapsed": "false"
   },
   "outputs": [
    {
     "data": {
      "text/html": [
       "<div>\n",
       "<style scoped>\n",
       "    .dataframe tbody tr th:only-of-type {\n",
       "        vertical-align: middle;\n",
       "    }\n",
       "\n",
       "    .dataframe tbody tr th {\n",
       "        vertical-align: top;\n",
       "    }\n",
       "\n",
       "    .dataframe thead th {\n",
       "        text-align: right;\n",
       "    }\n",
       "</style>\n",
       "<table border=\"1\" class=\"dataframe\">\n",
       "  <thead>\n",
       "    <tr style=\"text-align: right;\">\n",
       "      <th></th>\n",
       "      <th>index</th>\n",
       "      <th>영화제목</th>\n",
       "      <th>관람객평점</th>\n",
       "      <th>기자/평론가평점</th>\n",
       "      <th>네티즌평점</th>\n",
       "      <th>리뷰</th>\n",
       "      <th>score</th>\n",
       "    </tr>\n",
       "  </thead>\n",
       "  <tbody>\n",
       "    <tr>\n",
       "      <th>0</th>\n",
       "      <td>0</td>\n",
       "      <td>인비저블맨</td>\n",
       "      <td>9.03</td>\n",
       "      <td>none</td>\n",
       "      <td>7.94</td>\n",
       "      <td>['옆에서 기침을 시작하자 비로소 공포영화임을 느꼈다.', '영화관에 나혼자 있는게...</td>\n",
       "      <td>7.94</td>\n",
       "    </tr>\n",
       "    <tr>\n",
       "      <th>1</th>\n",
       "      <td>1</td>\n",
       "      <td>1917</td>\n",
       "      <td>9.11</td>\n",
       "      <td>none</td>\n",
       "      <td>8.94</td>\n",
       "      <td>['이 영화는 미쳤다. 넷플릭스가 일상화된 시대에 극장이 존재해야하는 이유를 증명해...</td>\n",
       "      <td>8.94</td>\n",
       "    </tr>\n",
       "    <tr>\n",
       "      <th>2</th>\n",
       "      <td>2</td>\n",
       "      <td>다크 워터스</td>\n",
       "      <td>9.08</td>\n",
       "      <td>none</td>\n",
       "      <td>8.56</td>\n",
       "      <td>['영화관에 나 혼자만 있다는 현실이 더  무섭다', '엄기영 앵커 보신분들은 공감...</td>\n",
       "      <td>8.56</td>\n",
       "    </tr>\n",
       "    <tr>\n",
       "      <th>3</th>\n",
       "      <td>3</td>\n",
       "      <td>지푸라기라도 잡고 싶은 짐승들</td>\n",
       "      <td>8.10</td>\n",
       "      <td>none</td>\n",
       "      <td>6.56</td>\n",
       "      <td>['아니 개봉당일날 9시 땡하고 부터 평점 쏟아지는게 말이 돼냐? 요즘 조조는 꼭두...</td>\n",
       "      <td>6.56</td>\n",
       "    </tr>\n",
       "    <tr>\n",
       "      <th>4</th>\n",
       "      <td>4</td>\n",
       "      <td>작은 아씨들</td>\n",
       "      <td>9.15</td>\n",
       "      <td>none</td>\n",
       "      <td>8.83</td>\n",
       "      <td>['왜 여성은 사랑을 해야하냐며 말하면서도 사랑을 받고 싶다고 외치던 장면이 너무나...</td>\n",
       "      <td>8.83</td>\n",
       "    </tr>\n",
       "  </tbody>\n",
       "</table>\n",
       "</div>"
      ],
      "text/plain": [
       "   index              영화제목  관람객평점 기자/평론가평점  네티즌평점  \\\n",
       "0      0             인비저블맨   9.03     none   7.94   \n",
       "1      1              1917   9.11     none   8.94   \n",
       "2      2            다크 워터스   9.08     none   8.56   \n",
       "3      3  지푸라기라도 잡고 싶은 짐승들   8.10     none   6.56   \n",
       "4      4            작은 아씨들   9.15     none   8.83   \n",
       "\n",
       "                                                  리뷰  score  \n",
       "0  ['옆에서 기침을 시작하자 비로소 공포영화임을 느꼈다.', '영화관에 나혼자 있는게...   7.94  \n",
       "1  ['이 영화는 미쳤다. 넷플릭스가 일상화된 시대에 극장이 존재해야하는 이유를 증명해...   8.94  \n",
       "2  ['영화관에 나 혼자만 있다는 현실이 더  무섭다', '엄기영 앵커 보신분들은 공감...   8.56  \n",
       "3  ['아니 개봉당일날 9시 땡하고 부터 평점 쏟아지는게 말이 돼냐? 요즘 조조는 꼭두...   6.56  \n",
       "4  ['왜 여성은 사랑을 해야하냐며 말하면서도 사랑을 받고 싶다고 외치던 장면이 너무나...   8.83  "
      ]
     },
     "execution_count": 329,
     "metadata": {},
     "output_type": "execute_result"
    }
   ],
   "source": [
    "df.head()"
   ]
  },
  {
   "cell_type": "code",
   "execution_count": 336,
   "metadata": {
    "Collapsed": "false"
   },
   "outputs": [
    {
     "data": {
      "text/plain": [
       "(27, 16)"
      ]
     },
     "execution_count": 336,
     "metadata": {},
     "output_type": "execute_result"
    }
   ],
   "source": [
    "len(df.loc[df['score'] >= 9]), len(df.loc[df['score'] <= 7.5])"
   ]
  },
  {
   "cell_type": "code",
   "execution_count": 337,
   "metadata": {
    "Collapsed": "false"
   },
   "outputs": [],
   "source": [
    "# 평점 평균 9점 이상, 7.5 이하 (5점 이하가 너무 없음 ㅠ)\n",
    "high = df.loc[df['score'] >= 9]\n",
    "row = df.loc[df['score'] < 7.5]"
   ]
  },
  {
   "cell_type": "code",
   "execution_count": 338,
   "metadata": {
    "Collapsed": "false"
   },
   "outputs": [],
   "source": [
    "high = high.reset_index()\n",
    "row = row.reset_index()"
   ]
  },
  {
   "cell_type": "code",
   "execution_count": 339,
   "metadata": {
    "Collapsed": "false"
   },
   "outputs": [],
   "source": [
    "corpus_high = tokenize(high)\n",
    "corpus_row =  tokenize(row)"
   ]
  },
  {
   "cell_type": "code",
   "execution_count": 340,
   "metadata": {
    "Collapsed": "false"
   },
   "outputs": [],
   "source": [
    "high_text = []\n",
    "row_text = []\n",
    "for data in corpus_high:\n",
    "    high_text.extend(data)\n",
    "    \n",
    "for data in corpus_row:\n",
    "    row_text.extend(data)"
   ]
  },
  {
   "cell_type": "code",
   "execution_count": 341,
   "metadata": {
    "Collapsed": "false"
   },
   "outputs": [
    {
     "data": {
      "text/plain": [
       "<matplotlib.axes._subplots.AxesSubplot at 0x164a5bad0>"
      ]
     },
     "execution_count": 341,
     "metadata": {},
     "output_type": "execute_result"
    },
    {
     "data": {
      "image/png": "[encoded data removed]",
      "text/plain": [
       "<Figure size 1800x720 with 1 Axes>"
      ]
     },
     "metadata": {},
     "output_type": "display_data"
    }
   ],
   "source": [
    "pd.DataFrame(high_text)[0].value_counts()[0:70].plot(kind='bar', figsize=(25,10))"
   ]
  },
  {
   "cell_type": "code",
   "execution_count": 342,
   "metadata": {
    "Collapsed": "false"
   },
   "outputs": [
    {
     "data": {
      "text/plain": [
       "<matplotlib.axes._subplots.AxesSubplot at 0x163e04b10>"
      ]
     },
     "execution_count": 342,
     "metadata": {},
     "output_type": "execute_result"
    },
    {
     "data": {
      "image/png": "[encoded data removed]",
      "text/plain": [
       "<Figure size 1800x720 with 1 Axes>"
      ]
     },
     "metadata": {},
     "output_type": "display_data"
    }
   ],
   "source": [
    "pd.DataFrame(row_text)[0].value_counts()[0:70].plot(kind='bar', figsize=(25,10))"
   ]
  },
  {
   "cell_type": "code",
   "execution_count": 343,
   "metadata": {
    "Collapsed": "false"
   },
   "outputs": [],
   "source": [
    "Skip_Gram_model5 = FastText(corpus_high, size=5, window=3, min_count=3, workers=1, iter=1000, sg=1)\n",
    "Skip_Gram_model6 = FastText(corpus_row, size=5, window=3, min_count=3, workers=1, iter=1000, sg=1)"
   ]
  },
  {
   "cell_type": "code",
   "execution_count": 346,
   "metadata": {
    "Collapsed": "false"
   },
   "outputs": [
    {
     "name": "stdout",
     "output_type": "stream",
     "text": [
      "['영화/Noun', '들/Suffix', '너무/Adverb', '적/Suffix', '것/Noun']\n",
      "['영화/Noun', '들/Suffix', '연기/Noun', '진짜/Noun', '너무/Adverb']\n"
     ]
    }
   ],
   "source": [
    "words = Skip_Gram_model5.wv.index2word\n",
    "words2 = Skip_Gram_model6.wv.index2word\n",
    "print(words[:5])\n",
    "print(words2[:5])"
   ]
  },
  {
   "cell_type": "code",
   "execution_count": 347,
   "metadata": {
    "Collapsed": "false"
   },
   "outputs": [
    {
     "name": "stdout",
     "output_type": "stream",
     "text": [
      "[[ 0.675877   -0.5450982  -0.01425442 -0.5915392   0.12821434]\n",
      " [ 0.25960118 -0.23254836 -0.50267935 -0.9175809  -0.17660825]\n",
      " [ 0.3400375   0.28650764  0.01422683 -0.799398    0.47153544]\n",
      " [ 0.15421164 -0.28665373 -0.92074037 -0.9504261   0.1678954 ]\n",
      " [ 0.3529358  -0.6761184  -0.1961524  -0.730549   -0.28717333]] \n",
      "\n",
      " [[-0.17154779 -0.62456214  0.04095548  0.29000697 -0.3076648 ]\n",
      " [ 0.39557993 -0.3881553  -0.3546812   0.56507975  0.02519104]\n",
      " [-0.11814419 -0.6126334  -0.40426236  1.4950005   0.28809342]\n",
      " [ 0.33429554 -0.25397027 -0.14750494  0.93326426  0.18099041]\n",
      " [ 0.6557389   0.02235017  0.5072905   0.9008949  -0.2958136 ]]\n"
     ]
    }
   ],
   "source": [
    "vectors = Skip_Gram_model5.wv.vectors\n",
    "vectors2 = Skip_Gram_model6.wv.vectors\n",
    "print(vectors[:5],'\\n\\n',vectors2[:5])"
   ]
  },
  {
   "cell_type": "code",
   "execution_count": 348,
   "metadata": {
    "Collapsed": "false"
   },
   "outputs": [
    {
     "name": "stdout",
     "output_type": "stream",
     "text": [
      "[('기분/Noun', 0.9966759085655212), ('거리/Noun', 0.9942765235900879), ('예상/Noun', 0.9919084310531616), ('밤/Noun', 0.9918363690376282), ('흐름/Noun', 0.9911184310913086)]\n",
      "[('가장/Noun', 0.9912508726119995), ('않을까/Verb', 0.9852291345596313), ('이딴/Modifier', 0.9830439686775208), ('화가/Noun', 0.9774845838546753), ('마냥/Noun', 0.9748655557632446)]\n"
     ]
    }
   ],
   "source": [
    "# 유사도 top5\n",
    "print(Skip_Gram_model5.most_similar('감동/Noun', topn=5)) \n",
    "print(Skip_Gram_model6.most_similar('감동/Noun', topn=5))"
   ]
  },
  {
   "cell_type": "code",
   "execution_count": 349,
   "metadata": {
    "Collapsed": "false"
   },
   "outputs": [
    {
     "name": "stdout",
     "output_type": "stream",
     "text": [
      "[('영/Modifier', 0.9929746985435486), ('이남/Noun', 0.9929675459861755), ('떡밥/Noun', 0.9904717803001404), ('시체/Noun', 0.9903547763824463), ('가족영화/Noun', 0.9869956970214844)]\n",
      "[('했던/Verb', 0.9924741983413696), ('재미없다/Adjective', 0.9910155534744263), ('선사/Noun', 0.9860429167747498), ('거짓말/Noun', 0.9832602739334106), ('해준다/Verb', 0.9793744087219238)]\n"
     ]
    }
   ],
   "source": [
    "print(Skip_Gram_model5.most_similar('재미/Noun', topn=5)) \n",
    "print(Skip_Gram_model6.most_similar('재미/Noun', topn=5))"
   ]
  },
  {
   "cell_type": "code",
   "execution_count": 350,
   "metadata": {
    "Collapsed": "false"
   },
   "outputs": [
    {
     "name": "stdout",
     "output_type": "stream",
     "text": [
      "[('울리는/Verb', 0.9986404180526733), ('심지어/Noun', 0.9966614842414856), ('아이/Noun', 0.9946432113647461), ('감명/Noun', 0.9938335418701172), ('일품/Noun', 0.9935240149497986)]\n",
      "[('생각나는/Verb', 0.9931859970092773), ('보는거/Verb', 0.9882508516311646), ('듯/Noun', 0.9872702360153198), ('와중/Noun', 0.9769308567047119), ('이희준/Noun', 0.9762797951698303)]\n"
     ]
    }
   ],
   "source": [
    "print(Skip_Gram_model5.most_similar('연기/Noun', topn=5)) \n",
    "print(Skip_Gram_model6.most_similar('연기/Noun', topn=5))"
   ]
  },
  {
   "cell_type": "code",
   "execution_count": 360,
   "metadata": {
    "Collapsed": "false"
   },
   "outputs": [
    {
     "name": "stdout",
     "output_type": "stream",
     "text": [
      "[('꽉/Noun', 0.9917407631874084), ('볼수있어/Verb', 0.9906346797943115), ('소음/Noun', 0.9886588454246521), ('놀랐다/Verb', 0.9843302965164185), ('나오는/Verb', 0.9821693897247314)]\n",
      "[('젭알/Noun', 0.9855282306671143), ('발암/Noun', 0.9834641218185425), ('만나지마라/Verb', 0.9767615795135498), ('영화감독/Noun', 0.9715625047683716), ('놈/Noun', 0.9712085127830505)]\n"
     ]
    }
   ],
   "source": [
    "print(Skip_Gram_model5.most_similar('미친/Adjective', topn=5)) \n",
    "print(Skip_Gram_model6.most_similar('미친/Adjective', topn=5))"
   ]
  },
  {
   "cell_type": "code",
   "execution_count": 363,
   "metadata": {
    "Collapsed": "false"
   },
   "outputs": [
    {
     "name": "stdout",
     "output_type": "stream",
     "text": [
      "[('온/Noun', 0.9955002069473267), ('옷/Noun', 0.9922602772712708), ('런던/Noun', 0.9905256032943726), ('영화/Noun', 0.9897245168685913), ('때문/Noun', 0.9896593689918518)]\n",
      "[('재밌었습니다/Adjective', 0.9994509816169739), ('합니다/Verb', 0.9971396327018738), ('명작/Noun', 0.9911297559738159), ('있고/Adjective', 0.9815617799758911), ('호러영화/Noun', 0.981336236000061)]\n"
     ]
    }
   ],
   "source": [
    "print(Skip_Gram_model5.most_similar('정말/Noun', topn=5)) \n",
    "print(Skip_Gram_model6.most_similar('정말/Noun', topn=5))"
   ]
  },
  {
   "cell_type": "markdown",
   "metadata": {
    "Collapsed": "false"
   },
   "source": [
    "  "
   ]
  },
  {
   "cell_type": "markdown",
   "metadata": {
    "Collapsed": "false"
   },
   "source": [
    "'감동' 에 대한 단어 유사도에서는 평점 9점과 7.5이하의 영화가 어느정도 차이가 있음을 볼 수 있었다. 하지만 앞서 언급했듯이, 영화평점에서 9점과 7.5점은 큰 차이를 나타낸다고 보기 애매해서 나중에는 정말 6점대 혹은 5점대 이하를 구분해서 하면 좋을 듯 싶다. 또한 토큰화를 하기전에 데이터를 좀더 정제하면 보다 좋은 결과가 나오지 않을까 싶다."
   ]
  },
  {
   "cell_type": "code",
   "execution_count": null,
   "metadata": {
    "Collapsed": "false"
   },
   "outputs": [],
   "source": []
  }
 ],
 "metadata": {
  "kernelspec": {
   "display_name": "Python 3",
   "language": "python",
   "name": "python3"
  },
  "language_info": {
   "codemirror_mode": {
    "name": "ipython",
    "version": 3
   },
   "file_extension": ".py",
   "mimetype": "text/x-python",
   "name": "python",
   "nbconvert_exporter": "python",
   "pygments_lexer": "ipython3",
   "version": "3.7.6"
  }
 },
 "nbformat": 4,
 "nbformat_minor": 4
}
