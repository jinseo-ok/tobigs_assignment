{
 "cells": [
  {
   "cell_type": "code",
   "execution_count": 43,
   "metadata": {},
   "outputs": [
    {
     "name": "stdout",
     "output_type": "stream",
     "text": [
      "[{'weights': [0.13436424411240122, 0.8474337369372327, 0.763774618976614]}]\n",
      "[{'weights': [0.2550690257394217, 0.49543508709194095]}, {'weights': [0.4494910647887381, 0.651592972722763]}]\n"
     ]
    }
   ],
   "source": [
    "from random import seed\n",
    "from random import random\n",
    "import numpy as np\n",
    " \n",
    "# 네트워크 초기 설정\n",
    "def initialize_network(n_inputs, n_hidden, n_outputs):\n",
    "    network = list()\n",
    "    hidden_layer = [{'weights':[random() for i in range(n_inputs + 1)]} for i in range(n_hidden)] # (0 1 2) * 1\n",
    "    network.append(hidden_layer)\n",
    "    output_layer = [{'weights':[random() for i in range(n_hidden + 1)]} for i in range(n_outputs)] # (0 1) * 2\n",
    "    network.append(output_layer)\n",
    "    return network\n",
    " \n",
    "seed(1)\n",
    "network = initialize_network(2, 1, 2)\n",
    "# network[0] 는 히든레이어\n",
    "# network[1] 은 출력레이어\n",
    "for layer in network:\n",
    "    print(layer)"
   ]
  },
  {
   "cell_type": "code",
   "execution_count": 45,
   "metadata": {},
   "outputs": [],
   "source": [
    "def activate(weights, inputs):\n",
    "    activation = weights[-1] # weights 의 마지막 값 \n",
    "    for i in range(len(weights)-1):\n",
    "        activation += weights[i] * inputs[i]  # 순전파 진행 \n",
    "    return activation\n",
    "\n",
    "def sigmoid(activation): # 가중치\n",
    "    value = 1 / (1 + np.exp(-activation))\n",
    "    return value # 시그모이드 구현\n",
    "\n",
    "def forward_propagate(network, row):\n",
    "    inputs = row\n",
    "    for layer in network:\n",
    "        new_inputs = []\n",
    "        for neuron in layer:\n",
    "            activation = activate(neuron['weights'], inputs)\n",
    "            # 뉴런의 출력값이 output에 저장됨\n",
    "            neuron['output'] = sigmoid(activation) # 나온 계산 값을 그대로 쓰나요? 시그모이드 함수로 변환\n",
    "            new_inputs.append(neuron['output']) # new_input은 다음 히든층에 들어갈 값이죠?\n",
    "        # 출력값은 다음 레이어의 input값으로 됨\n",
    "        inputs = new_inputs\n",
    "    return inputs"
   ]
  },
  {
   "cell_type": "markdown",
   "metadata": {},
   "source": [
    "**여기까지는 순전파 학습과정이었습니다. 이 과정이 끝나면 가중치가 바뀌나요?  \n",
    "답변을 답변의 근거 코딩 결과와 함께 보여주세요.**"
   ]
  },
  {
   "cell_type": "code",
   "execution_count": 46,
   "metadata": {},
   "outputs": [
    {
     "name": "stdout",
     "output_type": "stream",
     "text": [
      "[0.6629970129852887, 0.7253160725279748]\n"
     ]
    }
   ],
   "source": [
    "row = [1, 0, None]\n",
    "output = forward_propagate(network, row)\n",
    "print(output)"
   ]
  },
  {
   "cell_type": "code",
   "execution_count": 47,
   "metadata": {},
   "outputs": [
    {
     "data": {
      "text/plain": [
       "[[{'weights': [0.13436424411240122, 0.8474337369372327, 0.763774618976614],\n",
       "   'output': 0.7105668883115941}],\n",
       " [{'weights': [0.2550690257394217, 0.49543508709194095],\n",
       "   'output': 0.6629970129852887},\n",
       "  {'weights': [0.4494910647887381, 0.651592972722763],\n",
       "   'output': 0.7253160725279748}]]"
      ]
     },
     "execution_count": 47,
     "metadata": {},
     "output_type": "execute_result"
    }
   ],
   "source": [
    "network"
   ]
  },
  {
   "cell_type": "code",
   "execution_count": 48,
   "metadata": {},
   "outputs": [],
   "source": [
    "def sigmoid_derivative(output): # 시그모이드 미분\n",
    "    value = output * (1 - output) # 출력값에 대한 기울기?\n",
    "    return value \n",
    "\n",
    "def backward_propagate_error(network, expected):\n",
    "    for i in reversed(range(len(network))): # 역방향\n",
    "        layer = network[i]\n",
    "        errors = []\n",
    "        if i != len(network)-1:\n",
    "            for j in range(len(layer)):\n",
    "                error = 0.0\n",
    "                for neuron in network[i + 1]:\n",
    "                    error += (neuron['weights'][j] * neuron['delta'])\n",
    "                errors.append(error) \n",
    "        else:\n",
    "            for j in range(len(layer)): #출력레이어\n",
    "                neuron = layer[j]\n",
    "                errors.append(expected[j] - neuron['output']) # 역전파시 오차는 어떻게 설정했나요?\n",
    "        for j in range(len(layer)):\n",
    "            neuron = layer[j]\n",
    "            # 각 뉴런에 대해 계산된 오류(error)\n",
    "            neuron['delta'] = errors[j] * sigmoid_derivative(neuron['output']) # 시그모이드 함수를 사용한 역전파 "
   ]
  },
  {
   "cell_type": "code",
   "execution_count": 49,
   "metadata": {},
   "outputs": [
    {
     "name": "stdout",
     "output_type": "stream",
     "text": [
      "[{'weights': [0.13436424411240122, 0.8474337369372327, 0.763774618976614], 'output': 0.7105668883115941, 'delta': -0.002711797799238243}] \n",
      "\n",
      "[{'weights': [0.2550690257394217, 0.49543508709194095], 'output': 0.6629970129852887, 'delta': -0.14813473120687762}, {'weights': [0.4494910647887381, 0.651592972722763], 'output': 0.7253160725279748, 'delta': 0.05472601157879688}] \n",
      "\n"
     ]
    }
   ],
   "source": [
    "expected = [0, 1]\n",
    "\n",
    "backward_propagate_error(network, expected)\n",
    "for layer in network:\n",
    "    print(layer,'\\n')"
   ]
  },
  {
   "cell_type": "code",
   "execution_count": 39,
   "metadata": {},
   "outputs": [
    {
     "name": "stdout",
     "output_type": "stream",
     "text": [
      "[{'output': 0.7105668883115941, 'weights': [0.13436424411240122, 0.8474337369372327, 0.763774618976614], 'delta': -0.0005348048046610517}]\n",
      "[{'output': 0.6213859615555266, 'weights': [0.2550690257394217, 0.49543508709194095], 'delta': -0.14619064683582808}, {'output': 0.6573693455986976, 'weights': [0.4494910647887381, 0.651592972722763], 'delta': 0.0771723774346327}]\n"
     ]
    }
   ],
   "source": [
    "# 답안\n",
    "expected = [0, 1]\n",
    "\n",
    "backward_propagate_error(network, expected)\n",
    "for layer in network:\n",
    "    print(layer)"
   ]
  },
  {
   "cell_type": "code",
   "execution_count": 11,
   "metadata": {},
   "outputs": [],
   "source": [
    "def weights_update(network, row, l_rate):\n",
    "    for i in range(len(network)):\n",
    "        inputs = row[:-1]\n",
    "        if i != 0:\n",
    "            inputs = [neuron['output'] for neuron in network[i - 1]]\n",
    "        for neuron in network[i]:\n",
    "            for j in range(len(inputs)):\n",
    "                neuron['weights'][j] += l_rate * neuron['delta'] * inputs[j]\n",
    "            neuron['weights'][-1] += l_rate * neuron['delta'] # 퍼셉트론 학습 규칙 (= 델타규칙?)\n",
    "            \n",
    "\n",
    "def train_network(network, train, l_rate, n_epoch, n_outputs):\n",
    "    for epoch in range(n_epoch):\n",
    "        sum_error = 0\n",
    "        for row in train:\n",
    "            outputs = forward_propagate(network, row) # 순전파 \n",
    "            expected = [0 for i in range(n_outputs)]\n",
    "            expected[row[-1]] = 1\n",
    "            sum_error += sum([(expected[i]-outputs[i])**2 for i in range(len(expected))]) # 예측값의 오차 합\n",
    "            backward_propagate_error(network, expected)\n",
    "            weights_update(network, row, l_rate)\n",
    "        print('>epoch=%d, lrate=%.3f, error=%.3f' % (epoch, l_rate, sum_error))"
   ]
  },
  {
   "cell_type": "code",
   "execution_count": 12,
   "metadata": {},
   "outputs": [],
   "source": [
    "seed(1)\n",
    "dataset = [[2.7810836,2.550537003,0],\n",
    "    [1.465489372,2.362125076,0],\n",
    "    [3.396561688,4.400293529,0],\n",
    "    [1.38807019,1.850220317,0],\n",
    "    [3.06407232,3.005305973,0],\n",
    "    [7.627531214,2.759262235,1],\n",
    "    [5.332441248,2.088626775,1],\n",
    "    [6.922596716,1.77106367,1],\n",
    "    [8.675418651,-0.242068655,1],\n",
    "    [7.673756466,3.508563011,1]]"
   ]
  },
  {
   "cell_type": "code",
   "execution_count": 30,
   "metadata": {},
   "outputs": [
    {
     "name": "stdout",
     "output_type": "stream",
     "text": [
      ">epoch=0, lrate=0.800, error=6.554\n",
      ">epoch=1, lrate=0.800, error=5.705\n",
      ">epoch=2, lrate=0.800, error=5.573\n",
      ">epoch=3, lrate=0.800, error=5.551\n",
      ">epoch=4, lrate=0.800, error=5.545\n",
      ">epoch=5, lrate=0.800, error=5.542\n",
      ">epoch=6, lrate=0.800, error=5.540\n",
      ">epoch=7, lrate=0.800, error=5.537\n",
      ">epoch=8, lrate=0.800, error=5.533\n",
      ">epoch=9, lrate=0.800, error=5.529\n",
      ">epoch=10, lrate=0.800, error=5.524\n",
      ">epoch=11, lrate=0.800, error=5.517\n",
      ">epoch=12, lrate=0.800, error=5.508\n",
      ">epoch=13, lrate=0.800, error=5.495\n",
      ">epoch=14, lrate=0.800, error=5.475\n",
      ">epoch=15, lrate=0.800, error=5.440\n",
      ">epoch=16, lrate=0.800, error=5.371\n",
      ">epoch=17, lrate=0.800, error=5.219\n",
      ">epoch=18, lrate=0.800, error=4.942\n",
      ">epoch=19, lrate=0.800, error=4.576\n",
      ">epoch=20, lrate=0.800, error=4.156\n",
      ">epoch=21, lrate=0.800, error=3.716\n",
      ">epoch=22, lrate=0.800, error=3.277\n",
      ">epoch=23, lrate=0.800, error=2.843\n",
      ">epoch=24, lrate=0.800, error=2.443\n",
      ">epoch=25, lrate=0.800, error=2.097\n",
      ">epoch=26, lrate=0.800, error=1.807\n",
      ">epoch=27, lrate=0.800, error=1.572\n",
      ">epoch=28, lrate=0.800, error=1.380\n",
      ">epoch=29, lrate=0.800, error=1.222\n",
      "[{'weights': [1.5273053770752127, -2.2033568072708047, -0.4278606536118591], 'output': 0.9610244218327583, 'delta': 0.006174603901854716}, {'weights': [0.2875943681119958, 0.8187546130677951, 0.8224808423257628], 'output': 0.9972810912669801, 'delta': -4.743879356887641e-05}]\n",
      "[{'weights': [-2.754396997212598, 0.32078247463908294, 0.8258355075904442], 'output': 0.19291554646397405, 'delta': -0.03003678436772693}, {'weights': [2.640678203360021, -0.2003468014895327, -0.8699313691803146], 'output': 0.8012515702067535, 'delta': 0.03165018887379658}]\n"
     ]
    }
   ],
   "source": [
    "n_inputs = len(dataset[0]) - 1 # 뉴럴렛의 입력노드로 뭐가 들어가죠? 그럼 입력 노드의 개수는?\n",
    "n_outputs = len(set([row[-1] for row in dataset]))# 뉴럴렛의 출력노드의 개수는 뭐라고 했죠? \n",
    "network = initialize_network(n_inputs, 2, n_outputs)\n",
    "\n",
    "train_network(network, dataset, 0.8, 30, n_outputs) # 자유롭게 설정하고 최적을 찾아보세요.\n",
    "\n",
    "# 학습된(최적화)된 네트워크가 초기 네트워크와 달리 어떻게 변하였는지 출력하시오. (layer별로,hint : for문))\n",
    "for layer in network:\n",
    "    print(layer)"
   ]
  },
  {
   "cell_type": "code",
   "execution_count": 22,
   "metadata": {},
   "outputs": [
    {
     "name": "stdout",
     "output_type": "stream",
     "text": [
      ">epoch=0, lrate=0.500, error=6.462\n",
      ">epoch=1, lrate=0.500, error=5.778\n",
      ">epoch=2, lrate=0.500, error=5.511\n",
      ">epoch=3, lrate=0.500, error=5.423\n",
      ">epoch=4, lrate=0.500, error=5.386\n",
      ">epoch=5, lrate=0.500, error=5.360\n",
      ">epoch=6, lrate=0.500, error=5.334\n",
      ">epoch=7, lrate=0.500, error=5.297\n",
      ">epoch=8, lrate=0.500, error=5.241\n",
      ">epoch=9, lrate=0.500, error=5.148\n",
      ">epoch=10, lrate=0.500, error=4.999\n",
      ">epoch=11, lrate=0.500, error=4.803\n",
      ">epoch=12, lrate=0.500, error=4.579\n",
      ">epoch=13, lrate=0.500, error=4.325\n",
      ">epoch=14, lrate=0.500, error=4.044\n",
      ">epoch=15, lrate=0.500, error=3.747\n",
      ">epoch=16, lrate=0.500, error=3.444\n",
      ">epoch=17, lrate=0.500, error=3.147\n",
      ">epoch=18, lrate=0.500, error=2.865\n",
      ">epoch=19, lrate=0.500, error=2.604\n",
      "[{'weights': [0.9695153485431512, 0.30290858145288113, 0.5738778599202632], 'output': 0.9998857073439854, 'delta': -4.364823103668958e-06}, {'weights': [1.123064968362136, -1.6456147948879705, 0.2352416903207807], 'output': 0.933115179104761, 'delta': 0.012301666552031297}]\n",
      "[{'weights': [0.56542313082767, -1.714226688465819, 0.03730555304484216], 'output': 0.28640792194029846, 'delta': -0.05853559976173036}, {'weights': [-0.02987047987449367, 1.733005305628203, -0.5783134713816452], 'output': 0.7162971049495923, 'delta': 0.05765284336946033}]\n"
     ]
    }
   ],
   "source": [
    "n_inputs = len(dataset[0]) - 1 # 뉴럴렛의 입력노드로 뭐가 들어가죠? 그럼 입력 노드의 개수는?\n",
    "n_outputs = len(set([row[-1] for row in dataset]))# 뉴럴렛의 출력노드의 개수는 뭐라고 했죠? \n",
    "network = initialize_network(n_inputs, 2, n_outputs)\n",
    "\n",
    "train_network(network, dataset, 0.5, 20, n_outputs) # 자유롭게 설정하고 최적을 찾아보세요.\n",
    "\n",
    "# 학습된(최적화)된 네트워크가 초기 네트워크와 달리 어떻게 변하였는지 출력하시오. (layer별로,hint : for문))\n",
    "for layer in network:\n",
    "    print(layer)"
   ]
  },
  {
   "cell_type": "code",
   "execution_count": 31,
   "metadata": {},
   "outputs": [],
   "source": [
    "# 학습한 네트워크로 예측값을 뽑아보자.\n",
    "\n",
    "def predict(network, row):\n",
    "    outputs = forward_propagate(network, row)\n",
    "    return outputs.index(max(outputs)) # 순전파 결과에서 어떤것이 최종 아웃풋이 되나요?"
   ]
  },
  {
   "cell_type": "code",
   "execution_count": 32,
   "metadata": {},
   "outputs": [
    {
     "name": "stdout",
     "output_type": "stream",
     "text": [
      "실제값=0, 예측값=0\n",
      "실제값=0, 예측값=0\n",
      "실제값=0, 예측값=0\n",
      "실제값=0, 예측값=0\n",
      "실제값=0, 예측값=0\n",
      "실제값=1, 예측값=1\n",
      "실제값=1, 예측값=1\n",
      "실제값=1, 예측값=1\n",
      "실제값=1, 예측값=1\n",
      "실제값=1, 예측값=1\n"
     ]
    }
   ],
   "source": [
    "# 네트워크가 잘 학습되었는지 확인해보자. \n",
    "\n",
    "for row in dataset:\n",
    "    prediction = predict(network, row) # 앞서 최적(학습)시킨 네트워크로 잘 학습되었는지 평가 \n",
    "    print('실제값=%d, 예측값=%d' % (row[-1], prediction))"
   ]
  },
  {
   "cell_type": "code",
   "execution_count": 44,
   "metadata": {},
   "outputs": [
    {
     "name": "stdout",
     "output_type": "stream",
     "text": [
      "실제값=0, 예측값=0\n",
      "실제값=0, 예측값=0\n",
      "실제값=0, 예측값=0\n",
      "실제값=0, 예측값=0\n",
      "실제값=0, 예측값=0\n",
      "실제값=1, 예측값=1\n",
      "실제값=1, 예측값=1\n",
      "실제값=1, 예측값=1\n",
      "실제값=1, 예측값=1\n",
      "실제값=1, 예측값=1\n"
     ]
    }
   ],
   "source": [
    "# 네트워크가 잘 학습되었는지 확인해보자. \n",
    "\n",
    "for row in dataset:\n",
    "    prediction = predict(network, row) # 앞서 최적(학습)시킨 네트워크로 잘 학습되었는지 평가 \n",
    "    print('실제값=%d, 예측값=%d' % (row[-1], prediction))"
   ]
  }
 ],
 "metadata": {
  "kernelspec": {
   "display_name": "Python 3",
   "language": "python",
   "name": "python3"
  },
  "language_info": {
   "codemirror_mode": {
    "name": "ipython",
    "version": 3
   },
   "file_extension": ".py",
   "mimetype": "text/x-python",
   "name": "python",
   "nbconvert_exporter": "python",
   "pygments_lexer": "ipython3",
   "version": "3.7.6"
  }
 },
 "nbformat": 4,
 "nbformat_minor": 4
}
