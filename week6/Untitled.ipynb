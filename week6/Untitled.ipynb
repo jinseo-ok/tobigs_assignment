{
 "cells": [
  {
   "cell_type": "code",
   "execution_count": 35,
   "metadata": {
    "Collapsed": "false"
   },
   "outputs": [],
   "source": [
    "import numpy as np"
   ]
  },
  {
   "cell_type": "code",
   "execution_count": 36,
   "metadata": {
    "Collapsed": "false"
   },
   "outputs": [],
   "source": [
    "X = [[2.7810836,2.550537003],\n",
    "    [1.465489372,2.362125076],\n",
    "    [3.396561688,4.400293529],\n",
    "    [1.38807019,1.850220317],\n",
    "    [3.06407232,3.005305973],\n",
    "    [7.627531214,2.759262235],\n",
    "    [5.332441248,2.088626775],\n",
    "    [6.922596716,1.77106367],\n",
    "    [8.675418651,-0.242068655],\n",
    "    [7.673756466,3.508563011]]"
   ]
  },
  {
   "cell_type": "code",
   "execution_count": 37,
   "metadata": {
    "Collapsed": "false"
   },
   "outputs": [],
   "source": [
    "input_size = len(X[0]) # 10\n",
    "hidden_size = 3\n",
    "output_size = 2\n",
    "std=1e-4"
   ]
  },
  {
   "cell_type": "code",
   "execution_count": 38,
   "metadata": {
    "Collapsed": "false"
   },
   "outputs": [],
   "source": [
    "W1 = std * np.random.randn(input_size, hidden_size)\n",
    "b1 = np.random.randn(hidden_size)\n",
    "W2 = std * np.random.randn(hidden_size, output_size)\n",
    "b2 = np.random.randn(output_size)"
   ]
  },
  {
   "cell_type": "code",
   "execution_count": 39,
   "metadata": {
    "Collapsed": "false"
   },
   "outputs": [
    {
     "data": {
      "text/plain": [
       "(10, 2)"
      ]
     },
     "execution_count": 39,
     "metadata": {},
     "output_type": "execute_result"
    }
   ],
   "source": [
    "np.array(X).shape"
   ]
  },
  {
   "cell_type": "code",
   "execution_count": 40,
   "metadata": {
    "Collapsed": "false"
   },
   "outputs": [
    {
     "data": {
      "text/plain": [
       "((2, 3), (3,), (3, 2), (2,))"
      ]
     },
     "execution_count": 40,
     "metadata": {},
     "output_type": "execute_result"
    }
   ],
   "source": [
    "W1.shape, b1.shape, W2.shape, b2.shape"
   ]
  },
  {
   "cell_type": "code",
   "execution_count": 41,
   "metadata": {
    "Collapsed": "false"
   },
   "outputs": [],
   "source": [
    "h = np.dot(X,W1) + b1"
   ]
  },
  {
   "cell_type": "code",
   "execution_count": 42,
   "metadata": {
    "Collapsed": "false"
   },
   "outputs": [
    {
     "data": {
      "text/plain": [
       "array([[3.06046118, 0.3307517 , 0.90638635],\n",
       "       [3.06040624, 0.33067589, 0.90616172],\n",
       "       [3.0601188 , 0.33080744, 0.90659026],\n",
       "       [3.06050765, 0.33066566, 0.90612041],\n",
       "       [3.06038645, 0.33077277, 0.90645791],\n",
       "       [3.06076501, 0.33102537, 0.90718662],\n",
       "       [3.06074061, 0.33088919, 0.90677557],\n",
       "       [3.06092096, 0.33097454, 0.90701649],\n",
       "       [3.06146726, 0.33104947, 0.90718876],\n",
       "       [3.06061175, 0.33103659, 0.90723617]])"
      ]
     },
     "execution_count": 42,
     "metadata": {},
     "output_type": "execute_result"
    }
   ],
   "source": [
    "h"
   ]
  },
  {
   "cell_type": "code",
   "execution_count": 43,
   "metadata": {
    "Collapsed": "false"
   },
   "outputs": [
    {
     "data": {
      "text/plain": [
       "(10, 3)"
      ]
     },
     "execution_count": 43,
     "metadata": {},
     "output_type": "execute_result"
    }
   ],
   "source": [
    "h.shape"
   ]
  },
  {
   "cell_type": "code",
   "execution_count": 44,
   "metadata": {
    "Collapsed": "false"
   },
   "outputs": [
    {
     "data": {
      "text/plain": [
       "array([[3.06046118, 0.3307517 , 0.90638635],\n",
       "       [3.06040624, 0.33067589, 0.90616172],\n",
       "       [3.0601188 , 0.33080744, 0.90659026],\n",
       "       [3.06050765, 0.33066566, 0.90612041],\n",
       "       [3.06038645, 0.33077277, 0.90645791],\n",
       "       [3.06076501, 0.33102537, 0.90718662],\n",
       "       [3.06074061, 0.33088919, 0.90677557],\n",
       "       [3.06092096, 0.33097454, 0.90701649],\n",
       "       [3.06146726, 0.33104947, 0.90718876],\n",
       "       [3.06061175, 0.33103659, 0.90723617]])"
      ]
     },
     "execution_count": 44,
     "metadata": {},
     "output_type": "execute_result"
    }
   ],
   "source": [
    "np.maximum(h,0)"
   ]
  },
  {
   "cell_type": "code",
   "execution_count": 45,
   "metadata": {
    "Collapsed": "false"
   },
   "outputs": [],
   "source": [
    "mask = (h <= 0)\n",
    "a = h.copy()\n",
    "a[mask] = 0"
   ]
  },
  {
   "cell_type": "code",
   "execution_count": 46,
   "metadata": {
    "Collapsed": "false"
   },
   "outputs": [
    {
     "data": {
      "text/plain": [
       "array([[3.06046118, 0.3307517 , 0.90638635],\n",
       "       [3.06040624, 0.33067589, 0.90616172],\n",
       "       [3.0601188 , 0.33080744, 0.90659026],\n",
       "       [3.06050765, 0.33066566, 0.90612041],\n",
       "       [3.06038645, 0.33077277, 0.90645791],\n",
       "       [3.06076501, 0.33102537, 0.90718662],\n",
       "       [3.06074061, 0.33088919, 0.90677557],\n",
       "       [3.06092096, 0.33097454, 0.90701649],\n",
       "       [3.06146726, 0.33104947, 0.90718876],\n",
       "       [3.06061175, 0.33103659, 0.90723617]])"
      ]
     },
     "execution_count": 46,
     "metadata": {},
     "output_type": "execute_result"
    }
   ],
   "source": [
    "a"
   ]
  },
  {
   "cell_type": "code",
   "execution_count": 47,
   "metadata": {
    "Collapsed": "false"
   },
   "outputs": [
    {
     "data": {
      "text/plain": [
       "(10, 3)"
      ]
     },
     "execution_count": 47,
     "metadata": {},
     "output_type": "execute_result"
    }
   ],
   "source": [
    "a.shape"
   ]
  },
  {
   "cell_type": "code",
   "execution_count": 48,
   "metadata": {
    "Collapsed": "false"
   },
   "outputs": [],
   "source": [
    "h2 = np.dot(a, W2) + b2"
   ]
  },
  {
   "cell_type": "code",
   "execution_count": 49,
   "metadata": {
    "Collapsed": "false"
   },
   "outputs": [
    {
     "data": {
      "text/plain": [
       "array([[0.83120607, 0.18389506],\n",
       "       [0.83120611, 0.18389511],\n",
       "       [0.83120605, 0.18389505],\n",
       "       [0.83120612, 0.18389511],\n",
       "       [0.83120606, 0.18389505],\n",
       "       [0.83120594, 0.18389486],\n",
       "       [0.83120601, 0.18389494],\n",
       "       [0.83120597, 0.18389487],\n",
       "       [0.83120594, 0.18389477],\n",
       "       [0.83120594, 0.18389486]])"
      ]
     },
     "execution_count": 49,
     "metadata": {},
     "output_type": "execute_result"
    }
   ],
   "source": [
    "h2"
   ]
  },
  {
   "cell_type": "code",
   "execution_count": 50,
   "metadata": {
    "Collapsed": "false"
   },
   "outputs": [
    {
     "data": {
      "text/plain": [
       "(10, 2)"
      ]
     },
     "execution_count": 50,
     "metadata": {},
     "output_type": "execute_result"
    }
   ],
   "source": [
    "h2.shape"
   ]
  },
  {
   "cell_type": "code",
   "execution_count": 51,
   "metadata": {
    "Collapsed": "false"
   },
   "outputs": [],
   "source": [
    "o = np.exp(h2 - np.max(h2, axis = 1).reshape(-1, 1))"
   ]
  },
  {
   "cell_type": "code",
   "execution_count": 52,
   "metadata": {
    "Collapsed": "false"
   },
   "outputs": [
    {
     "data": {
      "text/plain": [
       "array([[1.        , 0.52345144],\n",
       "       [1.        , 0.52345145],\n",
       "       [1.        , 0.52345145],\n",
       "       [1.        , 0.52345144],\n",
       "       [1.        , 0.52345144],\n",
       "       [1.        , 0.5234514 ],\n",
       "       [1.        , 0.52345141],\n",
       "       [1.        , 0.5234514 ],\n",
       "       [1.        , 0.52345136],\n",
       "       [1.        , 0.52345141]])"
      ]
     },
     "execution_count": 52,
     "metadata": {},
     "output_type": "execute_result"
    }
   ],
   "source": [
    "o"
   ]
  },
  {
   "cell_type": "code",
   "execution_count": 54,
   "metadata": {
    "Collapsed": "false"
   },
   "outputs": [],
   "source": [
    "p = np.exp(o)/np.sum(np.exp(o),axis=1).reshape(-1,1) "
   ]
  },
  {
   "cell_type": "code",
   "execution_count": 55,
   "metadata": {
    "Collapsed": "false"
   },
   "outputs": [
    {
     "data": {
      "text/plain": [
       "array([[0.61693254, 0.38306746],\n",
       "       [0.61693254, 0.38306746],\n",
       "       [0.61693253, 0.38306747],\n",
       "       [0.61693254, 0.38306746],\n",
       "       [0.61693254, 0.38306746],\n",
       "       [0.61693255, 0.38306745],\n",
       "       [0.61693254, 0.38306746],\n",
       "       [0.61693255, 0.38306745],\n",
       "       [0.61693256, 0.38306744],\n",
       "       [0.61693254, 0.38306746]])"
      ]
     },
     "execution_count": 55,
     "metadata": {},
     "output_type": "execute_result"
    }
   ],
   "source": [
    "p"
   ]
  },
  {
   "cell_type": "code",
   "execution_count": 58,
   "metadata": {},
   "outputs": [],
   "source": [
    "X = [[2.7810836,2.550537003,0],\n",
    "    [1.465489372,2.362125076,0],\n",
    "    [3.396561688,4.400293529,0],\n",
    "    [1.38807019,1.850220317,0],\n",
    "    [3.06407232,3.005305973,0],\n",
    "    [7.627531214,2.759262235,1],\n",
    "    [5.332441248,2.088626775,1],\n",
    "    [6.922596716,1.77106367,1],\n",
    "    [8.675418651,-0.242068655,1],\n",
    "    [7.673756466,3.508563011,1]]"
   ]
  },
  {
   "cell_type": "code",
   "execution_count": 59,
   "metadata": {
    "Collapsed": "false"
   },
   "outputs": [],
   "source": [
    "y = []\n",
    "for row in X:\n",
    "    y.append(row[-1])"
   ]
  },
  {
   "cell_type": "code",
   "execution_count": 60,
   "metadata": {
    "Collapsed": "false"
   },
   "outputs": [
    {
     "data": {
      "text/plain": [
       "[0, 0, 0, 0, 0, 1, 1, 1, 1, 1]"
      ]
     },
     "execution_count": 60,
     "metadata": {},
     "output_type": "execute_result"
    }
   ],
   "source": [
    "y"
   ]
  },
  {
   "cell_type": "code",
   "execution_count": 61,
   "metadata": {
    "Collapsed": "false"
   },
   "outputs": [],
   "source": [
    "n = np.array(X).shape[0]\n",
    "\n",
    "log_likelihood = 0\n",
    "# Cross entropy : 음의 로그우도의 기대값\n",
    "log_likelihood -= np.log(p[np.arange(n), y]).sum()\n",
    "# N개의 자료에 대한 오차의 합계이므로\n",
    "# 이를 하나의 자료에 대한 오차로 표현하기 위해 N으로 나눔\n",
    "Loss = log_likelihood / n"
   ]
  },
  {
   "cell_type": "code",
   "execution_count": 62,
   "metadata": {
    "Collapsed": "false"
   },
   "outputs": [
    {
     "name": "stdout",
     "output_type": "stream",
     "text": [
      "0.6169325375827042\n",
      "0.6169325355499803\n",
      "0.6169325341933234\n",
      "0.6169325366643011\n",
      "0.61693253699932\n",
      "0.3830674537332074\n",
      "0.3830674564368444\n",
      "0.3830674526363656\n",
      "0.383067444349516\n",
      "0.38306745549164245\n"
     ]
    }
   ],
   "source": [
    "log_likelihood = 0\n",
    "i = 0\n",
    "for q in y:\n",
    "    log_likelihood -= np.log(p[i,q])\n",
    "    print(p[i,q])\n",
    "    i += 1"
   ]
  },
  {
   "cell_type": "code",
   "execution_count": 63,
   "metadata": {
    "Collapsed": "false"
   },
   "outputs": [
    {
     "data": {
      "text/plain": [
       "7.212698958772967"
      ]
     },
     "execution_count": 63,
     "metadata": {},
     "output_type": "execute_result"
    }
   ],
   "source": [
    "log_likelihood"
   ]
  },
  {
   "cell_type": "code",
   "execution_count": 64,
   "metadata": {
    "Collapsed": "false"
   },
   "outputs": [
    {
     "data": {
      "text/plain": [
       "0.7212698958772967"
      ]
     },
     "execution_count": 64,
     "metadata": {},
     "output_type": "execute_result"
    }
   ],
   "source": [
    "log_likelihood / n"
   ]
  },
  {
   "cell_type": "code",
   "execution_count": 65,
   "metadata": {
    "Collapsed": "false"
   },
   "outputs": [
    {
     "data": {
      "text/plain": [
       "0.7212698958772967"
      ]
     },
     "execution_count": 65,
     "metadata": {},
     "output_type": "execute_result"
    }
   ],
   "source": [
    "Loss"
   ]
  },
  {
   "cell_type": "code",
   "execution_count": 66,
   "metadata": {
    "Collapsed": "false"
   },
   "outputs": [],
   "source": [
    "dp = p\n",
    "for i in range(p.shape[0]):\n",
    "    for j in range(p.shape[1]):\n",
    "        if(j==y[i]):\n",
    "            dp[i][j]-=1"
   ]
  },
  {
   "cell_type": "code",
   "execution_count": 67,
   "metadata": {
    "Collapsed": "false"
   },
   "outputs": [
    {
     "data": {
      "text/plain": [
       "array([[-0.38306746,  0.38306746],\n",
       "       [-0.38306746,  0.38306746],\n",
       "       [-0.38306747,  0.38306747],\n",
       "       [-0.38306746,  0.38306746],\n",
       "       [-0.38306746,  0.38306746],\n",
       "       [ 0.61693255, -0.61693255],\n",
       "       [ 0.61693254, -0.61693254],\n",
       "       [ 0.61693255, -0.61693255],\n",
       "       [ 0.61693256, -0.61693256],\n",
       "       [ 0.61693254, -0.61693254]])"
      ]
     },
     "execution_count": 67,
     "metadata": {},
     "output_type": "execute_result"
    }
   ],
   "source": [
    "dp"
   ]
  },
  {
   "cell_type": "code",
   "execution_count": 278,
   "metadata": {
    "Collapsed": "false"
   },
   "outputs": [],
   "source": [
    "da = np.heaviside(a,0)"
   ]
  },
  {
   "cell_type": "code",
   "execution_count": 279,
   "metadata": {
    "Collapsed": "false"
   },
   "outputs": [
    {
     "data": {
      "text/plain": [
       "array([[1.26190081, 0.        , 0.        ],\n",
       "       [1.26184743, 0.        , 0.        ],\n",
       "       [1.26197689, 0.        , 0.        ],\n",
       "       [1.26182976, 0.        , 0.        ],\n",
       "       [1.26192431, 0.        , 0.        ],\n",
       "       [1.26208337, 0.        , 0.        ],\n",
       "       [1.26198033, 0.        , 0.        ],\n",
       "       [1.26202903, 0.        , 0.        ],\n",
       "       [1.26203446, 0.        , 0.        ],\n",
       "       [1.26210679, 0.        , 0.        ]])"
      ]
     },
     "execution_count": 279,
     "metadata": {},
     "output_type": "execute_result"
    }
   ],
   "source": [
    "a"
   ]
  },
  {
   "cell_type": "code",
   "execution_count": 280,
   "metadata": {
    "Collapsed": "false"
   },
   "outputs": [
    {
     "data": {
      "text/plain": [
       "array([[1., 0., 0.],\n",
       "       [1., 0., 0.],\n",
       "       [1., 0., 0.],\n",
       "       [1., 0., 0.],\n",
       "       [1., 0., 0.],\n",
       "       [1., 0., 0.],\n",
       "       [1., 0., 0.],\n",
       "       [1., 0., 0.],\n",
       "       [1., 0., 0.],\n",
       "       [1., 0., 0.]])"
      ]
     },
     "execution_count": 280,
     "metadata": {},
     "output_type": "execute_result"
    }
   ],
   "source": [
    "da"
   ]
  },
  {
   "cell_type": "code",
   "execution_count": 281,
   "metadata": {
    "Collapsed": "false"
   },
   "outputs": [],
   "source": [
    "temp = p.copy()\n",
    "temp[np.arange(len(y)), y] -= 1\n",
    "temp /= 10"
   ]
  },
  {
   "cell_type": "code",
   "execution_count": 282,
   "metadata": {
    "Collapsed": "false"
   },
   "outputs": [
    {
     "data": {
      "text/plain": [
       "array([[-0.1278159,  0.0278159],\n",
       "       [-0.1278159,  0.0278159],\n",
       "       [-0.1278159,  0.0278159],\n",
       "       [-0.1278159,  0.0278159],\n",
       "       [-0.1278159,  0.0278159],\n",
       "       [ 0.0721841, -0.1721841],\n",
       "       [ 0.0721841, -0.1721841],\n",
       "       [ 0.0721841, -0.1721841],\n",
       "       [ 0.0721841, -0.1721841],\n",
       "       [ 0.0721841, -0.1721841]])"
      ]
     },
     "execution_count": 282,
     "metadata": {},
     "output_type": "execute_result"
    }
   ],
   "source": [
    "temp"
   ]
  },
  {
   "cell_type": "code",
   "execution_count": 283,
   "metadata": {
    "Collapsed": "false"
   },
   "outputs": [],
   "source": [
    "daTemp = temp.dot(W2.T)"
   ]
  },
  {
   "cell_type": "code",
   "execution_count": 284,
   "metadata": {
    "Collapsed": "false"
   },
   "outputs": [
    {
     "data": {
      "text/plain": [
       "array([[-1.43006124e-05,  6.27276508e-07, -2.10554665e-06],\n",
       "       [-1.43006124e-05,  6.27276501e-07, -2.10554663e-06],\n",
       "       [-1.43006124e-05,  6.27276519e-07, -2.10554667e-06],\n",
       "       [-1.43006124e-05,  6.27276498e-07, -2.10554663e-06],\n",
       "       [-1.43006124e-05,  6.27276511e-07, -2.10554665e-06],\n",
       "       [-1.66351606e-05,  1.06318843e-05, -2.07106268e-05],\n",
       "       [-1.66351606e-05,  1.06318843e-05, -2.07106268e-05],\n",
       "       [-1.66351606e-05,  1.06318843e-05, -2.07106268e-05],\n",
       "       [-1.66351606e-05,  1.06318843e-05, -2.07106268e-05],\n",
       "       [-1.66351606e-05,  1.06318843e-05, -2.07106269e-05]])"
      ]
     },
     "execution_count": 284,
     "metadata": {},
     "output_type": "execute_result"
    }
   ],
   "source": [
    "daTemp"
   ]
  },
  {
   "cell_type": "code",
   "execution_count": null,
   "metadata": {
    "Collapsed": "false"
   },
   "outputs": [],
   "source": []
  },
  {
   "cell_type": "code",
   "execution_count": null,
   "metadata": {
    "Collapsed": "false"
   },
   "outputs": [],
   "source": []
  }
 ],
 "metadata": {
  "kernelspec": {
   "display_name": "Python 3",
   "language": "python",
   "name": "python3"
  },
  "language_info": {
   "codemirror_mode": {
    "name": "ipython",
    "version": 3
   },
   "file_extension": ".py",
   "mimetype": "text/x-python",
   "name": "python",
   "nbconvert_exporter": "python",
   "pygments_lexer": "ipython3",
   "version": "3.7.6"
  }
 },
 "nbformat": 4,
 "nbformat_minor": 4
}
