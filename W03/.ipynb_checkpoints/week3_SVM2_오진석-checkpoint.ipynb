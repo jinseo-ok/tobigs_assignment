{
 "cells": [
  {
   "cell_type": "markdown",
   "metadata": {},
   "source": [
    "# Assignment2\n",
    "## Anomaly detection 데이터셋을 SVM을 이용해서 판별해보자\n",
    "### 데이터 분포 : True : 0.17프로 나머지 다 False, Row약 28만행 < 데이터 트레인 시간이 오래걸립니다.(그래도 자고 일어나면 트레이닝 돼있기는 하는정도입니다.!!)\n",
    "### 여러가지 방법을 사용해서 트레이닝 해보고 결과를 비교해주면됩니다!\n",
    "### 시간이 없거나 좀 어렵다 하시는 분들은 멘토에게 물어보고 한 가지 방법으로만 구현해도 됩니다."
   ]
  },
  {
   "cell_type": "code",
   "execution_count": 181,
   "metadata": {},
   "outputs": [],
   "source": [
    "import numpy as np\n",
    "import pandas as pd\n",
    "import matplotlib.pyplot as plt\n",
    "from sklearn.metrics import classification_report\n",
    "from sklearn.svm import SVC\n",
    "from sklearn.model_selection import train_test_split\n",
    "from sklearn.pipeline import Pipeline\n",
    "from sklearn.preprocessing import StandardScaler\n",
    "from sklearn.metrics import *\n",
    "from tqdm import tqdm"
   ]
  },
  {
   "cell_type": "code",
   "execution_count": 3,
   "metadata": {},
   "outputs": [
    {
     "name": "stdout",
     "output_type": "stream",
     "text": [
      "\u001b[31mSN_ad.csv\u001b[m\u001b[m*                          \u001b[31mvoice.csv\u001b[m\u001b[m*\n",
      "\u001b[34manomaly-detection\u001b[m\u001b[m/                  \u001b[31mweek3_SVM.pdf\u001b[m\u001b[m*\n",
      "\u001b[31massignment.ipynb\u001b[m\u001b[m*                   \u001b[31m실습코드.ipynb\u001b[m\u001b[m*\n",
      "\u001b[31massignment2.ipynb\u001b[m\u001b[m*                  \u001b[31m추가설명.pdf\u001b[m\u001b[m*\n"
     ]
    }
   ],
   "source": [
    "ls"
   ]
  },
  {
   "cell_type": "code",
   "execution_count": 5,
   "metadata": {},
   "outputs": [
    {
     "name": "stdout",
     "output_type": "stream",
     "text": [
      "Index(['Time', 'V1', 'V2', 'V3', 'V4', 'V5', 'V6', 'V7', 'V8', 'V9', 'V10',\n",
      "       'V11', 'V12', 'V13', 'V14', 'V15', 'V16', 'V17', 'V18', 'V19', 'V20',\n",
      "       'V21', 'V22', 'V23', 'V24', 'V25', 'V26', 'V27', 'V28', 'Amount',\n",
      "       'Class'],\n",
      "      dtype='object')\n"
     ]
    }
   ],
   "source": [
    "# Anomaly detection(사기감지 데이터) 로드\n",
    "data = pd.read_csv('./anomaly-detection/creditcard.csv')\n",
    "print(data.columns)"
   ]
  },
  {
   "cell_type": "markdown",
   "metadata": {},
   "source": [
    "## 1.데이터 전처리"
   ]
  },
  {
   "cell_type": "markdown",
   "metadata": {},
   "source": [
    "### 1-1. 데이터 확인"
   ]
  },
  {
   "cell_type": "code",
   "execution_count": 6,
   "metadata": {},
   "outputs": [
    {
     "data": {
      "text/html": [
       "<div>\n",
       "<style scoped>\n",
       "    .dataframe tbody tr th:only-of-type {\n",
       "        vertical-align: middle;\n",
       "    }\n",
       "\n",
       "    .dataframe tbody tr th {\n",
       "        vertical-align: top;\n",
       "    }\n",
       "\n",
       "    .dataframe thead th {\n",
       "        text-align: right;\n",
       "    }\n",
       "</style>\n",
       "<table border=\"1\" class=\"dataframe\">\n",
       "  <thead>\n",
       "    <tr style=\"text-align: right;\">\n",
       "      <th></th>\n",
       "      <th>Time</th>\n",
       "      <th>V1</th>\n",
       "      <th>V2</th>\n",
       "      <th>V3</th>\n",
       "      <th>V4</th>\n",
       "      <th>V5</th>\n",
       "      <th>V6</th>\n",
       "      <th>V7</th>\n",
       "      <th>V8</th>\n",
       "      <th>V9</th>\n",
       "      <th>...</th>\n",
       "      <th>V21</th>\n",
       "      <th>V22</th>\n",
       "      <th>V23</th>\n",
       "      <th>V24</th>\n",
       "      <th>V25</th>\n",
       "      <th>V26</th>\n",
       "      <th>V27</th>\n",
       "      <th>V28</th>\n",
       "      <th>Amount</th>\n",
       "      <th>Class</th>\n",
       "    </tr>\n",
       "  </thead>\n",
       "  <tbody>\n",
       "    <tr>\n",
       "      <th>0</th>\n",
       "      <td>0.0</td>\n",
       "      <td>-1.359807</td>\n",
       "      <td>-0.072781</td>\n",
       "      <td>2.536347</td>\n",
       "      <td>1.378155</td>\n",
       "      <td>-0.338321</td>\n",
       "      <td>0.462388</td>\n",
       "      <td>0.239599</td>\n",
       "      <td>0.098698</td>\n",
       "      <td>0.363787</td>\n",
       "      <td>...</td>\n",
       "      <td>-0.018307</td>\n",
       "      <td>0.277838</td>\n",
       "      <td>-0.110474</td>\n",
       "      <td>0.066928</td>\n",
       "      <td>0.128539</td>\n",
       "      <td>-0.189115</td>\n",
       "      <td>0.133558</td>\n",
       "      <td>-0.021053</td>\n",
       "      <td>149.62</td>\n",
       "      <td>0</td>\n",
       "    </tr>\n",
       "    <tr>\n",
       "      <th>1</th>\n",
       "      <td>0.0</td>\n",
       "      <td>1.191857</td>\n",
       "      <td>0.266151</td>\n",
       "      <td>0.166480</td>\n",
       "      <td>0.448154</td>\n",
       "      <td>0.060018</td>\n",
       "      <td>-0.082361</td>\n",
       "      <td>-0.078803</td>\n",
       "      <td>0.085102</td>\n",
       "      <td>-0.255425</td>\n",
       "      <td>...</td>\n",
       "      <td>-0.225775</td>\n",
       "      <td>-0.638672</td>\n",
       "      <td>0.101288</td>\n",
       "      <td>-0.339846</td>\n",
       "      <td>0.167170</td>\n",
       "      <td>0.125895</td>\n",
       "      <td>-0.008983</td>\n",
       "      <td>0.014724</td>\n",
       "      <td>2.69</td>\n",
       "      <td>0</td>\n",
       "    </tr>\n",
       "    <tr>\n",
       "      <th>2</th>\n",
       "      <td>1.0</td>\n",
       "      <td>-1.358354</td>\n",
       "      <td>-1.340163</td>\n",
       "      <td>1.773209</td>\n",
       "      <td>0.379780</td>\n",
       "      <td>-0.503198</td>\n",
       "      <td>1.800499</td>\n",
       "      <td>0.791461</td>\n",
       "      <td>0.247676</td>\n",
       "      <td>-1.514654</td>\n",
       "      <td>...</td>\n",
       "      <td>0.247998</td>\n",
       "      <td>0.771679</td>\n",
       "      <td>0.909412</td>\n",
       "      <td>-0.689281</td>\n",
       "      <td>-0.327642</td>\n",
       "      <td>-0.139097</td>\n",
       "      <td>-0.055353</td>\n",
       "      <td>-0.059752</td>\n",
       "      <td>378.66</td>\n",
       "      <td>0</td>\n",
       "    </tr>\n",
       "    <tr>\n",
       "      <th>3</th>\n",
       "      <td>1.0</td>\n",
       "      <td>-0.966272</td>\n",
       "      <td>-0.185226</td>\n",
       "      <td>1.792993</td>\n",
       "      <td>-0.863291</td>\n",
       "      <td>-0.010309</td>\n",
       "      <td>1.247203</td>\n",
       "      <td>0.237609</td>\n",
       "      <td>0.377436</td>\n",
       "      <td>-1.387024</td>\n",
       "      <td>...</td>\n",
       "      <td>-0.108300</td>\n",
       "      <td>0.005274</td>\n",
       "      <td>-0.190321</td>\n",
       "      <td>-1.175575</td>\n",
       "      <td>0.647376</td>\n",
       "      <td>-0.221929</td>\n",
       "      <td>0.062723</td>\n",
       "      <td>0.061458</td>\n",
       "      <td>123.50</td>\n",
       "      <td>0</td>\n",
       "    </tr>\n",
       "    <tr>\n",
       "      <th>4</th>\n",
       "      <td>2.0</td>\n",
       "      <td>-1.158233</td>\n",
       "      <td>0.877737</td>\n",
       "      <td>1.548718</td>\n",
       "      <td>0.403034</td>\n",
       "      <td>-0.407193</td>\n",
       "      <td>0.095921</td>\n",
       "      <td>0.592941</td>\n",
       "      <td>-0.270533</td>\n",
       "      <td>0.817739</td>\n",
       "      <td>...</td>\n",
       "      <td>-0.009431</td>\n",
       "      <td>0.798278</td>\n",
       "      <td>-0.137458</td>\n",
       "      <td>0.141267</td>\n",
       "      <td>-0.206010</td>\n",
       "      <td>0.502292</td>\n",
       "      <td>0.219422</td>\n",
       "      <td>0.215153</td>\n",
       "      <td>69.99</td>\n",
       "      <td>0</td>\n",
       "    </tr>\n",
       "  </tbody>\n",
       "</table>\n",
       "<p>5 rows × 31 columns</p>\n",
       "</div>"
      ],
      "text/plain": [
       "   Time        V1        V2        V3        V4        V5        V6        V7  \\\n",
       "0   0.0 -1.359807 -0.072781  2.536347  1.378155 -0.338321  0.462388  0.239599   \n",
       "1   0.0  1.191857  0.266151  0.166480  0.448154  0.060018 -0.082361 -0.078803   \n",
       "2   1.0 -1.358354 -1.340163  1.773209  0.379780 -0.503198  1.800499  0.791461   \n",
       "3   1.0 -0.966272 -0.185226  1.792993 -0.863291 -0.010309  1.247203  0.237609   \n",
       "4   2.0 -1.158233  0.877737  1.548718  0.403034 -0.407193  0.095921  0.592941   \n",
       "\n",
       "         V8        V9  ...       V21       V22       V23       V24       V25  \\\n",
       "0  0.098698  0.363787  ... -0.018307  0.277838 -0.110474  0.066928  0.128539   \n",
       "1  0.085102 -0.255425  ... -0.225775 -0.638672  0.101288 -0.339846  0.167170   \n",
       "2  0.247676 -1.514654  ...  0.247998  0.771679  0.909412 -0.689281 -0.327642   \n",
       "3  0.377436 -1.387024  ... -0.108300  0.005274 -0.190321 -1.175575  0.647376   \n",
       "4 -0.270533  0.817739  ... -0.009431  0.798278 -0.137458  0.141267 -0.206010   \n",
       "\n",
       "        V26       V27       V28  Amount  Class  \n",
       "0 -0.189115  0.133558 -0.021053  149.62      0  \n",
       "1  0.125895 -0.008983  0.014724    2.69      0  \n",
       "2 -0.139097 -0.055353 -0.059752  378.66      0  \n",
       "3 -0.221929  0.062723  0.061458  123.50      0  \n",
       "4  0.502292  0.219422  0.215153   69.99      0  \n",
       "\n",
       "[5 rows x 31 columns]"
      ]
     },
     "execution_count": 6,
     "metadata": {},
     "output_type": "execute_result"
    }
   ],
   "source": [
    "data.head()"
   ]
  },
  {
   "cell_type": "code",
   "execution_count": 7,
   "metadata": {},
   "outputs": [
    {
     "name": "stdout",
     "output_type": "stream",
     "text": [
      "<class 'pandas.core.frame.DataFrame'>\n",
      "RangeIndex: 284806 entries, 0 to 284805\n",
      "Data columns (total 31 columns):\n",
      "Time      284806 non-null float64\n",
      "V1        284806 non-null float64\n",
      "V2        284806 non-null float64\n",
      "V3        284806 non-null float64\n",
      "V4        284806 non-null float64\n",
      "V5        284806 non-null float64\n",
      "V6        284806 non-null float64\n",
      "V7        284806 non-null float64\n",
      "V8        284806 non-null float64\n",
      "V9        284806 non-null float64\n",
      "V10       284806 non-null float64\n",
      "V11       284806 non-null float64\n",
      "V12       284806 non-null float64\n",
      "V13       284806 non-null float64\n",
      "V14       284806 non-null float64\n",
      "V15       284806 non-null float64\n",
      "V16       284806 non-null float64\n",
      "V17       284806 non-null float64\n",
      "V18       284806 non-null float64\n",
      "V19       284806 non-null float64\n",
      "V20       284806 non-null float64\n",
      "V21       284806 non-null float64\n",
      "V22       284806 non-null float64\n",
      "V23       284806 non-null float64\n",
      "V24       284806 non-null float64\n",
      "V25       284806 non-null float64\n",
      "V26       284806 non-null float64\n",
      "V27       284806 non-null float64\n",
      "V28       284806 non-null float64\n",
      "Amount    284806 non-null float64\n",
      "Class     284806 non-null int64\n",
      "dtypes: float64(30), int64(1)\n",
      "memory usage: 67.4 MB\n"
     ]
    }
   ],
   "source": [
    "data.info()"
   ]
  },
  {
   "cell_type": "code",
   "execution_count": 8,
   "metadata": {},
   "outputs": [
    {
     "data": {
      "text/html": [
       "<div>\n",
       "<style scoped>\n",
       "    .dataframe tbody tr th:only-of-type {\n",
       "        vertical-align: middle;\n",
       "    }\n",
       "\n",
       "    .dataframe tbody tr th {\n",
       "        vertical-align: top;\n",
       "    }\n",
       "\n",
       "    .dataframe thead th {\n",
       "        text-align: right;\n",
       "    }\n",
       "</style>\n",
       "<table border=\"1\" class=\"dataframe\">\n",
       "  <thead>\n",
       "    <tr style=\"text-align: right;\">\n",
       "      <th></th>\n",
       "      <th>Time</th>\n",
       "      <th>V1</th>\n",
       "      <th>V2</th>\n",
       "      <th>V3</th>\n",
       "      <th>V4</th>\n",
       "      <th>V5</th>\n",
       "      <th>V6</th>\n",
       "      <th>V7</th>\n",
       "      <th>V8</th>\n",
       "      <th>V9</th>\n",
       "      <th>...</th>\n",
       "      <th>V21</th>\n",
       "      <th>V22</th>\n",
       "      <th>V23</th>\n",
       "      <th>V24</th>\n",
       "      <th>V25</th>\n",
       "      <th>V26</th>\n",
       "      <th>V27</th>\n",
       "      <th>V28</th>\n",
       "      <th>Amount</th>\n",
       "      <th>Class</th>\n",
       "    </tr>\n",
       "  </thead>\n",
       "  <tbody>\n",
       "    <tr>\n",
       "      <th>count</th>\n",
       "      <td>284806.000000</td>\n",
       "      <td>284806.000000</td>\n",
       "      <td>2.848060e+05</td>\n",
       "      <td>284806.000000</td>\n",
       "      <td>284806.000000</td>\n",
       "      <td>2.848060e+05</td>\n",
       "      <td>284806.000000</td>\n",
       "      <td>284806.000000</td>\n",
       "      <td>284806.000000</td>\n",
       "      <td>284806.000000</td>\n",
       "      <td>...</td>\n",
       "      <td>2.848060e+05</td>\n",
       "      <td>284806.000000</td>\n",
       "      <td>284806.000000</td>\n",
       "      <td>2.848060e+05</td>\n",
       "      <td>284806.000000</td>\n",
       "      <td>284806.000000</td>\n",
       "      <td>2.848060e+05</td>\n",
       "      <td>2.848060e+05</td>\n",
       "      <td>284806.000000</td>\n",
       "      <td>284806.000000</td>\n",
       "    </tr>\n",
       "    <tr>\n",
       "      <th>mean</th>\n",
       "      <td>94813.585781</td>\n",
       "      <td>0.000002</td>\n",
       "      <td>6.661837e-07</td>\n",
       "      <td>-0.000002</td>\n",
       "      <td>0.000002</td>\n",
       "      <td>4.405008e-08</td>\n",
       "      <td>0.000002</td>\n",
       "      <td>-0.000006</td>\n",
       "      <td>0.000001</td>\n",
       "      <td>-0.000002</td>\n",
       "      <td>...</td>\n",
       "      <td>-9.166149e-07</td>\n",
       "      <td>-0.000002</td>\n",
       "      <td>-0.000001</td>\n",
       "      <td>-3.088756e-08</td>\n",
       "      <td>0.000002</td>\n",
       "      <td>0.000003</td>\n",
       "      <td>8.483873e-09</td>\n",
       "      <td>-4.792707e-08</td>\n",
       "      <td>88.349168</td>\n",
       "      <td>0.001727</td>\n",
       "    </tr>\n",
       "    <tr>\n",
       "      <th>std</th>\n",
       "      <td>47488.004530</td>\n",
       "      <td>1.958699</td>\n",
       "      <td>1.651311e+00</td>\n",
       "      <td>1.516257</td>\n",
       "      <td>1.415871</td>\n",
       "      <td>1.380249e+00</td>\n",
       "      <td>1.332273</td>\n",
       "      <td>1.237092</td>\n",
       "      <td>1.194355</td>\n",
       "      <td>1.098634</td>\n",
       "      <td>...</td>\n",
       "      <td>7.345251e-01</td>\n",
       "      <td>0.725702</td>\n",
       "      <td>0.624461</td>\n",
       "      <td>6.056481e-01</td>\n",
       "      <td>0.521278</td>\n",
       "      <td>0.482225</td>\n",
       "      <td>4.036332e-01</td>\n",
       "      <td>3.300838e-01</td>\n",
       "      <td>250.120432</td>\n",
       "      <td>0.041527</td>\n",
       "    </tr>\n",
       "    <tr>\n",
       "      <th>min</th>\n",
       "      <td>0.000000</td>\n",
       "      <td>-56.407510</td>\n",
       "      <td>-7.271573e+01</td>\n",
       "      <td>-48.325589</td>\n",
       "      <td>-5.683171</td>\n",
       "      <td>-1.137433e+02</td>\n",
       "      <td>-26.160506</td>\n",
       "      <td>-43.557242</td>\n",
       "      <td>-73.216718</td>\n",
       "      <td>-13.434066</td>\n",
       "      <td>...</td>\n",
       "      <td>-3.483038e+01</td>\n",
       "      <td>-10.933144</td>\n",
       "      <td>-44.807735</td>\n",
       "      <td>-2.836627e+00</td>\n",
       "      <td>-10.295397</td>\n",
       "      <td>-2.604551</td>\n",
       "      <td>-2.256568e+01</td>\n",
       "      <td>-1.543008e+01</td>\n",
       "      <td>0.000000</td>\n",
       "      <td>0.000000</td>\n",
       "    </tr>\n",
       "    <tr>\n",
       "      <th>25%</th>\n",
       "      <td>54201.250000</td>\n",
       "      <td>-0.920374</td>\n",
       "      <td>-5.985522e-01</td>\n",
       "      <td>-0.890368</td>\n",
       "      <td>-0.848642</td>\n",
       "      <td>-6.915995e-01</td>\n",
       "      <td>-0.768296</td>\n",
       "      <td>-0.554080</td>\n",
       "      <td>-0.208628</td>\n",
       "      <td>-0.643098</td>\n",
       "      <td>...</td>\n",
       "      <td>-2.283974e-01</td>\n",
       "      <td>-0.542351</td>\n",
       "      <td>-0.161846</td>\n",
       "      <td>-3.545895e-01</td>\n",
       "      <td>-0.317142</td>\n",
       "      <td>-0.326979</td>\n",
       "      <td>-7.083961e-02</td>\n",
       "      <td>-5.295995e-02</td>\n",
       "      <td>5.600000</td>\n",
       "      <td>0.000000</td>\n",
       "    </tr>\n",
       "    <tr>\n",
       "      <th>50%</th>\n",
       "      <td>84691.500000</td>\n",
       "      <td>0.018109</td>\n",
       "      <td>6.549621e-02</td>\n",
       "      <td>0.179846</td>\n",
       "      <td>-0.019845</td>\n",
       "      <td>-5.433621e-02</td>\n",
       "      <td>-0.274186</td>\n",
       "      <td>0.040097</td>\n",
       "      <td>0.022358</td>\n",
       "      <td>-0.051429</td>\n",
       "      <td>...</td>\n",
       "      <td>-2.945020e-02</td>\n",
       "      <td>0.006781</td>\n",
       "      <td>-0.011196</td>\n",
       "      <td>4.097671e-02</td>\n",
       "      <td>0.016596</td>\n",
       "      <td>-0.052134</td>\n",
       "      <td>1.342244e-03</td>\n",
       "      <td>1.124381e-02</td>\n",
       "      <td>22.000000</td>\n",
       "      <td>0.000000</td>\n",
       "    </tr>\n",
       "    <tr>\n",
       "      <th>75%</th>\n",
       "      <td>139320.000000</td>\n",
       "      <td>1.315645</td>\n",
       "      <td>8.037257e-01</td>\n",
       "      <td>1.027198</td>\n",
       "      <td>0.743348</td>\n",
       "      <td>6.119267e-01</td>\n",
       "      <td>0.398567</td>\n",
       "      <td>0.570426</td>\n",
       "      <td>0.327346</td>\n",
       "      <td>0.597140</td>\n",
       "      <td>...</td>\n",
       "      <td>1.863701e-01</td>\n",
       "      <td>0.528548</td>\n",
       "      <td>0.147641</td>\n",
       "      <td>4.395270e-01</td>\n",
       "      <td>0.350716</td>\n",
       "      <td>0.240955</td>\n",
       "      <td>9.104579e-02</td>\n",
       "      <td>7.828043e-02</td>\n",
       "      <td>77.160000</td>\n",
       "      <td>0.000000</td>\n",
       "    </tr>\n",
       "    <tr>\n",
       "      <th>max</th>\n",
       "      <td>172788.000000</td>\n",
       "      <td>2.454930</td>\n",
       "      <td>2.205773e+01</td>\n",
       "      <td>9.382558</td>\n",
       "      <td>16.875344</td>\n",
       "      <td>3.480167e+01</td>\n",
       "      <td>73.301626</td>\n",
       "      <td>120.589494</td>\n",
       "      <td>20.007208</td>\n",
       "      <td>15.594995</td>\n",
       "      <td>...</td>\n",
       "      <td>2.720284e+01</td>\n",
       "      <td>10.503090</td>\n",
       "      <td>22.528412</td>\n",
       "      <td>4.584549e+00</td>\n",
       "      <td>7.519589</td>\n",
       "      <td>3.517346</td>\n",
       "      <td>3.161220e+01</td>\n",
       "      <td>3.384781e+01</td>\n",
       "      <td>25691.160000</td>\n",
       "      <td>1.000000</td>\n",
       "    </tr>\n",
       "  </tbody>\n",
       "</table>\n",
       "<p>8 rows × 31 columns</p>\n",
       "</div>"
      ],
      "text/plain": [
       "                Time             V1            V2             V3  \\\n",
       "count  284806.000000  284806.000000  2.848060e+05  284806.000000   \n",
       "mean    94813.585781       0.000002  6.661837e-07      -0.000002   \n",
       "std     47488.004530       1.958699  1.651311e+00       1.516257   \n",
       "min         0.000000     -56.407510 -7.271573e+01     -48.325589   \n",
       "25%     54201.250000      -0.920374 -5.985522e-01      -0.890368   \n",
       "50%     84691.500000       0.018109  6.549621e-02       0.179846   \n",
       "75%    139320.000000       1.315645  8.037257e-01       1.027198   \n",
       "max    172788.000000       2.454930  2.205773e+01       9.382558   \n",
       "\n",
       "                  V4            V5             V6             V7  \\\n",
       "count  284806.000000  2.848060e+05  284806.000000  284806.000000   \n",
       "mean        0.000002  4.405008e-08       0.000002      -0.000006   \n",
       "std         1.415871  1.380249e+00       1.332273       1.237092   \n",
       "min        -5.683171 -1.137433e+02     -26.160506     -43.557242   \n",
       "25%        -0.848642 -6.915995e-01      -0.768296      -0.554080   \n",
       "50%        -0.019845 -5.433621e-02      -0.274186       0.040097   \n",
       "75%         0.743348  6.119267e-01       0.398567       0.570426   \n",
       "max        16.875344  3.480167e+01      73.301626     120.589494   \n",
       "\n",
       "                  V8             V9  ...           V21            V22  \\\n",
       "count  284806.000000  284806.000000  ...  2.848060e+05  284806.000000   \n",
       "mean        0.000001      -0.000002  ... -9.166149e-07      -0.000002   \n",
       "std         1.194355       1.098634  ...  7.345251e-01       0.725702   \n",
       "min       -73.216718     -13.434066  ... -3.483038e+01     -10.933144   \n",
       "25%        -0.208628      -0.643098  ... -2.283974e-01      -0.542351   \n",
       "50%         0.022358      -0.051429  ... -2.945020e-02       0.006781   \n",
       "75%         0.327346       0.597140  ...  1.863701e-01       0.528548   \n",
       "max        20.007208      15.594995  ...  2.720284e+01      10.503090   \n",
       "\n",
       "                 V23           V24            V25            V26  \\\n",
       "count  284806.000000  2.848060e+05  284806.000000  284806.000000   \n",
       "mean       -0.000001 -3.088756e-08       0.000002       0.000003   \n",
       "std         0.624461  6.056481e-01       0.521278       0.482225   \n",
       "min       -44.807735 -2.836627e+00     -10.295397      -2.604551   \n",
       "25%        -0.161846 -3.545895e-01      -0.317142      -0.326979   \n",
       "50%        -0.011196  4.097671e-02       0.016596      -0.052134   \n",
       "75%         0.147641  4.395270e-01       0.350716       0.240955   \n",
       "max        22.528412  4.584549e+00       7.519589       3.517346   \n",
       "\n",
       "                V27           V28         Amount          Class  \n",
       "count  2.848060e+05  2.848060e+05  284806.000000  284806.000000  \n",
       "mean   8.483873e-09 -4.792707e-08      88.349168       0.001727  \n",
       "std    4.036332e-01  3.300838e-01     250.120432       0.041527  \n",
       "min   -2.256568e+01 -1.543008e+01       0.000000       0.000000  \n",
       "25%   -7.083961e-02 -5.295995e-02       5.600000       0.000000  \n",
       "50%    1.342244e-03  1.124381e-02      22.000000       0.000000  \n",
       "75%    9.104579e-02  7.828043e-02      77.160000       0.000000  \n",
       "max    3.161220e+01  3.384781e+01   25691.160000       1.000000  \n",
       "\n",
       "[8 rows x 31 columns]"
      ]
     },
     "execution_count": 8,
     "metadata": {},
     "output_type": "execute_result"
    }
   ],
   "source": [
    "data.describe()"
   ]
  },
  {
   "cell_type": "code",
   "execution_count": 12,
   "metadata": {},
   "outputs": [
    {
     "data": {
      "text/plain": [
       "0    284314\n",
       "1       492\n",
       "Name: Class, dtype: int64"
      ]
     },
     "execution_count": 12,
     "metadata": {},
     "output_type": "execute_result"
    }
   ],
   "source": [
    "# 데이터 class 의 비율이 크게 차이남\n",
    "# 우세한 비율의 클래스를 택하는 모형이 정확도가 높아지므로 모형의 성능판별이 어려워짐\n",
    "# 비대칭 데이터 문제 (imbalanced data problem) 가 발생할 수 있음\n",
    "data['Class'].value_counts()"
   ]
  },
  {
   "cell_type": "code",
   "execution_count": 31,
   "metadata": {},
   "outputs": [],
   "source": [
    "import matplotlib.pyplot as plt\n",
    "import seaborn as sns"
   ]
  },
  {
   "cell_type": "code",
   "execution_count": 32,
   "metadata": {},
   "outputs": [],
   "source": [
    "# 그래프에서 한글을 사용하기 위해 한글폰트를 적용\n",
    "# 맥북이기에 애플고딕을 사용\n",
    "plt.style.use('seaborn') # seaborn 스타일로 변환\n",
    "plt.rc('font', family='AppleGothic')\n",
    "plt.rc('axes', unicode_minus=False)"
   ]
  },
  {
   "cell_type": "code",
   "execution_count": 59,
   "metadata": {},
   "outputs": [
    {
     "data": {
      "text/plain": [
       "<matplotlib.axes._subplots.AxesSubplot at 0x13f119f10>"
      ]
     },
     "execution_count": 59,
     "metadata": {},
     "output_type": "execute_result"
    },
    {
     "data": {
      "image/png": "[encoded data removed]",
      "text/plain": [
       "<Figure size 576x396 with 1 Axes>"
      ]
     },
     "metadata": {},
     "output_type": "display_data"
    }
   ],
   "source": [
    "# scatterplot 으로 확인해보아도 압도적으로 class == 0 인 데이터가 많음\n",
    "sns.scatterplot(x = 'V2', y='V25', hue = 'Class', data = data, s = 15)"
   ]
  },
  {
   "cell_type": "code",
   "execution_count": null,
   "metadata": {},
   "outputs": [],
   "source": [
    "# 비대칭 데이터 해결방법은 다음과 같음\n",
    "# 클래스 데이터에서 일부만 사용하는 언더 샘플링을 사용하여 비대칭 데이터 문제를 해결하고자 함"
   ]
  },
  {
   "cell_type": "markdown",
   "metadata": {},
   "source": [
    "   - 오버샘플링\n",
    "   - 언더샘플링\n",
    "   - 복합샘플링"
   ]
  },
  {
   "cell_type": "markdown",
   "metadata": {},
   "source": [
    "### 1-2. 언더샘플링"
   ]
  },
  {
   "cell_type": "code",
   "execution_count": 27,
   "metadata": {},
   "outputs": [],
   "source": [
    "X = data[data.columns[:30]]\n",
    "y = data.Class"
   ]
  },
  {
   "cell_type": "markdown",
   "metadata": {},
   "source": [
    "   - Random Under-Sampler"
   ]
  },
  {
   "cell_type": "code",
   "execution_count": 23,
   "metadata": {},
   "outputs": [],
   "source": [
    "from imblearn.under_sampling import RandomUnderSampler"
   ]
  },
  {
   "cell_type": "code",
   "execution_count": 29,
   "metadata": {},
   "outputs": [],
   "source": [
    "X_samp, y_samp = RandomUnderSampler(random_state = 0).fit_sample(X,y)"
   ]
  },
  {
   "cell_type": "code",
   "execution_count": 40,
   "metadata": {},
   "outputs": [],
   "source": [
    "temp = pd.concat((X_samp, y_samp), axis=1)"
   ]
  },
  {
   "cell_type": "code",
   "execution_count": 58,
   "metadata": {},
   "outputs": [
    {
     "data": {
      "text/plain": [
       "1    492\n",
       "0    492\n",
       "Name: Class, dtype: int64"
      ]
     },
     "execution_count": 58,
     "metadata": {},
     "output_type": "execute_result"
    }
   ],
   "source": [
    "# class 의 비율을 똑같이 sampling 해줌\n",
    "temp['Class'].value_counts()"
   ]
  },
  {
   "cell_type": "code",
   "execution_count": 55,
   "metadata": {},
   "outputs": [
    {
     "data": {
      "text/plain": [
       "<matplotlib.axes._subplots.AxesSubplot at 0x13f039d10>"
      ]
     },
     "execution_count": 55,
     "metadata": {},
     "output_type": "execute_result"
    },
    {
     "data": {
      "image/png": "[encoded data removed]",
      "text/plain": [
       "<Figure size 576x396 with 1 Axes>"
      ]
     },
     "metadata": {},
     "output_type": "display_data"
    }
   ],
   "source": [
    "# sampling 전 scatterplot 보다 균형적인 데이터 분포를 보여줌\n",
    "sns.scatterplot(x = 'V2', y='V25', hue = 'Class', data = temp, s = 15)"
   ]
  },
  {
   "cell_type": "code",
   "execution_count": null,
   "metadata": {},
   "outputs": [],
   "source": []
  },
  {
   "cell_type": "markdown",
   "metadata": {},
   "source": [
    "## 2. SVM 모델"
   ]
  },
  {
   "cell_type": "markdown",
   "metadata": {},
   "source": [
    "### 2-1. linear 모델"
   ]
  },
  {
   "cell_type": "code",
   "execution_count": 63,
   "metadata": {},
   "outputs": [],
   "source": [
    "# X_samp 정규화 -> X_scale\n",
    "scale = StandardScaler()\n",
    "X_scale = scale.fit_transform(X_samp)"
   ]
  },
  {
   "cell_type": "code",
   "execution_count": null,
   "metadata": {},
   "outputs": [],
   "source": [
    "# train, test 데이터 분할 (비율 8 : 2)\n",
    "X_train, X_test, y_train, y_test = train_test_split(X_scale, y_samp, test_size=0.2, random_state=45)"
   ]
  },
  {
   "cell_type": "code",
   "execution_count": 118,
   "metadata": {},
   "outputs": [
    {
     "data": {
      "text/plain": [
       "SVC(C=1.0, break_ties=False, cache_size=200, class_weight=None, coef0=0.0,\n",
       "    decision_function_shape='ovr', degree=3, gamma='scale', kernel='linear',\n",
       "    max_iter=-1, probability=False, random_state=None, shrinking=True,\n",
       "    tol=0.001, verbose=False)"
      ]
     },
     "execution_count": 118,
     "metadata": {},
     "output_type": "execute_result"
    }
   ],
   "source": [
    "svm = SVC(kernel ='linear') # 선형 모델 생성\n",
    "svm.fit(X_train, y_train) # train 데이터로 학습"
   ]
  },
  {
   "cell_type": "code",
   "execution_count": 119,
   "metadata": {},
   "outputs": [
    {
     "data": {
      "text/plain": [
       "array([1, 0, 0, 1, 0, 1, 0, 0, 1, 0, 0, 1, 0, 0, 0, 1, 1, 1, 0, 0, 0, 1,\n",
       "       0, 1, 0, 1, 1, 1, 0, 1, 0, 0, 1, 1, 0, 1, 1, 1, 0, 0, 1, 1, 0, 0,\n",
       "       1, 0, 1, 1, 1, 0, 1, 1, 0, 1, 0, 0, 0, 1, 0, 0, 0, 0, 0, 1, 1, 1,\n",
       "       1, 0, 0, 0, 1, 1, 0, 1, 0, 0, 1, 0, 1, 0, 1, 1, 0, 0, 0, 0, 1, 0,\n",
       "       0, 1, 0, 1, 1, 1, 1, 1, 0, 0, 1, 1, 1, 0, 0, 1, 0, 0, 1, 0, 1, 1,\n",
       "       0, 1, 1, 0, 0, 0, 0, 1, 1, 0, 0, 0, 1, 1, 0, 0, 1, 1, 1, 1, 0, 0,\n",
       "       0, 1, 0, 1, 0, 0, 0, 0, 1, 0, 1, 0, 0, 0, 1, 0, 0, 1, 0, 1, 1, 1,\n",
       "       0, 0, 1, 1, 1, 1, 0, 0, 1, 0, 1, 0, 0, 0, 0, 0, 0, 1, 1, 0, 0, 1,\n",
       "       1, 1, 1, 1, 0, 0, 0, 0, 1, 0, 0, 0, 1, 0, 0, 1, 0, 1, 0, 1, 0])"
      ]
     },
     "execution_count": 119,
     "metadata": {},
     "output_type": "execute_result"
    }
   ],
   "source": [
    "y_pred = svm.predict(X_test) # 학습된 모델로 test 데이터 예측\n",
    "y_pred # 예측된 test 데이터"
   ]
  },
  {
   "cell_type": "code",
   "execution_count": 125,
   "metadata": {},
   "outputs": [
    {
     "name": "stdout",
     "output_type": "stream",
     "text": [
      "학습용 데이터셋 정확도 0.952\n",
      "테스트용 데이터셋 정확도 0.919\n"
     ]
    }
   ],
   "source": [
    "print('학습용 데이터셋 정확도 {:.3f}'.format(svm.score(X_train, y_train)))\n",
    "print('테스트용 데이터셋 정확도 {:.3f}'.format(svm.score(X_test, y_test)))"
   ]
  },
  {
   "cell_type": "code",
   "execution_count": 126,
   "metadata": {},
   "outputs": [
    {
     "data": {
      "text/plain": [
       "array([[94,  4],\n",
       "       [12, 87]])"
      ]
     },
     "execution_count": 126,
     "metadata": {},
     "output_type": "execute_result"
    }
   ],
   "source": [
    "confusion_matrix(y_test, y_pred)"
   ]
  },
  {
   "cell_type": "markdown",
   "metadata": {},
   "source": [
    "   - 정확도(accuracy) : 전체 샘플 중 맞게 예측한 샘플 수의 비율\n",
    "   - 정밀도(precision) : 양성 클래스에 속한다고 출력한 샘플 중 실제로 양성 클래스에 속하는 샘플 수의 비율\n",
    "   - 재현율(recall) : 실제 양성 클래스에 속한 표본 중에 양성 클래스에 속한다고 출력한 표본의 수의 비율\n",
    "   - F-score : 정밀도와 재현율의 가중조화평균(weight harmonic average)\n",
    "    \n",
    "   ###### 출처 : https://datascienceschool.net/view-notebook/731e0d2ef52c41c686ba53dcaf346f32/"
   ]
  },
  {
   "cell_type": "code",
   "execution_count": 127,
   "metadata": {},
   "outputs": [
    {
     "name": "stdout",
     "output_type": "stream",
     "text": [
      "              precision    recall  f1-score   support\n",
      "\n",
      "           0       0.96      0.89      0.92       106\n",
      "           1       0.88      0.96      0.92        91\n",
      "\n",
      "    accuracy                           0.92       197\n",
      "   macro avg       0.92      0.92      0.92       197\n",
      "weighted avg       0.92      0.92      0.92       197\n",
      "\n"
     ]
    }
   ],
   "source": [
    "print(classification_report(y_pred, y_test))"
   ]
  },
  {
   "cell_type": "markdown",
   "metadata": {},
   "source": [
    "## 2-2. 다중 평가 지표\n",
    "\n",
    "###### 출처 : https://github.com/rickiepark/introduction_to_ml_with_python/blob/master/cross_validate.ipynb"
   ]
  },
  {
   "cell_type": "code",
   "execution_count": 182,
   "metadata": {},
   "outputs": [],
   "source": [
    "# 다중 평가 지표란 여러 개의 지표를 사용하여 모델을 평가하는 것을 의미함\n",
    "from sklearn.model_selection import cross_validate"
   ]
  },
  {
   "cell_type": "code",
   "execution_count": 199,
   "metadata": {},
   "outputs": [
    {
     "data": {
      "text/plain": [
       "{'fit_time': array([0.006809  , 0.0060339 , 0.00643516]),\n",
       " 'score_time': array([0.006428  , 0.006464  , 0.00671482]),\n",
       " 'test_accuracy': array([0.94296578, 0.91221374, 0.9351145 ]),\n",
       " 'train_accuracy': array([0.94083969, 0.96      , 0.94285714]),\n",
       " 'test_roc_auc': array([0.98386537, 0.96824194, 0.99067653]),\n",
       " 'train_roc_auc': array([0.99208962, 0.99309204, 0.98911561])}"
      ]
     },
     "execution_count": 199,
     "metadata": {},
     "output_type": "execute_result"
    }
   ],
   "source": [
    "# 다양한 지표들을 확인 할 수 있음\n",
    "# train 과 test 데이터가 모두 결과로 반환됨 + 걸린 시간도 반환함\n",
    "cross_validate(SVC(gamma='auto'), X_train, y_train, \n",
    "               scoring=['accuracy', 'roc_auc'], \n",
    "               return_train_score=True, cv=3)"
   ]
  },
  {
   "cell_type": "code",
   "execution_count": 280,
   "metadata": {},
   "outputs": [
    {
     "name": "stderr",
     "output_type": "stream",
     "text": [
      "100%|██████████| 79/79 [01:30<00:00,  1.14s/it]\n"
     ]
    }
   ],
   "source": [
    "\n",
    "cs = range(1,80) # c 값은 1~80 까지 정수\n",
    "gammas = [0.001, 0.01, 0.1, 1, 10, 100]\n",
    "result = []\n",
    "\n",
    "for c in tqdm(cs):\n",
    "    for gamma in gammas:\n",
    "        svm = SVC(kernel = 'rbf', C = c, gamma = gamma)\n",
    "        scores = cross_validate(svm, X_train, y_train, cv=10, scoring='accuracy') # 점수를 리스트로 관리해줍니다.\n",
    "        score = np.mean(scores['test_score']) #10개 스코어 값의 평균\n",
    "        value = [c, gamma, score] # 각 c, gamma, score 값을 저장\n",
    "        result.append(value)\n",
    "        "
   ]
  },
  {
   "cell_type": "code",
   "execution_count": 236,
   "metadata": {},
   "outputs": [],
   "source": [
    "df_result = pd.DataFrame(result, columns = ['C', \"gamma\", \"score\"])"
   ]
  },
  {
   "cell_type": "code",
   "execution_count": 260,
   "metadata": {},
   "outputs": [
    {
     "data": {
      "text/plain": [
       "0.9416423239208049"
      ]
     },
     "execution_count": 260,
     "metadata": {},
     "output_type": "execute_result"
    }
   ],
   "source": [
    "# 가장 높은 score 값, 정확도\n",
    "max(df_result.values[:,2])"
   ]
  },
  {
   "cell_type": "code",
   "execution_count": 265,
   "metadata": {},
   "outputs": [
    {
     "data": {
      "text/html": [
       "<div>\n",
       "<style scoped>\n",
       "    .dataframe tbody tr th:only-of-type {\n",
       "        vertical-align: middle;\n",
       "    }\n",
       "\n",
       "    .dataframe tbody tr th {\n",
       "        vertical-align: top;\n",
       "    }\n",
       "\n",
       "    .dataframe thead th {\n",
       "        text-align: right;\n",
       "    }\n",
       "</style>\n",
       "<table border=\"1\" class=\"dataframe\">\n",
       "  <thead>\n",
       "    <tr style=\"text-align: right;\">\n",
       "      <th></th>\n",
       "      <th>C</th>\n",
       "      <th>gamma</th>\n",
       "      <th>score</th>\n",
       "    </tr>\n",
       "  </thead>\n",
       "  <tbody>\n",
       "    <tr>\n",
       "      <th>247</th>\n",
       "      <td>42</td>\n",
       "      <td>0.01</td>\n",
       "      <td>0.941642</td>\n",
       "    </tr>\n",
       "    <tr>\n",
       "      <th>253</th>\n",
       "      <td>43</td>\n",
       "      <td>0.01</td>\n",
       "      <td>0.941642</td>\n",
       "    </tr>\n",
       "    <tr>\n",
       "      <th>259</th>\n",
       "      <td>44</td>\n",
       "      <td>0.01</td>\n",
       "      <td>0.941642</td>\n",
       "    </tr>\n",
       "    <tr>\n",
       "      <th>265</th>\n",
       "      <td>45</td>\n",
       "      <td>0.01</td>\n",
       "      <td>0.941642</td>\n",
       "    </tr>\n",
       "    <tr>\n",
       "      <th>271</th>\n",
       "      <td>46</td>\n",
       "      <td>0.01</td>\n",
       "      <td>0.941642</td>\n",
       "    </tr>\n",
       "    <tr>\n",
       "      <th>277</th>\n",
       "      <td>47</td>\n",
       "      <td>0.01</td>\n",
       "      <td>0.941642</td>\n",
       "    </tr>\n",
       "    <tr>\n",
       "      <th>283</th>\n",
       "      <td>48</td>\n",
       "      <td>0.01</td>\n",
       "      <td>0.941642</td>\n",
       "    </tr>\n",
       "    <tr>\n",
       "      <th>289</th>\n",
       "      <td>49</td>\n",
       "      <td>0.01</td>\n",
       "      <td>0.941642</td>\n",
       "    </tr>\n",
       "    <tr>\n",
       "      <th>295</th>\n",
       "      <td>50</td>\n",
       "      <td>0.01</td>\n",
       "      <td>0.941642</td>\n",
       "    </tr>\n",
       "    <tr>\n",
       "      <th>301</th>\n",
       "      <td>51</td>\n",
       "      <td>0.01</td>\n",
       "      <td>0.941642</td>\n",
       "    </tr>\n",
       "    <tr>\n",
       "      <th>307</th>\n",
       "      <td>52</td>\n",
       "      <td>0.01</td>\n",
       "      <td>0.941642</td>\n",
       "    </tr>\n",
       "    <tr>\n",
       "      <th>313</th>\n",
       "      <td>53</td>\n",
       "      <td>0.01</td>\n",
       "      <td>0.941642</td>\n",
       "    </tr>\n",
       "    <tr>\n",
       "      <th>361</th>\n",
       "      <td>61</td>\n",
       "      <td>0.01</td>\n",
       "      <td>0.941642</td>\n",
       "    </tr>\n",
       "    <tr>\n",
       "      <th>427</th>\n",
       "      <td>72</td>\n",
       "      <td>0.01</td>\n",
       "      <td>0.941642</td>\n",
       "    </tr>\n",
       "    <tr>\n",
       "      <th>433</th>\n",
       "      <td>73</td>\n",
       "      <td>0.01</td>\n",
       "      <td>0.941642</td>\n",
       "    </tr>\n",
       "    <tr>\n",
       "      <th>439</th>\n",
       "      <td>74</td>\n",
       "      <td>0.01</td>\n",
       "      <td>0.941642</td>\n",
       "    </tr>\n",
       "    <tr>\n",
       "      <th>445</th>\n",
       "      <td>75</td>\n",
       "      <td>0.01</td>\n",
       "      <td>0.941642</td>\n",
       "    </tr>\n",
       "  </tbody>\n",
       "</table>\n",
       "</div>"
      ],
      "text/plain": [
       "      C  gamma     score\n",
       "247  42   0.01  0.941642\n",
       "253  43   0.01  0.941642\n",
       "259  44   0.01  0.941642\n",
       "265  45   0.01  0.941642\n",
       "271  46   0.01  0.941642\n",
       "277  47   0.01  0.941642\n",
       "283  48   0.01  0.941642\n",
       "289  49   0.01  0.941642\n",
       "295  50   0.01  0.941642\n",
       "301  51   0.01  0.941642\n",
       "307  52   0.01  0.941642\n",
       "313  53   0.01  0.941642\n",
       "361  61   0.01  0.941642\n",
       "427  72   0.01  0.941642\n",
       "433  73   0.01  0.941642\n",
       "439  74   0.01  0.941642\n",
       "445  75   0.01  0.941642"
      ]
     },
     "execution_count": 265,
     "metadata": {},
     "output_type": "execute_result"
    }
   ],
   "source": [
    "# score 값이 가장 높을 때는 gamma 값이 0.01\n",
    "df_result[df_result['score'] >= 0.94164232392080499]"
   ]
  },
  {
   "cell_type": "code",
   "execution_count": 151,
   "metadata": {},
   "outputs": [],
   "source": [
    "from sklearn.model_selection import GridSearchCV"
   ]
  },
  {
   "cell_type": "code",
   "execution_count": 288,
   "metadata": {},
   "outputs": [
    {
     "data": {
      "text/plain": [
       "array([30, 31, 32, 33, 34, 35, 36, 37, 38, 39, 40, 41, 42, 43, 44, 45, 46,\n",
       "       47, 48, 49, 50, 51, 52, 53, 54, 55, 56, 57, 58, 59, 60, 61, 62, 63,\n",
       "       64, 65, 66, 67, 68, 69, 70, 71, 72, 73, 74, 75, 76, 77, 78, 79, 80,\n",
       "       81, 82, 83, 84, 85, 86, 87, 88, 89, 90, 91, 92, 93, 94, 95, 96, 97,\n",
       "       98, 99])"
      ]
     },
     "execution_count": 288,
     "metadata": {},
     "output_type": "execute_result"
    }
   ],
   "source": [
    "cs"
   ]
  },
  {
   "cell_type": "code",
   "execution_count": 289,
   "metadata": {},
   "outputs": [
    {
     "data": {
      "text/plain": [
       "GridSearchCV(cv=3, error_score=nan,\n",
       "             estimator=SVC(C=1.0, break_ties=False, cache_size=200,\n",
       "                           class_weight=None, coef0=0.0,\n",
       "                           decision_function_shape='ovr', degree=3,\n",
       "                           gamma='scale', kernel='rbf', max_iter=-1,\n",
       "                           probability=False, random_state=None, shrinking=True,\n",
       "                           tol=0.001, verbose=False),\n",
       "             iid='deprecated', n_jobs=None,\n",
       "             param_grid={'gamma': [0.0001, 0.01, 0.1, 1, 10]},\n",
       "             pre_dispatch='2*n_jobs', refit='accuracy', return_train_score=True,\n",
       "             scoring=['accuracy'], verbose=0)"
      ]
     },
     "execution_count": 289,
     "metadata": {},
     "output_type": "execute_result"
    }
   ],
   "source": [
    "# GridSearchCV 적용\n",
    "# cs = np.arange(40,100,1) # C 값은 30~100 정수\n",
    "# gammas = np.arange(,0.01,1,0.01) # gamma 값은 0.01 ~ 1 까지 0.01 간격, 100개\n",
    "# (너무 오래 걸려서 아래로 바꿈)\n",
    "\n",
    "param_grid = {'gamma': [0.0001, 0.01, 0.1, 1, 10]}\n",
    "grid = GridSearchCV(SVC(), param_grid=param_grid, \n",
    "                    scoring=['accuracy'], refit='accuracy',\n",
    "                    return_train_score=True, cv=3)\n",
    "grid.fit(X_train, y_train)"
   ]
  },
  {
   "cell_type": "code",
   "execution_count": 290,
   "metadata": {},
   "outputs": [
    {
     "data": {
      "text/plain": [
       "{'gamma': 0.1}"
      ]
     },
     "execution_count": 290,
     "metadata": {},
     "output_type": "execute_result"
    }
   ],
   "source": [
    "# 최적의 gamma 는 0.1\n",
    "grid.best_params_"
   ]
  },
  {
   "cell_type": "code",
   "execution_count": 291,
   "metadata": {},
   "outputs": [
    {
     "data": {
      "text/plain": [
       "0.9275534786520767"
      ]
     },
     "execution_count": 291,
     "metadata": {},
     "output_type": "execute_result"
    }
   ],
   "source": [
    "grid.best_score_"
   ]
  },
  {
   "cell_type": "code",
   "execution_count": 292,
   "metadata": {},
   "outputs": [
    {
     "data": {
      "text/html": [
       "<div>\n",
       "<style scoped>\n",
       "    .dataframe tbody tr th:only-of-type {\n",
       "        vertical-align: middle;\n",
       "    }\n",
       "\n",
       "    .dataframe tbody tr th {\n",
       "        vertical-align: top;\n",
       "    }\n",
       "\n",
       "    .dataframe thead th {\n",
       "        text-align: right;\n",
       "    }\n",
       "</style>\n",
       "<table border=\"1\" class=\"dataframe\">\n",
       "  <thead>\n",
       "    <tr style=\"text-align: right;\">\n",
       "      <th></th>\n",
       "      <th>0</th>\n",
       "      <th>1</th>\n",
       "      <th>2</th>\n",
       "      <th>3</th>\n",
       "      <th>4</th>\n",
       "    </tr>\n",
       "  </thead>\n",
       "  <tbody>\n",
       "    <tr>\n",
       "      <th>mean_fit_time</th>\n",
       "      <td>0.013915</td>\n",
       "      <td>0.00497063</td>\n",
       "      <td>0.00719778</td>\n",
       "      <td>0.0135431</td>\n",
       "      <td>0.0138378</td>\n",
       "    </tr>\n",
       "    <tr>\n",
       "      <th>std_fit_time</th>\n",
       "      <td>0.00101333</td>\n",
       "      <td>0.000323516</td>\n",
       "      <td>0.000319456</td>\n",
       "      <td>6.49797e-05</td>\n",
       "      <td>0.000109413</td>\n",
       "    </tr>\n",
       "    <tr>\n",
       "      <th>mean_score_time</th>\n",
       "      <td>0.00607069</td>\n",
       "      <td>0.00208569</td>\n",
       "      <td>0.00262062</td>\n",
       "      <td>0.00505781</td>\n",
       "      <td>0.00528701</td>\n",
       "    </tr>\n",
       "    <tr>\n",
       "      <th>std_score_time</th>\n",
       "      <td>0.000439121</td>\n",
       "      <td>6.36403e-05</td>\n",
       "      <td>3.0991e-05</td>\n",
       "      <td>0.00017809</td>\n",
       "      <td>2.29265e-05</td>\n",
       "    </tr>\n",
       "    <tr>\n",
       "      <th>param_gamma</th>\n",
       "      <td>0.0001</td>\n",
       "      <td>0.01</td>\n",
       "      <td>0.1</td>\n",
       "      <td>1</td>\n",
       "      <td>10</td>\n",
       "    </tr>\n",
       "    <tr>\n",
       "      <th>params</th>\n",
       "      <td>{'gamma': 0.0001}</td>\n",
       "      <td>{'gamma': 0.01}</td>\n",
       "      <td>{'gamma': 0.1}</td>\n",
       "      <td>{'gamma': 1}</td>\n",
       "      <td>{'gamma': 10}</td>\n",
       "    </tr>\n",
       "    <tr>\n",
       "      <th>split0_test_accuracy</th>\n",
       "      <td>0.684411</td>\n",
       "      <td>0.931559</td>\n",
       "      <td>0.942966</td>\n",
       "      <td>0.86692</td>\n",
       "      <td>0.547529</td>\n",
       "    </tr>\n",
       "    <tr>\n",
       "      <th>split1_test_accuracy</th>\n",
       "      <td>0.675573</td>\n",
       "      <td>0.896947</td>\n",
       "      <td>0.90458</td>\n",
       "      <td>0.824427</td>\n",
       "      <td>0.538168</td>\n",
       "    </tr>\n",
       "    <tr>\n",
       "      <th>split2_test_accuracy</th>\n",
       "      <td>0.687023</td>\n",
       "      <td>0.927481</td>\n",
       "      <td>0.935115</td>\n",
       "      <td>0.820611</td>\n",
       "      <td>0.545802</td>\n",
       "    </tr>\n",
       "    <tr>\n",
       "      <th>mean_test_accuracy</th>\n",
       "      <td>0.682335</td>\n",
       "      <td>0.918662</td>\n",
       "      <td>0.927553</td>\n",
       "      <td>0.837319</td>\n",
       "      <td>0.543833</td>\n",
       "    </tr>\n",
       "    <tr>\n",
       "      <th>std_test_accuracy</th>\n",
       "      <td>0.00489952</td>\n",
       "      <td>0.0154452</td>\n",
       "      <td>0.0165578</td>\n",
       "      <td>0.0209888</td>\n",
       "      <td>0.00406714</td>\n",
       "    </tr>\n",
       "    <tr>\n",
       "      <th>rank_test_accuracy</th>\n",
       "      <td>4</td>\n",
       "      <td>2</td>\n",
       "      <td>1</td>\n",
       "      <td>3</td>\n",
       "      <td>5</td>\n",
       "    </tr>\n",
       "    <tr>\n",
       "      <th>split0_train_accuracy</th>\n",
       "      <td>0.685115</td>\n",
       "      <td>0.923664</td>\n",
       "      <td>0.969466</td>\n",
       "      <td>1</td>\n",
       "      <td>1</td>\n",
       "    </tr>\n",
       "    <tr>\n",
       "      <th>split1_train_accuracy</th>\n",
       "      <td>0.691429</td>\n",
       "      <td>0.940952</td>\n",
       "      <td>0.975238</td>\n",
       "      <td>1</td>\n",
       "      <td>1</td>\n",
       "    </tr>\n",
       "    <tr>\n",
       "      <th>split2_train_accuracy</th>\n",
       "      <td>0.674286</td>\n",
       "      <td>0.929524</td>\n",
       "      <td>0.96381</td>\n",
       "      <td>1</td>\n",
       "      <td>1</td>\n",
       "    </tr>\n",
       "    <tr>\n",
       "      <th>mean_train_accuracy</th>\n",
       "      <td>0.68361</td>\n",
       "      <td>0.93138</td>\n",
       "      <td>0.969504</td>\n",
       "      <td>1</td>\n",
       "      <td>1</td>\n",
       "    </tr>\n",
       "    <tr>\n",
       "      <th>std_train_accuracy</th>\n",
       "      <td>0.00707898</td>\n",
       "      <td>0.00717892</td>\n",
       "      <td>0.00466578</td>\n",
       "      <td>0</td>\n",
       "      <td>0</td>\n",
       "    </tr>\n",
       "  </tbody>\n",
       "</table>\n",
       "</div>"
      ],
      "text/plain": [
       "                                       0                1               2  \\\n",
       "mean_fit_time                   0.013915       0.00497063      0.00719778   \n",
       "std_fit_time                  0.00101333      0.000323516     0.000319456   \n",
       "mean_score_time               0.00607069       0.00208569      0.00262062   \n",
       "std_score_time               0.000439121      6.36403e-05      3.0991e-05   \n",
       "param_gamma                       0.0001             0.01             0.1   \n",
       "params                 {'gamma': 0.0001}  {'gamma': 0.01}  {'gamma': 0.1}   \n",
       "split0_test_accuracy            0.684411         0.931559        0.942966   \n",
       "split1_test_accuracy            0.675573         0.896947         0.90458   \n",
       "split2_test_accuracy            0.687023         0.927481        0.935115   \n",
       "mean_test_accuracy              0.682335         0.918662        0.927553   \n",
       "std_test_accuracy             0.00489952        0.0154452       0.0165578   \n",
       "rank_test_accuracy                     4                2               1   \n",
       "split0_train_accuracy           0.685115         0.923664        0.969466   \n",
       "split1_train_accuracy           0.691429         0.940952        0.975238   \n",
       "split2_train_accuracy           0.674286         0.929524         0.96381   \n",
       "mean_train_accuracy              0.68361          0.93138        0.969504   \n",
       "std_train_accuracy            0.00707898       0.00717892      0.00466578   \n",
       "\n",
       "                                  3              4  \n",
       "mean_fit_time             0.0135431      0.0138378  \n",
       "std_fit_time            6.49797e-05    0.000109413  \n",
       "mean_score_time          0.00505781     0.00528701  \n",
       "std_score_time           0.00017809    2.29265e-05  \n",
       "param_gamma                       1             10  \n",
       "params                 {'gamma': 1}  {'gamma': 10}  \n",
       "split0_test_accuracy        0.86692       0.547529  \n",
       "split1_test_accuracy       0.824427       0.538168  \n",
       "split2_test_accuracy       0.820611       0.545802  \n",
       "mean_test_accuracy         0.837319       0.543833  \n",
       "std_test_accuracy         0.0209888     0.00406714  \n",
       "rank_test_accuracy                3              5  \n",
       "split0_train_accuracy             1              1  \n",
       "split1_train_accuracy             1              1  \n",
       "split2_train_accuracy             1              1  \n",
       "mean_train_accuracy               1              1  \n",
       "std_train_accuracy                0              0  "
      ]
     },
     "execution_count": 292,
     "metadata": {},
     "output_type": "execute_result"
    }
   ],
   "source": [
    "# gamma 가 0.1 일 때, mean_test_accuracy 가 가장 높음\n",
    "np.transpose(pd.DataFrame(grid.cv_results_))"
   ]
  },
  {
   "cell_type": "code",
   "execution_count": null,
   "metadata": {},
   "outputs": [],
   "source": []
  },
  {
   "cell_type": "code",
   "execution_count": null,
   "metadata": {},
   "outputs": [],
   "source": []
  },
  {
   "cell_type": "code",
   "execution_count": null,
   "metadata": {},
   "outputs": [],
   "source": []
  },
  {
   "cell_type": "code",
   "execution_count": null,
   "metadata": {},
   "outputs": [],
   "source": []
  }
 ],
 "metadata": {
  "file_extension": ".py",
  "kernelspec": {
   "display_name": "Python 3",
   "language": "python",
   "name": "python3"
  },
  "language_info": {
   "codemirror_mode": {
    "name": "ipython",
    "version": 3
   },
   "file_extension": ".py",
   "mimetype": "text/x-python",
   "name": "python",
   "nbconvert_exporter": "python",
   "pygments_lexer": "ipython3",
   "version": "3.7.6"
  },
  "mimetype": "text/x-python",
  "name": "python",
  "npconvert_exporter": "python",
  "pygments_lexer": "ipython3",
  "version": 3
 },
 "nbformat": 4,
 "nbformat_minor": 4
}
