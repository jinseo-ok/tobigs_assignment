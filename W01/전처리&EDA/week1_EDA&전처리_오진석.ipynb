{
 "cells": [
  {
   "cell_type": "code",
   "execution_count": 3,
   "metadata": {
    "Collapsed": "false"
   },
   "outputs": [],
   "source": [
    "import numpy as np\n",
    "import pandas as pd\n",
    "import matplotlib.pyplot as plt\n",
    "import seaborn as sns"
   ]
  },
  {
   "cell_type": "code",
   "execution_count": 5,
   "metadata": {
    "Collapsed": "false"
   },
   "outputs": [],
   "source": [
    "# Auction_master_train.csv – 서울/부산 지역의 낙찰가를 포함하여 경매 물건 아파트의 위치, 감정가, 경매 개시/종결일 등의 기본 정보(*최근2년)\n",
    "df = pd.read_csv('./Auction_master_train.csv')"
   ]
  },
  {
   "cell_type": "markdown",
   "metadata": {
    "Collapsed": "false"
   },
   "source": [
    "# 1. 전처리\n",
    "\n",
    "## 1-1. 데이터 탐색"
   ]
  },
  {
   "cell_type": "code",
   "execution_count": 6,
   "metadata": {
    "Collapsed": "false"
   },
   "outputs": [
    {
     "data": {
      "text/html": [
       "<div>\n",
       "<style scoped>\n",
       "    .dataframe tbody tr th:only-of-type {\n",
       "        vertical-align: middle;\n",
       "    }\n",
       "\n",
       "    .dataframe tbody tr th {\n",
       "        vertical-align: top;\n",
       "    }\n",
       "\n",
       "    .dataframe thead th {\n",
       "        text-align: right;\n",
       "    }\n",
       "</style>\n",
       "<table border=\"1\" class=\"dataframe\">\n",
       "  <thead>\n",
       "    <tr style=\"text-align: right;\">\n",
       "      <th></th>\n",
       "      <th>Auction_key</th>\n",
       "      <th>Auction_class</th>\n",
       "      <th>Bid_class</th>\n",
       "      <th>Claim_price</th>\n",
       "      <th>Appraisal_company</th>\n",
       "      <th>Appraisal_date</th>\n",
       "      <th>Auction_count</th>\n",
       "      <th>Auction_miscarriage_count</th>\n",
       "      <th>Total_land_gross_area</th>\n",
       "      <th>Total_land_real_area</th>\n",
       "      <th>...</th>\n",
       "      <th>Specific</th>\n",
       "      <th>Share_auction_YorN</th>\n",
       "      <th>road_name</th>\n",
       "      <th>road_bunji1</th>\n",
       "      <th>road_bunji2</th>\n",
       "      <th>Close_date</th>\n",
       "      <th>Close_result</th>\n",
       "      <th>point.y</th>\n",
       "      <th>point.x</th>\n",
       "      <th>Hammer_price</th>\n",
       "    </tr>\n",
       "  </thead>\n",
       "  <tbody>\n",
       "    <tr>\n",
       "      <th>0</th>\n",
       "      <td>2687</td>\n",
       "      <td>임의</td>\n",
       "      <td>개별</td>\n",
       "      <td>1766037301</td>\n",
       "      <td>정명감정</td>\n",
       "      <td>2017-07-26 00:00:00</td>\n",
       "      <td>2</td>\n",
       "      <td>1</td>\n",
       "      <td>12592.0</td>\n",
       "      <td>37.35</td>\n",
       "      <td>...</td>\n",
       "      <td>NaN</td>\n",
       "      <td>N</td>\n",
       "      <td>해운대해변로</td>\n",
       "      <td>30.0</td>\n",
       "      <td>NaN</td>\n",
       "      <td>2018-06-14 00:00:00</td>\n",
       "      <td>배당</td>\n",
       "      <td>35.162717</td>\n",
       "      <td>129.137048</td>\n",
       "      <td>760000000</td>\n",
       "    </tr>\n",
       "    <tr>\n",
       "      <th>1</th>\n",
       "      <td>2577</td>\n",
       "      <td>임의</td>\n",
       "      <td>일반</td>\n",
       "      <td>152946867</td>\n",
       "      <td>희감정</td>\n",
       "      <td>2016-09-12 00:00:00</td>\n",
       "      <td>2</td>\n",
       "      <td>1</td>\n",
       "      <td>42478.1</td>\n",
       "      <td>18.76</td>\n",
       "      <td>...</td>\n",
       "      <td>NaN</td>\n",
       "      <td>N</td>\n",
       "      <td>마린시티2로</td>\n",
       "      <td>33.0</td>\n",
       "      <td>NaN</td>\n",
       "      <td>2017-03-30 00:00:00</td>\n",
       "      <td>배당</td>\n",
       "      <td>35.156633</td>\n",
       "      <td>129.145068</td>\n",
       "      <td>971889999</td>\n",
       "    </tr>\n",
       "    <tr>\n",
       "      <th>2</th>\n",
       "      <td>2197</td>\n",
       "      <td>임의</td>\n",
       "      <td>개별</td>\n",
       "      <td>11326510</td>\n",
       "      <td>혜림감정</td>\n",
       "      <td>2016-11-22 00:00:00</td>\n",
       "      <td>3</td>\n",
       "      <td>2</td>\n",
       "      <td>149683.1</td>\n",
       "      <td>71.00</td>\n",
       "      <td>...</td>\n",
       "      <td>NaN</td>\n",
       "      <td>N</td>\n",
       "      <td>모라로110번길</td>\n",
       "      <td>88.0</td>\n",
       "      <td>NaN</td>\n",
       "      <td>2017-12-13 00:00:00</td>\n",
       "      <td>배당</td>\n",
       "      <td>35.184601</td>\n",
       "      <td>128.996765</td>\n",
       "      <td>93399999</td>\n",
       "    </tr>\n",
       "    <tr>\n",
       "      <th>3</th>\n",
       "      <td>2642</td>\n",
       "      <td>임의</td>\n",
       "      <td>일반</td>\n",
       "      <td>183581724</td>\n",
       "      <td>신라감정</td>\n",
       "      <td>2016-12-13 00:00:00</td>\n",
       "      <td>2</td>\n",
       "      <td>1</td>\n",
       "      <td>24405.0</td>\n",
       "      <td>32.98</td>\n",
       "      <td>...</td>\n",
       "      <td>NaN</td>\n",
       "      <td>N</td>\n",
       "      <td>황령대로319번가길</td>\n",
       "      <td>110.0</td>\n",
       "      <td>NaN</td>\n",
       "      <td>2017-12-27 00:00:00</td>\n",
       "      <td>배당</td>\n",
       "      <td>35.154180</td>\n",
       "      <td>129.089081</td>\n",
       "      <td>256899000</td>\n",
       "    </tr>\n",
       "    <tr>\n",
       "      <th>4</th>\n",
       "      <td>1958</td>\n",
       "      <td>강제</td>\n",
       "      <td>일반</td>\n",
       "      <td>45887671</td>\n",
       "      <td>나라감정</td>\n",
       "      <td>2016-03-07 00:00:00</td>\n",
       "      <td>2</td>\n",
       "      <td>1</td>\n",
       "      <td>774.0</td>\n",
       "      <td>45.18</td>\n",
       "      <td>...</td>\n",
       "      <td>NaN</td>\n",
       "      <td>N</td>\n",
       "      <td>오작로</td>\n",
       "      <td>51.0</td>\n",
       "      <td>NaN</td>\n",
       "      <td>2016-10-04 00:00:00</td>\n",
       "      <td>배당</td>\n",
       "      <td>35.099630</td>\n",
       "      <td>128.998874</td>\n",
       "      <td>158660000</td>\n",
       "    </tr>\n",
       "  </tbody>\n",
       "</table>\n",
       "<p>5 rows × 41 columns</p>\n",
       "</div>"
      ],
      "text/plain": [
       "   Auction_key Auction_class Bid_class  Claim_price Appraisal_company  \\\n",
       "0         2687            임의        개별   1766037301              정명감정   \n",
       "1         2577            임의        일반    152946867               희감정   \n",
       "2         2197            임의        개별     11326510              혜림감정   \n",
       "3         2642            임의        일반    183581724              신라감정   \n",
       "4         1958            강제        일반     45887671              나라감정   \n",
       "\n",
       "        Appraisal_date  Auction_count  Auction_miscarriage_count  \\\n",
       "0  2017-07-26 00:00:00              2                          1   \n",
       "1  2016-09-12 00:00:00              2                          1   \n",
       "2  2016-11-22 00:00:00              3                          2   \n",
       "3  2016-12-13 00:00:00              2                          1   \n",
       "4  2016-03-07 00:00:00              2                          1   \n",
       "\n",
       "   Total_land_gross_area  Total_land_real_area  ...  Specific  \\\n",
       "0                12592.0                 37.35  ...       NaN   \n",
       "1                42478.1                 18.76  ...       NaN   \n",
       "2               149683.1                 71.00  ...       NaN   \n",
       "3                24405.0                 32.98  ...       NaN   \n",
       "4                  774.0                 45.18  ...       NaN   \n",
       "\n",
       "   Share_auction_YorN   road_name  road_bunji1  road_bunji2  \\\n",
       "0                   N      해운대해변로         30.0          NaN   \n",
       "1                   N      마린시티2로         33.0          NaN   \n",
       "2                   N    모라로110번길         88.0          NaN   \n",
       "3                   N  황령대로319번가길        110.0          NaN   \n",
       "4                   N         오작로         51.0          NaN   \n",
       "\n",
       "            Close_date Close_result    point.y     point.x Hammer_price  \n",
       "0  2018-06-14 00:00:00           배당  35.162717  129.137048    760000000  \n",
       "1  2017-03-30 00:00:00           배당  35.156633  129.145068    971889999  \n",
       "2  2017-12-13 00:00:00           배당  35.184601  128.996765     93399999  \n",
       "3  2017-12-27 00:00:00           배당  35.154180  129.089081    256899000  \n",
       "4  2016-10-04 00:00:00           배당  35.099630  128.998874    158660000  \n",
       "\n",
       "[5 rows x 41 columns]"
      ]
     },
     "execution_count": 6,
     "metadata": {},
     "output_type": "execute_result"
    }
   ],
   "source": [
    "df.head()"
   ]
  },
  {
   "cell_type": "code",
   "execution_count": 7,
   "metadata": {
    "Collapsed": "false"
   },
   "outputs": [
    {
     "name": "stdout",
     "output_type": "stream",
     "text": [
      "<class 'pandas.core.frame.DataFrame'>\n",
      "RangeIndex: 1933 entries, 0 to 1932\n",
      "Data columns (total 41 columns):\n",
      "Auction_key                    1933 non-null int64\n",
      "Auction_class                  1933 non-null object\n",
      "Bid_class                      1933 non-null object\n",
      "Claim_price                    1933 non-null int64\n",
      "Appraisal_company              1933 non-null object\n",
      "Appraisal_date                 1933 non-null object\n",
      "Auction_count                  1933 non-null int64\n",
      "Auction_miscarriage_count      1933 non-null int64\n",
      "Total_land_gross_area          1933 non-null float64\n",
      "Total_land_real_area           1933 non-null float64\n",
      "Total_land_auction_area        1933 non-null float64\n",
      "Total_building_area            1933 non-null float64\n",
      "Total_building_auction_area    1933 non-null float64\n",
      "Total_appraisal_price          1933 non-null int64\n",
      "Minimum_sales_price            1933 non-null int64\n",
      "First_auction_date             1933 non-null object\n",
      "Final_auction_date             1933 non-null object\n",
      "Final_result                   1933 non-null object\n",
      "Creditor                       1933 non-null object\n",
      "addr_do                        1933 non-null object\n",
      "addr_si                        1933 non-null object\n",
      "addr_dong                      1933 non-null object\n",
      "addr_li                        23 non-null object\n",
      "addr_san                       1933 non-null object\n",
      "addr_bunji1                    1929 non-null float64\n",
      "addr_bunji2                    889 non-null float64\n",
      "addr_etc                       1933 non-null object\n",
      "Apartment_usage                1933 non-null object\n",
      "Preserve_regist_date           1933 non-null object\n",
      "Total_floor                    1933 non-null int64\n",
      "Current_floor                  1933 non-null int64\n",
      "Specific                       64 non-null object\n",
      "Share_auction_YorN             1933 non-null object\n",
      "road_name                      1933 non-null object\n",
      "road_bunji1                    1909 non-null float64\n",
      "road_bunji2                    155 non-null float64\n",
      "Close_date                     1933 non-null object\n",
      "Close_result                   1933 non-null object\n",
      "point.y                        1933 non-null float64\n",
      "point.x                        1933 non-null float64\n",
      "Hammer_price                   1933 non-null int64\n",
      "dtypes: float64(11), int64(9), object(21)\n",
      "memory usage: 619.3+ KB\n"
     ]
    }
   ],
   "source": [
    "#데이터 구조 확인\n",
    "df.info()"
   ]
  },
  {
   "cell_type": "code",
   "execution_count": 8,
   "metadata": {
    "Collapsed": "false"
   },
   "outputs": [
    {
     "data": {
      "text/html": [
       "<div>\n",
       "<style scoped>\n",
       "    .dataframe tbody tr th:only-of-type {\n",
       "        vertical-align: middle;\n",
       "    }\n",
       "\n",
       "    .dataframe tbody tr th {\n",
       "        vertical-align: top;\n",
       "    }\n",
       "\n",
       "    .dataframe thead th {\n",
       "        text-align: right;\n",
       "    }\n",
       "</style>\n",
       "<table border=\"1\" class=\"dataframe\">\n",
       "  <thead>\n",
       "    <tr style=\"text-align: right;\">\n",
       "      <th></th>\n",
       "      <th>Auction_key</th>\n",
       "      <th>Claim_price</th>\n",
       "      <th>Auction_count</th>\n",
       "      <th>Auction_miscarriage_count</th>\n",
       "      <th>Total_land_gross_area</th>\n",
       "      <th>Total_land_real_area</th>\n",
       "      <th>Total_land_auction_area</th>\n",
       "      <th>Total_building_area</th>\n",
       "      <th>Total_building_auction_area</th>\n",
       "      <th>Total_appraisal_price</th>\n",
       "      <th>Minimum_sales_price</th>\n",
       "      <th>addr_bunji1</th>\n",
       "      <th>addr_bunji2</th>\n",
       "      <th>Total_floor</th>\n",
       "      <th>Current_floor</th>\n",
       "      <th>road_bunji1</th>\n",
       "      <th>road_bunji2</th>\n",
       "      <th>point.y</th>\n",
       "      <th>point.x</th>\n",
       "      <th>Hammer_price</th>\n",
       "    </tr>\n",
       "  </thead>\n",
       "  <tbody>\n",
       "    <tr>\n",
       "      <th>count</th>\n",
       "      <td>1933.000000</td>\n",
       "      <td>1.933000e+03</td>\n",
       "      <td>1933.000000</td>\n",
       "      <td>1933.000000</td>\n",
       "      <td>1.933000e+03</td>\n",
       "      <td>1933.000000</td>\n",
       "      <td>1933.000000</td>\n",
       "      <td>1933.000000</td>\n",
       "      <td>1933.000000</td>\n",
       "      <td>1.933000e+03</td>\n",
       "      <td>1.933000e+03</td>\n",
       "      <td>1929.000000</td>\n",
       "      <td>889.000000</td>\n",
       "      <td>1933.000000</td>\n",
       "      <td>1933.000000</td>\n",
       "      <td>1909.000000</td>\n",
       "      <td>155.000000</td>\n",
       "      <td>1933.000000</td>\n",
       "      <td>1933.000000</td>\n",
       "      <td>1.933000e+03</td>\n",
       "    </tr>\n",
       "    <tr>\n",
       "      <th>mean</th>\n",
       "      <td>1380.271081</td>\n",
       "      <td>3.703908e+08</td>\n",
       "      <td>1.836006</td>\n",
       "      <td>0.788412</td>\n",
       "      <td>3.458714e+04</td>\n",
       "      <td>42.333802</td>\n",
       "      <td>41.310776</td>\n",
       "      <td>96.417693</td>\n",
       "      <td>94.148810</td>\n",
       "      <td>4.973592e+08</td>\n",
       "      <td>4.155955e+08</td>\n",
       "      <td>601.952307</td>\n",
       "      <td>22.742407</td>\n",
       "      <td>16.980859</td>\n",
       "      <td>8.817900</td>\n",
       "      <td>127.441069</td>\n",
       "      <td>12.748387</td>\n",
       "      <td>36.698018</td>\n",
       "      <td>127.731667</td>\n",
       "      <td>4.726901e+08</td>\n",
       "    </tr>\n",
       "    <tr>\n",
       "      <th>std</th>\n",
       "      <td>801.670470</td>\n",
       "      <td>1.337869e+09</td>\n",
       "      <td>0.938319</td>\n",
       "      <td>0.831715</td>\n",
       "      <td>9.442101e+04</td>\n",
       "      <td>65.274404</td>\n",
       "      <td>65.385900</td>\n",
       "      <td>106.323240</td>\n",
       "      <td>106.845985</td>\n",
       "      <td>7.873851e+08</td>\n",
       "      <td>5.030312e+08</td>\n",
       "      <td>554.119824</td>\n",
       "      <td>67.000807</td>\n",
       "      <td>9.509021</td>\n",
       "      <td>8.044644</td>\n",
       "      <td>188.394217</td>\n",
       "      <td>10.735663</td>\n",
       "      <td>1.150269</td>\n",
       "      <td>0.993055</td>\n",
       "      <td>5.574493e+08</td>\n",
       "    </tr>\n",
       "    <tr>\n",
       "      <th>min</th>\n",
       "      <td>1.000000</td>\n",
       "      <td>0.000000e+00</td>\n",
       "      <td>1.000000</td>\n",
       "      <td>0.000000</td>\n",
       "      <td>0.000000e+00</td>\n",
       "      <td>0.000000</td>\n",
       "      <td>0.000000</td>\n",
       "      <td>9.390000</td>\n",
       "      <td>1.500000</td>\n",
       "      <td>4.285000e+06</td>\n",
       "      <td>4.285000e+06</td>\n",
       "      <td>1.000000</td>\n",
       "      <td>1.000000</td>\n",
       "      <td>3.000000</td>\n",
       "      <td>0.000000</td>\n",
       "      <td>1.000000</td>\n",
       "      <td>1.000000</td>\n",
       "      <td>35.051385</td>\n",
       "      <td>126.809393</td>\n",
       "      <td>6.303000e+06</td>\n",
       "    </tr>\n",
       "    <tr>\n",
       "      <th>25%</th>\n",
       "      <td>691.000000</td>\n",
       "      <td>7.746112e+07</td>\n",
       "      <td>1.000000</td>\n",
       "      <td>0.000000</td>\n",
       "      <td>2.997000e+03</td>\n",
       "      <td>25.870000</td>\n",
       "      <td>24.570000</td>\n",
       "      <td>61.520000</td>\n",
       "      <td>59.970000</td>\n",
       "      <td>2.090000e+08</td>\n",
       "      <td>1.750000e+08</td>\n",
       "      <td>189.000000</td>\n",
       "      <td>1.000000</td>\n",
       "      <td>12.000000</td>\n",
       "      <td>3.000000</td>\n",
       "      <td>24.000000</td>\n",
       "      <td>5.000000</td>\n",
       "      <td>35.188590</td>\n",
       "      <td>126.959167</td>\n",
       "      <td>1.975550e+08</td>\n",
       "    </tr>\n",
       "    <tr>\n",
       "      <th>50%</th>\n",
       "      <td>1395.000000</td>\n",
       "      <td>1.728143e+08</td>\n",
       "      <td>2.000000</td>\n",
       "      <td>1.000000</td>\n",
       "      <td>1.424140e+04</td>\n",
       "      <td>37.510000</td>\n",
       "      <td>36.790000</td>\n",
       "      <td>84.900000</td>\n",
       "      <td>84.860000</td>\n",
       "      <td>3.600000e+08</td>\n",
       "      <td>3.120000e+08</td>\n",
       "      <td>482.000000</td>\n",
       "      <td>5.000000</td>\n",
       "      <td>15.000000</td>\n",
       "      <td>7.000000</td>\n",
       "      <td>57.000000</td>\n",
       "      <td>9.000000</td>\n",
       "      <td>37.500862</td>\n",
       "      <td>127.065003</td>\n",
       "      <td>3.544500e+08</td>\n",
       "    </tr>\n",
       "    <tr>\n",
       "      <th>75%</th>\n",
       "      <td>2062.000000</td>\n",
       "      <td>3.565089e+08</td>\n",
       "      <td>2.000000</td>\n",
       "      <td>1.000000</td>\n",
       "      <td>4.140310e+04</td>\n",
       "      <td>51.790000</td>\n",
       "      <td>51.320000</td>\n",
       "      <td>114.940000</td>\n",
       "      <td>114.850000</td>\n",
       "      <td>5.720000e+08</td>\n",
       "      <td>4.864000e+08</td>\n",
       "      <td>834.000000</td>\n",
       "      <td>18.000000</td>\n",
       "      <td>21.000000</td>\n",
       "      <td>12.000000</td>\n",
       "      <td>145.000000</td>\n",
       "      <td>17.500000</td>\n",
       "      <td>37.566116</td>\n",
       "      <td>129.018054</td>\n",
       "      <td>5.599000e+08</td>\n",
       "    </tr>\n",
       "    <tr>\n",
       "      <th>max</th>\n",
       "      <td>2762.000000</td>\n",
       "      <td>2.286481e+10</td>\n",
       "      <td>13.000000</td>\n",
       "      <td>9.000000</td>\n",
       "      <td>3.511936e+06</td>\n",
       "      <td>2665.840000</td>\n",
       "      <td>2665.840000</td>\n",
       "      <td>4255.070000</td>\n",
       "      <td>4255.070000</td>\n",
       "      <td>2.777500e+10</td>\n",
       "      <td>1.422080e+10</td>\n",
       "      <td>4937.000000</td>\n",
       "      <td>1414.000000</td>\n",
       "      <td>80.000000</td>\n",
       "      <td>65.000000</td>\n",
       "      <td>1716.000000</td>\n",
       "      <td>55.000000</td>\n",
       "      <td>37.685575</td>\n",
       "      <td>129.255872</td>\n",
       "      <td>1.515100e+10</td>\n",
       "    </tr>\n",
       "  </tbody>\n",
       "</table>\n",
       "</div>"
      ],
      "text/plain": [
       "       Auction_key   Claim_price  Auction_count  Auction_miscarriage_count  \\\n",
       "count  1933.000000  1.933000e+03    1933.000000                1933.000000   \n",
       "mean   1380.271081  3.703908e+08       1.836006                   0.788412   \n",
       "std     801.670470  1.337869e+09       0.938319                   0.831715   \n",
       "min       1.000000  0.000000e+00       1.000000                   0.000000   \n",
       "25%     691.000000  7.746112e+07       1.000000                   0.000000   \n",
       "50%    1395.000000  1.728143e+08       2.000000                   1.000000   \n",
       "75%    2062.000000  3.565089e+08       2.000000                   1.000000   \n",
       "max    2762.000000  2.286481e+10      13.000000                   9.000000   \n",
       "\n",
       "       Total_land_gross_area  Total_land_real_area  Total_land_auction_area  \\\n",
       "count           1.933000e+03           1933.000000              1933.000000   \n",
       "mean            3.458714e+04             42.333802                41.310776   \n",
       "std             9.442101e+04             65.274404                65.385900   \n",
       "min             0.000000e+00              0.000000                 0.000000   \n",
       "25%             2.997000e+03             25.870000                24.570000   \n",
       "50%             1.424140e+04             37.510000                36.790000   \n",
       "75%             4.140310e+04             51.790000                51.320000   \n",
       "max             3.511936e+06           2665.840000              2665.840000   \n",
       "\n",
       "       Total_building_area  Total_building_auction_area  \\\n",
       "count          1933.000000                  1933.000000   \n",
       "mean             96.417693                    94.148810   \n",
       "std             106.323240                   106.845985   \n",
       "min               9.390000                     1.500000   \n",
       "25%              61.520000                    59.970000   \n",
       "50%              84.900000                    84.860000   \n",
       "75%             114.940000                   114.850000   \n",
       "max            4255.070000                  4255.070000   \n",
       "\n",
       "       Total_appraisal_price  Minimum_sales_price  addr_bunji1  addr_bunji2  \\\n",
       "count           1.933000e+03         1.933000e+03  1929.000000   889.000000   \n",
       "mean            4.973592e+08         4.155955e+08   601.952307    22.742407   \n",
       "std             7.873851e+08         5.030312e+08   554.119824    67.000807   \n",
       "min             4.285000e+06         4.285000e+06     1.000000     1.000000   \n",
       "25%             2.090000e+08         1.750000e+08   189.000000     1.000000   \n",
       "50%             3.600000e+08         3.120000e+08   482.000000     5.000000   \n",
       "75%             5.720000e+08         4.864000e+08   834.000000    18.000000   \n",
       "max             2.777500e+10         1.422080e+10  4937.000000  1414.000000   \n",
       "\n",
       "       Total_floor  Current_floor  road_bunji1  road_bunji2      point.y  \\\n",
       "count  1933.000000    1933.000000  1909.000000   155.000000  1933.000000   \n",
       "mean     16.980859       8.817900   127.441069    12.748387    36.698018   \n",
       "std       9.509021       8.044644   188.394217    10.735663     1.150269   \n",
       "min       3.000000       0.000000     1.000000     1.000000    35.051385   \n",
       "25%      12.000000       3.000000    24.000000     5.000000    35.188590   \n",
       "50%      15.000000       7.000000    57.000000     9.000000    37.500862   \n",
       "75%      21.000000      12.000000   145.000000    17.500000    37.566116   \n",
       "max      80.000000      65.000000  1716.000000    55.000000    37.685575   \n",
       "\n",
       "           point.x  Hammer_price  \n",
       "count  1933.000000  1.933000e+03  \n",
       "mean    127.731667  4.726901e+08  \n",
       "std       0.993055  5.574493e+08  \n",
       "min     126.809393  6.303000e+06  \n",
       "25%     126.959167  1.975550e+08  \n",
       "50%     127.065003  3.544500e+08  \n",
       "75%     129.018054  5.599000e+08  \n",
       "max     129.255872  1.515100e+10  "
      ]
     },
     "execution_count": 8,
     "metadata": {},
     "output_type": "execute_result"
    }
   ],
   "source": [
    "# 데이터의 요약 통계 확인\n",
    "df.describe()"
   ]
  },
  {
   "cell_type": "markdown",
   "metadata": {
    "Collapsed": "false"
   },
   "source": [
    "## 1-2. 데이터 전처리\n",
    "   - 결측값 열 제거"
   ]
  },
  {
   "cell_type": "code",
   "execution_count": 9,
   "metadata": {
    "Collapsed": "false"
   },
   "outputs": [
    {
     "data": {
      "text/plain": [
       "Auction_key                       0\n",
       "Auction_class                     0\n",
       "Bid_class                         0\n",
       "Claim_price                       0\n",
       "Appraisal_company                 0\n",
       "Appraisal_date                    0\n",
       "Auction_count                     0\n",
       "Auction_miscarriage_count         0\n",
       "Total_land_gross_area             0\n",
       "Total_land_real_area              0\n",
       "Total_land_auction_area           0\n",
       "Total_building_area               0\n",
       "Total_building_auction_area       0\n",
       "Total_appraisal_price             0\n",
       "Minimum_sales_price               0\n",
       "First_auction_date                0\n",
       "Final_auction_date                0\n",
       "Final_result                      0\n",
       "Creditor                          0\n",
       "addr_do                           0\n",
       "addr_si                           0\n",
       "addr_dong                         0\n",
       "addr_li                        1910\n",
       "addr_san                          0\n",
       "addr_bunji1                       4\n",
       "addr_bunji2                    1044\n",
       "addr_etc                          0\n",
       "Apartment_usage                   0\n",
       "Preserve_regist_date              0\n",
       "Total_floor                       0\n",
       "Current_floor                     0\n",
       "Specific                       1869\n",
       "Share_auction_YorN                0\n",
       "road_name                         0\n",
       "road_bunji1                      24\n",
       "road_bunji2                    1778\n",
       "Close_date                        0\n",
       "Close_result                      0\n",
       "point.y                           0\n",
       "point.x                           0\n",
       "Hammer_price                      0\n",
       "dtype: int64"
      ]
     },
     "execution_count": 9,
     "metadata": {},
     "output_type": "execute_result"
    }
   ],
   "source": [
    "#결측값 열 확인\n",
    "#결측값 존재 열 6개 -> ['addr_li', 'addr_bunji1', 'addr_bunji2', 'Specific', 'road_bunji1','road_bunji2']\n",
    "df.isnull().sum(axis=0)"
   ]
  },
  {
   "cell_type": "code",
   "execution_count": 10,
   "metadata": {
    "Collapsed": "false"
   },
   "outputs": [
    {
     "name": "stdout",
     "output_type": "stream",
     "text": [
      "41\n",
      "35\n"
     ]
    }
   ],
   "source": [
    "#결측값 열 제거\n",
    "#6개 열 제거, 열 개수 41 -> 35\n",
    "print(len(df.columns))\n",
    "df = df.dropna(axis=1)\n",
    "print(len(df.columns))\n"
   ]
  },
  {
   "cell_type": "code",
   "execution_count": 11,
   "metadata": {
    "Collapsed": "false"
   },
   "outputs": [
    {
     "name": "stdout",
     "output_type": "stream",
     "text": [
      "<class 'pandas.core.frame.DataFrame'>\n",
      "RangeIndex: 1933 entries, 0 to 1932\n",
      "Data columns (total 35 columns):\n",
      "Auction_key                    1933 non-null int64\n",
      "Auction_class                  1933 non-null object\n",
      "Bid_class                      1933 non-null object\n",
      "Claim_price                    1933 non-null int64\n",
      "Appraisal_company              1933 non-null object\n",
      "Appraisal_date                 1933 non-null object\n",
      "Auction_count                  1933 non-null int64\n",
      "Auction_miscarriage_count      1933 non-null int64\n",
      "Total_land_gross_area          1933 non-null float64\n",
      "Total_land_real_area           1933 non-null float64\n",
      "Total_land_auction_area        1933 non-null float64\n",
      "Total_building_area            1933 non-null float64\n",
      "Total_building_auction_area    1933 non-null float64\n",
      "Total_appraisal_price          1933 non-null int64\n",
      "Minimum_sales_price            1933 non-null int64\n",
      "First_auction_date             1933 non-null object\n",
      "Final_auction_date             1933 non-null object\n",
      "Final_result                   1933 non-null object\n",
      "Creditor                       1933 non-null object\n",
      "addr_do                        1933 non-null object\n",
      "addr_si                        1933 non-null object\n",
      "addr_dong                      1933 non-null object\n",
      "addr_san                       1933 non-null object\n",
      "addr_etc                       1933 non-null object\n",
      "Apartment_usage                1933 non-null object\n",
      "Preserve_regist_date           1933 non-null object\n",
      "Total_floor                    1933 non-null int64\n",
      "Current_floor                  1933 non-null int64\n",
      "Share_auction_YorN             1933 non-null object\n",
      "road_name                      1933 non-null object\n",
      "Close_date                     1933 non-null object\n",
      "Close_result                   1933 non-null object\n",
      "point.y                        1933 non-null float64\n",
      "point.x                        1933 non-null float64\n",
      "Hammer_price                   1933 non-null int64\n",
      "dtypes: float64(7), int64(9), object(19)\n",
      "memory usage: 528.7+ KB\n"
     ]
    }
   ],
   "source": [
    "df.info()"
   ]
  },
  {
   "cell_type": "markdown",
   "metadata": {
    "Collapsed": "false"
   },
   "source": [
    "# 2. EDA\n",
    "\n",
    "## 2-1. 연속형 변수 간 상관관계 Heatmap"
   ]
  },
  {
   "cell_type": "code",
   "execution_count": 12,
   "metadata": {
    "Collapsed": "false"
   },
   "outputs": [],
   "source": [
    "#변수 데이터 타입 확인 후\n",
    "#object가 아닌 칼럼만 추출\n",
    "num_cols = []\n",
    "for column in df.columns:\n",
    "    column_type = df[column].dtype\n",
    "    if column_type != object:\n",
    "        num_cols.append(column)\n"
   ]
  },
  {
   "cell_type": "code",
   "execution_count": 13,
   "metadata": {
    "Collapsed": "false"
   },
   "outputs": [],
   "source": [
    "#빈 데이터프레임 생성\n",
    "#추출된 칼럼 데이터프레임 생성\n",
    "df_num = pd.DataFrame()\n",
    "\n",
    "for column in num_cols:\n",
    "    df_num = pd.concat([df_num, df[[column]]], axis = 1)"
   ]
  },
  {
   "cell_type": "code",
   "execution_count": 14,
   "metadata": {
    "Collapsed": "false"
   },
   "outputs": [
    {
     "name": "stdout",
     "output_type": "stream",
     "text": [
      "<class 'pandas.core.frame.DataFrame'>\n",
      "RangeIndex: 1933 entries, 0 to 1932\n",
      "Data columns (total 16 columns):\n",
      "Auction_key                    1933 non-null int64\n",
      "Claim_price                    1933 non-null int64\n",
      "Auction_count                  1933 non-null int64\n",
      "Auction_miscarriage_count      1933 non-null int64\n",
      "Total_land_gross_area          1933 non-null float64\n",
      "Total_land_real_area           1933 non-null float64\n",
      "Total_land_auction_area        1933 non-null float64\n",
      "Total_building_area            1933 non-null float64\n",
      "Total_building_auction_area    1933 non-null float64\n",
      "Total_appraisal_price          1933 non-null int64\n",
      "Minimum_sales_price            1933 non-null int64\n",
      "Total_floor                    1933 non-null int64\n",
      "Current_floor                  1933 non-null int64\n",
      "point.y                        1933 non-null float64\n",
      "point.x                        1933 non-null float64\n",
      "Hammer_price                   1933 non-null int64\n",
      "dtypes: float64(7), int64(9)\n",
      "memory usage: 241.8 KB\n"
     ]
    }
   ],
   "source": [
    "df_num.info()"
   ]
  },
  {
   "cell_type": "code",
   "execution_count": 15,
   "metadata": {
    "Collapsed": "false"
   },
   "outputs": [],
   "source": [
    "#한번에 하는 방법 찾음 ._.\n",
    "num_cols = df._get_numeric_data().columns\n",
    "df_num = df[num_cols]"
   ]
  },
  {
   "cell_type": "code",
   "execution_count": 16,
   "metadata": {
    "Collapsed": "false"
   },
   "outputs": [
    {
     "name": "stdout",
     "output_type": "stream",
     "text": [
      "<class 'pandas.core.frame.DataFrame'>\n",
      "RangeIndex: 1933 entries, 0 to 1932\n",
      "Data columns (total 16 columns):\n",
      "Auction_key                    1933 non-null int64\n",
      "Claim_price                    1933 non-null int64\n",
      "Auction_count                  1933 non-null int64\n",
      "Auction_miscarriage_count      1933 non-null int64\n",
      "Total_land_gross_area          1933 non-null float64\n",
      "Total_land_real_area           1933 non-null float64\n",
      "Total_land_auction_area        1933 non-null float64\n",
      "Total_building_area            1933 non-null float64\n",
      "Total_building_auction_area    1933 non-null float64\n",
      "Total_appraisal_price          1933 non-null int64\n",
      "Minimum_sales_price            1933 non-null int64\n",
      "Total_floor                    1933 non-null int64\n",
      "Current_floor                  1933 non-null int64\n",
      "point.y                        1933 non-null float64\n",
      "point.x                        1933 non-null float64\n",
      "Hammer_price                   1933 non-null int64\n",
      "dtypes: float64(7), int64(9)\n",
      "memory usage: 241.8 KB\n"
     ]
    }
   ],
   "source": [
    "df_num.info()"
   ]
  },
  {
   "cell_type": "code",
   "execution_count": 17,
   "metadata": {
    "Collapsed": "false"
   },
   "outputs": [
    {
     "data": {
      "text/plain": [
       "<matplotlib.axes._subplots.AxesSubplot at 0x12f24b410>"
      ]
     },
     "execution_count": 17,
     "metadata": {},
     "output_type": "execute_result"
    },
    {
     "data": {
      "image/png": "[encoded data removed]",
      "text/plain": [
       "<Figure size 432x288 with 2 Axes>"
      ]
     },
     "metadata": {
      "needs_background": "light"
     },
     "output_type": "display_data"
    }
   ],
   "source": [
    "#Heatmap 그리기\n",
    "sns.heatmap(df_num.corr(),cmap='summer')"
   ]
  },
  {
   "cell_type": "markdown",
   "metadata": {
    "Collapsed": "false"
   },
   "source": [
    "## 2-2 연속형 변수 간 Histogram   "
   ]
  },
  {
   "cell_type": "code",
   "execution_count": 18,
   "metadata": {
    "Collapsed": "false"
   },
   "outputs": [
    {
     "data": {
      "image/png": "[encoded data removed]",
      "text/plain": [
       "<Figure size 1440x1080 with 16 Axes>"
      ]
     },
     "metadata": {
      "needs_background": "light"
     },
     "output_type": "display_data"
    }
   ],
   "source": [
    "# 모든 연속형 변수에 대한 히스토그램\n",
    "df_num.hist(bins=30,figsize=(20,15))\n",
    "plt.show()"
   ]
  },
  {
   "cell_type": "markdown",
   "metadata": {
    "Collapsed": "false"
   },
   "source": [
    "## 2-3 시각화"
   ]
  },
  {
   "cell_type": "markdown",
   "metadata": {
    "Collapsed": "false"
   },
   "source": [
    "   - 아파트층수 와 낙찰가\n",
    "   - 낙찰된 월 과 낙찰가\n",
    "   - 낙찰된 계절 과 낙찰가\n",
    "   - 대표용도 와 낙찰가\n",
    "   - 입찰구분 과 낙찰가"
   ]
  },
  {
   "cell_type": "code",
   "execution_count": 19,
   "metadata": {
    "Collapsed": "false"
   },
   "outputs": [],
   "source": [
    "# 그래프에서 한글을 사용하기 위해 한글폰트를 적용\n",
    "# 맥북이기에 애플고딕을 사용\n",
    "plt.style.use('seaborn') # seaborn 스타일로 변환\n",
    "plt.rc('font', family='AppleGothic')\n",
    "plt.rc('axes', unicode_minus=False)"
   ]
  },
  {
   "cell_type": "code",
   "execution_count": 105,
   "metadata": {
    "Collapsed": "false"
   },
   "outputs": [],
   "source": [
    "# 변수 설명"
   ]
  },
  {
   "cell_type": "code",
   "execution_count": 20,
   "metadata": {
    "Collapsed": "false"
   },
   "outputs": [],
   "source": [
    "import requests\n",
    "import selenium\n",
    "import json\n",
    "from selenium import webdriver\n",
    "from bs4 import BeautifulSoup"
   ]
  },
  {
   "cell_type": "code",
   "execution_count": 21,
   "metadata": {
    "Collapsed": "false"
   },
   "outputs": [],
   "source": [
    "url = 'https://newapi.dacon.io:3000/competition/data?cpt_id=17801'"
   ]
  },
  {
   "cell_type": "code",
   "execution_count": 22,
   "metadata": {
    "Collapsed": "false"
   },
   "outputs": [],
   "source": [
    "response = requests.get(url)\n",
    "raw_data = response.text\n",
    "data = json.loads(raw_data)"
   ]
  },
  {
   "cell_type": "code",
   "execution_count": 23,
   "metadata": {
    "Collapsed": "false"
   },
   "outputs": [
    {
     "data": {
      "text/plain": [
       "{'message': 'data',\n",
       " 'data': [{'data_id': 3644,\n",
       "   'cpt_id': 17801,\n",
       "   'data_name': 'Auction_master_train.csv',\n",
       "   'column_explain': '{\"Auction_key\":\"경매 아파트 고유 키값\",\"Auction_class\":\"경매구분  강제경매 : 법원에 소송을 제기하여 판결을 얻은 후 집행권원에 따라 경매를 진행 임의경매 : 등기부등본 담보권(저당권, 가압류등)으로 경매를 진행\",\"Bid_class\":\"입찰구분(일반/개별/일괄)\",\"Claim_price\":\"경매 신청인의 청구 금액\",\"Appraisal_company\":\"감정사\",\"Appraisal_date\":\"감정일자\",\"Auction_count\":\"총경매횟수\",\"Auction_miscarriage_count\":\"총유찰횟수\",\"Total_land_gross_area\":\"총토지전체면적(㎡)\",\"Total_land_real_area\":\"총토지실면적(㎡)\",\"Total_land_auction_area\":\"총토지경매면적(㎡)\",\"Total_building_area\":\"총건물면적(㎡)\",\"Total_building_auction_area\":\"총건물경매면적(㎡)\",\"Total_appraisal_price\":\"총감정가\",\"Minimum_sales_price\":\"최저매각가격, 입찰 시 입찰인이 최저로 제시해야만 하는 금액\",\"First_auction_date\":\"최초경매일\",\"Final_auction_date\":\"최종경매일\",\"Final_result\":\"최종결과\",\"Creditor\":\"채권자, 경매 신청인\",\"addr_do\":\"주소_시도\",\"addr_si\":\"주소_시군구\",\"addr_dong\":\"주소_읍면동\",\"addr_li\":\"주소_리\",\"addr_san\":\"주소_산번지 여부(Y/N)\",\"addr_bunji1\":\"주소_번지1\",\"addr_bunji2\":\"주소_번지2\",\"addr_etc\":\"주소_기타주소\",\"Apartment_usage\":\"건물(토지)의 대표 용도\",\"Completion_date\":\"준공일\",\"Preserve_regist_date\":\"보존등기일, 건물을 신축하고 처음으로 등기\",\"Total_floor\":\"총층수\",\"Current_floor\":\"현재층수\",\"Specific\":\"기타_특이사항\",\"Share_auction_YorN\":\"지분경매 여부(Y/N), 하나의 부동산이 전체가 아닌 일부만 경매가 진행 (하나의 부동산의 공유자가 지분으로 소유권을 가지고 있을 때 그중 일부 지분만 경매가 진행)\",\"road_name\":\"도로명주소_도로명\",\"road_bunji1\":\"도로명주소_번지1\",\"road_bunji2\":\"도로명주소_번지2\",\"Close_date\":\"종국일자\",\"Close_result\":\"종국결과, 낙찰과 배당의 차이 :  경매 진행은 ①경매진행(낙찰) ▷ ②낙찰허가결정 ▷ ③대금납부 ▷ ④배당 후 종결 로 이뤄집니다. 낙찰자가 최고가로 입찰(①)해서 낙찰허가(②)를 받으면 대금납부기한 낙찰금을 입금(③)합니다. 법원은 납부된 낙찰금을 가지고 채권자에게 순위에 의한 배당(④)을 해주고 경매는 종결됩니다.\",\"point.y\":\"위도\",\"point.x\":\"경도\",\"Hammer_price\":\"낙찰가\"}',\n",
       "   'size': None},\n",
       "  {'data_id': 3645,\n",
       "   'cpt_id': 17801,\n",
       "   'data_name': 'Auction_result.csv',\n",
       "   'column_explain': '{\"Auction_key\":\"아파트 경매 물건 고유 키값\",\"Auction_seq\":\"키_Sequence\",\"Auction_date\":\"경매일자\",\"Appraisal_price\":\"감정가\",\"Minimum_sales_price\":\"최저매각가격, 입찰 시 응찰인은 최저매각가격 이상 제시\",\"Auction_results\":\"경매결과  변경 : 특별한 사유로 인하여 지정된 경매일에 경매를 진행 할 수 없을 때 법원이 직권으로 경매일정을 변경하는 절차 유찰 : 경매일에 낙찰되지 않음 낙찰 : 최고가 입찰 대납 : 낙찰 후 낙찰허가결정이 나면 대금을 납부 배당 : 납부된 대금으로 채권자의 순위에 따라 돈을 배당   낙찰과 배당의 차이 :  경매 진행은 ①경매진행(낙찰) ▷ ②낙찰허가결정 ▷ ③대금납부 ▷ ④배당 후 종결 로 이뤄집니다. 낙찰자가 최고가로 입찰(①)해서 낙찰허가(②)를 받으면 대금납부기한 낙찰금을 입금(③)합니다. 법원은 납부된 낙찰금을 가지고 채권자에게 순위에 의한 배당(④)을 해주고 경매는 종결됩니다.\",\"\":\"\"}',\n",
       "   'size': None},\n",
       "  {'data_id': 3646,\n",
       "   'cpt_id': 17801,\n",
       "   'data_name': 'Auction_regist.csv',\n",
       "   'column_explain': '{\"Auction_key\":\"경매 아파트 고유 키값\",\"Rent_class\":\"임대차구분,  전입 : (동사무소에)전입신고한 일자 점유 : 임대차기간이거나 실거주자가 있을 경우\",\"Purpose_use\":\"임차인의 임차 용도\",\"Occupied_part\":\"점유인의 점유부분\",\"Rent_date\":\"임차일자, 전입신고일, 점유일이 불확실할 시\",\"Rent_deposit\":\"임차금액(보증금)\",\"Rent_monthly_price\":\"임차금액(월세)\",\"Specific\":\"특이사항  조사서상: 법원 직원이 현상조사서, 물건명세서 작성한 서류상의 기록\"}',\n",
       "   'size': None}],\n",
       " 'status': 1}"
      ]
     },
     "execution_count": 23,
     "metadata": {},
     "output_type": "execute_result"
    }
   ],
   "source": [
    "data"
   ]
  },
  {
   "cell_type": "code",
   "execution_count": 24,
   "metadata": {
    "Collapsed": "false"
   },
   "outputs": [
    {
     "data": {
      "text/plain": [
       "'{\"Auction_key\":\"경매 아파트 고유 키값\",\"Auction_class\":\"경매구분  강제경매 : 법원에 소송을 제기하여 판결을 얻은 후 집행권원에 따라 경매를 진행 임의경매 : 등기부등본 담보권(저당권, 가압류등)으로 경매를 진행\",\"Bid_class\":\"입찰구분(일반/개별/일괄)\",\"Claim_price\":\"경매 신청인의 청구 금액\",\"Appraisal_company\":\"감정사\",\"Appraisal_date\":\"감정일자\",\"Auction_count\":\"총경매횟수\",\"Auction_miscarriage_count\":\"총유찰횟수\",\"Total_land_gross_area\":\"총토지전체면적(㎡)\",\"Total_land_real_area\":\"총토지실면적(㎡)\",\"Total_land_auction_area\":\"총토지경매면적(㎡)\",\"Total_building_area\":\"총건물면적(㎡)\",\"Total_building_auction_area\":\"총건물경매면적(㎡)\",\"Total_appraisal_price\":\"총감정가\",\"Minimum_sales_price\":\"최저매각가격, 입찰 시 입찰인이 최저로 제시해야만 하는 금액\",\"First_auction_date\":\"최초경매일\",\"Final_auction_date\":\"최종경매일\",\"Final_result\":\"최종결과\",\"Creditor\":\"채권자, 경매 신청인\",\"addr_do\":\"주소_시도\",\"addr_si\":\"주소_시군구\",\"addr_dong\":\"주소_읍면동\",\"addr_li\":\"주소_리\",\"addr_san\":\"주소_산번지 여부(Y/N)\",\"addr_bunji1\":\"주소_번지1\",\"addr_bunji2\":\"주소_번지2\",\"addr_etc\":\"주소_기타주소\",\"Apartment_usage\":\"건물(토지)의 대표 용도\",\"Completion_date\":\"준공일\",\"Preserve_regist_date\":\"보존등기일, 건물을 신축하고 처음으로 등기\",\"Total_floor\":\"총층수\",\"Current_floor\":\"현재층수\",\"Specific\":\"기타_특이사항\",\"Share_auction_YorN\":\"지분경매 여부(Y/N), 하나의 부동산이 전체가 아닌 일부만 경매가 진행 (하나의 부동산의 공유자가 지분으로 소유권을 가지고 있을 때 그중 일부 지분만 경매가 진행)\",\"road_name\":\"도로명주소_도로명\",\"road_bunji1\":\"도로명주소_번지1\",\"road_bunji2\":\"도로명주소_번지2\",\"Close_date\":\"종국일자\",\"Close_result\":\"종국결과, 낙찰과 배당의 차이 :  경매 진행은 ①경매진행(낙찰) ▷ ②낙찰허가결정 ▷ ③대금납부 ▷ ④배당 후 종결 로 이뤄집니다. 낙찰자가 최고가로 입찰(①)해서 낙찰허가(②)를 받으면 대금납부기한 낙찰금을 입금(③)합니다. 법원은 납부된 낙찰금을 가지고 채권자에게 순위에 의한 배당(④)을 해주고 경매는 종결됩니다.\",\"point.y\":\"위도\",\"point.x\":\"경도\",\"Hammer_price\":\"낙찰가\"}'"
      ]
     },
     "execution_count": 24,
     "metadata": {},
     "output_type": "execute_result"
    }
   ],
   "source": [
    "data['data'][0]['column_explain']"
   ]
  },
  {
   "cell_type": "code",
   "execution_count": 25,
   "metadata": {
    "Collapsed": "false"
   },
   "outputs": [],
   "source": [
    "column_list = json.loads(data['data'][0]['column_explain'])"
   ]
  },
  {
   "cell_type": "code",
   "execution_count": 26,
   "metadata": {
    "Collapsed": "false"
   },
   "outputs": [
    {
     "data": {
      "text/plain": [
       "{'Auction_key': '경매 아파트 고유 키값',\n",
       " 'Auction_class': '경매구분  강제경매 : 법원에 소송을 제기하여 판결을 얻은 후 집행권원에 따라 경매를 진행 임의경매 : 등기부등본 담보권(저당권, 가압류등)으로 경매를 진행',\n",
       " 'Bid_class': '입찰구분(일반/개별/일괄)',\n",
       " 'Claim_price': '경매 신청인의 청구 금액',\n",
       " 'Appraisal_company': '감정사',\n",
       " 'Appraisal_date': '감정일자',\n",
       " 'Auction_count': '총경매횟수',\n",
       " 'Auction_miscarriage_count': '총유찰횟수',\n",
       " 'Total_land_gross_area': '총토지전체면적(㎡)',\n",
       " 'Total_land_real_area': '총토지실면적(㎡)',\n",
       " 'Total_land_auction_area': '총토지경매면적(㎡)',\n",
       " 'Total_building_area': '총건물면적(㎡)',\n",
       " 'Total_building_auction_area': '총건물경매면적(㎡)',\n",
       " 'Total_appraisal_price': '총감정가',\n",
       " 'Minimum_sales_price': '최저매각가격, 입찰 시 입찰인이 최저로 제시해야만 하는 금액',\n",
       " 'First_auction_date': '최초경매일',\n",
       " 'Final_auction_date': '최종경매일',\n",
       " 'Final_result': '최종결과',\n",
       " 'Creditor': '채권자, 경매 신청인',\n",
       " 'addr_do': '주소_시도',\n",
       " 'addr_si': '주소_시군구',\n",
       " 'addr_dong': '주소_읍면동',\n",
       " 'addr_li': '주소_리',\n",
       " 'addr_san': '주소_산번지 여부(Y/N)',\n",
       " 'addr_bunji1': '주소_번지1',\n",
       " 'addr_bunji2': '주소_번지2',\n",
       " 'addr_etc': '주소_기타주소',\n",
       " 'Apartment_usage': '건물(토지)의 대표 용도',\n",
       " 'Completion_date': '준공일',\n",
       " 'Preserve_regist_date': '보존등기일, 건물을 신축하고 처음으로 등기',\n",
       " 'Total_floor': '총층수',\n",
       " 'Current_floor': '현재층수',\n",
       " 'Specific': '기타_특이사항',\n",
       " 'Share_auction_YorN': '지분경매 여부(Y/N), 하나의 부동산이 전체가 아닌 일부만 경매가 진행 (하나의 부동산의 공유자가 지분으로 소유권을 가지고 있을 때 그중 일부 지분만 경매가 진행)',\n",
       " 'road_name': '도로명주소_도로명',\n",
       " 'road_bunji1': '도로명주소_번지1',\n",
       " 'road_bunji2': '도로명주소_번지2',\n",
       " 'Close_date': '종국일자',\n",
       " 'Close_result': '종국결과, 낙찰과 배당의 차이 :  경매 진행은 ①경매진행(낙찰) ▷ ②낙찰허가결정 ▷ ③대금납부 ▷ ④배당 후 종결 로 이뤄집니다. 낙찰자가 최고가로 입찰(①)해서 낙찰허가(②)를 받으면 대금납부기한 낙찰금을 입금(③)합니다. 법원은 납부된 낙찰금을 가지고 채권자에게 순위에 의한 배당(④)을 해주고 경매는 종결됩니다.',\n",
       " 'point.y': '위도',\n",
       " 'point.x': '경도',\n",
       " 'Hammer_price': '낙찰가'}"
      ]
     },
     "execution_count": 26,
     "metadata": {},
     "output_type": "execute_result"
    }
   ],
   "source": [
    "column_list"
   ]
  },
  {
   "cell_type": "code",
   "execution_count": 27,
   "metadata": {
    "Collapsed": "false"
   },
   "outputs": [
    {
     "data": {
      "text/plain": [
       "'준공일'"
      ]
     },
     "execution_count": 27,
     "metadata": {},
     "output_type": "execute_result"
    }
   ],
   "source": [
    "# 칼럼 설명이 긴 경우 칼럼명 변경\n",
    "# 'Completion_date'(준공일) 칼럼은 실제 데이터에는 미존재 -> 제거\n",
    "column_list['Auction_class'] = '경매구분 강제경매'\n",
    "column_list['Share_auction_YorN'] = '지분경매 여부(Y/N)'\n",
    "column_list['Close_result'] = '종국결과'\n",
    "column_list.pop('Completion_date')"
   ]
  },
  {
   "cell_type": "code",
   "execution_count": 28,
   "metadata": {
    "Collapsed": "false"
   },
   "outputs": [
    {
     "data": {
      "text/plain": [
       "{'Auction_key': '경매 아파트 고유 키값',\n",
       " 'Auction_class': '경매구분 강제경매',\n",
       " 'Bid_class': '입찰구분(일반/개별/일괄)',\n",
       " 'Claim_price': '경매 신청인의 청구 금액',\n",
       " 'Appraisal_company': '감정사',\n",
       " 'Appraisal_date': '감정일자',\n",
       " 'Auction_count': '총경매횟수',\n",
       " 'Auction_miscarriage_count': '총유찰횟수',\n",
       " 'Total_land_gross_area': '총토지전체면적(㎡)',\n",
       " 'Total_land_real_area': '총토지실면적(㎡)',\n",
       " 'Total_land_auction_area': '총토지경매면적(㎡)',\n",
       " 'Total_building_area': '총건물면적(㎡)',\n",
       " 'Total_building_auction_area': '총건물경매면적(㎡)',\n",
       " 'Total_appraisal_price': '총감정가',\n",
       " 'Minimum_sales_price': '최저매각가격, 입찰 시 입찰인이 최저로 제시해야만 하는 금액',\n",
       " 'First_auction_date': '최초경매일',\n",
       " 'Final_auction_date': '최종경매일',\n",
       " 'Final_result': '최종결과',\n",
       " 'Creditor': '채권자, 경매 신청인',\n",
       " 'addr_do': '주소_시도',\n",
       " 'addr_si': '주소_시군구',\n",
       " 'addr_dong': '주소_읍면동',\n",
       " 'addr_li': '주소_리',\n",
       " 'addr_san': '주소_산번지 여부(Y/N)',\n",
       " 'addr_bunji1': '주소_번지1',\n",
       " 'addr_bunji2': '주소_번지2',\n",
       " 'addr_etc': '주소_기타주소',\n",
       " 'Apartment_usage': '건물(토지)의 대표 용도',\n",
       " 'Preserve_regist_date': '보존등기일, 건물을 신축하고 처음으로 등기',\n",
       " 'Total_floor': '총층수',\n",
       " 'Current_floor': '현재층수',\n",
       " 'Specific': '기타_특이사항',\n",
       " 'Share_auction_YorN': '지분경매 여부(Y/N)',\n",
       " 'road_name': '도로명주소_도로명',\n",
       " 'road_bunji1': '도로명주소_번지1',\n",
       " 'road_bunji2': '도로명주소_번지2',\n",
       " 'Close_date': '종국일자',\n",
       " 'Close_result': '종국결과',\n",
       " 'point.y': '위도',\n",
       " 'point.x': '경도',\n",
       " 'Hammer_price': '낙찰가'}"
      ]
     },
     "execution_count": 28,
     "metadata": {},
     "output_type": "execute_result"
    }
   ],
   "source": [
    "column_list"
   ]
  },
  {
   "cell_type": "markdown",
   "metadata": {
    "Collapsed": "false"
   },
   "source": [
    "   - 아파트층수 와 낙찰가"
   ]
  },
  {
   "cell_type": "code",
   "execution_count": 29,
   "metadata": {
    "Collapsed": "false"
   },
   "outputs": [
    {
     "data": {
      "text/plain": [
       "611         6303000\n",
       "1112        8008000\n",
       "1392       11001123\n",
       "442        12760000\n",
       "142        13010000\n",
       "           ...     \n",
       "1153     3663000000\n",
       "1212     3721000000\n",
       "1602     3729990000\n",
       "1515     4863000000\n",
       "1521    15151000000\n",
       "Name: Hammer_price, Length: 1933, dtype: int64"
      ]
     },
     "execution_count": 29,
     "metadata": {},
     "output_type": "execute_result"
    }
   ],
   "source": [
    "# 낙찰가 범위는 약630만원 ~ 약150억\n",
    "# 150억 다음으로 높은 낙찰가는 약 50억\n",
    "df['Hammer_price'].sort_values()"
   ]
  },
  {
   "cell_type": "code",
   "execution_count": 12,
   "metadata": {
    "Collapsed": "false"
   },
   "outputs": [
    {
     "data": {
      "text/plain": [
       "<function matplotlib.pyplot.show(*args, **kw)>"
      ]
     },
     "execution_count": 12,
     "metadata": {},
     "output_type": "execute_result"
    },
    {
     "data": {
      "image/png": "[encoded data removed]",
      "text/plain": [
       "<Figure size 720x720 with 1 Axes>"
      ]
     },
     "metadata": {},
     "output_type": "display_data"
    }
   ],
   "source": [
    "# 약150억 낙찰가 값만 멀리 떨어져있는 것 확인 가능\n",
    "plt.figure(figsize = (10,10))\n",
    "plt.scatter(x=df['Current_floor'],y=df['Hammer_price'], s = 10)\n",
    "plt.xlabel(\"아파트 층수\")\n",
    "plt.ylabel(\"낙찰가\")\n",
    "plt.show"
   ]
  },
  {
   "cell_type": "code",
   "execution_count": 13,
   "metadata": {
    "Collapsed": "false"
   },
   "outputs": [
    {
     "data": {
      "text/plain": [
       "<function matplotlib.pyplot.show(*args, **kw)>"
      ]
     },
     "execution_count": 13,
     "metadata": {},
     "output_type": "execute_result"
    },
    {
     "data": {
      "image/png": "[encoded data removed]",
      "text/plain": [
       "<Figure size 720x720 with 1 Axes>"
      ]
     },
     "metadata": {},
     "output_type": "display_data"
    }
   ],
   "source": [
    "# 150억의 낙찰가를 제외하고 500만원 ~ 50억 낙찰가 범위 설정\n",
    "plt.figure(figsize = (10,10))\n",
    "plt.scatter(x=df['Current_floor'],y=df['Hammer_price'])\n",
    "plt.xlabel(\"아파트 층수\")\n",
    "plt.ylabel(\"낙찰가\")\n",
    "plt.ylim([5.000000e+06, 5.000000e+9])\n",
    "plt.show"
   ]
  },
  {
   "cell_type": "code",
   "execution_count": 14,
   "metadata": {
    "Collapsed": "false"
   },
   "outputs": [
    {
     "data": {
      "text/plain": [
       "count    1.933000e+03\n",
       "mean     4.726901e+08\n",
       "std      5.574493e+08\n",
       "min      6.303000e+06\n",
       "25%      1.975550e+08\n",
       "50%      3.544500e+08\n",
       "75%      5.599000e+08\n",
       "max      1.515100e+10\n",
       "Name: Hammer_price, dtype: float64"
      ]
     },
     "execution_count": 14,
     "metadata": {},
     "output_type": "execute_result"
    }
   ],
   "source": [
    "# Hammer_price의 데이터 분포 확인\n",
    "df['Hammer_price'].describe()"
   ]
  },
  {
   "cell_type": "code",
   "execution_count": 15,
   "metadata": {
    "Collapsed": "false"
   },
   "outputs": [
    {
     "data": {
      "text/plain": [
       "1449"
      ]
     },
     "execution_count": 15,
     "metadata": {},
     "output_type": "execute_result"
    }
   ],
   "source": [
    "#Hammer_price < 5억5천9백9십만원 인 데이터가 약 75%인 1449행\n",
    "len(df.query('Hammer_price < 5.599000e+08'))"
   ]
  },
  {
   "cell_type": "code",
   "execution_count": 16,
   "metadata": {
    "Collapsed": "false"
   },
   "outputs": [
    {
     "data": {
      "text/plain": [
       "<function matplotlib.pyplot.show(*args, **kw)>"
      ]
     },
     "execution_count": 16,
     "metadata": {},
     "output_type": "execute_result"
    },
    {
     "data": {
      "image/png": "[encoded data removed]",
      "text/plain": [
       "<Figure size 720x720 with 1 Axes>"
      ]
     },
     "metadata": {},
     "output_type": "display_data"
    }
   ],
   "source": [
    "# 150억의 낙찰가를 제외하고 500만원 ~ 50억 낙찰가 범위 설정\n",
    "# 같은 층임에도 낙찰가의 범위가 매우 넓은 분포를 보이지만 아파트 층수가 높아질수록 보다 낮은 낙찰가가 없는 것을 어느정도 확인할 수 있음\n",
    "# df2 는 Hammer_price 75%를 포함하는 범위의 데이터프레임\n",
    "plt.figure(figsize = (10,10))\n",
    "df2 = df[df['Hammer_price'] < 5.599000e+08]\n",
    "plt.scatter(x=df2['Current_floor'],y=df2['Hammer_price'])\n",
    "plt.xlabel(\"아파트 층수\")\n",
    "plt.ylabel(\"낙찰가\")\n",
    "plt.xlim([0, 60])\n",
    "plt.show"
   ]
  },
  {
   "cell_type": "code",
   "execution_count": 17,
   "metadata": {
    "Collapsed": "false"
   },
   "outputs": [
    {
     "data": {
      "text/plain": [
       "<seaborn.axisgrid.FacetGrid at 0x132a6b850>"
      ]
     },
     "execution_count": 17,
     "metadata": {},
     "output_type": "execute_result"
    },
    {
     "data": {
      "image/png": "[encoded data removed]",
      "text/plain": [
       "<Figure size 416x360 with 1 Axes>"
      ]
     },
     "metadata": {},
     "output_type": "display_data"
    }
   ],
   "source": [
    "# 산포도에 대한 추세선을 확인해보면, 낙찰가 와 아파트층수 간에는 양의 관계를 나타냄을 볼 수 있음\n",
    "# 'addr_do'의 서울/부산 으로 데이터를 구분한 결과,\n",
    "# 서울 아파트의 경우 좀 더 높은 낙찰가를 보였으며, 낙찰가와 아파트층수의 관계는 부산 아파트의 경우가 더 가파른 기울기를 보임\n",
    "sns.lmplot(x='Current_floor',y='Hammer_price',data=df2, hue='addr_do')"
   ]
  },
  {
   "cell_type": "markdown",
   "metadata": {
    "Collapsed": "false"
   },
   "source": [
    "   - 낙찰된 계절 과 낙찰가"
   ]
  },
  {
   "cell_type": "code",
   "execution_count": 18,
   "metadata": {
    "Collapsed": "false"
   },
   "outputs": [
    {
     "data": {
      "text/html": [
       "<div>\n",
       "<style scoped>\n",
       "    .dataframe tbody tr th:only-of-type {\n",
       "        vertical-align: middle;\n",
       "    }\n",
       "\n",
       "    .dataframe tbody tr th {\n",
       "        vertical-align: top;\n",
       "    }\n",
       "\n",
       "    .dataframe thead th {\n",
       "        text-align: right;\n",
       "    }\n",
       "</style>\n",
       "<table border=\"1\" class=\"dataframe\">\n",
       "  <thead>\n",
       "    <tr style=\"text-align: right;\">\n",
       "      <th></th>\n",
       "      <th>Final_auction_date</th>\n",
       "      <th>Hammer_price</th>\n",
       "    </tr>\n",
       "  </thead>\n",
       "  <tbody>\n",
       "    <tr>\n",
       "      <th>0</th>\n",
       "      <td>2018-03-20 00:00:00</td>\n",
       "      <td>760000000</td>\n",
       "    </tr>\n",
       "    <tr>\n",
       "      <th>1</th>\n",
       "      <td>2017-02-02 00:00:00</td>\n",
       "      <td>971889999</td>\n",
       "    </tr>\n",
       "    <tr>\n",
       "      <th>2</th>\n",
       "      <td>2017-10-13 00:00:00</td>\n",
       "      <td>93399999</td>\n",
       "    </tr>\n",
       "    <tr>\n",
       "      <th>3</th>\n",
       "      <td>2017-11-02 00:00:00</td>\n",
       "      <td>256899000</td>\n",
       "    </tr>\n",
       "    <tr>\n",
       "      <th>4</th>\n",
       "      <td>2016-08-03 00:00:00</td>\n",
       "      <td>158660000</td>\n",
       "    </tr>\n",
       "  </tbody>\n",
       "</table>\n",
       "</div>"
      ],
      "text/plain": [
       "    Final_auction_date  Hammer_price\n",
       "0  2018-03-20 00:00:00     760000000\n",
       "1  2017-02-02 00:00:00     971889999\n",
       "2  2017-10-13 00:00:00      93399999\n",
       "3  2017-11-02 00:00:00     256899000\n",
       "4  2016-08-03 00:00:00     158660000"
      ]
     },
     "execution_count": 18,
     "metadata": {},
     "output_type": "execute_result"
    }
   ],
   "source": [
    "# 'Final_auction_date', 최종경매일 과 Hammer_price 를 추출\n",
    "# 'Final_auction_date'은 년,월,일로 구분되어 있음\n",
    "df_final = df[['Final_auction_date', 'Hammer_price']]\n",
    "df_final.head()"
   ]
  },
  {
   "cell_type": "code",
   "execution_count": 19,
   "metadata": {
    "Collapsed": "false"
   },
   "outputs": [
    {
     "name": "stderr",
     "output_type": "stream",
     "text": [
      "/Library/Frameworks/Python.framework/Versions/3.7/lib/python3.7/site-packages/ipykernel_launcher.py:2: SettingWithCopyWarning: \n",
      "A value is trying to be set on a copy of a slice from a DataFrame.\n",
      "Try using .loc[row_indexer,col_indexer] = value instead\n",
      "\n",
      "See the caveats in the documentation: http://pandas.pydata.org/pandas-docs/stable/user_guide/indexing.html#returning-a-view-versus-a-copy\n",
      "  \n"
     ]
    },
    {
     "data": {
      "text/html": [
       "<div>\n",
       "<style scoped>\n",
       "    .dataframe tbody tr th:only-of-type {\n",
       "        vertical-align: middle;\n",
       "    }\n",
       "\n",
       "    .dataframe tbody tr th {\n",
       "        vertical-align: top;\n",
       "    }\n",
       "\n",
       "    .dataframe thead th {\n",
       "        text-align: right;\n",
       "    }\n",
       "</style>\n",
       "<table border=\"1\" class=\"dataframe\">\n",
       "  <thead>\n",
       "    <tr style=\"text-align: right;\">\n",
       "      <th></th>\n",
       "      <th>Final_auction_date</th>\n",
       "      <th>Hammer_price</th>\n",
       "    </tr>\n",
       "  </thead>\n",
       "  <tbody>\n",
       "    <tr>\n",
       "      <th>0</th>\n",
       "      <td>03</td>\n",
       "      <td>760000000</td>\n",
       "    </tr>\n",
       "    <tr>\n",
       "      <th>1</th>\n",
       "      <td>02</td>\n",
       "      <td>971889999</td>\n",
       "    </tr>\n",
       "    <tr>\n",
       "      <th>2</th>\n",
       "      <td>10</td>\n",
       "      <td>93399999</td>\n",
       "    </tr>\n",
       "    <tr>\n",
       "      <th>3</th>\n",
       "      <td>11</td>\n",
       "      <td>256899000</td>\n",
       "    </tr>\n",
       "    <tr>\n",
       "      <th>4</th>\n",
       "      <td>08</td>\n",
       "      <td>158660000</td>\n",
       "    </tr>\n",
       "  </tbody>\n",
       "</table>\n",
       "</div>"
      ],
      "text/plain": [
       "  Final_auction_date  Hammer_price\n",
       "0                 03     760000000\n",
       "1                 02     971889999\n",
       "2                 10      93399999\n",
       "3                 11     256899000\n",
       "4                 08     158660000"
      ]
     },
     "execution_count": 19,
     "metadata": {},
     "output_type": "execute_result"
    }
   ],
   "source": [
    "# 년,월,일에서 계절을 구분할 수 있는 '월'을 추출\n",
    "df_final['Final_auction_date'] = df['Final_auction_date'].apply(lambda x: x.split('-')[1])\n",
    "df_final.head()"
   ]
  },
  {
   "cell_type": "code",
   "execution_count": 20,
   "metadata": {
    "Collapsed": "false"
   },
   "outputs": [
    {
     "data": {
      "text/plain": [
       "0        3\n",
       "1        2\n",
       "2       10\n",
       "3       11\n",
       "4        8\n",
       "        ..\n",
       "1928     6\n",
       "1929     3\n",
       "1930     1\n",
       "1931    11\n",
       "1932     5\n",
       "Name: Final_auction_date, Length: 1933, dtype: int64"
      ]
     },
     "execution_count": 20,
     "metadata": {},
     "output_type": "execute_result"
    }
   ],
   "source": [
    "#칼럼의 dtype을 str -> int 로 변환\n",
    "df_final['Final_auction_date'].astype('int')"
   ]
  },
  {
   "cell_type": "code",
   "execution_count": 21,
   "metadata": {
    "Collapsed": "false"
   },
   "outputs": [],
   "source": [
    "month = df_final['Final_auction_date'].value_counts()"
   ]
  },
  {
   "cell_type": "code",
   "execution_count": 22,
   "metadata": {
    "Collapsed": "false"
   },
   "outputs": [],
   "source": [
    "from itertools import chain, repeat"
   ]
  },
  {
   "cell_type": "code",
   "execution_count": 23,
   "metadata": {
    "Collapsed": "false"
   },
   "outputs": [
    {
     "data": {
      "image/png": "[encoded data removed]",
      "text/plain": [
       "<Figure size 576x396 with 1 Axes>"
      ]
     },
     "metadata": {},
     "output_type": "display_data"
    }
   ],
   "source": [
    "# pie 차트\n",
    "# 1월의 경우 10.4%로 경매종료일이 가장 많은 달, 12월이 6.16%로 경매종료일이 가장 적은 달\n",
    "# 겨우 한달 사이에 약 4%가 넘는 경매 수의 차이를 보임\n",
    "labels = []\n",
    "for i in range(12):\n",
    "    i += 1\n",
    "    value = f'{i}월'\n",
    "    labels.append(value)\n",
    "    \n",
    "explode = list(repeat(0,12)) #그래프간의 padding 개념으로 이해했음\n",
    "month.plot.pie(explode=explode,autopct='%1.2f%%',shadow=True, labels = labels) \n",
    "plt.show()"
   ]
  },
  {
   "cell_type": "code",
   "execution_count": 24,
   "metadata": {
    "Collapsed": "false"
   },
   "outputs": [
    {
     "name": "stderr",
     "output_type": "stream",
     "text": [
      "/Library/Frameworks/Python.framework/Versions/3.7/lib/python3.7/site-packages/ipykernel_launcher.py:1: SettingWithCopyWarning: \n",
      "A value is trying to be set on a copy of a slice from a DataFrame.\n",
      "Try using .loc[row_indexer,col_indexer] = value instead\n",
      "\n",
      "See the caveats in the documentation: http://pandas.pydata.org/pandas-docs/stable/user_guide/indexing.html#returning-a-view-versus-a-copy\n",
      "  \"\"\"Entry point for launching an IPython kernel.\n"
     ]
    }
   ],
   "source": [
    "#새로운 칼럼인 'season' 생성\n",
    "df_final['season'] = ''"
   ]
  },
  {
   "cell_type": "code",
   "execution_count": 25,
   "metadata": {
    "Collapsed": "false"
   },
   "outputs": [
    {
     "name": "stderr",
     "output_type": "stream",
     "text": [
      "/Library/Frameworks/Python.framework/Versions/3.7/lib/python3.7/site-packages/pandas/core/indexing.py:494: SettingWithCopyWarning: \n",
      "A value is trying to be set on a copy of a slice from a DataFrame.\n",
      "Try using .loc[row_indexer,col_indexer] = value instead\n",
      "\n",
      "See the caveats in the documentation: http://pandas.pydata.org/pandas-docs/stable/user_guide/indexing.html#returning-a-view-versus-a-copy\n",
      "  self.obj[item] = s\n"
     ]
    }
   ],
   "source": [
    "# 월을 계절별로 분류(임의로 분류)\n",
    "# 11,12,1,2 -> 겨울\n",
    "# 3,4 -> 봄\n",
    "# 5,6,7,8, -> 여름\n",
    "# 9,10 -> 가을\n",
    "df_final.loc[df_final['Final_auction_date'].str.contains('11|12|01|02'), 'season'] = '겨울'\n",
    "df_final.loc[df_final['Final_auction_date'].str.contains('03|04'), 'season'] = '봄'\n",
    "df_final.loc[df_final['Final_auction_date'].str.contains('05|06|07|08'), 'season'] = '여름'\n",
    "df_final.loc[df_final['Final_auction_date'].str.contains('09|10'), 'season'] = '가을'"
   ]
  },
  {
   "cell_type": "code",
   "execution_count": 115,
   "metadata": {
    "Collapsed": "false"
   },
   "outputs": [
    {
     "data": {
      "text/html": [
       "<div>\n",
       "<style scoped>\n",
       "    .dataframe tbody tr th:only-of-type {\n",
       "        vertical-align: middle;\n",
       "    }\n",
       "\n",
       "    .dataframe tbody tr th {\n",
       "        vertical-align: top;\n",
       "    }\n",
       "\n",
       "    .dataframe thead th {\n",
       "        text-align: right;\n",
       "    }\n",
       "</style>\n",
       "<table border=\"1\" class=\"dataframe\">\n",
       "  <thead>\n",
       "    <tr style=\"text-align: right;\">\n",
       "      <th></th>\n",
       "      <th>Final_auction_date</th>\n",
       "      <th>Hammer_price</th>\n",
       "      <th>season</th>\n",
       "    </tr>\n",
       "  </thead>\n",
       "  <tbody>\n",
       "    <tr>\n",
       "      <th>0</th>\n",
       "      <td>03</td>\n",
       "      <td>760000000</td>\n",
       "      <td>봄</td>\n",
       "    </tr>\n",
       "    <tr>\n",
       "      <th>1</th>\n",
       "      <td>02</td>\n",
       "      <td>971889999</td>\n",
       "      <td>겨울</td>\n",
       "    </tr>\n",
       "    <tr>\n",
       "      <th>2</th>\n",
       "      <td>10</td>\n",
       "      <td>93399999</td>\n",
       "      <td>가을</td>\n",
       "    </tr>\n",
       "    <tr>\n",
       "      <th>3</th>\n",
       "      <td>11</td>\n",
       "      <td>256899000</td>\n",
       "      <td>겨울</td>\n",
       "    </tr>\n",
       "    <tr>\n",
       "      <th>4</th>\n",
       "      <td>08</td>\n",
       "      <td>158660000</td>\n",
       "      <td>여름</td>\n",
       "    </tr>\n",
       "    <tr>\n",
       "      <th>...</th>\n",
       "      <td>...</td>\n",
       "      <td>...</td>\n",
       "      <td>...</td>\n",
       "    </tr>\n",
       "    <tr>\n",
       "      <th>1928</th>\n",
       "      <td>06</td>\n",
       "      <td>402500000</td>\n",
       "      <td>여름</td>\n",
       "    </tr>\n",
       "    <tr>\n",
       "      <th>1929</th>\n",
       "      <td>03</td>\n",
       "      <td>430234600</td>\n",
       "      <td>봄</td>\n",
       "    </tr>\n",
       "    <tr>\n",
       "      <th>1930</th>\n",
       "      <td>01</td>\n",
       "      <td>1118999990</td>\n",
       "      <td>겨울</td>\n",
       "    </tr>\n",
       "    <tr>\n",
       "      <th>1931</th>\n",
       "      <td>11</td>\n",
       "      <td>403000000</td>\n",
       "      <td>겨울</td>\n",
       "    </tr>\n",
       "    <tr>\n",
       "      <th>1932</th>\n",
       "      <td>05</td>\n",
       "      <td>686010000</td>\n",
       "      <td>여름</td>\n",
       "    </tr>\n",
       "  </tbody>\n",
       "</table>\n",
       "<p>1933 rows × 3 columns</p>\n",
       "</div>"
      ],
      "text/plain": [
       "     Final_auction_date  Hammer_price season\n",
       "0                    03     760000000      봄\n",
       "1                    02     971889999     겨울\n",
       "2                    10      93399999     가을\n",
       "3                    11     256899000     겨울\n",
       "4                    08     158660000     여름\n",
       "...                 ...           ...    ...\n",
       "1928                 06     402500000     여름\n",
       "1929                 03     430234600      봄\n",
       "1930                 01    1118999990     겨울\n",
       "1931                 11     403000000     겨울\n",
       "1932                 05     686010000     여름\n",
       "\n",
       "[1933 rows x 3 columns]"
      ]
     },
     "execution_count": 115,
     "metadata": {},
     "output_type": "execute_result"
    }
   ],
   "source": [
    "df_final"
   ]
  },
  {
   "cell_type": "code",
   "execution_count": 119,
   "metadata": {
    "Collapsed": "false"
   },
   "outputs": [
    {
     "data": {
      "text/plain": [
       "<function matplotlib.pyplot.show(*args, **kw)>"
      ]
     },
     "execution_count": 119,
     "metadata": {},
     "output_type": "execute_result"
    },
    {
     "data": {
      "image/png": "[encoded data removed]",
      "text/plain": [
       "<Figure size 576x396 with 1 Axes>"
      ]
     },
     "metadata": {},
     "output_type": "display_data"
    }
   ],
   "source": [
    "# 월별 최종경매일(낙찰일) 횟수 비교\n",
    "# 4월, 5월이 높은 수를 보여줌\n",
    "mon = sns.countplot(\"Final_auction_date\" , data=df_final)\n",
    "mon.set_xlabel('월')\n",
    "mon.set_ylabel('낙찰횟수')\n",
    "plt.show"
   ]
  },
  {
   "cell_type": "code",
   "execution_count": 86,
   "metadata": {
    "Collapsed": "false"
   },
   "outputs": [
    {
     "data": {
      "text/plain": [
       "<function matplotlib.pyplot.show(*args, **kw)>"
      ]
     },
     "execution_count": 86,
     "metadata": {},
     "output_type": "execute_result"
    },
    {
     "data": {
      "image/png": "[encoded data removed]",
      "text/plain": [
       "<Figure size 576x396 with 1 Axes>"
      ]
     },
     "metadata": {},
     "output_type": "display_data"
    }
   ],
   "source": [
    "# 계절별 'Hammer_price'의 평균값\n",
    "# 낙찰가(y축) 범위는 4억 ~ 5억\n",
    "# 여름의 낙찰가 평균 값이 가장 높으며, 가을의 경우가 가장 낮음 (값 표시 실패 ㅠ)\n",
    "season_mean = df_final.groupby('season').Hammer_price.mean().sort_values()\n",
    "season_mean = season_mean[['봄', '여름', '가을', '겨울']]\n",
    "plt.bar(season_mean.index ,season_mean, color=['yellow', 'green', 'orange', 'gray'])\n",
    "plt.xlabel(\"계절\")\n",
    "plt.ylabel(\"낙찰가\")\n",
    "plt.ylim([4e+08,5e+08])\n",
    "plt.show"
   ]
  },
  {
   "cell_type": "markdown",
   "metadata": {
    "Collapsed": "false"
   },
   "source": [
    "   - 대표용도 / 입찰구분 과 낙찰가"
   ]
  },
  {
   "cell_type": "code",
   "execution_count": 111,
   "metadata": {
    "Collapsed": "false"
   },
   "outputs": [
    {
     "data": {
      "image/png": "[encoded data removed]",
      "text/plain": [
       "<Figure size 576x396 with 2 Axes>"
      ]
     },
     "metadata": {},
     "output_type": "display_data"
    }
   ],
   "source": [
    "# 'Apartment_usage', 대표용도 별 그래프\n",
    "# 'Bid class', 입찰구분 별 그래프\n",
    "\n",
    "use = plt.subplot(1,2,1)\n",
    "use = sns.kdeplot(df2.query('Apartment_usage == \"아파트\"')['Hammer_price'], color = \"red\",shade= True)\n",
    "use = sns.kdeplot(df2.query('Apartment_usage == \"주상복합\"')['Hammer_price'], color = 'green', shade = True)\n",
    "use.set_xlabel('낙찰가')\n",
    "use.set_ylabel('비율')\n",
    "use = use.legend(['아파트','주상복합'])\n",
    "\n",
    "bid = plt.subplot(1,2,2)\n",
    "bid = sns.kdeplot(df2.query('Bid_class == \"개별\"')['Hammer_price'], color = \"red\",shade= True)\n",
    "bid = sns.kdeplot(df2.query('Bid_class == \"일반\"')['Hammer_price'], color = 'green', shade = True)\n",
    "bid = sns.kdeplot(df2.query('Bid_class == \"일괄\"')['Hammer_price'], color = 'yellow', shade = True)\n",
    "bid.set_xlabel('낙찰가')\n",
    "bid.set_ylabel('비율')\n",
    "bid = bid.legend(['개별','일반','일괄'])\n",
    "\n",
    "plt.tight_layout()\n",
    "plt.show()"
   ]
  },
  {
   "cell_type": "code",
   "execution_count": null,
   "metadata": {
    "Collapsed": "false"
   },
   "outputs": [],
   "source": []
  },
  {
   "cell_type": "code",
   "execution_count": null,
   "metadata": {
    "Collapsed": "false"
   },
   "outputs": [],
   "source": []
  },
  {
   "cell_type": "markdown",
   "metadata": {
    "Collapsed": "false"
   },
   "source": [
    "# 3. Feature 생성"
   ]
  },
  {
   "cell_type": "markdown",
   "metadata": {
    "Collapsed": "false"
   },
   "source": [
    "   - 'season' 최종경매계절 생성\n",
    "   - 'period' 최초경매일과 최종경매일 기간 생성\n",
    "   - 'floor_loc' 아파트 현재 층 위치\n",
    "   - 'age' 건물의 나이 (보존등기일부터 현재까지의 기간)\n",
    "   - 'pprice' 평당 경매 낙찰 가격\n",
    "   - 'range' 감정가 와 낙찰가의 차이\n",
    "   - 'aprice' 평당 경매 감정 가격\n",
    "   - 'term' 감정일자와 최초경매일 차이"
   ]
  },
  {
   "cell_type": "code",
   "execution_count": 30,
   "metadata": {
    "Collapsed": "false"
   },
   "outputs": [
    {
     "data": {
      "text/html": [
       "<div>\n",
       "<style scoped>\n",
       "    .dataframe tbody tr th:only-of-type {\n",
       "        vertical-align: middle;\n",
       "    }\n",
       "\n",
       "    .dataframe tbody tr th {\n",
       "        vertical-align: top;\n",
       "    }\n",
       "\n",
       "    .dataframe thead th {\n",
       "        text-align: right;\n",
       "    }\n",
       "</style>\n",
       "<table border=\"1\" class=\"dataframe\">\n",
       "  <thead>\n",
       "    <tr style=\"text-align: right;\">\n",
       "      <th></th>\n",
       "    </tr>\n",
       "  </thead>\n",
       "  <tbody>\n",
       "  </tbody>\n",
       "</table>\n",
       "</div>"
      ],
      "text/plain": [
       "Empty DataFrame\n",
       "Columns: []\n",
       "Index: []"
      ]
     },
     "execution_count": 30,
     "metadata": {},
     "output_type": "execute_result"
    }
   ],
   "source": [
    "# 새로운 feature을 저장할 새로운 데이터프레임 생성\n",
    "df_new = pd.DataFrame()\n",
    "df_new.head()"
   ]
  },
  {
   "cell_type": "markdown",
   "metadata": {
    "Collapsed": "false"
   },
   "source": [
    "   - 'season' 최종경매계절 생성"
   ]
  },
  {
   "cell_type": "code",
   "execution_count": 31,
   "metadata": {
    "Collapsed": "false"
   },
   "outputs": [],
   "source": [
    "df_new['season'] = ''"
   ]
  },
  {
   "cell_type": "code",
   "execution_count": 32,
   "metadata": {
    "Collapsed": "false"
   },
   "outputs": [],
   "source": [
    "# 년,월,일에서 계절을 구분할 수 있는 '월'을 추출\n",
    "df_new['season'] = df['Final_auction_date'].apply(lambda x: x.split('-')[1])"
   ]
  },
  {
   "cell_type": "code",
   "execution_count": 33,
   "metadata": {
    "Collapsed": "false"
   },
   "outputs": [],
   "source": [
    "# 월을 계절별로 분류(임의로 분류)\n",
    "# 11,12,1,2 -> 겨울\n",
    "# 3,4 -> 봄\n",
    "# 5,6,7,8, -> 여름\n",
    "# 9,10 -> 가을\n",
    "df_new.loc[df_new['season'].str.contains('11|12|01|02'), 'season'] = '겨울'\n",
    "df_new.loc[df_new['season'].str.contains('03|04'), 'season'] = '봄'\n",
    "df_new.loc[df_new['season'].str.contains('05|06|07|08'), 'season'] = '여름'\n",
    "df_new.loc[df_new['season'].str.contains('09|10'), 'season'] = '가을'"
   ]
  },
  {
   "cell_type": "code",
   "execution_count": 34,
   "metadata": {
    "Collapsed": "false"
   },
   "outputs": [
    {
     "data": {
      "text/plain": [
       "여름    671\n",
       "겨울    616\n",
       "봄     342\n",
       "가을    304\n",
       "Name: season, dtype: int64"
      ]
     },
     "execution_count": 34,
     "metadata": {},
     "output_type": "execute_result"
    }
   ],
   "source": [
    "# 최종경매가 이뤄진 계절 feature 생성\n",
    "df_new['season'].value_counts()"
   ]
  },
  {
   "cell_type": "markdown",
   "metadata": {
    "Collapsed": "false"
   },
   "source": [
    "   - 'period' 최초경매일과 최종경매일 기간 생성"
   ]
  },
  {
   "cell_type": "code",
   "execution_count": 35,
   "metadata": {
    "Collapsed": "false"
   },
   "outputs": [],
   "source": [
    "df_new['period'] = ''"
   ]
  },
  {
   "cell_type": "code",
   "execution_count": 36,
   "metadata": {
    "Collapsed": "false"
   },
   "outputs": [],
   "source": [
    "df_days = df[['First_auction_date', 'Final_auction_date']]"
   ]
  },
  {
   "cell_type": "code",
   "execution_count": 37,
   "metadata": {
    "Collapsed": "false"
   },
   "outputs": [],
   "source": [
    "import datetime"
   ]
  },
  {
   "cell_type": "code",
   "execution_count": 38,
   "metadata": {
    "Collapsed": "false"
   },
   "outputs": [],
   "source": [
    "# 문자열로 된 날짜 -> datetime 객체로 변환 함수\n",
    "def convertdate(dstring):\n",
    "    return datetime.datetime.strptime(dstring, '%Y-%m-%d  %H:%M:%S')"
   ]
  },
  {
   "cell_type": "code",
   "execution_count": 39,
   "metadata": {
    "Collapsed": "false"
   },
   "outputs": [
    {
     "name": "stderr",
     "output_type": "stream",
     "text": [
      "/Library/Frameworks/Python.framework/Versions/3.7/lib/python3.7/site-packages/ipykernel_launcher.py:4: SettingWithCopyWarning: \n",
      "A value is trying to be set on a copy of a slice from a DataFrame.\n",
      "Try using .loc[row_indexer,col_indexer] = value instead\n",
      "\n",
      "See the caveats in the documentation: http://pandas.pydata.org/pandas-docs/stable/user_guide/indexing.html#returning-a-view-versus-a-copy\n",
      "  after removing the cwd from sys.path.\n",
      "/Library/Frameworks/Python.framework/Versions/3.7/lib/python3.7/site-packages/ipykernel_launcher.py:5: SettingWithCopyWarning: \n",
      "A value is trying to be set on a copy of a slice from a DataFrame.\n",
      "Try using .loc[row_indexer,col_indexer] = value instead\n",
      "\n",
      "See the caveats in the documentation: http://pandas.pydata.org/pandas-docs/stable/user_guide/indexing.html#returning-a-view-versus-a-copy\n",
      "  \"\"\"\n"
     ]
    }
   ],
   "source": [
    "# 문자열로 된 날짜 -> datetime 객체로 변환 \n",
    "# 최종경매일 - 최초경매일\n",
    "# days 값 split\n",
    "df_days['First_auction_date'] = df['First_auction_date'].apply(convertdate)\n",
    "df_days['Final_auction_date'] = df['Final_auction_date'].apply(convertdate)\n",
    "\n",
    "df_new['period'] = df_days['Final_auction_date'] - df_days['First_auction_date']\n",
    "df_new['period'] = df_new['period'].astype('str')\n",
    "df_new['period'] = df_new['period'].apply(lambda x: x.split(' ')[0])"
   ]
  },
  {
   "cell_type": "markdown",
   "metadata": {
    "Collapsed": "false"
   },
   "source": [
    "   - 'floor_loc' 아파트 현재 층 위치"
   ]
  },
  {
   "cell_type": "code",
   "execution_count": 40,
   "metadata": {
    "Collapsed": "false"
   },
   "outputs": [],
   "source": [
    "df_new['floor_loc'] = ''"
   ]
  },
  {
   "cell_type": "code",
   "execution_count": 41,
   "metadata": {
    "Collapsed": "false"
   },
   "outputs": [],
   "source": [
    "# 현재층  / 전체층 -> 전체층 에 대한 현재층의 위치를 알 수 있음\n",
    "# 층 높이에 대한 절대적인 위치를 알 수는 없지만 전체층에 대한 상대적인 위치를 알 수 있음\n",
    "# 즉, 1의 값은 아파트의 꼭대기, 0.5는 아파트의 중간을 의미함\n",
    "df_new['floor_loc'] = df['Current_floor'] / df['Total_floor']"
   ]
  },
  {
   "cell_type": "code",
   "execution_count": 42,
   "metadata": {
    "Collapsed": "false"
   },
   "outputs": [],
   "source": [
    "df_new['floor_loc'] = df_new['floor_loc'].apply(lambda x : round(x,3))"
   ]
  },
  {
   "cell_type": "code",
   "execution_count": 43,
   "metadata": {
    "Collapsed": "false"
   },
   "outputs": [
    {
     "data": {
      "text/plain": [
       "1.000    135\n",
       "0.200     81\n",
       "0.333     75\n",
       "0.400     73\n",
       "0.600     71\n",
       "        ... \n",
       "0.433      1\n",
       "0.452      1\n",
       "0.054      1\n",
       "0.767      1\n",
       "0.893      1\n",
       "Name: floor_loc, Length: 290, dtype: int64"
      ]
     },
     "execution_count": 43,
     "metadata": {},
     "output_type": "execute_result"
    }
   ],
   "source": [
    "df_new['floor_loc'].value_counts()"
   ]
  },
  {
   "cell_type": "markdown",
   "metadata": {
    "Collapsed": "false"
   },
   "source": [
    "   - 'age' 건물의 나이 (보존등기일부터 현재까지의 기간)"
   ]
  },
  {
   "cell_type": "code",
   "execution_count": 44,
   "metadata": {
    "Collapsed": "false"
   },
   "outputs": [],
   "source": [
    "# 보존등기일 : 건물 소유권 보존등기란 소유자의 신청에 의해 미등기의 건물에 처음으로 행해지는 소유권 등기를 말합니다 (출처 : 법제처)\n",
    "# 보존등기일이 실제 건물이 완공된 시점이라고 볼 수는 없지만, 어느정도 예측 가능함\n",
    "df_new['age'] = ''"
   ]
  },
  {
   "cell_type": "code",
   "execution_count": 45,
   "metadata": {
    "Collapsed": "false"
   },
   "outputs": [],
   "source": [
    "df_age = df[['Preserve_regist_date']]"
   ]
  },
  {
   "cell_type": "code",
   "execution_count": 46,
   "metadata": {
    "Collapsed": "false"
   },
   "outputs": [
    {
     "name": "stderr",
     "output_type": "stream",
     "text": [
      "/Library/Frameworks/Python.framework/Versions/3.7/lib/python3.7/site-packages/ipykernel_launcher.py:1: SettingWithCopyWarning: \n",
      "A value is trying to be set on a copy of a slice from a DataFrame.\n",
      "Try using .loc[row_indexer,col_indexer] = value instead\n",
      "\n",
      "See the caveats in the documentation: http://pandas.pydata.org/pandas-docs/stable/user_guide/indexing.html#returning-a-view-versus-a-copy\n",
      "  \"\"\"Entry point for launching an IPython kernel.\n"
     ]
    }
   ],
   "source": [
    "df_age['Preserve_regist_date'] = df['Preserve_regist_date'].apply(convertdate)\n",
    "current = datetime.datetime.now()\n",
    "df_new['age'] = df_age['Preserve_regist_date'].apply(lambda x: current - x)"
   ]
  },
  {
   "cell_type": "code",
   "execution_count": 47,
   "metadata": {
    "Collapsed": "false"
   },
   "outputs": [],
   "source": [
    "df_new['age'] = df_new['age'].astype('str')\n",
    "df_new['age'] = df_new['age'].apply(lambda x: x.split(' ')[0])"
   ]
  },
  {
   "cell_type": "code",
   "execution_count": 48,
   "metadata": {
    "Collapsed": "false"
   },
   "outputs": [
    {
     "data": {
      "text/plain": [
       "331716    43\n",
       "17832     27\n",
       "2906      12\n",
       "3095       9\n",
       "1683       7\n",
       "          ..\n",
       "13437      1\n",
       "5422       1\n",
       "7690       1\n",
       "8723       1\n",
       "8846       1\n",
       "Name: age, Length: 1256, dtype: int64"
      ]
     },
     "execution_count": 48,
     "metadata": {},
     "output_type": "execute_result"
    }
   ],
   "source": [
    "df_new['age'].value_counts()"
   ]
  },
  {
   "cell_type": "markdown",
   "metadata": {
    "Collapsed": "false"
   },
   "source": [
    "   - 'pprice' 평당 경매 낙찰 가격"
   ]
  },
  {
   "cell_type": "code",
   "execution_count": 49,
   "metadata": {
    "Collapsed": "false"
   },
   "outputs": [],
   "source": [
    "df_new['pprice'] = ''"
   ]
  },
  {
   "cell_type": "code",
   "execution_count": 50,
   "metadata": {
    "Collapsed": "false"
   },
   "outputs": [],
   "source": [
    "df_per = df[['Total_land_auction_area']]"
   ]
  },
  {
   "cell_type": "code",
   "execution_count": 51,
   "metadata": {
    "Collapsed": "false"
   },
   "outputs": [
    {
     "name": "stderr",
     "output_type": "stream",
     "text": [
      "/Library/Frameworks/Python.framework/Versions/3.7/lib/python3.7/site-packages/ipykernel_launcher.py:4: SettingWithCopyWarning: \n",
      "A value is trying to be set on a copy of a slice from a DataFrame.\n",
      "Try using .loc[row_indexer,col_indexer] = value instead\n",
      "\n",
      "See the caveats in the documentation: http://pandas.pydata.org/pandas-docs/stable/user_guide/indexing.html#returning-a-view-versus-a-copy\n",
      "  after removing the cwd from sys.path.\n"
     ]
    }
   ],
   "source": [
    "# 낙찰가 를 총토지경매면적 로 나누어 1㎡ 당 가격을 구함\n",
    "# 총토지경매면적 인 'Total_land_auction_area'는 단위가 ㎡으로 되어있음\n",
    "# 1평  = 약 3.3㎡\n",
    "df_per['Total_land_auction_area'] = round((df['Total_land_auction_area'] / 3.3),3)\n",
    "df_new['pprice'] = df['Hammer_price'] / df_per['Total_land_auction_area']"
   ]
  },
  {
   "cell_type": "code",
   "execution_count": 52,
   "metadata": {
    "Collapsed": "false"
   },
   "outputs": [],
   "source": [
    "df_new['pprice'] = df_new['pprice'].apply(lambda x : round(x,3))"
   ]
  },
  {
   "cell_type": "code",
   "execution_count": 53,
   "metadata": {
    "Collapsed": "false"
   },
   "outputs": [
    {
     "data": {
      "text/plain": [
       "0       6.714967e+07\n",
       "1       1.709569e+08\n",
       "2       4.341157e+06\n",
       "3       2.570532e+07\n",
       "4       1.158863e+07\n",
       "            ...     \n",
       "1928    3.275553e+07\n",
       "1929    3.585288e+07\n",
       "1930    1.940350e+08\n",
       "1931    3.151392e+07\n",
       "1932    4.956003e+07\n",
       "Name: pprice, Length: 1933, dtype: float64"
      ]
     },
     "execution_count": 53,
     "metadata": {},
     "output_type": "execute_result"
    }
   ],
   "source": [
    "df_new['pprice']"
   ]
  },
  {
   "cell_type": "markdown",
   "metadata": {
    "Collapsed": "false"
   },
   "source": [
    "   - 'range' 감정가 와 낙찰가의 차이"
   ]
  },
  {
   "cell_type": "code",
   "execution_count": 54,
   "metadata": {
    "Collapsed": "false"
   },
   "outputs": [],
   "source": [
    "df_new['range'] = ''"
   ]
  },
  {
   "cell_type": "code",
   "execution_count": 55,
   "metadata": {
    "Collapsed": "false"
   },
   "outputs": [],
   "source": [
    "df_new['range'] = df['Total_appraisal_price'] - df['Hammer_price']"
   ]
  },
  {
   "cell_type": "code",
   "execution_count": 56,
   "metadata": {
    "Collapsed": "false"
   },
   "outputs": [
    {
     "data": {
      "text/plain": [
       "0        76000000\n",
       "1       101110001\n",
       "2        25600001\n",
       "3        31501000\n",
       "4        11340000\n",
       "          ...    \n",
       "1928     -1500000\n",
       "1929     23765400\n",
       "1930    166000010\n",
       "1931      4000000\n",
       "1932     63990000\n",
       "Name: range, Length: 1933, dtype: int64"
      ]
     },
     "execution_count": 56,
     "metadata": {},
     "output_type": "execute_result"
    }
   ],
   "source": [
    "df_new['range']"
   ]
  },
  {
   "cell_type": "markdown",
   "metadata": {
    "Collapsed": "false"
   },
   "source": [
    "   - 'aprice' 평당 경매 감정 가격"
   ]
  },
  {
   "cell_type": "code",
   "execution_count": 67,
   "metadata": {
    "Collapsed": "false"
   },
   "outputs": [],
   "source": [
    "df_new['aprice'] = ''"
   ]
  },
  {
   "cell_type": "code",
   "execution_count": 68,
   "metadata": {
    "Collapsed": "false"
   },
   "outputs": [],
   "source": [
    "df_per = df[['Total_land_auction_area']]"
   ]
  },
  {
   "cell_type": "code",
   "execution_count": 69,
   "metadata": {
    "Collapsed": "false"
   },
   "outputs": [
    {
     "name": "stderr",
     "output_type": "stream",
     "text": [
      "/Library/Frameworks/Python.framework/Versions/3.7/lib/python3.7/site-packages/ipykernel_launcher.py:4: SettingWithCopyWarning: \n",
      "A value is trying to be set on a copy of a slice from a DataFrame.\n",
      "Try using .loc[row_indexer,col_indexer] = value instead\n",
      "\n",
      "See the caveats in the documentation: http://pandas.pydata.org/pandas-docs/stable/user_guide/indexing.html#returning-a-view-versus-a-copy\n",
      "  after removing the cwd from sys.path.\n"
     ]
    }
   ],
   "source": [
    "# 총감정가 를 총토지경매면적 로 나누어 1㎡ 당 가격을 구함\n",
    "# 총토지경매면적 인 'Total_land_auction_area'는 단위가 ㎡으로 되어있음\n",
    "# 1평  = 약 3.3㎡\n",
    "df_per['Total_land_auction_area'] = round((df['Total_land_auction_area'] / 3.3),3)\n",
    "df_new['aprice'] = df['Total_appraisal_price'] / df_per['Total_land_auction_area']"
   ]
  },
  {
   "cell_type": "code",
   "execution_count": 70,
   "metadata": {
    "Collapsed": "false"
   },
   "outputs": [
    {
     "data": {
      "text/plain": [
       "0       7.386464e+07\n",
       "1       1.887423e+08\n",
       "2       5.531025e+06\n",
       "3       2.885731e+07\n",
       "4       1.241692e+07\n",
       "            ...     \n",
       "1928    3.263346e+07\n",
       "1929    3.783333e+07\n",
       "1930    2.228195e+08\n",
       "1931    3.182671e+07\n",
       "1932    5.418292e+07\n",
       "Name: aprice, Length: 1933, dtype: float64"
      ]
     },
     "execution_count": 70,
     "metadata": {},
     "output_type": "execute_result"
    }
   ],
   "source": [
    "df_new['aprice']"
   ]
  },
  {
   "cell_type": "markdown",
   "metadata": {
    "Collapsed": "false"
   },
   "source": [
    "   - 'term' 감정일자와 최초경매일 차이"
   ]
  },
  {
   "cell_type": "code",
   "execution_count": 61,
   "metadata": {
    "Collapsed": "false"
   },
   "outputs": [],
   "source": [
    "df_new['term'] = ''"
   ]
  },
  {
   "cell_type": "code",
   "execution_count": 62,
   "metadata": {
    "Collapsed": "false"
   },
   "outputs": [],
   "source": [
    "df_days = df[['Appraisal_date', 'First_auction_date']]"
   ]
  },
  {
   "cell_type": "code",
   "execution_count": 63,
   "metadata": {
    "Collapsed": "false"
   },
   "outputs": [
    {
     "name": "stderr",
     "output_type": "stream",
     "text": [
      "/Library/Frameworks/Python.framework/Versions/3.7/lib/python3.7/site-packages/ipykernel_launcher.py:4: SettingWithCopyWarning: \n",
      "A value is trying to be set on a copy of a slice from a DataFrame.\n",
      "Try using .loc[row_indexer,col_indexer] = value instead\n",
      "\n",
      "See the caveats in the documentation: http://pandas.pydata.org/pandas-docs/stable/user_guide/indexing.html#returning-a-view-versus-a-copy\n",
      "  after removing the cwd from sys.path.\n",
      "/Library/Frameworks/Python.framework/Versions/3.7/lib/python3.7/site-packages/ipykernel_launcher.py:5: SettingWithCopyWarning: \n",
      "A value is trying to be set on a copy of a slice from a DataFrame.\n",
      "Try using .loc[row_indexer,col_indexer] = value instead\n",
      "\n",
      "See the caveats in the documentation: http://pandas.pydata.org/pandas-docs/stable/user_guide/indexing.html#returning-a-view-versus-a-copy\n",
      "  \"\"\"\n"
     ]
    }
   ],
   "source": [
    "# 문자열로 된 날짜 -> datetime 객체로 변환 \n",
    "# 최초경매일 - 감정일자\n",
    "# days 값 split\n",
    "df_days['Appraisal_date'] = df['Appraisal_date'].apply(convertdate)\n",
    "df_days['First_auction_date'] = df['First_auction_date'].apply(convertdate)\n",
    "\n",
    "df_new['term'] = df_days['First_auction_date'] - df_days['Appraisal_date']\n",
    "df_new['term'] = df_new['term'].astype('str')\n",
    "df_new['term'] = df_new['term'].apply(lambda x: x.split(' ')[0])"
   ]
  },
  {
   "cell_type": "code",
   "execution_count": 64,
   "metadata": {
    "Collapsed": "false"
   },
   "outputs": [
    {
     "data": {
      "text/plain": [
       "0       202\n",
       "1       108\n",
       "2       248\n",
       "3       219\n",
       "4       121\n",
       "       ... \n",
       "1928    123\n",
       "1929    723\n",
       "1930    426\n",
       "1931    115\n",
       "1932    369\n",
       "Name: term, Length: 1933, dtype: object"
      ]
     },
     "execution_count": 64,
     "metadata": {},
     "output_type": "execute_result"
    }
   ],
   "source": [
    "df_new['term']"
   ]
  },
  {
   "cell_type": "code",
   "execution_count": 71,
   "metadata": {
    "Collapsed": "false"
   },
   "outputs": [
    {
     "data": {
      "text/html": [
       "<div>\n",
       "<style scoped>\n",
       "    .dataframe tbody tr th:only-of-type {\n",
       "        vertical-align: middle;\n",
       "    }\n",
       "\n",
       "    .dataframe tbody tr th {\n",
       "        vertical-align: top;\n",
       "    }\n",
       "\n",
       "    .dataframe thead th {\n",
       "        text-align: right;\n",
       "    }\n",
       "</style>\n",
       "<table border=\"1\" class=\"dataframe\">\n",
       "  <thead>\n",
       "    <tr style=\"text-align: right;\">\n",
       "      <th></th>\n",
       "      <th>season</th>\n",
       "      <th>period</th>\n",
       "      <th>floor_loc</th>\n",
       "      <th>age</th>\n",
       "      <th>pprice</th>\n",
       "      <th>range</th>\n",
       "      <th>aprice</th>\n",
       "      <th>term</th>\n",
       "    </tr>\n",
       "  </thead>\n",
       "  <tbody>\n",
       "    <tr>\n",
       "      <th>0</th>\n",
       "      <td>봄</td>\n",
       "      <td>35</td>\n",
       "      <td>0.111</td>\n",
       "      <td>3847</td>\n",
       "      <td>6.714967e+07</td>\n",
       "      <td>76000000</td>\n",
       "      <td>7.386464e+07</td>\n",
       "      <td>202</td>\n",
       "    </tr>\n",
       "    <tr>\n",
       "      <th>1</th>\n",
       "      <td>겨울</td>\n",
       "      <td>35</td>\n",
       "      <td>0.729</td>\n",
       "      <td>2962</td>\n",
       "      <td>1.709569e+08</td>\n",
       "      <td>101110001</td>\n",
       "      <td>1.887423e+08</td>\n",
       "      <td>108</td>\n",
       "    </tr>\n",
       "    <tr>\n",
       "      <th>2</th>\n",
       "      <td>가을</td>\n",
       "      <td>77</td>\n",
       "      <td>0.933</td>\n",
       "      <td>10039</td>\n",
       "      <td>4.341157e+06</td>\n",
       "      <td>25600001</td>\n",
       "      <td>5.531025e+06</td>\n",
       "      <td>248</td>\n",
       "    </tr>\n",
       "    <tr>\n",
       "      <th>3</th>\n",
       "      <td>겨울</td>\n",
       "      <td>105</td>\n",
       "      <td>0.550</td>\n",
       "      <td>6770</td>\n",
       "      <td>2.570532e+07</td>\n",
       "      <td>31501000</td>\n",
       "      <td>2.885731e+07</td>\n",
       "      <td>219</td>\n",
       "    </tr>\n",
       "    <tr>\n",
       "      <th>4</th>\n",
       "      <td>여름</td>\n",
       "      <td>28</td>\n",
       "      <td>1.000</td>\n",
       "      <td>6633</td>\n",
       "      <td>1.158863e+07</td>\n",
       "      <td>11340000</td>\n",
       "      <td>1.241692e+07</td>\n",
       "      <td>121</td>\n",
       "    </tr>\n",
       "  </tbody>\n",
       "</table>\n",
       "</div>"
      ],
      "text/plain": [
       "  season period  floor_loc    age        pprice      range        aprice term\n",
       "0      봄     35      0.111   3847  6.714967e+07   76000000  7.386464e+07  202\n",
       "1     겨울     35      0.729   2962  1.709569e+08  101110001  1.887423e+08  108\n",
       "2     가을     77      0.933  10039  4.341157e+06   25600001  5.531025e+06  248\n",
       "3     겨울    105      0.550   6770  2.570532e+07   31501000  2.885731e+07  219\n",
       "4     여름     28      1.000   6633  1.158863e+07   11340000  1.241692e+07  121"
      ]
     },
     "execution_count": 71,
     "metadata": {},
     "output_type": "execute_result"
    }
   ],
   "source": [
    "df_new.head()"
   ]
  },
  {
   "cell_type": "code",
   "execution_count": 73,
   "metadata": {
    "Collapsed": "false"
   },
   "outputs": [
    {
     "data": {
      "text/html": [
       "<div>\n",
       "<style scoped>\n",
       "    .dataframe tbody tr th:only-of-type {\n",
       "        vertical-align: middle;\n",
       "    }\n",
       "\n",
       "    .dataframe tbody tr th {\n",
       "        vertical-align: top;\n",
       "    }\n",
       "\n",
       "    .dataframe thead th {\n",
       "        text-align: right;\n",
       "    }\n",
       "</style>\n",
       "<table border=\"1\" class=\"dataframe\">\n",
       "  <thead>\n",
       "    <tr style=\"text-align: right;\">\n",
       "      <th></th>\n",
       "      <th>Auction_key</th>\n",
       "      <th>Auction_class</th>\n",
       "      <th>Bid_class</th>\n",
       "      <th>Claim_price</th>\n",
       "      <th>Appraisal_company</th>\n",
       "      <th>Appraisal_date</th>\n",
       "      <th>Auction_count</th>\n",
       "      <th>Auction_miscarriage_count</th>\n",
       "      <th>Total_land_gross_area</th>\n",
       "      <th>Total_land_real_area</th>\n",
       "      <th>...</th>\n",
       "      <th>Preserve_regist_date</th>\n",
       "      <th>Total_floor</th>\n",
       "      <th>Current_floor</th>\n",
       "      <th>Share_auction_YorN</th>\n",
       "      <th>road_name</th>\n",
       "      <th>Close_date</th>\n",
       "      <th>Close_result</th>\n",
       "      <th>point.y</th>\n",
       "      <th>point.x</th>\n",
       "      <th>Hammer_price</th>\n",
       "    </tr>\n",
       "  </thead>\n",
       "  <tbody>\n",
       "    <tr>\n",
       "      <th>0</th>\n",
       "      <td>2687</td>\n",
       "      <td>임의</td>\n",
       "      <td>개별</td>\n",
       "      <td>1766037301</td>\n",
       "      <td>정명감정</td>\n",
       "      <td>2017-07-26 00:00:00</td>\n",
       "      <td>2</td>\n",
       "      <td>1</td>\n",
       "      <td>12592.0</td>\n",
       "      <td>37.35</td>\n",
       "      <td>...</td>\n",
       "      <td>2009-07-14 00:00:00</td>\n",
       "      <td>45</td>\n",
       "      <td>5</td>\n",
       "      <td>N</td>\n",
       "      <td>해운대해변로</td>\n",
       "      <td>2018-06-14 00:00:00</td>\n",
       "      <td>배당</td>\n",
       "      <td>35.162717</td>\n",
       "      <td>129.137048</td>\n",
       "      <td>760000000</td>\n",
       "    </tr>\n",
       "    <tr>\n",
       "      <th>1</th>\n",
       "      <td>2577</td>\n",
       "      <td>임의</td>\n",
       "      <td>일반</td>\n",
       "      <td>152946867</td>\n",
       "      <td>희감정</td>\n",
       "      <td>2016-09-12 00:00:00</td>\n",
       "      <td>2</td>\n",
       "      <td>1</td>\n",
       "      <td>42478.1</td>\n",
       "      <td>18.76</td>\n",
       "      <td>...</td>\n",
       "      <td>2011-12-16 00:00:00</td>\n",
       "      <td>70</td>\n",
       "      <td>51</td>\n",
       "      <td>N</td>\n",
       "      <td>마린시티2로</td>\n",
       "      <td>2017-03-30 00:00:00</td>\n",
       "      <td>배당</td>\n",
       "      <td>35.156633</td>\n",
       "      <td>129.145068</td>\n",
       "      <td>971889999</td>\n",
       "    </tr>\n",
       "    <tr>\n",
       "      <th>2</th>\n",
       "      <td>2197</td>\n",
       "      <td>임의</td>\n",
       "      <td>개별</td>\n",
       "      <td>11326510</td>\n",
       "      <td>혜림감정</td>\n",
       "      <td>2016-11-22 00:00:00</td>\n",
       "      <td>3</td>\n",
       "      <td>2</td>\n",
       "      <td>149683.1</td>\n",
       "      <td>71.00</td>\n",
       "      <td>...</td>\n",
       "      <td>1992-07-31 00:00:00</td>\n",
       "      <td>15</td>\n",
       "      <td>14</td>\n",
       "      <td>N</td>\n",
       "      <td>모라로110번길</td>\n",
       "      <td>2017-12-13 00:00:00</td>\n",
       "      <td>배당</td>\n",
       "      <td>35.184601</td>\n",
       "      <td>128.996765</td>\n",
       "      <td>93399999</td>\n",
       "    </tr>\n",
       "    <tr>\n",
       "      <th>3</th>\n",
       "      <td>2642</td>\n",
       "      <td>임의</td>\n",
       "      <td>일반</td>\n",
       "      <td>183581724</td>\n",
       "      <td>신라감정</td>\n",
       "      <td>2016-12-13 00:00:00</td>\n",
       "      <td>2</td>\n",
       "      <td>1</td>\n",
       "      <td>24405.0</td>\n",
       "      <td>32.98</td>\n",
       "      <td>...</td>\n",
       "      <td>2001-07-13 00:00:00</td>\n",
       "      <td>20</td>\n",
       "      <td>11</td>\n",
       "      <td>N</td>\n",
       "      <td>황령대로319번가길</td>\n",
       "      <td>2017-12-27 00:00:00</td>\n",
       "      <td>배당</td>\n",
       "      <td>35.154180</td>\n",
       "      <td>129.089081</td>\n",
       "      <td>256899000</td>\n",
       "    </tr>\n",
       "    <tr>\n",
       "      <th>4</th>\n",
       "      <td>1958</td>\n",
       "      <td>강제</td>\n",
       "      <td>일반</td>\n",
       "      <td>45887671</td>\n",
       "      <td>나라감정</td>\n",
       "      <td>2016-03-07 00:00:00</td>\n",
       "      <td>2</td>\n",
       "      <td>1</td>\n",
       "      <td>774.0</td>\n",
       "      <td>45.18</td>\n",
       "      <td>...</td>\n",
       "      <td>2001-11-27 00:00:00</td>\n",
       "      <td>7</td>\n",
       "      <td>7</td>\n",
       "      <td>N</td>\n",
       "      <td>오작로</td>\n",
       "      <td>2016-10-04 00:00:00</td>\n",
       "      <td>배당</td>\n",
       "      <td>35.099630</td>\n",
       "      <td>128.998874</td>\n",
       "      <td>158660000</td>\n",
       "    </tr>\n",
       "  </tbody>\n",
       "</table>\n",
       "<p>5 rows × 35 columns</p>\n",
       "</div>"
      ],
      "text/plain": [
       "   Auction_key Auction_class Bid_class  Claim_price Appraisal_company  \\\n",
       "0         2687            임의        개별   1766037301              정명감정   \n",
       "1         2577            임의        일반    152946867               희감정   \n",
       "2         2197            임의        개별     11326510              혜림감정   \n",
       "3         2642            임의        일반    183581724              신라감정   \n",
       "4         1958            강제        일반     45887671              나라감정   \n",
       "\n",
       "        Appraisal_date  Auction_count  Auction_miscarriage_count  \\\n",
       "0  2017-07-26 00:00:00              2                          1   \n",
       "1  2016-09-12 00:00:00              2                          1   \n",
       "2  2016-11-22 00:00:00              3                          2   \n",
       "3  2016-12-13 00:00:00              2                          1   \n",
       "4  2016-03-07 00:00:00              2                          1   \n",
       "\n",
       "   Total_land_gross_area  Total_land_real_area  ...  Preserve_regist_date  \\\n",
       "0                12592.0                 37.35  ...   2009-07-14 00:00:00   \n",
       "1                42478.1                 18.76  ...   2011-12-16 00:00:00   \n",
       "2               149683.1                 71.00  ...   1992-07-31 00:00:00   \n",
       "3                24405.0                 32.98  ...   2001-07-13 00:00:00   \n",
       "4                  774.0                 45.18  ...   2001-11-27 00:00:00   \n",
       "\n",
       "   Total_floor  Current_floor  Share_auction_YorN   road_name  \\\n",
       "0           45              5                   N      해운대해변로   \n",
       "1           70             51                   N      마린시티2로   \n",
       "2           15             14                   N    모라로110번길   \n",
       "3           20             11                   N  황령대로319번가길   \n",
       "4            7              7                   N         오작로   \n",
       "\n",
       "            Close_date Close_result    point.y     point.x Hammer_price  \n",
       "0  2018-06-14 00:00:00           배당  35.162717  129.137048    760000000  \n",
       "1  2017-03-30 00:00:00           배당  35.156633  129.145068    971889999  \n",
       "2  2017-12-13 00:00:00           배당  35.184601  128.996765     93399999  \n",
       "3  2017-12-27 00:00:00           배당  35.154180  129.089081    256899000  \n",
       "4  2016-10-04 00:00:00           배당  35.099630  128.998874    158660000  \n",
       "\n",
       "[5 rows x 35 columns]"
      ]
     },
     "execution_count": 73,
     "metadata": {},
     "output_type": "execute_result"
    }
   ],
   "source": [
    "df.head()"
   ]
  },
  {
   "cell_type": "code",
   "execution_count": 74,
   "metadata": {
    "Collapsed": "false"
   },
   "outputs": [],
   "source": [
    "new_df = pd.concat([df, df_new], axis = 1 )"
   ]
  },
  {
   "cell_type": "code",
   "execution_count": 77,
   "metadata": {
    "Collapsed": "false"
   },
   "outputs": [],
   "source": [
    "new_df.to_excel('dataset.xlsx')"
   ]
  },
  {
   "cell_type": "code",
   "execution_count": null,
   "metadata": {
    "Collapsed": "false"
   },
   "outputs": [],
   "source": []
  }
 ],
 "metadata": {
  "kernelspec": {
   "display_name": "Python 3",
   "language": "python",
   "name": "python3"
  },
  "language_info": {
   "codemirror_mode": {
    "name": "ipython",
    "version": 3
   },
   "file_extension": ".py",
   "mimetype": "text/x-python",
   "name": "python",
   "nbconvert_exporter": "python",
   "pygments_lexer": "ipython3",
   "version": "3.7.6"
  }
 },
 "nbformat": 4,
 "nbformat_minor": 4
}
