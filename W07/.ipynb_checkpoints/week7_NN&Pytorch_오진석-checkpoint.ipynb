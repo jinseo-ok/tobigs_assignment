{
 "cells": [
  {
   "cell_type": "code",
   "execution_count": 115,
   "metadata": {
    "Collapsed": "false",
    "colab": {
     "base_uri": "https://localhost:8080/",
     "height": 34
    },
    "colab_type": "code",
    "executionInfo": {
     "elapsed": 1160,
     "status": "ok",
     "timestamp": 1584619621384,
     "user": {
      "displayName": "오진석",
      "photoUrl": "",
      "userId": "12229120938967938448"
     },
     "user_tz": -540
    },
    "id": "jU4nzwwKKeMG",
    "outputId": "b7a49d74-4912-47b8-84c1-4df93307ad25"
   },
   "outputs": [
    {
     "name": "stdout",
     "output_type": "stream",
     "text": [
      "/content/drive/My Drive/Colab Notebooks\n"
     ]
    }
   ],
   "source": [
    "cd /content/drive/My Drive/Colab Notebooks"
   ]
  },
  {
   "cell_type": "code",
   "execution_count": 116,
   "metadata": {
    "Collapsed": "false",
    "colab": {
     "base_uri": "https://localhost:8080/",
     "height": 136
    },
    "colab_type": "code",
    "executionInfo": {
     "elapsed": 2966,
     "status": "ok",
     "timestamp": 1584619623198,
     "user": {
      "displayName": "오진석",
      "photoUrl": "",
      "userId": "12229120938967938448"
     },
     "user_tz": -540
    },
    "id": "pevOPWQpKouj",
    "outputId": "330e7eb4-092b-4eca-c185-f2678d36b774"
   },
   "outputs": [
    {
     "name": "stdout",
     "output_type": "stream",
     "text": [
      "4_autoML_telescope_TPOT.ipynb  keras_sub4.csv    pytorch_sub2.csv\n",
      "keras_sub1000.csv              keras_sub5.csv    sample_submission.csv\n",
      "keras_sub100.csv               keras_sub6.csv    Sunkeras.ipynb\n",
      "keras_sub1.csv                 keras_sub7.csv    test_df.csv\n",
      "keras_sub2.csv                 keras_sub.csv     torch_sub.csv\n",
      "keras_sub300.csv               Pytorch.ipynb     train_df.csv\n",
      "keras_sub3.csv                 pytorch_sub1.csv\n"
     ]
    }
   ],
   "source": [
    "ls"
   ]
  },
  {
   "cell_type": "code",
   "execution_count": null,
   "metadata": {
    "Collapsed": "false",
    "colab": {},
    "colab_type": "code",
    "id": "c9CQmyn1KpKT"
   },
   "outputs": [],
   "source": [
    "import numpy as np\n",
    "import pandas as pd"
   ]
  },
  {
   "cell_type": "code",
   "execution_count": null,
   "metadata": {
    "Collapsed": "false",
    "colab": {},
    "colab_type": "code",
    "id": "kZi-YAN8LUFn"
   },
   "outputs": [],
   "source": [
    "train = pd.read_csv(\"train_df.csv\")\n",
    "test = pd.read_csv(\"test_df.csv\")\n",
    "sample_submission = pd.read_csv(\"sample_submission.csv\")"
   ]
  },
  {
   "cell_type": "code",
   "execution_count": null,
   "metadata": {
    "Collapsed": "false",
    "colab": {},
    "colab_type": "code",
    "id": "yBRoVZf7Lgm8"
   },
   "outputs": [],
   "source": [
    "X = train.iloc[:, 1:].values / 255\n",
    "y = train.iloc[:, 0].values\n",
    "test = test.iloc[:, 1:].values / 255"
   ]
  },
  {
   "cell_type": "markdown",
   "metadata": {
    "Collapsed": "false",
    "colab_type": "text",
    "id": "doi81XfOctIa"
   },
   "source": [
    "Dataset 클래스\n",
    "   - pytorch의 Dataset 클래스를 상속받아 각 클래스 생성 가능\n",
    "   - 기본적으로 3개의 함수를 상속받아 생성"
   ]
  },
  {
   "cell_type": "code",
   "execution_count": 120,
   "metadata": {
    "Collapsed": "false",
    "colab": {
     "base_uri": "https://localhost:8080/",
     "height": 34
    },
    "colab_type": "code",
    "executionInfo": {
     "elapsed": 6279,
     "status": "ok",
     "timestamp": 1584619626534,
     "user": {
      "displayName": "오진석",
      "photoUrl": "",
      "userId": "12229120938967938448"
     },
     "user_tz": -540
    },
    "id": "iCsABsnZW_JD",
    "outputId": "7dce0be2-4745-4ba0-97f3-008e2f36648a"
   },
   "outputs": [
    {
     "data": {
      "text/plain": [
       "784"
      ]
     },
     "execution_count": 120,
     "metadata": {
      "tags": []
     },
     "output_type": "execute_result"
    }
   ],
   "source": [
    "len(X[1])"
   ]
  },
  {
   "cell_type": "code",
   "execution_count": null,
   "metadata": {
    "Collapsed": "false",
    "colab": {},
    "colab_type": "code",
    "id": "w3kuTmJ1Ljv7"
   },
   "outputs": [],
   "source": [
    "from torch.utils.data import Dataset, DataLoader\n",
    "import torch\n",
    "class TrainDataset(Dataset):\n",
    "    def __init__(self, X, y, transform=None):\n",
    "        self.X = X\n",
    "        self.y = y\n",
    "        self.transform = transform # 데이터 타입을 Tensor 형태로 변경\n",
    "    def __len__(self):\n",
    "        return len(self.X)\n",
    "    def __getitem__(self, idx):\n",
    "        X, y = self.X[idx], self.y[idx]\n",
    "        return torch.tensor(X).float(), torch.tensor(y)\n",
    "\n",
    "class TestDataset(Dataset):\n",
    "    def __init__(self, X, y=None, transform=None):\n",
    "        self.X = X\n",
    "        self.y = y\n",
    "        self.transform = transform\n",
    "    def __len__(self):\n",
    "        return len(self.X)\n",
    "    def __getitem__(self, idx):\n",
    "        X = self.X[idx]\n",
    "        return torch.tensor(X).float()"
   ]
  },
  {
   "cell_type": "code",
   "execution_count": null,
   "metadata": {
    "Collapsed": "false",
    "colab": {},
    "colab_type": "code",
    "id": "HAHcsOJ1PVbD"
   },
   "outputs": [],
   "source": [
    "traindataset = TrainDataset(X, y)\n",
    "testdataset = TestDataset(test)"
   ]
  },
  {
   "cell_type": "code",
   "execution_count": 123,
   "metadata": {
    "Collapsed": "false",
    "colab": {
     "base_uri": "https://localhost:8080/",
     "height": 1000
    },
    "colab_type": "code",
    "executionInfo": {
     "elapsed": 6261,
     "status": "ok",
     "timestamp": 1584619626536,
     "user": {
      "displayName": "오진석",
      "photoUrl": "",
      "userId": "12229120938967938448"
     },
     "user_tz": -540
    },
    "id": "fayaRQ_nXHku",
    "outputId": "c3587934-1b5f-4734-8067-b3f6d3f4a0f4"
   },
   "outputs": [
    {
     "name": "stdout",
     "output_type": "stream",
     "text": [
      "2 (tensor([0.0000, 0.0000, 0.0000, 0.0000, 0.0000, 0.0000, 0.0000, 0.0000, 0.0000,\n",
      "        0.0000, 0.0000, 0.0000, 0.0000, 0.0000, 0.0000, 0.0000, 0.0000, 0.0000,\n",
      "        0.0000, 0.0000, 0.0000, 0.0000, 0.0000, 0.0000, 0.0000, 0.0000, 0.0000,\n",
      "        0.0000, 0.0000, 0.0000, 0.0000, 0.0000, 0.0000, 0.0000, 0.0000, 0.0000,\n",
      "        0.0000, 0.0000, 0.0000, 0.0000, 0.0000, 0.0000, 0.0000, 0.0000, 0.0000,\n",
      "        0.0000, 0.0000, 0.0000, 0.0000, 0.0000, 0.0000, 0.0000, 0.0000, 0.0000,\n",
      "        0.0000, 0.0000, 0.0000, 0.0000, 0.0000, 0.0000, 0.0000, 0.0000, 0.0000,\n",
      "        0.0000, 0.0000, 0.0000, 0.0000, 0.0000, 0.0000, 0.0000, 0.0000, 0.0000,\n",
      "        0.0000, 0.0000, 0.0000, 0.0000, 0.0000, 0.0000, 0.0000, 0.0000, 0.0000,\n",
      "        0.0000, 0.0000, 0.0000, 0.0000, 0.0000, 0.0000, 0.0000, 0.0000, 0.0000,\n",
      "        0.0000, 0.0000, 0.0000, 0.0000, 0.0706, 0.9961, 0.9804, 1.0000, 0.6000,\n",
      "        0.0118, 0.0000, 0.0000, 0.0000, 0.0000, 0.0000, 0.0000, 0.0000, 0.0000,\n",
      "        0.0000, 0.0000, 0.0000, 0.0000, 0.0000, 0.0000, 0.0000, 0.0000, 0.0000,\n",
      "        0.0000, 0.0000, 0.0000, 0.0000, 0.0000, 0.9961, 0.8000, 0.2118, 0.9255,\n",
      "        0.9569, 0.5373, 0.0314, 0.0000, 0.0000, 0.0000, 0.0000, 0.0000, 0.0000,\n",
      "        0.0000, 0.0000, 0.0000, 0.0000, 0.0000, 0.0000, 0.0000, 0.0000, 0.0000,\n",
      "        0.0000, 0.0000, 0.0000, 0.0000, 0.0000, 0.0000, 0.8353, 0.0000, 0.0000,\n",
      "        0.0000, 0.3569, 0.9373, 0.4078, 0.0000, 0.0000, 0.0000, 0.0000, 0.0000,\n",
      "        0.0000, 0.0000, 0.0000, 0.0000, 0.0000, 0.0000, 0.0000, 0.0000, 0.0000,\n",
      "        0.0000, 0.0000, 0.0000, 0.0000, 0.0000, 0.0000, 0.0000, 0.0000, 0.0000,\n",
      "        0.0000, 0.0000, 0.0000, 0.4118, 0.4392, 0.0549, 0.0000, 0.0000, 0.0000,\n",
      "        0.0000, 0.0000, 0.0000, 0.0000, 0.0000, 0.0000, 0.0000, 0.0000, 0.0000,\n",
      "        0.0000, 0.0000, 0.0000, 0.0000, 0.0000, 0.0000, 0.0000, 0.0000, 0.0000,\n",
      "        0.0000, 0.0000, 0.0000, 0.0000, 0.0000, 0.5882, 0.3176, 0.0000, 0.0000,\n",
      "        0.0000, 0.0000, 0.0000, 0.0000, 0.0000, 0.0000, 0.0000, 0.0000, 0.0000,\n",
      "        0.0000, 0.0000, 0.0000, 0.0000, 0.0000, 0.0000, 0.0000, 0.0000, 0.0000,\n",
      "        0.0000, 0.0000, 0.0000, 0.0000, 0.0000, 0.0000, 0.5882, 0.3176, 0.0000,\n",
      "        0.0000, 0.0000, 0.0000, 0.0000, 0.0000, 0.0000, 0.0000, 0.0000, 0.0000,\n",
      "        0.0000, 0.0000, 0.0000, 0.0000, 0.0000, 0.0000, 0.0000, 0.0000, 0.0000,\n",
      "        0.0000, 0.0000, 0.0000, 0.0000, 0.0000, 0.0000, 0.0000, 0.5882, 0.3176,\n",
      "        0.0000, 0.0000, 0.0000, 0.0000, 0.0000, 0.0000, 0.0000, 0.0000, 0.0000,\n",
      "        0.0000, 0.0000, 0.0000, 0.0000, 0.0000, 0.0000, 0.0000, 0.0000, 0.0000,\n",
      "        0.0000, 0.0000, 0.0000, 0.0000, 0.0000, 0.0000, 0.0000, 0.1882, 0.5216,\n",
      "        0.2000, 0.0000, 0.0000, 0.0000, 0.0000, 0.0000, 0.0000, 0.0000, 0.0000,\n",
      "        0.0000, 0.0000, 0.0000, 0.0000, 0.0000, 0.0000, 0.0000, 0.0000, 0.0000,\n",
      "        0.0000, 0.0000, 0.0000, 0.0000, 0.0000, 0.0000, 0.0000, 0.0000, 0.4980,\n",
      "        0.4078, 0.0000, 0.0000, 0.0000, 0.0000, 0.0000, 0.0000, 0.0000, 0.0000,\n",
      "        0.0000, 0.0000, 0.0000, 0.0000, 0.0000, 0.0000, 0.0000, 0.0000, 0.0000,\n",
      "        0.0000, 0.0000, 0.0000, 0.0000, 0.0000, 0.0000, 0.0000, 0.0000, 0.0000,\n",
      "        0.4980, 0.4078, 0.0000, 0.0000, 0.0000, 0.0000, 0.0000, 0.0000, 0.0000,\n",
      "        0.0000, 0.0000, 0.0000, 0.0000, 0.0000, 0.0000, 0.0000, 0.0000, 0.0000,\n",
      "        0.0000, 0.0000, 0.0000, 0.0000, 0.0000, 0.0000, 0.0000, 0.0000, 0.0000,\n",
      "        0.2157, 0.4980, 0.1961, 0.0000, 0.0000, 0.0000, 0.0000, 0.0000, 0.0000,\n",
      "        0.0000, 0.0000, 0.0000, 0.0000, 0.0000, 0.0000, 0.0000, 0.0000, 0.0000,\n",
      "        0.0000, 0.0000, 0.0000, 0.0000, 0.0000, 0.0000, 0.0000, 0.0000, 0.0000,\n",
      "        0.0000, 0.4078, 0.4980, 0.0000, 0.0000, 0.0000, 0.0000, 0.0000, 0.0000,\n",
      "        0.0000, 0.0000, 0.0000, 0.0000, 0.0000, 0.0000, 0.0000, 0.0000, 0.0000,\n",
      "        0.0000, 0.0000, 0.0000, 0.0000, 0.0000, 0.0000, 0.0000, 0.0000, 0.0000,\n",
      "        0.0000, 0.2000, 0.5216, 0.1882, 0.0000, 0.0000, 0.0000, 0.0000, 0.0000,\n",
      "        0.0000, 0.0000, 0.0000, 0.0000, 0.0000, 0.0000, 0.0000, 0.0000, 0.0000,\n",
      "        0.0000, 0.0000, 0.0000, 0.0000, 0.0000, 0.0000, 0.0000, 0.0000, 0.0000,\n",
      "        0.0000, 0.0000, 0.3176, 0.5882, 0.0000, 0.0000, 0.0000, 0.0000, 0.0000,\n",
      "        0.0000, 0.0000, 0.0000, 0.0000, 0.0000, 0.0000, 0.0000, 0.0000, 0.0000,\n",
      "        0.0000, 0.0000, 0.0000, 0.0000, 0.0000, 0.0000, 0.0000, 0.0000, 0.0000,\n",
      "        0.0000, 0.0000, 0.1647, 0.5804, 0.1608, 0.0000, 0.0000, 0.0000, 0.0000,\n",
      "        0.0000, 0.0000, 0.0000, 0.0000, 0.0000, 0.0000, 0.0000, 0.0000, 0.0000,\n",
      "        0.0000, 0.0000, 0.0000, 0.0000, 0.0000, 0.0000, 0.0000, 0.0000, 0.0000,\n",
      "        0.0000, 0.0000, 0.0000, 0.2275, 0.6824, 0.0000, 0.0000, 0.0000, 0.0000,\n",
      "        0.0000, 0.0000, 0.0000, 0.0000, 0.0000, 0.0000, 0.0000, 0.0000, 0.0000,\n",
      "        0.0000, 0.0000, 0.0000, 0.0000, 0.0000, 0.0000, 0.0000, 0.0000, 0.0000,\n",
      "        0.0000, 0.0000, 0.0000, 0.1137, 0.6784, 0.1176, 0.0000, 0.0000, 0.0000,\n",
      "        0.0000, 0.0000, 0.7137, 0.8235, 0.0000, 0.0000, 0.0000, 0.0000, 0.0000,\n",
      "        0.0000, 0.0000, 0.0000, 0.0000, 0.0000, 0.0000, 0.0000, 0.0000, 0.0000,\n",
      "        0.0000, 0.0000, 0.0000, 0.0392, 0.8902, 0.7725, 0.0000, 0.3569, 0.8745,\n",
      "        0.8745, 0.8745, 0.8745, 0.9843, 1.0000, 0.0000, 0.0000, 0.0000, 0.0000,\n",
      "        0.0000, 0.0000, 0.0000, 0.0000, 0.0000, 0.0000, 0.0000, 0.0000, 0.0000,\n",
      "        0.0000, 0.0000, 0.0000, 0.0000, 0.0431, 1.0000, 0.9843, 0.9255, 0.9569,\n",
      "        1.0000, 1.0000, 0.3686, 0.0745, 0.0745, 0.0745, 0.0000, 0.0000, 0.0000,\n",
      "        0.0000, 0.0000, 0.0000, 0.0000, 0.0000, 0.0000, 0.0000, 0.0000, 0.0000,\n",
      "        0.0000, 0.0000, 0.0000, 0.0000, 0.0000, 0.0471, 1.0000, 0.7765, 0.0235,\n",
      "        0.0235, 0.0235, 0.0235, 0.0078, 0.0000, 0.0000, 0.0000, 0.0000, 0.0000,\n",
      "        0.0000, 0.0000, 0.0000, 0.0000, 0.0000, 0.0000, 0.0000, 0.0000, 0.0000,\n",
      "        0.0000, 0.0000, 0.0000, 0.0000, 0.0000, 0.0000, 0.0000, 0.0000, 0.0000,\n",
      "        0.0000, 0.0000, 0.0000, 0.0000, 0.0000, 0.0000, 0.0000, 0.0000, 0.0000,\n",
      "        0.0000, 0.0000, 0.0000, 0.0000, 0.0000, 0.0000, 0.0000, 0.0000, 0.0000,\n",
      "        0.0000, 0.0000, 0.0000, 0.0000, 0.0000, 0.0000, 0.0000, 0.0000, 0.0000,\n",
      "        0.0000, 0.0000, 0.0000, 0.0000, 0.0000, 0.0000, 0.0000, 0.0000, 0.0000,\n",
      "        0.0000, 0.0000, 0.0000, 0.0000, 0.0000, 0.0000, 0.0000, 0.0000, 0.0000,\n",
      "        0.0000, 0.0000, 0.0000, 0.0000, 0.0000, 0.0000, 0.0000, 0.0000, 0.0000,\n",
      "        0.0000, 0.0000, 0.0000, 0.0000, 0.0000, 0.0000, 0.0000, 0.0000, 0.0000,\n",
      "        0.0000, 0.0000, 0.0000, 0.0000, 0.0000, 0.0000, 0.0000, 0.0000, 0.0000,\n",
      "        0.0000, 0.0000, 0.0000, 0.0000, 0.0000, 0.0000, 0.0000, 0.0000, 0.0000,\n",
      "        0.0000, 0.0000, 0.0000, 0.0000, 0.0000, 0.0000, 0.0000, 0.0000, 0.0000,\n",
      "        0.0000, 0.0000, 0.0000, 0.0000, 0.0000, 0.0000, 0.0000, 0.0000, 0.0000,\n",
      "        0.0000, 0.0000, 0.0000, 0.0000, 0.0000, 0.0000, 0.0000, 0.0000, 0.0000,\n",
      "        0.0000, 0.0000, 0.0000, 0.0000, 0.0000, 0.0000, 0.0000, 0.0000, 0.0000,\n",
      "        0.0000, 0.0000, 0.0000, 0.0000, 0.0000, 0.0000, 0.0000, 0.0000, 0.0000,\n",
      "        0.0000]), tensor(7))\n"
     ]
    }
   ],
   "source": [
    "# tensor 로 바뀐 데이터..?\n",
    "for i in traindataset:\n",
    "  print(len(i),i)\n",
    "\n",
    "  break"
   ]
  },
  {
   "cell_type": "markdown",
   "metadata": {
    "Collapsed": "false",
    "colab_type": "text",
    "id": "VFfxrj-SdTES"
   },
   "source": [
    "DataLoader\n",
    "   - dataset : 우리가 불러올 데이터 셋\n",
    "   - batch_size = batch 단위 만큼 데이터를 뽑아옴\n",
    "   - shuffle : 데이터를 shuffle할 것인지"
   ]
  },
  {
   "cell_type": "code",
   "execution_count": null,
   "metadata": {
    "Collapsed": "false",
    "colab": {},
    "colab_type": "code",
    "id": "lLD5V49EXajI"
   },
   "outputs": [],
   "source": [
    "trainloader = DataLoader(traindataset, batch_size=256, shuffle=True, num_workers=2)\n",
    "testloader = DataLoader(testdataset, batch_size=256, shuffle=False, num_workers=2)"
   ]
  },
  {
   "cell_type": "markdown",
   "metadata": {
    "Collapsed": "false",
    "colab_type": "text",
    "id": "bC8ql9nJbdx5"
   },
   "source": [
    "mnist image\n",
    "   - 28 x 28 픽셀로 구성.\n",
    "   - input으로 들어갈 경우 28 x 28로 변경\n",
    "\n",
    "기본적인 네트워크 구조 만들기\n",
    "   - class를 이용해 생성 *nn.Module 상속\n",
    "      - init() 에서 super를 통해 상속\n",
    "   - 기본적으로 init, forword 함수 생성\n",
    "   - init 함수에서 super(classname, self).init() 정의\n",
    "\n",
    "PyTorch: 사용자 정의 nn 모듈\n",
    "   - forward에 사용할 layer를 생성\n",
    "   - 입력 Variable을 받아 다른 모듈 또는 Variable의 autograd 연산을 사용하여 출력 Variable을 생성하는 forward 를 정의\n",
    "\n",
    "nn vs F\n",
    "   - nn의 경우 레이어 안에서 weight 공유가 가능\n",
    "   - F의 경우 단순한 연산 기능만\n",
    "\n",
    "Pytorch : nn\n",
    "   - 연산 그래프와 autograd는 복잡한 연산자를 정의하고 도함수(derivative)를 자동으로 계산\n",
    "   - 모듈은 입력 Variable을 받고 출력 Variable을 계산"
   ]
  },
  {
   "cell_type": "code",
   "execution_count": null,
   "metadata": {
    "Collapsed": "false",
    "colab": {},
    "colab_type": "code",
    "id": "QWbJJVXCXbF_"
   },
   "outputs": [],
   "source": [
    "import torch.nn as nn\n",
    "import torch.nn.functional as F\n",
    "\n",
    "\n",
    "class Net(nn.Module):\n",
    "    def __init__(self):\n",
    "        super(Net, self).__init__()\n",
    "        self.fc1 = nn.Linear(28*28, 512)\n",
    "        self.fc2 = nn.Linear(512, 256)\n",
    "        self.fc3 = nn.Linear(256, 10)\n",
    "\n",
    "    def forward(self, x):\n",
    "        x = F.relu(self.fc1(x))\n",
    "        x = F.relu(self.fc2(x))\n",
    "        x = self.fc3(x)\n",
    "        return x\n",
    "\n",
    "net = Net()"
   ]
  },
  {
   "cell_type": "markdown",
   "metadata": {
    "Collapsed": "false",
    "colab_type": "text",
    "id": "URrSVVffgJec"
   },
   "source": [
    "criterion : 손실함수 지정\n",
    "   - nn.CrossEntropyLoss()의 경우 기본적으로 LogSoftmax()가 내장\n",
    "\n",
    "optimizer : 최적화 함수 지정\n",
    "   - model.parameters()를 통해 model의 파라미터들을 할당\n",
    "   - lr : learning_rate 지정"
   ]
  },
  {
   "cell_type": "code",
   "execution_count": null,
   "metadata": {
    "Collapsed": "false",
    "colab": {},
    "colab_type": "code",
    "id": "aaaWg1xsXbI4"
   },
   "outputs": [],
   "source": [
    "import torch.optim as optim\n",
    "\n",
    "criterion = nn.CrossEntropyLoss()\n",
    "optimizer = optim.Adam(net.parameters(), lr=0.00001)"
   ]
  },
  {
   "cell_type": "markdown",
   "metadata": {
    "Collapsed": "false",
    "colab_type": "text",
    "id": "dSZ6ZoBctp92"
   },
   "source": [
    " GPU 연산을 하기위해선 텐서를 GPU 연산이 가능한 자료형으로 변환해야함\n",
    "\n",
    " GPU 연산이 가능한 Tensor를 만드는 것은 device 인수에 GPU 디바이스 객체를 입력하거나 문자열을 입력"
   ]
  },
  {
   "cell_type": "code",
   "execution_count": 127,
   "metadata": {
    "Collapsed": "false",
    "colab": {
     "base_uri": "https://localhost:8080/",
     "height": 34
    },
    "colab_type": "code",
    "executionInfo": {
     "elapsed": 6241,
     "status": "ok",
     "timestamp": 1584619626538,
     "user": {
      "displayName": "오진석",
      "photoUrl": "",
      "userId": "12229120938967938448"
     },
     "user_tz": -540
    },
    "id": "Qj6piOUDXbLt",
    "outputId": "f6bd7390-798a-4e53-ff5c-043fda749bbd"
   },
   "outputs": [
    {
     "name": "stdout",
     "output_type": "stream",
     "text": [
      "cuda\n"
     ]
    }
   ],
   "source": [
    "if torch.cuda.is_available():\n",
    "    device = torch.device(\"cuda\") \n",
    "print(device)\n",
    "\n",
    "net = net.to(device)"
   ]
  },
  {
   "cell_type": "code",
   "execution_count": 128,
   "metadata": {
    "Collapsed": "false",
    "colab": {
     "base_uri": "https://localhost:8080/",
     "height": 374
    },
    "colab_type": "code",
    "executionInfo": {
     "elapsed": 38058,
     "status": "ok",
     "timestamp": 1584619658363,
     "user": {
      "displayName": "오진석",
      "photoUrl": "",
      "userId": "12229120938967938448"
     },
     "user_tz": -540
    },
    "id": "P5Xdo6TnXbOY",
    "outputId": "006013d2-d404-4be7-c1ac-5b63e494a249"
   },
   "outputs": [
    {
     "name": "stdout",
     "output_type": "stream",
     "text": [
      "[1,   165] loss: 18.599\n",
      "[2,   165] loss: 17.159\n",
      "[3,   165] loss: 14.395\n",
      "[4,   165] loss: 11.057\n",
      "[5,   165] loss: 8.210\n",
      "[6,   165] loss: 6.185\n",
      "[7,   165] loss: 4.824\n",
      "[8,   165] loss: 3.925\n",
      "[9,   165] loss: 3.323\n",
      "[10,   165] loss: 2.881\n",
      "[11,   165] loss: 2.580\n",
      "[12,   165] loss: 2.328\n",
      "[13,   165] loss: 2.132\n",
      "[14,   165] loss: 1.971\n",
      "[15,   165] loss: 1.848\n",
      "[16,   165] loss: 1.740\n",
      "[17,   165] loss: 1.660\n",
      "[18,   165] loss: 1.579\n",
      "[19,   165] loss: 1.523\n",
      "[20,   165] loss: 1.458\n",
      "Finished Training\n"
     ]
    }
   ],
   "source": [
    "num_epochs = 20\n",
    "for epoch in range(num_epochs):  # loop over the dataset multiple times\n",
    "\n",
    "    running_loss = 0.0\n",
    "    for i, data in enumerate(trainloader):\n",
    "        # get the inputs; data is a list of [inputs, labels]\n",
    "        \n",
    "        inputs, labels = data\n",
    "        inputs, labels = inputs.to(device), labels.to(device)\n",
    "        # zero the parameter gradients\n",
    "        optimizer.zero_grad()\n",
    "\n",
    "        # forward + backward + optimize\n",
    "        outputs = net(inputs)\n",
    "        loss = criterion(outputs, labels)\n",
    "        loss.backward()\n",
    "        optimizer.step()\n",
    "\n",
    "        # print statistics\n",
    "        running_loss += loss.item()\n",
    "    print('[%d, %5d] loss: %.3f' %(epoch + 1, i + 1, running_loss / 20))\n",
    "    running_loss = 0.0\n",
    "\n",
    "print('Finished Training')"
   ]
  },
  {
   "cell_type": "code",
   "execution_count": 129,
   "metadata": {
    "Collapsed": "false",
    "colab": {
     "base_uri": "https://localhost:8080/",
     "height": 34
    },
    "colab_type": "code",
    "executionInfo": {
     "elapsed": 38315,
     "status": "ok",
     "timestamp": 1584619658628,
     "user": {
      "displayName": "오진석",
      "photoUrl": "",
      "userId": "12229120938967938448"
     },
     "user_tz": -540
    },
    "id": "VXK0NmqyXbRM",
    "outputId": "aa13fc8b-2b93-43ab-e31b-20cdaa8cfc90"
   },
   "outputs": [
    {
     "name": "stdout",
     "output_type": "stream",
     "text": [
      "[array(8), array(0), array(5), array(3), array(8), array(1), array(9), array(6), array(6), array(0)]\n"
     ]
    }
   ],
   "source": [
    "correct = 0\n",
    "total = 0\n",
    "preds = []\n",
    "with torch.no_grad():\n",
    "    for data in testloader:\n",
    "        images = data\n",
    "        images = images.to(device)\n",
    "        outputs = net(images)\n",
    "        _, predicted = torch.max(outputs.data, 1)\n",
    "        for pred in predicted:\n",
    "          preds.append(pred.cpu().numpy())\n",
    "print(preds[:10])"
   ]
  },
  {
   "cell_type": "code",
   "execution_count": null,
   "metadata": {
    "Collapsed": "false",
    "colab": {},
    "colab_type": "code",
    "id": "6ZFhvbCuXbUF"
   },
   "outputs": [],
   "source": [
    "def makeSub(preds, sample, i):\n",
    "  sample['Category'] = pd.Series(preds)\n",
    "  sample.to_csv('pytorch_sub{}.csv'.format(i), index = False)"
   ]
  },
  {
   "cell_type": "code",
   "execution_count": null,
   "metadata": {
    "Collapsed": "false",
    "colab": {},
    "colab_type": "code",
    "id": "WmIV1cKLXbW1"
   },
   "outputs": [],
   "source": [
    "makeSub(preds, sample_submission, 1)"
   ]
  },
  {
   "cell_type": "markdown",
   "metadata": {
    "Collapsed": "false",
    "colab_type": "text",
    "id": "-8Lelx-kRMj_"
   },
   "source": []
  },
  {
   "cell_type": "markdown",
   "metadata": {
    "Collapsed": "false",
    "colab_type": "text",
    "id": "fNAhy83l_TvL"
   },
   "source": [
    "# ANN"
   ]
  },
  {
   "cell_type": "code",
   "execution_count": null,
   "metadata": {
    "Collapsed": "false",
    "colab": {},
    "colab_type": "code",
    "id": "lsDBvKz2_VSO"
   },
   "outputs": [],
   "source": [
    "# 출처 : https://www.kaggle.com/kanncaa1/pytorch-tutorial-for-deep-learning-lovers\n",
    "class ANNModel(nn.Module):\n",
    "    def __init__(self, input_dim, hidden_dim, output_dim):\n",
    "        super(ANNModel, self).__init__()\n",
    "        # Linear function 1: 784 --> 100\n",
    "        self.fc1 = nn.Linear(input_dim, hidden_dim) \n",
    "        # Non-linearity 1\n",
    "        self.relu1 = nn.ReLU()\n",
    "        # Linear function 2: 100 --> 100\n",
    "        self.fc2 = nn.Linear(hidden_dim, hidden_dim)\n",
    "        # Non-linearity 2\n",
    "        self.tanh2 = nn.Tanh()       \n",
    "        # Linear function 3: 100 --> 100\n",
    "        self.fc3 = nn.Linear(hidden_dim, hidden_dim)\n",
    "        # Non-linearity 3\n",
    "        self.elu3 = nn.ELU()        \n",
    "        # Linear function 4 (readout): 100 --> 10\n",
    "        self.fc4 = nn.Linear(hidden_dim, output_dim)  \n",
    "    \n",
    "    def forward(self, x):\n",
    "        # Linear function 1\n",
    "        out = self.fc1(x)\n",
    "        # Non-linearity 1\n",
    "        out = self.relu1(out)       \n",
    "        # Linear function 2\n",
    "        out = self.fc2(out)\n",
    "        # Non-linearity 2\n",
    "        out = self.tanh2(out)       \n",
    "        # Linear function 2\n",
    "        out = self.fc3(out)\n",
    "        # Non-linearity 2\n",
    "        out = self.elu3(out)      \n",
    "        # Linear function 4 (readout)\n",
    "        out = self.fc4(out)\n",
    "        return out"
   ]
  },
  {
   "cell_type": "code",
   "execution_count": null,
   "metadata": {
    "Collapsed": "false",
    "colab": {},
    "colab_type": "code",
    "id": "lvAwA6pj_ViH"
   },
   "outputs": [],
   "source": [
    "# instantiate ANN\n",
    "input_dim = 28*28 # 그림 사이즈..?\n",
    "hidden_dim = 150 \n",
    "output_dim = 10\n",
    "\n",
    "model = ANNModel(input_dim, hidden_dim, output_dim)"
   ]
  },
  {
   "cell_type": "code",
   "execution_count": null,
   "metadata": {
    "Collapsed": "false",
    "colab": {},
    "colab_type": "code",
    "id": "cDCkqBpq_VkV"
   },
   "outputs": [],
   "source": [
    "criterion = nn.CrossEntropyLoss()\n",
    "# optimizer = optim.SGD(model.parameters(), lr=0.1) # 확률적 경사 하강법\n",
    "optimizer = optim.Adam(model.parameters(), lr=0.00001) # RAdam 을 적용해보고 싶었는데 구글링 실패.."
   ]
  },
  {
   "cell_type": "code",
   "execution_count": 143,
   "metadata": {
    "Collapsed": "false",
    "colab": {
     "base_uri": "https://localhost:8080/",
     "height": 34
    },
    "colab_type": "code",
    "executionInfo": {
     "elapsed": 773,
     "status": "ok",
     "timestamp": 1584620167349,
     "user": {
      "displayName": "오진석",
      "photoUrl": "",
      "userId": "12229120938967938448"
     },
     "user_tz": -540
    },
    "id": "5FJjqkPWLZzQ",
    "outputId": "301041cd-cfe4-4162-9cc5-714130d81feb"
   },
   "outputs": [
    {
     "name": "stdout",
     "output_type": "stream",
     "text": [
      "cuda\n"
     ]
    }
   ],
   "source": [
    "if torch.cuda.is_available():\n",
    "    device = torch.device(\"cuda\") \n",
    "print(device)\n",
    "\n",
    "model = model.to(device)"
   ]
  },
  {
   "cell_type": "code",
   "execution_count": 144,
   "metadata": {
    "Collapsed": "false",
    "colab": {
     "base_uri": "https://localhost:8080/",
     "height": 544
    },
    "colab_type": "code",
    "executionInfo": {
     "elapsed": 51967,
     "status": "ok",
     "timestamp": 1584620220116,
     "user": {
      "displayName": "오진석",
      "photoUrl": "",
      "userId": "12229120938967938448"
     },
     "user_tz": -540
    },
    "id": "cndKxCNj_Vmy",
    "outputId": "5ad3d4bc-d0f0-4453-b3a3-394062b3ed86"
   },
   "outputs": [
    {
     "name": "stdout",
     "output_type": "stream",
     "text": [
      "[1,   165] loss: 18.851\n",
      "[2,   165] loss: 18.315\n",
      "[3,   165] loss: 17.137\n",
      "[4,   165] loss: 15.156\n",
      "[5,   165] loss: 12.800\n",
      "[6,   165] loss: 10.630\n",
      "[7,   165] loss: 8.848\n",
      "[8,   165] loss: 7.430\n",
      "[9,   165] loss: 6.304\n",
      "[10,   165] loss: 5.415\n",
      "[11,   165] loss: 4.709\n",
      "[12,   165] loss: 4.124\n",
      "[13,   165] loss: 3.657\n",
      "[14,   165] loss: 3.286\n",
      "[15,   165] loss: 2.973\n",
      "[16,   165] loss: 2.715\n",
      "[17,   165] loss: 2.517\n",
      "[18,   165] loss: 2.335\n",
      "[19,   165] loss: 2.196\n",
      "[20,   165] loss: 2.073\n",
      "[21,   165] loss: 1.954\n",
      "[22,   165] loss: 1.853\n",
      "[23,   165] loss: 1.781\n",
      "[24,   165] loss: 1.696\n",
      "[25,   165] loss: 1.635\n",
      "[26,   165] loss: 1.577\n",
      "[27,   165] loss: 1.524\n",
      "[28,   165] loss: 1.485\n",
      "[29,   165] loss: 1.437\n",
      "[30,   165] loss: 1.412\n",
      "Finished Training\n"
     ]
    }
   ],
   "source": [
    "from torch.autograd import Variable\n",
    "num_epochs = 30\n",
    "count = 0\n",
    "loss_list = []\n",
    "iteration_list = []\n",
    "for epoch in range(num_epochs):\n",
    "    for i, data in enumerate(trainloader):\n",
    "\n",
    "        inputs, labels = data\n",
    "        inputs, labels = inputs.to(device), labels.to(device)\n",
    "        \n",
    "        # Clear gradients\n",
    "        optimizer.zero_grad()\n",
    "        # Forward propagation\n",
    "        outputs = model(inputs)\n",
    "        # Calculate softmax and ross entropy loss\n",
    "        loss = criterion(outputs, labels)\n",
    "        # Calculating gradients\n",
    "        loss.backward()      \n",
    "        # Update parameters\n",
    "        optimizer.step()\n",
    "        \n",
    "        # print statistics\n",
    "        running_loss += loss.item()\n",
    "    print('[%d, %5d] loss: %.3f' %(epoch + 1, i + 1, running_loss / 20))\n",
    "    running_loss = 0.0\n",
    "\n",
    "print('Finished Training')"
   ]
  },
  {
   "cell_type": "code",
   "execution_count": 145,
   "metadata": {
    "Collapsed": "false",
    "colab": {
     "base_uri": "https://localhost:8080/",
     "height": 34
    },
    "colab_type": "code",
    "executionInfo": {
     "elapsed": 1644,
     "status": "ok",
     "timestamp": 1584620227608,
     "user": {
      "displayName": "오진석",
      "photoUrl": "",
      "userId": "12229120938967938448"
     },
     "user_tz": -540
    },
    "id": "duAU02QT_VpC",
    "outputId": "34a9176d-0f96-4b82-c3f2-7dd657c326e1"
   },
   "outputs": [
    {
     "name": "stdout",
     "output_type": "stream",
     "text": [
      "[array(8), array(0), array(5), array(3), array(8), array(1), array(9), array(6), array(6), array(0)]\n"
     ]
    }
   ],
   "source": [
    "correct = 0\n",
    "total = 0\n",
    "preds = []\n",
    "with torch.no_grad():\n",
    "    for data in testloader:\n",
    "        images = data\n",
    "        images = images.to(device)\n",
    "        outputs = net(images)\n",
    "        _, predicted = torch.max(outputs.data, 1)\n",
    "        for pred in predicted:\n",
    "          preds.append(pred.cpu().numpy())\n",
    "print(preds[:10])"
   ]
  },
  {
   "cell_type": "code",
   "execution_count": null,
   "metadata": {
    "Collapsed": "false",
    "colab": {},
    "colab_type": "code",
    "id": "gZ1AAqcl_VrN"
   },
   "outputs": [],
   "source": [
    "# makeSub(preds, sample_submission, 2)\n",
    "makeSub(preds, sample_submission, 3)"
   ]
  },
  {
   "cell_type": "code",
   "execution_count": null,
   "metadata": {
    "Collapsed": "false",
    "colab": {},
    "colab_type": "code",
    "id": "6WGISDWbN3O1"
   },
   "outputs": [],
   "source": []
  }
 ],
 "metadata": {
  "accelerator": "GPU",
  "colab": {
   "authorship_tag": "ABX9TyO+6elMZD9sRMnhmimPa/KA",
   "mount_file_id": "1BpbOLW5KPTRmqIENsKmSpmsHiIw2i5h0",
   "name": "Pytorch.ipynb",
   "provenance": []
  },
  "kernelspec": {
   "display_name": "Python 3",
   "language": "python",
   "name": "python3"
  },
  "language_info": {
   "codemirror_mode": {
    "name": "ipython",
    "version": 3
   },
   "file_extension": ".py",
   "mimetype": "text/x-python",
   "name": "python",
   "nbconvert_exporter": "python",
   "pygments_lexer": "ipython3",
   "version": "3.7.6"
  }
 },
 "nbformat": 4,
 "nbformat_minor": 4
}
